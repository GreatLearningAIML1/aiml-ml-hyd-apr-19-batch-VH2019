{
  "nbformat": 4,
  "nbformat_minor": 0,
  "metadata": {
    "accelerator": "GPU",
    "colab": {
      "name": "Stance_Detection_for_the_Fake_News_Challenge_Questions.ipynb",
      "provenance": [],
      "collapsed_sections": []
    },
    "kernelspec": {
      "display_name": "Python 3",
      "language": "python",
      "name": "python3"
    },
    "language_info": {
      "codemirror_mode": {
        "name": "ipython",
        "version": 3
      },
      "file_extension": ".py",
      "mimetype": "text/x-python",
      "name": "python",
      "nbconvert_exporter": "python",
      "pygments_lexer": "ipython3",
      "version": "3.7.3"
    }
  },
  "cells": [
    {
      "cell_type": "markdown",
      "metadata": {
        "colab_type": "text",
        "id": "QI9jhXKPCFcJ"
      },
      "source": [
        "# Stance Detection for the Fake News Challenge\n",
        "\n",
        "## Identifying Textual Relationships with Deep Neural Nets\n",
        "\n",
        "### Check the problem context [here](https://drive.google.com/open?id=1KfWaZyQdGBw8AUTacJ2yY86Yxgw2Xwq0).\n",
        "\n",
        "### Download files required for the project from [here](https://drive.google.com/open?id=10yf39ifEwVihw4xeJJR60oeFBY30Y5J8)."
      ]
    },
    {
      "cell_type": "markdown",
      "metadata": {
        "id": "iTCIms1xjONg",
        "colab_type": "text"
      },
      "source": [
        "AIML - Sequential models in NLP - Project 2\n",
        " \n",
        " \n",
        "The Real Problem \n",
        " \n",
        "The goal of the Fake News Challenge is to explore how artificial intelligence technologies, particularly machine learning and natural language processing, might be leveraged to combat the fake news problem. We believe that these AI technologies hold promise for significantly automating parts of the procedure human fact checkers use today to determine if a story is real or a hoax. \n",
        " \n",
        "Assessing the veracity of a news story is a complex and cumbersome task, even for trained experts. Fortunately, the process can be broken down into steps or stages. A helpful first step towards identifying fake news is to understand what other news organizations are saying about the topic. We believe automating this process, called Stance Detection, could serve as a useful building block in an AI-assisted fact-checking pipeline. \n",
        " \n",
        "Stance Detection involves estimating the relative perspective (or stance) of two pieces of text relative to a topic, claim or issue. This extends the work of Ferreira & Vlachos. The task is to estimate the stance of a body text from a news article relative to a headline. Specifically, the body text may agree, disagree, discuss or be unrelated to the headline. \n",
        " \n",
        "Project Description \n",
        " \n",
        "Given the huge impact of social networks, online content plays an important role in forming or changing the opinions of people. Unlike traditional journalism where only certain news organizations can publish content, online journalism has given chance even for individuals to publish. This has its own advantages like individual empowerment but has given a chance to a lot of malicious entities to spread misinformation for their own benefit. As reported by many organizations in recent history, this even has an influence on major events like the outcome of elections. Therefore, it is of great importance now, to have some sort of automated classification of news stories. \t \t \t \t \n",
        " \n",
        "In this work, we will implement different deep neural architectures using word embeddings for identifying the stance detection of different news stories. \n",
        " \n",
        " \n",
        " \n",
        "Dataset \n",
        " \n",
        "The dataset is taken from Fake News Challenge, where the goal of the challenge is not to directly identify whether a headline or article is “fake” or not, which is arguably a highly subjective question, and one that even skilled humans may have difficulty answering. \n",
        " \n",
        "The challenge is organized around the more well-defined problem of “stance detection,” which involves comparing a headline with a body of text from a news article to determine what relationship (if any) exists between the two.  \n",
        " \n",
        "There are 4 possible classifications:  \n",
        " \n",
        "1.\tThe article text agrees with the headline.  \n",
        "2.\tThe article text disagrees with the headline.  \n",
        "3.\tThe article text is a discussion of the headline, without taking a position on it.\t \n",
        "4.\tThe article text is unrelated to the headline (i.e. it doesn’t address the same topic).  \n",
        " \n",
        " \n",
        "Presumably, a classifier that can solve the stance detection problem with high accuracy might effectively be used either as a tool for humans working to identify fake news (e.g., retrieving articles that agree, disagree and discuss a headline), or as a building block for a more elaborate future AI system that would try to identify the actual truthfulness of news stories (e.g., using credible sources to classify). \n",
        " \n",
        " \n",
        "  \n",
        "Overview \n",
        " \n",
        "Step 1: Understanding how to convert words into vectors and make them ready for the model. \n",
        "This is an important step and will be the same for almost any problem in NLP when dealing with words. \n",
        " \n",
        "Step 2: Understanding the working of Sequential Models like RNN, LSTM.. and practically building them in Keras and build the model ready. \n",
        " \n",
        "Step 3: Train the model and report the accuracy score. \n",
        " \n",
        "Step 4: Add checkpoints as callbacks to the model and save the model for each epoch. This callback saves the model after each epoch, which can be handy for when you are running long-term training. By loading the saved weight files we can start training the model which starts the learning from there. \n",
        " \n",
        "Step 5 (Optional): Add attention to the above model and report the change in accuracy. And explain how and why attention has improved (or disturbed) the model. \n"
      ]
    },
    {
      "cell_type": "code",
      "metadata": {
        "id": "XgldEusf18bC",
        "colab_type": "code",
        "colab": {
          "base_uri": "https://localhost:8080/",
          "height": 50
        },
        "outputId": "fc244833-2f0e-4d35-f705-1c1e898f18b6"
      },
      "source": [
        "import tensorflow as tf\n",
        "print (\"TensorFlow version: \" + tf.__version__)"
      ],
      "execution_count": 1,
      "outputs": [
        {
          "output_type": "stream",
          "text": [
            "ERROR! Session/line number was not unique in database. History logging moved to new session 59\n",
            "TensorFlow version: 2.2.0-rc1\n"
          ],
          "name": "stdout"
        }
      ]
    },
    {
      "cell_type": "code",
      "metadata": {
        "id": "e3ZDbRAgaL8F",
        "colab_type": "code",
        "colab": {
          "base_uri": "https://localhost:8080/",
          "height": 743
        },
        "outputId": "1ae52be2-77fc-41b4-e210-a739a1f70128"
      },
      "source": [
        "#conda install keras, tensorflow\n",
        "!pip install tensorflow==1.14.0"
      ],
      "execution_count": 4,
      "outputs": [
        {
          "output_type": "stream",
          "text": [
            "Collecting tensorflow==1.14.0\n",
            "\u001b[?25l  Downloading https://files.pythonhosted.org/packages/de/f0/96fb2e0412ae9692dbf400e5b04432885f677ad6241c088ccc5fe7724d69/tensorflow-1.14.0-cp36-cp36m-manylinux1_x86_64.whl (109.2MB)\n",
            "\u001b[K     |████████████████████████████████| 109.2MB 28kB/s \n",
            "\u001b[?25hRequirement already satisfied: wrapt>=1.11.1 in /usr/local/lib/python3.6/dist-packages (from tensorflow==1.14.0) (1.12.1)\n",
            "Requirement already satisfied: absl-py>=0.7.0 in /usr/local/lib/python3.6/dist-packages (from tensorflow==1.14.0) (0.9.0)\n",
            "Requirement already satisfied: protobuf>=3.6.1 in /usr/local/lib/python3.6/dist-packages (from tensorflow==1.14.0) (3.10.0)\n",
            "Requirement already satisfied: wheel>=0.26 in /usr/local/lib/python3.6/dist-packages (from tensorflow==1.14.0) (0.34.2)\n",
            "Requirement already satisfied: termcolor>=1.1.0 in /usr/local/lib/python3.6/dist-packages (from tensorflow==1.14.0) (1.1.0)\n",
            "Requirement already satisfied: six>=1.10.0 in /usr/local/lib/python3.6/dist-packages (from tensorflow==1.14.0) (1.12.0)\n",
            "Collecting tensorflow-estimator<1.15.0rc0,>=1.14.0rc0\n",
            "\u001b[?25l  Downloading https://files.pythonhosted.org/packages/3c/d5/21860a5b11caf0678fbc8319341b0ae21a07156911132e0e71bffed0510d/tensorflow_estimator-1.14.0-py2.py3-none-any.whl (488kB)\n",
            "\u001b[K     |████████████████████████████████| 491kB 62.9MB/s \n",
            "\u001b[?25hRequirement already satisfied: gast>=0.2.0 in /usr/local/lib/python3.6/dist-packages (from tensorflow==1.14.0) (0.3.3)\n",
            "Requirement already satisfied: google-pasta>=0.1.6 in /usr/local/lib/python3.6/dist-packages (from tensorflow==1.14.0) (0.2.0)\n",
            "Requirement already satisfied: keras-preprocessing>=1.0.5 in /usr/local/lib/python3.6/dist-packages (from tensorflow==1.14.0) (1.1.0)\n",
            "Collecting tensorboard<1.15.0,>=1.14.0\n",
            "\u001b[?25l  Downloading https://files.pythonhosted.org/packages/91/2d/2ed263449a078cd9c8a9ba50ebd50123adf1f8cfbea1492f9084169b89d9/tensorboard-1.14.0-py3-none-any.whl (3.1MB)\n",
            "\u001b[K     |████████████████████████████████| 3.2MB 52.7MB/s \n",
            "\u001b[?25hRequirement already satisfied: keras-applications>=1.0.6 in /usr/local/lib/python3.6/dist-packages (from tensorflow==1.14.0) (1.0.8)\n",
            "Requirement already satisfied: grpcio>=1.8.6 in /usr/local/lib/python3.6/dist-packages (from tensorflow==1.14.0) (1.27.2)\n",
            "Requirement already satisfied: numpy<2.0,>=1.14.5 in /usr/local/lib/python3.6/dist-packages (from tensorflow==1.14.0) (1.18.2)\n",
            "Requirement already satisfied: astor>=0.6.0 in /usr/local/lib/python3.6/dist-packages (from tensorflow==1.14.0) (0.8.1)\n",
            "Requirement already satisfied: setuptools in /usr/local/lib/python3.6/dist-packages (from protobuf>=3.6.1->tensorflow==1.14.0) (46.0.0)\n",
            "Requirement already satisfied: werkzeug>=0.11.15 in /usr/local/lib/python3.6/dist-packages (from tensorboard<1.15.0,>=1.14.0->tensorflow==1.14.0) (1.0.0)\n",
            "Requirement already satisfied: markdown>=2.6.8 in /usr/local/lib/python3.6/dist-packages (from tensorboard<1.15.0,>=1.14.0->tensorflow==1.14.0) (3.2.1)\n",
            "Requirement already satisfied: h5py in /usr/local/lib/python3.6/dist-packages (from keras-applications>=1.0.6->tensorflow==1.14.0) (2.10.0)\n",
            "Installing collected packages: tensorflow-estimator, tensorboard, tensorflow\n",
            "  Found existing installation: tensorflow-estimator 2.2.0rc0\n",
            "    Uninstalling tensorflow-estimator-2.2.0rc0:\n",
            "      Successfully uninstalled tensorflow-estimator-2.2.0rc0\n",
            "  Found existing installation: tensorboard 2.1.1\n",
            "    Uninstalling tensorboard-2.1.1:\n",
            "      Successfully uninstalled tensorboard-2.1.1\n",
            "  Found existing installation: tensorflow 2.2.0rc1\n",
            "    Uninstalling tensorflow-2.2.0rc1:\n",
            "      Successfully uninstalled tensorflow-2.2.0rc1\n",
            "Successfully installed tensorboard-1.14.0 tensorflow-1.14.0 tensorflow-estimator-1.14.0\n"
          ],
          "name": "stdout"
        },
        {
          "output_type": "display_data",
          "data": {
            "application/vnd.colab-display-data+json": {
              "pip_warning": {
                "packages": [
                  "tensorboard",
                  "tensorflow"
                ]
              }
            }
          },
          "metadata": {
            "tags": []
          }
        }
      ]
    },
    {
      "cell_type": "code",
      "metadata": {
        "id": "dc2lTbVseRKA",
        "colab_type": "code",
        "colab": {
          "base_uri": "https://localhost:8080/",
          "height": 502
        },
        "outputId": "cb411f5e-4893-49f9-c552-c0bd6dadd2fa"
      },
      "source": [
        "import keras"
      ],
      "execution_count": 1,
      "outputs": [
        {
          "output_type": "stream",
          "text": [
            "Using TensorFlow backend.\n",
            "/usr/local/lib/python3.6/dist-packages/tensorflow/python/framework/dtypes.py:516: FutureWarning: Passing (type, 1) or '1type' as a synonym of type is deprecated; in a future version of numpy, it will be understood as (type, (1,)) / '(1,)type'.\n",
            "  _np_qint8 = np.dtype([(\"qint8\", np.int8, 1)])\n",
            "/usr/local/lib/python3.6/dist-packages/tensorflow/python/framework/dtypes.py:517: FutureWarning: Passing (type, 1) or '1type' as a synonym of type is deprecated; in a future version of numpy, it will be understood as (type, (1,)) / '(1,)type'.\n",
            "  _np_quint8 = np.dtype([(\"quint8\", np.uint8, 1)])\n",
            "/usr/local/lib/python3.6/dist-packages/tensorflow/python/framework/dtypes.py:518: FutureWarning: Passing (type, 1) or '1type' as a synonym of type is deprecated; in a future version of numpy, it will be understood as (type, (1,)) / '(1,)type'.\n",
            "  _np_qint16 = np.dtype([(\"qint16\", np.int16, 1)])\n",
            "/usr/local/lib/python3.6/dist-packages/tensorflow/python/framework/dtypes.py:519: FutureWarning: Passing (type, 1) or '1type' as a synonym of type is deprecated; in a future version of numpy, it will be understood as (type, (1,)) / '(1,)type'.\n",
            "  _np_quint16 = np.dtype([(\"quint16\", np.uint16, 1)])\n",
            "/usr/local/lib/python3.6/dist-packages/tensorflow/python/framework/dtypes.py:520: FutureWarning: Passing (type, 1) or '1type' as a synonym of type is deprecated; in a future version of numpy, it will be understood as (type, (1,)) / '(1,)type'.\n",
            "  _np_qint32 = np.dtype([(\"qint32\", np.int32, 1)])\n",
            "/usr/local/lib/python3.6/dist-packages/tensorflow/python/framework/dtypes.py:525: FutureWarning: Passing (type, 1) or '1type' as a synonym of type is deprecated; in a future version of numpy, it will be understood as (type, (1,)) / '(1,)type'.\n",
            "  np_resource = np.dtype([(\"resource\", np.ubyte, 1)])\n",
            "/usr/local/lib/python3.6/dist-packages/tensorboard/compat/tensorflow_stub/dtypes.py:541: FutureWarning: Passing (type, 1) or '1type' as a synonym of type is deprecated; in a future version of numpy, it will be understood as (type, (1,)) / '(1,)type'.\n",
            "  _np_qint8 = np.dtype([(\"qint8\", np.int8, 1)])\n",
            "/usr/local/lib/python3.6/dist-packages/tensorboard/compat/tensorflow_stub/dtypes.py:542: FutureWarning: Passing (type, 1) or '1type' as a synonym of type is deprecated; in a future version of numpy, it will be understood as (type, (1,)) / '(1,)type'.\n",
            "  _np_quint8 = np.dtype([(\"quint8\", np.uint8, 1)])\n",
            "/usr/local/lib/python3.6/dist-packages/tensorboard/compat/tensorflow_stub/dtypes.py:543: FutureWarning: Passing (type, 1) or '1type' as a synonym of type is deprecated; in a future version of numpy, it will be understood as (type, (1,)) / '(1,)type'.\n",
            "  _np_qint16 = np.dtype([(\"qint16\", np.int16, 1)])\n",
            "/usr/local/lib/python3.6/dist-packages/tensorboard/compat/tensorflow_stub/dtypes.py:544: FutureWarning: Passing (type, 1) or '1type' as a synonym of type is deprecated; in a future version of numpy, it will be understood as (type, (1,)) / '(1,)type'.\n",
            "  _np_quint16 = np.dtype([(\"quint16\", np.uint16, 1)])\n",
            "/usr/local/lib/python3.6/dist-packages/tensorboard/compat/tensorflow_stub/dtypes.py:545: FutureWarning: Passing (type, 1) or '1type' as a synonym of type is deprecated; in a future version of numpy, it will be understood as (type, (1,)) / '(1,)type'.\n",
            "  _np_qint32 = np.dtype([(\"qint32\", np.int32, 1)])\n",
            "/usr/local/lib/python3.6/dist-packages/tensorboard/compat/tensorflow_stub/dtypes.py:550: FutureWarning: Passing (type, 1) or '1type' as a synonym of type is deprecated; in a future version of numpy, it will be understood as (type, (1,)) / '(1,)type'.\n",
            "  np_resource = np.dtype([(\"resource\", np.ubyte, 1)])\n"
          ],
          "name": "stderr"
        },
        {
          "output_type": "display_data",
          "data": {
            "text/html": [
              "<p style=\"color: red;\">\n",
              "The default version of TensorFlow in Colab will switch to TensorFlow 2.x on the 27th of March, 2020.<br>\n",
              "We recommend you <a href=\"https://www.tensorflow.org/guide/migrate\" target=\"_blank\">upgrade</a> now\n",
              "or ensure your notebook will continue to use TensorFlow 1.x via the <code>%tensorflow_version 1.x</code> magic:\n",
              "<a href=\"https://colab.research.google.com/notebooks/tensorflow_version.ipynb\" target=\"_blank\">more info</a>.</p>\n"
            ],
            "text/plain": [
              "<IPython.core.display.HTML object>"
            ]
          },
          "metadata": {
            "tags": []
          }
        }
      ]
    },
    {
      "cell_type": "markdown",
      "metadata": {
        "colab_type": "text",
        "id": "vSNgdEMpenpE"
      },
      "source": [
        "## Step1: Load the given dataset  \n",
        "\n",
        "1. Mount the google drive\n",
        "\n",
        "2. Import Glove embeddings\n",
        "\n",
        "3. Import the test and train datasets"
      ]
    },
    {
      "cell_type": "markdown",
      "metadata": {
        "colab_type": "text",
        "id": "aPOZRohMiSpQ"
      },
      "source": [
        "### Mount the google drive to access required project files\n",
        "\n",
        "Run the below commands"
      ]
    },
    {
      "cell_type": "code",
      "metadata": {
        "colab_type": "code",
        "id": "7AS39z1XgFpT",
        "colab": {}
      },
      "source": [
        "from google.colab import drive"
      ],
      "execution_count": 0,
      "outputs": []
    },
    {
      "cell_type": "code",
      "metadata": {
        "colab_type": "code",
        "id": "S_7yCFdzgFsH",
        "colab": {
          "base_uri": "https://localhost:8080/",
          "height": 121
        },
        "outputId": "f7f2bff3-5a36-4310-cddf-c82749b44aef"
      },
      "source": [
        "drive.mount('/content/drive/')"
      ],
      "execution_count": 3,
      "outputs": [
        {
          "output_type": "stream",
          "text": [
            "Go to this URL in a browser: https://accounts.google.com/o/oauth2/auth?client_id=947318989803-6bn6qk8qdgf4n4g3pfee6491hc0brc4i.apps.googleusercontent.com&redirect_uri=urn%3aietf%3awg%3aoauth%3a2.0%3aoob&response_type=code&scope=email%20https%3a%2f%2fwww.googleapis.com%2fauth%2fdocs.test%20https%3a%2f%2fwww.googleapis.com%2fauth%2fdrive%20https%3a%2f%2fwww.googleapis.com%2fauth%2fdrive.photos.readonly%20https%3a%2f%2fwww.googleapis.com%2fauth%2fpeopleapi.readonly\n",
            "\n",
            "Enter your authorization code:\n",
            "··········\n",
            "Mounted at /content/drive/\n"
          ],
          "name": "stdout"
        }
      ]
    },
    {
      "cell_type": "markdown",
      "metadata": {
        "colab_type": "text",
        "id": "bhZdJ4zpwWzN"
      },
      "source": [
        "#### Path for Project files on google drive\n",
        "\n",
        "**Note:** You need to change this path according where you have kept the files in google drive. "
      ]
    },
    {
      "cell_type": "code",
      "metadata": {
        "colab_type": "code",
        "id": "Aol97RUogFuS",
        "colab": {}
      },
      "source": [
        "project_path = \"/content/drive/My Drive/AIML/FAKE_NEWS/\""
      ],
      "execution_count": 0,
      "outputs": []
    },
    {
      "cell_type": "markdown",
      "metadata": {
        "colab_type": "text",
        "id": "2ly0VxAnwJ2f"
      },
      "source": [
        "### Loading the Glove Embeddings"
      ]
    },
    {
      "cell_type": "code",
      "metadata": {
        "colab_type": "code",
        "id": "xmsPn6PF-cgL",
        "colab": {}
      },
      "source": [
        "from zipfile import ZipFile\n",
        "with ZipFile('/content/drive/My Drive/AIML/FAKE_NEWS/Fake News Challenge-20200223T063418Z-001.zip', 'r') as z:\n",
        "  z.extractall()"
      ],
      "execution_count": 0,
      "outputs": []
    },
    {
      "cell_type": "code",
      "metadata": {
        "id": "oZ4Qm0R8Us4M",
        "colab_type": "code",
        "colab": {}
      },
      "source": [
        "from zipfile import ZipFile\n",
        "with ZipFile('/content/Fake News Challenge/glove.6B.zip', 'r') as z:\n",
        "  z.extractall()"
      ],
      "execution_count": 0,
      "outputs": []
    },
    {
      "cell_type": "markdown",
      "metadata": {
        "colab_type": "text",
        "id": "TjLJEQ_PwcGi"
      },
      "source": [
        "# Load the dataset [5 Marks]\n",
        "\n",
        "1. Using [read_csv()](https://pandas.pydata.org/pandas-docs/stable/generated/pandas.read_csv.html) in pandas load the given train datasets files **`train_bodies.csv`** and **`train_stances.csv`**\n",
        "\n",
        "2. Using [merge](https://pandas.pydata.org/pandas-docs/stable/generated/pandas.DataFrame.merge.html) command in pandas merge the two datasets based on the Body ID. \n",
        "\n",
        "Note: Save the final merged dataset in a dataframe with name **`dataset`**."
      ]
    },
    {
      "cell_type": "code",
      "metadata": {
        "id": "CYqr9tH9tLLq",
        "colab_type": "code",
        "colab": {}
      },
      "source": [
        "#LOAD TRAIN DATASET"
      ],
      "execution_count": 0,
      "outputs": []
    },
    {
      "cell_type": "code",
      "metadata": {
        "colab_type": "code",
        "id": "7gXO1WZ-gFwm",
        "colab": {}
      },
      "source": [
        "# Utilities\n",
        "import os, zipfile, sys, warnings\n",
        "from time import time\n",
        "\n",
        "# Numerical calculation\n",
        "import numpy as np\n",
        "\n",
        "# Data Handling\n",
        "import pandas as pd\n",
        "\n",
        "# Data Visualization\n",
        "import matplotlib.pyplot as plt\n",
        "import seaborn as sns\n",
        "\n",
        "# Sequential Modeling\n",
        "import tensorflow as tf\n",
        "import keras.backend as K\n",
        "from keras import initializers\n",
        "from keras.engine.topology import Layer, InputSpec\n",
        "from keras.models import Model, Sequential\n",
        "from keras.layers import Dense, LSTM, TimeDistributed, Conv1D, MaxPooling1D\n",
        "from keras.layers import Embedding, Activation, Dropout, Flatten, Bidirectional\n",
        "from keras.layers import Permute, merge, Input, multiply, concatenate\n",
        "from keras.callbacks import Callback, ModelCheckpoint, EarlyStopping\n",
        "from keras.constraints import max_norm, unit_norm\n",
        "\n",
        "# Preprocessing and NLP library\n",
        "from keras.preprocessing.text import Tokenizer, text_to_word_sequence\n",
        "from keras.preprocessing.sequence import pad_sequences\n",
        "import nltk\n",
        "\n",
        "# Evaluation metrics\n",
        "from sklearn.metrics import confusion_matrix, classification_report, roc_curve, auc, accuracy_score, precision_recall_curve"
      ],
      "execution_count": 0,
      "outputs": []
    },
    {
      "cell_type": "code",
      "metadata": {
        "id": "XCEMV1Gin_nf",
        "colab_type": "code",
        "colab": {}
      },
      "source": [
        "# Configure for any default setting of any library\n",
        "warnings.filterwarnings('ignore')\n",
        "get_ipython().magic(u'matplotlib inline')\n",
        "plt.style.use('ggplot')"
      ],
      "execution_count": 0,
      "outputs": []
    },
    {
      "cell_type": "code",
      "metadata": {
        "id": "46mjLQtJoYLJ",
        "colab_type": "code",
        "colab": {
          "base_uri": "https://localhost:8080/",
          "height": 34
        },
        "outputId": "0f8d9a54-ee77-4edf-feac-93877f8abb53"
      },
      "source": [
        "pwd"
      ],
      "execution_count": 12,
      "outputs": [
        {
          "output_type": "execute_result",
          "data": {
            "text/plain": [
              "'/content'"
            ]
          },
          "metadata": {
            "tags": []
          },
          "execution_count": 12
        }
      ]
    },
    {
      "cell_type": "code",
      "metadata": {
        "colab_type": "code",
        "id": "kosAWskdOOT8",
        "colab": {}
      },
      "source": [
        "# Load the news bodies and stances csvs\n",
        "train_bodies = pd.read_csv('/content/Fake News Challenge/train_bodies.csv')\n",
        "train_stances = pd.read_csv('/content/Fake News Challenge/train_stances.csv')"
      ],
      "execution_count": 0,
      "outputs": []
    },
    {
      "cell_type": "code",
      "metadata": {
        "id": "eM3G18HqorRS",
        "colab_type": "code",
        "colab": {
          "base_uri": "https://localhost:8080/",
          "height": 34
        },
        "outputId": "fd7ca8c9-71c5-48bd-e4c2-21b1c6920d6b"
      },
      "source": [
        "train_bodies.columns"
      ],
      "execution_count": 14,
      "outputs": [
        {
          "output_type": "execute_result",
          "data": {
            "text/plain": [
              "Index(['Body ID', 'articleBody'], dtype='object')"
            ]
          },
          "metadata": {
            "tags": []
          },
          "execution_count": 14
        }
      ]
    },
    {
      "cell_type": "code",
      "metadata": {
        "id": "-Y84YwjirdcE",
        "colab_type": "code",
        "colab": {
          "base_uri": "https://localhost:8080/",
          "height": 195
        },
        "outputId": "8347d5a9-ded1-4d36-ba99-159733497809"
      },
      "source": [
        "train_bodies.head()"
      ],
      "execution_count": 15,
      "outputs": [
        {
          "output_type": "execute_result",
          "data": {
            "text/html": [
              "<div>\n",
              "<style scoped>\n",
              "    .dataframe tbody tr th:only-of-type {\n",
              "        vertical-align: middle;\n",
              "    }\n",
              "\n",
              "    .dataframe tbody tr th {\n",
              "        vertical-align: top;\n",
              "    }\n",
              "\n",
              "    .dataframe thead th {\n",
              "        text-align: right;\n",
              "    }\n",
              "</style>\n",
              "<table border=\"1\" class=\"dataframe\">\n",
              "  <thead>\n",
              "    <tr style=\"text-align: right;\">\n",
              "      <th></th>\n",
              "      <th>Body ID</th>\n",
              "      <th>articleBody</th>\n",
              "    </tr>\n",
              "  </thead>\n",
              "  <tbody>\n",
              "    <tr>\n",
              "      <th>0</th>\n",
              "      <td>0</td>\n",
              "      <td>A small meteorite crashed into a wooded area i...</td>\n",
              "    </tr>\n",
              "    <tr>\n",
              "      <th>1</th>\n",
              "      <td>4</td>\n",
              "      <td>Last week we hinted at what was to come as Ebo...</td>\n",
              "    </tr>\n",
              "    <tr>\n",
              "      <th>2</th>\n",
              "      <td>5</td>\n",
              "      <td>(NEWSER) – Wonder how long a Quarter Pounder w...</td>\n",
              "    </tr>\n",
              "    <tr>\n",
              "      <th>3</th>\n",
              "      <td>6</td>\n",
              "      <td>Posting photos of a gun-toting child online, I...</td>\n",
              "    </tr>\n",
              "    <tr>\n",
              "      <th>4</th>\n",
              "      <td>7</td>\n",
              "      <td>At least 25 suspected Boko Haram insurgents we...</td>\n",
              "    </tr>\n",
              "  </tbody>\n",
              "</table>\n",
              "</div>"
            ],
            "text/plain": [
              "   Body ID                                        articleBody\n",
              "0        0  A small meteorite crashed into a wooded area i...\n",
              "1        4  Last week we hinted at what was to come as Ebo...\n",
              "2        5  (NEWSER) – Wonder how long a Quarter Pounder w...\n",
              "3        6  Posting photos of a gun-toting child online, I...\n",
              "4        7  At least 25 suspected Boko Haram insurgents we..."
            ]
          },
          "metadata": {
            "tags": []
          },
          "execution_count": 15
        }
      ]
    },
    {
      "cell_type": "code",
      "metadata": {
        "id": "THQ7LQptovG6",
        "colab_type": "code",
        "colab": {
          "base_uri": "https://localhost:8080/",
          "height": 34
        },
        "outputId": "41693817-d688-483c-83d8-282d1cb55479"
      },
      "source": [
        "train_stances.columns"
      ],
      "execution_count": 16,
      "outputs": [
        {
          "output_type": "execute_result",
          "data": {
            "text/plain": [
              "Index(['Headline', 'Body ID', 'Stance'], dtype='object')"
            ]
          },
          "metadata": {
            "tags": []
          },
          "execution_count": 16
        }
      ]
    },
    {
      "cell_type": "code",
      "metadata": {
        "id": "kd_LxssArgzi",
        "colab_type": "code",
        "colab": {
          "base_uri": "https://localhost:8080/",
          "height": 195
        },
        "outputId": "d77a9105-b30f-407f-cf3d-ff522135a0b0"
      },
      "source": [
        "train_stances.head()"
      ],
      "execution_count": 17,
      "outputs": [
        {
          "output_type": "execute_result",
          "data": {
            "text/html": [
              "<div>\n",
              "<style scoped>\n",
              "    .dataframe tbody tr th:only-of-type {\n",
              "        vertical-align: middle;\n",
              "    }\n",
              "\n",
              "    .dataframe tbody tr th {\n",
              "        vertical-align: top;\n",
              "    }\n",
              "\n",
              "    .dataframe thead th {\n",
              "        text-align: right;\n",
              "    }\n",
              "</style>\n",
              "<table border=\"1\" class=\"dataframe\">\n",
              "  <thead>\n",
              "    <tr style=\"text-align: right;\">\n",
              "      <th></th>\n",
              "      <th>Headline</th>\n",
              "      <th>Body ID</th>\n",
              "      <th>Stance</th>\n",
              "    </tr>\n",
              "  </thead>\n",
              "  <tbody>\n",
              "    <tr>\n",
              "      <th>0</th>\n",
              "      <td>Police find mass graves with at least '15 bodi...</td>\n",
              "      <td>712</td>\n",
              "      <td>unrelated</td>\n",
              "    </tr>\n",
              "    <tr>\n",
              "      <th>1</th>\n",
              "      <td>Hundreds of Palestinians flee floods in Gaza a...</td>\n",
              "      <td>158</td>\n",
              "      <td>agree</td>\n",
              "    </tr>\n",
              "    <tr>\n",
              "      <th>2</th>\n",
              "      <td>Christian Bale passes on role of Steve Jobs, a...</td>\n",
              "      <td>137</td>\n",
              "      <td>unrelated</td>\n",
              "    </tr>\n",
              "    <tr>\n",
              "      <th>3</th>\n",
              "      <td>HBO and Apple in Talks for $15/Month Apple TV ...</td>\n",
              "      <td>1034</td>\n",
              "      <td>unrelated</td>\n",
              "    </tr>\n",
              "    <tr>\n",
              "      <th>4</th>\n",
              "      <td>Spider burrowed through tourist's stomach and ...</td>\n",
              "      <td>1923</td>\n",
              "      <td>disagree</td>\n",
              "    </tr>\n",
              "  </tbody>\n",
              "</table>\n",
              "</div>"
            ],
            "text/plain": [
              "                                            Headline  Body ID     Stance\n",
              "0  Police find mass graves with at least '15 bodi...      712  unrelated\n",
              "1  Hundreds of Palestinians flee floods in Gaza a...      158      agree\n",
              "2  Christian Bale passes on role of Steve Jobs, a...      137  unrelated\n",
              "3  HBO and Apple in Talks for $15/Month Apple TV ...     1034  unrelated\n",
              "4  Spider burrowed through tourist's stomach and ...     1923   disagree"
            ]
          },
          "metadata": {
            "tags": []
          },
          "execution_count": 17
        }
      ]
    },
    {
      "cell_type": "code",
      "metadata": {
        "id": "1I5GkEfgorUM",
        "colab_type": "code",
        "colab": {}
      },
      "source": [
        "# Merge both the dataset to form a single dataset\n",
        "dataset = pd.merge(train_bodies[['Body ID', 'articleBody']],\n",
        "                   train_stances[['Body ID', 'Headline', 'Stance']], \n",
        "                   left_on='Body ID', \n",
        "                   right_on='Body ID', \n",
        "                   how='inner')"
      ],
      "execution_count": 0,
      "outputs": []
    },
    {
      "cell_type": "markdown",
      "metadata": {
        "colab_type": "text",
        "id": "g4ycQbBCg20S"
      },
      "source": [
        "\n",
        "<h2> Check1:</h2>\n",
        "  \n",
        "<h3> You should see the below output if you run `dataset.head()` command as given below </h3>"
      ]
    },
    {
      "cell_type": "code",
      "metadata": {
        "colab_type": "code",
        "id": "IUtF7iOmj11k",
        "outputId": "9b706587-e750-4a64-cb01-e0b15565ba7c",
        "colab": {
          "base_uri": "https://localhost:8080/",
          "height": 195
        }
      },
      "source": [
        "dataset.head()"
      ],
      "execution_count": 19,
      "outputs": [
        {
          "output_type": "execute_result",
          "data": {
            "text/html": [
              "<div>\n",
              "<style scoped>\n",
              "    .dataframe tbody tr th:only-of-type {\n",
              "        vertical-align: middle;\n",
              "    }\n",
              "\n",
              "    .dataframe tbody tr th {\n",
              "        vertical-align: top;\n",
              "    }\n",
              "\n",
              "    .dataframe thead th {\n",
              "        text-align: right;\n",
              "    }\n",
              "</style>\n",
              "<table border=\"1\" class=\"dataframe\">\n",
              "  <thead>\n",
              "    <tr style=\"text-align: right;\">\n",
              "      <th></th>\n",
              "      <th>Body ID</th>\n",
              "      <th>articleBody</th>\n",
              "      <th>Headline</th>\n",
              "      <th>Stance</th>\n",
              "    </tr>\n",
              "  </thead>\n",
              "  <tbody>\n",
              "    <tr>\n",
              "      <th>0</th>\n",
              "      <td>0</td>\n",
              "      <td>A small meteorite crashed into a wooded area i...</td>\n",
              "      <td>Soldier shot, Parliament locked down after gun...</td>\n",
              "      <td>unrelated</td>\n",
              "    </tr>\n",
              "    <tr>\n",
              "      <th>1</th>\n",
              "      <td>0</td>\n",
              "      <td>A small meteorite crashed into a wooded area i...</td>\n",
              "      <td>Tourist dubbed ‘Spider Man’ after spider burro...</td>\n",
              "      <td>unrelated</td>\n",
              "    </tr>\n",
              "    <tr>\n",
              "      <th>2</th>\n",
              "      <td>0</td>\n",
              "      <td>A small meteorite crashed into a wooded area i...</td>\n",
              "      <td>Luke Somers 'killed in failed rescue attempt i...</td>\n",
              "      <td>unrelated</td>\n",
              "    </tr>\n",
              "    <tr>\n",
              "      <th>3</th>\n",
              "      <td>0</td>\n",
              "      <td>A small meteorite crashed into a wooded area i...</td>\n",
              "      <td>BREAKING: Soldier shot at War Memorial in Ottawa</td>\n",
              "      <td>unrelated</td>\n",
              "    </tr>\n",
              "    <tr>\n",
              "      <th>4</th>\n",
              "      <td>0</td>\n",
              "      <td>A small meteorite crashed into a wooded area i...</td>\n",
              "      <td>Giant 8ft 9in catfish weighing 19 stone caught...</td>\n",
              "      <td>unrelated</td>\n",
              "    </tr>\n",
              "  </tbody>\n",
              "</table>\n",
              "</div>"
            ],
            "text/plain": [
              "   Body ID  ...     Stance\n",
              "0        0  ...  unrelated\n",
              "1        0  ...  unrelated\n",
              "2        0  ...  unrelated\n",
              "3        0  ...  unrelated\n",
              "4        0  ...  unrelated\n",
              "\n",
              "[5 rows x 4 columns]"
            ]
          },
          "metadata": {
            "tags": []
          },
          "execution_count": 19
        }
      ]
    },
    {
      "cell_type": "markdown",
      "metadata": {
        "colab_type": "text",
        "id": "tjzVz2ifijmj"
      },
      "source": [
        "## Step2: Data Pre-processing and setting some hyper parameters needed for model\n",
        "\n",
        "\n",
        "#### Run the code given below to set the required parameters.\n",
        "\n",
        "1. `MAX_SENTS` = Maximum no.of sentences to consider in an article.\n",
        "\n",
        "2. `MAX_SENT_LENGTH` = Maximum no.of words to consider in a sentence.\n",
        "\n",
        "3. `MAX_NB_WORDS` = Maximum no.of words in the total vocabualry.\n",
        "\n",
        "4. `MAX_SENTS_HEADING` = Maximum no.of sentences to consider in a heading of an article."
      ]
    },
    {
      "cell_type": "code",
      "metadata": {
        "colab_type": "code",
        "id": "KDXSdpvqjuqw",
        "colab": {}
      },
      "source": [
        "MAX_NB_WORDS = 20000\n",
        "MAX_SENTS = 20\n",
        "MAX_SENTS_HEADING = 1\n",
        "MAX_SENT_LENGTH = 20\n",
        "VALIDATION_SPLIT = 0.2"
      ],
      "execution_count": 0,
      "outputs": []
    },
    {
      "cell_type": "code",
      "metadata": {
        "id": "e3PencTRpP8Y",
        "colab_type": "code",
        "colab": {
          "base_uri": "https://localhost:8080/",
          "height": 34
        },
        "outputId": "562a323b-7b0c-45c5-8f33-73898db7082f"
      },
      "source": [
        "# Unique train articles\n",
        "print('There are \\033[1m%d\\033[0m unique articles found in \\033[1m%d Train Data\\033[0m' % \n",
        "      (dataset['Body ID'].nunique(), dataset.shape[0]))"
      ],
      "execution_count": 21,
      "outputs": [
        {
          "output_type": "stream",
          "text": [
            "There are \u001b[1m1683\u001b[0m unique articles found in \u001b[1m49972 Train Data\u001b[0m\n"
          ],
          "name": "stdout"
        }
      ]
    },
    {
      "cell_type": "code",
      "metadata": {
        "id": "8p_rxcHypP_6",
        "colab_type": "code",
        "colab": {
          "base_uri": "https://localhost:8080/",
          "height": 505
        },
        "outputId": "fd05ddb7-1554-4e79-8d7f-0cbfb0d7df0f"
      },
      "source": [
        "# Visualize top 40 articles having most different headlines in train data\n",
        "plt.figure(figsize=(20,10))\n",
        "g = sns.countplot(train_stances['Body ID'], order=train_stances['Body ID'].value_counts().index,palette=\"bright\")\n",
        "_ = g.set(xlim=(None, 40))"
      ],
      "execution_count": 22,
      "outputs": [
        {
          "output_type": "display_data",
          "data": {
            "image/png": "[encoded data removed]",
            "text/plain": [
              "<Figure size 1440x720 with 1 Axes>"
            ]
          },
          "metadata": {
            "tags": []
          }
        }
      ]
    },
    {
      "cell_type": "code",
      "metadata": {
        "id": "Zk1m8OEYrMlV",
        "colab_type": "code",
        "colab": {
          "base_uri": "https://localhost:8080/",
          "height": 369
        },
        "outputId": "273d94a8-9919-44eb-b446-1b7878a873c9"
      },
      "source": [
        "# Analyze unique stances and volumes\n",
        "fig, axes = plt.subplots(1, 2, figsize=(12,5))\n",
        "sns.countplot(train_stances['Stance'], order=train_stances['Stance'].value_counts().index, ax=axes[0])\n",
        "explode = (0,0.05,0.1,0.15)\n",
        "_ = axes[1].pie(train_stances['Stance'].value_counts(), autopct='%1.1f%%', explode=explode, pctdistance=1.15)\n",
        "axes[1].legend(labels=train_stances['Stance'].value_counts().index,loc=\"best\")\n",
        "axes[1].axis('equal')\n",
        "plt.tight_layout()"
      ],
      "execution_count": 23,
      "outputs": [
        {
          "output_type": "display_data",
          "data": {
            "image/png": "[encoded data removed]",
            "text/plain": [
              "<Figure size 864x360 with 2 Axes>"
            ]
          },
          "metadata": {
            "tags": []
          }
        }
      ]
    },
    {
      "cell_type": "code",
      "metadata": {
        "id": "QhnGtqJLs6OO",
        "colab_type": "code",
        "colab": {}
      },
      "source": [
        "#LOAD TEST  DATASET\n",
        "#Using read_csv() in pandas load the given test datasets files test_bodies.csv and test_stances_unlabeled.csv\n",
        "\n",
        "#Using merge command in pandas merge the two datasets based on the Body ID.\n",
        "\n",
        "#Note: Save the final merged dataset in a dataframe with name test_dataset."
      ],
      "execution_count": 0,
      "outputs": []
    },
    {
      "cell_type": "code",
      "metadata": {
        "id": "FZKZDqBZs6Th",
        "colab_type": "code",
        "colab": {}
      },
      "source": [
        "# Load the news bodies and stances csvs\n",
        "test_bodies = pd.read_csv('/content/Fake News Challenge/test_bodies.csv')\n",
        "test_stances = pd.read_csv('/content/Fake News Challenge/test_stances_unlabeled.csv')"
      ],
      "execution_count": 0,
      "outputs": []
    },
    {
      "cell_type": "code",
      "metadata": {
        "id": "gDLs80Oxs6W2",
        "colab_type": "code",
        "colab": {
          "base_uri": "https://localhost:8080/",
          "height": 34
        },
        "outputId": "055b278d-c4bf-44fb-d9bf-c7e07e54a229"
      },
      "source": [
        "test_bodies.columns"
      ],
      "execution_count": 27,
      "outputs": [
        {
          "output_type": "execute_result",
          "data": {
            "text/plain": [
              "Index(['Body ID', 'articleBody'], dtype='object')"
            ]
          },
          "metadata": {
            "tags": []
          },
          "execution_count": 27
        }
      ]
    },
    {
      "cell_type": "code",
      "metadata": {
        "id": "2SvOqqdzs6Zo",
        "colab_type": "code",
        "colab": {
          "base_uri": "https://localhost:8080/",
          "height": 195
        },
        "outputId": "6691b701-4cea-4447-abe0-6db14bc7afbd"
      },
      "source": [
        "test_bodies.head()"
      ],
      "execution_count": 28,
      "outputs": [
        {
          "output_type": "execute_result",
          "data": {
            "text/html": [
              "<div>\n",
              "<style scoped>\n",
              "    .dataframe tbody tr th:only-of-type {\n",
              "        vertical-align: middle;\n",
              "    }\n",
              "\n",
              "    .dataframe tbody tr th {\n",
              "        vertical-align: top;\n",
              "    }\n",
              "\n",
              "    .dataframe thead th {\n",
              "        text-align: right;\n",
              "    }\n",
              "</style>\n",
              "<table border=\"1\" class=\"dataframe\">\n",
              "  <thead>\n",
              "    <tr style=\"text-align: right;\">\n",
              "      <th></th>\n",
              "      <th>Body ID</th>\n",
              "      <th>articleBody</th>\n",
              "    </tr>\n",
              "  </thead>\n",
              "  <tbody>\n",
              "    <tr>\n",
              "      <th>0</th>\n",
              "      <td>1</td>\n",
              "      <td>Al-Sisi has denied Israeli reports stating tha...</td>\n",
              "    </tr>\n",
              "    <tr>\n",
              "      <th>1</th>\n",
              "      <td>2</td>\n",
              "      <td>A bereaved Afghan mother took revenge on the T...</td>\n",
              "    </tr>\n",
              "    <tr>\n",
              "      <th>2</th>\n",
              "      <td>3</td>\n",
              "      <td>CNBC is reporting Tesla has chosen Nevada as t...</td>\n",
              "    </tr>\n",
              "    <tr>\n",
              "      <th>3</th>\n",
              "      <td>12</td>\n",
              "      <td>A 4-inch version of the iPhone 6 is said to be...</td>\n",
              "    </tr>\n",
              "    <tr>\n",
              "      <th>4</th>\n",
              "      <td>19</td>\n",
              "      <td>GR editor’s Note\\n\\nThere are no reports in th...</td>\n",
              "    </tr>\n",
              "  </tbody>\n",
              "</table>\n",
              "</div>"
            ],
            "text/plain": [
              "   Body ID                                        articleBody\n",
              "0        1  Al-Sisi has denied Israeli reports stating tha...\n",
              "1        2  A bereaved Afghan mother took revenge on the T...\n",
              "2        3  CNBC is reporting Tesla has chosen Nevada as t...\n",
              "3       12  A 4-inch version of the iPhone 6 is said to be...\n",
              "4       19  GR editor’s Note\\n\\nThere are no reports in th..."
            ]
          },
          "metadata": {
            "tags": []
          },
          "execution_count": 28
        }
      ]
    },
    {
      "cell_type": "code",
      "metadata": {
        "id": "r0vSZeE_s6dA",
        "colab_type": "code",
        "colab": {
          "base_uri": "https://localhost:8080/",
          "height": 34
        },
        "outputId": "cd77b9a8-98fe-4884-9b22-a47df2558a70"
      },
      "source": [
        "test_stances.columns"
      ],
      "execution_count": 29,
      "outputs": [
        {
          "output_type": "execute_result",
          "data": {
            "text/plain": [
              "Index(['Headline', 'Body ID'], dtype='object')"
            ]
          },
          "metadata": {
            "tags": []
          },
          "execution_count": 29
        }
      ]
    },
    {
      "cell_type": "code",
      "metadata": {
        "id": "ZbOhRC28uJ6f",
        "colab_type": "code",
        "colab": {
          "base_uri": "https://localhost:8080/",
          "height": 195
        },
        "outputId": "c568ec3c-56c6-42f1-c2a4-57c493b51511"
      },
      "source": [
        "test_stances.head()"
      ],
      "execution_count": 30,
      "outputs": [
        {
          "output_type": "execute_result",
          "data": {
            "text/html": [
              "<div>\n",
              "<style scoped>\n",
              "    .dataframe tbody tr th:only-of-type {\n",
              "        vertical-align: middle;\n",
              "    }\n",
              "\n",
              "    .dataframe tbody tr th {\n",
              "        vertical-align: top;\n",
              "    }\n",
              "\n",
              "    .dataframe thead th {\n",
              "        text-align: right;\n",
              "    }\n",
              "</style>\n",
              "<table border=\"1\" class=\"dataframe\">\n",
              "  <thead>\n",
              "    <tr style=\"text-align: right;\">\n",
              "      <th></th>\n",
              "      <th>Headline</th>\n",
              "      <th>Body ID</th>\n",
              "    </tr>\n",
              "  </thead>\n",
              "  <tbody>\n",
              "    <tr>\n",
              "      <th>0</th>\n",
              "      <td>Ferguson riots: Pregnant woman loses eye after...</td>\n",
              "      <td>2008</td>\n",
              "    </tr>\n",
              "    <tr>\n",
              "      <th>1</th>\n",
              "      <td>Crazy Conservatives Are Sure a Gitmo Detainee ...</td>\n",
              "      <td>1550</td>\n",
              "    </tr>\n",
              "    <tr>\n",
              "      <th>2</th>\n",
              "      <td>A Russian Guy Says His Justin Bieber Ringtone ...</td>\n",
              "      <td>2</td>\n",
              "    </tr>\n",
              "    <tr>\n",
              "      <th>3</th>\n",
              "      <td>Zombie Cat: Buried Kitty Believed Dead, Meows ...</td>\n",
              "      <td>1793</td>\n",
              "    </tr>\n",
              "    <tr>\n",
              "      <th>4</th>\n",
              "      <td>Argentina's President Adopts Boy to End Werewo...</td>\n",
              "      <td>37</td>\n",
              "    </tr>\n",
              "  </tbody>\n",
              "</table>\n",
              "</div>"
            ],
            "text/plain": [
              "                                            Headline  Body ID\n",
              "0  Ferguson riots: Pregnant woman loses eye after...     2008\n",
              "1  Crazy Conservatives Are Sure a Gitmo Detainee ...     1550\n",
              "2  A Russian Guy Says His Justin Bieber Ringtone ...        2\n",
              "3  Zombie Cat: Buried Kitty Believed Dead, Meows ...     1793\n",
              "4  Argentina's President Adopts Boy to End Werewo...       37"
            ]
          },
          "metadata": {
            "tags": []
          },
          "execution_count": 30
        }
      ]
    },
    {
      "cell_type": "code",
      "metadata": {
        "id": "qJ9y9NJMuJ9a",
        "colab_type": "code",
        "colab": {}
      },
      "source": [
        "# Merge both the dataset to form a test_dataset\n",
        "test_dataset = pd.merge(test_bodies[['Body ID', 'articleBody']],\n",
        "                   test_stances[['Body ID', 'Headline']], \n",
        "                   left_on='Body ID', \n",
        "                   right_on='Body ID', \n",
        "                   how='inner')"
      ],
      "execution_count": 0,
      "outputs": []
    },
    {
      "cell_type": "code",
      "metadata": {
        "id": "ReQX6TFSuKA3",
        "colab_type": "code",
        "colab": {
          "base_uri": "https://localhost:8080/",
          "height": 195
        },
        "outputId": "4f657a04-52e1-4cc9-eb95-374ff32510e7"
      },
      "source": [
        "test_dataset.head()"
      ],
      "execution_count": 32,
      "outputs": [
        {
          "output_type": "execute_result",
          "data": {
            "text/html": [
              "<div>\n",
              "<style scoped>\n",
              "    .dataframe tbody tr th:only-of-type {\n",
              "        vertical-align: middle;\n",
              "    }\n",
              "\n",
              "    .dataframe tbody tr th {\n",
              "        vertical-align: top;\n",
              "    }\n",
              "\n",
              "    .dataframe thead th {\n",
              "        text-align: right;\n",
              "    }\n",
              "</style>\n",
              "<table border=\"1\" class=\"dataframe\">\n",
              "  <thead>\n",
              "    <tr style=\"text-align: right;\">\n",
              "      <th></th>\n",
              "      <th>Body ID</th>\n",
              "      <th>articleBody</th>\n",
              "      <th>Headline</th>\n",
              "    </tr>\n",
              "  </thead>\n",
              "  <tbody>\n",
              "    <tr>\n",
              "      <th>0</th>\n",
              "      <td>1</td>\n",
              "      <td>Al-Sisi has denied Israeli reports stating tha...</td>\n",
              "      <td>Apple installing safes in-store to protect gol...</td>\n",
              "    </tr>\n",
              "    <tr>\n",
              "      <th>1</th>\n",
              "      <td>1</td>\n",
              "      <td>Al-Sisi has denied Israeli reports stating tha...</td>\n",
              "      <td>El-Sisi denies claims he'll give Sinai land to...</td>\n",
              "    </tr>\n",
              "    <tr>\n",
              "      <th>2</th>\n",
              "      <td>1</td>\n",
              "      <td>Al-Sisi has denied Israeli reports stating tha...</td>\n",
              "      <td>Apple to keep gold Watch Editions in special i...</td>\n",
              "    </tr>\n",
              "    <tr>\n",
              "      <th>3</th>\n",
              "      <td>1</td>\n",
              "      <td>Al-Sisi has denied Israeli reports stating tha...</td>\n",
              "      <td>Apple Stores to Keep Gold “Edition” Apple Watc...</td>\n",
              "    </tr>\n",
              "    <tr>\n",
              "      <th>4</th>\n",
              "      <td>1</td>\n",
              "      <td>Al-Sisi has denied Israeli reports stating tha...</td>\n",
              "      <td>South Korean woman's hair 'eaten' by robot vac...</td>\n",
              "    </tr>\n",
              "  </tbody>\n",
              "</table>\n",
              "</div>"
            ],
            "text/plain": [
              "   Body ID  ...                                           Headline\n",
              "0        1  ...  Apple installing safes in-store to protect gol...\n",
              "1        1  ...  El-Sisi denies claims he'll give Sinai land to...\n",
              "2        1  ...  Apple to keep gold Watch Editions in special i...\n",
              "3        1  ...  Apple Stores to Keep Gold “Edition” Apple Watc...\n",
              "4        1  ...  South Korean woman's hair 'eaten' by robot vac...\n",
              "\n",
              "[5 rows x 3 columns]"
            ]
          },
          "metadata": {
            "tags": []
          },
          "execution_count": 32
        }
      ]
    },
    {
      "cell_type": "code",
      "metadata": {
        "id": "2diNajHz2bIq",
        "colab_type": "code",
        "colab": {
          "base_uri": "https://localhost:8080/",
          "height": 34
        },
        "outputId": "68376940-7fcf-4070-bc1a-ab89460e64bb"
      },
      "source": [
        "# Find unique articles from test_dataset\n",
        "print('There are \\033[1m%d\\033[0m unique articles found in the \\033[1m%d Test Data\\033[0m' % \n",
        "      (test_dataset['Body ID'].nunique(), test_dataset.shape[0]))"
      ],
      "execution_count": 33,
      "outputs": [
        {
          "output_type": "stream",
          "text": [
            "There are \u001b[1m904\u001b[0m unique articles found in the \u001b[1m25413 Test Data\u001b[0m\n"
          ],
          "name": "stdout"
        }
      ]
    },
    {
      "cell_type": "code",
      "metadata": {
        "id": "8o3AAt9E2bMB",
        "colab_type": "code",
        "colab": {
          "base_uri": "https://localhost:8080/",
          "height": 505
        },
        "outputId": "f744ba31-9c67-46a8-b657-424417d674db"
      },
      "source": [
        "# Visualize top 50 articles having most different headlines in test data\n",
        "plt.figure(figsize=(20,10))\n",
        "g = sns.countplot(test_stances['Body ID'], order=test_stances['Body ID'].value_counts().index,palette=\"deep\")\n",
        "_ = g.set(xlim=(None, 50))"
      ],
      "execution_count": 34,
      "outputs": [
        {
          "output_type": "display_data",
          "data": {
            "image/png": "[encoded data removed]",
            "text/plain": [
              "<Figure size 1440x720 with 1 Axes>"
            ]
          },
          "metadata": {
            "tags": []
          }
        }
      ]
    },
    {
      "cell_type": "code",
      "metadata": {
        "id": "HtGMri713KJ_",
        "colab_type": "code",
        "colab": {
          "base_uri": "https://localhost:8080/",
          "height": 252
        },
        "outputId": "fec19cf5-c887-4605-9958-09244ef96819"
      },
      "source": [
        "print(train_bodies.count())\n",
        "print(test_bodies.count())\n",
        "print('__________________')\n",
        "print(train_stances.count())\n",
        "print(test_stances.count())\n",
        "\n"
      ],
      "execution_count": 35,
      "outputs": [
        {
          "output_type": "stream",
          "text": [
            "Body ID        1683\n",
            "articleBody    1683\n",
            "dtype: int64\n",
            "Body ID        904\n",
            "articleBody    904\n",
            "dtype: int64\n",
            "__________________\n",
            "Headline    49972\n",
            "Body ID     49972\n",
            "Stance      49972\n",
            "dtype: int64\n",
            "Headline    25413\n",
            "Body ID     25413\n",
            "dtype: int64\n"
          ],
          "name": "stdout"
        }
      ]
    },
    {
      "cell_type": "code",
      "metadata": {
        "id": "bhSpAUtOBJWl",
        "colab_type": "code",
        "colab": {
          "base_uri": "https://localhost:8080/",
          "height": 101
        },
        "outputId": "fd93a3a8-382e-4492-dd85-c279690fe6bf"
      },
      "source": [
        "train_stances['Stance'].value_counts()"
      ],
      "execution_count": 36,
      "outputs": [
        {
          "output_type": "execute_result",
          "data": {
            "text/plain": [
              "unrelated    36545\n",
              "discuss       8909\n",
              "agree         3678\n",
              "disagree       840\n",
              "Name: Stance, dtype: int64"
            ]
          },
          "metadata": {
            "tags": []
          },
          "execution_count": 36
        }
      ]
    },
    {
      "cell_type": "markdown",
      "metadata": {
        "id": "MRqI3RnT2_qP",
        "colab_type": "text"
      },
      "source": [
        "**Observations:**\n",
        "\n",
        "The complete dataset including training and testing data consists of  $1683+904=2587$ unique articles spread over $49972+25413=75385$ different headlines altogether.\n",
        "Training data consists of 73% of \"unrelated\" stances, which I believe indicates unapproved or free format writing or digital content by individual contributors or likely fake news content .\n",
        "Body ID \"1921\", \"1948\",\"40\", \"524\",\"1373\", \"2383\",\"383\" etc. are to 3  popular articles from the entire dataset to have huge variations in their headlines across all publication platforms."
      ]
    },
    {
      "cell_type": "markdown",
      "metadata": {
        "colab_type": "text",
        "id": "zwE7CPHdiDT-"
      },
      "source": [
        "### Download the `Punkt` from nltk using the commands given below. This is for sentence tokenization.\n",
        "\n",
        "For more info on how to use it, read [this](https://stackoverflow.com/questions/35275001/use-of-punktsentencetokenizer-in-nltk).\n",
        "\n"
      ]
    },
    {
      "cell_type": "code",
      "metadata": {
        "colab_type": "code",
        "id": "lsiKmyJUZ-hU",
        "outputId": "b16aa8be-0aa0-44d6-8a8d-80a2db129dc4",
        "colab": {
          "base_uri": "https://localhost:8080/",
          "height": 67
        }
      },
      "source": [
        "import nltk\n",
        "nltk.download('punkt')"
      ],
      "execution_count": 37,
      "outputs": [
        {
          "output_type": "stream",
          "text": [
            "[nltk_data] Downloading package punkt to /root/nltk_data...\n",
            "[nltk_data]   Unzipping tokenizers/punkt.zip.\n"
          ],
          "name": "stdout"
        },
        {
          "output_type": "execute_result",
          "data": {
            "text/plain": [
              "True"
            ]
          },
          "metadata": {
            "tags": []
          },
          "execution_count": 37
        }
      ]
    },
    {
      "cell_type": "markdown",
      "metadata": {
        "colab_type": "text",
        "id": "Gqwm_GbwwnhX"
      },
      "source": [
        "# Tokenizing the text and loading the pre-trained Glove word embeddings for each token  [5 marks] "
      ]
    },
    {
      "cell_type": "markdown",
      "metadata": {
        "colab_type": "text",
        "id": "WfZLR24mm32k"
      },
      "source": [
        "Keras provides [Tokenizer API](https://keras.io/preprocessing/text/) for preparing text. Read it before going any further."
      ]
    },
    {
      "cell_type": "markdown",
      "metadata": {
        "colab_type": "text",
        "id": "fLSn9S-5oG4Z"
      },
      "source": [
        "#### Import the Tokenizer from keras preprocessing text"
      ]
    },
    {
      "cell_type": "markdown",
      "metadata": {
        "colab_type": "text",
        "id": "eml0Lge4oOuh"
      },
      "source": [
        "#### Initialize the Tokenizer class with maximum vocabulary count as `MAX_NB_WORDS` initialized at the start of step2. "
      ]
    },
    {
      "cell_type": "code",
      "metadata": {
        "colab_type": "code",
        "id": "S-VUgh2yoMlR",
        "colab": {}
      },
      "source": [
        "t = Tokenizer(num_words=MAX_NB_WORDS,filters= '!\"#$%&()*+,-./:;<=>?@[\\]^_`{|}\\n“~”')"
      ],
      "execution_count": 0,
      "outputs": []
    },
    {
      "cell_type": "markdown",
      "metadata": {
        "colab_type": "text",
        "id": "HBe1KuXDosJ7"
      },
      "source": [
        "#### Now, using fit_on_texts() from Tokenizer class, lets encode the data \n",
        "\n",
        "Note: We need to fit articleBody and Headline also to cover all the words."
      ]
    },
    {
      "cell_type": "code",
      "metadata": {
        "colab_type": "code",
        "id": "Q5rk-UyBlmyA",
        "colab": {}
      },
      "source": [
        "t.fit_on_texts(dataset['articleBody'].append(dataset['Headline'], ignore_index=True))"
      ],
      "execution_count": 0,
      "outputs": []
    },
    {
      "cell_type": "markdown",
      "metadata": {
        "colab_type": "text",
        "id": "omptHX-JpBsN"
      },
      "source": [
        "#### fit_on_texts() gives the following attributes in the output as given [here](https://faroit.github.io/keras-docs/1.2.2/preprocessing/text/).\n",
        "\n",
        "* **word_counts:** dictionary mapping words (str) to the number of times they appeared on during fit. Only set after fit_on_texts was called.\n",
        "\n",
        "* **word_docs:** dictionary mapping words (str) to the number of documents/texts they appeared on during fit. Only set after fit_on_texts was called.\n",
        "\n",
        "* **word_index:** dictionary mapping words (str) to their rank/index (int). Only set after fit_on_texts was called.\n",
        "\n",
        "* **document_count:** int. Number of documents (texts/sequences) the tokenizer was trained on. Only set after fit_on_texts or fit_on_sequences was called.\n",
        "\n"
      ]
    },
    {
      "cell_type": "code",
      "metadata": {
        "id": "oePyabynQaYr",
        "colab_type": "code",
        "colab": {
          "base_uri": "https://localhost:8080/",
          "height": 50
        },
        "outputId": "f88cf8cf-bb5d-4f57-f070-1df80f5db9fe"
      },
      "source": [
        "vocab_size = len(t.word_index) + 1\n",
        "print('Vocabulary size: %d\\nDocuments count: %d' % (vocab_size, t.document_count))"
      ],
      "execution_count": 40,
      "outputs": [
        {
          "output_type": "stream",
          "text": [
            "Vocabulary size: 26532\n",
            "Documents count: 99944\n"
          ],
          "name": "stdout"
        }
      ]
    },
    {
      "cell_type": "markdown",
      "metadata": {
        "colab_type": "text",
        "id": "SHnsT2sTtFAA"
      },
      "source": [
        "### Now, tokenize the sentences using nltk sent_tokenize() and encode the senteces with the ids we got form the above `t.word_index`\n",
        "\n",
        "Initialise 2 lists with names `texts` and `articles`.\n",
        "\n",
        "```\n",
        "texts = [] to store text of article as it is.\n",
        "\n",
        "articles = [] split the above text into a list of sentences.\n",
        "```"
      ]
    },
    {
      "cell_type": "markdown",
      "metadata": {
        "id": "8hdSS-tM99D-",
        "colab_type": "text"
      },
      "source": [
        "texts = [] ## body\n",
        "articles=[] ## body splitted into senteces and stored as a list of lists\n",
        "\n",
        "## split into sentences\n",
        "for text in dataset['articleBody']:\n",
        "    texts.append(text)\n",
        "    sentences = nltk.tokenize.sent_tokenize(text)\n",
        "    articles.append(sentences)"
      ]
    },
    {
      "cell_type": "markdown",
      "metadata": {
        "colab_type": "text",
        "id": "koTVJjoO6P78"
      },
      "source": [
        "## Check 2:\n",
        "\n",
        "first element of texts and articles should be as given below. "
      ]
    },
    {
      "cell_type": "code",
      "metadata": {
        "colab_type": "code",
        "id": "3mWBW99p5UW9",
        "outputId": "68dc8611-1223-469e-c0b0-204d143998c3",
        "colab": {
          "base_uri": "https://localhost:8080/",
          "height": 54
        }
      },
      "source": [
        "texts[0]"
      ],
      "execution_count": 42,
      "outputs": [
        {
          "output_type": "execute_result",
          "data": {
            "text/plain": [
              "'A small meteorite crashed into a wooded area in Nicaragua\\'s capital of Managua overnight, the government said Sunday. Residents reported hearing a mysterious boom that left a 16-foot deep crater near the city\\'s airport, the Associated Press reports. \\n\\nGovernment spokeswoman Rosario Murillo said a committee formed by the government to study the event determined it was a \"relatively small\" meteorite that \"appears to have come off an asteroid that was passing close to Earth.\" House-sized asteroid 2014 RC, which measured 60 feet in diameter, skimmed the Earth this weekend, ABC News reports. \\nMurillo said Nicaragua will ask international experts to help local scientists in understanding what happened.\\n\\nThe crater left by the meteorite had a radius of 39 feet and a depth of 16 feet,  said Humberto Saballos, a volcanologist with the Nicaraguan Institute of Territorial Studies who was on the committee. He said it is still not clear if the meteorite disintegrated or was buried.\\n\\nHumberto Garcia, of the Astronomy Center at the National Autonomous University of Nicaragua, said the meteorite could be related to an asteroid that was forecast to pass by the planet Saturday night.\\n\\n\"We have to study it more because it could be ice or rock,\" he said.\\n\\nWilfried Strauch, an adviser to the Institute of Territorial Studies, said it was \"very strange that no one reported a streak of light. We have to ask if anyone has a photo or something.\"\\n\\nLocal residents reported hearing a loud boom Saturday night, but said they didn\\'t see anything strange in the sky.\\n\\n\"I was sitting on my porch and I saw nothing, then all of a sudden I heard a large blast. We thought it was a bomb because we felt an expansive wave,\" Jorge Santamaria told The Associated Press.\\n\\nThe site of the crater is near Managua\\'s international airport and an air force base. Only journalists from state media were allowed to visit it.'"
            ]
          },
          "metadata": {
            "tags": []
          },
          "execution_count": 42
        }
      ]
    },
    {
      "cell_type": "code",
      "metadata": {
        "colab_type": "code",
        "id": "WtIjO3ht5EKA",
        "outputId": "77cbfddd-5e25-4090-8c25-547b4aad63bf",
        "colab": {
          "base_uri": "https://localhost:8080/",
          "height": 306
        }
      },
      "source": [
        "articles[0]"
      ],
      "execution_count": 43,
      "outputs": [
        {
          "output_type": "execute_result",
          "data": {
            "text/plain": [
              "[\"A small meteorite crashed into a wooded area in Nicaragua's capital of Managua overnight, the government said Sunday.\",\n",
              " \"Residents reported hearing a mysterious boom that left a 16-foot deep crater near the city's airport, the Associated Press reports.\",\n",
              " 'Government spokeswoman Rosario Murillo said a committee formed by the government to study the event determined it was a \"relatively small\" meteorite that \"appears to have come off an asteroid that was passing close to Earth.\"',\n",
              " 'House-sized asteroid 2014 RC, which measured 60 feet in diameter, skimmed the Earth this weekend, ABC News reports.',\n",
              " 'Murillo said Nicaragua will ask international experts to help local scientists in understanding what happened.',\n",
              " 'The crater left by the meteorite had a radius of 39 feet and a depth of 16 feet,  said Humberto Saballos, a volcanologist with the Nicaraguan Institute of Territorial Studies who was on the committee.',\n",
              " 'He said it is still not clear if the meteorite disintegrated or was buried.',\n",
              " 'Humberto Garcia, of the Astronomy Center at the National Autonomous University of Nicaragua, said the meteorite could be related to an asteroid that was forecast to pass by the planet Saturday night.',\n",
              " '\"We have to study it more because it could be ice or rock,\" he said.',\n",
              " 'Wilfried Strauch, an adviser to the Institute of Territorial Studies, said it was \"very strange that no one reported a streak of light.',\n",
              " 'We have to ask if anyone has a photo or something.\"',\n",
              " \"Local residents reported hearing a loud boom Saturday night, but said they didn't see anything strange in the sky.\",\n",
              " '\"I was sitting on my porch and I saw nothing, then all of a sudden I heard a large blast.',\n",
              " 'We thought it was a bomb because we felt an expansive wave,\" Jorge Santamaria told The Associated Press.',\n",
              " \"The site of the crater is near Managua's international airport and an air force base.\",\n",
              " 'Only journalists from state media were allowed to visit it.']"
            ]
          },
          "metadata": {
            "tags": []
          },
          "execution_count": 43
        }
      ]
    },
    {
      "cell_type": "markdown",
      "metadata": {
        "colab_type": "text",
        "id": "fpuRIA7cCfcY"
      },
      "source": [
        "# Now iterate through each article and each sentence to encode the words into ids using t.word_index  [5 marks] \n",
        "\n",
        "Here, to get words from sentence you can use `text_to_word_sequence` from keras preprocessing text.\n",
        "\n",
        "1. Import text_to_word_sequence\n",
        "\n",
        "2. Initialize a variable of shape (no.of articles, MAX_SENTS, MAX_SENT_LENGTH) with name `data` with zeros first (you can use numpy [np.zeros](https://docs.scipy.org/doc/numpy/reference/generated/numpy.zeros.html) to initialize with all zeros)and then update it while iterating through the words and sentences in each article."
      ]
    },
    {
      "cell_type": "code",
      "metadata": {
        "colab_type": "code",
        "id": "YVyClBULCqWj",
        "colab": {}
      },
      "source": [
        "## for article body\n",
        "data = np.zeros((len(texts), MAX_SENTS, MAX_SENT_LENGTH), dtype='int32')\n",
        "## word index encoding\n",
        "for i, sentences in enumerate(articles):\n",
        "    for j, sent in enumerate(sentences):\n",
        "        if j < MAX_SENTS:\n",
        "            wordTokens = text_to_word_sequence(sent)\n",
        "            k = 0\n",
        "            for word in wordTokens:\n",
        "                try:\n",
        "                    if k < MAX_SENT_LENGTH and t.word_index[word] < MAX_NB_WORDS:\n",
        "                        data[i, j, k] = t.word_index[word]\n",
        "                        k = k + 1\n",
        "                except:\n",
        "                        pass"
      ],
      "execution_count": 0,
      "outputs": []
    },
    {
      "cell_type": "markdown",
      "metadata": {
        "colab_type": "text",
        "id": "bFdmiDYcE144"
      },
      "source": [
        "### Check 3:\n",
        "\n",
        "Accessing first element in data should give something like given below."
      ]
    },
    {
      "cell_type": "code",
      "metadata": {
        "colab_type": "code",
        "id": "TsFWW5C2Djog",
        "outputId": "0b49d816-32a5-40dc-9901-f8c5bd571c09",
        "colab": {
          "base_uri": "https://localhost:8080/",
          "height": 1000
        }
      },
      "source": [
        "data[0, :, :]"
      ],
      "execution_count": 45,
      "outputs": [
        {
          "output_type": "execute_result",
          "data": {
            "text/plain": [
              "array([[    3,   473,   424,  7162,    80,     3,  3725,   333,     5,\n",
              "         3875,   352,     4,  1432,  2953,     1,    88,    12,   464,\n",
              "            0,     0],\n",
              "       [  759,    95,  1048,     3,  2679,  1751,     7,   189,     3,\n",
              "         1219,  1058,  1971,   701,   160,     1,  3026,   448,     1,\n",
              "          552,   234],\n",
              "       [   88,  1069,  4099,  2346,    12,     3,  1092,  3303,    19,\n",
              "            1,    88,     2,  1791,     1,   514,  2012,    15,     9,\n",
              "            3,  2917],\n",
              "       [  185,  3633,   974,   199,  2511,    43,  6734,  1722,  1254,\n",
              "            5, 12997, 17318,     1,   754,    29,   742,  3979,    65,\n",
              "           85,     0],\n",
              "       [ 2346,    12,  1557,    37,  1098,   354,   775,     2,   361,\n",
              "          262,  1768,     5,  4447,    68,   493,     0,     0,     0,\n",
              "            0,     0],\n",
              "       [    1,   701,   189,    19,     1,   424,    31,     3,  7360,\n",
              "            4,  2154,  1254,     6,     3,  5235,     4,  1219,  1254,\n",
              "           12,  3363],\n",
              "       [   13,    12,    15,     8,   148,    25,   541,    62,     1,\n",
              "          424,  3719,    40,     9,  1849,     0,     0,     0,     0,\n",
              "            0,     0],\n",
              "       [ 3363,  5696,     4,     1,  5837,   614,    21,     1,   306,\n",
              "         3165,   793,     4,  1557,    12,     1,   424,    69,    23,\n",
              "          821,     2],\n",
              "       [   34,    17,     2,  1791,    15,    52,   119,    15,    69,\n",
              "           23,  4893,    40,  1898,    13,    12,     0,     0,     0,\n",
              "            0,     0],\n",
              "       [ 4715,  3335,    24,  3960,     2,     1,  1318,     4,  3066,\n",
              "         1661,    12,    15,     9,   191,  1420,     7,    54,    39,\n",
              "           95,     3],\n",
              "       [   34,    17,     2,  1098,    62,   502,    20,     3,   252,\n",
              "           40,   263,     0,     0,     0,     0,     0,     0,     0,\n",
              "            0,     0],\n",
              "       [  262,   759,    95,  1048,     3,  1803,  1751,   531,   274,\n",
              "           28,    12,    32,   702,   163,   832,  1420,     5,     1,\n",
              "         2083,     0],\n",
              "       [   33,     9,  2062,    10,   114,  5788,     6,    33,   569,\n",
              "          655,   103,    57,     4,     3,  2418,    33,   238,     3,\n",
              "          508,  1909],\n",
              "       [   34,   341,    15,     9,     3,  2084,   119,    34,   887,\n",
              "           24,  4448,  2584,  4309,  4894,    55,     1,   552,   234,\n",
              "            0,     0],\n",
              "       [    1,   256,     4,     1,   701,     8,   160,  3950,   354,\n",
              "          448,     6,    24,   155,   465,  1925,     0,     0,     0,\n",
              "            0,     0],\n",
              "       [  124,   921,    22,    46,    99,    36,  1832,     2,  1213,\n",
              "           15,     0,     0,     0,     0,     0,     0,     0,     0,\n",
              "            0,     0],\n",
              "       [    0,     0,     0,     0,     0,     0,     0,     0,     0,\n",
              "            0,     0,     0,     0,     0,     0,     0,     0,     0,\n",
              "            0,     0],\n",
              "       [    0,     0,     0,     0,     0,     0,     0,     0,     0,\n",
              "            0,     0,     0,     0,     0,     0,     0,     0,     0,\n",
              "            0,     0],\n",
              "       [    0,     0,     0,     0,     0,     0,     0,     0,     0,\n",
              "            0,     0,     0,     0,     0,     0,     0,     0,     0,\n",
              "            0,     0],\n",
              "       [    0,     0,     0,     0,     0,     0,     0,     0,     0,\n",
              "            0,     0,     0,     0,     0,     0,     0,     0,     0,\n",
              "            0,     0]], dtype=int32)"
            ]
          },
          "metadata": {
            "tags": []
          },
          "execution_count": 45
        }
      ]
    },
    {
      "cell_type": "markdown",
      "metadata": {
        "colab_type": "text",
        "id": "hTG6JySHehkT"
      },
      "source": [
        "# Repeat the same process for the `Headings` as well. Use variables with names `texts_heading` and `articles_heading` accordingly. [5 marks] "
      ]
    },
    {
      "cell_type": "code",
      "metadata": {
        "colab_type": "code",
        "id": "_CliiIhLemJV",
        "colab": {}
      },
      "source": [
        "texts_heading = [] ## body\n",
        "articles_heading = [] ## body splitted into senteces and stored as a list of lists\n",
        "\n",
        "## split into sentences\n",
        "for text in dataset['Headline']:\n",
        "    texts_heading.append(text)\n",
        "    sentences = nltk.tokenize.sent_tokenize(text)\n",
        "    articles_heading.append(sentences)\n",
        "\n",
        "## for article headings\n",
        "data_heading = np.zeros((len(texts_heading), MAX_SENTS_HEADING, MAX_SENT_LENGTH), dtype='int32')\n",
        "## word index encoding\n",
        "for i, sentences in enumerate(articles_heading):\n",
        "    for j, sent in enumerate(sentences):\n",
        "        if j < MAX_SENTS_HEADING:\n",
        "            wordTokens = text_to_word_sequence(sent)\n",
        "            k = 0\n",
        "            for _, word in enumerate(wordTokens):\n",
        "                try:\n",
        "                    if k < MAX_SENT_LENGTH and t.word_index[word] < MAX_NB_WORDS:\n",
        "                        data_heading[i, j, k] = t.word_index[word]\n",
        "                        k = k + 1\n",
        "                except:\n",
        "                    pass"
      ],
      "execution_count": 0,
      "outputs": []
    },
    {
      "cell_type": "markdown",
      "metadata": {
        "colab_type": "text",
        "id": "iaH0Ey1qe_Co"
      },
      "source": [
        "### Now the features are ready, lets make the labels ready for the model to process.\n",
        "\n",
        "### Convert labels into one-hot vectors\n",
        "\n",
        "You can use [get_dummies](https://pandas.pydata.org/pandas-docs/stable/generated/pandas.get_dummies.html) in pandas to create one-hot vectors."
      ]
    },
    {
      "cell_type": "code",
      "metadata": {
        "colab_type": "code",
        "id": "Zq-VcgM8fat1",
        "colab": {}
      },
      "source": [
        "## one-hot vectors for labels                  \n",
        "labels = dataset['Stance']\n",
        "targets = pd.Series(labels)\n",
        "one_hot = pd.get_dummies(targets, sparse = True)\n",
        "one_hot_labels = np.asarray(one_hot)\n",
        "labels = one_hot_labels"
      ],
      "execution_count": 0,
      "outputs": []
    },
    {
      "cell_type": "markdown",
      "metadata": {
        "colab_type": "text",
        "id": "40mA8FI2fcxZ"
      },
      "source": [
        "### Check 4:\n",
        "\n",
        "The shape of data and labels shoould match the given below numbers."
      ]
    },
    {
      "cell_type": "code",
      "metadata": {
        "colab_type": "code",
        "id": "vpEWEnjFfnFR",
        "outputId": "590260be-0e3d-492f-a1ee-90b987d9cbb0",
        "colab": {
          "base_uri": "https://localhost:8080/",
          "height": 50
        }
      },
      "source": [
        "print('Shape of data tensor:', data.shape)\n",
        "print('Shape of label tensor:', labels.shape)"
      ],
      "execution_count": 49,
      "outputs": [
        {
          "output_type": "stream",
          "text": [
            "Shape of data tensor: (12241, 20, 20)\n",
            "Shape of label tensor: (49972, 4)\n"
          ],
          "name": "stdout"
        }
      ]
    },
    {
      "cell_type": "markdown",
      "metadata": {
        "colab_type": "text",
        "id": "sDOxHdR3frDu"
      },
      "source": [
        "### Shuffle the data"
      ]
    },
    {
      "cell_type": "code",
      "metadata": {
        "colab_type": "code",
        "id": "-Ra-yYTvfzRt",
        "colab": {}
      },
      "source": [
        "## get numbers upto no.of articles\n",
        "indices = np.arange(data.shape[0])\n",
        "## shuffle the numbers\n",
        "np.random.shuffle(indices)"
      ],
      "execution_count": 0,
      "outputs": []
    },
    {
      "cell_type": "code",
      "metadata": {
        "colab_type": "code",
        "id": "LKnSqwIFf3Iy",
        "colab": {}
      },
      "source": [
        "## shuffle the data\n",
        "data = data[indices]\n",
        "data_heading = data_heading[indices]\n",
        "## shuffle the labels according to data\n",
        "labels = labels[indices]"
      ],
      "execution_count": 0,
      "outputs": []
    },
    {
      "cell_type": "markdown",
      "metadata": {
        "colab_type": "text",
        "id": "JcOFVfPBf9kA"
      },
      "source": [
        "### Split into train and validation sets. Split the train set 80:20 ratio to get the train and validation sets.\n",
        "\n",
        "\n",
        "Use the variable names as given below:\n",
        "\n",
        "x_train, x_val - for body of articles.\n",
        "\n",
        "x-heading_train, x_heading_val - for heading of articles.\n",
        "\n",
        "y_train - for training labels.\n",
        "\n",
        "y_val - for validation labels.\n",
        "\n"
      ]
    },
    {
      "cell_type": "code",
      "metadata": {
        "colab_type": "code",
        "id": "2neh9Wcof8iR",
        "colab": {}
      },
      "source": [
        "## no.of validation samples = 0.2 of original size\n",
        "nb_validation_samples = int(data.shape[0] * VALIDATION_SPLIT)"
      ],
      "execution_count": 0,
      "outputs": []
    },
    {
      "cell_type": "code",
      "metadata": {
        "colab_type": "code",
        "id": "o5u3PTz3gEV-",
        "colab": {}
      },
      "source": [
        "## for train and validation samples\n",
        "x_train = data[:-nb_validation_samples]\n",
        "x_heading_train = data_heading[:-nb_validation_samples]\n",
        "y_train = labels[:-nb_validation_samples]\n",
        "x_val = data[-nb_validation_samples:]\n",
        "x_heading_val = data_heading[-nb_validation_samples:]\n",
        "y_val = labels[-nb_validation_samples:]"
      ],
      "execution_count": 0,
      "outputs": []
    },
    {
      "cell_type": "markdown",
      "metadata": {
        "colab_type": "text",
        "id": "UTyvoHrsgMDw"
      },
      "source": [
        "### Check 5:\n",
        "\n",
        "The shape of x_train, x_val, y_train and y_val should match the below numbers."
      ]
    },
    {
      "cell_type": "code",
      "metadata": {
        "colab_type": "code",
        "id": "KLEbiw2Yghe2",
        "outputId": "061e711e-94d6-4b8e-8c7c-60f0f47d5673",
        "colab": {
          "base_uri": "https://localhost:8080/",
          "height": 84
        }
      },
      "source": [
        "print(x_train.shape)\n",
        "print(y_train.shape)\n",
        "\n",
        "print(x_val.shape)\n",
        "print(y_val.shape)"
      ],
      "execution_count": 56,
      "outputs": [
        {
          "output_type": "stream",
          "text": [
            "(9793, 20, 20)\n",
            "(9793, 4)\n",
            "(2448, 20, 20)\n",
            "(2448, 4)\n"
          ],
          "name": "stdout"
        }
      ]
    },
    {
      "cell_type": "markdown",
      "metadata": {
        "colab_type": "text",
        "id": "yNnoBtArhJ1E"
      },
      "source": [
        "### Create embedding matrix with the glove embeddings\n",
        "\n",
        "\n",
        "Run the below code to create embedding_matrix which has all the words and their glove embedding if present in glove word list."
      ]
    },
    {
      "cell_type": "code",
      "metadata": {
        "colab_type": "code",
        "id": "eKqn2IL2ZF8v",
        "outputId": "b0843a1c-0ac3-488c-93a3-2ebc6917a6ea",
        "colab": {
          "base_uri": "https://localhost:8080/",
          "height": 34
        }
      },
      "source": [
        "# load the whole embedding into memory\n",
        "embeddings_index = dict()\n",
        "f = open('/content/glove.6B.100d.txt')\n",
        "for line in f:\n",
        "\tvalues = line.split()\n",
        "\tword = values[0]\n",
        "\tcoefs = np.asarray(values[1:], dtype='float32')\n",
        "\tembeddings_index[word] = coefs\n",
        "f.close()\n",
        "print('Loaded %s word vectors.' % len(embeddings_index))\n",
        "\n",
        "# create a weight matrix for words in training docs\n",
        "embedding_matrix = np.zeros((vocab_size, 100))\n",
        "\n",
        "\n",
        "for word, i in t.word_index.items():\n",
        "\tembedding_vector = embeddings_index.get(word)\n",
        "\tif embedding_vector is not None:\n",
        "\t\tembedding_matrix[i] = embedding_vector"
      ],
      "execution_count": 57,
      "outputs": [
        {
          "output_type": "stream",
          "text": [
            "Loaded 400000 word vectors.\n"
          ],
          "name": "stdout"
        }
      ]
    },
    {
      "cell_type": "markdown",
      "metadata": {
        "colab_type": "text",
        "id": "LRi4o3ZspDFU"
      },
      "source": [
        "# Try the sequential model approach and report the accuracy score. [10 marks]  "
      ]
    },
    {
      "cell_type": "markdown",
      "metadata": {
        "colab_type": "text",
        "id": "zSZDnPWkw2ZZ"
      },
      "source": [
        "### Import layers from Keras to build the model"
      ]
    },
    {
      "cell_type": "code",
      "metadata": {
        "colab_type": "code",
        "id": "5AgwQsfMrzAQ",
        "colab": {}
      },
      "source": [
        "# Generic method to plot the VALIDATION curves\n",
        "def plot_validation_curve(history, metrics):\n",
        "    plt.clf()\n",
        "    history_dict = history.history\n",
        "    f, ax = plt.subplots(1, len(metrics), figsize=(16,6))\n",
        "    for i, metric in enumerate(metrics):\n",
        "        metric_values = history_dict[metric]\n",
        "        val_metric_values = history_dict['val_' + metric]\n",
        "        epochs = range(1, (len(history_dict[metric]) + 1))\n",
        "        ax[i].plot(epochs, metric_values, 'bo:', label='Training ' + metric)\n",
        "        ax[i].plot(epochs, val_metric_values, 'go-', label='Validation ' + metric)\n",
        "        ax[i].set_title('Training and Validation ' + ('Accuracy' if metric=='acc' else 'Loss'))\n",
        "        ax[i].set_xlabel('Epochs')\n",
        "        ax[i].set_ylabel('Accuracy' if metric=='acc' else 'Loss')\n",
        "        ax[i].legend()"
      ],
      "execution_count": 0,
      "outputs": []
    },
    {
      "cell_type": "code",
      "metadata": {
        "id": "t8xsIb9xVgtk",
        "colab_type": "code",
        "colab": {}
      },
      "source": [
        "# Generic method to print the classification report\n",
        "def classification_summary(y_test, y_pred, y_proba):\n",
        "    print('\\033[1mModel accuracy:\\033[0m %.2f%%' % (accuracy_score(y_test, y_pred) * 100))\n",
        "    print('_'*80)\n",
        "    print('\\033[1mConfusion matrix:\\033[0m\\n %s' % (confusion_matrix(y_test.argmax(axis=1), y_pred.argmax(axis=1))))\n",
        "    print('_'*80)\n",
        "    print('\\033[1mClassification report:\\033[0m\\n %s' % (classification_report(y_test, y_pred)))\n",
        "    print('_'*80)"
      ],
      "execution_count": 0,
      "outputs": []
    },
    {
      "cell_type": "markdown",
      "metadata": {
        "colab_type": "text",
        "id": "gpkVhIbx3gr1"
      },
      "source": [
        "### Model"
      ]
    },
    {
      "cell_type": "code",
      "metadata": {
        "id": "EczIn_o8fVZG",
        "colab_type": "code",
        "colab": {
          "base_uri": "https://localhost:8080/",
          "height": 306
        },
        "outputId": "2e0d5250-dbdd-432c-c18e-c5607bfd125c"
      },
      "source": [
        "# Build the model\n",
        "embedding_dim = 100\n",
        "\n",
        "sentence_input = Input(shape=(MAX_SENT_LENGTH,), dtype='int32')\n",
        "print(sentence_input)\n",
        "embedded_sequences = Embedding(output_dim=embedding_dim, \n",
        "                               input_dim=vocab_size, \n",
        "                               input_length=(MAX_SENT_LENGTH,), \n",
        "                               weights=[embedding_matrix])(sentence_input)\n",
        "\n",
        "l_lstm = Bidirectional(LSTM(100, return_sequences=True,\n",
        "                            dropout=0.4,\n",
        "                            kernel_constraint=unit_norm(),\n",
        "                            recurrent_constraint=unit_norm(),\n",
        "                            bias_constraint=unit_norm()))(embedded_sequences)\n",
        "l_dense = TimeDistributed(Dense(100))(l_lstm)\n",
        "l_dropout = Dropout(0.4)(l_dense)\n",
        "l_dense = Flatten()(l_dropout)\n",
        "sentEncoder = Model(sentence_input, l_dense)\n",
        "\n",
        "body_input = Input(shape=(MAX_SENTS,MAX_SENT_LENGTH,), dtype='int32')\n",
        "print(body_input)\n",
        "body_encoder = TimeDistributed(sentEncoder)(body_input)\n",
        "print(body_encoder)\n",
        "l_lstm_sent = Bidirectional(LSTM(100, return_sequences=True,\n",
        "                            dropout=0.4,\n",
        "                            kernel_constraint=unit_norm(),\n",
        "                            recurrent_constraint=unit_norm(),\n",
        "                            bias_constraint=unit_norm()))(body_encoder)\n",
        "l_dense_sent = TimeDistributed(Dense(100))(l_lstm_sent)\n",
        "l_dropout_sent = Dropout(0.4)(l_dense_sent)\n",
        "l_dense_sent = Flatten()(l_dropout_sent)\n",
        "\n",
        "\n",
        "heading_input = Input(shape=(MAX_SENTS_HEADING, MAX_SENT_LENGTH,), dtype='int32')\n",
        "heading_embedded_sequences = Embedding(output_dim=embedding_dim, \n",
        "                                       input_dim=vocab_size,\n",
        "                                       input_length=(MAX_SENTS_HEADING, MAX_SENT_LENGTH,), \n",
        "                                       weights=[embedding_matrix])(heading_input)\n",
        "h_dense = Dense(100, activation='relu')(heading_embedded_sequences)\n",
        "h_flatten = Flatten()(h_dense)\n",
        "article_output = concatenate([l_dense_sent, h_flatten], name='concatenate_heading')\n",
        "\n",
        "news_vector = Dense(100, activation='relu')(article_output)\n",
        "preds = Dense(4, activation='softmax')(news_vector)\n",
        "model = Model([body_input, heading_input], [preds])"
      ],
      "execution_count": 60,
      "outputs": [
        {
          "output_type": "stream",
          "text": [
            "WARNING:tensorflow:From /usr/local/lib/python3.6/dist-packages/keras/backend/tensorflow_backend.py:66: The name tf.get_default_graph is deprecated. Please use tf.compat.v1.get_default_graph instead.\n",
            "\n",
            "WARNING:tensorflow:From /usr/local/lib/python3.6/dist-packages/keras/backend/tensorflow_backend.py:541: The name tf.placeholder is deprecated. Please use tf.compat.v1.placeholder instead.\n",
            "\n",
            "Tensor(\"input_1:0\", shape=(?, 20), dtype=int32)\n",
            "WARNING:tensorflow:From /usr/local/lib/python3.6/dist-packages/keras/backend/tensorflow_backend.py:4432: The name tf.random_uniform is deprecated. Please use tf.random.uniform instead.\n",
            "\n",
            "WARNING:tensorflow:From /usr/local/lib/python3.6/dist-packages/keras/backend/tensorflow_backend.py:190: The name tf.get_default_session is deprecated. Please use tf.compat.v1.get_default_session instead.\n",
            "\n",
            "WARNING:tensorflow:From /usr/local/lib/python3.6/dist-packages/keras/backend/tensorflow_backend.py:197: The name tf.ConfigProto is deprecated. Please use tf.compat.v1.ConfigProto instead.\n",
            "\n",
            "WARNING:tensorflow:From /usr/local/lib/python3.6/dist-packages/keras/backend/tensorflow_backend.py:3733: calling dropout (from tensorflow.python.ops.nn_ops) with keep_prob is deprecated and will be removed in a future version.\n",
            "Instructions for updating:\n",
            "Please use `rate` instead of `keep_prob`. Rate should be set to `rate = 1 - keep_prob`.\n",
            "Tensor(\"input_2:0\", shape=(?, 20, 20), dtype=int32)\n",
            "Tensor(\"time_distributed_2/Reshape_1:0\", shape=(?, 20, 2000), dtype=float32)\n"
          ],
          "name": "stdout"
        }
      ]
    },
    {
      "cell_type": "code",
      "metadata": {
        "id": "mcREaqISVjnF",
        "colab_type": "code",
        "colab": {
          "base_uri": "https://localhost:8080/",
          "height": 605
        },
        "outputId": "223e49a6-4592-4e34-b94a-2ca9af0c3bf3"
      },
      "source": [
        "model.summary()"
      ],
      "execution_count": 61,
      "outputs": [
        {
          "output_type": "stream",
          "text": [
            "Model: \"model_2\"\n",
            "__________________________________________________________________________________________________\n",
            "Layer (type)                    Output Shape         Param #     Connected to                     \n",
            "==================================================================================================\n",
            "input_2 (InputLayer)            (None, 20, 20)       0                                            \n",
            "__________________________________________________________________________________________________\n",
            "time_distributed_2 (TimeDistrib (None, 20, 2000)     2834100     input_2[0][0]                    \n",
            "__________________________________________________________________________________________________\n",
            "bidirectional_2 (Bidirectional) (None, 20, 200)      1680800     time_distributed_2[0][0]         \n",
            "__________________________________________________________________________________________________\n",
            "input_3 (InputLayer)            (None, 1, 20)        0                                            \n",
            "__________________________________________________________________________________________________\n",
            "time_distributed_3 (TimeDistrib (None, 20, 100)      20100       bidirectional_2[0][0]            \n",
            "__________________________________________________________________________________________________\n",
            "embedding_2 (Embedding)         (None, 1, 20, 100)   2653200     input_3[0][0]                    \n",
            "__________________________________________________________________________________________________\n",
            "dropout_2 (Dropout)             (None, 20, 100)      0           time_distributed_3[0][0]         \n",
            "__________________________________________________________________________________________________\n",
            "dense_3 (Dense)                 (None, 1, 20, 100)   10100       embedding_2[0][0]                \n",
            "__________________________________________________________________________________________________\n",
            "flatten_2 (Flatten)             (None, 2000)         0           dropout_2[0][0]                  \n",
            "__________________________________________________________________________________________________\n",
            "flatten_3 (Flatten)             (None, 2000)         0           dense_3[0][0]                    \n",
            "__________________________________________________________________________________________________\n",
            "concatenate_heading (Concatenat (None, 4000)         0           flatten_2[0][0]                  \n",
            "                                                                 flatten_3[0][0]                  \n",
            "__________________________________________________________________________________________________\n",
            "dense_4 (Dense)                 (None, 100)          400100      concatenate_heading[0][0]        \n",
            "__________________________________________________________________________________________________\n",
            "dense_5 (Dense)                 (None, 4)            404         dense_4[0][0]                    \n",
            "==================================================================================================\n",
            "Total params: 7,598,804\n",
            "Trainable params: 7,598,804\n",
            "Non-trainable params: 0\n",
            "__________________________________________________________________________________________________\n"
          ],
          "name": "stdout"
        }
      ]
    },
    {
      "cell_type": "markdown",
      "metadata": {
        "colab_type": "text",
        "id": "C5Xrd-JQ3id7"
      },
      "source": [
        "### Compile and fit the model"
      ]
    },
    {
      "cell_type": "code",
      "metadata": {
        "colab_type": "code",
        "id": "MlduHU2CovxC",
        "colab": {}
      },
      "source": [
        "#Path to save the weights, model and checkpoints\n",
        "model_path = \"Weights/\"\n",
        "%mkdir Weights"
      ],
      "execution_count": 0,
      "outputs": []
    },
    {
      "cell_type": "code",
      "metadata": {
        "colab_type": "code",
        "id": "CM3yCmjQoCM3",
        "colab": {}
      },
      "source": [
        "def call_backs(name):\n",
        "    early_stopping = EarlyStopping(monitor='val_loss', min_delta=0.005, patience=100)\n",
        "    model_checkpoint =  ModelCheckpoint(model_path + name + '_epoch_{epoch:02d}_loss{val_loss:.4f}.h5',\n",
        "                                                               monitor='val_loss',\n",
        "                                                               verbose=1,\n",
        "                                                               save_best_only=True,\n",
        "                                                               save_weights_only=False,\n",
        "                                                               mode='min',\n",
        "                                                               period=1)\n",
        "    return [model_checkpoint, early_stopping]"
      ],
      "execution_count": 0,
      "outputs": []
    },
    {
      "cell_type": "code",
      "metadata": {
        "id": "xtKRreYhD_T0",
        "colab_type": "code",
        "colab": {
          "base_uri": "https://localhost:8080/",
          "height": 860
        },
        "outputId": "7e51fce6-43d6-435b-8def-5900a5dc64f2"
      },
      "source": [
        "st = time()\n",
        "epochs = 10\n",
        "batches = 50\n",
        "model.compile(loss='categorical_crossentropy',\n",
        "              optimizer='rmsprop',\n",
        "              metrics=['acc'])\n",
        "print(\"Training Hierachical LSTM network\")\n",
        "history = model.fit([x_train, x_heading_train], [y_train], \n",
        "                    validation_data=([x_val, x_heading_val], [y_val]), \n",
        "                    callbacks=call_backs('stance.fake.news'), \n",
        "                    epochs=epochs, \n",
        "                    batch_size=batches)\n",
        "\n",
        "print('Time taken to train the network: %.2f sec' % (time()-st))\n",
        "\n",
        "# Save weights\n",
        "model.save_weights(model_path + 'stance.fake.news_weights_epoch_{}.h5'.format(epochs))\n",
        "print (\"model and weight files saved at : \" + os.path.join(os.getcwd(), model_path))"
      ],
      "execution_count": 64,
      "outputs": [
        {
          "output_type": "stream",
          "text": [
            "WARNING:tensorflow:From /usr/local/lib/python3.6/dist-packages/keras/optimizers.py:793: The name tf.train.Optimizer is deprecated. Please use tf.compat.v1.train.Optimizer instead.\n",
            "\n",
            "Training Hierachical LSTM network\n",
            "WARNING:tensorflow:From /usr/local/lib/python3.6/dist-packages/tensorflow/python/ops/math_grad.py:1250: add_dispatch_support.<locals>.wrapper (from tensorflow.python.ops.array_ops) is deprecated and will be removed in a future version.\n",
            "Instructions for updating:\n",
            "Use tf.where in 2.0, which has the same broadcast rule as np.where\n",
            "Train on 9793 samples, validate on 2448 samples\n",
            "Epoch 1/10\n",
            "9793/9793 [==============================] - 279s 28ms/step - loss: 0.4960 - acc: 0.8783 - val_loss: 0.5122 - val_acc: 0.8746\n",
            "\n",
            "Epoch 00001: val_loss improved from inf to 0.51220, saving model to Weights/stance.fake.news_epoch_01_loss0.5122.h5\n",
            "Epoch 2/10\n",
            "9793/9793 [==============================] - 264s 27ms/step - loss: 0.3903 - acc: 0.8899 - val_loss: 0.4570 - val_acc: 0.8824\n",
            "\n",
            "Epoch 00002: val_loss improved from 0.51220 to 0.45696, saving model to Weights/stance.fake.news_epoch_02_loss0.4570.h5\n",
            "Epoch 3/10\n",
            "9793/9793 [==============================] - 259s 26ms/step - loss: 0.3475 - acc: 0.8983 - val_loss: 0.4277 - val_acc: 0.8599\n",
            "\n",
            "Epoch 00003: val_loss improved from 0.45696 to 0.42771, saving model to Weights/stance.fake.news_epoch_03_loss0.4277.h5\n",
            "Epoch 4/10\n",
            "9793/9793 [==============================] - 261s 27ms/step - loss: 0.2940 - acc: 0.9059 - val_loss: 0.3838 - val_acc: 0.8840\n",
            "\n",
            "Epoch 00004: val_loss improved from 0.42771 to 0.38375, saving model to Weights/stance.fake.news_epoch_04_loss0.3838.h5\n",
            "Epoch 5/10\n",
            "9793/9793 [==============================] - 258s 26ms/step - loss: 0.2511 - acc: 0.9161 - val_loss: 0.3589 - val_acc: 0.8811\n",
            "\n",
            "Epoch 00005: val_loss improved from 0.38375 to 0.35889, saving model to Weights/stance.fake.news_epoch_05_loss0.3589.h5\n",
            "Epoch 6/10\n",
            "9793/9793 [==============================] - 256s 26ms/step - loss: 0.2244 - acc: 0.9248 - val_loss: 0.3327 - val_acc: 0.8938\n",
            "\n",
            "Epoch 00006: val_loss improved from 0.35889 to 0.33270, saving model to Weights/stance.fake.news_epoch_06_loss0.3327.h5\n",
            "Epoch 7/10\n",
            "9793/9793 [==============================] - 256s 26ms/step - loss: 0.2004 - acc: 0.9329 - val_loss: 0.3779 - val_acc: 0.8962\n",
            "\n",
            "Epoch 00007: val_loss did not improve from 0.33270\n",
            "Epoch 8/10\n",
            "9793/9793 [==============================] - 257s 26ms/step - loss: 0.1831 - acc: 0.9354 - val_loss: 0.3241 - val_acc: 0.9073\n",
            "\n",
            "Epoch 00008: val_loss improved from 0.33270 to 0.32408, saving model to Weights/stance.fake.news_epoch_08_loss0.3241.h5\n",
            "Epoch 9/10\n",
            "9793/9793 [==============================] - 262s 27ms/step - loss: 0.1594 - acc: 0.9448 - val_loss: 0.3409 - val_acc: 0.9020\n",
            "\n",
            "Epoch 00009: val_loss did not improve from 0.32408\n",
            "Epoch 10/10\n",
            "9793/9793 [==============================] - 264s 27ms/step - loss: 0.1506 - acc: 0.9478 - val_loss: 0.3838 - val_acc: 0.9130\n",
            "\n",
            "Epoch 00010: val_loss did not improve from 0.32408\n",
            "Time taken to train the network: 2620.69 sec\n",
            "model and weight files saved at : /content/Weights/\n"
          ],
          "name": "stdout"
        }
      ]
    },
    {
      "cell_type": "code",
      "metadata": {
        "id": "r_WBuDyjERRb",
        "colab_type": "code",
        "colab": {
          "base_uri": "https://localhost:8080/",
          "height": 425
        },
        "outputId": "965ff039-8663-4eb2-ab3c-1ce812303134"
      },
      "source": [
        "# Validate accuracy and loss\n",
        "plot_validation_curve(history, ['acc','loss'])"
      ],
      "execution_count": 65,
      "outputs": [
        {
          "output_type": "display_data",
          "data": {
            "text/plain": [
              "<Figure size 432x288 with 0 Axes>"
            ]
          },
          "metadata": {
            "tags": []
          }
        },
        {
          "output_type": "display_data",
          "data": {
            "image/png": "[encoded data removed]",
            "text/plain": [
              "<Figure size 1152x432 with 2 Axes>"
            ]
          },
          "metadata": {
            "tags": []
          }
        }
      ]
    },
    {
      "cell_type": "code",
      "metadata": {
        "id": "6MUgUktUEwHT",
        "colab_type": "code",
        "colab": {
          "base_uri": "https://localhost:8080/",
          "height": 50
        },
        "outputId": "f60fc2b0-e48a-4320-c021-a77b228253f6"
      },
      "source": [
        "loss, acc = model.evaluate([x_val, x_heading_val], y_val)\n",
        "print('Accuracy:', np.round(acc * 100, decimals=2))"
      ],
      "execution_count": 66,
      "outputs": [
        {
          "output_type": "stream",
          "text": [
            "2448/2448 [==============================] - 16s 7ms/step\n",
            "Accuracy: 91.3\n"
          ],
          "name": "stdout"
        }
      ]
    },
    {
      "cell_type": "code",
      "metadata": {
        "id": "iPsVXPtGEy8o",
        "colab_type": "code",
        "colab": {
          "base_uri": "https://localhost:8080/",
          "height": 386
        },
        "outputId": "afe43616-d20d-4f1c-d8eb-0f5fa13f85d2"
      },
      "source": [
        "# Analyze Classification Summary\n",
        "y_proba = model.predict([x_val, x_heading_val])\n",
        "y_pred = (y_proba > 0.5).astype('int32')\n",
        "classification_summary(y_val, y_pred, y_proba)"
      ],
      "execution_count": 67,
      "outputs": [
        {
          "output_type": "stream",
          "text": [
            "\u001b[1mModel accuracy:\u001b[0m 91.05%\n",
            "________________________________________________________________________________\n",
            "\u001b[1mConfusion matrix:\u001b[0m\n",
            " [[  19    1   12   64]\n",
            " [   5    0    1    6]\n",
            " [   3    0  116   80]\n",
            " [  13    0   30 2098]]\n",
            "________________________________________________________________________________\n",
            "\u001b[1mClassification report:\u001b[0m\n",
            "               precision    recall  f1-score   support\n",
            "\n",
            "           0       0.52      0.16      0.24        96\n",
            "           1       0.00      0.00      0.00        12\n",
            "           2       0.73      0.58      0.65       199\n",
            "           3       0.93      0.98      0.96      2141\n",
            "\n",
            "   micro avg       0.91      0.91      0.91      2448\n",
            "   macro avg       0.55      0.43      0.46      2448\n",
            "weighted avg       0.90      0.91      0.90      2448\n",
            " samples avg       0.91      0.91      0.91      2448\n",
            "\n",
            "________________________________________________________________________________\n"
          ],
          "name": "stdout"
        }
      ]
    },
    {
      "cell_type": "markdown",
      "metadata": {
        "id": "F9RtjZ0LE1ym",
        "colab_type": "text"
      },
      "source": [
        "\n",
        "Observations:\n",
        "\n",
        "This network shows a very good accuracy with acceptable loss.\n",
        "However, it can be observed that in the accuracy and loss curves, there were few iterations  model was in showing overfitment.\n",
        "This could be because of the problem of long-range dependency problem of RNN/LSTMs.\n",
        "There are two RNNs/LSTMs. One we call the encoder – this reads the input sentence and tries to make sense of it, before summarizing it. It passes the summary (context vector) to the decoder which translates the input sentence by just seeing it.\n",
        "\n",
        "The main drawback of this approach is evident. If the encoder makes a bad summary, the translation will also be bad. And indeed it is possible that the encoder can create a bad summary when it tries to understand longer sentences. Although an LSTM is supposed to capture the long-range dependency better than the RNN, it tends to become forgetful in specific cases. Another problem is that there is no way to give more importance to some of the input words compared to others while translating the sentence."
      ]
    },
    {
      "cell_type": "markdown",
      "metadata": {
        "colab_type": "text",
        "id": "R47A6Ysfev3l"
      },
      "source": [
        "## Build the same model with attention layers included for better performance (Optional)"
      ]
    },
    {
      "cell_type": "code",
      "metadata": {
        "colab_type": "code",
        "id": "ZQ3TWuiAe1Uu",
        "colab": {}
      },
      "source": [
        "# Define Attention Layer\n",
        "class Attention(Layer):\n",
        "    def __init__(self, attention_dim):\n",
        "        self.init = initializers.get('normal')\n",
        "        self.supports_masking = True\n",
        "        self.attention_dim = attention_dim\n",
        "        super(Attention, self).__init__()\n",
        "\n",
        "    def build(self, input_shape):\n",
        "        assert len(input_shape) == 3\n",
        "        self.W = K.variable(self.init((input_shape[-1], self.attention_dim)))\n",
        "        self.b = K.variable(self.init((self.attention_dim, )))\n",
        "        self.u = K.variable(self.init((self.attention_dim, 1)))\n",
        "        self.trainable_weights = [self.W, self.b, self.u]\n",
        "        super(Attention, self).build(input_shape)\n",
        "\n",
        "    def compute_mask(self, inputs, mask=None):\n",
        "        return mask\n",
        "\n",
        "    def call(self, x, mask=None):\n",
        "        # size of x :[batch_size, sel_len, attention_dim]\n",
        "        # size of u :[batch_size, attention_dim]\n",
        "        # uit = tanh(xW+b)\n",
        "        uit = K.tanh(K.bias_add(K.dot(x, self.W), self.b))\n",
        "        ait = K.dot(uit, self.u)\n",
        "        ait = K.squeeze(ait, -1)\n",
        "\n",
        "        ait = K.exp(ait)\n",
        "\n",
        "        if mask is not None:\n",
        "            # Cast the mask to floatX to avoid float64 upcasting in theano\n",
        "            ait *= K.cast(mask, K.floatx())\n",
        "        ait /= K.cast(K.sum(ait, axis=1, keepdims=True) + K.epsilon(), K.floatx())\n",
        "        ait = K.expand_dims(ait)\n",
        "        weighted_input = x * ait\n",
        "        output = K.sum(weighted_input, axis=1)\n",
        "\n",
        "        return output\n",
        "\n",
        "    def compute_output_shape(self, input_shape):\n",
        "        return (input_shape[0], input_shape[-1])"
      ],
      "execution_count": 0,
      "outputs": []
    },
    {
      "cell_type": "code",
      "metadata": {
        "colab_type": "code",
        "id": "wivJ-eVkfEOm",
        "colab": {}
      },
      "source": [
        "# Build the model with Attention Layer\n",
        "embedding_dim = 100\n",
        "\n",
        "sentence_input = Input(shape=(MAX_SENT_LENGTH,), dtype='int32')\n",
        "embedded_sequences = Embedding(output_dim=embedding_dim, \n",
        "                               input_dim=vocab_size, \n",
        "                               input_length=(MAX_SENT_LENGTH,), \n",
        "                               weights=[embedding_matrix])(sentence_input)\n",
        "\n",
        "l_lstm = Bidirectional(LSTM(100, return_sequences=True,\n",
        "                            dropout=0.4,\n",
        "                            kernel_constraint=unit_norm(),\n",
        "                            recurrent_constraint=unit_norm(),\n",
        "                            bias_constraint=unit_norm()))(embedded_sequences)\n",
        "l_dense = TimeDistributed(Dense(100))(l_lstm)\n",
        "l_dropout = Dropout(0.4)(l_dense)\n",
        "# Add Attention Layer\n",
        "l_att = Attention(100)(l_dropout)\n",
        "sentEncoder = Model(sentence_input, l_att)\n",
        "\n",
        "body_input = Input(shape=(MAX_SENTS,MAX_SENT_LENGTH), dtype='int32')\n",
        "body_encoder = TimeDistributed(sentEncoder)(body_input)\n",
        "l_lstm_sent = Bidirectional(LSTM(100, return_sequences=True,\n",
        "                            dropout=0.4,\n",
        "                            kernel_constraint=unit_norm(),\n",
        "                            recurrent_constraint=unit_norm(),\n",
        "                            bias_constraint=unit_norm()))(body_encoder)\n",
        "l_dense_sent = TimeDistributed(Dense(100))(l_lstm_sent)\n",
        "l_dropout_sent = Dropout(0.4)(l_dense_sent)\n",
        "# Add Attention Layer\n",
        "l_att_sent = Attention(100)(l_dropout_sent)\n",
        "\n",
        "\n",
        "heading_input = Input(shape=(MAX_SENTS_HEADING, MAX_SENT_LENGTH,), dtype='int32')\n",
        "heading_embedded_sequences = Embedding(output_dim=embedding_dim, \n",
        "                                       input_dim=vocab_size, \n",
        "                                       input_length=(MAX_SENTS_HEADING, MAX_SENT_LENGTH,), \n",
        "                                       weights=[embedding_matrix])(heading_input)\n",
        "h_dense = Dense(10, activation='relu')(heading_embedded_sequences)\n",
        "h_flatten = Flatten()(h_dense)\n",
        "article_output = concatenate([l_att_sent, h_flatten], name='concatenate_heading')\n",
        "\n",
        "news_vector = Dense(100, activation='relu')(article_output)\n",
        "preds = Dense(4, activation='softmax')(news_vector)\n",
        "model = Model([body_input, heading_input], [preds])"
      ],
      "execution_count": 0,
      "outputs": []
    },
    {
      "cell_type": "code",
      "metadata": {
        "id": "Xw8tV8D5E_Qg",
        "colab_type": "code",
        "colab": {
          "base_uri": "https://localhost:8080/",
          "height": 605
        },
        "outputId": "a6287426-6f39-4fe1-92bd-ad36e98f0647"
      },
      "source": [
        "model.summary()"
      ],
      "execution_count": 70,
      "outputs": [
        {
          "output_type": "stream",
          "text": [
            "Model: \"model_4\"\n",
            "__________________________________________________________________________________________________\n",
            "Layer (type)                    Output Shape         Param #     Connected to                     \n",
            "==================================================================================================\n",
            "input_5 (InputLayer)            (None, 20, 20)       0                                            \n",
            "__________________________________________________________________________________________________\n",
            "time_distributed_5 (TimeDistrib (None, 20, 100)      2844300     input_5[0][0]                    \n",
            "__________________________________________________________________________________________________\n",
            "bidirectional_4 (Bidirectional) (None, 20, 200)      160800      time_distributed_5[0][0]         \n",
            "__________________________________________________________________________________________________\n",
            "input_6 (InputLayer)            (None, 1, 20)        0                                            \n",
            "__________________________________________________________________________________________________\n",
            "time_distributed_6 (TimeDistrib (None, 20, 100)      20100       bidirectional_4[0][0]            \n",
            "__________________________________________________________________________________________________\n",
            "embedding_4 (Embedding)         (None, 1, 20, 100)   2653200     input_6[0][0]                    \n",
            "__________________________________________________________________________________________________\n",
            "dropout_4 (Dropout)             (None, 20, 100)      0           time_distributed_6[0][0]         \n",
            "__________________________________________________________________________________________________\n",
            "dense_8 (Dense)                 (None, 1, 20, 10)    1010        embedding_4[0][0]                \n",
            "__________________________________________________________________________________________________\n",
            "attention_2 (Attention)         (None, 100)          10200       dropout_4[0][0]                  \n",
            "__________________________________________________________________________________________________\n",
            "flatten_4 (Flatten)             (None, 200)          0           dense_8[0][0]                    \n",
            "__________________________________________________________________________________________________\n",
            "concatenate_heading (Concatenat (None, 300)          0           attention_2[0][0]                \n",
            "                                                                 flatten_4[0][0]                  \n",
            "__________________________________________________________________________________________________\n",
            "dense_9 (Dense)                 (None, 100)          30100       concatenate_heading[0][0]        \n",
            "__________________________________________________________________________________________________\n",
            "dense_10 (Dense)                (None, 4)            404         dense_9[0][0]                    \n",
            "==================================================================================================\n",
            "Total params: 5,720,114\n",
            "Trainable params: 5,720,114\n",
            "Non-trainable params: 0\n",
            "__________________________________________________________________________________________________\n"
          ],
          "name": "stdout"
        }
      ]
    },
    {
      "cell_type": "markdown",
      "metadata": {
        "colab_type": "text",
        "id": "olqo5ytRe7eq"
      },
      "source": [
        "## Fit the model and report the accuracy score for the model with attention layer (Optional)"
      ]
    },
    {
      "cell_type": "code",
      "metadata": {
        "colab_type": "code",
        "id": "1zgxPrhzfBkv",
        "colab": {
          "base_uri": "https://localhost:8080/",
          "height": 759
        },
        "outputId": "0647daca-00da-4c97-dfa1-9f7bf4e6aea7"
      },
      "source": [
        "st = time()\n",
        "epochs = 10\n",
        "batches = 50\n",
        "model.compile(loss='categorical_crossentropy',\n",
        "              optimizer='rmsprop',\n",
        "              metrics=['acc'])\n",
        "\n",
        "print(\"Training Hierachical Attention LSTM network\")\n",
        "history = model.fit([x_train, x_heading_train], [y_train], \n",
        "                    validation_data=([x_val, x_heading_val], [y_val]), \n",
        "                    callbacks=call_backs('stance.fake.news.Attention'), \n",
        "                    epochs=epochs, \n",
        "                    batch_size=batches)\n",
        "print('Time taken to train the Attention network: %.2f sec' % (time()-st))"
      ],
      "execution_count": 71,
      "outputs": [
        {
          "output_type": "stream",
          "text": [
            "Training Hierachical Attention LSTM network\n",
            "Train on 9793 samples, validate on 2448 samples\n",
            "Epoch 1/10\n",
            "9793/9793 [==============================] - 196s 20ms/step - loss: 0.4699 - acc: 0.8884 - val_loss: 0.5030 - val_acc: 0.8746\n",
            "\n",
            "Epoch 00001: val_loss improved from inf to 0.50296, saving model to Weights/stance.fake.news.Attention_epoch_01_loss0.5030.h5\n",
            "Epoch 2/10\n",
            "9793/9793 [==============================] - 191s 19ms/step - loss: 0.4526 - acc: 0.8838 - val_loss: 0.4407 - val_acc: 0.8725\n",
            "\n",
            "Epoch 00002: val_loss improved from 0.50296 to 0.44071, saving model to Weights/stance.fake.news.Attention_epoch_02_loss0.4407.h5\n",
            "Epoch 3/10\n",
            "9793/9793 [==============================] - 194s 20ms/step - loss: 0.4641 - acc: 0.8779 - val_loss: 0.5433 - val_acc: 0.8717\n",
            "\n",
            "Epoch 00003: val_loss did not improve from 0.44071\n",
            "Epoch 4/10\n",
            "9793/9793 [==============================] - 193s 20ms/step - loss: 0.4987 - acc: 0.8679 - val_loss: 0.5346 - val_acc: 0.8746\n",
            "\n",
            "Epoch 00004: val_loss did not improve from 0.44071\n",
            "Epoch 5/10\n",
            "9793/9793 [==============================] - 190s 19ms/step - loss: 0.5439 - acc: 0.8598 - val_loss: 0.8279 - val_acc: 0.8746\n",
            "\n",
            "Epoch 00005: val_loss did not improve from 0.44071\n",
            "Epoch 6/10\n",
            "9793/9793 [==============================] - 194s 20ms/step - loss: 0.6282 - acc: 0.8524 - val_loss: 1.0239 - val_acc: 0.8730\n",
            "\n",
            "Epoch 00006: val_loss did not improve from 0.44071\n",
            "Epoch 7/10\n",
            "9793/9793 [==============================] - 199s 20ms/step - loss: 0.7484 - acc: 0.8443 - val_loss: 0.5671 - val_acc: 0.8676\n",
            "\n",
            "Epoch 00007: val_loss did not improve from 0.44071\n",
            "Epoch 8/10\n",
            "9793/9793 [==============================] - 194s 20ms/step - loss: 1.4127 - acc: 0.8565 - val_loss: 2.0213 - val_acc: 0.8746\n",
            "\n",
            "Epoch 00008: val_loss did not improve from 0.44071\n",
            "Epoch 9/10\n",
            "9793/9793 [==============================] - 192s 20ms/step - loss: 1.8193 - acc: 0.8848 - val_loss: 2.0213 - val_acc: 0.8746\n",
            "\n",
            "Epoch 00009: val_loss did not improve from 0.44071\n",
            "Epoch 10/10\n",
            "9793/9793 [==============================] - 194s 20ms/step - loss: 1.8019 - acc: 0.8851 - val_loss: 2.0213 - val_acc: 0.8746\n",
            "\n",
            "Epoch 00010: val_loss did not improve from 0.44071\n",
            "Time taken to train the Attention network: 1941.60 sec\n"
          ],
          "name": "stdout"
        }
      ]
    },
    {
      "cell_type": "code",
      "metadata": {
        "colab_type": "code",
        "id": "z8507P94fDuX",
        "colab": {
          "base_uri": "https://localhost:8080/",
          "height": 425
        },
        "outputId": "2f11d454-4042-41fa-cb22-c2b4bf2bf6cd"
      },
      "source": [
        "#Evaluate Model\n",
        "# VALIDATION ACCURACY and LOSS Curve\n",
        "plot_validation_curve(history, ['acc','loss'])"
      ],
      "execution_count": 72,
      "outputs": [
        {
          "output_type": "display_data",
          "data": {
            "text/plain": [
              "<Figure size 432x288 with 0 Axes>"
            ]
          },
          "metadata": {
            "tags": []
          }
        },
        {
          "output_type": "display_data",
          "data": {
            "image/png": "[encoded data removed]",
            "text/plain": [
              "<Figure size 1152x432 with 2 Axes>"
            ]
          },
          "metadata": {
            "tags": []
          }
        }
      ]
    },
    {
      "cell_type": "code",
      "metadata": {
        "id": "zHBuA9XTFOIt",
        "colab_type": "code",
        "colab": {
          "base_uri": "https://localhost:8080/",
          "height": 50
        },
        "outputId": "6a4c3161-27de-44da-a3b4-06da19fd6832"
      },
      "source": [
        "loss, acc = model.evaluate([x_val, x_heading_val], y_val)\n",
        "print('Accuracy:', np.round(acc * 100, decimals=2))"
      ],
      "execution_count": 73,
      "outputs": [
        {
          "output_type": "stream",
          "text": [
            "2448/2448 [==============================] - 13s 5ms/step\n",
            "Accuracy: 87.46\n"
          ],
          "name": "stdout"
        }
      ]
    },
    {
      "cell_type": "code",
      "metadata": {
        "id": "tXpJxtqjFOLr",
        "colab_type": "code",
        "colab": {
          "base_uri": "https://localhost:8080/",
          "height": 386
        },
        "outputId": "497d2439-8fad-4f67-ecf2-fcf339611f0f"
      },
      "source": [
        "# Analyze Classification Summary\n",
        "y_proba = model.predict([x_val, x_heading_val])\n",
        "y_pred = (y_proba > 0.5).astype('int32')\n",
        "classification_summary(y_val, y_pred, y_proba)"
      ],
      "execution_count": 74,
      "outputs": [
        {
          "output_type": "stream",
          "text": [
            "\u001b[1mModel accuracy:\u001b[0m 87.46%\n",
            "________________________________________________________________________________\n",
            "\u001b[1mConfusion matrix:\u001b[0m\n",
            " [[   0    0    0   96]\n",
            " [   0    0    0   12]\n",
            " [   0    0    0  199]\n",
            " [   0    0    0 2141]]\n",
            "________________________________________________________________________________\n",
            "\u001b[1mClassification report:\u001b[0m\n",
            "               precision    recall  f1-score   support\n",
            "\n",
            "           0       0.00      0.00      0.00        96\n",
            "           1       0.00      0.00      0.00        12\n",
            "           2       0.00      0.00      0.00       199\n",
            "           3       0.87      1.00      0.93      2141\n",
            "\n",
            "   micro avg       0.87      0.87      0.87      2448\n",
            "   macro avg       0.22      0.25      0.23      2448\n",
            "weighted avg       0.76      0.87      0.82      2448\n",
            " samples avg       0.87      0.87      0.87      2448\n",
            "\n",
            "________________________________________________________________________________\n"
          ],
          "name": "stdout"
        }
      ]
    },
    {
      "cell_type": "markdown",
      "metadata": {
        "id": "FPKeHIGNFXvz",
        "colab_type": "text"
      },
      "source": [
        "Observations:\n",
        "\n",
        "This network shows a very good accuracy with better reduction in loss compared to the first network.\n",
        "Also the graphs for accuracy and loss doesn't show any traces of overfitting, unlike the first network without Attention layer.\n"
      ]
    },
    {
      "cell_type": "markdown",
      "metadata": {
        "id": "a8l1lsgQFYbQ",
        "colab_type": "text"
      },
      "source": [
        "\n",
        "Summary\n",
        "RNNs cannot remember longer sentences and sequences due to the vanishing/exploding gradient problem. Although an LSTM is supposed to capture the long-range dependency better than the RNN, it tends to become forgetful in specific cases where the context is located a few words back rather than the ones it has just seen and remembered. Hence the performance of the encoder-decoder network degrades rapidly as the length of the input sentence increases.\n",
        "\n",
        "So Attention mechanism comes does a better job where not only can all the input words be taken into account in the context vector, but relative importance should also be given to each one of them. So, whenever the proposed model generates a sentence, it searches for a set of positions in the encoder hidden states where the most relevant information is available. This idea is called ‘Attention’ and it is proven to be performing better than simple encoder-decoder network for NLP tasks."
      ]
    }
  ]
}