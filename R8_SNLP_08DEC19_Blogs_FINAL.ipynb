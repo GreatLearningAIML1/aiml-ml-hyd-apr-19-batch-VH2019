{
  "nbformat": 4,
  "nbformat_minor": 0,
  "metadata": {
    "colab": {
      "name": "R8_SNLP_08DEC19_Blogs_FINAL.ipynb",
      "provenance": [],
      "collapsed_sections": [],
      "machine_shape": "hm"
    },
    "kernelspec": {
      "name": "python3",
      "display_name": "Python 3"
    }
  },
  "cells": [
    {
      "cell_type": "code",
      "metadata": {
        "id": "Tr7skiuE-wA-",
        "colab_type": "code",
        "colab": {}
      },
      "source": [
        ""
      ],
      "execution_count": 0,
      "outputs": []
    },
    {
      "cell_type": "code",
      "metadata": {
        "id": "rjTpOB_d-xfI",
        "colab_type": "code",
        "outputId": "26ec4e7b-c53f-412c-db36-8680f34a9b0e",
        "colab": {
          "base_uri": "https://localhost:8080/",
          "height": 124
        }
      },
      "source": [
        "from google.colab import drive\n",
        "drive.mount('/content/gdrive')"
      ],
      "execution_count": 6,
      "outputs": [
        {
          "output_type": "stream",
          "text": [
            "Go to this URL in a browser: https://accounts.google.com/o/oauth2/auth?client_id=947318989803-6bn6qk8qdgf4n4g3pfee6491hc0brc4i.apps.googleusercontent.com&redirect_uri=urn%3aietf%3awg%3aoauth%3a2.0%3aoob&response_type=code&scope=email%20https%3a%2f%2fwww.googleapis.com%2fauth%2fdocs.test%20https%3a%2f%2fwww.googleapis.com%2fauth%2fdrive%20https%3a%2f%2fwww.googleapis.com%2fauth%2fdrive.photos.readonly%20https%3a%2f%2fwww.googleapis.com%2fauth%2fpeopleapi.readonly\n",
            "\n",
            "Enter your authorization code:\n",
            "··········\n",
            "Mounted at /content/gdrive\n"
          ],
          "name": "stdout"
        }
      ]
    },
    {
      "cell_type": "code",
      "metadata": {
        "id": "in9SUjrR-xiX",
        "colab_type": "code",
        "outputId": "3839806f-3842-4ba9-a4c9-1bca967a64c0",
        "colab": {
          "base_uri": "https://localhost:8080/",
          "height": 34
        }
      },
      "source": [
        "from google.colab import drive\n",
        "\n",
        "drive.mount('/content/gdrive')\n",
        "root_path = '/content/gdrive/My Drive/AIML/SNLP_BLOGS'  #change dir to  project folder"
      ],
      "execution_count": 8,
      "outputs": [
        {
          "output_type": "stream",
          "text": [
            "Drive already mounted at /content/gdrive; to attempt to forcibly remount, call drive.mount(\"/content/gdrive\", force_remount=True).\n"
          ],
          "name": "stdout"
        }
      ]
    },
    {
      "cell_type": "code",
      "metadata": {
        "id": "fwr7BdcS-xlW",
        "colab_type": "code",
        "outputId": "03869d8e-35ef-4064-ebbe-88167ae6d7a6",
        "colab": {
          "resources": {
            "http://localhost:8080/nbextensions/google.colab/files.js": {
              "data": "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",
              "ok": true,
              "headers": [
                [
                  "content-type",
                  "application/javascript"
                ]
              ],
              "status": 200,
              "status_text": ""
            }
          },
          "base_uri": "https://localhost:8080/",
          "height": 92
        }
      },
      "source": [
        "#this will prompt you to upload the kaggle.json\n",
        "from google.colab import files\n",
        "files.upload()  "
      ],
      "execution_count": 10,
      "outputs": [
        {
          "output_type": "display_data",
          "data": {
            "text/html": [
              "\n",
              "     <input type=\"file\" id=\"files-edbd5d83-e197-4320-b418-84c6b67e8d91\" name=\"files[]\" multiple disabled />\n",
              "     <output id=\"result-edbd5d83-e197-4320-b418-84c6b67e8d91\">\n",
              "      Upload widget is only available when the cell has been executed in the\n",
              "      current browser session. Please rerun this cell to enable.\n",
              "      </output>\n",
              "      <script src=\"/nbextensions/google.colab/files.js\"></script> "
            ],
            "text/plain": [
              "<IPython.core.display.HTML object>"
            ]
          },
          "metadata": {
            "tags": []
          }
        },
        {
          "output_type": "stream",
          "text": [
            "Saving kaggle.json to kaggle.json\n"
          ],
          "name": "stdout"
        },
        {
          "output_type": "execute_result",
          "data": {
            "text/plain": [
              "{'kaggle.json': b'{\"username\":\"vh2019\",\"key\":\"308780deb39ecd8dfb5448aa5c3638ed\"}'}"
            ]
          },
          "metadata": {
            "tags": []
          },
          "execution_count": 10
        }
      ]
    },
    {
      "cell_type": "code",
      "metadata": {
        "id": "CNY4RqRf-xsf",
        "colab_type": "code",
        "outputId": "e58be077-f90e-47be-b9a6-a83514c2903b",
        "colab": {
          "base_uri": "https://localhost:8080/",
          "height": 34
        }
      },
      "source": [
        "!pip install -q kaggle\n",
        "!mkdir -p ~/.kaggle\n",
        "!cp kaggle.json ~/.kaggle/\n",
        "!ls ~/.kaggle\n",
        "!chmod 600 /root/.kaggle/kaggle.json  # set permission"
      ],
      "execution_count": 11,
      "outputs": [
        {
          "output_type": "stream",
          "text": [
            "kaggle.json\n"
          ],
          "name": "stdout"
        }
      ]
    },
    {
      "cell_type": "markdown",
      "metadata": {
        "id": "rURjGagTB2xO",
        "colab_type": "text"
      },
      "source": [
        "1. Load the dataset (5 points) a. Tip: As the dataset is large, use fewer rows. Check what is working well on your machine and decide accordingly."
      ]
    },
    {
      "cell_type": "code",
      "metadata": {
        "id": "3Gm2lpJDBxeA",
        "colab_type": "code",
        "colab": {}
      },
      "source": [
        "root_path = '/content/gdrive/My Drive/AIML/SNLP_BLOGS1'"
      ],
      "execution_count": 0,
      "outputs": []
    },
    {
      "cell_type": "code",
      "metadata": {
        "id": "kOfZSkAHBxhN",
        "colab_type": "code",
        "outputId": "4e2f1408-1029-4eca-b731-d3cbffe4c03a",
        "colab": {
          "base_uri": "https://localhost:8080/",
          "height": 34
        }
      },
      "source": [
        "#download the dataset\n",
        "!kaggle datasets download -d rtatman/blog-authorship-corpus -p '/content/gdrive/My Drive/AIML/SNLP_BLOGS1/'"
      ],
      "execution_count": 13,
      "outputs": [
        {
          "output_type": "stream",
          "text": [
            "blog-authorship-corpus.zip: Skipping, found more recently modified local copy (use --force to force download)\n"
          ],
          "name": "stdout"
        }
      ]
    },
    {
      "cell_type": "code",
      "metadata": {
        "id": "8RuOj_esBxju",
        "colab_type": "code",
        "outputId": "66e335fe-7f86-4aae-cb36-b8c6de98e599",
        "colab": {
          "base_uri": "https://localhost:8080/",
          "height": 34
        }
      },
      "source": [
        "ls '/content/gdrive/My Drive/AIML/SNLP_BLOGS1/'"
      ],
      "execution_count": 14,
      "outputs": [
        {
          "output_type": "stream",
          "text": [
            "blog-authorship-corpus.zip  blogtext.csv\n"
          ],
          "name": "stdout"
        }
      ]
    },
    {
      "cell_type": "code",
      "metadata": {
        "id": "NkfJ9OOTBxm9",
        "colab_type": "code",
        "outputId": "172f8045-2350-419b-f080-f374db09afc9",
        "colab": {
          "base_uri": "https://localhost:8080/",
          "height": 69
        }
      },
      "source": [
        "#Unzip File\n",
        "\n",
        "import os\n",
        "os.chdir('/content/gdrive/My Drive/AIML/SNLP_BLOGS1/')  #change dir\n",
        "!unzip blog-authorship-corpus.zip"
      ],
      "execution_count": 15,
      "outputs": [
        {
          "output_type": "stream",
          "text": [
            "Archive:  blog-authorship-corpus.zip\n",
            "replace blogtext.csv? [y]es, [n]o, [A]ll, [N]one, [r]ename: y\n",
            "  inflating: blogtext.csv            \n"
          ],
          "name": "stdout"
        }
      ]
    },
    {
      "cell_type": "code",
      "metadata": {
        "id": "GEbcKA18CxF5",
        "colab_type": "code",
        "outputId": "c74301cf-cff1-4687-a425-c3a385b77aba",
        "colab": {
          "base_uri": "https://localhost:8080/",
          "height": 54
        }
      },
      "source": [
        " \n",
        "with open(\"blogtext.csv\") as myfile:\n",
        "    head = [next(myfile) for x in range(5)]\n",
        "print(head)\n"
      ],
      "execution_count": 16,
      "outputs": [
        {
          "output_type": "stream",
          "text": [
            "['id,gender,age,topic,sign,date,text\\n', '2059027,male,15,Student,Leo,\"14,May,2004\",\"           Info has been found (+/- 100 pages, and 4.5 MB of .pdf files) Now i have to wait untill our team leader has processed it and learns html.         \"\\n', '2059027,male,15,Student,Leo,\"13,May,2004\",\"           These are the team members:   Drewes van der Laag           urlLink mail  Ruiyu Xie                     urlLink mail  Bryan Aaldering (me)          urlLink mail          \"\\n', '2059027,male,15,Student,Leo,\"12,May,2004\",\"           In het kader van kernfusie op aarde:  MAAK JE EIGEN WATERSTOFBOM   How to build an H-Bomb From: ascott@tartarus.uwa.edu.au (Andrew Scott) Newsgroups: rec.humor Subject: How To Build An H-Bomb (humorous!) Date: 7 Feb 1994 07:41:14 GMT Organization: The University of Western Australia  Original file dated 12th November 1990. Seemed to be a transcript of a \\'Seven Days\\' article. Poorly formatted and corrupted. I have added the text between \\'examine under a microscope\\' and \\'malleable, like gold,\\' as it was missing. If anyone has the full text, please distribute. I am not responsible for the accuracy of this information. Converted to HTML by Dionisio@InfiNet.com 11/13/98. (Did a little spell-checking and some minor edits too.) Stolen from  urlLink http://my.ohio.voyager.net/~dionisio/fun/m...own-h-bomb.html  and reformatted the HTML. It now validates to XHTML 1.0 Strict. How to Build an H-Bomb Making and owning an H-bomb is the kind of challenge real Americans seek. Who wants to be a passive victim of nuclear war when, with a little effort, you can be an active participant? Bomb shelters are for losers. Who wants to huddle together underground eating canned Spam? Winners want to push the button themselves. Making your own H-bomb is a big step in nuclear assertiveness training -- it\\'s called Taking Charge. We\\'re sure you\\'ll enjoy the risks and the heady thrill of playing nuclear chicken. Introduction When the Feds clamped down on The Progressive magazine for attempting to publish an article on the manufacture of the hydrogen bomb, it piqued our curiosity. Was it really true that atomic and hydrogen bomb technology was so simple you could build an H-bomb in your own kitchen? Seven Days decided to find out. Food editor Barbara Ehrenreich, investigative reporter Peter Biskind, Photographer Jane Melnick and nuclear scientist Michio Kaku were given three days to cook up a workable H-bomb. They did and we have decided to share their culinary secrets with you. Not that Seven Days supports nuclear terrorism. We don\\'t. We would prefer to die slowly from familiar poisons like low-level radiation, microwaves, DDT, DBCP, aflatoxins, PBBs, PBCs, or food dyes, rather than unexpectedly, say as hostage to a Latvian nationalist brandishing a homemade bomb. In our view the real terrorists are the governments, American, Soviet, French, Chinese, and British, that are hoarding H-bombs for their own use, and worse still, those governments (U.S., French and German) that are eagerly peddling advanced nuclear technology to countries like South Africa, Brazil, and Argentina so that they can make their own bombs. When these bombs are used, and they will be, it will be the world\\'s big-time nuclear peddlers, along with corporate suppliers like General Electric, Westinghouse, and Gulf Oil, that we can thank for it. Gagging The Progressive will do no more for national security than backyard bomb shelters because like it or not the news is out. The heart of the successful H-bomb is the successful A-bomb. Once you\\'ve got your A-bombs made the rest is frosting on the cake. All you have to do is set them up so that when they detonate they\\'ll start off a hydrogen-fusion reaction.  Part 1: Making Your Bomb Step 1: Getting the Ingredients Uranium is the basic ingredient of the A-bomb. When a uranium atom\\'s nucleus splits apart, it releases a tremendous amount of energy (for its size), and it emits neutrons which go on to split other nearby uranium nuclei, releasing more energy, in what is called a \\'chain reaction\\'. (When atoms split, matter is converted into energy according to Einstein\\'s equation E=MC2. What better way to mark his birthday than with your own atomic fireworks?) There are two kinds (isotopes) of uranium: the rare U-235, used in bombs, and the more common, heavier, but useless U-238. Natural uranium contains less than 1 percent U-235 and in order to be usable in bombs it has to be \\'enriched\\' to 90 percent U-235 and only 10 percent U-238. Plutonium-239 can also be used in bombs as a substitute for U-235. Ten pounds of U-235 (or slightly less plutonium) is all that is necessary for a bomb. Less than ten pounds won\\'t give you a critical mass. So purifying or enriching naturally occurring uranium is likely to be your first big hurdle. It is infinitely easy to steal ready-to-use enriched uranium or plutonium than to enrich some yourself. And stealing uranium is not as hard as it sounds. There are at least three sources of enriched uranium or plutonium... Enriched uranium is manufactured at a gaseous diffusion plant in Portsmouth, Ohio. From there it is shipped in 10 liter bottles by airplane and trucks to conversion plants that turn it into uranium oxide or uranium metal. Each 10 liter bottle contains 7 kilograms of U-235, and there are 20 bottles to a typical shipment. Conversion facilities exist at Hematite, Missouri; Apollo, Pennsylvania; and Erwin, Tennessee. The Kerr-McGee plant at Crescent Oklahoma -- where Karen Silkwood worked -- was a conversion plant that \\'lost\\' 40 lbs of plutonium. Enriched uranium can be stolen from these plants or from fuel-fabricating plants like those in New Haven, San Diego; or Lynchburg, Virginia. (A former Kerr-McGee supervisor, James V. Smith, when asked at the Silkwood trial if there were any security precautions at the plant to prevent theft, testified that \\'There were none of any kind, no guards, no fences, no nothing.\\') Plutonium can be obtained from places like United Nuclear in Pawling, New York; Nuclear Fuel Services in Erwin, Tennessee; General Electric in Pleasanton, California; Westinghouse in Cheswick, Pennsylvania; Nuclear Materials and Equipment Corporation (NUMEC) in Leechburg, Pennsylvania; and plants in Hanfford, Washington and Morris, Illinois. According to Rolling Stone magazine the Israelis were involved in the theft of plutonium from NUMEC. Finally you can steal enriched uranium or plutonium while it\\'s en-route from conversion plants to fuel fabricating plants. It is usually transported (by air or truck) in the form of uranium oxide, a brownish powder resembling instant coffee, or as a metal, coming in small chunks called \\'broken buttons.\\' Both forms are shipped in small cans stacked in 5-inch cylinders braced with welded struts in the center of ordinary 55 gallon steel drums. The drums weigh about 100 pounds and are clearly marked \\'Fissible Material\\' or \\'Danger, Plutonium.\\' A typical shipment might go from the enrichment plant at Portsmouth, Ohio to the conversion plant in Hematite Missouri then to Kansas City by truck where it would be flown to Los Angeles and then trucked down to the General Atomic plant in San Diego. The plans for the General Atomic plant are on file at the Nuclear Regulatory Commission\\'s reading room at 1717 H Street NW Washington. A Xerox machine is provided for the convenience of the public. If you can\\'t get hold of any enriched uranium you\\'ll have to settle for commercial grade (20 percent U-235). This can be stolen from university reactors of a type called TRIGA Mark II, where security is even more casual than at commercial plants. If stealing uranium seems too tacky you can buy it. Unenriched uranium is available at any chemical supply house for $23 a pound. Commercial grade (3 to 20 percent enriched) is available for $40 a pound from Gulf Atomic. You\\'ll have to enrich it further yourself. Quite frankly this can be something of a pain in the ass. You\\'ll need to start with a little more than 50 pounds of commercial-grade uranium. (It\\'s only 20 percent U-235 at best, and you need 10 pounds of U-235 so... ) But with a little kitchen-table chemistry you\\'ll be able to convert the solid uranium oxide you\\'ve purchased into a liquid form. Once you\\'ve done that, you\\'ll be able to separate the U-235 that you\\'ll need from the U-238. First pour a few gallons of concentrated hydrofluoric acid into your uranium oxide, converting it to uranium tetrafluoride. (Safety note: Concentrated hydrofluoric acid is so corrosive that it will eat its way through glass, so store it only in plastic. Used 1-gallon plastic milk containers will do.) Now you have to convert your uranium tetrafluoride to uranium hexafluoride, the gaseous form of uranium, which is convenient for separating out the isotope U-235 from U-238. To get the hexafluoride form, bubble fluorine gas into your container of uranium tetrafluoride. Fluorine is available in pressurized tanks from chemical-supply firms. Be careful how you use it though because fluorine is several times more deadly than chlorine, the classic World War I poison gas. Chemists recommend that you carry out this step under a stove hood (the kind used to remove unpleasant cooking odors). If you\\'ve done your chemistry right you should now have a generous supply of uranium hexafluoride ready for enriching. In the old horse-and-buggy days of A-bomb manufacture the enrichment was carried out by passing the uranium hexafluoride through hundreds of miles of pipes, tubes, and membranes, until the U-235 was eventually separated from the U-238. This gaseous-diffusion process, as it was called is difficult, time-consuming, and expensive. Gaseous-diffusion plants cover hundreds of acres and cost in the neighborhood of $2-billion each. So forget it. There are easier, and cheaper, ways to enrich your uranium. First transform the gas into a liquid by subjecting it to pressure. You can use a bicycle pump for this. Then make a simple home centrifuge. Fill a standard-size bucket one-quarter full of liquid uranium hexafluoride. Attach a six-foot rope to the bucket handle. Now swing the rope (and attached bucket) around your head as fast as possible. Keep this up for about 45 minutes. Slow down gradually, and very gently put the bucket on the floor. The U-235, which is lighter, will have risen to the top, where it can be skimmed off like cream. Repeat this step until you have the required 10 pounds of uranium. (Safety note: Don\\'t put all your enriched uranium hexafluoride in one bucket. Use at least two or three buckets and keep them in separate corners of the room. This will prevent the premature build-up of a critical mass.) Now it\\'s time to convert your enriched uranium back to metal form. This is easily enough accomplished by spooning several ladlefuls of calcium (available in tablet form from your drugstore) into each bucket of uranium. The calcium will react with the uranium hexafluoride to produce calcium fluoride, a colorless salt which can be easily be separated from your pure enriched uranium metal. A few precautions: • While uranium is not dangerously radioactive in the amounts you\\'ll be handling, if you plan to make more than one bomb it might be wise to wear gloves and a lead apron, the kind you can buy in dental supply stores. • Plutonium is one of the most toxic substances known. If inhaled, a thousandth of a gram can cause massive fibrosis of the lungs, a painful way to go. Even a millionth of a gram in the lungs will cause cancer. If eaten plutonium is metabolized like calcium. It goes straight to the bones where it gives out alpha particles preventing bone marrow from manufacturing red blood cells. The best way to avoid inhaling plutonium is to hold your breath while handling it. If this is too difficult wear a mask. To avoid ingesting plutonium orally follow this simple rule: never make an A-bomb on an empty stomach. • If you find yourself dozing off while you\\'re working, or if you begin to glow in the dark, it might be wise to take a blood count. Prick your finger with a sterile pin, place a drop of blood on a microscope slide, cover it with a cover slip, and examine under a microscope. (Best results are obtained in the early morning.) When you get leukemia, immature cells are released into the bloodstream, and usually the number of white cells increases (though this increase might take almost 2 weeks). Red blood cells look kind of like donuts (without the hole), and are slightly smaller than the white cells, each of which has a nucleus. Immature red cells look similar to white cells (i.e.. slightly larger and have a nucleus). If you have more than about 1 white cell (including immature ones) to 400 red cells then start to worry. But, depending upon your plans for the eventual use of the bomb, a short life expectancy might not be a problem.  Step 2: Assembling the A-Bomb Now that you\\'ve acquired the enriched uranium, all that\\'s left is to assemble your A-bomb. Go find a couple of stainless steel salad bowls. You also want to separate your 10 pounds of U-235 into two hunks. (Keep them apart!) The idea is to push each half your uranium into the inside of a bowl. Take one hunk of your uranium and beat it into the inside of the first bowl. Uranium is malleable, like gold, so you should have no trouble hammering it into the bowl to get a good fit. Take another five-pound hunk of uranium and fit it into a second stainless steel bowl. These two bowls of U-235 are the \\'subcritical masses\\' which, when brought together forcefully, will provide the critical mass that makes your A-bomb go. Keep them a respectful distance apart while working because you don\\'t want them to \\'go critical\\' on you... At least not yet. Now hollow out the body of an old vacuum cleaner and place your two hemispherical bowls inside, open ends facing each other, no less than seven inches apart, using masking tape to set them up in position. The reason for the steel bowls and the vacuum cleaner, in case you\\'re wondering, is that these help reflect the neutrons back into the uranium for a more efficient explosion. \\'A loose neutron is a useless neutron\\' as the A-bomb pioneers used to say. As far as the A-bomb goes, you\\'re almost done. The final problem is to figure out how to get the two U-235 hemispheres to smash into each other with sufficient force to set off a truly effective fission reaction. Almost any type of explosive can be used to drive them together. Gunpowder, for example, is easily made at home from potassium nitrate, sulfur, and carbon. Or, you can get some blasting caps or TNT. (Buy them or steal them from a construction site.) Best of all is C4 plastic explosive. You can mold it around your bowls, and it\\'s fairly safe to work with. (But, it might be wise to shape it around an extra salad bowl in another room, and THEN fit it to your uranium-packed bowls. This is particularly true in winter, when a stray static electrical charge might induce ignition in the C4. A responsible bomb maker considers it impolite to accidentally destroy more of the neighborhood than absolutely necessary.) Once the explosives are in place all you need to do is hook up a simple detonation device with a few batteries, a switch, and some wire. Remember though that it is essential that the two charges -- one on each side of the casing -- go off simultaneously. Now put the whole thing in the casing of an old Hoover vacuum cleaner and you\\'re finished with this part of the process. The rest is easy.  Step 3: Make More A-Bombs Following the Directions Above  A Word to the Wise About Wastes After your A-bomb is completed you\\'ll have a pile of moderately fatal radioactive wastes like U-238. These are not dangerous, but you do have to get rid of them. You can flush leftovers down the toilet. (Don\\'t worry about polluting the ocean, there is already so much radioactive waste there, a few more bucketfuls won\\'t make any waves whatsoever.) If you\\'re the fastidious type -- the kind who never leaves gum under their seat at the movies -- you can seal the nasty stuff in coffee cans and bury it in the backyard, just like Uncle Sam does. If the neighbor kids have a habit of trampling the lawn, tell them to play over by the waste. You\\'ll soon find that they\\'re spending most of their time in bed.  Going First Class If you\\'re like us, you\\'re feeling the economic pinch, and you\\'ll want to make your bomb as inexpensively as possible, consonant of course with reasonable yield. The recipe we\\'ve given is for a budget-pleasing H-bomb, no frills, no flourishes; it\\'s just a simple 5-megaton bomb, capable of wiping out the New York metropolitan area, the San Francisco Bay area, or Boston. But don\\'t forget, your H-bomb will only be as good as the A-bombs in it. If you want to spend a little more money you can punch-up your A-bomb considerably. Instead of centrifuging your uranium by hand, you can buy a commercial centrifuge. (Fisher Scientific sells one for about $1000.) You also might want to be fussier about your design. The Hiroshima bomb, a relatively crude one, only fissioned 1 percent of it\\'s uranium and yielded only 13 kilotons. In order to fission more of the uranium, the force of your explosive \\'trigger\\' needs to be evenly diffused around the sphere; the same pressure has to be exerted on every point of the sphere simultaneously. (It was a technique for producing this sort of simultaneous detonation by fashioning the explosives into lenses that the government accused Julius and Ethel Rosenberg of trying to steal).  Part 2: Putting Your H-Bomb Together The heart of the H-bomb is the fusion process. Several A-bombs are detonated in such a way as to create the extremely high temperature (100 million degrees C) necessary to fuse lithium deuteride (LiD) into helium. When the lithium nucleus slams into the deuterium nucleus, two helium nuclei are created, and if this happens to enough deuterium nuclei rapidly enough, the result is an enormous amount of energy: the energy of the H-bomb. You don\\'t have to worry about stealing lithium deuteride, it can be purchased from any chemical-supply house. It costs $1000 a pound. If your budget won\\'t allow it you can substitute lithium hydride at $40 a pound. You will need at least 100 pounds. It\\'s a corrosive and toxic powder so be careful. Place the lithium deuteride or hydride in glass jars and surround it with four A-bombs in their casings. Attach them to the same detonator so that they will go off simultaneously. The container for the whole thing is no problem. They can be placed anywhere: Inside an old stereo console, a discarded refrigerator, etc... When the detonator sets off the four A-bombs all eight hemispheres of fissionable material will slam into each other at the same time creating four critical masses and four detonations. This will raise the temperature of the lithium deuteride to 100 million degrees C fast enough (a few billionths of a second) so that the lithium will not be blown all over the neighborhood before the nuclei have time to fuse. The result, at least 1000 times the punch of the puny A-bomb that leveled Hiroshima (20 million tons of TNT vs. 20 thousand tons.)  Part 3: What to do With Your Bomb Now that you have a fully assembled H-bomb housed in an attractive console of your choice you may be wondering, \\'What should I do with it?\\' Every family will have to answer this question according to its own tastes and preferences, but you may want to explore some possibilities which have been successfully pioneered by the American government. 1. Sell Your Bomb and Make a Pile of Money In these days of rising inflation, increasing unemployment, and an uncertain economic outlook, few businesses make as much sense as weapons production. If your career forecast is cloudy, bomb sales may be the only sure way to avoid the humiliation of receiving welfare, or unemployment. Regardless of your present income level, a home H-bomb business can be an invaluable income supplement, and certainly a profitable alternative to selling Tupperware or pirated Girl Scout cookies. Unfortunately for the family bomb business, big government has already cornered a large part of the world market. But this does not mean that there is a shortage of potential customers. The raid on Entebee was the Waterloo of hijacking, and many nationalist groups are now on the alert for new means to get their message across. They\\'d jump at the chance to get hold of an H-bomb. Emerging nations which can\\'t ante up enough rice or sugar to buy themselves a reactor from G.E. or Westinghouse are also shopping around. You may wonder about the ethics of selling to nations, or groups, whose goals you may disapprove of. But here again, take a tip from our government: forget ideology -- it\\'s cash that counts. And remember, H-bomb sales have a way of escalating, almost like a chain reaction. Suppose you make a sale to South Yemen which you believe to be a Soviet puppet. Well within a few days some discrete inquiries from North Yemen and possibly the Saudis, the Egyptians and the Ethiopians as well can be expected. Similarly, a sale to the IRA will generate a sale to the Ulster government; and a sale to the Tanzanians will bring the Ugandans running, and so forth. It doesn\\'t matter WHICH side you\\'re on, only how many sides there are. Don\\'t forget about the possibility of repeat sales to the same customer. As the experience of both the U.S. and the U.S.S.R. has shown, each individual nation has a potentially infinite need for H-bombs. No customer -- no matter how small -- can ever have too many. 2. Use Your Bomb at Home Many families are attracted to the H-bomb simply as a \\'deterrent.\\' A discrete sticker on the door or on the living room window saying \\'This Home Protected by H-bomb\\' will discourage IRS investigators, census takers, and Jehovah\\'s Witnesses. You\\'ll be surprised how fast the crime rate will go down and property values will go up. And once the news gets out that you are a home H-bomb owner you\\'ll find that you have unexpected leverage in neighborhood disputes over everything from parking places and stereo noise levels to school tax rates. So relax and enjoy the pride and excitement of home H-bomb ownership!  Is It For You? Let\\'s be honest. The H-bomb isn\\'t for everyone. Frankly there are people who can\\'t handle it. They break out in hives at the very mention of mega-death, fallout, or radiation sickness. The following quiz will help you find out whether you have what it takes for home H-bomb ownership. If you can answer \\'yes\\' to six or more of these questions, then you\\'re emotionally eligible to join the nuclear club. If not, a more conventional weapon may be more your cup of tea, try botulism-toxin, laser rays, or nerve gas. 1. I ignore the demands of others. 2. I subscribe to one or more of the following: Soldier of Fortune, Hustler, Popular Mechanics, Self. 3. Though I have many interesting acquaintances, I am my own best friend. 4. I know what to say after you say \\'Hello,\\' but I am seldom interested in pursuing the conversation. 5. I have seen the movie \\'The Deer Hunter\\' more than once. 6. I know that everyone can be a winner if they want to, and I resent whiners. 7. I own one or more of the following: handgun, video game, trash compactor, snowmobile. 8. I am convinced that leukemia is psychosomatic. 9. I am aware that most vegetarians are sexually impotent. 10. I have read evidence that solar energy is a Communist conspiracy.  Myths About Nuclear War Ever since the first mushroom cloud over Hiroshima ushered in the atomic age, a small group of nay-sayers and doom-mongers has lobbied, campaigned and demonstrated to convince Americans that H-bomb ownership, along with nuclear power, is dangerous and unhealthy. Using their virtual stranglehold over the media, these people have tried to discredit everything nuclear from energy to war. They have vastly overrated the risks of nuclear bombs and left many Americans feeling demoralized and indecisive; not sure where the truth lies. Well, here are the myths, and here are the facts. Myth: After a nuclear exchange the earth will no longer be suitable for human habitation. Fact: This is completely false. According to one scientist (quoted in John McPee\\'s The Curve of Binding Energy) \\'The largest bomb that has ever been exploded anywhere was 60 megatons, and that is one-thousandth the force of an earthquake, one-thousandth the force of a hurricane. We have lived with earthquakes and hurricanes for a long time.\\' Another scientist adds, \\'It is often assumed that a full blown nuclear war would be the end of life on earth. That is far from the truth. To end life on earth would take at least a thousand times the total yield of all the nuclear explosives existing in the world, and probably a lot more.\\' Even if humans succumbed, many forms of life would survive a nuclear free-for-all, cockroaches, certain forms of bacteria, and lichens, for instance. Myth: Radiation is bad for you. Fact: Everything is bad for you if you have too much of it. If you eat too many bananas you\\'ll get a stomach-ache. If you get too much sun you can get sunburned (or even skin cancer). Same thing with radiation. Too much may make you feel under the weather, but nuclear industry officials insist that there is no evidence that low-level radiation has any really serious adverse effects. And, high-level radiation may bring unexpected benefits. It speeds up evolution by weeding out unwanted genetic types and creating new ones. (Remember the old saying, \\'Two heads are better than one.\\') Nearer to home, it\\'s plain that radiation will get rid of pesky crab grass and weeds, and teenagers will find that brief exposure to a nuclear burst vaporizes acne and other skin blemishes. (Many survivors of the Hiroshima bomb found that they were free from skin and it\\'s attendant problems forever.) We hope this clears up any misconceptions you may have had. Enjoy your H-Bomb!           \"\\n', '2059027,male,15,Student,Leo,\"12,May,2004\",\"           testing!!!  testing!!!          \"\\n']\n"
          ],
          "name": "stdout"
        }
      ]
    },
    {
      "cell_type": "code",
      "metadata": {
        "id": "o0FmBecDCxJG",
        "colab_type": "code",
        "colab": {}
      },
      "source": [
        "#Reading Blogs\n",
        "import pandas as pd\n",
        "import numpy as np\n",
        "import scipy as sp\n",
        "import os\n",
        "from sklearn.model_selection import train_test_split\n",
        "from sklearn.feature_extraction.text import CountVectorizer, TfidfVectorizer\n",
        "from sklearn.naive_bayes import MultinomialNB\n",
        "from sklearn.linear_model import LogisticRegression\n",
        "from sklearn import metrics\n",
        "import matplotlib.pyplot as plt\n",
        "import seaborn as sns\n",
        "%matplotlib inline\n",
        "\n",
        "import warnings\n",
        "warnings.filterwarnings('ignore')"
      ],
      "execution_count": 0,
      "outputs": []
    },
    {
      "cell_type": "code",
      "metadata": {
        "id": "DcmKTOt9F_dk",
        "colab_type": "code",
        "outputId": "e30f19cc-cc41-432d-b157-61b60d57b97e",
        "colab": {
          "base_uri": "https://localhost:8080/",
          "height": 285
        }
      },
      "source": [
        "#read blogtext.csv\n",
        "blog=pd.read_csv('blogtext.csv',dtype=str, sep=',')\n",
        "print(\"Number of rows in data =\",blog.shape[0])\n",
        "print(\"Number of columns in data =\",blog.shape[1])\n",
        "print(\"\\n\")\n",
        "print(\"**Sample data:**\")\n",
        "blog.head()"
      ],
      "execution_count": 18,
      "outputs": [
        {
          "output_type": "stream",
          "text": [
            "Number of rows in data = 681284\n",
            "Number of columns in data = 7\n",
            "\n",
            "\n",
            "**Sample data:**\n"
          ],
          "name": "stdout"
        },
        {
          "output_type": "execute_result",
          "data": {
            "text/html": [
              "<div>\n",
              "<style scoped>\n",
              "    .dataframe tbody tr th:only-of-type {\n",
              "        vertical-align: middle;\n",
              "    }\n",
              "\n",
              "    .dataframe tbody tr th {\n",
              "        vertical-align: top;\n",
              "    }\n",
              "\n",
              "    .dataframe thead th {\n",
              "        text-align: right;\n",
              "    }\n",
              "</style>\n",
              "<table border=\"1\" class=\"dataframe\">\n",
              "  <thead>\n",
              "    <tr style=\"text-align: right;\">\n",
              "      <th></th>\n",
              "      <th>id</th>\n",
              "      <th>gender</th>\n",
              "      <th>age</th>\n",
              "      <th>topic</th>\n",
              "      <th>sign</th>\n",
              "      <th>date</th>\n",
              "      <th>text</th>\n",
              "    </tr>\n",
              "  </thead>\n",
              "  <tbody>\n",
              "    <tr>\n",
              "      <th>0</th>\n",
              "      <td>2059027</td>\n",
              "      <td>male</td>\n",
              "      <td>15</td>\n",
              "      <td>Student</td>\n",
              "      <td>Leo</td>\n",
              "      <td>14,May,2004</td>\n",
              "      <td>Info has been found (+/- 100 pages,...</td>\n",
              "    </tr>\n",
              "    <tr>\n",
              "      <th>1</th>\n",
              "      <td>2059027</td>\n",
              "      <td>male</td>\n",
              "      <td>15</td>\n",
              "      <td>Student</td>\n",
              "      <td>Leo</td>\n",
              "      <td>13,May,2004</td>\n",
              "      <td>These are the team members:   Drewe...</td>\n",
              "    </tr>\n",
              "    <tr>\n",
              "      <th>2</th>\n",
              "      <td>2059027</td>\n",
              "      <td>male</td>\n",
              "      <td>15</td>\n",
              "      <td>Student</td>\n",
              "      <td>Leo</td>\n",
              "      <td>12,May,2004</td>\n",
              "      <td>In het kader van kernfusie op aarde...</td>\n",
              "    </tr>\n",
              "    <tr>\n",
              "      <th>3</th>\n",
              "      <td>2059027</td>\n",
              "      <td>male</td>\n",
              "      <td>15</td>\n",
              "      <td>Student</td>\n",
              "      <td>Leo</td>\n",
              "      <td>12,May,2004</td>\n",
              "      <td>testing!!!  testing!!!</td>\n",
              "    </tr>\n",
              "    <tr>\n",
              "      <th>4</th>\n",
              "      <td>3581210</td>\n",
              "      <td>male</td>\n",
              "      <td>33</td>\n",
              "      <td>InvestmentBanking</td>\n",
              "      <td>Aquarius</td>\n",
              "      <td>11,June,2004</td>\n",
              "      <td>Thanks to Yahoo!'s Toolbar I can ...</td>\n",
              "    </tr>\n",
              "  </tbody>\n",
              "</table>\n",
              "</div>"
            ],
            "text/plain": [
              "        id  ...                                               text\n",
              "0  2059027  ...             Info has been found (+/- 100 pages,...\n",
              "1  2059027  ...             These are the team members:   Drewe...\n",
              "2  2059027  ...             In het kader van kernfusie op aarde...\n",
              "3  2059027  ...                   testing!!!  testing!!!          \n",
              "4  3581210  ...               Thanks to Yahoo!'s Toolbar I can ...\n",
              "\n",
              "[5 rows x 7 columns]"
            ]
          },
          "metadata": {
            "tags": []
          },
          "execution_count": 18
        }
      ]
    },
    {
      "cell_type": "code",
      "metadata": {
        "id": "BVwVMJrNG6z3",
        "colab_type": "code",
        "outputId": "a95e327b-1d21-4302-bb24-7391880fa451",
        "colab": {
          "base_uri": "https://localhost:8080/",
          "height": 155
        }
      },
      "source": [
        "blog.dtypes"
      ],
      "execution_count": 19,
      "outputs": [
        {
          "output_type": "execute_result",
          "data": {
            "text/plain": [
              "id        object\n",
              "gender    object\n",
              "age       object\n",
              "topic     object\n",
              "sign      object\n",
              "date      object\n",
              "text      object\n",
              "dtype: object"
            ]
          },
          "metadata": {
            "tags": []
          },
          "execution_count": 19
        }
      ]
    },
    {
      "cell_type": "code",
      "metadata": {
        "id": "ezlwLjtcKmbU",
        "colab_type": "code",
        "outputId": "9466122f-6711-4da8-d749-efb553843bc9",
        "colab": {
          "base_uri": "https://localhost:8080/",
          "height": 259
        }
      },
      "source": [
        "blog.groupby(['sign']).size()"
      ],
      "execution_count": 20,
      "outputs": [
        {
          "output_type": "execute_result",
          "data": {
            "text/plain": [
              "sign\n",
              "Aquarius       49687\n",
              "Aries          64979\n",
              "Cancer         65048\n",
              "Capricorn      49201\n",
              "Gemini         51985\n",
              "Leo            53811\n",
              "Libra          62363\n",
              "Pisces         54053\n",
              "Sagittarius    50036\n",
              "Scorpio        57161\n",
              "Taurus         62561\n",
              "Virgo          60399\n",
              "dtype: int64"
            ]
          },
          "metadata": {
            "tags": []
          },
          "execution_count": 20
        }
      ]
    },
    {
      "cell_type": "code",
      "metadata": {
        "id": "QinA_EUkKqdy",
        "colab_type": "code",
        "outputId": "0c138ff1-ec35-4d85-a5c4-8296cff6ca8d",
        "colab": {
          "base_uri": "https://localhost:8080/",
          "height": 466
        }
      },
      "source": [
        "blog.groupby(['sign','gender']).size()"
      ],
      "execution_count": 21,
      "outputs": [
        {
          "output_type": "execute_result",
          "data": {
            "text/plain": [
              "sign         gender\n",
              "Aquarius     female    23000\n",
              "             male      26687\n",
              "Aries        female    30945\n",
              "             male      34034\n",
              "Cancer       female    33912\n",
              "             male      31136\n",
              "Capricorn    female    26221\n",
              "             male      22980\n",
              "Gemini       female    24267\n",
              "             male      27718\n",
              "Leo          female    25159\n",
              "             male      28652\n",
              "Libra        female    32551\n",
              "             male      29812\n",
              "Pisces       female    27859\n",
              "             male      26194\n",
              "Sagittarius  female    23748\n",
              "             male      26288\n",
              "Scorpio      female    28927\n",
              "             male      28234\n",
              "Taurus       female    28393\n",
              "             male      34168\n",
              "Virgo        female    31109\n",
              "             male      29290\n",
              "dtype: int64"
            ]
          },
          "metadata": {
            "tags": []
          },
          "execution_count": 21
        }
      ]
    },
    {
      "cell_type": "code",
      "metadata": {
        "id": "_dPgkoptKsl1",
        "colab_type": "code",
        "outputId": "49345256-39d3-4cfa-dc7c-6562bfb7f65c",
        "colab": {
          "base_uri": "https://localhost:8080/",
          "height": 86
        }
      },
      "source": [
        "blog.groupby(['gender']).size()"
      ],
      "execution_count": 22,
      "outputs": [
        {
          "output_type": "execute_result",
          "data": {
            "text/plain": [
              "gender\n",
              "female    336091\n",
              "male      345193\n",
              "dtype: int64"
            ]
          },
          "metadata": {
            "tags": []
          },
          "execution_count": 22
        }
      ]
    },
    {
      "cell_type": "markdown",
      "metadata": {
        "id": "hHW6df3cFusH",
        "colab_type": "text"
      },
      "source": [
        "2. Preprocess rows of the “text” column (7.5 points) a. Remove unwanted characters b. Convert text to lowercase c. Remove unwanted spaces d. Remove stopwords"
      ]
    },
    {
      "cell_type": "code",
      "metadata": {
        "id": "_7yhcICx-xzW",
        "colab_type": "code",
        "colab": {}
      },
      "source": [
        "#selecting 5000 rows from dataset\n",
        "blog5k=blog.loc[0:4999,:]"
      ],
      "execution_count": 0,
      "outputs": []
    },
    {
      "cell_type": "code",
      "metadata": {
        "id": "nJmpMfYP-x23",
        "colab_type": "code",
        "outputId": "34bd4721-30e6-40a2-9816-3b768325ec63",
        "colab": {
          "base_uri": "https://localhost:8080/",
          "height": 34
        }
      },
      "source": [
        "blog5k.shape"
      ],
      "execution_count": 24,
      "outputs": [
        {
          "output_type": "execute_result",
          "data": {
            "text/plain": [
              "(5000, 7)"
            ]
          },
          "metadata": {
            "tags": []
          },
          "execution_count": 24
        }
      ]
    },
    {
      "cell_type": "code",
      "metadata": {
        "id": "gVPTp5GSK1Q1",
        "colab_type": "code",
        "colab": {}
      },
      "source": [
        "#a. Remove unwanted characters "
      ],
      "execution_count": 0,
      "outputs": []
    },
    {
      "cell_type": "code",
      "metadata": {
        "id": "9a_zmBRhK3Y5",
        "colab_type": "code",
        "outputId": "514e9508-3787-4af9-9406-e1eea3b3feb0",
        "colab": {
          "base_uri": "https://localhost:8080/",
          "height": 198
        }
      },
      "source": [
        "blog5k.head()"
      ],
      "execution_count": 26,
      "outputs": [
        {
          "output_type": "execute_result",
          "data": {
            "text/html": [
              "<div>\n",
              "<style scoped>\n",
              "    .dataframe tbody tr th:only-of-type {\n",
              "        vertical-align: middle;\n",
              "    }\n",
              "\n",
              "    .dataframe tbody tr th {\n",
              "        vertical-align: top;\n",
              "    }\n",
              "\n",
              "    .dataframe thead th {\n",
              "        text-align: right;\n",
              "    }\n",
              "</style>\n",
              "<table border=\"1\" class=\"dataframe\">\n",
              "  <thead>\n",
              "    <tr style=\"text-align: right;\">\n",
              "      <th></th>\n",
              "      <th>id</th>\n",
              "      <th>gender</th>\n",
              "      <th>age</th>\n",
              "      <th>topic</th>\n",
              "      <th>sign</th>\n",
              "      <th>date</th>\n",
              "      <th>text</th>\n",
              "    </tr>\n",
              "  </thead>\n",
              "  <tbody>\n",
              "    <tr>\n",
              "      <th>0</th>\n",
              "      <td>2059027</td>\n",
              "      <td>male</td>\n",
              "      <td>15</td>\n",
              "      <td>Student</td>\n",
              "      <td>Leo</td>\n",
              "      <td>14,May,2004</td>\n",
              "      <td>Info has been found (+/- 100 pages,...</td>\n",
              "    </tr>\n",
              "    <tr>\n",
              "      <th>1</th>\n",
              "      <td>2059027</td>\n",
              "      <td>male</td>\n",
              "      <td>15</td>\n",
              "      <td>Student</td>\n",
              "      <td>Leo</td>\n",
              "      <td>13,May,2004</td>\n",
              "      <td>These are the team members:   Drewe...</td>\n",
              "    </tr>\n",
              "    <tr>\n",
              "      <th>2</th>\n",
              "      <td>2059027</td>\n",
              "      <td>male</td>\n",
              "      <td>15</td>\n",
              "      <td>Student</td>\n",
              "      <td>Leo</td>\n",
              "      <td>12,May,2004</td>\n",
              "      <td>In het kader van kernfusie op aarde...</td>\n",
              "    </tr>\n",
              "    <tr>\n",
              "      <th>3</th>\n",
              "      <td>2059027</td>\n",
              "      <td>male</td>\n",
              "      <td>15</td>\n",
              "      <td>Student</td>\n",
              "      <td>Leo</td>\n",
              "      <td>12,May,2004</td>\n",
              "      <td>testing!!!  testing!!!</td>\n",
              "    </tr>\n",
              "    <tr>\n",
              "      <th>4</th>\n",
              "      <td>3581210</td>\n",
              "      <td>male</td>\n",
              "      <td>33</td>\n",
              "      <td>InvestmentBanking</td>\n",
              "      <td>Aquarius</td>\n",
              "      <td>11,June,2004</td>\n",
              "      <td>Thanks to Yahoo!'s Toolbar I can ...</td>\n",
              "    </tr>\n",
              "  </tbody>\n",
              "</table>\n",
              "</div>"
            ],
            "text/plain": [
              "        id  ...                                               text\n",
              "0  2059027  ...             Info has been found (+/- 100 pages,...\n",
              "1  2059027  ...             These are the team members:   Drewe...\n",
              "2  2059027  ...             In het kader van kernfusie op aarde...\n",
              "3  2059027  ...                   testing!!!  testing!!!          \n",
              "4  3581210  ...               Thanks to Yahoo!'s Toolbar I can ...\n",
              "\n",
              "[5 rows x 7 columns]"
            ]
          },
          "metadata": {
            "tags": []
          },
          "execution_count": 26
        }
      ]
    },
    {
      "cell_type": "code",
      "metadata": {
        "id": "DIEpdZqaK4sr",
        "colab_type": "code",
        "colab": {}
      },
      "source": [
        "blog5k['text'].replace(regex=True, inplace=True, to_replace=r'[^A-Za-z\\s]+^0-9.\\-]', value=r'')\n",
        "blog5k['text'] = blog5k['text'].astype(object)"
      ],
      "execution_count": 0,
      "outputs": []
    },
    {
      "cell_type": "code",
      "metadata": {
        "id": "x5Jae7XoK-iJ",
        "colab_type": "code",
        "outputId": "0e897f2e-2cfe-466e-c97c-8e0972333c83",
        "colab": {
          "base_uri": "https://localhost:8080/",
          "height": 54
        }
      },
      "source": [
        "blog5k.text[15]"
      ],
      "execution_count": 28,
      "outputs": [
        {
          "output_type": "execute_result",
          "data": {
            "text/plain": [
              "\"             One thing I love about Seoul (and I mean this about Korea in general...I just happen to be a little Seoul-centric) is the street sellers.  I don't really trust the food they sell on the side of the road (except ice cream) but virtually everything else is fair game for me.  For example, to get ready for my trip to Canada and generally stock up, in the last two weeks I bought:  2 plants in a can for my nieces (8,000 won) 2 lightweight sports shirts for inlining (10,000 won for both) 1 pair of shorts for inlining (20,000 won) 3 bags of dried 고구마 (goguma, sweet potatoes or yams, they were selling 1 for 3,000 won , 2 for 5,000 but I got 3 for 6,000) 1 tie (at an amazing price of 5,000 won, or USD 4...and I can't really tell how it's worse than the ones I bought for USD 100 back home.) 10 disposible razors (for 1,000 won, or USD 0.80 FOR ALL TEN) 1 noise-making toy hammer for boy #2 (1,000 won) 3 Disney photo albums (but I'm sure ol' Walt didn't make a penny on these....just 1,000 won each)  The clothes-seller guy spoke pretty good English...I know because he held my hostage for 5 minutes as we talked about how Korean men are getting fatter (hence his stock of larger sizes for husky guys like me) and how he learned English working for the US Army about 20-30 years ago.  The goguma-guy didn't know a lot of English, but he did speak Spanish owing to the fact that he lived in Argentina for a few years.  Unfortunately, Spanish is not one of my languages...I know a fair bit of French from my school-days, a smattering Japanese and, of course, some Korean. Anyways, when I passed the goguma-guy later in the week I gave him a big 'hola!' (Spanish for hello, and the extent of my proficiency) and he returned one as well...wow, bridging the cultures with another one...how UN of me.  Below is a picture of the famous Yeouido tie-truck.  This guy stops in the hotspots and unloads silk and polyester ties on neckwear-hungry salarymen.   urlLink    Here they are: 2 for 5,000 won (USD 4.50)!         \""
            ]
          },
          "metadata": {
            "tags": []
          },
          "execution_count": 28
        }
      ]
    },
    {
      "cell_type": "code",
      "metadata": {
        "id": "emJFv4cxLBvH",
        "colab_type": "code",
        "outputId": "740bd744-6bf4-48e1-bed2-e25cd26ce681",
        "colab": {
          "base_uri": "https://localhost:8080/",
          "height": 408
        }
      },
      "source": [
        "blog5k.fillna('0')"
      ],
      "execution_count": 29,
      "outputs": [
        {
          "output_type": "execute_result",
          "data": {
            "text/html": [
              "<div>\n",
              "<style scoped>\n",
              "    .dataframe tbody tr th:only-of-type {\n",
              "        vertical-align: middle;\n",
              "    }\n",
              "\n",
              "    .dataframe tbody tr th {\n",
              "        vertical-align: top;\n",
              "    }\n",
              "\n",
              "    .dataframe thead th {\n",
              "        text-align: right;\n",
              "    }\n",
              "</style>\n",
              "<table border=\"1\" class=\"dataframe\">\n",
              "  <thead>\n",
              "    <tr style=\"text-align: right;\">\n",
              "      <th></th>\n",
              "      <th>id</th>\n",
              "      <th>gender</th>\n",
              "      <th>age</th>\n",
              "      <th>topic</th>\n",
              "      <th>sign</th>\n",
              "      <th>date</th>\n",
              "      <th>text</th>\n",
              "    </tr>\n",
              "  </thead>\n",
              "  <tbody>\n",
              "    <tr>\n",
              "      <th>0</th>\n",
              "      <td>2059027</td>\n",
              "      <td>male</td>\n",
              "      <td>15</td>\n",
              "      <td>Student</td>\n",
              "      <td>Leo</td>\n",
              "      <td>14,May,2004</td>\n",
              "      <td>Info has been found (+/- 100 pages,...</td>\n",
              "    </tr>\n",
              "    <tr>\n",
              "      <th>1</th>\n",
              "      <td>2059027</td>\n",
              "      <td>male</td>\n",
              "      <td>15</td>\n",
              "      <td>Student</td>\n",
              "      <td>Leo</td>\n",
              "      <td>13,May,2004</td>\n",
              "      <td>These are the team members:   Drewe...</td>\n",
              "    </tr>\n",
              "    <tr>\n",
              "      <th>2</th>\n",
              "      <td>2059027</td>\n",
              "      <td>male</td>\n",
              "      <td>15</td>\n",
              "      <td>Student</td>\n",
              "      <td>Leo</td>\n",
              "      <td>12,May,2004</td>\n",
              "      <td>In het kader van kernfusie op aarde...</td>\n",
              "    </tr>\n",
              "    <tr>\n",
              "      <th>3</th>\n",
              "      <td>2059027</td>\n",
              "      <td>male</td>\n",
              "      <td>15</td>\n",
              "      <td>Student</td>\n",
              "      <td>Leo</td>\n",
              "      <td>12,May,2004</td>\n",
              "      <td>testing!!!  testing!!!</td>\n",
              "    </tr>\n",
              "    <tr>\n",
              "      <th>4</th>\n",
              "      <td>3581210</td>\n",
              "      <td>male</td>\n",
              "      <td>33</td>\n",
              "      <td>InvestmentBanking</td>\n",
              "      <td>Aquarius</td>\n",
              "      <td>11,June,2004</td>\n",
              "      <td>Thanks to Yahoo!'s Toolbar I can ...</td>\n",
              "    </tr>\n",
              "    <tr>\n",
              "      <th>...</th>\n",
              "      <td>...</td>\n",
              "      <td>...</td>\n",
              "      <td>...</td>\n",
              "      <td>...</td>\n",
              "      <td>...</td>\n",
              "      <td>...</td>\n",
              "      <td>...</td>\n",
              "    </tr>\n",
              "    <tr>\n",
              "      <th>4995</th>\n",
              "      <td>1103575</td>\n",
              "      <td>female</td>\n",
              "      <td>17</td>\n",
              "      <td>indUnk</td>\n",
              "      <td>Scorpio</td>\n",
              "      <td>27,August,2003</td>\n",
              "      <td>So... I had another one of those dreams...</td>\n",
              "    </tr>\n",
              "    <tr>\n",
              "      <th>4996</th>\n",
              "      <td>1103575</td>\n",
              "      <td>female</td>\n",
              "      <td>17</td>\n",
              "      <td>indUnk</td>\n",
              "      <td>Scorpio</td>\n",
              "      <td>27,August,2003</td>\n",
              "      <td>mmm... strawberry tea for breakfast. To...</td>\n",
              "    </tr>\n",
              "    <tr>\n",
              "      <th>4997</th>\n",
              "      <td>1103575</td>\n",
              "      <td>female</td>\n",
              "      <td>17</td>\n",
              "      <td>indUnk</td>\n",
              "      <td>Scorpio</td>\n",
              "      <td>27,August,2003</td>\n",
              "      <td>Yay for a new layout!!  Yeah, I know, I...</td>\n",
              "    </tr>\n",
              "    <tr>\n",
              "      <th>4998</th>\n",
              "      <td>1103575</td>\n",
              "      <td>female</td>\n",
              "      <td>17</td>\n",
              "      <td>indUnk</td>\n",
              "      <td>Scorpio</td>\n",
              "      <td>26,August,2003</td>\n",
              "      <td>Ok, so I lied... Fed up isn't playing F...</td>\n",
              "    </tr>\n",
              "    <tr>\n",
              "      <th>4999</th>\n",
              "      <td>1103575</td>\n",
              "      <td>female</td>\n",
              "      <td>17</td>\n",
              "      <td>indUnk</td>\n",
              "      <td>Scorpio</td>\n",
              "      <td>26,August,2003</td>\n",
              "      <td>well, today I went to church and talked...</td>\n",
              "    </tr>\n",
              "  </tbody>\n",
              "</table>\n",
              "<p>5000 rows × 7 columns</p>\n",
              "</div>"
            ],
            "text/plain": [
              "           id  ...                                               text\n",
              "0     2059027  ...             Info has been found (+/- 100 pages,...\n",
              "1     2059027  ...             These are the team members:   Drewe...\n",
              "2     2059027  ...             In het kader van kernfusie op aarde...\n",
              "3     2059027  ...                   testing!!!  testing!!!          \n",
              "4     3581210  ...               Thanks to Yahoo!'s Toolbar I can ...\n",
              "...       ...  ...                                                ...\n",
              "4995  1103575  ...         So... I had another one of those dreams...\n",
              "4996  1103575  ...         mmm... strawberry tea for breakfast. To...\n",
              "4997  1103575  ...         Yay for a new layout!!  Yeah, I know, I...\n",
              "4998  1103575  ...         Ok, so I lied... Fed up isn't playing F...\n",
              "4999  1103575  ...         well, today I went to church and talked...\n",
              "\n",
              "[5000 rows x 7 columns]"
            ]
          },
          "metadata": {
            "tags": []
          },
          "execution_count": 29
        }
      ]
    },
    {
      "cell_type": "code",
      "metadata": {
        "id": "gtO8RV0XLDU7",
        "colab_type": "code",
        "outputId": "4176844c-01dd-4fab-fca9-c82375c68e33",
        "colab": {
          "base_uri": "https://localhost:8080/",
          "height": 224
        }
      },
      "source": [
        "blog5k['text'].str.replace(\"-\",' ')\n",
        "blog5k['text'].str.replace(\"!!\",' ')\n",
        "blog5k['text'].str.replace(\"...\",' ')"
      ],
      "execution_count": 30,
      "outputs": [
        {
          "output_type": "execute_result",
          "data": {
            "text/plain": [
              "0                                                     ...\n",
              "1                                                     ...\n",
              "2                                                     ...\n",
              "3                                                        \n",
              "4                                                     ...\n",
              "                              ...                        \n",
              "4995                                                  ...\n",
              "4996                                                  ...\n",
              "4997                                                  ...\n",
              "4998                                                  ...\n",
              "4999                                                  ...\n",
              "Name: text, Length: 5000, dtype: object"
            ]
          },
          "metadata": {
            "tags": []
          },
          "execution_count": 30
        }
      ]
    },
    {
      "cell_type": "code",
      "metadata": {
        "id": "ckmLsLfFLE5W",
        "colab_type": "code",
        "colab": {}
      },
      "source": [
        "#replace foreign characters\n",
        "import re\n",
        "def replace_foreign_characters(s):\n",
        "    return re.sub(r'[^\\x00-\\x7f]',r'', s)\n",
        "\n",
        "blog5k['text'] = blog5k['text'].apply(lambda x: replace_foreign_characters(x))"
      ],
      "execution_count": 0,
      "outputs": []
    },
    {
      "cell_type": "code",
      "metadata": {
        "id": "SZoa8AaeLIFP",
        "colab_type": "code",
        "colab": {}
      },
      "source": [
        "#Stemming\n",
        "from nltk.stem import PorterStemmer\n",
        "stemmer = PorterStemmer()\n",
        "\n",
        "def stem(text):\n",
        "    tokenized_text = tokenize(text)\n",
        "    stems = [stemmer.stem(token) for token in tokenized_text]\n",
        "    return ' '.join(stems)"
      ],
      "execution_count": 0,
      "outputs": []
    },
    {
      "cell_type": "code",
      "metadata": {
        "id": "q6wJL866LK3s",
        "colab_type": "code",
        "colab": {}
      },
      "source": [
        "#b. Convert text to lowercase \n",
        "blog5k['text'] = blog5k['text'].str.lower()"
      ],
      "execution_count": 0,
      "outputs": []
    },
    {
      "cell_type": "code",
      "metadata": {
        "id": "fuU903xBLMAG",
        "colab_type": "code",
        "colab": {}
      },
      "source": [
        "blog5k.text = blog5k.text.str.strip()"
      ],
      "execution_count": 0,
      "outputs": []
    },
    {
      "cell_type": "code",
      "metadata": {
        "id": "dhF4sn36LMDX",
        "colab_type": "code",
        "outputId": "8bd1e3c7-f36e-4009-8d53-e2ef2749a981",
        "colab": {
          "base_uri": "https://localhost:8080/",
          "height": 54
        }
      },
      "source": [
        "blog5k.text[15]"
      ],
      "execution_count": 35,
      "outputs": [
        {
          "output_type": "execute_result",
          "data": {
            "text/plain": [
              "\"one thing i love about seoul (and i mean this about korea in general...i just happen to be a little seoul-centric) is the street sellers.  i don't really trust the food they sell on the side of the road (except ice cream) but virtually everything else is fair game for me.  for example, to get ready for my trip to canada and generally stock up, in the last two weeks i bought:  2 plants in a can for my nieces (8,000 won) 2 lightweight sports shirts for inlining (10,000 won for both) 1 pair of shorts for inlining (20,000 won) 3 bags of dried  (goguma, sweet potatoes or yams, they were selling 1 for 3,000 won , 2 for 5,000 but i got 3 for 6,000) 1 tie (at an amazing price of 5,000 won, or usd 4...and i can't really tell how it's worse than the ones i bought for usd 100 back home.) 10 disposible razors (for 1,000 won, or usd 0.80 for all ten) 1 noise-making toy hammer for boy #2 (1,000 won) 3 disney photo albums (but i'm sure ol' walt didn't make a penny on these....just 1,000 won each)  the clothes-seller guy spoke pretty good english...i know because he held my hostage for 5 minutes as we talked about how korean men are getting fatter (hence his stock of larger sizes for husky guys like me) and how he learned english working for the us army about 20-30 years ago.  the goguma-guy didn't know a lot of english, but he did speak spanish owing to the fact that he lived in argentina for a few years.  unfortunately, spanish is not one of my languages...i know a fair bit of french from my school-days, a smattering japanese and, of course, some korean. anyways, when i passed the goguma-guy later in the week i gave him a big 'hola!' (spanish for hello, and the extent of my proficiency) and he returned one as well...wow, bridging the cultures with another one...how un of me.  below is a picture of the famous yeouido tie-truck.  this guy stops in the hotspots and unloads silk and polyester ties on neckwear-hungry salarymen.   urllink    here they are: 2 for 5,000 won (usd 4.50)!\""
            ]
          },
          "metadata": {
            "tags": []
          },
          "execution_count": 35
        }
      ]
    },
    {
      "cell_type": "code",
      "metadata": {
        "id": "og9ZRbCdLMIs",
        "colab_type": "code",
        "outputId": "489f5526-1dc0-4f2e-8a4c-0e1f0849766b",
        "colab": {
          "base_uri": "https://localhost:8080/",
          "height": 52
        }
      },
      "source": [
        "#d. Remove stopwords\n",
        "import nltk\n",
        "nltk.download('stopwords')\n",
        "from nltk.corpus import stopwords"
      ],
      "execution_count": 36,
      "outputs": [
        {
          "output_type": "stream",
          "text": [
            "[nltk_data] Downloading package stopwords to /root/nltk_data...\n",
            "[nltk_data]   Unzipping corpora/stopwords.zip.\n"
          ],
          "name": "stdout"
        }
      ]
    },
    {
      "cell_type": "code",
      "metadata": {
        "id": "pff6miWQLMMN",
        "colab_type": "code",
        "colab": {}
      },
      "source": [
        "STOPWORDS = set(stopwords.words('english'))"
      ],
      "execution_count": 0,
      "outputs": []
    },
    {
      "cell_type": "code",
      "metadata": {
        "id": "eKaPuzlqLMPo",
        "colab_type": "code",
        "colab": {}
      },
      "source": [
        "import matplotlib.pyplot as plt # visualization\n",
        "import seaborn as sns # visualization \n",
        "from wordcloud import WordCloud, STOPWORDS # this module is for making wordcloud in python"
      ],
      "execution_count": 0,
      "outputs": []
    },
    {
      "cell_type": "code",
      "metadata": {
        "id": "w8tn_cLVLiTD",
        "colab_type": "code",
        "outputId": "a1682176-5f02-4e55-afea-6d0635a180d8",
        "colab": {
          "base_uri": "https://localhost:8080/",
          "height": 514
        }
      },
      "source": [
        "# define wordcloud function from wordcloud library. set some parameteres for beatuful plotting\n",
        "wc = WordCloud()\n",
        "# generate word cloud using text column\n",
        "wc.generate(str(blog5k['text']))\n",
        "# declare our figure \n",
        "plt.figure(figsize=(15,8), facecolor='m')\n",
        "# add title to the graph\n",
        "plt.title(\"Most frequent words in BLOGS dataset\", fontsize=50,color='white')\n",
        "plt.imshow(wc)\n",
        "plt.show()"
      ],
      "execution_count": 39,
      "outputs": [
        {
          "output_type": "display_data",
          "data": {
            "image/png": "[encoded data removed]",
            "text/plain": [
              "<Figure size 1080x576 with 1 Axes>"
            ]
          },
          "metadata": {
            "tags": []
          }
        }
      ]
    },
    {
      "cell_type": "markdown",
      "metadata": {
        "id": "Q3V4o9lQc_v_",
        "colab_type": "text"
      },
      "source": [
        "3. As we want to make this into a multi-label classification problem, you are required to merge all the label columns together, so that we have all the labels together for a particular sentence (7.5 points)\n",
        "\n",
        "a. Label columns to merge: “gender”, “age”, “topic”, “sign”\n",
        "\n",
        "b. After completing the previous step, there should be only two columns in your data frame i.e. “text” and “labels”"
      ]
    },
    {
      "cell_type": "code",
      "metadata": {
        "id": "yuSIWMeCdeWq",
        "colab_type": "code",
        "outputId": "3abc8ef8-104e-4089-f7af-6897d4da50ce",
        "colab": {
          "base_uri": "https://localhost:8080/",
          "height": 34
        }
      },
      "source": [
        "print (list(blog5k))"
      ],
      "execution_count": 40,
      "outputs": [
        {
          "output_type": "stream",
          "text": [
            "['id', 'gender', 'age', 'topic', 'sign', 'date', 'text']\n"
          ],
          "name": "stdout"
        }
      ]
    },
    {
      "cell_type": "code",
      "metadata": {
        "id": "cras3DcPdeZ3",
        "colab_type": "code",
        "colab": {}
      },
      "source": [
        "# a. Label columns to merge: “gender”, “age”, “topic”, “sign”\n",
        "Label=blog5k['gender']+[',' ] + blog5k['age'].astype(str) +[',' ] + blog5k['topic']+[',' ] + blog5k['sign']"
      ],
      "execution_count": 0,
      "outputs": []
    },
    {
      "cell_type": "code",
      "metadata": {
        "id": "U_lL-3A6dyt-",
        "colab_type": "code",
        "colab": {}
      },
      "source": [
        "blog5k.insert(7,'Label',Label)"
      ],
      "execution_count": 0,
      "outputs": []
    },
    {
      "cell_type": "code",
      "metadata": {
        "id": "5oMKF9gOdedZ",
        "colab_type": "code",
        "outputId": "d91e0960-589e-431b-936c-a2a45b494411",
        "colab": {
          "base_uri": "https://localhost:8080/",
          "height": 138
        }
      },
      "source": [
        "blog5k.head(3)"
      ],
      "execution_count": 43,
      "outputs": [
        {
          "output_type": "execute_result",
          "data": {
            "text/html": [
              "<div>\n",
              "<style scoped>\n",
              "    .dataframe tbody tr th:only-of-type {\n",
              "        vertical-align: middle;\n",
              "    }\n",
              "\n",
              "    .dataframe tbody tr th {\n",
              "        vertical-align: top;\n",
              "    }\n",
              "\n",
              "    .dataframe thead th {\n",
              "        text-align: right;\n",
              "    }\n",
              "</style>\n",
              "<table border=\"1\" class=\"dataframe\">\n",
              "  <thead>\n",
              "    <tr style=\"text-align: right;\">\n",
              "      <th></th>\n",
              "      <th>id</th>\n",
              "      <th>gender</th>\n",
              "      <th>age</th>\n",
              "      <th>topic</th>\n",
              "      <th>sign</th>\n",
              "      <th>date</th>\n",
              "      <th>text</th>\n",
              "      <th>Label</th>\n",
              "    </tr>\n",
              "  </thead>\n",
              "  <tbody>\n",
              "    <tr>\n",
              "      <th>0</th>\n",
              "      <td>2059027</td>\n",
              "      <td>male</td>\n",
              "      <td>15</td>\n",
              "      <td>Student</td>\n",
              "      <td>Leo</td>\n",
              "      <td>14,May,2004</td>\n",
              "      <td>info has been found (+/- 100 pages, and 4.5 mb...</td>\n",
              "      <td>male,15,Student,Leo</td>\n",
              "    </tr>\n",
              "    <tr>\n",
              "      <th>1</th>\n",
              "      <td>2059027</td>\n",
              "      <td>male</td>\n",
              "      <td>15</td>\n",
              "      <td>Student</td>\n",
              "      <td>Leo</td>\n",
              "      <td>13,May,2004</td>\n",
              "      <td>these are the team members:   drewes van der l...</td>\n",
              "      <td>male,15,Student,Leo</td>\n",
              "    </tr>\n",
              "    <tr>\n",
              "      <th>2</th>\n",
              "      <td>2059027</td>\n",
              "      <td>male</td>\n",
              "      <td>15</td>\n",
              "      <td>Student</td>\n",
              "      <td>Leo</td>\n",
              "      <td>12,May,2004</td>\n",
              "      <td>in het kader van kernfusie op aarde:  maak je ...</td>\n",
              "      <td>male,15,Student,Leo</td>\n",
              "    </tr>\n",
              "  </tbody>\n",
              "</table>\n",
              "</div>"
            ],
            "text/plain": [
              "        id  ...                Label\n",
              "0  2059027  ...  male,15,Student,Leo\n",
              "1  2059027  ...  male,15,Student,Leo\n",
              "2  2059027  ...  male,15,Student,Leo\n",
              "\n",
              "[3 rows x 8 columns]"
            ]
          },
          "metadata": {
            "tags": []
          },
          "execution_count": 43
        }
      ]
    },
    {
      "cell_type": "code",
      "metadata": {
        "id": "taIxnFnldega",
        "colab_type": "code",
        "colab": {}
      },
      "source": [
        "# b.\tAfter completing the previous step, there should be only two columns in your data frame i.e. “text” and “labels” as shown in the below image"
      ],
      "execution_count": 0,
      "outputs": []
    },
    {
      "cell_type": "code",
      "metadata": {
        "id": "XHr3B7edfHr_",
        "colab_type": "code",
        "colab": {}
      },
      "source": [
        "del blog5k['gender']\n",
        "del blog5k['age']\n",
        "del blog5k['topic']\n",
        "del blog5k['sign']\n",
        "del blog5k['date']\n"
      ],
      "execution_count": 0,
      "outputs": []
    },
    {
      "cell_type": "code",
      "metadata": {
        "id": "3btvhQfvfHvR",
        "colab_type": "code",
        "outputId": "d73adc1f-6bf2-40b0-842a-989ab3ec4500",
        "colab": {
          "base_uri": "https://localhost:8080/",
          "height": 138
        }
      },
      "source": [
        "blog5k.head(3)"
      ],
      "execution_count": 46,
      "outputs": [
        {
          "output_type": "execute_result",
          "data": {
            "text/html": [
              "<div>\n",
              "<style scoped>\n",
              "    .dataframe tbody tr th:only-of-type {\n",
              "        vertical-align: middle;\n",
              "    }\n",
              "\n",
              "    .dataframe tbody tr th {\n",
              "        vertical-align: top;\n",
              "    }\n",
              "\n",
              "    .dataframe thead th {\n",
              "        text-align: right;\n",
              "    }\n",
              "</style>\n",
              "<table border=\"1\" class=\"dataframe\">\n",
              "  <thead>\n",
              "    <tr style=\"text-align: right;\">\n",
              "      <th></th>\n",
              "      <th>id</th>\n",
              "      <th>text</th>\n",
              "      <th>Label</th>\n",
              "    </tr>\n",
              "  </thead>\n",
              "  <tbody>\n",
              "    <tr>\n",
              "      <th>0</th>\n",
              "      <td>2059027</td>\n",
              "      <td>info has been found (+/- 100 pages, and 4.5 mb...</td>\n",
              "      <td>male,15,Student,Leo</td>\n",
              "    </tr>\n",
              "    <tr>\n",
              "      <th>1</th>\n",
              "      <td>2059027</td>\n",
              "      <td>these are the team members:   drewes van der l...</td>\n",
              "      <td>male,15,Student,Leo</td>\n",
              "    </tr>\n",
              "    <tr>\n",
              "      <th>2</th>\n",
              "      <td>2059027</td>\n",
              "      <td>in het kader van kernfusie op aarde:  maak je ...</td>\n",
              "      <td>male,15,Student,Leo</td>\n",
              "    </tr>\n",
              "  </tbody>\n",
              "</table>\n",
              "</div>"
            ],
            "text/plain": [
              "        id  ...                Label\n",
              "0  2059027  ...  male,15,Student,Leo\n",
              "1  2059027  ...  male,15,Student,Leo\n",
              "2  2059027  ...  male,15,Student,Leo\n",
              "\n",
              "[3 rows x 3 columns]"
            ]
          },
          "metadata": {
            "tags": []
          },
          "execution_count": 46
        }
      ]
    },
    {
      "cell_type": "markdown",
      "metadata": {
        "id": "G6DIUDYVfVN5",
        "colab_type": "text"
      },
      "source": [
        "\n",
        "***4.\tSeparate features and labels, and split the data into training and testing (5 points)***"
      ]
    },
    {
      "cell_type": "code",
      "metadata": {
        "id": "PEPwlZGqhH5D",
        "colab_type": "code",
        "colab": {}
      },
      "source": [
        "X=blog5k.text\n",
        "y=blog5k.Label"
      ],
      "execution_count": 0,
      "outputs": []
    },
    {
      "cell_type": "code",
      "metadata": {
        "id": "hck3MSwJLiWS",
        "colab_type": "code",
        "colab": {}
      },
      "source": [
        "from sklearn.model_selection import train_test_split\n",
        "#xtrain, xtest, ytrain, ytest  = train_test_split(X,y, random_state=42, test_size=0.30, shuffle=True)\n",
        "xtrain, xtest, ytrain, ytest = train_test_split(X, y, test_size=0.25)"
      ],
      "execution_count": 0,
      "outputs": []
    },
    {
      "cell_type": "code",
      "metadata": {
        "id": "2kpscNpmEapJ",
        "colab_type": "code",
        "outputId": "7056b954-9f8f-492b-d2a8-35223ed24aed",
        "colab": {
          "base_uri": "https://localhost:8080/",
          "height": 34
        }
      },
      "source": [
        "xtrain.shape"
      ],
      "execution_count": 49,
      "outputs": [
        {
          "output_type": "execute_result",
          "data": {
            "text/plain": [
              "(3750,)"
            ]
          },
          "metadata": {
            "tags": []
          },
          "execution_count": 49
        }
      ]
    },
    {
      "cell_type": "code",
      "metadata": {
        "id": "1jpAqXe_FeKf",
        "colab_type": "code",
        "outputId": "cff4748c-1492-4457-c0dd-11a1f95bc291",
        "colab": {
          "base_uri": "https://localhost:8080/",
          "height": 34
        }
      },
      "source": [
        "xtest.shape"
      ],
      "execution_count": 50,
      "outputs": [
        {
          "output_type": "execute_result",
          "data": {
            "text/plain": [
              "(1250,)"
            ]
          },
          "metadata": {
            "tags": []
          },
          "execution_count": 50
        }
      ]
    },
    {
      "cell_type": "markdown",
      "metadata": {
        "id": "ROdRGT-zwksR",
        "colab_type": "text"
      },
      "source": [
        "5. Vectorize the features (5 points)\n",
        "\n",
        "a. Create a Bag of Words using count vectorizer\n",
        "\n",
        "i. Use ngram_range=(1, 2)\n",
        "\n",
        "ii. Vectorize training and testing features\n",
        "\n",
        "b. Print the term-document matrix"
      ]
    },
    {
      "cell_type": "code",
      "metadata": {
        "id": "V_u50IFDc5-z",
        "colab_type": "code",
        "outputId": "78c1f829-3acd-4e37-b8fd-f3932d0a7a50",
        "colab": {
          "base_uri": "https://localhost:8080/",
          "height": 138
        }
      },
      "source": [
        "from sklearn.feature_extraction.text import TfidfVectorizer\n",
        "vectorizer = TfidfVectorizer(strip_accents='unicode', analyzer='word', ngram_range=(1,2), norm='l2')\n",
        "vectorizer.fit(xtrain)\n",
        "vectorizer.fit(xtest)"
      ],
      "execution_count": 51,
      "outputs": [
        {
          "output_type": "execute_result",
          "data": {
            "text/plain": [
              "TfidfVectorizer(analyzer='word', binary=False, decode_error='strict',\n",
              "                dtype=<class 'numpy.float64'>, encoding='utf-8',\n",
              "                input='content', lowercase=True, max_df=1.0, max_features=None,\n",
              "                min_df=1, ngram_range=(1, 2), norm='l2', preprocessor=None,\n",
              "                smooth_idf=True, stop_words=None, strip_accents='unicode',\n",
              "                sublinear_tf=False, token_pattern='(?u)\\\\b\\\\w\\\\w+\\\\b',\n",
              "                tokenizer=None, use_idf=True, vocabulary=None)"
            ]
          },
          "metadata": {
            "tags": []
          },
          "execution_count": 51
        }
      ]
    },
    {
      "cell_type": "code",
      "metadata": {
        "id": "1Ht5K6BZdejZ",
        "colab_type": "code",
        "outputId": "06e4104e-e28b-4c5a-8bd1-be3d0e6f2d84",
        "colab": {
          "base_uri": "https://localhost:8080/",
          "height": 86
        }
      },
      "source": [
        "xtrain.head(3)"
      ],
      "execution_count": 52,
      "outputs": [
        {
          "output_type": "execute_result",
          "data": {
            "text/plain": [
              "4825    i went to talk to the new owner of the repair ...\n",
              "3067    it's 4 oclock in the morning damnit listen to ...\n",
              "4869    today it was announced that not only will i ha...\n",
              "Name: text, dtype: object"
            ]
          },
          "metadata": {
            "tags": []
          },
          "execution_count": 52
        }
      ]
    },
    {
      "cell_type": "code",
      "metadata": {
        "id": "dMu0Z1Db-6Dz",
        "colab_type": "code",
        "outputId": "917146d8-4fdb-4ed5-8b05-ccc104b4426b",
        "colab": {
          "base_uri": "https://localhost:8080/",
          "height": 224
        }
      },
      "source": [
        "ytrain"
      ],
      "execution_count": 53,
      "outputs": [
        {
          "output_type": "execute_result",
          "data": {
            "text/plain": [
              "4825                   male,26,indUnk,Gemini\n",
              "3067                male,35,Technology,Aries\n",
              "4869    male,25,BusinessServices,Sagittarius\n",
              "2676                male,35,Technology,Aries\n",
              "3296                male,35,Technology,Aries\n",
              "                        ...                 \n",
              "3448                male,35,Technology,Aries\n",
              "341                 female,24,indUnk,Scorpio\n",
              "4805                   male,26,indUnk,Gemini\n",
              "234                 male,15,Student,Aquarius\n",
              "657                male,24,Engineering,Libra\n",
              "Name: Label, Length: 3750, dtype: object"
            ]
          },
          "metadata": {
            "tags": []
          },
          "execution_count": 53
        }
      ]
    },
    {
      "cell_type": "code",
      "metadata": {
        "id": "5Jomv4R4fWo-",
        "colab_type": "code",
        "colab": {}
      },
      "source": [
        "xtrain = vectorizer.transform(X)\n",
        "#ytrain = ytrain.drop(labels = ['id'], axis=1)\n",
        "xtest = vectorizer.transform(y)\n",
        "#ytest = ytest.drop(labels = ['id'], axis=1)"
      ],
      "execution_count": 0,
      "outputs": []
    },
    {
      "cell_type": "code",
      "metadata": {
        "id": "oXdS6Ie88zlx",
        "colab_type": "code",
        "outputId": "621b7706-a71e-4bcd-afa8-4660d9094b94",
        "colab": {
          "base_uri": "https://localhost:8080/",
          "height": 34
        }
      },
      "source": [
        "xtrain.shape"
      ],
      "execution_count": 55,
      "outputs": [
        {
          "output_type": "execute_result",
          "data": {
            "text/plain": [
              "(5000, 123968)"
            ]
          },
          "metadata": {
            "tags": []
          },
          "execution_count": 55
        }
      ]
    },
    {
      "cell_type": "code",
      "metadata": {
        "id": "J7hlQZG32gRb",
        "colab_type": "code",
        "outputId": "b41ec310-b55d-4034-b598-6cb2cd9fa518",
        "colab": {
          "base_uri": "https://localhost:8080/",
          "height": 34
        }
      },
      "source": [
        "xtest.shape"
      ],
      "execution_count": 56,
      "outputs": [
        {
          "output_type": "execute_result",
          "data": {
            "text/plain": [
              "(5000, 123968)"
            ]
          },
          "metadata": {
            "tags": []
          },
          "execution_count": 56
        }
      ]
    },
    {
      "cell_type": "code",
      "metadata": {
        "id": "TzCikxw58nfH",
        "colab_type": "code",
        "outputId": "b8a90b36-ff35-495d-9403-08d288f31433",
        "colab": {
          "base_uri": "https://localhost:8080/",
          "height": 34
        }
      },
      "source": [
        "ytest.shape"
      ],
      "execution_count": 57,
      "outputs": [
        {
          "output_type": "execute_result",
          "data": {
            "text/plain": [
              "(1250,)"
            ]
          },
          "metadata": {
            "tags": []
          },
          "execution_count": 57
        }
      ]
    },
    {
      "cell_type": "markdown",
      "metadata": {
        "id": "anh4BXdIHm9O",
        "colab_type": "text"
      },
      "source": [
        "***6.\tCreate a dictionary to get the count of every label i.e. the key will be label name and value will be the total count of the label. (5 points) ***"
      ]
    },
    {
      "cell_type": "code",
      "metadata": {
        "id": "odPTOMOcwc5R",
        "colab_type": "code",
        "outputId": "8d1d0a4c-bcfc-499b-a618-16f39135acf5",
        "colab": {
          "base_uri": "https://localhost:8080/",
          "height": 1000
        }
      },
      "source": [
        "Label_names = vectorizer.get_feature_names()\n",
        "Label_counts = {s: Label_names.index(s) for s in Label_names}\n",
        "Label_counts"
      ],
      "execution_count": 58,
      "outputs": [
        {
          "output_type": "execute_result",
          "data": {
            "text/plain": [
              "{'00': 0,\n",
              " '00 actually': 1,\n",
              " '00 in': 2,\n",
              " '00 more': 3,\n",
              " '00 newton': 4,\n",
              " '00 not': 5,\n",
              " '00 pm': 6,\n",
              " '00 sumber': 7,\n",
              " '00 this': 8,\n",
              " '00 today': 9,\n",
              " '00 while': 10,\n",
              " '000': 11,\n",
              " '000 animals': 12,\n",
              " '000 anything': 13,\n",
              " '000 companion': 14,\n",
              " '000 credits': 15,\n",
              " '000 dollars': 16,\n",
              " '000 employees': 17,\n",
              " '000 in': 18,\n",
              " '000 japanese': 19,\n",
              " '000 layers': 20,\n",
              " '000 microsoft': 21,\n",
              " '000 more': 22,\n",
              " '000 most': 23,\n",
              " '000 nutjobs': 24,\n",
              " '000 of': 25,\n",
              " '000 pages': 26,\n",
              " '000 people': 27,\n",
              " '000 pound': 28,\n",
              " '000 square': 29,\n",
              " '000 to': 30,\n",
              " '000 was': 31,\n",
              " '000 won': 32,\n",
              " '000 xp': 33,\n",
              " '000 years': 34,\n",
              " '0000': 35,\n",
              " '0000 blinking': 36,\n",
              " '000miles': 37,\n",
              " '000miles away': 38,\n",
              " '000th': 39,\n",
              " '000th time': 40,\n",
              " '00pm': 41,\n",
              " '00pm the': 42,\n",
              " '01': 43,\n",
              " '01 22': 44,\n",
              " '01 bette': 45,\n",
              " '01 have': 46,\n",
              " '01 who': 47,\n",
              " '0128': 48,\n",
              " '0128 for': 49,\n",
              " '014': 50,\n",
              " '014 949': 51,\n",
              " '02': 52,\n",
              " '02 and': 53,\n",
              " '02 britney': 54,\n",
              " '02 do': 55,\n",
              " '02 faced': 56,\n",
              " '02 lott': 57,\n",
              " '02 republicans': 58,\n",
              " '02 what': 59,\n",
              " '02 when': 60,\n",
              " '02 where': 61,\n",
              " '03': 62,\n",
              " '03 and': 63,\n",
              " '03 do': 64,\n",
              " '03 have': 65,\n",
              " '04': 66,\n",
              " '04 apocalypse': 67,\n",
              " '04 asses': 68,\n",
              " '04 because': 69,\n",
              " '04 compassionate': 70,\n",
              " '04 four': 71,\n",
              " '04 get': 72,\n",
              " '04 have': 73,\n",
              " '04 in': 74,\n",
              " '04 is': 75,\n",
              " '04 it': 76,\n",
              " '04 leave': 77,\n",
              " '04 less': 78,\n",
              " '04 making': 79,\n",
              " '04 or': 80,\n",
              " '04 putting': 81,\n",
              " '04 thanks': 82,\n",
              " '04 the': 83,\n",
              " '04 this': 84,\n",
              " '04 we': 85,\n",
              " '04 you': 86,\n",
              " '0431': 87,\n",
              " '0431 travsd': 88,\n",
              " '05': 89,\n",
              " '05 11': 90,\n",
              " '05 16': 91,\n",
              " '05 29': 92,\n",
              " '05 35': 93,\n",
              " '05 have': 94,\n",
              " '05 makes': 95,\n",
              " '05 short': 96,\n",
              " '06': 97,\n",
              " '06 do': 98,\n",
              " '06 has': 99,\n",
              " '068': 100,\n",
              " '068 480': 101,\n",
              " '07': 102,\n",
              " '07 07': 103,\n",
              " '07 20': 104,\n",
              " '07 2004': 105,\n",
              " '07 21': 106,\n",
              " '07 always': 107,\n",
              " '07 have': 108,\n",
              " '08': 109,\n",
              " '08 12': 110,\n",
              " '08 ever': 111,\n",
              " '08 is': 112,\n",
              " '09': 113,\n",
              " '09 ever': 114,\n",
              " '09 has': 115,\n",
              " '10': 116,\n",
              " '10 000th': 117,\n",
              " '10 11': 118,\n",
              " '10 12': 119,\n",
              " '10 13': 120,\n",
              " '10 15': 121,\n",
              " '10 20': 122,\n",
              " '10 27': 123,\n",
              " '10 29': 124,\n",
              " '10 30': 125,\n",
              " '10 30am': 126,\n",
              " '10 45': 127,\n",
              " '10 45pm': 128,\n",
              " '10 950': 129,\n",
              " '10 all': 130,\n",
              " '10 am': 131,\n",
              " '10 and': 132,\n",
              " '10 aos': 133,\n",
              " '10 bible': 134,\n",
              " '10 but': 135,\n",
              " '10 by': 136,\n",
              " '10 cats': 137,\n",
              " '10 days': 138,\n",
              " '10 dec': 139,\n",
              " '10 euros': 140,\n",
              " '10 ever': 141,\n",
              " '10 evil': 142,\n",
              " '10 feet': 143,\n",
              " '10 flight': 144,\n",
              " '10 for': 145,\n",
              " '10 forigners': 146,\n",
              " '10 freakin': 147,\n",
              " '10 good': 148,\n",
              " '10 has': 149,\n",
              " '10 hey': 150,\n",
              " '10 hours': 151,\n",
              " '10 in': 152,\n",
              " '10 inches': 153,\n",
              " '10 interview': 154,\n",
              " '10 million': 155,\n",
              " '10 mins': 156,\n",
              " '10 minute': 157,\n",
              " '10 minutes': 158,\n",
              " '10 months': 159,\n",
              " '10 of': 160,\n",
              " '10 pages': 161,\n",
              " '10 pm': 162,\n",
              " '10 pple': 163,\n",
              " '10 straight': 164,\n",
              " '10 thats': 165,\n",
              " '10 the': 166,\n",
              " '10 things': 167,\n",
              " '10 times': 168,\n",
              " '10 to': 169,\n",
              " '10 white': 170,\n",
              " '10 words': 171,\n",
              " '10 years': 172,\n",
              " '10 yes': 173,\n",
              " '10 you': 174,\n",
              " '100': 175,\n",
              " '100 00': 176,\n",
              " '100 000': 177,\n",
              " '100 clear': 178,\n",
              " '100 left': 179,\n",
              " '100 marks': 180,\n",
              " '100 miles': 181,\n",
              " '100 now': 182,\n",
              " '100 or': 183,\n",
              " '100 people': 184,\n",
              " '100 pills': 185,\n",
              " '100 post': 186,\n",
              " '100 rounds': 187,\n",
              " '100 runs': 188,\n",
              " '100 so': 189,\n",
              " '100 to': 190,\n",
              " '100 tons': 191,\n",
              " '100 yards': 192,\n",
              " '100 years': 193,\n",
              " '1000': 194,\n",
              " '1000 00': 195,\n",
              " '1000 exactly': 196,\n",
              " '1000 he': 197,\n",
              " '1000 times': 198,\n",
              " '1000 to': 199,\n",
              " '1000 won': 200,\n",
              " '100gb': 201,\n",
              " '100gb drives': 202,\n",
              " '100th': 203,\n",
              " '100th birthday': 204,\n",
              " '100x': 205,\n",
              " '100x as': 206,\n",
              " '101': 207,\n",
              " '101 marks': 208,\n",
              " '102': 209,\n",
              " '102 for': 210,\n",
              " '1046': 211,\n",
              " '1046 dress': 212,\n",
              " '106': 213,\n",
              " '106 annexes': 214,\n",
              " '107': 215,\n",
              " '107 columbus': 216,\n",
              " '10am': 217,\n",
              " '10am that': 218,\n",
              " '10am was': 219,\n",
              " '10pm': 220,\n",
              " '10pm et': 221,\n",
              " '10th': 222,\n",
              " '10th grade': 223,\n",
              " '10th year': 224,\n",
              " '11': 225,\n",
              " '11 00': 226,\n",
              " '11 000': 227,\n",
              " '11 05': 228,\n",
              " '11 10': 229,\n",
              " '11 14': 230,\n",
              " '11 18': 231,\n",
              " '11 21': 232,\n",
              " '11 30': 233,\n",
              " '11 30am': 234,\n",
              " '11 40': 235,\n",
              " '11 45pm': 236,\n",
              " '11 50am': 237,\n",
              " '11 55pm': 238,\n",
              " '11 all': 239,\n",
              " '11 am': 240,\n",
              " '11 and': 241,\n",
              " '11 as': 242,\n",
              " '11 attacks': 243,\n",
              " '11 days': 244,\n",
              " '11 employer': 245,\n",
              " '11 flight': 246,\n",
              " '11 glass': 247,\n",
              " '11 he': 248,\n",
              " '11 is': 249,\n",
              " '11 no': 250,\n",
              " '11 plane': 251,\n",
              " '11 pm': 252,\n",
              " '11 rather': 253,\n",
              " '11 that': 254,\n",
              " '11 the': 255,\n",
              " '11 then': 256,\n",
              " '11 virginia': 257,\n",
              " '11 year': 258,\n",
              " '110': 259,\n",
              " '110 000': 260,\n",
              " '1100': 261,\n",
              " '1100 1300ad': 262,\n",
              " '1100 trained': 263,\n",
              " '11000': 264,\n",
              " '11000 chocolates': 265,\n",
              " '111': 266,\n",
              " '111 clinton': 267,\n",
              " '111 everyone': 268,\n",
              " '11am': 269,\n",
              " '11am dbms': 270,\n",
              " '11am eta': 271,\n",
              " '11pm': 272,\n",
              " '11pm someday': 273,\n",
              " '11th': 274,\n",
              " '11th again': 275,\n",
              " '12': 276,\n",
              " '12 2001': 277,\n",
              " '12 30': 278,\n",
              " '12 40': 279,\n",
              " '12 95': 280,\n",
              " '12 an': 281,\n",
              " '12 and': 282,\n",
              " '12 blocks': 283,\n",
              " '12 get': 284,\n",
              " '12 hour': 285,\n",
              " '12 hours': 286,\n",
              " '12 is': 287,\n",
              " '12 microsoft': 288,\n",
              " '12 miles': 289,\n",
              " '12 months': 290,\n",
              " '12 not': 291,\n",
              " '12 now': 292,\n",
              " '12 or': 293,\n",
              " '12 rather': 294,\n",
              " '12 so': 295,\n",
              " '12 with': 296,\n",
              " '12 years': 297,\n",
              " '12 you': 298,\n",
              " '120': 299,\n",
              " '120 000': 300,\n",
              " '1245': 301,\n",
              " '1245 purely': 302,\n",
              " '126': 303,\n",
              " '126 around': 304,\n",
              " '12am': 305,\n",
              " '12am one': 306,\n",
              " '12pm': 307,\n",
              " '12pm slots': 308,\n",
              " '12th': 309,\n",
              " '12th christmas': 310,\n",
              " '12th it': 311,\n",
              " '13': 312,\n",
              " '13 068': 313,\n",
              " '13 11': 314,\n",
              " '13 14': 315,\n",
              " '13 2001': 316,\n",
              " '13 agreements': 317,\n",
              " '13 bush': 318,\n",
              " '13 credit': 319,\n",
              " '13 euros': 320,\n",
              " '13 inning': 321,\n",
              " '13 is': 322,\n",
              " '13 miami': 323,\n",
              " '13 to': 324,\n",
              " '13 want': 325,\n",
              " '13 without': 326,\n",
              " '13 you': 327,\n",
              " '130': 328,\n",
              " '130 so': 329,\n",
              " '1300ad': 330,\n",
              " '1300ad that': 331,\n",
              " '1331': 332,\n",
              " '1331 think': 333,\n",
              " '1392': 334,\n",
              " '1392 1910': 335,\n",
              " '13th': 336,\n",
              " '13th 2004': 337,\n",
              " '13th century': 338,\n",
              " '13th it': 339,\n",
              " '14': 340,\n",
              " '14 39': 341,\n",
              " '14 50': 342,\n",
              " '14 amien': 343,\n",
              " '14 and': 344,\n",
              " '14 ever': 345,\n",
              " '14 feet': 346,\n",
              " '14 for': 347,\n",
              " '14 gun': 348,\n",
              " '14 hours': 349,\n",
              " '14 is': 350,\n",
              " '14 linguists': 351,\n",
              " '14 million': 352,\n",
              " '14 orphanage': 353,\n",
              " '14 running': 354,\n",
              " '14 she': 355,\n",
              " '14 think': 356,\n",
              " '14 years': 357,\n",
              " '147': 358,\n",
              " '147 arrests': 359,\n",
              " '147 what': 360,\n",
              " '14th': 361,\n",
              " '14th but': 362,\n",
              " '14th two': 363,\n",
              " '14th went': 364,\n",
              " '15': 365,\n",
              " '15 17': 366,\n",
              " '15 20': 367,\n",
              " '15 30': 368,\n",
              " '15 651': 369,\n",
              " '15 am': 370,\n",
              " '15 at': 371,\n",
              " '15 dec': 372,\n",
              " '15 do': 373,\n",
              " '15 full': 374,\n",
              " '15 is': 375,\n",
              " '15 minutes': 376,\n",
              " '15 more': 377,\n",
              " '15 pm': 378,\n",
              " '15 seconds': 379,\n",
              " '15 so': 380,\n",
              " '15 the': 381,\n",
              " '15 this': 382,\n",
              " '15 time': 383,\n",
              " '15 wearing': 384,\n",
              " '15 years': 385,\n",
              " '150': 386,\n",
              " '150 000': 387,\n",
              " '150 cats': 388,\n",
              " '150 dogs': 389,\n",
              " '150 mph': 390,\n",
              " '150 or': 391,\n",
              " '150 volunteers': 392,\n",
              " '150 week': 393,\n",
              " '1500': 394,\n",
              " '1500 mini': 395,\n",
              " '151': 396,\n",
              " '151 in': 397,\n",
              " '1512': 398,\n",
              " '1512 silver': 399,\n",
              " '1548489': 400,\n",
              " '159': 401,\n",
              " '159 some': 402,\n",
              " '15m': 403,\n",
              " '15m dollar': 404,\n",
              " '15months': 405,\n",
              " '15months and': 406,\n",
              " '15months we': 407,\n",
              " '15th': 408,\n",
              " '15th day': 409,\n",
              " '15th july': 410,\n",
              " '15th mark': 411,\n",
              " '15th of': 412,\n",
              " '16': 413,\n",
              " '16 2004': 414,\n",
              " '16 again': 415,\n",
              " '16 dec': 416,\n",
              " '16 do': 417,\n",
              " '16 female': 418,\n",
              " '16 hot': 419,\n",
              " '16 hours': 420,\n",
              " '16 is': 421,\n",
              " '16 it': 422,\n",
              " '16 months': 423,\n",
              " '16 that': 424,\n",
              " '16 two': 425,\n",
              " '16 vacation': 426,\n",
              " '16 would': 427,\n",
              " '16 year': 428,\n",
              " '1639': 429,\n",
              " '1639 digital': 430,\n",
              " '1639 other': 431,\n",
              " '1640': 432,\n",
              " '1640 vcr': 433,\n",
              " '1642': 434,\n",
              " '1642 pocket': 435,\n",
              " '168': 436,\n",
              " '168 or': 437,\n",
              " '16th': 438,\n",
              " '16th century': 439,\n",
              " '16th every': 440,\n",
              " '16th to': 441,\n",
              " '17': 442,\n",
              " '17 5c': 443,\n",
              " '17 change': 444,\n",
              " '17 degrees': 445,\n",
              " '17 do': 446,\n",
              " '17 is': 447,\n",
              " '17 jeff': 448,\n",
              " '17 reagan': 449,\n",
              " '17 year': 450,\n",
              " '170': 451,\n",
              " '170 bitch': 452,\n",
              " '1790': 453,\n",
              " '1790 massachusetts': 454,\n",
              " '1792': 455,\n",
              " '1792 the': 456,\n",
              " '17th': 457,\n",
              " '17th birthday': 458,\n",
              " '17th wedding': 459,\n",
              " '18': 460,\n",
              " '18 000': 461,\n",
              " '18 and': 462,\n",
              " '18 do': 463,\n",
              " '18 holes': 464,\n",
              " '18 is': 465,\n",
              " '18 months': 466,\n",
              " '18 nepotism': 467,\n",
              " '18 or': 468,\n",
              " '18 remember': 469,\n",
              " '18 times': 470,\n",
              " '18 total': 471,\n",
              " '18 will': 472,\n",
              " '18 wiretap': 473,\n",
              " '1800': 474,\n",
              " '1800 every': 475,\n",
              " '1805': 476,\n",
              " '1805 so': 477,\n",
              " '182': 478,\n",
              " '182 touring': 479,\n",
              " '183': 480,\n",
              " '183 mails': 481,\n",
              " '1856': 482,\n",
              " '1856 1950': 483,\n",
              " '18th': 484,\n",
              " '18th 2003': 485,\n",
              " '19': 486,\n",
              " '19 1979': 487,\n",
              " '19 2001': 488,\n",
              " '19 861': 489,\n",
              " '19 and': 490,\n",
              " '19 august': 491,\n",
              " '19 dec': 492,\n",
              " '19 hijackers': 493,\n",
              " '19 is': 494,\n",
              " '19 overrated': 495,\n",
              " '19 what': 496,\n",
              " '19 years': 497,\n",
              " '19 you': 498,\n",
              " '1910': 499,\n",
              " '1910 he': 500,\n",
              " '1928': 501,\n",
              " '1928 herbert': 502,\n",
              " '1940': 503,\n",
              " '1940 for': 504,\n",
              " '1948': 505,\n",
              " '1948 boston': 506,\n",
              " '1948 senate': 507,\n",
              " '1948 washington': 508,\n",
              " '1948 which': 509,\n",
              " '1950': 510,\n",
              " '1950 let': 511,\n",
              " '1950 macallan': 512,\n",
              " '1950 nbc': 513,\n",
              " '1959': 514,\n",
              " '1959 diner': 515,\n",
              " '1961': 516,\n",
              " '1961 1979': 517,\n",
              " '1964': 518,\n",
              " '1964 lbj': 519,\n",
              " '1970s': 520,\n",
              " '1970s they': 521,\n",
              " '1972': 522,\n",
              " '1972 520': 523,\n",
              " '1972 after': 524,\n",
              " '1975': 525,\n",
              " '1975 honda': 526,\n",
              " '1976': 527,\n",
              " '1976 297': 528,\n",
              " '1976 mickey': 529,\n",
              " '1979': 530,\n",
              " '1979 others': 531,\n",
              " '1979 ugh': 532,\n",
              " '1983': 533,\n",
              " '1983 to': 534,\n",
              " '1989': 535,\n",
              " '1989 my': 536,\n",
              " '1991': 537,\n",
              " '1991 into': 538,\n",
              " '1995': 539,\n",
              " '1995 the': 540,\n",
              " '1996': 541,\n",
              " '1996 379': 542,\n",
              " '1996 miss': 543,\n",
              " '1997': 544,\n",
              " '1997 2000': 545,\n",
              " '19th': 546,\n",
              " '19th and': 547,\n",
              " '19th guess': 548,\n",
              " '19th manga': 549,\n",
              " '1am': 550,\n",
              " '1am now': 551,\n",
              " '1b': 552,\n",
              " '1b and': 553,\n",
              " '1br': 554,\n",
              " '1br and': 555,\n",
              " '1ce': 556,\n",
              " '1ce oh': 557,\n",
              " '1ce ok': 558,\n",
              " '1pm': 559,\n",
              " '1pm later': 560,\n",
              " '1pm on': 561,\n",
              " '1st': 562,\n",
              " '1st amendment': 563,\n",
              " '1st grade': 564,\n",
              " '1st level': 565,\n",
              " '1st or': 566,\n",
              " '1st time': 567,\n",
              " '1u': 568,\n",
              " '1u dual': 569,\n",
              " '20': 570,\n",
              " '20 000': 571,\n",
              " '20 000miles': 572,\n",
              " '20 2001': 573,\n",
              " '20 always': 574,\n",
              " '20 and': 575,\n",
              " '20 cat': 576,\n",
              " '20 discount': 577,\n",
              " '20 emails': 578,\n",
              " '20 feet': 579,\n",
              " '20 he': 580,\n",
              " '20 hours': 581,\n",
              " '20 hr': 582,\n",
              " '20 khz': 583,\n",
              " '20 lbs': 584,\n",
              " '20 miles': 585,\n",
              " '20 mins': 586,\n",
              " '20 minute': 587,\n",
              " '20 minutes': 588,\n",
              " '20 minutos': 589,\n",
              " '20 out': 590,\n",
              " '20 percent': 591,\n",
              " '20 plus': 592,\n",
              " '20 pounds': 593,\n",
              " '20 something': 594,\n",
              " '20 the': 595,\n",
              " '20 this': 596,\n",
              " '20 to': 597,\n",
              " '20 what': 598,\n",
              " '20 with': 599,\n",
              " '20 year': 600,\n",
              " '20 years': 601,\n",
              " '20 yrs': 602,\n",
              " '200': 603,\n",
              " '200 300': 604,\n",
              " '200 birds': 605,\n",
              " '200 fewer': 606,\n",
              " '200 in': 607,\n",
              " '200 staples': 608,\n",
              " '200 years': 609,\n",
              " '2000': 610,\n",
              " '2000 but': 611,\n",
              " '2000 election': 612,\n",
              " '2000 elections': 613,\n",
              " '2000 even': 614,\n",
              " '2000 florida': 615,\n",
              " '2000 in': 616,\n",
              " '2000 report': 617,\n",
              " '2000 visitors': 618,\n",
              " '2000 with': 619,\n",
              " '2001': 620,\n",
              " '2001 he': 621,\n",
              " '2001 omar': 622,\n",
              " '2001 rumsfeld': 623,\n",
              " '2001 shakir': 624,\n",
              " '2001 she': 625,\n",
              " '2001 the': 626,\n",
              " '2002': 627,\n",
              " '2002 07': 628,\n",
              " '2002 10': 629,\n",
              " '2002 11': 630,\n",
              " '2002 address': 631,\n",
              " '2002 almost': 632,\n",
              " '2002 and': 633,\n",
              " '2002 page': 634,\n",
              " '2002 teach': 635,\n",
              " '2002 tech': 636,\n",
              " '2002 was': 637,\n",
              " '2003': 638,\n",
              " '2003 01': 639,\n",
              " '2003 10': 640,\n",
              " '2003 also': 641,\n",
              " '2003 cuz': 642,\n",
              " '2003 in': 643,\n",
              " '2003 sagittarius': 644,\n",
              " '2003 the': 645,\n",
              " '2003 things': 646,\n",
              " '2003 was': 647,\n",
              " '2003apr24': 648,\n",
              " '2003apr24 htmlwe': 649,\n",
              " '2004': 650,\n",
              " '2004 07': 651,\n",
              " '2004 10': 652,\n",
              " '2004 14': 653,\n",
              " '2004 20pm': 654,\n",
              " '2004 at': 655,\n",
              " '2004 budget': 656,\n",
              " '2004 dreamtheater': 657,\n",
              " '2004 herre': 658,\n",
              " '2004 it': 659,\n",
              " '2004 the': 660,\n",
              " '2004 tim': 661,\n",
              " '2005': 662,\n",
              " '2005 woohooo': 663,\n",
              " '2005 you': 664,\n",
              " '2008': 665,\n",
              " '2008 what': 666,\n",
              " '200m': 667,\n",
              " '200m dash': 668,\n",
              " '201': 669,\n",
              " '201 killing': 670,\n",
              " '20am': 671,\n",
              " '20am at': 672,\n",
              " '20ish': 673,\n",
              " '20ish person': 674,\n",
              " '20pm': 675,\n",
              " '20pm then': 676,\n",
              " '20somethings': 677,\n",
              " '20somethings things': 678,\n",
              " '20th': 679,\n",
              " '20th can': 680,\n",
              " '20th century': 681,\n",
              " '20th is': 682,\n",
              " '20th reader': 683,\n",
              " '21': 684,\n",
              " '21 2001': 685,\n",
              " '21 2003': 686,\n",
              " '21 are': 687,\n",
              " '21 for': 688,\n",
              " '21 is': 689,\n",
              " '21 it': 690,\n",
              " '21 meat': 691,\n",
              " '21 sock': 692,\n",
              " '21 the_hit_dog_harmony_ends_in_court_filing': 693,\n",
              " '21 yangmalsan': 694,\n",
              " '216': 695,\n",
              " '216 million': 696,\n",
              " '21st': 697,\n",
              " '21st century': 698,\n",
              " '21st plus': 699,\n",
              " '22': 700,\n",
              " '22 14': 701,\n",
              " '22 are': 702,\n",
              " '22 for': 703,\n",
              " '22 kennel': 704,\n",
              " '22 news': 705,\n",
              " '22 who': 706,\n",
              " '220': 707,\n",
              " '220 black': 708,\n",
              " '228': 709,\n",
              " '228 years': 710,\n",
              " '22nd': 711,\n",
              " '22nd meeting': 712,\n",
              " '23': 713,\n",
              " '23 and': 714,\n",
              " '23 are': 715,\n",
              " '23 believe': 716,\n",
              " '23 dec': 717,\n",
              " '23 going': 718,\n",
              " '23 individuals': 719,\n",
              " '23 without': 720,\n",
              " '23 years': 721,\n",
              " '23rd': 722,\n",
              " '23rd it': 723,\n",
              " '24': 724,\n",
              " '24 2003': 725,\n",
              " '24 actually': 726,\n",
              " '24 and': 727,\n",
              " '24 characters': 728,\n",
              " '24 complains': 729,\n",
              " '24 de': 730,\n",
              " '24 frames': 731,\n",
              " '24 hour': 732,\n",
              " '24 hours': 733,\n",
              " '24 hrs': 734,\n",
              " '24 if': 735,\n",
              " '24 last': 736,\n",
              " '24 owns': 737,\n",
              " '24 possible': 738,\n",
              " '24 stomped': 739,\n",
              " '24 times': 740,\n",
              " '24 years': 741,\n",
              " '240': 742,\n",
              " '240 piercing': 743,\n",
              " '240 that': 744,\n",
              " '242': 745,\n",
              " '242 the': 746,\n",
              " '24hours': 747,\n",
              " '24hours after': 748,\n",
              " '25': 749,\n",
              " '25 21': 750,\n",
              " '25 auburn': 751,\n",
              " '25 biggest': 752,\n",
              " '25 clemson': 753,\n",
              " '25 could': 754,\n",
              " '25 house': 755,\n",
              " '25 million': 756,\n",
              " '25 more': 757,\n",
              " '25 on': 758,\n",
              " '25 she': 759,\n",
              " '25 team': 760,\n",
              " '25 year': 761,\n",
              " '25 years': 762,\n",
              " '250': 763,\n",
              " '250 job': 764,\n",
              " '250 miles': 765,\n",
              " '2500': 766,\n",
              " '2500 on': 767,\n",
              " '252': 768,\n",
              " '252 259': 769,\n",
              " '259': 770,\n",
              " '259 someone': 771,\n",
              " '25th': 772,\n",
              " '25th that': 773,\n",
              " '26': 774,\n",
              " '26 2002': 775,\n",
              " '26 52': 776,\n",
              " '26 and': 777,\n",
              " '26 billion': 778,\n",
              " '26 is': 779,\n",
              " '26 needs': 780,\n",
              " '26 now': 781,\n",
              " '26 switching': 782,\n",
              " '26 tina': 783,\n",
              " '26 wear': 784,\n",
              " '26 yr': 785,\n",
              " '2600': 786,\n",
              " '2600 combat': 787,\n",
              " '268': 788,\n",
              " '268 to': 789,\n",
              " '26things': 790,\n",
              " '26things spent': 791,\n",
              " '26things thanks': 792,\n",
              " '27': 793,\n",
              " '27 15': 794,\n",
              " '27 94gb': 795,\n",
              " '27 holes': 796,\n",
              " '27 internet': 797,\n",
              " '27 jimi': 798,\n",
              " '27 magazine': 799,\n",
              " '27 never': 800,\n",
              " '27 with': 801,\n",
              " '27 year': 802,\n",
              " '27 years': 803,\n",
              " '270': 804,\n",
              " '270 east': 805,\n",
              " '270 which': 806,\n",
              " '27detain': 807,\n",
              " '27detain html': 808,\n",
              " '27th': 809,\n",
              " '27th oct': 810,\n",
              " '27th or': 811,\n",
              " '27th sunday': 812,\n",
              " '27th think': 813,\n",
              " '28': 814,\n",
              " '28 2003': 815,\n",
              " '28 gnawed': 816,\n",
              " '28 hours': 817,\n",
              " '28 year': 818,\n",
              " '280': 819,\n",
              " '280 million': 820,\n",
              " '284': 821,\n",
              " '284 and': 822,\n",
              " '2885386': 823,\n",
              " '2885386 detail': 824,\n",
              " '28th': 825,\n",
              " '28th or': 826,\n",
              " '28th then': 827,\n",
              " '29': 828,\n",
              " '29 2004': 829,\n",
              " '29 arts': 830,\n",
              " '29 garry': 831,\n",
              " '29 july': 832,\n",
              " '29 november': 833,\n",
              " '29 year': 834,\n",
              " '295': 835,\n",
              " '295 242': 836,\n",
              " '297': 837,\n",
              " '297 240': 838,\n",
              " '29nine': 839,\n",
              " '29nine html': 840,\n",
              " '29th': 841,\n",
              " '29th 2004': 842,\n",
              " '29th and': 843,\n",
              " '29th has': 844,\n",
              " '29th then': 845,\n",
              " '2am': 846,\n",
              " '2am and': 847,\n",
              " '2am but': 848,\n",
              " '2am cualquier': 849,\n",
              " '2am sali': 850,\n",
              " '2am the': 851,\n",
              " '2am think': 852,\n",
              " '2am to': 853,\n",
              " '2d': 854,\n",
              " '2d game': 855,\n",
              " '2day': 856,\n",
              " '2day and': 857,\n",
              " '2day but': 858,\n",
              " '2day drank': 859,\n",
              " '2h': 860,\n",
              " '2h 45min': 861,\n",
              " '2mins': 862,\n",
              " '2mins away': 863,\n",
              " '2morrow': 864,\n",
              " '2morrow is': 865,\n",
              " '2nd': 866,\n",
              " '2nd flight': 867,\n",
              " '2nd gen': 868,\n",
              " '2nd grade': 869,\n",
              " '2nd hour': 870,\n",
              " '2nd last': 871,\n",
              " '2nd one': 872,\n",
              " '2nd or': 873,\n",
              " '2nd part': 874,\n",
              " '2nd period': 875,\n",
              " '2nd playoff': 876,\n",
              " '2nd row': 877,\n",
              " '2nd swimming': 878,\n",
              " '2nd time': 879,\n",
              " '2nd to': 880,\n",
              " '2nd well': 881,\n",
              " '2pm': 882,\n",
              " '2pm damn': 883,\n",
              " '2pm last': 884,\n",
              " '30': 885,\n",
              " '30 100': 886,\n",
              " '30 11': 887,\n",
              " '30 30': 888,\n",
              " '30 am': 889,\n",
              " '30 an': 890,\n",
              " '30 and': 891,\n",
              " '30 at': 892,\n",
              " '30 ben': 893,\n",
              " '30 blog': 894,\n",
              " '30 by': 895,\n",
              " '30 can': 896,\n",
              " '30 day': 897,\n",
              " '30 days': 898,\n",
              " '30 earliness': 899,\n",
              " '30 fee': 900,\n",
              " '30 hours': 901,\n",
              " '30 in': 902,\n",
              " '30 it': 903,\n",
              " '30 lever': 904,\n",
              " '30 luc': 905,\n",
              " '30 mins': 906,\n",
              " '30 minute': 907,\n",
              " '30 minutes': 908,\n",
              " '30 once': 909,\n",
              " '30 or': 910,\n",
              " '30 plus': 911,\n",
              " '30 seconds': 912,\n",
              " '30 see': 913,\n",
              " '30 the': 914,\n",
              " '30 then': 915,\n",
              " '30 think': 916,\n",
              " '30 this': 917,\n",
              " '30 threw': 918,\n",
              " '30 til': 919,\n",
              " '30 to': 920,\n",
              " '30 until': 921,\n",
              " '30 wanted': 922,\n",
              " '30 what': 923,\n",
              " '30 which': 924,\n",
              " '30 years': 925,\n",
              " '30 yesterday': 926,\n",
              " '300': 927,\n",
              " '300 am': 928,\n",
              " '300 hits': 929,\n",
              " '300 million': 930,\n",
              " '300 minutes': 931,\n",
              " '300 more': 932,\n",
              " '300 other': 933,\n",
              " '300 people': 934,\n",
              " '3000': 935,\n",
              " '3000 40': 936,\n",
              " '3000 ads': 937,\n",
              " '3000 years': 938,\n",
              " '3000pg': 939,\n",
              " '3000pg group': 940,\n",
              " '30am': 941,\n",
              " '30am apparently': 942,\n",
              " '30am everyone': 943,\n",
              " '30am so': 944,\n",
              " '30am then': 945,\n",
              " '30gb': 946,\n",
              " '30gb 75gb': 947,\n",
              " '30gb hd': 948,\n",
              " '30gb laptop': 949,\n",
              " '30kg': 950,\n",
              " '30kg if': 951,\n",
              " '30pm': 952,\n",
              " '30pm at': 953,\n",
              " '30pm here': 954,\n",
              " '30pm on': 955,\n",
              " '30pm the': 956,\n",
              " '30th': 957,\n",
              " '30th so': 958,\n",
              " '31': 959,\n",
              " '31 billion': 960,\n",
              " '310': 961,\n",
              " '310 with': 962,\n",
              " '315': 963,\n",
              " '315 people': 964,\n",
              " '31am': 965,\n",
              " '31am didn': 966,\n",
              " '31st': 967,\n",
              " '31st 2005': 968,\n",
              " '31st after': 969,\n",
              " '31st and': 970,\n",
              " '32': 971,\n",
              " '32 10': 972,\n",
              " '32 degrees': 973,\n",
              " '3210': 974,\n",
              " '325': 975,\n",
              " '325 with': 976,\n",
              " '33': 977,\n",
              " '33 65': 978,\n",
              " '33 and': 979,\n",
              " '33 at': 980,\n",
              " '33rd': 981,\n",
              " '33rd birthday': 982,\n",
              " '34': 983,\n",
              " '34 tax': 984,\n",
              " '346': 985,\n",
              " '346 33': 986,\n",
              " '34years': 987,\n",
              " '34years old': 988,\n",
              " '35': 989,\n",
              " '35 11': 990,\n",
              " '35 30': 991,\n",
              " '35 35': 992,\n",
              " '35 mother': 993,\n",
              " '35 not': 994,\n",
              " '35pm': 995,\n",
              " '35pm to': 996,\n",
              " '36': 997,\n",
              " '36 000': 998,\n",
              " '36 beers': 999,\n",
              " ...}"
            ]
          },
          "metadata": {
            "tags": []
          },
          "execution_count": 58
        }
      ]
    },
    {
      "cell_type": "markdown",
      "metadata": {
        "id": "Deltn3JJJ4ff",
        "colab_type": "text"
      },
      "source": [
        "7. Transform the labels - (7.5 points) As we have noticed before, in this task each example can have multiple tags. To deal with such kind of prediction, we need to transform labels in a binary form and the prediction will be a mask of 0s and 1s. For this purpose, it is convenient to use MultiLabelBinarizer from sklearn a. Convert your train and test labels using MultiLabelBinarizer"
      ]
    },
    {
      "cell_type": "code",
      "metadata": {
        "id": "_8GJOiRawc8P",
        "colab_type": "code",
        "outputId": "f63392ea-0074-4288-b022-cf961a812b6f",
        "colab": {
          "base_uri": "https://localhost:8080/",
          "height": 138
        }
      },
      "source": [
        "blog5k.head(3)"
      ],
      "execution_count": 59,
      "outputs": [
        {
          "output_type": "execute_result",
          "data": {
            "text/html": [
              "<div>\n",
              "<style scoped>\n",
              "    .dataframe tbody tr th:only-of-type {\n",
              "        vertical-align: middle;\n",
              "    }\n",
              "\n",
              "    .dataframe tbody tr th {\n",
              "        vertical-align: top;\n",
              "    }\n",
              "\n",
              "    .dataframe thead th {\n",
              "        text-align: right;\n",
              "    }\n",
              "</style>\n",
              "<table border=\"1\" class=\"dataframe\">\n",
              "  <thead>\n",
              "    <tr style=\"text-align: right;\">\n",
              "      <th></th>\n",
              "      <th>id</th>\n",
              "      <th>text</th>\n",
              "      <th>Label</th>\n",
              "    </tr>\n",
              "  </thead>\n",
              "  <tbody>\n",
              "    <tr>\n",
              "      <th>0</th>\n",
              "      <td>2059027</td>\n",
              "      <td>info has been found (+/- 100 pages, and 4.5 mb...</td>\n",
              "      <td>male,15,Student,Leo</td>\n",
              "    </tr>\n",
              "    <tr>\n",
              "      <th>1</th>\n",
              "      <td>2059027</td>\n",
              "      <td>these are the team members:   drewes van der l...</td>\n",
              "      <td>male,15,Student,Leo</td>\n",
              "    </tr>\n",
              "    <tr>\n",
              "      <th>2</th>\n",
              "      <td>2059027</td>\n",
              "      <td>in het kader van kernfusie op aarde:  maak je ...</td>\n",
              "      <td>male,15,Student,Leo</td>\n",
              "    </tr>\n",
              "  </tbody>\n",
              "</table>\n",
              "</div>"
            ],
            "text/plain": [
              "        id  ...                Label\n",
              "0  2059027  ...  male,15,Student,Leo\n",
              "1  2059027  ...  male,15,Student,Leo\n",
              "2  2059027  ...  male,15,Student,Leo\n",
              "\n",
              "[3 rows x 3 columns]"
            ]
          },
          "metadata": {
            "tags": []
          },
          "execution_count": 59
        }
      ]
    },
    {
      "cell_type": "code",
      "metadata": {
        "id": "Z5L__SAzJ3vk",
        "colab_type": "code",
        "colab": {}
      },
      "source": [
        "from sklearn.preprocessing import MultiLabelBinarizer"
      ],
      "execution_count": 0,
      "outputs": []
    },
    {
      "cell_type": "code",
      "metadata": {
        "id": "p-BxItWwJ3yq",
        "colab_type": "code",
        "colab": {}
      },
      "source": [
        "mlb = MultiLabelBinarizer(classes=sorted(Label_counts.keys()))\n",
        "ytrain = mlb.fit_transform(ytrain)\n",
        "ytest = mlb.fit_transform(ytest)"
      ],
      "execution_count": 0,
      "outputs": []
    },
    {
      "cell_type": "code",
      "metadata": {
        "id": "kuvVRUgkwc-h",
        "colab_type": "code",
        "outputId": "08217a4e-10f2-4591-8b7f-11d4a1cee802",
        "colab": {
          "base_uri": "https://localhost:8080/",
          "height": 138
        }
      },
      "source": [
        "ytest"
      ],
      "execution_count": 62,
      "outputs": [
        {
          "output_type": "execute_result",
          "data": {
            "text/plain": [
              "array([[0, 0, 0, ..., 0, 0, 0],\n",
              "       [0, 0, 0, ..., 0, 0, 0],\n",
              "       [0, 0, 0, ..., 0, 0, 0],\n",
              "       ...,\n",
              "       [0, 0, 0, ..., 0, 0, 0],\n",
              "       [0, 0, 0, ..., 0, 0, 0],\n",
              "       [0, 0, 0, ..., 0, 0, 0]])"
            ]
          },
          "metadata": {
            "tags": []
          },
          "execution_count": 62
        }
      ]
    },
    {
      "cell_type": "markdown",
      "metadata": {
        "id": "B-m8tnWp8OBR",
        "colab_type": "text"
      },
      "source": [
        "8. Choose a classifier - (5 points)\n",
        "\n",
        "In this task, we suggest using the One-vs-Rest approach, which is implemented in OneVsRestClassifier class. In this approach k classifiers (= number of tags) are trained. \n",
        "\n",
        "As a basic classifier, use LogisticRegression. It is one of the simplest methods, but often it performs good enough in text classification tasks. It might take some time because the number of classifiers to train is large.\n",
        "\n",
        "  a.\tUse a linear classifier of your choice, wrap it up in OneVsRestClassifier to train it on every label\n",
        "  b.\tAs One-vs-Rest approach might not have been discussed in the sessions, we are providing you the code for that"
      ]
    },
    {
      "cell_type": "code",
      "metadata": {
        "id": "4ObG81_SLicZ",
        "colab_type": "code",
        "colab": {}
      },
      "source": [
        "from sklearn.multiclass import OneVsRestClassifier\n",
        "from sklearn.linear_model import LogisticRegression, RidgeClassifier"
      ],
      "execution_count": 0,
      "outputs": []
    },
    {
      "cell_type": "code",
      "metadata": {
        "id": "b_csORjA77Wo",
        "colab_type": "code",
        "colab": {}
      },
      "source": [
        "def train_classifier(xtrain, ytrain):\n",
        "      \n",
        "    # Create and fit LogisticRegression wraped into OneVsRestClassifier.\n",
        "    \n",
        "    lr = LogisticRegression(C=4.0,penalty='l2') # use L2 to optimise\n",
        "    ovr = OneVsRestClassifier(lr)\n",
        "    ovr.fit(xtrain, ytrain)\n",
        "    return ovr"
      ],
      "execution_count": 0,
      "outputs": []
    },
    {
      "cell_type": "code",
      "metadata": {
        "id": "QWu18PdR77e1",
        "colab_type": "code",
        "colab": {}
      },
      "source": [
        "#Let’s run the classifier function against our training set\n",
        "classifier_tfidf = train_classifier(xtrain, ytrain)"
      ],
      "execution_count": 0,
      "outputs": []
    },
    {
      "cell_type": "code",
      "metadata": {
        "id": "KSyf70TJ77iA",
        "colab_type": "code",
        "colab": {}
      },
      "source": [
        "#Let’s use the model to predict first the output of using our training set. also get the score to be used for evaluation"
      ],
      "execution_count": 0,
      "outputs": []
    },
    {
      "cell_type": "code",
      "metadata": {
        "id": "gXELWNvb77n2",
        "colab_type": "code",
        "colab": {}
      },
      "source": [
        "#Let’s print a sample of 50 comments of our training set and compare what the model predicted vs the true labels"
      ],
      "execution_count": 0,
      "outputs": []
    },
    {
      "cell_type": "code",
      "metadata": {
        "id": "9RWWqIDn77k8",
        "colab_type": "code",
        "colab": {}
      },
      "source": [
        "ytrain_predicted_labels = classifier_tfidf.predict(xtrain)\n",
        "ytrain_predicted_scores = classifier_tfidf.decision_function(xtrain)"
      ],
      "execution_count": 0,
      "outputs": []
    },
    {
      "cell_type": "code",
      "metadata": {
        "id": "-lxMnPrYDmWs",
        "colab_type": "code",
        "outputId": "0a822282-0636-44ea-ecab-1383f7b8d6a9",
        "colab": {
          "base_uri": "https://localhost:8080/",
          "height": 1000
        }
      },
      "source": [
        "ytrain_pred_inversed = mlb.inverse_transform(ytrain_predicted_labels)\n",
        "ytrain_inversed = mlb.inverse_transform(ytrain)\n",
        "for i,text in enumerate(xtrain[15:20]):\n",
        "    print('Title:\\t{}\\nTrue labels:\\t{}\\nPredicted labels:\\t{}\\n\\n'.format(\n",
        "        text,\n",
        "        ','.join(ytrain_inversed[15:20][i]),\n",
        "        ','.join(ytrain_pred_inversed[15:20][i])\n",
        "    ))"
      ],
      "execution_count": 68,
      "outputs": [
        {
          "output_type": "stream",
          "text": [
            "Title:\t  (0, 122642)\t0.0435510789434668\n",
            "  (0, 122525)\t0.03594120180989939\n",
            "  (0, 122522)\t0.043845465143901655\n",
            "  (0, 121885)\t0.03198274940169885\n",
            "  (0, 121604)\t0.04093323091819327\n",
            "  (0, 121589)\t0.03284488250638238\n",
            "  (0, 121400)\t0.03993797128990311\n",
            "  (0, 121386)\t0.02639797333019803\n",
            "  (0, 120992)\t0.048026319701714004\n",
            "  (0, 120974)\t0.09605263940342801\n",
            "  (0, 120935)\t0.22320544776895643\n",
            "  (0, 120196)\t0.03993797128990311\n",
            "  (0, 120170)\t0.012574174259767004\n",
            "  (0, 118450)\t0.016167344457501676\n",
            "  (0, 117823)\t0.018358352754577794\n",
            "  (0, 117561)\t0.01714327929540326\n",
            "  (0, 117419)\t0.028217719264678105\n",
            "  (0, 117261)\t0.02359404880512485\n",
            "  (0, 117020)\t0.042110373212002006\n",
            "  (0, 116818)\t0.015299407839934175\n",
            "  (0, 114699)\t0.042110373212002006\n",
            "  (0, 113652)\t0.18163388670576192\n",
            "  (0, 113517)\t0.048026319701714004\n",
            "  (0, 113508)\t0.02112463048115737\n",
            "  (0, 113351)\t0.03501728442848127\n",
            "  :\t:\n",
            "  (0, 6197)\t0.02836964174813517\n",
            "  (0, 6112)\t0.04540847167644048\n",
            "  (0, 5667)\t0.03501728442848127\n",
            "  (0, 5427)\t0.08166830106582844\n",
            "  (0, 5141)\t0.04540847167644048\n",
            "  (0, 5103)\t0.016852757957836372\n",
            "  (0, 4857)\t0.030542043670234057\n",
            "  (0, 3689)\t0.013503213741928753\n",
            "  (0, 3575)\t0.04540847167644048\n",
            "  (0, 3248)\t0.048026319701714004\n",
            "  (0, 3223)\t0.027924195644960532\n",
            "  (0, 1670)\t0.04540847167644048\n",
            "  (0, 1653)\t0.033159891695507586\n",
            "  (0, 1545)\t0.04540847167644048\n",
            "  (0, 1535)\t0.05806573116445577\n",
            "  (0, 1358)\t0.03907583818521959\n",
            "  (0, 1158)\t0.03146596105165218\n",
            "  (0, 925)\t0.048026319701714004\n",
            "  (0, 885)\t0.02806928956337206\n",
            "  (0, 571)\t0.04540847167644048\n",
            "  (0, 570)\t0.05872980275285065\n",
            "  (0, 175)\t0.034209180154976766\n",
            "  (0, 116)\t0.049425523343326484\n",
            "  (0, 32)\t0.378993358908018\n",
            "  (0, 11)\t0.3612937075702062\n",
            "True labels:\t\n",
            "Predicted labels:\t\n",
            "\n",
            "\n",
            "Title:\t  (0, 123186)\t0.0704113287949217\n",
            "  (0, 122928)\t0.023073778408234807\n",
            "  (0, 122441)\t0.09235562645169289\n",
            "  (0, 121021)\t0.0704113287949217\n",
            "  (0, 121010)\t0.08030564544886024\n",
            "  (0, 120995)\t0.05834383136954825\n",
            "  (0, 120170)\t0.025283637283106557\n",
            "  (0, 118846)\t0.054523931719725784\n",
            "  (0, 118772)\t0.03678375144297877\n",
            "  (0, 118368)\t0.084673822722116\n",
            "  (0, 118144)\t0.02818054966824823\n",
            "  (0, 117561)\t0.03447100752650124\n",
            "  (0, 116449)\t0.09130550473766158\n",
            "  (0, 116399)\t0.05041283772732123\n",
            "  (0, 115594)\t0.026227209639478704\n",
            "  (0, 114709)\t0.09656936688605677\n",
            "  (0, 113238)\t0.06695582899404524\n",
            "  (0, 110850)\t0.09656936688605677\n",
            "  (0, 110848)\t0.09130550473766158\n",
            "  (0, 110496)\t0.07226910422166104\n",
            "  (0, 110302)\t0.05941146950612034\n",
            "  (0, 110024)\t0.08230687295886248\n",
            "  (0, 108763)\t0.052854184722499684\n",
            "  (0, 108149)\t0.03609068569751237\n",
            "  (0, 107737)\t0.03246202245341065\n",
            "  :\t:\n",
            "  (0, 24496)\t0.05004711547406995\n",
            "  (0, 22225)\t0.09656936688605677\n",
            "  (0, 18240)\t0.1066195002249258\n",
            "  (0, 18209)\t0.08230687295886248\n",
            "  (0, 18189)\t0.05241406523732347\n",
            "  (0, 17800)\t0.0329842321449746\n",
            "  (0, 17635)\t0.05402455163599004\n",
            "  (0, 17308)\t0.02423009500181945\n",
            "  (0, 15668)\t0.09130550473766158\n",
            "  (0, 13156)\t0.09130550473766158\n",
            "  (0, 11569)\t0.04917549414880821\n",
            "  (0, 10579)\t0.05800661029446673\n",
            "  (0, 10384)\t0.02675597291899988\n",
            "  (0, 10045)\t0.06957347154965945\n",
            "  (0, 9996)\t0.06430960940126425\n",
            "  (0, 9993)\t0.0533097501124629\n",
            "  (0, 9662)\t0.0874588185939902\n",
            "  (0, 9441)\t0.05941146950612034\n",
            "  (0, 9368)\t0.04278202581567252\n",
            "  (0, 6572)\t0.06878642564692009\n",
            "  (0, 5427)\t0.0547384307713635\n",
            "  (0, 3579)\t0.09130550473766158\n",
            "  (0, 3578)\t0.1571442066569171\n",
            "  (0, 1160)\t0.09130550473766158\n",
            "  (0, 1158)\t0.18981141732858578\n",
            "True labels:\t\n",
            "Predicted labels:\t\n",
            "\n",
            "\n",
            "Title:\t  (0, 123478)\t0.03172606940321128\n",
            "  (0, 123426)\t0.06503579062054818\n",
            "  (0, 123306)\t0.06416999436714581\n",
            "  (0, 123266)\t0.08359868615838072\n",
            "  (0, 122928)\t0.08305742474849201\n",
            "  (0, 119594)\t0.06123391226817504\n",
            "  (0, 119089)\t0.05220080976993692\n",
            "  (0, 118846)\t0.04906670762456076\n",
            "  (0, 118772)\t0.033102117188922184\n",
            "  (0, 118313)\t0.08216686442395683\n",
            "  (0, 118144)\t0.025359997851569147\n",
            "  (0, 118110)\t0.07619893818950095\n",
            "  (0, 117692)\t0.13866376714669115\n",
            "  (0, 117568)\t0.06597092181361576\n",
            "  (0, 117561)\t0.09306255773269699\n",
            "  (0, 116773)\t0.051060108996732266\n",
            "  (0, 116680)\t0.03339790268486978\n",
            "  (0, 116332)\t0.07880590266422702\n",
            "  (0, 116001)\t0.07226796567231634\n",
            "  (0, 115594)\t0.04720432979057495\n",
            "  (0, 113876)\t0.08690387396939755\n",
            "  (0, 113867)\t0.06597092181361576\n",
            "  (0, 113759)\t0.061901688475172016\n",
            "  (0, 113238)\t0.03012715684095047\n",
            "  (0, 113003)\t0.05079152468430253\n",
            "  :\t:\n",
            "  (0, 20302)\t0.04623288353548103\n",
            "  (0, 16448)\t0.053465058587249197\n",
            "  (0, 16063)\t0.08690387396939755\n",
            "  (0, 16042)\t0.056496902722734325\n",
            "  (0, 14244)\t0.08690387396939755\n",
            "  (0, 14223)\t0.03840767722020236\n",
            "  (0, 12867)\t0.052815841404080785\n",
            "  (0, 12014)\t0.06503579062054818\n",
            "  (0, 10551)\t0.07880590266422702\n",
            "  (0, 10384)\t0.024078004997432623\n",
            "  (0, 9662)\t0.02623506257276682\n",
            "  (0, 8989)\t0.08690387396939755\n",
            "  (0, 8717)\t0.08216686442395683\n",
            "  (0, 8713)\t0.10119972551879697\n",
            "  (0, 7154)\t0.035563950566952524\n",
            "  (0, 6800)\t0.08690387396939755\n",
            "  (0, 6548)\t0.05133501351653455\n",
            "  (0, 6432)\t0.08216686442395683\n",
            "  (0, 5427)\t0.06567965035468552\n",
            "  (0, 3933)\t0.04040963906393712\n",
            "  (0, 3689)\t0.024434135126296868\n",
            "  (0, 1773)\t0.08690387396939755\n",
            "  (0, 1535)\t0.026267560237791306\n",
            "  (0, 1443)\t0.08690387396939755\n",
            "  (0, 1440)\t0.07880590266422702\n",
            "True labels:\t\n",
            "Predicted labels:\t\n",
            "\n",
            "\n",
            "Title:\t  (0, 123462)\t0.042241826659370534\n",
            "  (0, 123186)\t0.039303543324243136\n",
            "  (0, 122928)\t0.012879763311432492\n",
            "  (0, 122752)\t0.029888031450244566\n",
            "  (0, 122047)\t0.028903918644252288\n",
            "  (0, 121234)\t0.05096665440941647\n",
            "  (0, 121224)\t0.045138505407276645\n",
            "  (0, 121147)\t0.044826542391687256\n",
            "  (0, 121134)\t0.03134223145052566\n",
            "  (0, 120609)\t0.05390493774454387\n",
            "  (0, 120492)\t0.02803761099674974\n",
            "  (0, 120331)\t0.045943625870826385\n",
            "  (0, 120170)\t0.04233991391834232\n",
            "  (0, 119594)\t0.0379823139971089\n",
            "  (0, 119161)\t0.05390493774454387\n",
            "  (0, 119152)\t0.018973811214512686\n",
            "  (0, 119139)\t0.05390493774454387\n",
            "  (0, 119089)\t0.0323792400998615\n",
            "  (0, 119018)\t0.05096665440941647\n",
            "  (0, 118935)\t0.023065796087305347\n",
            "  (0, 118846)\t0.030435211907389483\n",
            "  (0, 118772)\t0.020532658497017006\n",
            "  (0, 118608)\t0.0379823139971089\n",
            "  (0, 118588)\t0.03337349524251688\n",
            "  (0, 118450)\t0.05443888071513762\n",
            "  :\t:\n",
            "  (0, 7322)\t0.030435211907389483\n",
            "  (0, 6891)\t0.045943625870826385\n",
            "  (0, 6769)\t0.0388358521287736\n",
            "  (0, 6120)\t0.05096665440941647\n",
            "  (0, 5954)\t0.09776381841190757\n",
            "  (0, 5427)\t0.08147985358396044\n",
            "  (0, 5103)\t0.018915604489023848\n",
            "  (0, 4481)\t0.05390493774454387\n",
            "  (0, 4470)\t0.032959285458518804\n",
            "  (0, 4400)\t0.05390493774454387\n",
            "  (0, 4299)\t0.02316932211030263\n",
            "  (0, 3932)\t0.033812823590183505\n",
            "  (0, 3745)\t0.040340551973578984\n",
            "  (0, 3689)\t0.0303121247112325\n",
            "  (0, 2967)\t0.02210456159033247\n",
            "  (0, 2339)\t0.05390493774454387\n",
            "  (0, 2277)\t0.024799421483408066\n",
            "  (0, 2156)\t0.0388358521287736\n",
            "  (0, 2141)\t0.03428051478565304\n",
            "  (0, 1672)\t0.05390493774454387\n",
            "  (0, 1535)\t0.01629330356225329\n",
            "  (0, 1142)\t0.05096665440941647\n",
            "  (0, 1018)\t0.044826542391687256\n",
            "  (0, 269)\t0.05096665440941647\n",
            "  (0, 175)\t0.03839652378110697\n",
            "True labels:\t\n",
            "Predicted labels:\t\n",
            "\n",
            "\n",
            "Title:\t  (0, 123349)\t0.028399612904537\n",
            "  (0, 123230)\t0.03300205646478815\n",
            "  (0, 123115)\t0.03671513124837265\n",
            "  (0, 122996)\t0.018289062212224486\n",
            "  (0, 122961)\t0.034904661092442585\n",
            "  (0, 122928)\t0.05003962072642567\n",
            "  (0, 122486)\t0.02434069859955514\n",
            "  (0, 122441)\t0.016690809649193287\n",
            "  (0, 122218)\t0.042683759110550654\n",
            "  (0, 122096)\t0.02649700827688256\n",
            "  (0, 122047)\t0.01871593821891159\n",
            "  (0, 121950)\t0.01980040694634848\n",
            "  (0, 121885)\t0.023244484182929768\n",
            "  (0, 121680)\t0.017835650411649553\n",
            "  (0, 121664)\t0.012173795763677189\n",
            "  (0, 121386)\t0.019185569877947905\n",
            "  (0, 121265)\t0.034904661092442585\n",
            "  (0, 121231)\t0.025449929391741094\n",
            "  (0, 121224)\t0.04384229810987542\n",
            "  (0, 121081)\t0.03300205646478815\n",
            "  (0, 120928)\t0.034904661092442585\n",
            "  (0, 120905)\t0.031652136998489795\n",
            "  (0, 120904)\t0.0697334525487893\n",
            "  (0, 120649)\t0.04972522762418382\n",
            "  (0, 120646)\t0.015389516528725828\n",
            "  :\t:\n",
            "  (0, 5470)\t0.022691799021573686\n",
            "  (0, 5427)\t0.13849510517581204\n",
            "  (0, 5308)\t0.02649700827688256\n",
            "  (0, 5103)\t0.02449655974660285\n",
            "  (0, 4957)\t0.022691799021573686\n",
            "  (0, 4418)\t0.034904661092442585\n",
            "  (0, 4299)\t0.015002657823932028\n",
            "  (0, 3933)\t0.01623040138453832\n",
            "  (0, 3827)\t0.025449929391741094\n",
            "  (0, 3792)\t0.031652136998489795\n",
            "  (0, 3693)\t0.02690530049539546\n",
            "  (0, 3689)\t0.04906945839783092\n",
            "  (0, 2888)\t0.034904661092442585\n",
            "  (0, 2797)\t0.013975877746425381\n",
            "  (0, 2630)\t0.034904661092442585\n",
            "  (0, 2626)\t0.08924859711250606\n",
            "  (0, 2393)\t0.027846927743180913\n",
            "  (0, 2316)\t0.061210116226696656\n",
            "  (0, 2277)\t0.04817455163026956\n",
            "  (0, 1547)\t0.03300205646478815\n",
            "  (0, 1535)\t0.03165084291230644\n",
            "  (0, 1388)\t0.03300205646478815\n",
            "  (0, 1252)\t0.029026195662126057\n",
            "  (0, 885)\t0.04080050461497975\n",
            "  (0, 460)\t0.07836424753476477\n",
            "True labels:\t\n",
            "Predicted labels:\t\n",
            "\n",
            "\n"
          ],
          "name": "stdout"
        }
      ]
    },
    {
      "cell_type": "code",
      "metadata": {
        "id": "xgEIEgn4HTSb",
        "colab_type": "code",
        "colab": {}
      },
      "source": [
        "#Lets use now the test data to predict\n",
        "ytest_predicted_labels = classifier_tfidf.predict(xtest)\n",
        "ytest_predicted_scores = classifier_tfidf.decision_function(xtest)"
      ],
      "execution_count": 0,
      "outputs": []
    },
    {
      "cell_type": "code",
      "metadata": {
        "id": "EzqEyLvbJFAI",
        "colab_type": "code",
        "colab": {}
      },
      "source": [
        "################\n",
        "#### THE BELOW STEP ONWARDS GOOGLE COLAB is crashing, tried multiple options. pls advice what I should have done differently\n",
        "##################"
      ],
      "execution_count": 0,
      "outputs": []
    },
    {
      "cell_type": "code",
      "metadata": {
        "id": "tvyC5EDLCq7U",
        "colab_type": "code",
        "colab": {
          "base_uri": "https://localhost:8080/",
          "height": 235
        },
        "outputId": "cfe0ca91-6bbb-48e6-fbba-5c38e91fe3a8"
      },
      "source": [
        "ytest_pred_inversed = mlb.inverse_transform(ytest_predicted_labels)\n",
        "ytest_inversed = mlb.inverse_transform(ytest)\n",
        "for i,text in enumerate(xtest[10:14]):\n",
        "    print('Title:\\t{}\\nTrue labels:\\t{}\\nPredicted labels:\\t{}\\n\\n'.format(\n",
        "        text,\n",
        "        ','.join(y_val_inversed[10:14][i]),\n",
        "        ','.join(y_val_pred_inversed[10:14][i])\n",
        "    ))"
      ],
      "execution_count": 2,
      "outputs": [
        {
          "output_type": "error",
          "ename": "NameError",
          "evalue": "ignored",
          "traceback": [
            "\u001b[0;31m---------------------------------------------------------------------------\u001b[0m",
            "\u001b[0;31mNameError\u001b[0m                                 Traceback (most recent call last)",
            "\u001b[0;32m<ipython-input-2-858d0ea77ce8>\u001b[0m in \u001b[0;36m<module>\u001b[0;34m()\u001b[0m\n\u001b[0;32m----> 1\u001b[0;31m \u001b[0mytest_pred_inversed\u001b[0m \u001b[0;34m=\u001b[0m \u001b[0mmlb\u001b[0m\u001b[0;34m.\u001b[0m\u001b[0minverse_transform\u001b[0m\u001b[0;34m(\u001b[0m\u001b[0mytest_predicted_labels\u001b[0m\u001b[0;34m)\u001b[0m\u001b[0;34m\u001b[0m\u001b[0;34m\u001b[0m\u001b[0m\n\u001b[0m\u001b[1;32m      2\u001b[0m \u001b[0mytest_inversed\u001b[0m \u001b[0;34m=\u001b[0m \u001b[0mmlb\u001b[0m\u001b[0;34m.\u001b[0m\u001b[0minverse_transform\u001b[0m\u001b[0;34m(\u001b[0m\u001b[0mytest\u001b[0m\u001b[0;34m)\u001b[0m\u001b[0;34m\u001b[0m\u001b[0;34m\u001b[0m\u001b[0m\n\u001b[1;32m      3\u001b[0m \u001b[0;32mfor\u001b[0m \u001b[0mi\u001b[0m\u001b[0;34m,\u001b[0m\u001b[0mtext\u001b[0m \u001b[0;32min\u001b[0m \u001b[0menumerate\u001b[0m\u001b[0;34m(\u001b[0m\u001b[0mxtest\u001b[0m\u001b[0;34m[\u001b[0m\u001b[0;36m10\u001b[0m\u001b[0;34m:\u001b[0m\u001b[0;36m14\u001b[0m\u001b[0;34m]\u001b[0m\u001b[0;34m)\u001b[0m\u001b[0;34m:\u001b[0m\u001b[0;34m\u001b[0m\u001b[0;34m\u001b[0m\u001b[0m\n\u001b[1;32m      4\u001b[0m     print('Title:\\t{}\\nTrue labels:\\t{}\\nPredicted labels:\\t{}\\n\\n'.format(\n\u001b[1;32m      5\u001b[0m         \u001b[0mtext\u001b[0m\u001b[0;34m,\u001b[0m\u001b[0;34m\u001b[0m\u001b[0;34m\u001b[0m\u001b[0m\n",
            "\u001b[0;31mNameError\u001b[0m: name 'mlb' is not defined"
          ]
        }
      ]
    },
    {
      "cell_type": "markdown",
      "metadata": {
        "id": "a_r1qTXUGVFf",
        "colab_type": "text"
      },
      "source": [
        "9. Fit the classifier, make predictions and get the accuracy (5 points) a. Print the following i. Accuracy score ii. F1 score iii. Average precision score iv. Average recall score v. Tip: Make sure you are familiar with all of them. How would you expect the things to work for the multi-label scenario? Read about micro/macro/weighted averaging"
      ]
    },
    {
      "cell_type": "code",
      "metadata": {
        "id": "NhsH-qeTDmaK",
        "colab_type": "code",
        "colab": {}
      },
      "source": [
        "from sklearn.metrics import accuracy_score\n",
        "from sklearn.metrics import f1_score\n",
        "from sklearn.metrics import roc_auc_score \n",
        "from sklearn.metrics import average_precision_score\n",
        "from sklearn.metrics import recall_score"
      ],
      "execution_count": 0,
      "outputs": []
    },
    {
      "cell_type": "code",
      "metadata": {
        "id": "w6nIRE5EDmeL",
        "colab_type": "code",
        "colab": {}
      },
      "source": [
        "def print_evaluation_scores(ytest, predicted):\n",
        "    \n",
        "  print('Accuracy:',accuracy_score(ytest, predicted))\n",
        "  print('F1 Score:',f1_score(ytest, predicted, average='weighted'))\n",
        "  print('Precision:',average_precision_score(ytest, predicted,average='weighted'))\n",
        "  print('Recall:',recall_score(ytest, predicted,average='weighted'))"
      ],
      "execution_count": 0,
      "outputs": []
    },
    {
      "cell_type": "code",
      "metadata": {
        "id": "p0imqB3EGXmb",
        "colab_type": "code",
        "outputId": "202843f1-7f7c-4228-8ebc-a1ef40b7a3a6",
        "colab": {
          "base_uri": "https://localhost:8080/",
          "height": 166
        }
      },
      "source": [
        "print_evaluation_scores(ytest, ytest_predicted_labels)"
      ],
      "execution_count": 71,
      "outputs": [
        {
          "output_type": "error",
          "ename": "NameError",
          "evalue": "ignored",
          "traceback": [
            "\u001b[0;31m---------------------------------------------------------------------------\u001b[0m",
            "\u001b[0;31mNameError\u001b[0m                                 Traceback (most recent call last)",
            "\u001b[0;32m<ipython-input-71-d884530d82ad>\u001b[0m in \u001b[0;36m<module>\u001b[0;34m()\u001b[0m\n\u001b[0;32m----> 1\u001b[0;31m \u001b[0mprint_evaluation_scores\u001b[0m\u001b[0;34m(\u001b[0m\u001b[0mytest\u001b[0m\u001b[0;34m,\u001b[0m \u001b[0mytest_predicted_labels\u001b[0m\u001b[0;34m)\u001b[0m\u001b[0;34m\u001b[0m\u001b[0;34m\u001b[0m\u001b[0m\n\u001b[0m",
            "\u001b[0;31mNameError\u001b[0m: name 'ytest_predicted_labels' is not defined"
          ]
        }
      ]
    },
    {
      "cell_type": "markdown",
      "metadata": {
        "id": "xC6tY6sIDSEx",
        "colab_type": "text"
      },
      "source": [
        "10.\t Print true label and predicted label for any five examples (7.5 points)"
      ]
    },
    {
      "cell_type": "code",
      "metadata": {
        "id": "LGdsL13IIs8N",
        "colab_type": "code",
        "colab": {}
      },
      "source": [
        "same as results of\n",
        "=====================\n",
        "ytest_pred_inversed = mlb.inverse_transform(ytest_predicted_labels)\n",
        "ytest_inversed = mlb.inverse_transform(ytest)\n",
        "for i,text in enumerate(xtest[10:14]):\n",
        "    print('Title:\\t{}\\nTrue labels:\\t{}\\nPredicted labels:\\t{}\\n\\n'.format(\n",
        "        text,\n",
        "        ','.join(y_val_inversed[10:14][i]),\n",
        "        ','.join(y_val_pred_inversed[10:14][i])\n",
        "    ))"
      ],
      "execution_count": 0,
      "outputs": []
    }
  ]
}