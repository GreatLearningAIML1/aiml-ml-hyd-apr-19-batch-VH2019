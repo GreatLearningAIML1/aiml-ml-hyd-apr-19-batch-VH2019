{
 "cells": [
  {
   "cell_type": "markdown",
   "metadata": {},
   "source": [
    "Make new Product Recommendations\n",
    "\n",
    "Problem Statement -\n",
    "Build your own recommendation system for products on an e-commerce website like Amazon.com.\n",
    "\n",
    "Dataset - ​ Amazon Reviews data (http://jmcauley.ucsd.edu/data/amazon/) ratings_Electronics_Ver3.tar.xzView in a new window (you may use winrar application to extract the .csv file)\n",
    "\n",
    "Dataset columns - first three columns are userId, productId, and ratings and the fourth column is timestamp. You can discard the timestamp column as in this case you may not need to use it.\n",
    "\n",
    "\n",
    "o The repository has several datasets. For this case study, please use the Electronics dataset.\n",
    "o The host page has several pointers to scripts and other examples that can help with parsing the datasets.\n",
    "o The data set consists of:\n",
    "● 7,824,482 Ratings (1-5) for Electronics products.\n",
    "● Other metadata about products. Please see the description of the fields available on the web page cited above.\n",
    "\n",
    "\n",
    "o For convenience of future use, parse the raw data file (using Python, for example) and extract the following fields: 'product/productId' as prod_id, 'product/title' as prod_name, 'review/userId' as user id, 'review/score' as rating\n",
    "o Save these to a tab separated file. Name this file as product_ratings.csv.\n",
    "\n",
    "Steps -\n",
    "1. Read and explore the dataset. (Rename column, plot histograms, find data characteristics)\n",
    "\n",
    "2. Take subset of dataset to make it less sparse/more dense. (For example, keep the users only who has given 50 or more number of ratings )\n",
    "3. Split the data randomly into train and test dataset. (For example split it in 70/30 ratio)\n",
    "4. Build Popularity Recommender model.\n",
    "5. Build Collaborative Filtering model.\n",
    "6. Evaluate both the models. (Once the model is trained on the training data, it can be used to compute the error (RMSE) on predictions made on the test data.)\n",
    "7. Get top - K (K = 5) recommendations. Since our goal is to recommend new products to each user based on his/her habits,we will recommend 5 new products.\n",
    "8. Summarise your insights.\n",
    "\n",
    "Mark Distributions -\n",
    "Step - 1,2,3,8 - 5 marks each\n",
    "Step - 4,5,6,7 - 10 marks each"
   ]
  },
  {
   "cell_type": "markdown",
   "metadata": {},
   "source": [
    "## 1. Read and explore the dataset. (Rename column, plot histograms, find data characteristics)"
   ]
  },
  {
   "cell_type": "code",
   "execution_count": 296,
   "metadata": {},
   "outputs": [],
   "source": [
    "#Import library\n",
    "import pandas as pd\n",
    "import numpy as np\n",
    "from scipy.sparse.linalg import svds\n",
    "from sklearn import model_selection\n",
    "from sklearn.model_selection import train_test_split, GridSearchCV\n",
    "from sklearn.metrics.pairwise import cosine_similarity\n",
    "\n",
    "\n",
    "import math, random, warnings\n",
    "from time import time\n",
    "from datetime import datetime\n",
    "from collections import defaultdict\n",
    "\n",
    "#Visualization\n",
    "import matplotlib.pyplot as plt\n",
    "import seaborn as sns\n",
    "\n",
    "# scikit-surprise recommender package\n",
    "from surprise import SVD, KNNWithMeans\n",
    "from surprise import Dataset, Reader, accuracy\n",
    "from surprise.model_selection import train_test_split, GridSearchCV\n",
    "from surprise.prediction_algorithms.baseline_only import BaselineOnly\n",
    "\n",
    "\n",
    "from IPython.core.interactiveshell import InteractiveShell\n",
    "InteractiveShell.ast_node_interactivity = \"all\"\n"
   ]
  },
  {
   "cell_type": "code",
   "execution_count": 284,
   "metadata": {},
   "outputs": [],
   "source": [
    "#read file and rename columns\n",
    "r_df=pd.read_csv('ratings_Electronics.csv',sep=\",\" ,names= ['user_id','prod_id','rating','timestamp'])"
   ]
  },
  {
   "cell_type": "code",
   "execution_count": 285,
   "metadata": {},
   "outputs": [
    {
     "data": {
      "text/html": [
       "<div>\n",
       "<style scoped>\n",
       "    .dataframe tbody tr th:only-of-type {\n",
       "        vertical-align: middle;\n",
       "    }\n",
       "\n",
       "    .dataframe tbody tr th {\n",
       "        vertical-align: top;\n",
       "    }\n",
       "\n",
       "    .dataframe thead th {\n",
       "        text-align: right;\n",
       "    }\n",
       "</style>\n",
       "<table border=\"1\" class=\"dataframe\">\n",
       "  <thead>\n",
       "    <tr style=\"text-align: right;\">\n",
       "      <th></th>\n",
       "      <th>user_id</th>\n",
       "      <th>prod_id</th>\n",
       "      <th>rating</th>\n",
       "      <th>timestamp</th>\n",
       "    </tr>\n",
       "  </thead>\n",
       "  <tbody>\n",
       "    <tr>\n",
       "      <th>0</th>\n",
       "      <td>AKM1MP6P0OYPR</td>\n",
       "      <td>0132793040</td>\n",
       "      <td>5.0</td>\n",
       "      <td>1365811200</td>\n",
       "    </tr>\n",
       "    <tr>\n",
       "      <th>1</th>\n",
       "      <td>A2CX7LUOHB2NDG</td>\n",
       "      <td>0321732944</td>\n",
       "      <td>5.0</td>\n",
       "      <td>1341100800</td>\n",
       "    </tr>\n",
       "    <tr>\n",
       "      <th>2</th>\n",
       "      <td>A2NWSAGRHCP8N5</td>\n",
       "      <td>0439886341</td>\n",
       "      <td>1.0</td>\n",
       "      <td>1367193600</td>\n",
       "    </tr>\n",
       "    <tr>\n",
       "      <th>3</th>\n",
       "      <td>A2WNBOD3WNDNKT</td>\n",
       "      <td>0439886341</td>\n",
       "      <td>3.0</td>\n",
       "      <td>1374451200</td>\n",
       "    </tr>\n",
       "    <tr>\n",
       "      <th>4</th>\n",
       "      <td>A1GI0U4ZRJA8WN</td>\n",
       "      <td>0439886341</td>\n",
       "      <td>1.0</td>\n",
       "      <td>1334707200</td>\n",
       "    </tr>\n",
       "  </tbody>\n",
       "</table>\n",
       "</div>"
      ],
      "text/plain": [
       "          user_id     prod_id  rating   timestamp\n",
       "0   AKM1MP6P0OYPR  0132793040     5.0  1365811200\n",
       "1  A2CX7LUOHB2NDG  0321732944     5.0  1341100800\n",
       "2  A2NWSAGRHCP8N5  0439886341     1.0  1367193600\n",
       "3  A2WNBOD3WNDNKT  0439886341     3.0  1374451200\n",
       "4  A1GI0U4ZRJA8WN  0439886341     1.0  1334707200"
      ]
     },
     "execution_count": 285,
     "metadata": {},
     "output_type": "execute_result"
    }
   ],
   "source": [
    "r_df.head()"
   ]
  },
  {
   "cell_type": "code",
   "execution_count": 286,
   "metadata": {},
   "outputs": [
    {
     "name": "stdout",
     "output_type": "stream",
     "text": [
      "<class 'pandas.core.frame.DataFrame'>\n",
      "RangeIndex: 7824482 entries, 0 to 7824481\n",
      "Data columns (total 4 columns):\n",
      "user_id      object\n",
      "prod_id      object\n",
      "rating       float64\n",
      "timestamp    int64\n",
      "dtypes: float64(1), int64(1), object(2)\n",
      "memory usage: 238.8+ MB\n"
     ]
    }
   ],
   "source": [
    "#data characteristics\n",
    "r_df.info()"
   ]
  },
  {
   "cell_type": "code",
   "execution_count": 287,
   "metadata": {},
   "outputs": [
    {
     "data": {
      "text/plain": [
       "(7824482, 4)"
      ]
     },
     "execution_count": 287,
     "metadata": {},
     "output_type": "execute_result"
    }
   ],
   "source": [
    "r_df.shape"
   ]
  },
  {
   "cell_type": "code",
   "execution_count": 288,
   "metadata": {},
   "outputs": [
    {
     "data": {
      "text/plain": [
       "user_id       object\n",
       "prod_id       object\n",
       "rating       float64\n",
       "timestamp      int64\n",
       "dtype: object"
      ]
     },
     "execution_count": 288,
     "metadata": {},
     "output_type": "execute_result"
    }
   ],
   "source": [
    "r_df.dtypes"
   ]
  },
  {
   "cell_type": "code",
   "execution_count": 289,
   "metadata": {},
   "outputs": [
    {
     "data": {
      "text/plain": [
       "0          5.0\n",
       "1          5.0\n",
       "2          1.0\n",
       "3          3.0\n",
       "4          1.0\n",
       "5          5.0\n",
       "6          2.0\n",
       "7          5.0\n",
       "8          5.0\n",
       "9          5.0\n",
       "10         5.0\n",
       "11         5.0\n",
       "12         1.0\n",
       "13         5.0\n",
       "14         1.0\n",
       "15         4.0\n",
       "16         3.0\n",
       "17         2.0\n",
       "18         2.0\n",
       "19         4.0\n",
       "20         5.0\n",
       "21         4.0\n",
       "22         5.0\n",
       "23         1.0\n",
       "24         4.0\n",
       "25         1.0\n",
       "26         4.0\n",
       "27         2.0\n",
       "28         1.0\n",
       "29         5.0\n",
       "          ... \n",
       "7824452    5.0\n",
       "7824453    5.0\n",
       "7824454    5.0\n",
       "7824455    5.0\n",
       "7824456    5.0\n",
       "7824457    5.0\n",
       "7824458    1.0\n",
       "7824459    4.0\n",
       "7824460    5.0\n",
       "7824461    5.0\n",
       "7824462    5.0\n",
       "7824463    5.0\n",
       "7824464    1.0\n",
       "7824465    5.0\n",
       "7824466    4.0\n",
       "7824467    3.0\n",
       "7824468    5.0\n",
       "7824469    4.0\n",
       "7824470    2.0\n",
       "7824471    5.0\n",
       "7824472    5.0\n",
       "7824473    1.0\n",
       "7824474    5.0\n",
       "7824475    3.0\n",
       "7824476    5.0\n",
       "7824477    5.0\n",
       "7824478    5.0\n",
       "7824479    4.0\n",
       "7824480    4.0\n",
       "7824481    5.0\n",
       "Name: rating, Length: 7824482, dtype: float32"
      ]
     },
     "execution_count": 289,
     "metadata": {},
     "output_type": "execute_result"
    }
   ],
   "source": [
    "r_df['rating'].astype(np.float32,inplace=True)"
   ]
  },
  {
   "cell_type": "code",
   "execution_count": 290,
   "metadata": {},
   "outputs": [
    {
     "data": {
      "text/plain": [
       "user_id       object\n",
       "prod_id       object\n",
       "rating       float64\n",
       "timestamp      int64\n",
       "dtype: object"
      ]
     },
     "execution_count": 290,
     "metadata": {},
     "output_type": "execute_result"
    }
   ],
   "source": [
    "r_df.dtypes"
   ]
  },
  {
   "cell_type": "code",
   "execution_count": 291,
   "metadata": {},
   "outputs": [
    {
     "data": {
      "text/plain": [
       "False"
      ]
     },
     "execution_count": 291,
     "metadata": {},
     "output_type": "execute_result"
    },
    {
     "data": {
      "text/plain": [
       "0"
      ]
     },
     "execution_count": 291,
     "metadata": {},
     "output_type": "execute_result"
    },
    {
     "data": {
      "text/plain": [
       "False"
      ]
     },
     "execution_count": 291,
     "metadata": {},
     "output_type": "execute_result"
    },
    {
     "data": {
      "text/plain": [
       "0"
      ]
     },
     "execution_count": 291,
     "metadata": {},
     "output_type": "execute_result"
    }
   ],
   "source": [
    "# Null Values = None found\n",
    "#r_df.isnull().sum() - alternate way\n",
    "r_df.isnull().values.any()\n",
    "r_df.isnull().sum().sum()\n",
    "r_df.isna().values.any()\n",
    "r_df.isna().sum().sum()"
   ]
  },
  {
   "cell_type": "code",
   "execution_count": 292,
   "metadata": {},
   "outputs": [
    {
     "name": "stderr",
     "output_type": "stream",
     "text": [
      "C:\\Anaconda\\lib\\site-packages\\pandas\\core\\ops.py:1649: FutureWarning: elementwise comparison failed; returning scalar instead, but in the future will perform elementwise comparison\n",
      "  result = method(y)\n"
     ]
    },
    {
     "data": {
      "text/plain": [
       "user_id      0.0\n",
       "prod_id      0.0\n",
       "rating       0.0\n",
       "timestamp    0.0\n",
       "dtype: float64"
      ]
     },
     "execution_count": 292,
     "metadata": {},
     "output_type": "execute_result"
    }
   ],
   "source": [
    "r_df[r_df=='?'].sum()"
   ]
  },
  {
   "cell_type": "code",
   "execution_count": 293,
   "metadata": {},
   "outputs": [
    {
     "name": "stdout",
     "output_type": "stream",
     "text": [
      "Count of unique Users    : 4201696\n",
      "Count of unique Products : 476002\n"
     ]
    },
    {
     "data": {
      "text/plain": [
       "476002"
      ]
     },
     "execution_count": 293,
     "metadata": {},
     "output_type": "execute_result"
    },
    {
     "data": {
      "text/plain": [
       "4201696"
      ]
     },
     "execution_count": 293,
     "metadata": {},
     "output_type": "execute_result"
    },
    {
     "data": {
      "text/plain": [
       "5"
      ]
     },
     "execution_count": 293,
     "metadata": {},
     "output_type": "execute_result"
    }
   ],
   "source": [
    "# Check the count of unique user and product data\n",
    "unique_original = (r_df.user_id.nunique(), r_df.prod_id.nunique())\n",
    "print('Count of unique Users    :', unique_original[0])\n",
    "print('Count of unique Products :', unique_original[1])\n",
    "#ALternate\n",
    "len(r_df.prod_id.unique())\n",
    "len(r_df.user_id.unique())\n",
    "len(r_df.rating.unique())"
   ]
  },
  {
   "cell_type": "markdown",
   "metadata": {},
   "source": [
    "### Observations\n",
    "\n",
    "The dataset consist of 7824482 rows and 4 columns\n",
    "There are NO nullvalues or ? value in the dataset\n",
    "Unique "
   ]
  },
  {
   "cell_type": "code",
   "execution_count": 294,
   "metadata": {},
   "outputs": [],
   "source": [
    "#Check Duplicates\n",
    "r_df.drop_duplicates(subset=['user_id','prod_id','rating'],inplace=True)"
   ]
  },
  {
   "cell_type": "code",
   "execution_count": 295,
   "metadata": {},
   "outputs": [
    {
     "data": {
      "text/plain": [
       "(7824482, 4)"
      ]
     },
     "execution_count": 295,
     "metadata": {},
     "output_type": "execute_result"
    }
   ],
   "source": [
    "r_df.shape"
   ]
  },
  {
   "cell_type": "markdown",
   "metadata": {},
   "source": [
    "### No duplicates found"
   ]
  },
  {
   "cell_type": "code",
   "execution_count": 158,
   "metadata": {},
   "outputs": [],
   "source": [
    "r_df['timestamp'] = r_df.timestamp.apply(lambda ts: datetime.utcfromtimestamp(ts).strftime('%Y-%m-%d %H:%M:%S'))"
   ]
  },
  {
   "cell_type": "code",
   "execution_count": 159,
   "metadata": {},
   "outputs": [
    {
     "name": "stdout",
     "output_type": "stream",
     "text": [
      "<class 'pandas.core.frame.DataFrame'>\n",
      "Int64Index: 7824482 entries, 0 to 7824481\n",
      "Data columns (total 4 columns):\n",
      "user_id      object\n",
      "prod_id      object\n",
      "rating       float64\n",
      "timestamp    object\n",
      "dtypes: float64(1), object(3)\n",
      "memory usage: 298.5+ MB\n"
     ]
    }
   ],
   "source": [
    "r_df.info()"
   ]
  },
  {
   "cell_type": "code",
   "execution_count": 160,
   "metadata": {},
   "outputs": [
    {
     "data": {
      "text/html": [
       "<div>\n",
       "<style scoped>\n",
       "    .dataframe tbody tr th:only-of-type {\n",
       "        vertical-align: middle;\n",
       "    }\n",
       "\n",
       "    .dataframe tbody tr th {\n",
       "        vertical-align: top;\n",
       "    }\n",
       "\n",
       "    .dataframe thead th {\n",
       "        text-align: right;\n",
       "    }\n",
       "</style>\n",
       "<table border=\"1\" class=\"dataframe\">\n",
       "  <thead>\n",
       "    <tr style=\"text-align: right;\">\n",
       "      <th></th>\n",
       "      <th>user_id</th>\n",
       "      <th>prod_id</th>\n",
       "      <th>rating</th>\n",
       "      <th>timestamp</th>\n",
       "    </tr>\n",
       "  </thead>\n",
       "  <tbody>\n",
       "    <tr>\n",
       "      <th>0</th>\n",
       "      <td>AKM1MP6P0OYPR</td>\n",
       "      <td>0132793040</td>\n",
       "      <td>5.0</td>\n",
       "      <td>2013-04-13</td>\n",
       "    </tr>\n",
       "    <tr>\n",
       "      <th>1</th>\n",
       "      <td>A2CX7LUOHB2NDG</td>\n",
       "      <td>0321732944</td>\n",
       "      <td>5.0</td>\n",
       "      <td>2012-07-01</td>\n",
       "    </tr>\n",
       "    <tr>\n",
       "      <th>2</th>\n",
       "      <td>A2NWSAGRHCP8N5</td>\n",
       "      <td>0439886341</td>\n",
       "      <td>1.0</td>\n",
       "      <td>2013-04-29</td>\n",
       "    </tr>\n",
       "    <tr>\n",
       "      <th>3</th>\n",
       "      <td>A2WNBOD3WNDNKT</td>\n",
       "      <td>0439886341</td>\n",
       "      <td>3.0</td>\n",
       "      <td>2013-07-22</td>\n",
       "    </tr>\n",
       "    <tr>\n",
       "      <th>4</th>\n",
       "      <td>A1GI0U4ZRJA8WN</td>\n",
       "      <td>0439886341</td>\n",
       "      <td>1.0</td>\n",
       "      <td>2012-04-18</td>\n",
       "    </tr>\n",
       "  </tbody>\n",
       "</table>\n",
       "</div>"
      ],
      "text/plain": [
       "          user_id     prod_id  rating  timestamp\n",
       "0   AKM1MP6P0OYPR  0132793040     5.0 2013-04-13\n",
       "1  A2CX7LUOHB2NDG  0321732944     5.0 2012-07-01\n",
       "2  A2NWSAGRHCP8N5  0439886341     1.0 2013-04-29\n",
       "3  A2WNBOD3WNDNKT  0439886341     3.0 2013-07-22\n",
       "4  A1GI0U4ZRJA8WN  0439886341     1.0 2012-04-18"
      ]
     },
     "execution_count": 160,
     "metadata": {},
     "output_type": "execute_result"
    },
    {
     "name": "stdout",
     "output_type": "stream",
     "text": [
      "<class 'pandas.core.frame.DataFrame'>\n",
      "Int64Index: 7824482 entries, 0 to 7824481\n",
      "Data columns (total 4 columns):\n",
      "user_id      object\n",
      "prod_id      object\n",
      "rating       float64\n",
      "timestamp    datetime64[ns]\n",
      "dtypes: datetime64[ns](1), float64(1), object(2)\n",
      "memory usage: 298.5+ MB\n"
     ]
    }
   ],
   "source": [
    "# Convert the datatype to datetime\n",
    "r_df['timestamp'] = pd.to_datetime(r_df['timestamp'])\n",
    "r_df.head()\n",
    "r_df.info()"
   ]
  },
  {
   "cell_type": "code",
   "execution_count": 161,
   "metadata": {},
   "outputs": [
    {
     "data": {
      "text/plain": [
       "Timestamp('1998-12-04 00:00:00')"
      ]
     },
     "execution_count": 161,
     "metadata": {},
     "output_type": "execute_result"
    },
    {
     "data": {
      "text/plain": [
       "Timestamp('2014-07-23 00:00:00')"
      ]
     },
     "execution_count": 161,
     "metadata": {},
     "output_type": "execute_result"
    }
   ],
   "source": [
    "#date range\n",
    "r_df.timestamp.min()\n",
    "r_df.timestamp.max()"
   ]
  },
  {
   "cell_type": "code",
   "execution_count": 162,
   "metadata": {},
   "outputs": [
    {
     "data": {
      "text/plain": [
       "Timedelta('5710 days 00:00:00')"
      ]
     },
     "execution_count": 162,
     "metadata": {},
     "output_type": "execute_result"
    }
   ],
   "source": [
    "#day range \n",
    "r_df.timestamp.max()-r_df.timestamp.min()"
   ]
  },
  {
   "cell_type": "code",
   "execution_count": 163,
   "metadata": {},
   "outputs": [
    {
     "data": {
      "text/plain": [
       "timestamp\n",
       "1998          4\n",
       "1999       1212\n",
       "2000       9214\n",
       "2001      14753\n",
       "2002      18648\n",
       "2003      23117\n",
       "2004      31245\n",
       "2005      56311\n",
       "2006      86659\n",
       "2007     193430\n",
       "2008     238521\n",
       "2009     325380\n",
       "2010     475626\n",
       "2011     783503\n",
       "2012    1231673\n",
       "2013    2626582\n",
       "2014    1708604\n",
       "Name: rating, dtype: int64"
      ]
     },
     "execution_count": 163,
     "metadata": {},
     "output_type": "execute_result"
    }
   ],
   "source": [
    "#Visualization\n",
    "#r_df.hist(column=[ 'rating','timestamp']).groupby(r_df['timestamp'].dt.year).count()\n",
    "r_df_y=r_df['rating'].groupby(r_df['timestamp'].dt.year).count()\n",
    "r_df_y"
   ]
  },
  {
   "cell_type": "code",
   "execution_count": 164,
   "metadata": {},
   "outputs": [
    {
     "data": {
      "text/plain": [
       "<matplotlib.axes._subplots.AxesSubplot at 0x21f4be9beb8>"
      ]
     },
     "execution_count": 164,
     "metadata": {},
     "output_type": "execute_result"
    },
    {
     "data": {
      "image/png": "[encoded data removed]",
      "text/plain": [
       "<Figure size 432x288 with 1 Axes>"
      ]
     },
     "metadata": {
      "needs_background": "light"
     },
     "output_type": "display_data"
    }
   ],
   "source": [
    "r_df_y.plot(kind='bar', color='brown')\n",
    "xlabel='year'\n"
   ]
  },
  {
   "cell_type": "code",
   "execution_count": 165,
   "metadata": {},
   "outputs": [
    {
     "data": {
      "text/plain": [
       "user_id\n",
       "A00000262KYZUE4J55XGL     1\n",
       "A000063614T1OE0BUSKUT     2\n",
       "A00009182QVLSWIGHLS1B     1\n",
       "A00009661LC9LQPGKJ24G     1\n",
       "A00010809P09NUU6ZP6H      1\n",
       "A00014061C2IZNE0YEILY     1\n",
       "A000145014WOTZJ5NSKOR     1\n",
       "A00015222LZ55IJSVL5IX     1\n",
       "A00015228CUPGPF957DS      1\n",
       "A0001528BGUBOEVR6T5U      4\n",
       "A00018041RRVMCICCAP79     2\n",
       "A000186437REL8X2RW8UW     1\n",
       "A000187635I595IAVSQLH     2\n",
       "A00019466UY2KR1IPXQN      1\n",
       "A0002012T7HVDB2EF4RH      1\n",
       "A0002032ZFQKDVHYKGWR      1\n",
       "A0002550196XWX0PEOZND     1\n",
       "A00027081JC8NE8X6TD5      1\n",
       "A00027561NC7JTXEP3EOD     1\n",
       "A00028781NF0U7YEN9U19     1\n",
       "A00029263J863WSR0TDRS     1\n",
       "A000294826HEMAY5L3K1H     1\n",
       "A00029825UMZ6N0ETLHY      1\n",
       "A00033481VZEEGYXEN32T     3\n",
       "A00037441I8XOQJSUWCAG     3\n",
       "A00038802J7X43YTW44TD     2\n",
       "A000428226SAAAIBK8I36     1\n",
       "A0004478EF5NFPHLGCWG      1\n",
       "A00045341JXVKNK93M6JE     1\n",
       "A00059641RDIAMDC7IJRZ     1\n",
       "                         ..\n",
       "AZZYJH0XNZ896             1\n",
       "AZZYK2BT6EU8V             2\n",
       "AZZYKX2KZ0Q82             1\n",
       "AZZYMQZHES0KT             1\n",
       "AZZYO4XQYE89O             1\n",
       "AZZYQ6753ZHTK             1\n",
       "AZZYTPFG6JF1K             1\n",
       "AZZYUA6JI1MO0             2\n",
       "AZZYVKZGCY2MQ             1\n",
       "AZZYW4YOE1B6E            35\n",
       "AZZYW8JCAHAQY             1\n",
       "AZZYWDOD33FFE             1\n",
       "AZZYXVW7BAJVD             1\n",
       "AZZYYC8OX8ELM             2\n",
       "AZZYYPNQ2ZYH6             1\n",
       "AZZZ3LGTCGUZF             1\n",
       "AZZZ9NB3TEH8F             1\n",
       "AZZZBEVIZYROM             1\n",
       "AZZZBHHLU1CMM             1\n",
       "AZZZBMD2MDOQR             1\n",
       "AZZZDSAJ757Z4             1\n",
       "AZZZEWADNFNUM             2\n",
       "AZZZJXM9GW3C5             1\n",
       "AZZZM2FO19RUO             1\n",
       "AZZZMSZI9LKE6             1\n",
       "AZZZOVIBXHGDR             3\n",
       "AZZZRS1YZ8HVP             2\n",
       "AZZZSIK7NFFVP             1\n",
       "AZZZWXXUPZ1F3             1\n",
       "AZZZY1W55XHZR             1\n",
       "Name: rating, Length: 4201696, dtype: int64"
      ]
     },
     "execution_count": 165,
     "metadata": {},
     "output_type": "execute_result"
    }
   ],
   "source": [
    "r_df_y=r_df['rating'].groupby(r_df['user_id']).count()\n",
    "r_df_y"
   ]
  },
  {
   "cell_type": "markdown",
   "metadata": {},
   "source": [
    "### Observation\n",
    "data is collected for 5710 days,i.e, between 1998 to 2014\n",
    "ratings are increasing every year except for 2014\n",
    "timestamp consist of only YYYY-DD-MM format, no HH:MM:SS data is provided"
   ]
  },
  {
   "cell_type": "code",
   "execution_count": 166,
   "metadata": {},
   "outputs": [
    {
     "name": "stdout",
     "output_type": "stream",
     "text": [
      "<class 'pandas.core.frame.DataFrame'>\n",
      "Int64Index: 7824482 entries, 0 to 7824481\n",
      "Data columns (total 3 columns):\n",
      "user_id    object\n",
      "prod_id    object\n",
      "rating     float64\n",
      "dtypes: float64(1), object(2)\n",
      "memory usage: 238.8+ MB\n"
     ]
    }
   ],
   "source": [
    "#Drop timestamp\n",
    "r_df.drop(labels='timestamp', axis=1, inplace=True)\n",
    "r_df.info()"
   ]
  },
  {
   "cell_type": "code",
   "execution_count": 167,
   "metadata": {},
   "outputs": [
    {
     "data": {
      "text/plain": [
       "Index(['user_id', 'prod_id', 'rating'], dtype='object')"
      ]
     },
     "execution_count": 167,
     "metadata": {},
     "output_type": "execute_result"
    }
   ],
   "source": [
    "r_df.columns"
   ]
  },
  {
   "cell_type": "code",
   "execution_count": 168,
   "metadata": {},
   "outputs": [
    {
     "data": {
      "image/png": "[encoded data removed]",
      "text/plain": [
       "<Figure size 576x288 with 1 Axes>"
      ]
     },
     "metadata": {
      "needs_background": "light"
     },
     "output_type": "display_data"
    }
   ],
   "source": [
    "histogram_player = r_df.hist(column=[ 'prod_id', 'rating'],figsize=(8,4), bins=10, color='grey')"
   ]
  },
  {
   "cell_type": "code",
   "execution_count": 169,
   "metadata": {},
   "outputs": [
    {
     "data": {
      "text/plain": [
       "rating\n",
       "1.0    176283\n",
       "2.0    123419\n",
       "3.0    152827\n",
       "4.0    223845\n",
       "5.0    358458\n",
       "Name: prod_id, dtype: int64"
      ]
     },
     "execution_count": 169,
     "metadata": {},
     "output_type": "execute_result"
    }
   ],
   "source": [
    "# count of users n product by ratings\n",
    "r_df.groupby(['rating'])['prod_id'].nunique()"
   ]
  },
  {
   "cell_type": "markdown",
   "metadata": {},
   "source": [
    "### Observation\n",
    "    4347541 users have given 5 rating, which denotes that more than 55% of users are happy with products\n",
    "    users also have rated products @ 4, which indicates close to 75% of users ( rating 4& 5) are happy with products  "
   ]
  },
  {
   "cell_type": "markdown",
   "metadata": {},
   "source": [
    "\n",
    "## 2. Take subset of dataset to make it less sparse/more dense. (For example, keep the users only who has given 50 or more number of ratings)\n",
    "\n"
   ]
  },
  {
   "cell_type": "code",
   "execution_count": 170,
   "metadata": {},
   "outputs": [],
   "source": [
    "# calculate sparsity\n",
    "from numpy import array\n",
    "from numpy import count_nonzero"
   ]
  },
  {
   "cell_type": "code",
   "execution_count": 171,
   "metadata": {},
   "outputs": [
    {
     "data": {
      "text/plain": [
       "23473446"
      ]
     },
     "execution_count": 171,
     "metadata": {},
     "output_type": "execute_result"
    }
   ],
   "source": [
    "r_df.size"
   ]
  },
  {
   "cell_type": "code",
   "execution_count": 172,
   "metadata": {},
   "outputs": [
    {
     "data": {
      "text/plain": [
       "23473446"
      ]
     },
     "execution_count": 172,
     "metadata": {},
     "output_type": "execute_result"
    }
   ],
   "source": [
    "count_nonzero(r_df)"
   ]
  },
  {
   "cell_type": "code",
   "execution_count": 173,
   "metadata": {},
   "outputs": [
    {
     "name": "stdout",
     "output_type": "stream",
     "text": [
      "0.0\n"
     ]
    }
   ],
   "source": [
    "# calculate sparsity\n",
    "sparsity = 1.0 - count_nonzero(r_df) / r_df.size\n",
    "print(sparsity)"
   ]
  },
  {
   "cell_type": "markdown",
   "metadata": {},
   "source": [
    "### Observation\n",
    "    no zero values are found,\n",
    "    we can look for products/users which are long tailed"
   ]
  },
  {
   "cell_type": "markdown",
   "metadata": {},
   "source": [
    "# Find the top 10 users based on ratings\n",
    "most_rated = r_df.user_id.value_counts().rename_axis('user_id').reset_index(name='user_rating_index')\n",
    "most_rated = r_df.groupby('user_id').size().sort_values(ascending=False)\n",
    "least_rated = r_df.groupby('user_id').size().sort_values(ascending=True)\n",
    "most_rated.head(5)\n",
    "least_rated.head(5)\n"
   ]
  },
  {
   "cell_type": "code",
   "execution_count": 174,
   "metadata": {},
   "outputs": [
    {
     "data": {
      "text/plain": [
       "user_id\n",
       "A5JLAU2ARJ0BO     520\n",
       "ADLVFFE4VBT8      501\n",
       "A3OXHLG6DIBRW8    498\n",
       "A6FIAB28IS79      431\n",
       "A680RUE1FDO8B     406\n",
       "dtype: int64"
      ]
     },
     "execution_count": 174,
     "metadata": {},
     "output_type": "execute_result"
    },
    {
     "data": {
      "text/plain": [
       "user_id\n",
       "A00000262KYZUE4J55XGL    1\n",
       "A3AAXWDYVQ93SZ           1\n",
       "A3AAXWHVCN6VOG           1\n",
       "A3AAXX0N47FFP            1\n",
       "A3AAXY0TMZS72Y           1\n",
       "dtype: int64"
      ]
     },
     "execution_count": 174,
     "metadata": {},
     "output_type": "execute_result"
    }
   ],
   "source": [
    "# Find the top 10 users based on ratings\n",
    "most_rated = r_df.user_id.value_counts().reset_index().rename_axis('user_id')\n",
    "most_rated = r_df.groupby('user_id').size().sort_values(ascending=False)\n",
    "least_rated = r_df.groupby('user_id').size().sort_values(ascending=True)\n",
    "most_rated.head(5)\n",
    "least_rated.head(5)"
   ]
  },
  {
   "cell_type": "code",
   "execution_count": 175,
   "metadata": {},
   "outputs": [
    {
     "data": {
      "text/plain": [
       "user_id    7824482\n",
       "prod_id    7824482\n",
       "rating     7824482\n",
       "dtype: int64"
      ]
     },
     "execution_count": 175,
     "metadata": {},
     "output_type": "execute_result"
    }
   ],
   "source": [
    "r_df.count()"
   ]
  },
  {
   "cell_type": "code",
   "execution_count": 176,
   "metadata": {},
   "outputs": [
    {
     "data": {
      "text/plain": [
       "4201696"
      ]
     },
     "execution_count": 176,
     "metadata": {},
     "output_type": "execute_result"
    },
    {
     "data": {
      "text/plain": [
       "476002"
      ]
     },
     "execution_count": 176,
     "metadata": {},
     "output_type": "execute_result"
    },
    {
     "data": {
      "text/plain": [
       "5"
      ]
     },
     "execution_count": 176,
     "metadata": {},
     "output_type": "execute_result"
    }
   ],
   "source": [
    "r_df.user_id.nunique()\n",
    "r_df.prod_id.nunique()\n",
    "r_df.rating.nunique()"
   ]
  },
  {
   "cell_type": "code",
   "execution_count": 177,
   "metadata": {},
   "outputs": [
    {
     "data": {
      "text/plain": [
       "dtype('int64')"
      ]
     },
     "execution_count": 177,
     "metadata": {},
     "output_type": "execute_result"
    }
   ],
   "source": [
    "most_rated.dtype"
   ]
  },
  {
   "cell_type": "code",
   "execution_count": 79,
   "metadata": {},
   "outputs": [],
   "source": [
    "# create dense matrix"
   ]
  },
  {
   "cell_type": "code",
   "execution_count": 178,
   "metadata": {},
   "outputs": [],
   "source": [
    "from scipy.sparse import csr_matrix"
   ]
  },
  {
   "cell_type": "code",
   "execution_count": 179,
   "metadata": {},
   "outputs": [
    {
     "name": "stdout",
     "output_type": "stream",
     "text": [
      "Total observed ratings in the dataset  : 7824482\n",
      "Total ratings possible for the dataset : 2000015699392\n",
      "Density of the dataset                 : 0.00039%\n"
     ]
    }
   ],
   "source": [
    "# Find the density of the rating matrix\n",
    "print('Total observed ratings in the dataset  :', len(r_df))\n",
    "possible_num_of_ratings = r_df.user_id.nunique() * r_df.prod_id.nunique()\n",
    "print('Total ratings possible for the dataset :', possible_num_of_ratings)\n",
    "density = len(r_df) / possible_num_of_ratings * 100\n",
    "print('Density of the dataset                 : {:4.5f}%'.format(density))"
   ]
  },
  {
   "cell_type": "code",
   "execution_count": 180,
   "metadata": {},
   "outputs": [
    {
     "data": {
      "text/plain": [
       "(7824482, 3)"
      ]
     },
     "execution_count": 180,
     "metadata": {},
     "output_type": "execute_result"
    }
   ],
   "source": [
    "r_df.shape"
   ]
  },
  {
   "cell_type": "code",
   "execution_count": 181,
   "metadata": {},
   "outputs": [
    {
     "data": {
      "text/plain": [
       "4201696"
      ]
     },
     "execution_count": 181,
     "metadata": {},
     "output_type": "execute_result"
    },
    {
     "data": {
      "text/plain": [
       "476002"
      ]
     },
     "execution_count": 181,
     "metadata": {},
     "output_type": "execute_result"
    },
    {
     "data": {
      "text/plain": [
       "5"
      ]
     },
     "execution_count": 181,
     "metadata": {},
     "output_type": "execute_result"
    }
   ],
   "source": [
    "r_df.user_id.nunique()\n",
    "r_df.prod_id.nunique()\n",
    "r_df.rating.nunique()"
   ]
  },
  {
   "cell_type": "code",
   "execution_count": 182,
   "metadata": {},
   "outputs": [
    {
     "data": {
      "text/plain": [
       "(4201696,)"
      ]
     },
     "execution_count": 182,
     "metadata": {},
     "output_type": "execute_result"
    },
    {
     "data": {
      "text/plain": [
       "4201696"
      ]
     },
     "execution_count": 182,
     "metadata": {},
     "output_type": "execute_result"
    }
   ],
   "source": [
    "most_rated.shape\n",
    "most_rated.count()"
   ]
  },
  {
   "cell_type": "code",
   "execution_count": 183,
   "metadata": {},
   "outputs": [
    {
     "data": {
      "text/plain": [
       "user_id\n",
       "A5JLAU2ARJ0BO     520\n",
       "ADLVFFE4VBT8      501\n",
       "A3OXHLG6DIBRW8    498\n",
       "A6FIAB28IS79      431\n",
       "A680RUE1FDO8B     406\n",
       "A1ODOGXEYECQQ8    380\n",
       "A36K2N527TXXJN    314\n",
       "A2AY4YUOX2N1BQ    311\n",
       "AWPODHOB4GFWL     308\n",
       "A25C2M3QF9G7OQ    296\n",
       "ARBKYIVNYWK3C     296\n",
       "A22CW0ZHY3NJH8    292\n",
       "A3EXWV8FNSSFL6    282\n",
       "A38RMU1Y5TDP9     282\n",
       "A3LGT6UZL99IW1    279\n",
       "A2NOW4U7W3F7RI    277\n",
       "A23GFTVIETX7DS    270\n",
       "A3PD8JD9L4WEII    266\n",
       "A17BUUBOU0598B    261\n",
       "A3AYSYSLHU26U9    257\n",
       "A2XRMQA6PJ5ZJ8    253\n",
       "A231WM2Z2JL0U3    252\n",
       "A12DQZKRKTNF5E    252\n",
       "A1UQBFCERIP7VJ    247\n",
       "AGVWTYW0ULXHT     244\n",
       "A203OCQQ12MAVT    240\n",
       "AEJAGHLC675A7     239\n",
       "A2NYK9KWFMJV4Y    238\n",
       "A3A4ZAIBQWKOZS    236\n",
       "A31N0XY2UTB25C    227\n",
       "                 ... \n",
       "A319Y83RT0MRVR     50\n",
       "A21S26XYPGXJZX     50\n",
       "A37PV5GMP2ILJC     50\n",
       "AY4EXFOO43C3S      50\n",
       "A1EOTB1WHLSW6G     50\n",
       "A1C5TCCR2IGKBU     50\n",
       "ANEDXRFDZDL18      50\n",
       "A274X54O9CN2SR     50\n",
       "A1USYP4AXF5I1D     50\n",
       "A28CCQNXWV6WA2     50\n",
       "ANEXFROORI6F6      50\n",
       "A11KQADBYE0UZL     50\n",
       "A2AFTRU43PY9P5     50\n",
       "A1D27BCSYV7VWH     50\n",
       "A3EP26M3QHINXT     50\n",
       "A7Z2J9V37ABCO      50\n",
       "A2Y4H3PXB07WQI     50\n",
       "A3EHJ5519LG7TR     50\n",
       "A1DSRM2P0WGQNS     50\n",
       "A95PWI4S6WHGL      50\n",
       "A1VJ0V58N0698J     50\n",
       "A2WDCAMKCCP1UR     50\n",
       "A2ZGDHLJ85T6AD     50\n",
       "A16RL0RMRF974O     50\n",
       "A1W4F91DH3XPB2     50\n",
       "A2QAOP52OEB5EV     50\n",
       "ACH055GTTIGC9      50\n",
       "A2JRDFIGWTX50J     50\n",
       "AOTZOHB2LZGYR      50\n",
       "A2RS66Y79Q8X0W     50\n",
       "Length: 1540, dtype: int64"
      ]
     },
     "execution_count": 183,
     "metadata": {},
     "output_type": "execute_result"
    }
   ],
   "source": [
    "most_rated[most_rated>= 50]"
   ]
  },
  {
   "cell_type": "code",
   "execution_count": 184,
   "metadata": {},
   "outputs": [
    {
     "data": {
      "text/plain": [
       "4201696"
      ]
     },
     "execution_count": 184,
     "metadata": {},
     "output_type": "execute_result"
    },
    {
     "data": {
      "text/plain": [
       "476002"
      ]
     },
     "execution_count": 184,
     "metadata": {},
     "output_type": "execute_result"
    },
    {
     "data": {
      "text/plain": [
       "5"
      ]
     },
     "execution_count": 184,
     "metadata": {},
     "output_type": "execute_result"
    }
   ],
   "source": [
    "r_df.user_id.nunique()\n",
    "r_df.prod_id.nunique()\n",
    "r_df.rating.nunique() "
   ]
  },
  {
   "cell_type": "code",
   "execution_count": 185,
   "metadata": {},
   "outputs": [
    {
     "data": {
      "text/plain": [
       "user_id    7824482\n",
       "prod_id    7824482\n",
       "rating     7824482\n",
       "dtype: int64"
      ]
     },
     "execution_count": 185,
     "metadata": {},
     "output_type": "execute_result"
    }
   ],
   "source": [
    "r_df.count()"
   ]
  },
  {
   "cell_type": "code",
   "execution_count": 186,
   "metadata": {},
   "outputs": [
    {
     "data": {
      "text/plain": [
       "Index(['user_id', 'prod_id', 'rating'], dtype='object')"
      ]
     },
     "execution_count": 186,
     "metadata": {},
     "output_type": "execute_result"
    }
   ],
   "source": [
    "r_df.columns"
   ]
  },
  {
   "cell_type": "code",
   "execution_count": 187,
   "metadata": {},
   "outputs": [
    {
     "data": {
      "text/plain": [
       "pandas.core.frame.DataFrame"
      ]
     },
     "execution_count": 187,
     "metadata": {},
     "output_type": "execute_result"
    },
    {
     "data": {
      "text/html": [
       "<div>\n",
       "<style scoped>\n",
       "    .dataframe tbody tr th:only-of-type {\n",
       "        vertical-align: middle;\n",
       "    }\n",
       "\n",
       "    .dataframe tbody tr th {\n",
       "        vertical-align: top;\n",
       "    }\n",
       "\n",
       "    .dataframe thead th {\n",
       "        text-align: right;\n",
       "    }\n",
       "</style>\n",
       "<table border=\"1\" class=\"dataframe\">\n",
       "  <thead>\n",
       "    <tr style=\"text-align: right;\">\n",
       "      <th></th>\n",
       "      <th>user_id</th>\n",
       "      <th>prod_id</th>\n",
       "      <th>rating</th>\n",
       "    </tr>\n",
       "  </thead>\n",
       "  <tbody>\n",
       "    <tr>\n",
       "      <th>0</th>\n",
       "      <td>AKM1MP6P0OYPR</td>\n",
       "      <td>0132793040</td>\n",
       "      <td>5.0</td>\n",
       "    </tr>\n",
       "    <tr>\n",
       "      <th>1</th>\n",
       "      <td>A2CX7LUOHB2NDG</td>\n",
       "      <td>0321732944</td>\n",
       "      <td>5.0</td>\n",
       "    </tr>\n",
       "    <tr>\n",
       "      <th>2</th>\n",
       "      <td>A2NWSAGRHCP8N5</td>\n",
       "      <td>0439886341</td>\n",
       "      <td>1.0</td>\n",
       "    </tr>\n",
       "    <tr>\n",
       "      <th>3</th>\n",
       "      <td>A2WNBOD3WNDNKT</td>\n",
       "      <td>0439886341</td>\n",
       "      <td>3.0</td>\n",
       "    </tr>\n",
       "    <tr>\n",
       "      <th>4</th>\n",
       "      <td>A1GI0U4ZRJA8WN</td>\n",
       "      <td>0439886341</td>\n",
       "      <td>1.0</td>\n",
       "    </tr>\n",
       "  </tbody>\n",
       "</table>\n",
       "</div>"
      ],
      "text/plain": [
       "          user_id     prod_id  rating\n",
       "0   AKM1MP6P0OYPR  0132793040     5.0\n",
       "1  A2CX7LUOHB2NDG  0321732944     5.0\n",
       "2  A2NWSAGRHCP8N5  0439886341     1.0\n",
       "3  A2WNBOD3WNDNKT  0439886341     3.0\n",
       "4  A1GI0U4ZRJA8WN  0439886341     1.0"
      ]
     },
     "execution_count": 187,
     "metadata": {},
     "output_type": "execute_result"
    }
   ],
   "source": [
    "type(r_df)\n",
    "r_df.head()"
   ]
  },
  {
   "cell_type": "code",
   "execution_count": 188,
   "metadata": {},
   "outputs": [
    {
     "name": "stdout",
     "output_type": "stream",
     "text": [
      "# unique USERS who have rated 50 or more products : 1540\n",
      "# unique USERS dropped      : 4200156\n",
      "# unique ITEMS remaining    : 48190\n",
      "# unique ITEMS dropped      : 427812\n",
      "\n",
      "Final length of the dataset : 125871\n"
     ]
    }
   ],
   "source": [
    "# Drop the users who have rated less than 50 products\n",
    "#r_df=r_df[r_df.user_id.isin(most_rated[most_rated>= 50])]\n",
    "\n",
    "most_rated=r_df['user_id'].value_counts()\n",
    "r_df=r_df[r_df['user_id'].isin(most_rated[most_rated>=50].index)]\n",
    "\n",
    "print('# unique USERS who have rated 50 or more products :', r_df.user_id.nunique())\n",
    "print('# unique USERS dropped      :', unique_original[0] - r_df.user_id.nunique())\n",
    "print('# unique ITEMS remaining    :', r_df.prod_id.nunique())\n",
    "print('# unique ITEMS dropped      :', unique_original[1] - r_df.prod_id.nunique())\n",
    "print('\\nFinal length of the dataset :', len(r_df))"
   ]
  },
  {
   "cell_type": "code",
   "execution_count": 189,
   "metadata": {},
   "outputs": [
    {
     "name": "stdout",
     "output_type": "stream",
     "text": [
      "Shape of final_ratings_matrix          : (1540, 48190)\n",
      "Total observed ratings in the dataset  : 125871\n",
      "Total ratings possible for the dataset : 74212600\n",
      "Density of the dataset                 : 0.17%\n"
     ]
    }
   ],
   "source": [
    "# Find the density of the final matrix\n",
    "final_ratings_matrix = r_df.pivot(index='user_id', columns='prod_id', values='rating').fillna(0)\n",
    "print('Shape of final_ratings_matrix          :', final_ratings_matrix.shape)\n",
    "print('Total observed ratings in the dataset  :', len(r_df))\n",
    "possible_num_of_ratings = final_ratings_matrix.shape[0] * final_ratings_matrix.shape[1]\n",
    "print('Total ratings possible for the dataset :', possible_num_of_ratings)\n",
    "density = len(r_df) / possible_num_of_ratings * 100\n",
    "print('Density of the dataset                 : {:4.2f}%'.format(density))"
   ]
  },
  {
   "cell_type": "code",
   "execution_count": 190,
   "metadata": {},
   "outputs": [
    {
     "name": "stdout",
     "output_type": "stream",
     "text": [
      "The density of the user-item matrix increased by 434.90%\n"
     ]
    }
   ],
   "source": [
    "# Calculate the increase in density\n",
    "print('The density of the user-item matrix increased by {:4.2f}%'.format((0.17-0.00039)/0.00039))"
   ]
  },
  {
   "cell_type": "markdown",
   "metadata": {},
   "source": [
    "## 3. Split the data randomly into train and test dataset. (For example split it in 70/30 ratio)"
   ]
  },
  {
   "cell_type": "code",
   "execution_count": 92,
   "metadata": {},
   "outputs": [
    {
     "data": {
      "text/html": [
       "<div>\n",
       "<style scoped>\n",
       "    .dataframe tbody tr th:only-of-type {\n",
       "        vertical-align: middle;\n",
       "    }\n",
       "\n",
       "    .dataframe tbody tr th {\n",
       "        vertical-align: top;\n",
       "    }\n",
       "\n",
       "    .dataframe thead th {\n",
       "        text-align: right;\n",
       "    }\n",
       "</style>\n",
       "<table border=\"1\" class=\"dataframe\">\n",
       "  <thead>\n",
       "    <tr style=\"text-align: right;\">\n",
       "      <th></th>\n",
       "      <th>user_id</th>\n",
       "      <th>prod_id</th>\n",
       "      <th>rating</th>\n",
       "    </tr>\n",
       "  </thead>\n",
       "  <tbody>\n",
       "    <tr>\n",
       "      <th>5815696</th>\n",
       "      <td>A197T2N6RU7K56</td>\n",
       "      <td>B007N6OED8</td>\n",
       "      <td>5.0</td>\n",
       "    </tr>\n",
       "    <tr>\n",
       "      <th>412740</th>\n",
       "      <td>A3HR0ZZOFKQ97N</td>\n",
       "      <td>B0001Y7UAI</td>\n",
       "      <td>5.0</td>\n",
       "    </tr>\n",
       "    <tr>\n",
       "      <th>444340</th>\n",
       "      <td>AGHZXQL9F94T9</td>\n",
       "      <td>B0002A6YVC</td>\n",
       "      <td>2.0</td>\n",
       "    </tr>\n",
       "    <tr>\n",
       "      <th>3481712</th>\n",
       "      <td>A2XJMQ2COPGWJH</td>\n",
       "      <td>B003NSBF32</td>\n",
       "      <td>2.0</td>\n",
       "    </tr>\n",
       "    <tr>\n",
       "      <th>4580022</th>\n",
       "      <td>A2D1LPEUCTNT8X</td>\n",
       "      <td>B004YKKT26</td>\n",
       "      <td>4.0</td>\n",
       "    </tr>\n",
       "  </tbody>\n",
       "</table>\n",
       "</div>"
      ],
      "text/plain": [
       "                user_id     prod_id  rating\n",
       "5815696  A197T2N6RU7K56  B007N6OED8     5.0\n",
       "412740   A3HR0ZZOFKQ97N  B0001Y7UAI     5.0\n",
       "444340    AGHZXQL9F94T9  B0002A6YVC     2.0\n",
       "3481712  A2XJMQ2COPGWJH  B003NSBF32     2.0\n",
       "4580022  A2D1LPEUCTNT8X  B004YKKT26     4.0"
      ]
     },
     "execution_count": 92,
     "metadata": {},
     "output_type": "execute_result"
    },
    {
     "data": {
      "text/html": [
       "<div>\n",
       "<style scoped>\n",
       "    .dataframe tbody tr th:only-of-type {\n",
       "        vertical-align: middle;\n",
       "    }\n",
       "\n",
       "    .dataframe tbody tr th {\n",
       "        vertical-align: top;\n",
       "    }\n",
       "\n",
       "    .dataframe thead th {\n",
       "        text-align: right;\n",
       "    }\n",
       "</style>\n",
       "<table border=\"1\" class=\"dataframe\">\n",
       "  <thead>\n",
       "    <tr style=\"text-align: right;\">\n",
       "      <th></th>\n",
       "      <th>user_id</th>\n",
       "      <th>prod_id</th>\n",
       "      <th>rating</th>\n",
       "    </tr>\n",
       "  </thead>\n",
       "  <tbody>\n",
       "    <tr>\n",
       "      <th>4930282</th>\n",
       "      <td>A2UOHALGF2X77Q</td>\n",
       "      <td>B005G81E9M</td>\n",
       "      <td>3.0</td>\n",
       "    </tr>\n",
       "    <tr>\n",
       "      <th>3333831</th>\n",
       "      <td>A27M75LRSJ788H</td>\n",
       "      <td>B003FG6IV6</td>\n",
       "      <td>5.0</td>\n",
       "    </tr>\n",
       "    <tr>\n",
       "      <th>7490425</th>\n",
       "      <td>A35W3JQYP0M655</td>\n",
       "      <td>B00E3FHXYO</td>\n",
       "      <td>5.0</td>\n",
       "    </tr>\n",
       "    <tr>\n",
       "      <th>679608</th>\n",
       "      <td>A1FR68QH6Z4YZM</td>\n",
       "      <td>B0009R3N9E</td>\n",
       "      <td>5.0</td>\n",
       "    </tr>\n",
       "    <tr>\n",
       "      <th>583942</th>\n",
       "      <td>A25FL6VLD7S23S</td>\n",
       "      <td>B00079Q5DK</td>\n",
       "      <td>2.0</td>\n",
       "    </tr>\n",
       "  </tbody>\n",
       "</table>\n",
       "</div>"
      ],
      "text/plain": [
       "                user_id     prod_id  rating\n",
       "4930282  A2UOHALGF2X77Q  B005G81E9M     3.0\n",
       "3333831  A27M75LRSJ788H  B003FG6IV6     5.0\n",
       "7490425  A35W3JQYP0M655  B00E3FHXYO     5.0\n",
       "679608   A1FR68QH6Z4YZM  B0009R3N9E     5.0\n",
       "583942   A25FL6VLD7S23S  B00079Q5DK     2.0"
      ]
     },
     "execution_count": 92,
     "metadata": {},
     "output_type": "execute_result"
    }
   ],
   "source": [
    "# Divide the dataset in 70:30 ratio\n",
    "trainset, testset = model_selection.train_test_split(r_df, test_size=0.3, random_state=5)\n",
    "trainset.head()\n",
    "testset.head()"
   ]
  },
  {
   "cell_type": "code",
   "execution_count": 93,
   "metadata": {},
   "outputs": [
    {
     "name": "stdout",
     "output_type": "stream",
     "text": [
      "Shape of the training set  : (88109, 3)\n",
      "Shape of the test set  : (37762, 3)\n"
     ]
    }
   ],
   "source": [
    "print('Shape of the training set  :',trainset.shape)\n",
    "print('Shape of the test set  :',testset.shape)"
   ]
  },
  {
   "cell_type": "code",
   "execution_count": 94,
   "metadata": {},
   "outputs": [
    {
     "data": {
      "text/plain": [
       "Text(0.5, 1.0, 'Training dataset wise ratings')"
      ]
     },
     "execution_count": 94,
     "metadata": {},
     "output_type": "execute_result"
    },
    {
     "data": {
      "text/plain": [
       "<matplotlib.axes._subplots.AxesSubplot at 0x21f01c02cc0>"
      ]
     },
     "execution_count": 94,
     "metadata": {},
     "output_type": "execute_result"
    },
    {
     "data": {
      "text/plain": [
       "Text(0.5, 1.0, 'Test dataset wise ratings')"
      ]
     },
     "execution_count": 94,
     "metadata": {},
     "output_type": "execute_result"
    },
    {
     "data": {
      "text/plain": [
       "<matplotlib.axes._subplots.AxesSubplot at 0x21f019ed198>"
      ]
     },
     "execution_count": 94,
     "metadata": {},
     "output_type": "execute_result"
    },
    {
     "data": {
      "image/png": "[encoded data removed]",
      "text/plain": [
       "<Figure size 1080x288 with 2 Axes>"
      ]
     },
     "metadata": {
      "needs_background": "light"
     },
     "output_type": "display_data"
    }
   ],
   "source": [
    "#Rating distribution check\n",
    "fig, axes = plt.subplots(1, 2, figsize=(15,4))\n",
    "axes[0].set_title('Training dataset wise ratings')\n",
    "sns.countplot('rating', data=trainset, ax=axes[0])\n",
    "axes[1].set_title('Test dataset wise ratings')\n",
    "sns.countplot('rating', data=trainset, ax=axes[1])"
   ]
  },
  {
   "cell_type": "markdown",
   "metadata": {},
   "source": [
    "### Observation\n",
    "training set  : 88109 || test set  : 37762\n",
    "ratings seem to be similarly distributed between test n training set"
   ]
  },
  {
   "cell_type": "markdown",
   "metadata": {},
   "source": [
    "## 4. Build Popularity Recommender model."
   ]
  },
  {
   "cell_type": "markdown",
   "metadata": {},
   "source": [
    "### Model1 - COUNT of User ID rating for each product\n",
    "The score for each product in this method is calculated as the sum of the number of users rated."
   ]
  },
  {
   "cell_type": "code",
   "execution_count": 95,
   "metadata": {},
   "outputs": [],
   "source": [
    "# Create method to recommend products based on popularity\n",
    "def recommend_popular(r_df, top_n, user_id=None):\n",
    "    # Generate a recommendation rank based upon score \n",
    "    r_df['ranking'] = r_df['score'].rank(ascending=0, method='first') \n",
    "    recommendations = r_df.sort_values(['score', 'prod_id'], ascending=[0,1])\n",
    "    \n",
    "    # Add User_id column for which the recommendations are being generated \n",
    "    if user_id:\n",
    "        recommendations.insert(0,'user_id',user_id)\n",
    "    \n",
    "    # Get the top N recommendations \n",
    "    return recommendations.head(top_n)"
   ]
  },
  {
   "cell_type": "code",
   "execution_count": 96,
   "metadata": {},
   "outputs": [
    {
     "data": {
      "text/html": [
       "<div>\n",
       "<style scoped>\n",
       "    .dataframe tbody tr th:only-of-type {\n",
       "        vertical-align: middle;\n",
       "    }\n",
       "\n",
       "    .dataframe tbody tr th {\n",
       "        vertical-align: top;\n",
       "    }\n",
       "\n",
       "    .dataframe thead th {\n",
       "        text-align: right;\n",
       "    }\n",
       "</style>\n",
       "<table border=\"1\" class=\"dataframe\">\n",
       "  <thead>\n",
       "    <tr style=\"text-align: right;\">\n",
       "      <th></th>\n",
       "      <th>prod_id</th>\n",
       "      <th>score</th>\n",
       "    </tr>\n",
       "  </thead>\n",
       "  <tbody>\n",
       "    <tr>\n",
       "      <th>0</th>\n",
       "      <td>0594451647</td>\n",
       "      <td>1</td>\n",
       "    </tr>\n",
       "    <tr>\n",
       "      <th>1</th>\n",
       "      <td>0594481813</td>\n",
       "      <td>1</td>\n",
       "    </tr>\n",
       "    <tr>\n",
       "      <th>2</th>\n",
       "      <td>0970407998</td>\n",
       "      <td>2</td>\n",
       "    </tr>\n",
       "    <tr>\n",
       "      <th>3</th>\n",
       "      <td>0972683275</td>\n",
       "      <td>4</td>\n",
       "    </tr>\n",
       "    <tr>\n",
       "      <th>4</th>\n",
       "      <td>1400501466</td>\n",
       "      <td>6</td>\n",
       "    </tr>\n",
       "  </tbody>\n",
       "</table>\n",
       "</div>"
      ],
      "text/plain": [
       "      prod_id  score\n",
       "0  0594451647      1\n",
       "1  0594481813      1\n",
       "2  0970407998      2\n",
       "3  0972683275      4\n",
       "4  1400501466      6"
      ]
     },
     "execution_count": 96,
     "metadata": {},
     "output_type": "execute_result"
    }
   ],
   "source": [
    "#Count of user_id for each unique product as recommendation score \n",
    "product_grp = r_df.groupby(['prod_id']).agg({'user_id': 'count'}).reset_index()\n",
    "product_grp.rename(columns={'user_id': 'score'}, inplace=True)\n",
    "product_grp.head()"
   ]
  },
  {
   "cell_type": "code",
   "execution_count": 97,
   "metadata": {},
   "outputs": [
    {
     "data": {
      "text/html": [
       "<div>\n",
       "<style scoped>\n",
       "    .dataframe tbody tr th:only-of-type {\n",
       "        vertical-align: middle;\n",
       "    }\n",
       "\n",
       "    .dataframe tbody tr th {\n",
       "        vertical-align: top;\n",
       "    }\n",
       "\n",
       "    .dataframe thead th {\n",
       "        text-align: right;\n",
       "    }\n",
       "</style>\n",
       "<table border=\"1\" class=\"dataframe\">\n",
       "  <thead>\n",
       "    <tr style=\"text-align: right;\">\n",
       "      <th></th>\n",
       "      <th>prod_id</th>\n",
       "      <th>score</th>\n",
       "      <th>ranking</th>\n",
       "    </tr>\n",
       "  </thead>\n",
       "  <tbody>\n",
       "    <tr>\n",
       "      <th>39003</th>\n",
       "      <td>B0088CJT4U</td>\n",
       "      <td>206</td>\n",
       "      <td>1.0</td>\n",
       "    </tr>\n",
       "    <tr>\n",
       "      <th>24827</th>\n",
       "      <td>B003ES5ZUU</td>\n",
       "      <td>184</td>\n",
       "      <td>2.0</td>\n",
       "    </tr>\n",
       "    <tr>\n",
       "      <th>11078</th>\n",
       "      <td>B000N99BBC</td>\n",
       "      <td>167</td>\n",
       "      <td>3.0</td>\n",
       "    </tr>\n",
       "    <tr>\n",
       "      <th>38250</th>\n",
       "      <td>B007WTAJTO</td>\n",
       "      <td>164</td>\n",
       "      <td>4.0</td>\n",
       "    </tr>\n",
       "    <tr>\n",
       "      <th>38615</th>\n",
       "      <td>B00829TIEK</td>\n",
       "      <td>149</td>\n",
       "      <td>5.0</td>\n",
       "    </tr>\n",
       "  </tbody>\n",
       "</table>\n",
       "</div>"
      ],
      "text/plain": [
       "          prod_id  score  ranking\n",
       "39003  B0088CJT4U    206      1.0\n",
       "24827  B003ES5ZUU    184      2.0\n",
       "11078  B000N99BBC    167      3.0\n",
       "38250  B007WTAJTO    164      4.0\n",
       "38615  B00829TIEK    149      5.0"
      ]
     },
     "execution_count": 97,
     "metadata": {},
     "output_type": "execute_result"
    }
   ],
   "source": [
    "# Find recommendation for top 5 products\n",
    "recommend_popular(product_grp, 5)"
   ]
  },
  {
   "cell_type": "markdown",
   "metadata": {},
   "source": [
    "### Model2 - AVERAGE of ratings for unique product as recommended score\n",
    "The score for each product in this method is calculated as the average of the ratings recieved. \n",
    "This method is better than method 1."
   ]
  },
  {
   "cell_type": "code",
   "execution_count": 98,
   "metadata": {},
   "outputs": [
    {
     "data": {
      "text/html": [
       "<div>\n",
       "<style scoped>\n",
       "    .dataframe tbody tr th:only-of-type {\n",
       "        vertical-align: middle;\n",
       "    }\n",
       "\n",
       "    .dataframe tbody tr th {\n",
       "        vertical-align: top;\n",
       "    }\n",
       "\n",
       "    .dataframe thead th {\n",
       "        text-align: right;\n",
       "    }\n",
       "</style>\n",
       "<table border=\"1\" class=\"dataframe\">\n",
       "  <thead>\n",
       "    <tr style=\"text-align: right;\">\n",
       "      <th></th>\n",
       "      <th>prod_id</th>\n",
       "      <th>score</th>\n",
       "    </tr>\n",
       "  </thead>\n",
       "  <tbody>\n",
       "    <tr>\n",
       "      <th>0</th>\n",
       "      <td>0594451647</td>\n",
       "      <td>5.000000</td>\n",
       "    </tr>\n",
       "    <tr>\n",
       "      <th>1</th>\n",
       "      <td>0594481813</td>\n",
       "      <td>3.000000</td>\n",
       "    </tr>\n",
       "    <tr>\n",
       "      <th>2</th>\n",
       "      <td>0970407998</td>\n",
       "      <td>2.500000</td>\n",
       "    </tr>\n",
       "    <tr>\n",
       "      <th>3</th>\n",
       "      <td>0972683275</td>\n",
       "      <td>4.750000</td>\n",
       "    </tr>\n",
       "    <tr>\n",
       "      <th>4</th>\n",
       "      <td>1400501466</td>\n",
       "      <td>3.333333</td>\n",
       "    </tr>\n",
       "  </tbody>\n",
       "</table>\n",
       "</div>"
      ],
      "text/plain": [
       "      prod_id     score\n",
       "0  0594451647  5.000000\n",
       "1  0594481813  3.000000\n",
       "2  0970407998  2.500000\n",
       "3  0972683275  4.750000\n",
       "4  1400501466  3.333333"
      ]
     },
     "execution_count": 98,
     "metadata": {},
     "output_type": "execute_result"
    }
   ],
   "source": [
    "#Count of user_id for each unique product as recommendation score \n",
    "product_grp = r_df.groupby(['prod_id']).agg({'rating': 'mean'}).reset_index()\n",
    "product_grp.rename(columns={'rating': 'score'}, inplace=True)\n",
    "product_grp.head()"
   ]
  },
  {
   "cell_type": "code",
   "execution_count": 99,
   "metadata": {},
   "outputs": [
    {
     "data": {
      "text/html": [
       "<div>\n",
       "<style scoped>\n",
       "    .dataframe tbody tr th:only-of-type {\n",
       "        vertical-align: middle;\n",
       "    }\n",
       "\n",
       "    .dataframe tbody tr th {\n",
       "        vertical-align: top;\n",
       "    }\n",
       "\n",
       "    .dataframe thead th {\n",
       "        text-align: right;\n",
       "    }\n",
       "</style>\n",
       "<table border=\"1\" class=\"dataframe\">\n",
       "  <thead>\n",
       "    <tr style=\"text-align: right;\">\n",
       "      <th></th>\n",
       "      <th>prod_id</th>\n",
       "      <th>score</th>\n",
       "      <th>ranking</th>\n",
       "    </tr>\n",
       "  </thead>\n",
       "  <tbody>\n",
       "    <tr>\n",
       "      <th>0</th>\n",
       "      <td>0594451647</td>\n",
       "      <td>5.0</td>\n",
       "      <td>1.0</td>\n",
       "    </tr>\n",
       "    <tr>\n",
       "      <th>5</th>\n",
       "      <td>1400501520</td>\n",
       "      <td>5.0</td>\n",
       "      <td>2.0</td>\n",
       "    </tr>\n",
       "    <tr>\n",
       "      <th>12</th>\n",
       "      <td>1400699169</td>\n",
       "      <td>5.0</td>\n",
       "      <td>3.0</td>\n",
       "    </tr>\n",
       "    <tr>\n",
       "      <th>13</th>\n",
       "      <td>1685560148</td>\n",
       "      <td>5.0</td>\n",
       "      <td>4.0</td>\n",
       "    </tr>\n",
       "    <tr>\n",
       "      <th>14</th>\n",
       "      <td>3744295508</td>\n",
       "      <td>5.0</td>\n",
       "      <td>5.0</td>\n",
       "    </tr>\n",
       "  </tbody>\n",
       "</table>\n",
       "</div>"
      ],
      "text/plain": [
       "       prod_id  score  ranking\n",
       "0   0594451647    5.0      1.0\n",
       "5   1400501520    5.0      2.0\n",
       "12  1400699169    5.0      3.0\n",
       "13  1685560148    5.0      4.0\n",
       "14  3744295508    5.0      5.0"
      ]
     },
     "execution_count": 99,
     "metadata": {},
     "output_type": "execute_result"
    }
   ],
   "source": [
    "# Find recommendation for top 5 products\n",
    "recommend_popular(product_grp, 5)"
   ]
  },
  {
   "cell_type": "markdown",
   "metadata": {},
   "source": [
    "# Model3 - SUM of ratings for unique product as recommended score\n",
    "The score for each product in this method is calculated as the sum of all ratings. This is practically the best approach to determine the popularity of an item considering only the users ratings are given. This is also preferred over avg (method 2) as average of one 5 star rating is exactly same as the average of more than one 5 star ratings, but the product with more 5 star ratings would be considered as the most popular."
   ]
  },
  {
   "cell_type": "code",
   "execution_count": 100,
   "metadata": {},
   "outputs": [
    {
     "data": {
      "text/html": [
       "<div>\n",
       "<style scoped>\n",
       "    .dataframe tbody tr th:only-of-type {\n",
       "        vertical-align: middle;\n",
       "    }\n",
       "\n",
       "    .dataframe tbody tr th {\n",
       "        vertical-align: top;\n",
       "    }\n",
       "\n",
       "    .dataframe thead th {\n",
       "        text-align: right;\n",
       "    }\n",
       "</style>\n",
       "<table border=\"1\" class=\"dataframe\">\n",
       "  <thead>\n",
       "    <tr style=\"text-align: right;\">\n",
       "      <th></th>\n",
       "      <th>prod_id</th>\n",
       "      <th>score</th>\n",
       "    </tr>\n",
       "  </thead>\n",
       "  <tbody>\n",
       "    <tr>\n",
       "      <th>0</th>\n",
       "      <td>0594451647</td>\n",
       "      <td>5.0</td>\n",
       "    </tr>\n",
       "    <tr>\n",
       "      <th>1</th>\n",
       "      <td>0594481813</td>\n",
       "      <td>3.0</td>\n",
       "    </tr>\n",
       "    <tr>\n",
       "      <th>2</th>\n",
       "      <td>0970407998</td>\n",
       "      <td>5.0</td>\n",
       "    </tr>\n",
       "    <tr>\n",
       "      <th>3</th>\n",
       "      <td>0972683275</td>\n",
       "      <td>19.0</td>\n",
       "    </tr>\n",
       "    <tr>\n",
       "      <th>4</th>\n",
       "      <td>1400501466</td>\n",
       "      <td>20.0</td>\n",
       "    </tr>\n",
       "  </tbody>\n",
       "</table>\n",
       "</div>"
      ],
      "text/plain": [
       "      prod_id  score\n",
       "0  0594451647    5.0\n",
       "1  0594481813    3.0\n",
       "2  0970407998    5.0\n",
       "3  0972683275   19.0\n",
       "4  1400501466   20.0"
      ]
     },
     "execution_count": 100,
     "metadata": {},
     "output_type": "execute_result"
    }
   ],
   "source": [
    "#Count of user_id for each unique product as recommendation score \n",
    "product_grp = r_df.groupby(['prod_id']).agg({'rating': 'sum'}).reset_index()\n",
    "product_grp.rename(columns={'rating': 'score'}, inplace=True)\n",
    "product_grp.head()"
   ]
  },
  {
   "cell_type": "code",
   "execution_count": 101,
   "metadata": {},
   "outputs": [
    {
     "data": {
      "text/html": [
       "<div>\n",
       "<style scoped>\n",
       "    .dataframe tbody tr th:only-of-type {\n",
       "        vertical-align: middle;\n",
       "    }\n",
       "\n",
       "    .dataframe tbody tr th {\n",
       "        vertical-align: top;\n",
       "    }\n",
       "\n",
       "    .dataframe thead th {\n",
       "        text-align: right;\n",
       "    }\n",
       "</style>\n",
       "<table border=\"1\" class=\"dataframe\">\n",
       "  <thead>\n",
       "    <tr style=\"text-align: right;\">\n",
       "      <th></th>\n",
       "      <th>prod_id</th>\n",
       "      <th>score</th>\n",
       "      <th>ranking</th>\n",
       "    </tr>\n",
       "  </thead>\n",
       "  <tbody>\n",
       "    <tr>\n",
       "      <th>24827</th>\n",
       "      <td>B003ES5ZUU</td>\n",
       "      <td>895.0</td>\n",
       "      <td>1.0</td>\n",
       "    </tr>\n",
       "    <tr>\n",
       "      <th>39003</th>\n",
       "      <td>B0088CJT4U</td>\n",
       "      <td>869.0</td>\n",
       "      <td>2.0</td>\n",
       "    </tr>\n",
       "    <tr>\n",
       "      <th>11078</th>\n",
       "      <td>B000N99BBC</td>\n",
       "      <td>797.0</td>\n",
       "      <td>3.0</td>\n",
       "    </tr>\n",
       "    <tr>\n",
       "      <th>38250</th>\n",
       "      <td>B007WTAJTO</td>\n",
       "      <td>771.0</td>\n",
       "      <td>4.0</td>\n",
       "    </tr>\n",
       "    <tr>\n",
       "      <th>38615</th>\n",
       "      <td>B00829TIEK</td>\n",
       "      <td>661.0</td>\n",
       "      <td>5.0</td>\n",
       "    </tr>\n",
       "  </tbody>\n",
       "</table>\n",
       "</div>"
      ],
      "text/plain": [
       "          prod_id  score  ranking\n",
       "24827  B003ES5ZUU  895.0      1.0\n",
       "39003  B0088CJT4U  869.0      2.0\n",
       "11078  B000N99BBC  797.0      3.0\n",
       "38250  B007WTAJTO  771.0      4.0\n",
       "38615  B00829TIEK  661.0      5.0"
      ]
     },
     "execution_count": 101,
     "metadata": {},
     "output_type": "execute_result"
    }
   ],
   "source": [
    "# Find recommendation for top 5 products\n",
    "recommend_popular(product_grp, 5)"
   ]
  },
  {
   "cell_type": "code",
   "execution_count": 102,
   "metadata": {},
   "outputs": [
    {
     "name": "stdout",
     "output_type": "stream",
     "text": [
      "Top 3 recommendations for the user_id: A2Y4H3PXB07WQI\n"
     ]
    },
    {
     "data": {
      "text/html": [
       "<div>\n",
       "<style scoped>\n",
       "    .dataframe tbody tr th:only-of-type {\n",
       "        vertical-align: middle;\n",
       "    }\n",
       "\n",
       "    .dataframe tbody tr th {\n",
       "        vertical-align: top;\n",
       "    }\n",
       "\n",
       "    .dataframe thead th {\n",
       "        text-align: right;\n",
       "    }\n",
       "</style>\n",
       "<table border=\"1\" class=\"dataframe\">\n",
       "  <thead>\n",
       "    <tr style=\"text-align: right;\">\n",
       "      <th></th>\n",
       "      <th>user_id</th>\n",
       "      <th>prod_id</th>\n",
       "      <th>score</th>\n",
       "      <th>ranking</th>\n",
       "    </tr>\n",
       "  </thead>\n",
       "  <tbody>\n",
       "    <tr>\n",
       "      <th>24827</th>\n",
       "      <td>A2Y4H3PXB07WQI</td>\n",
       "      <td>B003ES5ZUU</td>\n",
       "      <td>895.0</td>\n",
       "      <td>1.0</td>\n",
       "    </tr>\n",
       "    <tr>\n",
       "      <th>39003</th>\n",
       "      <td>A2Y4H3PXB07WQI</td>\n",
       "      <td>B0088CJT4U</td>\n",
       "      <td>869.0</td>\n",
       "      <td>2.0</td>\n",
       "    </tr>\n",
       "    <tr>\n",
       "      <th>11078</th>\n",
       "      <td>A2Y4H3PXB07WQI</td>\n",
       "      <td>B000N99BBC</td>\n",
       "      <td>797.0</td>\n",
       "      <td>3.0</td>\n",
       "    </tr>\n",
       "  </tbody>\n",
       "</table>\n",
       "</div>"
      ],
      "text/plain": [
       "              user_id     prod_id  score  ranking\n",
       "24827  A2Y4H3PXB07WQI  B003ES5ZUU  895.0      1.0\n",
       "39003  A2Y4H3PXB07WQI  B0088CJT4U  869.0      2.0\n",
       "11078  A2Y4H3PXB07WQI  B000N99BBC  797.0      3.0"
      ]
     },
     "execution_count": 102,
     "metadata": {},
     "output_type": "execute_result"
    },
    {
     "name": "stdout",
     "output_type": "stream",
     "text": [
      "\n",
      "\n",
      "Top 5 recommendations for the user_id: A341HCMGNZCBIT\n"
     ]
    },
    {
     "data": {
      "text/html": [
       "<div>\n",
       "<style scoped>\n",
       "    .dataframe tbody tr th:only-of-type {\n",
       "        vertical-align: middle;\n",
       "    }\n",
       "\n",
       "    .dataframe tbody tr th {\n",
       "        vertical-align: top;\n",
       "    }\n",
       "\n",
       "    .dataframe thead th {\n",
       "        text-align: right;\n",
       "    }\n",
       "</style>\n",
       "<table border=\"1\" class=\"dataframe\">\n",
       "  <thead>\n",
       "    <tr style=\"text-align: right;\">\n",
       "      <th></th>\n",
       "      <th>user_id</th>\n",
       "      <th>prod_id</th>\n",
       "      <th>score</th>\n",
       "      <th>ranking</th>\n",
       "    </tr>\n",
       "  </thead>\n",
       "  <tbody>\n",
       "    <tr>\n",
       "      <th>24827</th>\n",
       "      <td>A341HCMGNZCBIT</td>\n",
       "      <td>B003ES5ZUU</td>\n",
       "      <td>895.0</td>\n",
       "      <td>1.0</td>\n",
       "    </tr>\n",
       "    <tr>\n",
       "      <th>39003</th>\n",
       "      <td>A341HCMGNZCBIT</td>\n",
       "      <td>B0088CJT4U</td>\n",
       "      <td>869.0</td>\n",
       "      <td>2.0</td>\n",
       "    </tr>\n",
       "    <tr>\n",
       "      <th>11078</th>\n",
       "      <td>A341HCMGNZCBIT</td>\n",
       "      <td>B000N99BBC</td>\n",
       "      <td>797.0</td>\n",
       "      <td>3.0</td>\n",
       "    </tr>\n",
       "    <tr>\n",
       "      <th>38250</th>\n",
       "      <td>A341HCMGNZCBIT</td>\n",
       "      <td>B007WTAJTO</td>\n",
       "      <td>771.0</td>\n",
       "      <td>4.0</td>\n",
       "    </tr>\n",
       "    <tr>\n",
       "      <th>38615</th>\n",
       "      <td>A341HCMGNZCBIT</td>\n",
       "      <td>B00829TIEK</td>\n",
       "      <td>661.0</td>\n",
       "      <td>5.0</td>\n",
       "    </tr>\n",
       "  </tbody>\n",
       "</table>\n",
       "</div>"
      ],
      "text/plain": [
       "              user_id     prod_id  score  ranking\n",
       "24827  A341HCMGNZCBIT  B003ES5ZUU  895.0      1.0\n",
       "39003  A341HCMGNZCBIT  B0088CJT4U  869.0      2.0\n",
       "11078  A341HCMGNZCBIT  B000N99BBC  797.0      3.0\n",
       "38250  A341HCMGNZCBIT  B007WTAJTO  771.0      4.0\n",
       "38615  A341HCMGNZCBIT  B00829TIEK  661.0      5.0"
      ]
     },
     "execution_count": 102,
     "metadata": {},
     "output_type": "execute_result"
    },
    {
     "name": "stdout",
     "output_type": "stream",
     "text": [
      "\n",
      "\n",
      "Top 7 recommendations for the user_id: AOVTLYTHVDNUX\n"
     ]
    },
    {
     "data": {
      "text/html": [
       "<div>\n",
       "<style scoped>\n",
       "    .dataframe tbody tr th:only-of-type {\n",
       "        vertical-align: middle;\n",
       "    }\n",
       "\n",
       "    .dataframe tbody tr th {\n",
       "        vertical-align: top;\n",
       "    }\n",
       "\n",
       "    .dataframe thead th {\n",
       "        text-align: right;\n",
       "    }\n",
       "</style>\n",
       "<table border=\"1\" class=\"dataframe\">\n",
       "  <thead>\n",
       "    <tr style=\"text-align: right;\">\n",
       "      <th></th>\n",
       "      <th>user_id</th>\n",
       "      <th>prod_id</th>\n",
       "      <th>score</th>\n",
       "      <th>ranking</th>\n",
       "    </tr>\n",
       "  </thead>\n",
       "  <tbody>\n",
       "    <tr>\n",
       "      <th>24827</th>\n",
       "      <td>AOVTLYTHVDNUX</td>\n",
       "      <td>B003ES5ZUU</td>\n",
       "      <td>895.0</td>\n",
       "      <td>1.0</td>\n",
       "    </tr>\n",
       "    <tr>\n",
       "      <th>39003</th>\n",
       "      <td>AOVTLYTHVDNUX</td>\n",
       "      <td>B0088CJT4U</td>\n",
       "      <td>869.0</td>\n",
       "      <td>2.0</td>\n",
       "    </tr>\n",
       "    <tr>\n",
       "      <th>11078</th>\n",
       "      <td>AOVTLYTHVDNUX</td>\n",
       "      <td>B000N99BBC</td>\n",
       "      <td>797.0</td>\n",
       "      <td>3.0</td>\n",
       "    </tr>\n",
       "    <tr>\n",
       "      <th>38250</th>\n",
       "      <td>AOVTLYTHVDNUX</td>\n",
       "      <td>B007WTAJTO</td>\n",
       "      <td>771.0</td>\n",
       "      <td>4.0</td>\n",
       "    </tr>\n",
       "    <tr>\n",
       "      <th>38615</th>\n",
       "      <td>AOVTLYTHVDNUX</td>\n",
       "      <td>B00829TIEK</td>\n",
       "      <td>661.0</td>\n",
       "      <td>5.0</td>\n",
       "    </tr>\n",
       "    <tr>\n",
       "      <th>38611</th>\n",
       "      <td>AOVTLYTHVDNUX</td>\n",
       "      <td>B00829THK0</td>\n",
       "      <td>605.0</td>\n",
       "      <td>6.0</td>\n",
       "    </tr>\n",
       "    <tr>\n",
       "      <th>39338</th>\n",
       "      <td>AOVTLYTHVDNUX</td>\n",
       "      <td>B008DWCRQW</td>\n",
       "      <td>561.0</td>\n",
       "      <td>7.0</td>\n",
       "    </tr>\n",
       "  </tbody>\n",
       "</table>\n",
       "</div>"
      ],
      "text/plain": [
       "             user_id     prod_id  score  ranking\n",
       "24827  AOVTLYTHVDNUX  B003ES5ZUU  895.0      1.0\n",
       "39003  AOVTLYTHVDNUX  B0088CJT4U  869.0      2.0\n",
       "11078  AOVTLYTHVDNUX  B000N99BBC  797.0      3.0\n",
       "38250  AOVTLYTHVDNUX  B007WTAJTO  771.0      4.0\n",
       "38615  AOVTLYTHVDNUX  B00829TIEK  661.0      5.0\n",
       "38611  AOVTLYTHVDNUX  B00829THK0  605.0      6.0\n",
       "39338  AOVTLYTHVDNUX  B008DWCRQW  561.0      7.0"
      ]
     },
     "execution_count": 102,
     "metadata": {},
     "output_type": "execute_result"
    },
    {
     "name": "stdout",
     "output_type": "stream",
     "text": [
      "\n",
      "\n"
     ]
    }
   ],
   "source": [
    "# Find recommendation for couple of users\n",
    "find_recom = {'A2Y4H3PXB07WQI': 3, \n",
    "              'A341HCMGNZCBIT': 5, \n",
    "              'AOVTLYTHVDNUX': 7}   # This list is user, top_n recommendation dict.\n",
    "for user in find_recom:\n",
    "    print(\"Top %d recommendations for the user_id: %s\" %(find_recom[user],user))\n",
    "    recommend_popular(product_grp,find_recom[user],user)\n",
    "    print(\"\\n\")"
   ]
  },
  {
   "cell_type": "raw",
   "metadata": {},
   "source": [
    "#Observations:\n",
    "- Popularity recommender works on principles of popularity of items\n",
    "- Items with highest ratings are recommended, especially for cold starter cases too\n",
    "- it is observed that all 3 models recommended similar items based on popularity"
   ]
  },
  {
   "cell_type": "raw",
   "metadata": {},
   "source": [
    "\n",
    "5. Build Collaborative Filtering model.\n"
   ]
  },
  {
   "cell_type": "raw",
   "metadata": {},
   "source": [
    "#1. Neighborhood approach\n",
    "    # User based Collaborative filtering\n",
    "    # Item based collaborative filtering"
   ]
  },
  {
   "cell_type": "raw",
   "metadata": {},
   "source": [
    "MODEL BUILD"
   ]
  },
  {
   "cell_type": "code",
   "execution_count": 110,
   "metadata": {},
   "outputs": [
    {
     "name": "stdout",
     "output_type": "stream",
     "text": [
      "Shape of User-Item sparse matrix: (1540, 48190)\n"
     ]
    },
    {
     "data": {
      "text/html": [
       "<div>\n",
       "<style scoped>\n",
       "    .dataframe tbody tr th:only-of-type {\n",
       "        vertical-align: middle;\n",
       "    }\n",
       "\n",
       "    .dataframe tbody tr th {\n",
       "        vertical-align: top;\n",
       "    }\n",
       "\n",
       "    .dataframe thead th {\n",
       "        text-align: right;\n",
       "    }\n",
       "</style>\n",
       "<table border=\"1\" class=\"dataframe\">\n",
       "  <thead>\n",
       "    <tr style=\"text-align: right;\">\n",
       "      <th>prod_id</th>\n",
       "      <th>0594451647</th>\n",
       "      <th>0594481813</th>\n",
       "      <th>0970407998</th>\n",
       "      <th>0972683275</th>\n",
       "      <th>1400501466</th>\n",
       "      <th>1400501520</th>\n",
       "      <th>1400501776</th>\n",
       "      <th>1400532620</th>\n",
       "      <th>1400532655</th>\n",
       "      <th>140053271X</th>\n",
       "      <th>...</th>\n",
       "      <th>B00L5YZCCG</th>\n",
       "      <th>B00L8I6SFY</th>\n",
       "      <th>B00L8QCVL6</th>\n",
       "      <th>B00LA6T0LS</th>\n",
       "      <th>B00LBZ1Z7K</th>\n",
       "      <th>B00LED02VY</th>\n",
       "      <th>B00LGN7Y3G</th>\n",
       "      <th>B00LGQ6HL8</th>\n",
       "      <th>B00LI4ZZO8</th>\n",
       "      <th>B00LKG1MC8</th>\n",
       "    </tr>\n",
       "    <tr>\n",
       "      <th>user_id</th>\n",
       "      <th></th>\n",
       "      <th></th>\n",
       "      <th></th>\n",
       "      <th></th>\n",
       "      <th></th>\n",
       "      <th></th>\n",
       "      <th></th>\n",
       "      <th></th>\n",
       "      <th></th>\n",
       "      <th></th>\n",
       "      <th></th>\n",
       "      <th></th>\n",
       "      <th></th>\n",
       "      <th></th>\n",
       "      <th></th>\n",
       "      <th></th>\n",
       "      <th></th>\n",
       "      <th></th>\n",
       "      <th></th>\n",
       "      <th></th>\n",
       "      <th></th>\n",
       "    </tr>\n",
       "  </thead>\n",
       "  <tbody>\n",
       "    <tr>\n",
       "      <th>A100UD67AHFODS</th>\n",
       "      <td>0.0</td>\n",
       "      <td>0.0</td>\n",
       "      <td>0.0</td>\n",
       "      <td>0.0</td>\n",
       "      <td>0.0</td>\n",
       "      <td>0.0</td>\n",
       "      <td>0.0</td>\n",
       "      <td>0.0</td>\n",
       "      <td>0.0</td>\n",
       "      <td>0.0</td>\n",
       "      <td>...</td>\n",
       "      <td>0.0</td>\n",
       "      <td>0.0</td>\n",
       "      <td>0.0</td>\n",
       "      <td>0.0</td>\n",
       "      <td>0.0</td>\n",
       "      <td>0.0</td>\n",
       "      <td>0.0</td>\n",
       "      <td>0.0</td>\n",
       "      <td>0.0</td>\n",
       "      <td>0.0</td>\n",
       "    </tr>\n",
       "    <tr>\n",
       "      <th>A100WO06OQR8BQ</th>\n",
       "      <td>0.0</td>\n",
       "      <td>0.0</td>\n",
       "      <td>0.0</td>\n",
       "      <td>0.0</td>\n",
       "      <td>0.0</td>\n",
       "      <td>0.0</td>\n",
       "      <td>0.0</td>\n",
       "      <td>0.0</td>\n",
       "      <td>0.0</td>\n",
       "      <td>0.0</td>\n",
       "      <td>...</td>\n",
       "      <td>0.0</td>\n",
       "      <td>0.0</td>\n",
       "      <td>0.0</td>\n",
       "      <td>0.0</td>\n",
       "      <td>0.0</td>\n",
       "      <td>0.0</td>\n",
       "      <td>0.0</td>\n",
       "      <td>0.0</td>\n",
       "      <td>0.0</td>\n",
       "      <td>0.0</td>\n",
       "    </tr>\n",
       "    <tr>\n",
       "      <th>A105S56ODHGJEK</th>\n",
       "      <td>0.0</td>\n",
       "      <td>0.0</td>\n",
       "      <td>0.0</td>\n",
       "      <td>0.0</td>\n",
       "      <td>0.0</td>\n",
       "      <td>0.0</td>\n",
       "      <td>0.0</td>\n",
       "      <td>0.0</td>\n",
       "      <td>0.0</td>\n",
       "      <td>0.0</td>\n",
       "      <td>...</td>\n",
       "      <td>0.0</td>\n",
       "      <td>0.0</td>\n",
       "      <td>0.0</td>\n",
       "      <td>0.0</td>\n",
       "      <td>0.0</td>\n",
       "      <td>0.0</td>\n",
       "      <td>0.0</td>\n",
       "      <td>0.0</td>\n",
       "      <td>0.0</td>\n",
       "      <td>0.0</td>\n",
       "    </tr>\n",
       "    <tr>\n",
       "      <th>A105TOJ6LTVMBG</th>\n",
       "      <td>0.0</td>\n",
       "      <td>0.0</td>\n",
       "      <td>0.0</td>\n",
       "      <td>0.0</td>\n",
       "      <td>0.0</td>\n",
       "      <td>0.0</td>\n",
       "      <td>0.0</td>\n",
       "      <td>0.0</td>\n",
       "      <td>0.0</td>\n",
       "      <td>0.0</td>\n",
       "      <td>...</td>\n",
       "      <td>0.0</td>\n",
       "      <td>0.0</td>\n",
       "      <td>0.0</td>\n",
       "      <td>0.0</td>\n",
       "      <td>0.0</td>\n",
       "      <td>0.0</td>\n",
       "      <td>0.0</td>\n",
       "      <td>0.0</td>\n",
       "      <td>0.0</td>\n",
       "      <td>0.0</td>\n",
       "    </tr>\n",
       "    <tr>\n",
       "      <th>A10AFVU66A79Y1</th>\n",
       "      <td>0.0</td>\n",
       "      <td>0.0</td>\n",
       "      <td>0.0</td>\n",
       "      <td>0.0</td>\n",
       "      <td>0.0</td>\n",
       "      <td>0.0</td>\n",
       "      <td>0.0</td>\n",
       "      <td>0.0</td>\n",
       "      <td>0.0</td>\n",
       "      <td>0.0</td>\n",
       "      <td>...</td>\n",
       "      <td>0.0</td>\n",
       "      <td>0.0</td>\n",
       "      <td>0.0</td>\n",
       "      <td>0.0</td>\n",
       "      <td>0.0</td>\n",
       "      <td>0.0</td>\n",
       "      <td>0.0</td>\n",
       "      <td>0.0</td>\n",
       "      <td>0.0</td>\n",
       "      <td>0.0</td>\n",
       "    </tr>\n",
       "  </tbody>\n",
       "</table>\n",
       "<p>5 rows × 48190 columns</p>\n",
       "</div>"
      ],
      "text/plain": [
       "prod_id         0594451647  0594481813  0970407998  0972683275  1400501466  \\\n",
       "user_id                                                                      \n",
       "A100UD67AHFODS         0.0         0.0         0.0         0.0         0.0   \n",
       "A100WO06OQR8BQ         0.0         0.0         0.0         0.0         0.0   \n",
       "A105S56ODHGJEK         0.0         0.0         0.0         0.0         0.0   \n",
       "A105TOJ6LTVMBG         0.0         0.0         0.0         0.0         0.0   \n",
       "A10AFVU66A79Y1         0.0         0.0         0.0         0.0         0.0   \n",
       "\n",
       "prod_id         1400501520  1400501776  1400532620  1400532655  140053271X  \\\n",
       "user_id                                                                      \n",
       "A100UD67AHFODS         0.0         0.0         0.0         0.0         0.0   \n",
       "A100WO06OQR8BQ         0.0         0.0         0.0         0.0         0.0   \n",
       "A105S56ODHGJEK         0.0         0.0         0.0         0.0         0.0   \n",
       "A105TOJ6LTVMBG         0.0         0.0         0.0         0.0         0.0   \n",
       "A10AFVU66A79Y1         0.0         0.0         0.0         0.0         0.0   \n",
       "\n",
       "prod_id         ...  B00L5YZCCG  B00L8I6SFY  B00L8QCVL6  B00LA6T0LS  \\\n",
       "user_id         ...                                                   \n",
       "A100UD67AHFODS  ...         0.0         0.0         0.0         0.0   \n",
       "A100WO06OQR8BQ  ...         0.0         0.0         0.0         0.0   \n",
       "A105S56ODHGJEK  ...         0.0         0.0         0.0         0.0   \n",
       "A105TOJ6LTVMBG  ...         0.0         0.0         0.0         0.0   \n",
       "A10AFVU66A79Y1  ...         0.0         0.0         0.0         0.0   \n",
       "\n",
       "prod_id         B00LBZ1Z7K  B00LED02VY  B00LGN7Y3G  B00LGQ6HL8  B00LI4ZZO8  \\\n",
       "user_id                                                                      \n",
       "A100UD67AHFODS         0.0         0.0         0.0         0.0         0.0   \n",
       "A100WO06OQR8BQ         0.0         0.0         0.0         0.0         0.0   \n",
       "A105S56ODHGJEK         0.0         0.0         0.0         0.0         0.0   \n",
       "A105TOJ6LTVMBG         0.0         0.0         0.0         0.0         0.0   \n",
       "A10AFVU66A79Y1         0.0         0.0         0.0         0.0         0.0   \n",
       "\n",
       "prod_id         B00LKG1MC8  \n",
       "user_id                     \n",
       "A100UD67AHFODS         0.0  \n",
       "A100WO06OQR8BQ         0.0  \n",
       "A105S56ODHGJEK         0.0  \n",
       "A105TOJ6LTVMBG         0.0  \n",
       "A10AFVU66A79Y1         0.0  \n",
       "\n",
       "[5 rows x 48190 columns]"
      ]
     },
     "execution_count": 110,
     "metadata": {},
     "output_type": "execute_result"
    }
   ],
   "source": [
    "# Create the User-Item sparse matrix\n",
    "user_item = r_df.pivot(index='user_id', columns='prod_id', values='rating').fillna(0)\n",
    "print('Shape of User-Item sparse matrix:', user_item.shape)\n",
    "user_item.head()"
   ]
  },
  {
   "cell_type": "code",
   "execution_count": 111,
   "metadata": {},
   "outputs": [
    {
     "name": "stdout",
     "output_type": "stream",
     "text": [
      "Shape of Item-User sparse matrix: (48190, 1540)\n"
     ]
    },
    {
     "data": {
      "text/html": [
       "<div>\n",
       "<style scoped>\n",
       "    .dataframe tbody tr th:only-of-type {\n",
       "        vertical-align: middle;\n",
       "    }\n",
       "\n",
       "    .dataframe tbody tr th {\n",
       "        vertical-align: top;\n",
       "    }\n",
       "\n",
       "    .dataframe thead th {\n",
       "        text-align: right;\n",
       "    }\n",
       "</style>\n",
       "<table border=\"1\" class=\"dataframe\">\n",
       "  <thead>\n",
       "    <tr style=\"text-align: right;\">\n",
       "      <th>user_id</th>\n",
       "      <th>A100UD67AHFODS</th>\n",
       "      <th>A100WO06OQR8BQ</th>\n",
       "      <th>A105S56ODHGJEK</th>\n",
       "      <th>A105TOJ6LTVMBG</th>\n",
       "      <th>A10AFVU66A79Y1</th>\n",
       "      <th>A10H24TDLK2VDP</th>\n",
       "      <th>A10NMELR4KX0J6</th>\n",
       "      <th>A10O7THJ2O20AG</th>\n",
       "      <th>A10PEXB6XAQ5XF</th>\n",
       "      <th>A10X9ME6R66JDX</th>\n",
       "      <th>...</th>\n",
       "      <th>AYOTEJ617O60K</th>\n",
       "      <th>AYP0YPLSP9ISM</th>\n",
       "      <th>AZ515FFZ7I2P7</th>\n",
       "      <th>AZ8XSDMIX04VJ</th>\n",
       "      <th>AZAC8O310IK4E</th>\n",
       "      <th>AZBXKUH4AIW3X</th>\n",
       "      <th>AZCE11PSTCH1L</th>\n",
       "      <th>AZMY6E8B52L2T</th>\n",
       "      <th>AZNUHQSHZHSUE</th>\n",
       "      <th>AZOK5STV85FBJ</th>\n",
       "    </tr>\n",
       "    <tr>\n",
       "      <th>prod_id</th>\n",
       "      <th></th>\n",
       "      <th></th>\n",
       "      <th></th>\n",
       "      <th></th>\n",
       "      <th></th>\n",
       "      <th></th>\n",
       "      <th></th>\n",
       "      <th></th>\n",
       "      <th></th>\n",
       "      <th></th>\n",
       "      <th></th>\n",
       "      <th></th>\n",
       "      <th></th>\n",
       "      <th></th>\n",
       "      <th></th>\n",
       "      <th></th>\n",
       "      <th></th>\n",
       "      <th></th>\n",
       "      <th></th>\n",
       "      <th></th>\n",
       "      <th></th>\n",
       "    </tr>\n",
       "  </thead>\n",
       "  <tbody>\n",
       "    <tr>\n",
       "      <th>0594451647</th>\n",
       "      <td>0.0</td>\n",
       "      <td>0.0</td>\n",
       "      <td>0.0</td>\n",
       "      <td>0.0</td>\n",
       "      <td>0.0</td>\n",
       "      <td>0.0</td>\n",
       "      <td>0.0</td>\n",
       "      <td>0.0</td>\n",
       "      <td>0.0</td>\n",
       "      <td>0.0</td>\n",
       "      <td>...</td>\n",
       "      <td>0.0</td>\n",
       "      <td>0.0</td>\n",
       "      <td>0.0</td>\n",
       "      <td>0.0</td>\n",
       "      <td>0.0</td>\n",
       "      <td>0.0</td>\n",
       "      <td>0.0</td>\n",
       "      <td>0.0</td>\n",
       "      <td>0.0</td>\n",
       "      <td>0.0</td>\n",
       "    </tr>\n",
       "    <tr>\n",
       "      <th>0594481813</th>\n",
       "      <td>0.0</td>\n",
       "      <td>0.0</td>\n",
       "      <td>0.0</td>\n",
       "      <td>0.0</td>\n",
       "      <td>0.0</td>\n",
       "      <td>0.0</td>\n",
       "      <td>0.0</td>\n",
       "      <td>0.0</td>\n",
       "      <td>0.0</td>\n",
       "      <td>0.0</td>\n",
       "      <td>...</td>\n",
       "      <td>0.0</td>\n",
       "      <td>0.0</td>\n",
       "      <td>0.0</td>\n",
       "      <td>0.0</td>\n",
       "      <td>0.0</td>\n",
       "      <td>0.0</td>\n",
       "      <td>0.0</td>\n",
       "      <td>0.0</td>\n",
       "      <td>0.0</td>\n",
       "      <td>0.0</td>\n",
       "    </tr>\n",
       "    <tr>\n",
       "      <th>0970407998</th>\n",
       "      <td>0.0</td>\n",
       "      <td>0.0</td>\n",
       "      <td>0.0</td>\n",
       "      <td>0.0</td>\n",
       "      <td>0.0</td>\n",
       "      <td>0.0</td>\n",
       "      <td>0.0</td>\n",
       "      <td>0.0</td>\n",
       "      <td>0.0</td>\n",
       "      <td>0.0</td>\n",
       "      <td>...</td>\n",
       "      <td>0.0</td>\n",
       "      <td>0.0</td>\n",
       "      <td>0.0</td>\n",
       "      <td>0.0</td>\n",
       "      <td>0.0</td>\n",
       "      <td>0.0</td>\n",
       "      <td>0.0</td>\n",
       "      <td>0.0</td>\n",
       "      <td>0.0</td>\n",
       "      <td>0.0</td>\n",
       "    </tr>\n",
       "    <tr>\n",
       "      <th>0972683275</th>\n",
       "      <td>0.0</td>\n",
       "      <td>0.0</td>\n",
       "      <td>0.0</td>\n",
       "      <td>0.0</td>\n",
       "      <td>0.0</td>\n",
       "      <td>0.0</td>\n",
       "      <td>0.0</td>\n",
       "      <td>0.0</td>\n",
       "      <td>0.0</td>\n",
       "      <td>0.0</td>\n",
       "      <td>...</td>\n",
       "      <td>0.0</td>\n",
       "      <td>0.0</td>\n",
       "      <td>0.0</td>\n",
       "      <td>0.0</td>\n",
       "      <td>0.0</td>\n",
       "      <td>0.0</td>\n",
       "      <td>0.0</td>\n",
       "      <td>0.0</td>\n",
       "      <td>0.0</td>\n",
       "      <td>0.0</td>\n",
       "    </tr>\n",
       "    <tr>\n",
       "      <th>1400501466</th>\n",
       "      <td>0.0</td>\n",
       "      <td>0.0</td>\n",
       "      <td>0.0</td>\n",
       "      <td>0.0</td>\n",
       "      <td>0.0</td>\n",
       "      <td>0.0</td>\n",
       "      <td>0.0</td>\n",
       "      <td>0.0</td>\n",
       "      <td>0.0</td>\n",
       "      <td>0.0</td>\n",
       "      <td>...</td>\n",
       "      <td>0.0</td>\n",
       "      <td>0.0</td>\n",
       "      <td>0.0</td>\n",
       "      <td>0.0</td>\n",
       "      <td>0.0</td>\n",
       "      <td>0.0</td>\n",
       "      <td>0.0</td>\n",
       "      <td>0.0</td>\n",
       "      <td>0.0</td>\n",
       "      <td>0.0</td>\n",
       "    </tr>\n",
       "  </tbody>\n",
       "</table>\n",
       "<p>5 rows × 1540 columns</p>\n",
       "</div>"
      ],
      "text/plain": [
       "user_id     A100UD67AHFODS  A100WO06OQR8BQ  A105S56ODHGJEK  A105TOJ6LTVMBG  \\\n",
       "prod_id                                                                      \n",
       "0594451647             0.0             0.0             0.0             0.0   \n",
       "0594481813             0.0             0.0             0.0             0.0   \n",
       "0970407998             0.0             0.0             0.0             0.0   \n",
       "0972683275             0.0             0.0             0.0             0.0   \n",
       "1400501466             0.0             0.0             0.0             0.0   \n",
       "\n",
       "user_id     A10AFVU66A79Y1  A10H24TDLK2VDP  A10NMELR4KX0J6  A10O7THJ2O20AG  \\\n",
       "prod_id                                                                      \n",
       "0594451647             0.0             0.0             0.0             0.0   \n",
       "0594481813             0.0             0.0             0.0             0.0   \n",
       "0970407998             0.0             0.0             0.0             0.0   \n",
       "0972683275             0.0             0.0             0.0             0.0   \n",
       "1400501466             0.0             0.0             0.0             0.0   \n",
       "\n",
       "user_id     A10PEXB6XAQ5XF  A10X9ME6R66JDX  ...  AYOTEJ617O60K  AYP0YPLSP9ISM  \\\n",
       "prod_id                                     ...                                 \n",
       "0594451647             0.0             0.0  ...            0.0            0.0   \n",
       "0594481813             0.0             0.0  ...            0.0            0.0   \n",
       "0970407998             0.0             0.0  ...            0.0            0.0   \n",
       "0972683275             0.0             0.0  ...            0.0            0.0   \n",
       "1400501466             0.0             0.0  ...            0.0            0.0   \n",
       "\n",
       "user_id     AZ515FFZ7I2P7  AZ8XSDMIX04VJ  AZAC8O310IK4E  AZBXKUH4AIW3X  \\\n",
       "prod_id                                                                  \n",
       "0594451647            0.0            0.0            0.0            0.0   \n",
       "0594481813            0.0            0.0            0.0            0.0   \n",
       "0970407998            0.0            0.0            0.0            0.0   \n",
       "0972683275            0.0            0.0            0.0            0.0   \n",
       "1400501466            0.0            0.0            0.0            0.0   \n",
       "\n",
       "user_id     AZCE11PSTCH1L  AZMY6E8B52L2T  AZNUHQSHZHSUE  AZOK5STV85FBJ  \n",
       "prod_id                                                                 \n",
       "0594451647            0.0            0.0            0.0            0.0  \n",
       "0594481813            0.0            0.0            0.0            0.0  \n",
       "0970407998            0.0            0.0            0.0            0.0  \n",
       "0972683275            0.0            0.0            0.0            0.0  \n",
       "1400501466            0.0            0.0            0.0            0.0  \n",
       "\n",
       "[5 rows x 1540 columns]"
      ]
     },
     "execution_count": 111,
     "metadata": {},
     "output_type": "execute_result"
    }
   ],
   "source": [
    "# Create the Item-User sparse matrix\n",
    "item_user = r_df.pivot(index='prod_id', columns='user_id', values='rating').fillna(0)\n",
    "print('Shape of Item-User sparse matrix:', item_user.shape)\n",
    "item_user.head()"
   ]
  },
  {
   "cell_type": "code",
   "execution_count": 112,
   "metadata": {},
   "outputs": [
    {
     "data": {
      "text/html": [
       "<div>\n",
       "<style scoped>\n",
       "    .dataframe tbody tr th:only-of-type {\n",
       "        vertical-align: middle;\n",
       "    }\n",
       "\n",
       "    .dataframe tbody tr th {\n",
       "        vertical-align: top;\n",
       "    }\n",
       "\n",
       "    .dataframe thead th {\n",
       "        text-align: right;\n",
       "    }\n",
       "</style>\n",
       "<table border=\"1\" class=\"dataframe\">\n",
       "  <thead>\n",
       "    <tr style=\"text-align: right;\">\n",
       "      <th>user_id</th>\n",
       "      <th>A100UD67AHFODS</th>\n",
       "      <th>A100WO06OQR8BQ</th>\n",
       "      <th>A105S56ODHGJEK</th>\n",
       "      <th>A105TOJ6LTVMBG</th>\n",
       "      <th>A10AFVU66A79Y1</th>\n",
       "      <th>A10H24TDLK2VDP</th>\n",
       "      <th>A10NMELR4KX0J6</th>\n",
       "      <th>A10O7THJ2O20AG</th>\n",
       "      <th>A10PEXB6XAQ5XF</th>\n",
       "      <th>A10X9ME6R66JDX</th>\n",
       "      <th>...</th>\n",
       "      <th>AYOTEJ617O60K</th>\n",
       "      <th>AYP0YPLSP9ISM</th>\n",
       "      <th>AZ515FFZ7I2P7</th>\n",
       "      <th>AZ8XSDMIX04VJ</th>\n",
       "      <th>AZAC8O310IK4E</th>\n",
       "      <th>AZBXKUH4AIW3X</th>\n",
       "      <th>AZCE11PSTCH1L</th>\n",
       "      <th>AZMY6E8B52L2T</th>\n",
       "      <th>AZNUHQSHZHSUE</th>\n",
       "      <th>AZOK5STV85FBJ</th>\n",
       "    </tr>\n",
       "    <tr>\n",
       "      <th>user_id</th>\n",
       "      <th></th>\n",
       "      <th></th>\n",
       "      <th></th>\n",
       "      <th></th>\n",
       "      <th></th>\n",
       "      <th></th>\n",
       "      <th></th>\n",
       "      <th></th>\n",
       "      <th></th>\n",
       "      <th></th>\n",
       "      <th></th>\n",
       "      <th></th>\n",
       "      <th></th>\n",
       "      <th></th>\n",
       "      <th></th>\n",
       "      <th></th>\n",
       "      <th></th>\n",
       "      <th></th>\n",
       "      <th></th>\n",
       "      <th></th>\n",
       "      <th></th>\n",
       "    </tr>\n",
       "  </thead>\n",
       "  <tbody>\n",
       "    <tr>\n",
       "      <th>A100UD67AHFODS</th>\n",
       "      <td>0.000000</td>\n",
       "      <td>0.010959</td>\n",
       "      <td>0.000000</td>\n",
       "      <td>0.014581</td>\n",
       "      <td>0.026016</td>\n",
       "      <td>0.000000</td>\n",
       "      <td>0.023949</td>\n",
       "      <td>0.033777</td>\n",
       "      <td>0.011733</td>\n",
       "      <td>0.020193</td>\n",
       "      <td>...</td>\n",
       "      <td>0.024818</td>\n",
       "      <td>0.000000</td>\n",
       "      <td>0.000000</td>\n",
       "      <td>0.025311</td>\n",
       "      <td>0.036252</td>\n",
       "      <td>0.000000</td>\n",
       "      <td>0.0</td>\n",
       "      <td>0.038111</td>\n",
       "      <td>0.015687</td>\n",
       "      <td>0.014340</td>\n",
       "    </tr>\n",
       "    <tr>\n",
       "      <th>A100WO06OQR8BQ</th>\n",
       "      <td>0.010959</td>\n",
       "      <td>0.000000</td>\n",
       "      <td>0.013124</td>\n",
       "      <td>0.015884</td>\n",
       "      <td>0.009447</td>\n",
       "      <td>0.010240</td>\n",
       "      <td>0.013045</td>\n",
       "      <td>0.019625</td>\n",
       "      <td>0.017383</td>\n",
       "      <td>0.002200</td>\n",
       "      <td>...</td>\n",
       "      <td>0.015020</td>\n",
       "      <td>0.003014</td>\n",
       "      <td>0.012131</td>\n",
       "      <td>0.000000</td>\n",
       "      <td>0.021452</td>\n",
       "      <td>0.018354</td>\n",
       "      <td>0.0</td>\n",
       "      <td>0.016607</td>\n",
       "      <td>0.000000</td>\n",
       "      <td>0.003124</td>\n",
       "    </tr>\n",
       "    <tr>\n",
       "      <th>A105S56ODHGJEK</th>\n",
       "      <td>0.000000</td>\n",
       "      <td>0.013124</td>\n",
       "      <td>0.000000</td>\n",
       "      <td>0.000000</td>\n",
       "      <td>0.021635</td>\n",
       "      <td>0.065075</td>\n",
       "      <td>0.000000</td>\n",
       "      <td>0.000000</td>\n",
       "      <td>0.031614</td>\n",
       "      <td>0.000000</td>\n",
       "      <td>...</td>\n",
       "      <td>0.000000</td>\n",
       "      <td>0.000000</td>\n",
       "      <td>0.028166</td>\n",
       "      <td>0.000000</td>\n",
       "      <td>0.010719</td>\n",
       "      <td>0.000000</td>\n",
       "      <td>0.0</td>\n",
       "      <td>0.003651</td>\n",
       "      <td>0.023483</td>\n",
       "      <td>0.000000</td>\n",
       "    </tr>\n",
       "    <tr>\n",
       "      <th>A105TOJ6LTVMBG</th>\n",
       "      <td>0.014581</td>\n",
       "      <td>0.015884</td>\n",
       "      <td>0.000000</td>\n",
       "      <td>0.000000</td>\n",
       "      <td>0.000000</td>\n",
       "      <td>0.000000</td>\n",
       "      <td>0.017355</td>\n",
       "      <td>0.003264</td>\n",
       "      <td>0.000000</td>\n",
       "      <td>0.000000</td>\n",
       "      <td>...</td>\n",
       "      <td>0.035970</td>\n",
       "      <td>0.000000</td>\n",
       "      <td>0.011131</td>\n",
       "      <td>0.000000</td>\n",
       "      <td>0.016217</td>\n",
       "      <td>0.019535</td>\n",
       "      <td>0.0</td>\n",
       "      <td>0.040212</td>\n",
       "      <td>0.000000</td>\n",
       "      <td>0.000000</td>\n",
       "    </tr>\n",
       "    <tr>\n",
       "      <th>A10AFVU66A79Y1</th>\n",
       "      <td>0.026016</td>\n",
       "      <td>0.009447</td>\n",
       "      <td>0.021635</td>\n",
       "      <td>0.000000</td>\n",
       "      <td>0.000000</td>\n",
       "      <td>0.021100</td>\n",
       "      <td>0.000000</td>\n",
       "      <td>0.000000</td>\n",
       "      <td>0.000000</td>\n",
       "      <td>0.014505</td>\n",
       "      <td>...</td>\n",
       "      <td>0.000000</td>\n",
       "      <td>0.000000</td>\n",
       "      <td>0.015447</td>\n",
       "      <td>0.036363</td>\n",
       "      <td>0.050152</td>\n",
       "      <td>0.000000</td>\n",
       "      <td>0.0</td>\n",
       "      <td>0.000000</td>\n",
       "      <td>0.000000</td>\n",
       "      <td>0.000000</td>\n",
       "    </tr>\n",
       "  </tbody>\n",
       "</table>\n",
       "<p>5 rows × 1540 columns</p>\n",
       "</div>"
      ],
      "text/plain": [
       "user_id         A100UD67AHFODS  A100WO06OQR8BQ  A105S56ODHGJEK  \\\n",
       "user_id                                                          \n",
       "A100UD67AHFODS        0.000000        0.010959        0.000000   \n",
       "A100WO06OQR8BQ        0.010959        0.000000        0.013124   \n",
       "A105S56ODHGJEK        0.000000        0.013124        0.000000   \n",
       "A105TOJ6LTVMBG        0.014581        0.015884        0.000000   \n",
       "A10AFVU66A79Y1        0.026016        0.009447        0.021635   \n",
       "\n",
       "user_id         A105TOJ6LTVMBG  A10AFVU66A79Y1  A10H24TDLK2VDP  \\\n",
       "user_id                                                          \n",
       "A100UD67AHFODS        0.014581        0.026016        0.000000   \n",
       "A100WO06OQR8BQ        0.015884        0.009447        0.010240   \n",
       "A105S56ODHGJEK        0.000000        0.021635        0.065075   \n",
       "A105TOJ6LTVMBG        0.000000        0.000000        0.000000   \n",
       "A10AFVU66A79Y1        0.000000        0.000000        0.021100   \n",
       "\n",
       "user_id         A10NMELR4KX0J6  A10O7THJ2O20AG  A10PEXB6XAQ5XF  \\\n",
       "user_id                                                          \n",
       "A100UD67AHFODS        0.023949        0.033777        0.011733   \n",
       "A100WO06OQR8BQ        0.013045        0.019625        0.017383   \n",
       "A105S56ODHGJEK        0.000000        0.000000        0.031614   \n",
       "A105TOJ6LTVMBG        0.017355        0.003264        0.000000   \n",
       "A10AFVU66A79Y1        0.000000        0.000000        0.000000   \n",
       "\n",
       "user_id         A10X9ME6R66JDX  ...  AYOTEJ617O60K  AYP0YPLSP9ISM  \\\n",
       "user_id                         ...                                 \n",
       "A100UD67AHFODS        0.020193  ...       0.024818       0.000000   \n",
       "A100WO06OQR8BQ        0.002200  ...       0.015020       0.003014   \n",
       "A105S56ODHGJEK        0.000000  ...       0.000000       0.000000   \n",
       "A105TOJ6LTVMBG        0.000000  ...       0.035970       0.000000   \n",
       "A10AFVU66A79Y1        0.014505  ...       0.000000       0.000000   \n",
       "\n",
       "user_id         AZ515FFZ7I2P7  AZ8XSDMIX04VJ  AZAC8O310IK4E  AZBXKUH4AIW3X  \\\n",
       "user_id                                                                      \n",
       "A100UD67AHFODS       0.000000       0.025311       0.036252       0.000000   \n",
       "A100WO06OQR8BQ       0.012131       0.000000       0.021452       0.018354   \n",
       "A105S56ODHGJEK       0.028166       0.000000       0.010719       0.000000   \n",
       "A105TOJ6LTVMBG       0.011131       0.000000       0.016217       0.019535   \n",
       "A10AFVU66A79Y1       0.015447       0.036363       0.050152       0.000000   \n",
       "\n",
       "user_id         AZCE11PSTCH1L  AZMY6E8B52L2T  AZNUHQSHZHSUE  AZOK5STV85FBJ  \n",
       "user_id                                                                     \n",
       "A100UD67AHFODS            0.0       0.038111       0.015687       0.014340  \n",
       "A100WO06OQR8BQ            0.0       0.016607       0.000000       0.003124  \n",
       "A105S56ODHGJEK            0.0       0.003651       0.023483       0.000000  \n",
       "A105TOJ6LTVMBG            0.0       0.040212       0.000000       0.000000  \n",
       "A10AFVU66A79Y1            0.0       0.000000       0.000000       0.000000  \n",
       "\n",
       "[5 rows x 1540 columns]"
      ]
     },
     "execution_count": 112,
     "metadata": {},
     "output_type": "execute_result"
    }
   ],
   "source": [
    "# Calculate the user-user similarity\n",
    "user_similarity = cosine_similarity(user_item)\n",
    "np.fill_diagonal(user_similarity, 0)\n",
    "user_similarity_df = pd.DataFrame(user_similarity,index=user_item.index, columns=user_item.index)\n",
    "user_similarity_df.head()"
   ]
  },
  {
   "cell_type": "code",
   "execution_count": 113,
   "metadata": {},
   "outputs": [
    {
     "data": {
      "text/html": [
       "<div>\n",
       "<style scoped>\n",
       "    .dataframe tbody tr th:only-of-type {\n",
       "        vertical-align: middle;\n",
       "    }\n",
       "\n",
       "    .dataframe tbody tr th {\n",
       "        vertical-align: top;\n",
       "    }\n",
       "\n",
       "    .dataframe thead th {\n",
       "        text-align: right;\n",
       "    }\n",
       "</style>\n",
       "<table border=\"1\" class=\"dataframe\">\n",
       "  <thead>\n",
       "    <tr style=\"text-align: right;\">\n",
       "      <th>prod_id</th>\n",
       "      <th>0594451647</th>\n",
       "      <th>0594481813</th>\n",
       "      <th>0970407998</th>\n",
       "      <th>0972683275</th>\n",
       "      <th>1400501466</th>\n",
       "      <th>1400501520</th>\n",
       "      <th>1400501776</th>\n",
       "      <th>1400532620</th>\n",
       "      <th>1400532655</th>\n",
       "      <th>140053271X</th>\n",
       "      <th>...</th>\n",
       "      <th>B00L5YZCCG</th>\n",
       "      <th>B00L8I6SFY</th>\n",
       "      <th>B00L8QCVL6</th>\n",
       "      <th>B00LA6T0LS</th>\n",
       "      <th>B00LBZ1Z7K</th>\n",
       "      <th>B00LED02VY</th>\n",
       "      <th>B00LGN7Y3G</th>\n",
       "      <th>B00LGQ6HL8</th>\n",
       "      <th>B00LI4ZZO8</th>\n",
       "      <th>B00LKG1MC8</th>\n",
       "    </tr>\n",
       "    <tr>\n",
       "      <th>prod_id</th>\n",
       "      <th></th>\n",
       "      <th></th>\n",
       "      <th></th>\n",
       "      <th></th>\n",
       "      <th></th>\n",
       "      <th></th>\n",
       "      <th></th>\n",
       "      <th></th>\n",
       "      <th></th>\n",
       "      <th></th>\n",
       "      <th></th>\n",
       "      <th></th>\n",
       "      <th></th>\n",
       "      <th></th>\n",
       "      <th></th>\n",
       "      <th></th>\n",
       "      <th></th>\n",
       "      <th></th>\n",
       "      <th></th>\n",
       "      <th></th>\n",
       "      <th></th>\n",
       "    </tr>\n",
       "  </thead>\n",
       "  <tbody>\n",
       "    <tr>\n",
       "      <th>0594451647</th>\n",
       "      <td>0.0</td>\n",
       "      <td>0.0</td>\n",
       "      <td>0.0</td>\n",
       "      <td>0.0</td>\n",
       "      <td>0.0</td>\n",
       "      <td>0.000000</td>\n",
       "      <td>0.000000</td>\n",
       "      <td>0.0</td>\n",
       "      <td>0.000000</td>\n",
       "      <td>0.000000</td>\n",
       "      <td>...</td>\n",
       "      <td>0.0</td>\n",
       "      <td>0.0</td>\n",
       "      <td>0.0</td>\n",
       "      <td>0.0</td>\n",
       "      <td>0.0</td>\n",
       "      <td>0.0</td>\n",
       "      <td>0.0</td>\n",
       "      <td>0.0</td>\n",
       "      <td>0.0</td>\n",
       "      <td>0.0</td>\n",
       "    </tr>\n",
       "    <tr>\n",
       "      <th>0594481813</th>\n",
       "      <td>0.0</td>\n",
       "      <td>0.0</td>\n",
       "      <td>0.0</td>\n",
       "      <td>0.0</td>\n",
       "      <td>0.0</td>\n",
       "      <td>0.000000</td>\n",
       "      <td>0.000000</td>\n",
       "      <td>0.0</td>\n",
       "      <td>0.000000</td>\n",
       "      <td>0.000000</td>\n",
       "      <td>...</td>\n",
       "      <td>0.0</td>\n",
       "      <td>0.0</td>\n",
       "      <td>0.0</td>\n",
       "      <td>0.0</td>\n",
       "      <td>0.0</td>\n",
       "      <td>0.0</td>\n",
       "      <td>0.0</td>\n",
       "      <td>0.0</td>\n",
       "      <td>0.0</td>\n",
       "      <td>0.0</td>\n",
       "    </tr>\n",
       "    <tr>\n",
       "      <th>0970407998</th>\n",
       "      <td>0.0</td>\n",
       "      <td>0.0</td>\n",
       "      <td>0.0</td>\n",
       "      <td>0.0</td>\n",
       "      <td>0.0</td>\n",
       "      <td>0.000000</td>\n",
       "      <td>0.000000</td>\n",
       "      <td>0.0</td>\n",
       "      <td>0.000000</td>\n",
       "      <td>0.000000</td>\n",
       "      <td>...</td>\n",
       "      <td>0.0</td>\n",
       "      <td>0.0</td>\n",
       "      <td>0.0</td>\n",
       "      <td>0.0</td>\n",
       "      <td>0.0</td>\n",
       "      <td>0.0</td>\n",
       "      <td>0.0</td>\n",
       "      <td>0.0</td>\n",
       "      <td>0.0</td>\n",
       "      <td>0.0</td>\n",
       "    </tr>\n",
       "    <tr>\n",
       "      <th>0972683275</th>\n",
       "      <td>0.0</td>\n",
       "      <td>0.0</td>\n",
       "      <td>0.0</td>\n",
       "      <td>0.0</td>\n",
       "      <td>0.0</td>\n",
       "      <td>0.000000</td>\n",
       "      <td>0.000000</td>\n",
       "      <td>0.0</td>\n",
       "      <td>0.260771</td>\n",
       "      <td>0.000000</td>\n",
       "      <td>...</td>\n",
       "      <td>0.0</td>\n",
       "      <td>0.0</td>\n",
       "      <td>0.0</td>\n",
       "      <td>0.0</td>\n",
       "      <td>0.0</td>\n",
       "      <td>0.0</td>\n",
       "      <td>0.0</td>\n",
       "      <td>0.0</td>\n",
       "      <td>0.0</td>\n",
       "      <td>0.0</td>\n",
       "    </tr>\n",
       "    <tr>\n",
       "      <th>1400501466</th>\n",
       "      <td>0.0</td>\n",
       "      <td>0.0</td>\n",
       "      <td>0.0</td>\n",
       "      <td>0.0</td>\n",
       "      <td>0.0</td>\n",
       "      <td>0.539164</td>\n",
       "      <td>0.421016</td>\n",
       "      <td>0.0</td>\n",
       "      <td>0.000000</td>\n",
       "      <td>0.523066</td>\n",
       "      <td>...</td>\n",
       "      <td>0.0</td>\n",
       "      <td>0.0</td>\n",
       "      <td>0.0</td>\n",
       "      <td>0.0</td>\n",
       "      <td>0.0</td>\n",
       "      <td>0.0</td>\n",
       "      <td>0.0</td>\n",
       "      <td>0.0</td>\n",
       "      <td>0.0</td>\n",
       "      <td>0.0</td>\n",
       "    </tr>\n",
       "  </tbody>\n",
       "</table>\n",
       "<p>5 rows × 48190 columns</p>\n",
       "</div>"
      ],
      "text/plain": [
       "prod_id     0594451647  0594481813  0970407998  0972683275  1400501466  \\\n",
       "prod_id                                                                  \n",
       "0594451647         0.0         0.0         0.0         0.0         0.0   \n",
       "0594481813         0.0         0.0         0.0         0.0         0.0   \n",
       "0970407998         0.0         0.0         0.0         0.0         0.0   \n",
       "0972683275         0.0         0.0         0.0         0.0         0.0   \n",
       "1400501466         0.0         0.0         0.0         0.0         0.0   \n",
       "\n",
       "prod_id     1400501520  1400501776  1400532620  1400532655  140053271X  ...  \\\n",
       "prod_id                                                                 ...   \n",
       "0594451647    0.000000    0.000000         0.0    0.000000    0.000000  ...   \n",
       "0594481813    0.000000    0.000000         0.0    0.000000    0.000000  ...   \n",
       "0970407998    0.000000    0.000000         0.0    0.000000    0.000000  ...   \n",
       "0972683275    0.000000    0.000000         0.0    0.260771    0.000000  ...   \n",
       "1400501466    0.539164    0.421016         0.0    0.000000    0.523066  ...   \n",
       "\n",
       "prod_id     B00L5YZCCG  B00L8I6SFY  B00L8QCVL6  B00LA6T0LS  B00LBZ1Z7K  \\\n",
       "prod_id                                                                  \n",
       "0594451647         0.0         0.0         0.0         0.0         0.0   \n",
       "0594481813         0.0         0.0         0.0         0.0         0.0   \n",
       "0970407998         0.0         0.0         0.0         0.0         0.0   \n",
       "0972683275         0.0         0.0         0.0         0.0         0.0   \n",
       "1400501466         0.0         0.0         0.0         0.0         0.0   \n",
       "\n",
       "prod_id     B00LED02VY  B00LGN7Y3G  B00LGQ6HL8  B00LI4ZZO8  B00LKG1MC8  \n",
       "prod_id                                                                 \n",
       "0594451647         0.0         0.0         0.0         0.0         0.0  \n",
       "0594481813         0.0         0.0         0.0         0.0         0.0  \n",
       "0970407998         0.0         0.0         0.0         0.0         0.0  \n",
       "0972683275         0.0         0.0         0.0         0.0         0.0  \n",
       "1400501466         0.0         0.0         0.0         0.0         0.0  \n",
       "\n",
       "[5 rows x 48190 columns]"
      ]
     },
     "execution_count": 113,
     "metadata": {},
     "output_type": "execute_result"
    }
   ],
   "source": [
    "# Calculate the item-item similarity\n",
    "item_similarity = cosine_similarity(item_user)\n",
    "np.fill_diagonal(item_similarity, 0)\n",
    "item_similarity_df = pd.DataFrame(item_similarity, index=item_user.index, columns=item_user.index)\n",
    "item_similarity_df.head()"
   ]
  },
  {
   "cell_type": "code",
   "execution_count": 114,
   "metadata": {},
   "outputs": [],
   "source": [
    "# Method to find top N neighbors\n",
    "def find_n_neighbors(df,n):\n",
    "    order = np.argsort(df.values, axis=1)[:, :n]\n",
    "    df = df.apply(axis=1, func=lambda x: pd.Series(x.sort_values(ascending=False).iloc[:n].index,\n",
    "                                                   index=['top{}'.format(i) for i in range(1, n+1)]))\n",
    "    return df"
   ]
  },
  {
   "cell_type": "code",
   "execution_count": 115,
   "metadata": {},
   "outputs": [
    {
     "data": {
      "text/html": [
       "<div>\n",
       "<style scoped>\n",
       "    .dataframe tbody tr th:only-of-type {\n",
       "        vertical-align: middle;\n",
       "    }\n",
       "\n",
       "    .dataframe tbody tr th {\n",
       "        vertical-align: top;\n",
       "    }\n",
       "\n",
       "    .dataframe thead th {\n",
       "        text-align: right;\n",
       "    }\n",
       "</style>\n",
       "<table border=\"1\" class=\"dataframe\">\n",
       "  <thead>\n",
       "    <tr style=\"text-align: right;\">\n",
       "      <th></th>\n",
       "      <th>top1</th>\n",
       "      <th>top2</th>\n",
       "      <th>top3</th>\n",
       "      <th>top4</th>\n",
       "      <th>top5</th>\n",
       "      <th>top6</th>\n",
       "      <th>top7</th>\n",
       "      <th>top8</th>\n",
       "      <th>top9</th>\n",
       "      <th>top10</th>\n",
       "    </tr>\n",
       "    <tr>\n",
       "      <th>user_id</th>\n",
       "      <th></th>\n",
       "      <th></th>\n",
       "      <th></th>\n",
       "      <th></th>\n",
       "      <th></th>\n",
       "      <th></th>\n",
       "      <th></th>\n",
       "      <th></th>\n",
       "      <th></th>\n",
       "      <th></th>\n",
       "    </tr>\n",
       "  </thead>\n",
       "  <tbody>\n",
       "    <tr>\n",
       "      <th>A100UD67AHFODS</th>\n",
       "      <td>A2FZQF0MH29VYN</td>\n",
       "      <td>A11FX8HL2ANK6T</td>\n",
       "      <td>A3CG93783LP0FO</td>\n",
       "      <td>A2NOW4U7W3F7RI</td>\n",
       "      <td>A2LB4FLRZG6CUV</td>\n",
       "      <td>A2DG63DN704LOI</td>\n",
       "      <td>AT53ZTTO707MB</td>\n",
       "      <td>A2XX2A4OJCDNLZ</td>\n",
       "      <td>A33XMCG1UFDSY2</td>\n",
       "      <td>A2YW6XOID7GV6G</td>\n",
       "    </tr>\n",
       "    <tr>\n",
       "      <th>A100WO06OQR8BQ</th>\n",
       "      <td>A3963R7EPE3A7E</td>\n",
       "      <td>A30UP2KKD5IQEP</td>\n",
       "      <td>A2Y3WWPUKIJ59I</td>\n",
       "      <td>A298GL2D0BHGKZ</td>\n",
       "      <td>A1CST2WUA32GP0</td>\n",
       "      <td>A15XI2BEGGFEOW</td>\n",
       "      <td>A3D822N1K2IAQD</td>\n",
       "      <td>A2L4ZGN7GZJ95T</td>\n",
       "      <td>A18S2VGUH9SCV5</td>\n",
       "      <td>AXP8GO5Q3AXSA</td>\n",
       "    </tr>\n",
       "    <tr>\n",
       "      <th>A105S56ODHGJEK</th>\n",
       "      <td>A17UNMURMLX0ZE</td>\n",
       "      <td>ABMNX856X89CS</td>\n",
       "      <td>ANTN61S4L7WG9</td>\n",
       "      <td>A2LF16F0KX9L7P</td>\n",
       "      <td>A2UKE7GIVC7XFW</td>\n",
       "      <td>AJX9A4Q19UTJU</td>\n",
       "      <td>A2R1HUYHXV7H18</td>\n",
       "      <td>A3J3ZHGDUDPCFL</td>\n",
       "      <td>A1WXG10FJ353K0</td>\n",
       "      <td>A20L63B48RPSOH</td>\n",
       "    </tr>\n",
       "    <tr>\n",
       "      <th>A105TOJ6LTVMBG</th>\n",
       "      <td>A1TQBAHI3M4ZBQ</td>\n",
       "      <td>A10ZFE6YE0UHW8</td>\n",
       "      <td>A2XXBZPQT5EXHV</td>\n",
       "      <td>A1NZLRAZJGD99W</td>\n",
       "      <td>A1D27BCSYV7VWH</td>\n",
       "      <td>AVTJEWTCJ3PBE</td>\n",
       "      <td>AAK6SOEJY30YG</td>\n",
       "      <td>A2GKMXRLI7KLFP</td>\n",
       "      <td>A2VCXIAWCPQ13P</td>\n",
       "      <td>AKSFZ4G1AXYFC</td>\n",
       "    </tr>\n",
       "    <tr>\n",
       "      <th>A10AFVU66A79Y1</th>\n",
       "      <td>ACQYIC13JXAOI</td>\n",
       "      <td>A25QJBK33C4O0R</td>\n",
       "      <td>A2PMR2PIGWKCQ9</td>\n",
       "      <td>A4H4KYSM2KQ85</td>\n",
       "      <td>A2TVH2OBNXYXHV</td>\n",
       "      <td>A84FLVDK2R5JF</td>\n",
       "      <td>A2UOHALGF2X77Q</td>\n",
       "      <td>A24RCBRDXRXR0Y</td>\n",
       "      <td>A2IFKH3TJ10387</td>\n",
       "      <td>A3JLOIXFM75QNV</td>\n",
       "    </tr>\n",
       "    <tr>\n",
       "      <th>A10H24TDLK2VDP</th>\n",
       "      <td>ANTN61S4L7WG9</td>\n",
       "      <td>A2QRXQPHDMFCQV</td>\n",
       "      <td>A3V2EZ6MA32FF6</td>\n",
       "      <td>A3SP7T2PZ3HSDE</td>\n",
       "      <td>AO09RWV40IX78</td>\n",
       "      <td>A3J3ZHGDUDPCFL</td>\n",
       "      <td>A3QNQQKJTL76H0</td>\n",
       "      <td>A1RL1OTV8IJMVD</td>\n",
       "      <td>A19W47CXJJP1MI</td>\n",
       "      <td>A3LDLV1GWQJLEQ</td>\n",
       "    </tr>\n",
       "    <tr>\n",
       "      <th>A10NMELR4KX0J6</th>\n",
       "      <td>ARC5ASW9CUAGP</td>\n",
       "      <td>A1PS4OYWUB0VX</td>\n",
       "      <td>A3F7USIDJBR8WU</td>\n",
       "      <td>A3GX0FAMEXV6FB</td>\n",
       "      <td>A32HSNCNPRUMTR</td>\n",
       "      <td>A1L5TA5UQF7EWE</td>\n",
       "      <td>A3223W5IROMYTY</td>\n",
       "      <td>A1ZPUEHF4AES86</td>\n",
       "      <td>A17W0GMB0YY83M</td>\n",
       "      <td>A2HV76MYH7UL3S</td>\n",
       "    </tr>\n",
       "    <tr>\n",
       "      <th>A10O7THJ2O20AG</th>\n",
       "      <td>AWSK1ZAEU1KFL</td>\n",
       "      <td>A365PBEOWM7EI7</td>\n",
       "      <td>AZ8XSDMIX04VJ</td>\n",
       "      <td>AN9CP6J4JF91X</td>\n",
       "      <td>AJEOFP6ZWY0MK</td>\n",
       "      <td>A2HRHF83I3NDGT</td>\n",
       "      <td>A24P4E3RJ6AX94</td>\n",
       "      <td>A28621TSIR5EOG</td>\n",
       "      <td>A1VLE2SH9J8WYS</td>\n",
       "      <td>A2A4X545ERLS7H</td>\n",
       "    </tr>\n",
       "    <tr>\n",
       "      <th>A10PEXB6XAQ5XF</th>\n",
       "      <td>A267FU71Z01CIH</td>\n",
       "      <td>A1TR1R2QKWRSRA</td>\n",
       "      <td>A2MJ8OL2FYN7CW</td>\n",
       "      <td>A1CMD08Z49PGKQ</td>\n",
       "      <td>A2BLFCOPSMBOZ9</td>\n",
       "      <td>A2CWIYIETNBAK3</td>\n",
       "      <td>A1MCH5RXDOH87H</td>\n",
       "      <td>A28X0LT2100RL1</td>\n",
       "      <td>A1PI8VBCXXSGC7</td>\n",
       "      <td>AJX9A4Q19UTJU</td>\n",
       "    </tr>\n",
       "    <tr>\n",
       "      <th>A10X9ME6R66JDX</th>\n",
       "      <td>A206CGM6J75UJY</td>\n",
       "      <td>A1R19YYR5OR26T</td>\n",
       "      <td>A1TQBAHI3M4ZBQ</td>\n",
       "      <td>A87N6UTYA6NOB</td>\n",
       "      <td>AZBXKUH4AIW3X</td>\n",
       "      <td>A3HCMJOGRRSAF2</td>\n",
       "      <td>A3IRA0BHI9NE9U</td>\n",
       "      <td>A19N3S7CBSU6O7</td>\n",
       "      <td>A1L1N3J6XNABO2</td>\n",
       "      <td>AYNAH993VDECT</td>\n",
       "    </tr>\n",
       "  </tbody>\n",
       "</table>\n",
       "</div>"
      ],
      "text/plain": [
       "                          top1            top2            top3  \\\n",
       "user_id                                                          \n",
       "A100UD67AHFODS  A2FZQF0MH29VYN  A11FX8HL2ANK6T  A3CG93783LP0FO   \n",
       "A100WO06OQR8BQ  A3963R7EPE3A7E  A30UP2KKD5IQEP  A2Y3WWPUKIJ59I   \n",
       "A105S56ODHGJEK  A17UNMURMLX0ZE   ABMNX856X89CS   ANTN61S4L7WG9   \n",
       "A105TOJ6LTVMBG  A1TQBAHI3M4ZBQ  A10ZFE6YE0UHW8  A2XXBZPQT5EXHV   \n",
       "A10AFVU66A79Y1   ACQYIC13JXAOI  A25QJBK33C4O0R  A2PMR2PIGWKCQ9   \n",
       "A10H24TDLK2VDP   ANTN61S4L7WG9  A2QRXQPHDMFCQV  A3V2EZ6MA32FF6   \n",
       "A10NMELR4KX0J6   ARC5ASW9CUAGP   A1PS4OYWUB0VX  A3F7USIDJBR8WU   \n",
       "A10O7THJ2O20AG   AWSK1ZAEU1KFL  A365PBEOWM7EI7   AZ8XSDMIX04VJ   \n",
       "A10PEXB6XAQ5XF  A267FU71Z01CIH  A1TR1R2QKWRSRA  A2MJ8OL2FYN7CW   \n",
       "A10X9ME6R66JDX  A206CGM6J75UJY  A1R19YYR5OR26T  A1TQBAHI3M4ZBQ   \n",
       "\n",
       "                          top4            top5            top6  \\\n",
       "user_id                                                          \n",
       "A100UD67AHFODS  A2NOW4U7W3F7RI  A2LB4FLRZG6CUV  A2DG63DN704LOI   \n",
       "A100WO06OQR8BQ  A298GL2D0BHGKZ  A1CST2WUA32GP0  A15XI2BEGGFEOW   \n",
       "A105S56ODHGJEK  A2LF16F0KX9L7P  A2UKE7GIVC7XFW   AJX9A4Q19UTJU   \n",
       "A105TOJ6LTVMBG  A1NZLRAZJGD99W  A1D27BCSYV7VWH   AVTJEWTCJ3PBE   \n",
       "A10AFVU66A79Y1   A4H4KYSM2KQ85  A2TVH2OBNXYXHV   A84FLVDK2R5JF   \n",
       "A10H24TDLK2VDP  A3SP7T2PZ3HSDE   AO09RWV40IX78  A3J3ZHGDUDPCFL   \n",
       "A10NMELR4KX0J6  A3GX0FAMEXV6FB  A32HSNCNPRUMTR  A1L5TA5UQF7EWE   \n",
       "A10O7THJ2O20AG   AN9CP6J4JF91X   AJEOFP6ZWY0MK  A2HRHF83I3NDGT   \n",
       "A10PEXB6XAQ5XF  A1CMD08Z49PGKQ  A2BLFCOPSMBOZ9  A2CWIYIETNBAK3   \n",
       "A10X9ME6R66JDX   A87N6UTYA6NOB   AZBXKUH4AIW3X  A3HCMJOGRRSAF2   \n",
       "\n",
       "                          top7            top8            top9           top10  \n",
       "user_id                                                                         \n",
       "A100UD67AHFODS   AT53ZTTO707MB  A2XX2A4OJCDNLZ  A33XMCG1UFDSY2  A2YW6XOID7GV6G  \n",
       "A100WO06OQR8BQ  A3D822N1K2IAQD  A2L4ZGN7GZJ95T  A18S2VGUH9SCV5   AXP8GO5Q3AXSA  \n",
       "A105S56ODHGJEK  A2R1HUYHXV7H18  A3J3ZHGDUDPCFL  A1WXG10FJ353K0  A20L63B48RPSOH  \n",
       "A105TOJ6LTVMBG   AAK6SOEJY30YG  A2GKMXRLI7KLFP  A2VCXIAWCPQ13P   AKSFZ4G1AXYFC  \n",
       "A10AFVU66A79Y1  A2UOHALGF2X77Q  A24RCBRDXRXR0Y  A2IFKH3TJ10387  A3JLOIXFM75QNV  \n",
       "A10H24TDLK2VDP  A3QNQQKJTL76H0  A1RL1OTV8IJMVD  A19W47CXJJP1MI  A3LDLV1GWQJLEQ  \n",
       "A10NMELR4KX0J6  A3223W5IROMYTY  A1ZPUEHF4AES86  A17W0GMB0YY83M  A2HV76MYH7UL3S  \n",
       "A10O7THJ2O20AG  A24P4E3RJ6AX94  A28621TSIR5EOG  A1VLE2SH9J8WYS  A2A4X545ERLS7H  \n",
       "A10PEXB6XAQ5XF  A1MCH5RXDOH87H  A28X0LT2100RL1  A1PI8VBCXXSGC7   AJX9A4Q19UTJU  \n",
       "A10X9ME6R66JDX  A3IRA0BHI9NE9U  A19N3S7CBSU6O7  A1L1N3J6XNABO2   AYNAH993VDECT  "
      ]
     },
     "execution_count": 115,
     "metadata": {},
     "output_type": "execute_result"
    }
   ],
   "source": [
    "# Find 10 neighbors of each user\n",
    "user_10_neighbors = find_n_neighbors(user_similarity_df, 10)\n",
    "user_10_neighbors.head(10)"
   ]
  },
  {
   "cell_type": "code",
   "execution_count": 221,
   "metadata": {},
   "outputs": [
    {
     "ename": "MemoryError",
     "evalue": "",
     "output_type": "error",
     "traceback": [
      "\u001b[1;31m---------------------------------------------------------------------------\u001b[0m",
      "\u001b[1;31mMemoryError\u001b[0m                               Traceback (most recent call last)",
      "\u001b[1;32m<ipython-input-221-7e79bfe9d2dd>\u001b[0m in \u001b[0;36m<module>\u001b[1;34m\u001b[0m\n\u001b[0;32m      1\u001b[0m \u001b[1;31m# Find 10 neighbors of each item\u001b[0m\u001b[1;33m\u001b[0m\u001b[1;33m\u001b[0m\u001b[1;33m\u001b[0m\u001b[0m\n\u001b[1;32m----> 2\u001b[1;33m \u001b[0mitem_10_neighbors\u001b[0m \u001b[1;33m=\u001b[0m \u001b[0mfind_n_neighbors\u001b[0m\u001b[1;33m(\u001b[0m\u001b[0mitem_similarity_df\u001b[0m\u001b[1;33m,\u001b[0m \u001b[1;36m10\u001b[0m\u001b[1;33m)\u001b[0m\u001b[1;33m\u001b[0m\u001b[1;33m\u001b[0m\u001b[0m\n\u001b[0m\u001b[0;32m      3\u001b[0m \u001b[0mitem_10_neighbors\u001b[0m\u001b[1;33m.\u001b[0m\u001b[0mhead\u001b[0m\u001b[1;33m(\u001b[0m\u001b[1;36m10\u001b[0m\u001b[1;33m)\u001b[0m\u001b[1;33m\u001b[0m\u001b[1;33m\u001b[0m\u001b[0m\n",
      "\u001b[1;32m<ipython-input-114-92cf2432a1e4>\u001b[0m in \u001b[0;36mfind_n_neighbors\u001b[1;34m(df, n)\u001b[0m\n\u001b[0;32m      1\u001b[0m \u001b[1;31m# Method to find top N neighbors\u001b[0m\u001b[1;33m\u001b[0m\u001b[1;33m\u001b[0m\u001b[1;33m\u001b[0m\u001b[0m\n\u001b[0;32m      2\u001b[0m \u001b[1;32mdef\u001b[0m \u001b[0mfind_n_neighbors\u001b[0m\u001b[1;33m(\u001b[0m\u001b[0mdf\u001b[0m\u001b[1;33m,\u001b[0m\u001b[0mn\u001b[0m\u001b[1;33m)\u001b[0m\u001b[1;33m:\u001b[0m\u001b[1;33m\u001b[0m\u001b[1;33m\u001b[0m\u001b[0m\n\u001b[1;32m----> 3\u001b[1;33m     \u001b[0morder\u001b[0m \u001b[1;33m=\u001b[0m \u001b[0mnp\u001b[0m\u001b[1;33m.\u001b[0m\u001b[0margsort\u001b[0m\u001b[1;33m(\u001b[0m\u001b[0mdf\u001b[0m\u001b[1;33m.\u001b[0m\u001b[0mvalues\u001b[0m\u001b[1;33m,\u001b[0m \u001b[0maxis\u001b[0m\u001b[1;33m=\u001b[0m\u001b[1;36m1\u001b[0m\u001b[1;33m)\u001b[0m\u001b[1;33m[\u001b[0m\u001b[1;33m:\u001b[0m\u001b[1;33m,\u001b[0m \u001b[1;33m:\u001b[0m\u001b[0mn\u001b[0m\u001b[1;33m]\u001b[0m\u001b[1;33m\u001b[0m\u001b[1;33m\u001b[0m\u001b[0m\n\u001b[0m\u001b[0;32m      4\u001b[0m     df = df.apply(axis=1, func=lambda x: pd.Series(x.sort_values(ascending=False).iloc[:n].index,\n\u001b[0;32m      5\u001b[0m                                                    index=['top{}'.format(i) for i in range(1, n+1)]))\n",
      "\u001b[1;32mC:\\Anaconda\\lib\\site-packages\\numpy\\core\\fromnumeric.py\u001b[0m in \u001b[0;36margsort\u001b[1;34m(a, axis, kind, order)\u001b[0m\n\u001b[0;32m   1032\u001b[0m \u001b[1;33m\u001b[0m\u001b[0m\n\u001b[0;32m   1033\u001b[0m     \"\"\"\n\u001b[1;32m-> 1034\u001b[1;33m     \u001b[1;32mreturn\u001b[0m \u001b[0m_wrapfunc\u001b[0m\u001b[1;33m(\u001b[0m\u001b[0ma\u001b[0m\u001b[1;33m,\u001b[0m \u001b[1;34m'argsort'\u001b[0m\u001b[1;33m,\u001b[0m \u001b[0maxis\u001b[0m\u001b[1;33m=\u001b[0m\u001b[0maxis\u001b[0m\u001b[1;33m,\u001b[0m \u001b[0mkind\u001b[0m\u001b[1;33m=\u001b[0m\u001b[0mkind\u001b[0m\u001b[1;33m,\u001b[0m \u001b[0morder\u001b[0m\u001b[1;33m=\u001b[0m\u001b[0morder\u001b[0m\u001b[1;33m)\u001b[0m\u001b[1;33m\u001b[0m\u001b[1;33m\u001b[0m\u001b[0m\n\u001b[0m\u001b[0;32m   1035\u001b[0m \u001b[1;33m\u001b[0m\u001b[0m\n\u001b[0;32m   1036\u001b[0m \u001b[1;33m\u001b[0m\u001b[0m\n",
      "\u001b[1;32mC:\\Anaconda\\lib\\site-packages\\numpy\\core\\fromnumeric.py\u001b[0m in \u001b[0;36m_wrapfunc\u001b[1;34m(obj, method, *args, **kwds)\u001b[0m\n\u001b[0;32m     54\u001b[0m \u001b[1;32mdef\u001b[0m \u001b[0m_wrapfunc\u001b[0m\u001b[1;33m(\u001b[0m\u001b[0mobj\u001b[0m\u001b[1;33m,\u001b[0m \u001b[0mmethod\u001b[0m\u001b[1;33m,\u001b[0m \u001b[1;33m*\u001b[0m\u001b[0margs\u001b[0m\u001b[1;33m,\u001b[0m \u001b[1;33m**\u001b[0m\u001b[0mkwds\u001b[0m\u001b[1;33m)\u001b[0m\u001b[1;33m:\u001b[0m\u001b[1;33m\u001b[0m\u001b[1;33m\u001b[0m\u001b[0m\n\u001b[0;32m     55\u001b[0m     \u001b[1;32mtry\u001b[0m\u001b[1;33m:\u001b[0m\u001b[1;33m\u001b[0m\u001b[1;33m\u001b[0m\u001b[0m\n\u001b[1;32m---> 56\u001b[1;33m         \u001b[1;32mreturn\u001b[0m \u001b[0mgetattr\u001b[0m\u001b[1;33m(\u001b[0m\u001b[0mobj\u001b[0m\u001b[1;33m,\u001b[0m \u001b[0mmethod\u001b[0m\u001b[1;33m)\u001b[0m\u001b[1;33m(\u001b[0m\u001b[1;33m*\u001b[0m\u001b[0margs\u001b[0m\u001b[1;33m,\u001b[0m \u001b[1;33m**\u001b[0m\u001b[0mkwds\u001b[0m\u001b[1;33m)\u001b[0m\u001b[1;33m\u001b[0m\u001b[1;33m\u001b[0m\u001b[0m\n\u001b[0m\u001b[0;32m     57\u001b[0m \u001b[1;33m\u001b[0m\u001b[0m\n\u001b[0;32m     58\u001b[0m     \u001b[1;31m# An AttributeError occurs if the object does not have\u001b[0m\u001b[1;33m\u001b[0m\u001b[1;33m\u001b[0m\u001b[1;33m\u001b[0m\u001b[0m\n",
      "\u001b[1;31mMemoryError\u001b[0m: "
     ]
    }
   ],
   "source": [
    "# Find 10 neighbors of each item\n",
    "item_10_neighbors = find_n_neighbors(item_similarity_df, 10)\n",
    "item_10_neighbors.head(10)"
   ]
  },
  {
   "cell_type": "code",
   "execution_count": 199,
   "metadata": {},
   "outputs": [],
   "source": [
    "def get_users_similar_products(user1, user2):\n",
    "    common_products = r_df[r_df.user_id == user1].merge(\n",
    "    r_df[r_df.user_id == user2],\n",
    "    on = \"prod_id\",\n",
    "    how = \"inner\" )\n",
    "    return common_products[['rating_x', 'rating_y', 'prod_id']].head()"
   ]
  },
  {
   "cell_type": "code",
   "execution_count": 200,
   "metadata": {},
   "outputs": [
    {
     "data": {
      "text/html": [
       "<div>\n",
       "<style scoped>\n",
       "    .dataframe tbody tr th:only-of-type {\n",
       "        vertical-align: middle;\n",
       "    }\n",
       "\n",
       "    .dataframe tbody tr th {\n",
       "        vertical-align: top;\n",
       "    }\n",
       "\n",
       "    .dataframe thead th {\n",
       "        text-align: right;\n",
       "    }\n",
       "</style>\n",
       "<table border=\"1\" class=\"dataframe\">\n",
       "  <thead>\n",
       "    <tr style=\"text-align: right;\">\n",
       "      <th></th>\n",
       "      <th>rating_x</th>\n",
       "      <th>rating_y</th>\n",
       "      <th>prod_id</th>\n",
       "    </tr>\n",
       "  </thead>\n",
       "  <tbody>\n",
       "    <tr>\n",
       "      <th>0</th>\n",
       "      <td>5.0</td>\n",
       "      <td>5.0</td>\n",
       "      <td>B0002KVQBA</td>\n",
       "    </tr>\n",
       "    <tr>\n",
       "      <th>1</th>\n",
       "      <td>3.0</td>\n",
       "      <td>4.0</td>\n",
       "      <td>B002HWRJY4</td>\n",
       "    </tr>\n",
       "    <tr>\n",
       "      <th>2</th>\n",
       "      <td>4.0</td>\n",
       "      <td>5.0</td>\n",
       "      <td>B0071BTJPI</td>\n",
       "    </tr>\n",
       "    <tr>\n",
       "      <th>3</th>\n",
       "      <td>5.0</td>\n",
       "      <td>5.0</td>\n",
       "      <td>B0097BEFYA</td>\n",
       "    </tr>\n",
       "    <tr>\n",
       "      <th>4</th>\n",
       "      <td>5.0</td>\n",
       "      <td>5.0</td>\n",
       "      <td>B00A83I8G2</td>\n",
       "    </tr>\n",
       "  </tbody>\n",
       "</table>\n",
       "</div>"
      ],
      "text/plain": [
       "   rating_x  rating_y     prod_id\n",
       "0       5.0       5.0  B0002KVQBA\n",
       "1       3.0       4.0  B002HWRJY4\n",
       "2       4.0       5.0  B0071BTJPI\n",
       "3       5.0       5.0  B0097BEFYA\n",
       "4       5.0       5.0  B00A83I8G2"
      ]
     },
     "execution_count": 200,
     "metadata": {},
     "output_type": "execute_result"
    }
   ],
   "source": [
    "# Check the similarity of two users\n",
    "get_users_similar_products('A100UD67AHFODS', 'A2FZQF0MH29VYN')"
   ]
  },
  {
   "cell_type": "raw",
   "metadata": {},
   "source": [
    "Observation - \n",
    "the test on 2 users show alomost similar ratings for products "
   ]
  },
  {
   "cell_type": "code",
   "execution_count": 216,
   "metadata": {},
   "outputs": [],
   "source": [
    "# Method to predict the rating\n",
    "def predict(r_df, similarity, type='user'):\n",
    "    if type == 'user':\n",
    "        mean_user_rating = r_df.mean(axis=1)\n",
    "        #We use np.newaxis so that mean_user_rating has same format as ratings\n",
    "        ratings_diff = (r_df - mean_user_rating[:, np.newaxis])\n",
    "        pred = mean_user_rating[:, np.newaxis] + similarity.dot(ratings_diff) / np.array([np.abs(similarity).sum(axis=1)]).T\n",
    "    elif type == 'item':\n",
    "        pred = r_df.dot(similarity) / np.array([np.abs(similarity).sum(axis=1)])\n",
    "    return pred"
   ]
  },
  {
   "cell_type": "code",
   "execution_count": 217,
   "metadata": {},
   "outputs": [
    {
     "data": {
      "text/html": [
       "<div>\n",
       "<style scoped>\n",
       "    .dataframe tbody tr th:only-of-type {\n",
       "        vertical-align: middle;\n",
       "    }\n",
       "\n",
       "    .dataframe tbody tr th {\n",
       "        vertical-align: top;\n",
       "    }\n",
       "\n",
       "    .dataframe thead th {\n",
       "        text-align: right;\n",
       "    }\n",
       "</style>\n",
       "<table border=\"1\" class=\"dataframe\">\n",
       "  <thead>\n",
       "    <tr style=\"text-align: right;\">\n",
       "      <th>prod_id</th>\n",
       "      <th>0594451647</th>\n",
       "      <th>0594481813</th>\n",
       "      <th>0970407998</th>\n",
       "      <th>0972683275</th>\n",
       "      <th>1400501466</th>\n",
       "      <th>1400501520</th>\n",
       "      <th>1400501776</th>\n",
       "      <th>1400532620</th>\n",
       "      <th>1400532655</th>\n",
       "      <th>140053271X</th>\n",
       "      <th>...</th>\n",
       "      <th>B00L5YZCCG</th>\n",
       "      <th>B00L8I6SFY</th>\n",
       "      <th>B00L8QCVL6</th>\n",
       "      <th>B00LA6T0LS</th>\n",
       "      <th>B00LBZ1Z7K</th>\n",
       "      <th>B00LED02VY</th>\n",
       "      <th>B00LGN7Y3G</th>\n",
       "      <th>B00LGQ6HL8</th>\n",
       "      <th>B00LI4ZZO8</th>\n",
       "      <th>B00LKG1MC8</th>\n",
       "    </tr>\n",
       "    <tr>\n",
       "      <th>user_id</th>\n",
       "      <th></th>\n",
       "      <th></th>\n",
       "      <th></th>\n",
       "      <th></th>\n",
       "      <th></th>\n",
       "      <th></th>\n",
       "      <th></th>\n",
       "      <th></th>\n",
       "      <th></th>\n",
       "      <th></th>\n",
       "      <th></th>\n",
       "      <th></th>\n",
       "      <th></th>\n",
       "      <th></th>\n",
       "      <th></th>\n",
       "      <th></th>\n",
       "      <th></th>\n",
       "      <th></th>\n",
       "      <th></th>\n",
       "      <th></th>\n",
       "      <th></th>\n",
       "    </tr>\n",
       "  </thead>\n",
       "  <tbody>\n",
       "    <tr>\n",
       "      <th>A100UD67AHFODS</th>\n",
       "      <td>0.017154</td>\n",
       "      <td>0.002092</td>\n",
       "      <td>0.005845</td>\n",
       "      <td>0.012278</td>\n",
       "      <td>0.014030</td>\n",
       "      <td>0.006465</td>\n",
       "      <td>0.009676</td>\n",
       "      <td>0.002092</td>\n",
       "      <td>0.032189</td>\n",
       "      <td>0.005590</td>\n",
       "      <td>...</td>\n",
       "      <td>0.002092</td>\n",
       "      <td>0.014658</td>\n",
       "      <td>0.008514</td>\n",
       "      <td>0.018092</td>\n",
       "      <td>0.012563</td>\n",
       "      <td>0.021400</td>\n",
       "      <td>0.002092</td>\n",
       "      <td>0.038177</td>\n",
       "      <td>0.024648</td>\n",
       "      <td>0.002092</td>\n",
       "    </tr>\n",
       "    <tr>\n",
       "      <th>A100WO06OQR8BQ</th>\n",
       "      <td>0.005774</td>\n",
       "      <td>0.001983</td>\n",
       "      <td>0.003865</td>\n",
       "      <td>0.021469</td>\n",
       "      <td>0.009333</td>\n",
       "      <td>0.005914</td>\n",
       "      <td>0.018734</td>\n",
       "      <td>0.001983</td>\n",
       "      <td>0.010705</td>\n",
       "      <td>0.005128</td>\n",
       "      <td>...</td>\n",
       "      <td>0.001983</td>\n",
       "      <td>0.018813</td>\n",
       "      <td>0.002330</td>\n",
       "      <td>0.008683</td>\n",
       "      <td>0.005423</td>\n",
       "      <td>0.001983</td>\n",
       "      <td>0.009109</td>\n",
       "      <td>0.014147</td>\n",
       "      <td>0.006278</td>\n",
       "      <td>0.004292</td>\n",
       "    </tr>\n",
       "    <tr>\n",
       "      <th>A105S56ODHGJEK</th>\n",
       "      <td>-0.002657</td>\n",
       "      <td>-0.002657</td>\n",
       "      <td>-0.001407</td>\n",
       "      <td>0.003031</td>\n",
       "      <td>0.003396</td>\n",
       "      <td>-0.002657</td>\n",
       "      <td>-0.000892</td>\n",
       "      <td>-0.000457</td>\n",
       "      <td>0.002892</td>\n",
       "      <td>-0.001567</td>\n",
       "      <td>...</td>\n",
       "      <td>-0.002657</td>\n",
       "      <td>0.005638</td>\n",
       "      <td>-0.002657</td>\n",
       "      <td>0.000028</td>\n",
       "      <td>0.004927</td>\n",
       "      <td>-0.002657</td>\n",
       "      <td>-0.002657</td>\n",
       "      <td>0.020487</td>\n",
       "      <td>-0.002657</td>\n",
       "      <td>0.001107</td>\n",
       "    </tr>\n",
       "    <tr>\n",
       "      <th>A105TOJ6LTVMBG</th>\n",
       "      <td>-0.001967</td>\n",
       "      <td>0.001565</td>\n",
       "      <td>0.000717</td>\n",
       "      <td>0.014854</td>\n",
       "      <td>0.005874</td>\n",
       "      <td>-0.001967</td>\n",
       "      <td>-0.001967</td>\n",
       "      <td>-0.001967</td>\n",
       "      <td>0.011245</td>\n",
       "      <td>-0.001967</td>\n",
       "      <td>...</td>\n",
       "      <td>-0.001967</td>\n",
       "      <td>-0.001967</td>\n",
       "      <td>-0.001967</td>\n",
       "      <td>-0.001967</td>\n",
       "      <td>0.000626</td>\n",
       "      <td>0.008226</td>\n",
       "      <td>-0.001967</td>\n",
       "      <td>0.010419</td>\n",
       "      <td>0.003234</td>\n",
       "      <td>-0.001967</td>\n",
       "    </tr>\n",
       "    <tr>\n",
       "      <th>A10AFVU66A79Y1</th>\n",
       "      <td>-0.002555</td>\n",
       "      <td>-0.002555</td>\n",
       "      <td>0.005432</td>\n",
       "      <td>0.010272</td>\n",
       "      <td>0.010011</td>\n",
       "      <td>0.003465</td>\n",
       "      <td>0.006450</td>\n",
       "      <td>-0.002416</td>\n",
       "      <td>0.004098</td>\n",
       "      <td>0.003900</td>\n",
       "      <td>...</td>\n",
       "      <td>-0.002555</td>\n",
       "      <td>0.012187</td>\n",
       "      <td>0.004077</td>\n",
       "      <td>0.000329</td>\n",
       "      <td>-0.000589</td>\n",
       "      <td>-0.002555</td>\n",
       "      <td>-0.002555</td>\n",
       "      <td>0.012920</td>\n",
       "      <td>0.004188</td>\n",
       "      <td>-0.002555</td>\n",
       "    </tr>\n",
       "  </tbody>\n",
       "</table>\n",
       "<p>5 rows × 48190 columns</p>\n",
       "</div>"
      ],
      "text/plain": [
       "prod_id         0594451647  0594481813  0970407998  0972683275  1400501466  \\\n",
       "user_id                                                                      \n",
       "A100UD67AHFODS    0.017154    0.002092    0.005845    0.012278    0.014030   \n",
       "A100WO06OQR8BQ    0.005774    0.001983    0.003865    0.021469    0.009333   \n",
       "A105S56ODHGJEK   -0.002657   -0.002657   -0.001407    0.003031    0.003396   \n",
       "A105TOJ6LTVMBG   -0.001967    0.001565    0.000717    0.014854    0.005874   \n",
       "A10AFVU66A79Y1   -0.002555   -0.002555    0.005432    0.010272    0.010011   \n",
       "\n",
       "prod_id         1400501520  1400501776  1400532620  1400532655  140053271X  \\\n",
       "user_id                                                                      \n",
       "A100UD67AHFODS    0.006465    0.009676    0.002092    0.032189    0.005590   \n",
       "A100WO06OQR8BQ    0.005914    0.018734    0.001983    0.010705    0.005128   \n",
       "A105S56ODHGJEK   -0.002657   -0.000892   -0.000457    0.002892   -0.001567   \n",
       "A105TOJ6LTVMBG   -0.001967   -0.001967   -0.001967    0.011245   -0.001967   \n",
       "A10AFVU66A79Y1    0.003465    0.006450   -0.002416    0.004098    0.003900   \n",
       "\n",
       "prod_id         ...  B00L5YZCCG  B00L8I6SFY  B00L8QCVL6  B00LA6T0LS  \\\n",
       "user_id         ...                                                   \n",
       "A100UD67AHFODS  ...    0.002092    0.014658    0.008514    0.018092   \n",
       "A100WO06OQR8BQ  ...    0.001983    0.018813    0.002330    0.008683   \n",
       "A105S56ODHGJEK  ...   -0.002657    0.005638   -0.002657    0.000028   \n",
       "A105TOJ6LTVMBG  ...   -0.001967   -0.001967   -0.001967   -0.001967   \n",
       "A10AFVU66A79Y1  ...   -0.002555    0.012187    0.004077    0.000329   \n",
       "\n",
       "prod_id         B00LBZ1Z7K  B00LED02VY  B00LGN7Y3G  B00LGQ6HL8  B00LI4ZZO8  \\\n",
       "user_id                                                                      \n",
       "A100UD67AHFODS    0.012563    0.021400    0.002092    0.038177    0.024648   \n",
       "A100WO06OQR8BQ    0.005423    0.001983    0.009109    0.014147    0.006278   \n",
       "A105S56ODHGJEK    0.004927   -0.002657   -0.002657    0.020487   -0.002657   \n",
       "A105TOJ6LTVMBG    0.000626    0.008226   -0.001967    0.010419    0.003234   \n",
       "A10AFVU66A79Y1   -0.000589   -0.002555   -0.002555    0.012920    0.004188   \n",
       "\n",
       "prod_id         B00LKG1MC8  \n",
       "user_id                     \n",
       "A100UD67AHFODS    0.002092  \n",
       "A100WO06OQR8BQ    0.004292  \n",
       "A105S56ODHGJEK    0.001107  \n",
       "A105TOJ6LTVMBG   -0.001967  \n",
       "A10AFVU66A79Y1   -0.002555  \n",
       "\n",
       "[5 rows x 48190 columns]"
      ]
     },
     "execution_count": 217,
     "metadata": {},
     "output_type": "execute_result"
    }
   ],
   "source": [
    "\n",
    "# Predict the ratings for both UBCF and IBCF\n",
    "st=time()\n",
    "user_prediction = predict(user_item, user_similarity, type='user')\n",
    "user_prediction = pd.DataFrame(user_prediction, index=user_item.index, columns=user_item.columns)\n",
    "user_prediction.head()\n",
    "\n"
   ]
  },
  {
   "cell_type": "code",
   "execution_count": 222,
   "metadata": {},
   "outputs": [
    {
     "ename": "MemoryError",
     "evalue": "",
     "output_type": "error",
     "traceback": [
      "\u001b[1;31m---------------------------------------------------------------------------\u001b[0m",
      "\u001b[1;31mMemoryError\u001b[0m                               Traceback (most recent call last)",
      "\u001b[1;32m<ipython-input-222-ed2e205bdf01>\u001b[0m in \u001b[0;36m<module>\u001b[1;34m\u001b[0m\n\u001b[1;32m----> 1\u001b[1;33m \u001b[0mitem_prediction\u001b[0m \u001b[1;33m=\u001b[0m \u001b[0mpredict\u001b[0m\u001b[1;33m(\u001b[0m\u001b[0muser_item\u001b[0m\u001b[1;33m,\u001b[0m \u001b[0mitem_similarity\u001b[0m\u001b[1;33m,\u001b[0m \u001b[0mtype\u001b[0m\u001b[1;33m=\u001b[0m\u001b[1;34m'item'\u001b[0m\u001b[1;33m)\u001b[0m\u001b[1;33m\u001b[0m\u001b[1;33m\u001b[0m\u001b[0m\n\u001b[0m\u001b[0;32m      2\u001b[0m \u001b[1;31m# Commenting out following 2 lines as it throws MemoryError due to the high sparsity\u001b[0m\u001b[1;33m\u001b[0m\u001b[1;33m\u001b[0m\u001b[1;33m\u001b[0m\u001b[0m\n\u001b[0;32m      3\u001b[0m \u001b[1;31m#item_prediction = pd.DataFrame(item_prediction, index=item_user.index, columns=item_user.columns)\u001b[0m\u001b[1;33m\u001b[0m\u001b[1;33m\u001b[0m\u001b[1;33m\u001b[0m\u001b[0m\n\u001b[0;32m      4\u001b[0m \u001b[1;31m#item_prediction.head()\u001b[0m\u001b[1;33m\u001b[0m\u001b[1;33m\u001b[0m\u001b[1;33m\u001b[0m\u001b[0m\n\u001b[0;32m      5\u001b[0m \u001b[1;31m#print('Time taken %.2fs to find out the user and item prediction' % (time()-st))\u001b[0m\u001b[1;33m\u001b[0m\u001b[1;33m\u001b[0m\u001b[1;33m\u001b[0m\u001b[0m\n",
      "\u001b[1;32m<ipython-input-216-89e7bfcc93d8>\u001b[0m in \u001b[0;36mpredict\u001b[1;34m(r_df, similarity, type)\u001b[0m\n\u001b[0;32m      7\u001b[0m         \u001b[0mpred\u001b[0m \u001b[1;33m=\u001b[0m \u001b[0mmean_user_rating\u001b[0m\u001b[1;33m[\u001b[0m\u001b[1;33m:\u001b[0m\u001b[1;33m,\u001b[0m \u001b[0mnp\u001b[0m\u001b[1;33m.\u001b[0m\u001b[0mnewaxis\u001b[0m\u001b[1;33m]\u001b[0m \u001b[1;33m+\u001b[0m \u001b[0msimilarity\u001b[0m\u001b[1;33m.\u001b[0m\u001b[0mdot\u001b[0m\u001b[1;33m(\u001b[0m\u001b[0mratings_diff\u001b[0m\u001b[1;33m)\u001b[0m \u001b[1;33m/\u001b[0m \u001b[0mnp\u001b[0m\u001b[1;33m.\u001b[0m\u001b[0marray\u001b[0m\u001b[1;33m(\u001b[0m\u001b[1;33m[\u001b[0m\u001b[0mnp\u001b[0m\u001b[1;33m.\u001b[0m\u001b[0mabs\u001b[0m\u001b[1;33m(\u001b[0m\u001b[0msimilarity\u001b[0m\u001b[1;33m)\u001b[0m\u001b[1;33m.\u001b[0m\u001b[0msum\u001b[0m\u001b[1;33m(\u001b[0m\u001b[0maxis\u001b[0m\u001b[1;33m=\u001b[0m\u001b[1;36m1\u001b[0m\u001b[1;33m)\u001b[0m\u001b[1;33m]\u001b[0m\u001b[1;33m)\u001b[0m\u001b[1;33m.\u001b[0m\u001b[0mT\u001b[0m\u001b[1;33m\u001b[0m\u001b[1;33m\u001b[0m\u001b[0m\n\u001b[0;32m      8\u001b[0m     \u001b[1;32melif\u001b[0m \u001b[0mtype\u001b[0m \u001b[1;33m==\u001b[0m \u001b[1;34m'item'\u001b[0m\u001b[1;33m:\u001b[0m\u001b[1;33m\u001b[0m\u001b[1;33m\u001b[0m\u001b[0m\n\u001b[1;32m----> 9\u001b[1;33m         \u001b[0mpred\u001b[0m \u001b[1;33m=\u001b[0m \u001b[0mr_df\u001b[0m\u001b[1;33m.\u001b[0m\u001b[0mdot\u001b[0m\u001b[1;33m(\u001b[0m\u001b[0msimilarity\u001b[0m\u001b[1;33m)\u001b[0m \u001b[1;33m/\u001b[0m \u001b[0mnp\u001b[0m\u001b[1;33m.\u001b[0m\u001b[0marray\u001b[0m\u001b[1;33m(\u001b[0m\u001b[1;33m[\u001b[0m\u001b[0mnp\u001b[0m\u001b[1;33m.\u001b[0m\u001b[0mabs\u001b[0m\u001b[1;33m(\u001b[0m\u001b[0msimilarity\u001b[0m\u001b[1;33m)\u001b[0m\u001b[1;33m.\u001b[0m\u001b[0msum\u001b[0m\u001b[1;33m(\u001b[0m\u001b[0maxis\u001b[0m\u001b[1;33m=\u001b[0m\u001b[1;36m1\u001b[0m\u001b[1;33m)\u001b[0m\u001b[1;33m]\u001b[0m\u001b[1;33m)\u001b[0m\u001b[1;33m\u001b[0m\u001b[1;33m\u001b[0m\u001b[0m\n\u001b[0m\u001b[0;32m     10\u001b[0m     \u001b[1;32mreturn\u001b[0m \u001b[0mpred\u001b[0m\u001b[1;33m\u001b[0m\u001b[1;33m\u001b[0m\u001b[0m\n",
      "\u001b[1;31mMemoryError\u001b[0m: "
     ]
    }
   ],
   "source": [
    "item_prediction = predict(user_item, item_similarity, type='item')\n",
    "# Commenting out following 2 lines as it throws MemoryError due to the high sparsity\n",
    "#item_prediction = pd.DataFrame(item_prediction, index=item_user.index, columns=item_user.columns)\n",
    "#item_prediction.head()\n",
    "#print('Time taken %.2fs to find out the user and item prediction' % (time()-st))"
   ]
  },
  {
   "cell_type": "code",
   "execution_count": 204,
   "metadata": {},
   "outputs": [],
   "source": [
    "\n",
    "# Method to Recommend the items with the highest predicted ratings\n",
    "def recommend_items(user_id, orig_df, preds_df, top_n):\n",
    "    # Get and sort the user's ratings\n",
    "    sorted_user_ratings = orig_df.loc[user_id].sort_values(ascending=False) #sorted_user_ratings\n",
    "    sorted_user_predictions = preds_df.loc[user_id].sort_values(ascending=False) #sorted_user_predictions\n",
    "\n",
    "    # Prepare recommendations\n",
    "    recommedations = pd.concat([sorted_user_ratings, sorted_user_predictions], axis=1)\n",
    "    recommedations.index.name = 'Recommended Items'\n",
    "    recommedations.columns = ['user_ratings', 'user_predictions']\n",
    "    \n",
    "    # Take the products which user has NOT rated\n",
    "    recommedations = recommedations.loc[recommedations.user_ratings == 0] \n",
    "    recommedations = recommedations.sort_values('user_predictions', ascending=False)\n",
    "    return recommedations.head(top_n)"
   ]
  },
  {
   "cell_type": "code",
   "execution_count": 205,
   "metadata": {
    "scrolled": true
   },
   "outputs": [
    {
     "name": "stdout",
     "output_type": "stream",
     "text": [
      "Top 6 recommendations for the user_id: A100UD67AHFODS\n"
     ]
    },
    {
     "name": "stderr",
     "output_type": "stream",
     "text": [
      "C:\\Anaconda\\lib\\site-packages\\ipykernel_launcher.py:9: FutureWarning: Sorting because non-concatenation axis is not aligned. A future version\n",
      "of pandas will change to not sort by default.\n",
      "\n",
      "To accept the future behavior, pass 'sort=False'.\n",
      "\n",
      "To retain the current behavior and silence the warning, pass 'sort=True'.\n",
      "\n",
      "  if __name__ == '__main__':\n"
     ]
    },
    {
     "data": {
      "text/html": [
       "<div>\n",
       "<style scoped>\n",
       "    .dataframe tbody tr th:only-of-type {\n",
       "        vertical-align: middle;\n",
       "    }\n",
       "\n",
       "    .dataframe tbody tr th {\n",
       "        vertical-align: top;\n",
       "    }\n",
       "\n",
       "    .dataframe thead th {\n",
       "        text-align: right;\n",
       "    }\n",
       "</style>\n",
       "<table border=\"1\" class=\"dataframe\">\n",
       "  <thead>\n",
       "    <tr style=\"text-align: right;\">\n",
       "      <th></th>\n",
       "      <th>user_ratings</th>\n",
       "      <th>user_predictions</th>\n",
       "    </tr>\n",
       "    <tr>\n",
       "      <th>Recommended Items</th>\n",
       "      <th></th>\n",
       "      <th></th>\n",
       "    </tr>\n",
       "  </thead>\n",
       "  <tbody>\n",
       "    <tr>\n",
       "      <th>B003ES5ZUU</th>\n",
       "      <td>0.0</td>\n",
       "      <td>0.873249</td>\n",
       "    </tr>\n",
       "    <tr>\n",
       "      <th>B007WTAJTO</th>\n",
       "      <td>0.0</td>\n",
       "      <td>0.684484</td>\n",
       "    </tr>\n",
       "    <tr>\n",
       "      <th>B0088CJT4U</th>\n",
       "      <td>0.0</td>\n",
       "      <td>0.509175</td>\n",
       "    </tr>\n",
       "    <tr>\n",
       "      <th>B00G4UQ6U8</th>\n",
       "      <td>0.0</td>\n",
       "      <td>0.485093</td>\n",
       "    </tr>\n",
       "    <tr>\n",
       "      <th>B002V88HFE</th>\n",
       "      <td>0.0</td>\n",
       "      <td>0.463316</td>\n",
       "    </tr>\n",
       "    <tr>\n",
       "      <th>B00829THK0</th>\n",
       "      <td>0.0</td>\n",
       "      <td>0.462261</td>\n",
       "    </tr>\n",
       "  </tbody>\n",
       "</table>\n",
       "</div>"
      ],
      "text/plain": [
       "                   user_ratings  user_predictions\n",
       "Recommended Items                                \n",
       "B003ES5ZUU                  0.0          0.873249\n",
       "B007WTAJTO                  0.0          0.684484\n",
       "B0088CJT4U                  0.0          0.509175\n",
       "B00G4UQ6U8                  0.0          0.485093\n",
       "B002V88HFE                  0.0          0.463316\n",
       "B00829THK0                  0.0          0.462261"
      ]
     },
     "execution_count": 205,
     "metadata": {},
     "output_type": "execute_result"
    },
    {
     "name": "stdout",
     "output_type": "stream",
     "text": [
      "\n",
      "\n",
      "Top 3 recommendations for the user_id: A100WO06OQR8BQ\n"
     ]
    },
    {
     "name": "stderr",
     "output_type": "stream",
     "text": [
      "C:\\Anaconda\\lib\\site-packages\\ipykernel_launcher.py:9: FutureWarning: Sorting because non-concatenation axis is not aligned. A future version\n",
      "of pandas will change to not sort by default.\n",
      "\n",
      "To accept the future behavior, pass 'sort=False'.\n",
      "\n",
      "To retain the current behavior and silence the warning, pass 'sort=True'.\n",
      "\n",
      "  if __name__ == '__main__':\n"
     ]
    },
    {
     "data": {
      "text/html": [
       "<div>\n",
       "<style scoped>\n",
       "    .dataframe tbody tr th:only-of-type {\n",
       "        vertical-align: middle;\n",
       "    }\n",
       "\n",
       "    .dataframe tbody tr th {\n",
       "        vertical-align: top;\n",
       "    }\n",
       "\n",
       "    .dataframe thead th {\n",
       "        text-align: right;\n",
       "    }\n",
       "</style>\n",
       "<table border=\"1\" class=\"dataframe\">\n",
       "  <thead>\n",
       "    <tr style=\"text-align: right;\">\n",
       "      <th></th>\n",
       "      <th>user_ratings</th>\n",
       "      <th>user_predictions</th>\n",
       "    </tr>\n",
       "    <tr>\n",
       "      <th>Recommended Items</th>\n",
       "      <th></th>\n",
       "      <th></th>\n",
       "    </tr>\n",
       "  </thead>\n",
       "  <tbody>\n",
       "    <tr>\n",
       "      <th>B000N99BBC</th>\n",
       "      <td>0.0</td>\n",
       "      <td>0.883033</td>\n",
       "    </tr>\n",
       "    <tr>\n",
       "      <th>B00829TIEK</th>\n",
       "      <td>0.0</td>\n",
       "      <td>0.749101</td>\n",
       "    </tr>\n",
       "    <tr>\n",
       "      <th>B004CLYEDC</th>\n",
       "      <td>0.0</td>\n",
       "      <td>0.729534</td>\n",
       "    </tr>\n",
       "  </tbody>\n",
       "</table>\n",
       "</div>"
      ],
      "text/plain": [
       "                   user_ratings  user_predictions\n",
       "Recommended Items                                \n",
       "B000N99BBC                  0.0          0.883033\n",
       "B00829TIEK                  0.0          0.749101\n",
       "B004CLYEDC                  0.0          0.729534"
      ]
     },
     "execution_count": 205,
     "metadata": {},
     "output_type": "execute_result"
    },
    {
     "name": "stdout",
     "output_type": "stream",
     "text": [
      "\n",
      "\n",
      "Top 8 recommendations for the user_id: A105S56ODHGJEK\n"
     ]
    },
    {
     "name": "stderr",
     "output_type": "stream",
     "text": [
      "C:\\Anaconda\\lib\\site-packages\\ipykernel_launcher.py:9: FutureWarning: Sorting because non-concatenation axis is not aligned. A future version\n",
      "of pandas will change to not sort by default.\n",
      "\n",
      "To accept the future behavior, pass 'sort=False'.\n",
      "\n",
      "To retain the current behavior and silence the warning, pass 'sort=True'.\n",
      "\n",
      "  if __name__ == '__main__':\n"
     ]
    },
    {
     "data": {
      "text/html": [
       "<div>\n",
       "<style scoped>\n",
       "    .dataframe tbody tr th:only-of-type {\n",
       "        vertical-align: middle;\n",
       "    }\n",
       "\n",
       "    .dataframe tbody tr th {\n",
       "        vertical-align: top;\n",
       "    }\n",
       "\n",
       "    .dataframe thead th {\n",
       "        text-align: right;\n",
       "    }\n",
       "</style>\n",
       "<table border=\"1\" class=\"dataframe\">\n",
       "  <thead>\n",
       "    <tr style=\"text-align: right;\">\n",
       "      <th></th>\n",
       "      <th>user_ratings</th>\n",
       "      <th>user_predictions</th>\n",
       "    </tr>\n",
       "    <tr>\n",
       "      <th>Recommended Items</th>\n",
       "      <th></th>\n",
       "      <th></th>\n",
       "    </tr>\n",
       "  </thead>\n",
       "  <tbody>\n",
       "    <tr>\n",
       "      <th>B0088CJT4U</th>\n",
       "      <td>0.0</td>\n",
       "      <td>1.343072</td>\n",
       "    </tr>\n",
       "    <tr>\n",
       "      <th>B00829THK0</th>\n",
       "      <td>0.0</td>\n",
       "      <td>0.884969</td>\n",
       "    </tr>\n",
       "    <tr>\n",
       "      <th>B002R5AM7C</th>\n",
       "      <td>0.0</td>\n",
       "      <td>0.844498</td>\n",
       "    </tr>\n",
       "    <tr>\n",
       "      <th>B004CLYEDC</th>\n",
       "      <td>0.0</td>\n",
       "      <td>0.836300</td>\n",
       "    </tr>\n",
       "    <tr>\n",
       "      <th>B004CLYEFK</th>\n",
       "      <td>0.0</td>\n",
       "      <td>0.792145</td>\n",
       "    </tr>\n",
       "    <tr>\n",
       "      <th>B004T9RR6I</th>\n",
       "      <td>0.0</td>\n",
       "      <td>0.661622</td>\n",
       "    </tr>\n",
       "    <tr>\n",
       "      <th>B003ES5ZUU</th>\n",
       "      <td>0.0</td>\n",
       "      <td>0.615857</td>\n",
       "    </tr>\n",
       "    <tr>\n",
       "      <th>B00834SJNA</th>\n",
       "      <td>0.0</td>\n",
       "      <td>0.606862</td>\n",
       "    </tr>\n",
       "  </tbody>\n",
       "</table>\n",
       "</div>"
      ],
      "text/plain": [
       "                   user_ratings  user_predictions\n",
       "Recommended Items                                \n",
       "B0088CJT4U                  0.0          1.343072\n",
       "B00829THK0                  0.0          0.884969\n",
       "B002R5AM7C                  0.0          0.844498\n",
       "B004CLYEDC                  0.0          0.836300\n",
       "B004CLYEFK                  0.0          0.792145\n",
       "B004T9RR6I                  0.0          0.661622\n",
       "B003ES5ZUU                  0.0          0.615857\n",
       "B00834SJNA                  0.0          0.606862"
      ]
     },
     "execution_count": 205,
     "metadata": {},
     "output_type": "execute_result"
    },
    {
     "name": "stdout",
     "output_type": "stream",
     "text": [
      "\n",
      "\n"
     ]
    }
   ],
   "source": [
    "# Find recommendation for couple of users using UBCF\n",
    "find_recom = {'A100UD67AHFODS': 6, \n",
    "              'A100WO06OQR8BQ': 3, \n",
    "              'A105S56ODHGJEK': 8}   # This list is user, top_n recommendation dict.\n",
    "for user in find_recom:\n",
    "    print(\"Top %d recommendations for the user_id: %s\" %(find_recom[user],user))\n",
    "    recommend_items(user, user_item, user_prediction, find_recom[user])\n",
    "    print(\"\\n\")"
   ]
  },
  {
   "cell_type": "raw",
   "metadata": {},
   "source": [
    "Observations:\n",
    "\n",
    "- Unlike popularity model, the recommendations are personalized here as indicated by the different set of recommendations for different users based on their likings.\n",
    "- It is taking too long to calculate the item-item similarity as the item base is pretty huge than the user base."
   ]
  },
  {
   "cell_type": "raw",
   "metadata": {},
   "source": [
    "2. Singular Value Decomposition (SVD)"
   ]
  },
  {
   "cell_type": "code",
   "execution_count": 125,
   "metadata": {},
   "outputs": [
    {
     "data": {
      "text/plain": [
       "[0.002, 0.002, 0.001]"
      ]
     },
     "execution_count": 125,
     "metadata": {},
     "output_type": "execute_result"
    }
   ],
   "source": [
    "# Trying out different latent factors\n",
    "svd_list = [svds(user_item, k=k) for k in [100,250,500]]\n",
    "pred_list = [pd.DataFrame(np.dot(np.dot(svd[0], np.diag(svd[1])), svd[2]), \n",
    "                          index=user_item.index, \n",
    "                          columns=user_item.columns) for svd in svd_list]\n",
    "RMSE_list = [round((((user_item.mean() - pred.mean()) ** 2).mean() ** 0.5), 3) for pred in pred_list]\n",
    "RMSE_list"
   ]
  },
  {
   "cell_type": "code",
   "execution_count": 126,
   "metadata": {},
   "outputs": [],
   "source": [
    "# Singular Value Decomposition\n",
    "U, sigma, Vt = svds(user_item, k=50)\n",
    "# Construct diagonal array in SVD\n",
    "sigma = np.diag(sigma)"
   ]
  },
  {
   "cell_type": "code",
   "execution_count": 127,
   "metadata": {},
   "outputs": [
    {
     "name": "stdout",
     "output_type": "stream",
     "text": [
      "Shape of the Left Singular matrix          : (1540, 50)\n",
      "Shape of the Latent Factor Diagonal matrix : (50, 50)\n",
      "Shape of the Right Singular matrix         : (50, 48190)\n"
     ]
    },
    {
     "data": {
      "text/plain": [
       "((1540, 50), (50, 50), (50, 48190))"
      ]
     },
     "execution_count": 127,
     "metadata": {},
     "output_type": "execute_result"
    }
   ],
   "source": [
    "# Print the shape of the decomposed matrices\n",
    "print('Shape of the Left Singular matrix          :', U.shape)\n",
    "print('Shape of the Latent Factor Diagonal matrix :', sigma.shape)\n",
    "print('Shape of the Right Singular matrix         :', Vt.shape)\n",
    "U.shape, sigma.shape, Vt.shape"
   ]
  },
  {
   "cell_type": "code",
   "execution_count": 128,
   "metadata": {},
   "outputs": [
    {
     "data": {
      "text/html": [
       "<div>\n",
       "<style scoped>\n",
       "    .dataframe tbody tr th:only-of-type {\n",
       "        vertical-align: middle;\n",
       "    }\n",
       "\n",
       "    .dataframe tbody tr th {\n",
       "        vertical-align: top;\n",
       "    }\n",
       "\n",
       "    .dataframe thead th {\n",
       "        text-align: right;\n",
       "    }\n",
       "</style>\n",
       "<table border=\"1\" class=\"dataframe\">\n",
       "  <thead>\n",
       "    <tr style=\"text-align: right;\">\n",
       "      <th>prod_id</th>\n",
       "      <th>0594451647</th>\n",
       "      <th>0594481813</th>\n",
       "      <th>0970407998</th>\n",
       "      <th>0972683275</th>\n",
       "      <th>1400501466</th>\n",
       "      <th>1400501520</th>\n",
       "      <th>1400501776</th>\n",
       "      <th>1400532620</th>\n",
       "      <th>1400532655</th>\n",
       "      <th>140053271X</th>\n",
       "      <th>...</th>\n",
       "      <th>B00L5YZCCG</th>\n",
       "      <th>B00L8I6SFY</th>\n",
       "      <th>B00L8QCVL6</th>\n",
       "      <th>B00LA6T0LS</th>\n",
       "      <th>B00LBZ1Z7K</th>\n",
       "      <th>B00LED02VY</th>\n",
       "      <th>B00LGN7Y3G</th>\n",
       "      <th>B00LGQ6HL8</th>\n",
       "      <th>B00LI4ZZO8</th>\n",
       "      <th>B00LKG1MC8</th>\n",
       "    </tr>\n",
       "    <tr>\n",
       "      <th>user_id</th>\n",
       "      <th></th>\n",
       "      <th></th>\n",
       "      <th></th>\n",
       "      <th></th>\n",
       "      <th></th>\n",
       "      <th></th>\n",
       "      <th></th>\n",
       "      <th></th>\n",
       "      <th></th>\n",
       "      <th></th>\n",
       "      <th></th>\n",
       "      <th></th>\n",
       "      <th></th>\n",
       "      <th></th>\n",
       "      <th></th>\n",
       "      <th></th>\n",
       "      <th></th>\n",
       "      <th></th>\n",
       "      <th></th>\n",
       "      <th></th>\n",
       "      <th></th>\n",
       "    </tr>\n",
       "  </thead>\n",
       "  <tbody>\n",
       "    <tr>\n",
       "      <th>A100UD67AHFODS</th>\n",
       "      <td>0.005086</td>\n",
       "      <td>0.002178</td>\n",
       "      <td>0.003668</td>\n",
       "      <td>-0.040843</td>\n",
       "      <td>0.009640</td>\n",
       "      <td>0.006808</td>\n",
       "      <td>0.020659</td>\n",
       "      <td>0.000649</td>\n",
       "      <td>0.020331</td>\n",
       "      <td>0.005633</td>\n",
       "      <td>...</td>\n",
       "      <td>0.000238</td>\n",
       "      <td>-0.061477</td>\n",
       "      <td>0.001214</td>\n",
       "      <td>-0.123433</td>\n",
       "      <td>0.028490</td>\n",
       "      <td>0.016109</td>\n",
       "      <td>0.002855</td>\n",
       "      <td>-0.174568</td>\n",
       "      <td>0.011367</td>\n",
       "      <td>-0.012997</td>\n",
       "    </tr>\n",
       "    <tr>\n",
       "      <th>A100WO06OQR8BQ</th>\n",
       "      <td>0.002286</td>\n",
       "      <td>-0.010898</td>\n",
       "      <td>-0.000724</td>\n",
       "      <td>0.130259</td>\n",
       "      <td>0.007506</td>\n",
       "      <td>-0.003350</td>\n",
       "      <td>0.063711</td>\n",
       "      <td>-0.000674</td>\n",
       "      <td>0.016111</td>\n",
       "      <td>-0.002433</td>\n",
       "      <td>...</td>\n",
       "      <td>-0.000038</td>\n",
       "      <td>0.013766</td>\n",
       "      <td>0.001473</td>\n",
       "      <td>0.025588</td>\n",
       "      <td>-0.042103</td>\n",
       "      <td>0.004251</td>\n",
       "      <td>0.002177</td>\n",
       "      <td>-0.024362</td>\n",
       "      <td>-0.014765</td>\n",
       "      <td>0.038570</td>\n",
       "    </tr>\n",
       "    <tr>\n",
       "      <th>A105S56ODHGJEK</th>\n",
       "      <td>-0.001655</td>\n",
       "      <td>-0.002675</td>\n",
       "      <td>-0.007355</td>\n",
       "      <td>0.007264</td>\n",
       "      <td>0.005152</td>\n",
       "      <td>-0.003986</td>\n",
       "      <td>-0.003480</td>\n",
       "      <td>0.006961</td>\n",
       "      <td>-0.006606</td>\n",
       "      <td>-0.002719</td>\n",
       "      <td>...</td>\n",
       "      <td>-0.001708</td>\n",
       "      <td>-0.051040</td>\n",
       "      <td>0.000325</td>\n",
       "      <td>-0.054867</td>\n",
       "      <td>0.017870</td>\n",
       "      <td>-0.004996</td>\n",
       "      <td>-0.002426</td>\n",
       "      <td>0.083928</td>\n",
       "      <td>-0.112205</td>\n",
       "      <td>0.005964</td>\n",
       "    </tr>\n",
       "    <tr>\n",
       "      <th>A105TOJ6LTVMBG</th>\n",
       "      <td>0.001856</td>\n",
       "      <td>0.011019</td>\n",
       "      <td>-0.005910</td>\n",
       "      <td>-0.014134</td>\n",
       "      <td>0.000179</td>\n",
       "      <td>0.001877</td>\n",
       "      <td>-0.005391</td>\n",
       "      <td>-0.001709</td>\n",
       "      <td>0.004968</td>\n",
       "      <td>0.001402</td>\n",
       "      <td>...</td>\n",
       "      <td>0.000582</td>\n",
       "      <td>-0.009326</td>\n",
       "      <td>-0.000465</td>\n",
       "      <td>-0.048315</td>\n",
       "      <td>0.023302</td>\n",
       "      <td>0.006790</td>\n",
       "      <td>0.003380</td>\n",
       "      <td>0.005460</td>\n",
       "      <td>-0.015263</td>\n",
       "      <td>-0.025996</td>\n",
       "    </tr>\n",
       "    <tr>\n",
       "      <th>A10AFVU66A79Y1</th>\n",
       "      <td>0.001115</td>\n",
       "      <td>-0.002670</td>\n",
       "      <td>0.011018</td>\n",
       "      <td>0.014434</td>\n",
       "      <td>0.010319</td>\n",
       "      <td>0.006002</td>\n",
       "      <td>0.017151</td>\n",
       "      <td>0.003726</td>\n",
       "      <td>0.001404</td>\n",
       "      <td>0.005645</td>\n",
       "      <td>...</td>\n",
       "      <td>0.000207</td>\n",
       "      <td>0.023761</td>\n",
       "      <td>0.000747</td>\n",
       "      <td>-0.019347</td>\n",
       "      <td>-0.012749</td>\n",
       "      <td>0.001026</td>\n",
       "      <td>0.001364</td>\n",
       "      <td>-0.020580</td>\n",
       "      <td>0.011828</td>\n",
       "      <td>0.012770</td>\n",
       "    </tr>\n",
       "  </tbody>\n",
       "</table>\n",
       "<p>5 rows × 48190 columns</p>\n",
       "</div>"
      ],
      "text/plain": [
       "prod_id         0594451647  0594481813  0970407998  0972683275  1400501466  \\\n",
       "user_id                                                                      \n",
       "A100UD67AHFODS    0.005086    0.002178    0.003668   -0.040843    0.009640   \n",
       "A100WO06OQR8BQ    0.002286   -0.010898   -0.000724    0.130259    0.007506   \n",
       "A105S56ODHGJEK   -0.001655   -0.002675   -0.007355    0.007264    0.005152   \n",
       "A105TOJ6LTVMBG    0.001856    0.011019   -0.005910   -0.014134    0.000179   \n",
       "A10AFVU66A79Y1    0.001115   -0.002670    0.011018    0.014434    0.010319   \n",
       "\n",
       "prod_id         1400501520  1400501776  1400532620  1400532655  140053271X  \\\n",
       "user_id                                                                      \n",
       "A100UD67AHFODS    0.006808    0.020659    0.000649    0.020331    0.005633   \n",
       "A100WO06OQR8BQ   -0.003350    0.063711   -0.000674    0.016111   -0.002433   \n",
       "A105S56ODHGJEK   -0.003986   -0.003480    0.006961   -0.006606   -0.002719   \n",
       "A105TOJ6LTVMBG    0.001877   -0.005391   -0.001709    0.004968    0.001402   \n",
       "A10AFVU66A79Y1    0.006002    0.017151    0.003726    0.001404    0.005645   \n",
       "\n",
       "prod_id         ...  B00L5YZCCG  B00L8I6SFY  B00L8QCVL6  B00LA6T0LS  \\\n",
       "user_id         ...                                                   \n",
       "A100UD67AHFODS  ...    0.000238   -0.061477    0.001214   -0.123433   \n",
       "A100WO06OQR8BQ  ...   -0.000038    0.013766    0.001473    0.025588   \n",
       "A105S56ODHGJEK  ...   -0.001708   -0.051040    0.000325   -0.054867   \n",
       "A105TOJ6LTVMBG  ...    0.000582   -0.009326   -0.000465   -0.048315   \n",
       "A10AFVU66A79Y1  ...    0.000207    0.023761    0.000747   -0.019347   \n",
       "\n",
       "prod_id         B00LBZ1Z7K  B00LED02VY  B00LGN7Y3G  B00LGQ6HL8  B00LI4ZZO8  \\\n",
       "user_id                                                                      \n",
       "A100UD67AHFODS    0.028490    0.016109    0.002855   -0.174568    0.011367   \n",
       "A100WO06OQR8BQ   -0.042103    0.004251    0.002177   -0.024362   -0.014765   \n",
       "A105S56ODHGJEK    0.017870   -0.004996   -0.002426    0.083928   -0.112205   \n",
       "A105TOJ6LTVMBG    0.023302    0.006790    0.003380    0.005460   -0.015263   \n",
       "A10AFVU66A79Y1   -0.012749    0.001026    0.001364   -0.020580    0.011828   \n",
       "\n",
       "prod_id         B00LKG1MC8  \n",
       "user_id                     \n",
       "A100UD67AHFODS   -0.012997  \n",
       "A100WO06OQR8BQ    0.038570  \n",
       "A105S56ODHGJEK    0.005964  \n",
       "A105TOJ6LTVMBG   -0.025996  \n",
       "A10AFVU66A79Y1    0.012770  \n",
       "\n",
       "[5 rows x 48190 columns]"
      ]
     },
     "execution_count": 128,
     "metadata": {},
     "output_type": "execute_result"
    }
   ],
   "source": [
    "# Predicted ratings\n",
    "svd_prediction = pd.DataFrame(np.dot(np.dot(U, sigma), Vt), index=user_item.index, columns=user_item.columns)\n",
    "svd_prediction.head()"
   ]
  },
  {
   "cell_type": "code",
   "execution_count": 129,
   "metadata": {},
   "outputs": [
    {
     "name": "stdout",
     "output_type": "stream",
     "text": [
      "Top 6 recommendations for the userId: A100UD67AHFODS\n"
     ]
    },
    {
     "name": "stderr",
     "output_type": "stream",
     "text": [
      "C:\\Anaconda\\lib\\site-packages\\ipykernel_launcher.py:9: FutureWarning: Sorting because non-concatenation axis is not aligned. A future version\n",
      "of pandas will change to not sort by default.\n",
      "\n",
      "To accept the future behavior, pass 'sort=False'.\n",
      "\n",
      "To retain the current behavior and silence the warning, pass 'sort=True'.\n",
      "\n",
      "  if __name__ == '__main__':\n"
     ]
    },
    {
     "data": {
      "text/html": [
       "<div>\n",
       "<style scoped>\n",
       "    .dataframe tbody tr th:only-of-type {\n",
       "        vertical-align: middle;\n",
       "    }\n",
       "\n",
       "    .dataframe tbody tr th {\n",
       "        vertical-align: top;\n",
       "    }\n",
       "\n",
       "    .dataframe thead th {\n",
       "        text-align: right;\n",
       "    }\n",
       "</style>\n",
       "<table border=\"1\" class=\"dataframe\">\n",
       "  <thead>\n",
       "    <tr style=\"text-align: right;\">\n",
       "      <th></th>\n",
       "      <th>user_ratings</th>\n",
       "      <th>user_predictions</th>\n",
       "    </tr>\n",
       "    <tr>\n",
       "      <th>Recommended Items</th>\n",
       "      <th></th>\n",
       "      <th></th>\n",
       "    </tr>\n",
       "  </thead>\n",
       "  <tbody>\n",
       "    <tr>\n",
       "      <th>B0019EHU8G</th>\n",
       "      <td>0.0</td>\n",
       "      <td>1.407411</td>\n",
       "    </tr>\n",
       "    <tr>\n",
       "      <th>B003ES5ZUU</th>\n",
       "      <td>0.0</td>\n",
       "      <td>1.097482</td>\n",
       "    </tr>\n",
       "    <tr>\n",
       "      <th>B007OY5V68</th>\n",
       "      <td>0.0</td>\n",
       "      <td>0.987353</td>\n",
       "    </tr>\n",
       "    <tr>\n",
       "      <th>B000JMJWV2</th>\n",
       "      <td>0.0</td>\n",
       "      <td>0.946122</td>\n",
       "    </tr>\n",
       "    <tr>\n",
       "      <th>B009SYZ8OC</th>\n",
       "      <td>0.0</td>\n",
       "      <td>0.847875</td>\n",
       "    </tr>\n",
       "    <tr>\n",
       "      <th>B00DTZYHX4</th>\n",
       "      <td>0.0</td>\n",
       "      <td>0.745124</td>\n",
       "    </tr>\n",
       "  </tbody>\n",
       "</table>\n",
       "</div>"
      ],
      "text/plain": [
       "                   user_ratings  user_predictions\n",
       "Recommended Items                                \n",
       "B0019EHU8G                  0.0          1.407411\n",
       "B003ES5ZUU                  0.0          1.097482\n",
       "B007OY5V68                  0.0          0.987353\n",
       "B000JMJWV2                  0.0          0.946122\n",
       "B009SYZ8OC                  0.0          0.847875\n",
       "B00DTZYHX4                  0.0          0.745124"
      ]
     },
     "execution_count": 129,
     "metadata": {},
     "output_type": "execute_result"
    },
    {
     "name": "stdout",
     "output_type": "stream",
     "text": [
      "\n",
      "\n",
      "Top 3 recommendations for the userId: A100WO06OQR8BQ\n"
     ]
    },
    {
     "name": "stderr",
     "output_type": "stream",
     "text": [
      "C:\\Anaconda\\lib\\site-packages\\ipykernel_launcher.py:9: FutureWarning: Sorting because non-concatenation axis is not aligned. A future version\n",
      "of pandas will change to not sort by default.\n",
      "\n",
      "To accept the future behavior, pass 'sort=False'.\n",
      "\n",
      "To retain the current behavior and silence the warning, pass 'sort=True'.\n",
      "\n",
      "  if __name__ == '__main__':\n"
     ]
    },
    {
     "data": {
      "text/html": [
       "<div>\n",
       "<style scoped>\n",
       "    .dataframe tbody tr th:only-of-type {\n",
       "        vertical-align: middle;\n",
       "    }\n",
       "\n",
       "    .dataframe tbody tr th {\n",
       "        vertical-align: top;\n",
       "    }\n",
       "\n",
       "    .dataframe thead th {\n",
       "        text-align: right;\n",
       "    }\n",
       "</style>\n",
       "<table border=\"1\" class=\"dataframe\">\n",
       "  <thead>\n",
       "    <tr style=\"text-align: right;\">\n",
       "      <th></th>\n",
       "      <th>user_ratings</th>\n",
       "      <th>user_predictions</th>\n",
       "    </tr>\n",
       "    <tr>\n",
       "      <th>Recommended Items</th>\n",
       "      <th></th>\n",
       "      <th></th>\n",
       "    </tr>\n",
       "  </thead>\n",
       "  <tbody>\n",
       "    <tr>\n",
       "      <th>B000N99BBC</th>\n",
       "      <td>0.0</td>\n",
       "      <td>1.825135</td>\n",
       "    </tr>\n",
       "    <tr>\n",
       "      <th>B004CLYEDC</th>\n",
       "      <td>0.0</td>\n",
       "      <td>1.250059</td>\n",
       "    </tr>\n",
       "    <tr>\n",
       "      <th>B001TH7GSW</th>\n",
       "      <td>0.0</td>\n",
       "      <td>1.006211</td>\n",
       "    </tr>\n",
       "  </tbody>\n",
       "</table>\n",
       "</div>"
      ],
      "text/plain": [
       "                   user_ratings  user_predictions\n",
       "Recommended Items                                \n",
       "B000N99BBC                  0.0          1.825135\n",
       "B004CLYEDC                  0.0          1.250059\n",
       "B001TH7GSW                  0.0          1.006211"
      ]
     },
     "execution_count": 129,
     "metadata": {},
     "output_type": "execute_result"
    },
    {
     "name": "stderr",
     "output_type": "stream",
     "text": [
      "C:\\Anaconda\\lib\\site-packages\\ipykernel_launcher.py:9: FutureWarning: Sorting because non-concatenation axis is not aligned. A future version\n",
      "of pandas will change to not sort by default.\n",
      "\n",
      "To accept the future behavior, pass 'sort=False'.\n",
      "\n",
      "To retain the current behavior and silence the warning, pass 'sort=True'.\n",
      "\n",
      "  if __name__ == '__main__':\n"
     ]
    },
    {
     "name": "stdout",
     "output_type": "stream",
     "text": [
      "\n",
      "\n",
      "Top 8 recommendations for the userId: A105S56ODHGJEK\n"
     ]
    },
    {
     "data": {
      "text/html": [
       "<div>\n",
       "<style scoped>\n",
       "    .dataframe tbody tr th:only-of-type {\n",
       "        vertical-align: middle;\n",
       "    }\n",
       "\n",
       "    .dataframe tbody tr th {\n",
       "        vertical-align: top;\n",
       "    }\n",
       "\n",
       "    .dataframe thead th {\n",
       "        text-align: right;\n",
       "    }\n",
       "</style>\n",
       "<table border=\"1\" class=\"dataframe\">\n",
       "  <thead>\n",
       "    <tr style=\"text-align: right;\">\n",
       "      <th></th>\n",
       "      <th>user_ratings</th>\n",
       "      <th>user_predictions</th>\n",
       "    </tr>\n",
       "    <tr>\n",
       "      <th>Recommended Items</th>\n",
       "      <th></th>\n",
       "      <th></th>\n",
       "    </tr>\n",
       "  </thead>\n",
       "  <tbody>\n",
       "    <tr>\n",
       "      <th>B0088CJT4U</th>\n",
       "      <td>0.0</td>\n",
       "      <td>1.557864</td>\n",
       "    </tr>\n",
       "    <tr>\n",
       "      <th>B004T9RR6I</th>\n",
       "      <td>0.0</td>\n",
       "      <td>1.195031</td>\n",
       "    </tr>\n",
       "    <tr>\n",
       "      <th>B00BOHNYU6</th>\n",
       "      <td>0.0</td>\n",
       "      <td>1.032649</td>\n",
       "    </tr>\n",
       "    <tr>\n",
       "      <th>B00ARB5FLQ</th>\n",
       "      <td>0.0</td>\n",
       "      <td>0.988891</td>\n",
       "    </tr>\n",
       "    <tr>\n",
       "      <th>B00829THK0</th>\n",
       "      <td>0.0</td>\n",
       "      <td>0.912461</td>\n",
       "    </tr>\n",
       "    <tr>\n",
       "      <th>B002R5AM7C</th>\n",
       "      <td>0.0</td>\n",
       "      <td>0.885421</td>\n",
       "    </tr>\n",
       "    <tr>\n",
       "      <th>B009HQCAPQ</th>\n",
       "      <td>0.0</td>\n",
       "      <td>0.825770</td>\n",
       "    </tr>\n",
       "    <tr>\n",
       "      <th>B0097CZHAU</th>\n",
       "      <td>0.0</td>\n",
       "      <td>0.806825</td>\n",
       "    </tr>\n",
       "  </tbody>\n",
       "</table>\n",
       "</div>"
      ],
      "text/plain": [
       "                   user_ratings  user_predictions\n",
       "Recommended Items                                \n",
       "B0088CJT4U                  0.0          1.557864\n",
       "B004T9RR6I                  0.0          1.195031\n",
       "B00BOHNYU6                  0.0          1.032649\n",
       "B00ARB5FLQ                  0.0          0.988891\n",
       "B00829THK0                  0.0          0.912461\n",
       "B002R5AM7C                  0.0          0.885421\n",
       "B009HQCAPQ                  0.0          0.825770\n",
       "B0097CZHAU                  0.0          0.806825"
      ]
     },
     "execution_count": 129,
     "metadata": {},
     "output_type": "execute_result"
    },
    {
     "name": "stdout",
     "output_type": "stream",
     "text": [
      "\n",
      "\n"
     ]
    }
   ],
   "source": [
    "# Find recommendation for couple of users\n",
    "find_recom = {'A100UD67AHFODS': 6, \n",
    "              'A100WO06OQR8BQ': 3, \n",
    "              'A105S56ODHGJEK': 8}   # This list is user, top_n recommendation dict.\n",
    "for user in find_recom:\n",
    "    print(\"Top %d recommendations for the userId: %s\" %(find_recom[user],user))\n",
    "    recommend_items(user, user_item, svd_prediction, find_recom[user])\n",
    "    print(\"\\n\")"
   ]
  },
  {
   "cell_type": "raw",
   "metadata": {},
   "source": [
    "Observations:\n",
    "\n",
    "Unlike popularity model, the recommendations are personalized here as indicated by the different set of recommendations for different users based on their likings."
   ]
  },
  {
   "cell_type": "raw",
   "metadata": {},
   "source": [
    "\n",
    "6. Evaluate both the models. (Once the model is trained on the training data, it can be used to compute the error (RMSE) on predictions made on the test data.)\n"
   ]
  },
  {
   "cell_type": "code",
   "execution_count": 206,
   "metadata": {},
   "outputs": [],
   "source": [
    "# Method to calculate RMSE for different model\n",
    "def calculate_rmse(orig_df, preds_df):\n",
    "    rmse_df = pd.concat([orig_df.mean(), preds_df.mean()], axis=1)\n",
    "    rmse_df.columns = ['Avg_actual_ratings', 'Avg_predicted_ratings']\n",
    "    RMSE = round(np.sqrt(((rmse_df.Avg_actual_ratings - rmse_df.Avg_predicted_ratings) ** 2).mean()), 5)\n",
    "    print('\\nRMSE for this recommender model = {}\\n'.format(RMSE))\n",
    "    return rmse_df.head()"
   ]
  },
  {
   "cell_type": "code",
   "execution_count": 207,
   "metadata": {},
   "outputs": [
    {
     "name": "stdout",
     "output_type": "stream",
     "text": [
      "\n",
      "RMSE for this recommender model = 0.00516\n",
      "\n"
     ]
    },
    {
     "data": {
      "text/html": [
       "<div>\n",
       "<style scoped>\n",
       "    .dataframe tbody tr th:only-of-type {\n",
       "        vertical-align: middle;\n",
       "    }\n",
       "\n",
       "    .dataframe tbody tr th {\n",
       "        vertical-align: top;\n",
       "    }\n",
       "\n",
       "    .dataframe thead th {\n",
       "        text-align: right;\n",
       "    }\n",
       "</style>\n",
       "<table border=\"1\" class=\"dataframe\">\n",
       "  <thead>\n",
       "    <tr style=\"text-align: right;\">\n",
       "      <th></th>\n",
       "      <th>Avg_actual_ratings</th>\n",
       "      <th>Avg_predicted_ratings</th>\n",
       "    </tr>\n",
       "    <tr>\n",
       "      <th>prod_id</th>\n",
       "      <th></th>\n",
       "      <th></th>\n",
       "    </tr>\n",
       "  </thead>\n",
       "  <tbody>\n",
       "    <tr>\n",
       "      <th>0594451647</th>\n",
       "      <td>0.003247</td>\n",
       "      <td>0.002048</td>\n",
       "    </tr>\n",
       "    <tr>\n",
       "      <th>0594481813</th>\n",
       "      <td>0.001948</td>\n",
       "      <td>0.001766</td>\n",
       "    </tr>\n",
       "    <tr>\n",
       "      <th>0970407998</th>\n",
       "      <td>0.003247</td>\n",
       "      <td>0.002743</td>\n",
       "    </tr>\n",
       "    <tr>\n",
       "      <th>0972683275</th>\n",
       "      <td>0.012338</td>\n",
       "      <td>0.012088</td>\n",
       "    </tr>\n",
       "    <tr>\n",
       "      <th>1400501466</th>\n",
       "      <td>0.012987</td>\n",
       "      <td>0.008534</td>\n",
       "    </tr>\n",
       "  </tbody>\n",
       "</table>\n",
       "</div>"
      ],
      "text/plain": [
       "            Avg_actual_ratings  Avg_predicted_ratings\n",
       "prod_id                                              \n",
       "0594451647            0.003247               0.002048\n",
       "0594481813            0.001948               0.001766\n",
       "0970407998            0.003247               0.002743\n",
       "0972683275            0.012338               0.012088\n",
       "1400501466            0.012987               0.008534"
      ]
     },
     "execution_count": 207,
     "metadata": {},
     "output_type": "execute_result"
    }
   ],
   "source": [
    "#Evaluation of User Based CF\n",
    "calculate_rmse(user_item, user_prediction)"
   ]
  },
  {
   "cell_type": "code",
   "execution_count": 223,
   "metadata": {},
   "outputs": [
    {
     "ename": "NameError",
     "evalue": "name 'item_prediction' is not defined",
     "output_type": "error",
     "traceback": [
      "\u001b[1;31m---------------------------------------------------------------------------\u001b[0m",
      "\u001b[1;31mNameError\u001b[0m                                 Traceback (most recent call last)",
      "\u001b[1;32m<ipython-input-223-fc40eb9f71fb>\u001b[0m in \u001b[0;36m<module>\u001b[1;34m\u001b[0m\n\u001b[0;32m      1\u001b[0m \u001b[1;31m# Evaluation of Item Based CF\u001b[0m\u001b[1;33m\u001b[0m\u001b[1;33m\u001b[0m\u001b[1;33m\u001b[0m\u001b[0m\n\u001b[1;32m----> 2\u001b[1;33m \u001b[0mcalculate_rmse\u001b[0m\u001b[1;33m(\u001b[0m\u001b[0muser_item\u001b[0m\u001b[1;33m,\u001b[0m \u001b[0mitem_prediction\u001b[0m\u001b[1;33m)\u001b[0m\u001b[1;33m\u001b[0m\u001b[1;33m\u001b[0m\u001b[0m\n\u001b[0m",
      "\u001b[1;31mNameError\u001b[0m: name 'item_prediction' is not defined"
     ]
    }
   ],
   "source": [
    "# Evaluation of Item Based CF\n",
    "calculate_rmse(user_item, item_prediction)\n",
    "#Memory issue"
   ]
  },
  {
   "cell_type": "code",
   "execution_count": 224,
   "metadata": {},
   "outputs": [
    {
     "name": "stdout",
     "output_type": "stream",
     "text": [
      "\n",
      "RMSE for this recommender model = 0.00275\n",
      "\n"
     ]
    },
    {
     "data": {
      "text/html": [
       "<div>\n",
       "<style scoped>\n",
       "    .dataframe tbody tr th:only-of-type {\n",
       "        vertical-align: middle;\n",
       "    }\n",
       "\n",
       "    .dataframe tbody tr th {\n",
       "        vertical-align: top;\n",
       "    }\n",
       "\n",
       "    .dataframe thead th {\n",
       "        text-align: right;\n",
       "    }\n",
       "</style>\n",
       "<table border=\"1\" class=\"dataframe\">\n",
       "  <thead>\n",
       "    <tr style=\"text-align: right;\">\n",
       "      <th></th>\n",
       "      <th>Avg_actual_ratings</th>\n",
       "      <th>Avg_predicted_ratings</th>\n",
       "    </tr>\n",
       "    <tr>\n",
       "      <th>prod_id</th>\n",
       "      <th></th>\n",
       "      <th></th>\n",
       "    </tr>\n",
       "  </thead>\n",
       "  <tbody>\n",
       "    <tr>\n",
       "      <th>0594451647</th>\n",
       "      <td>0.003247</td>\n",
       "      <td>0.001953</td>\n",
       "    </tr>\n",
       "    <tr>\n",
       "      <th>0594481813</th>\n",
       "      <td>0.001948</td>\n",
       "      <td>0.002875</td>\n",
       "    </tr>\n",
       "    <tr>\n",
       "      <th>0970407998</th>\n",
       "      <td>0.003247</td>\n",
       "      <td>0.003355</td>\n",
       "    </tr>\n",
       "    <tr>\n",
       "      <th>0972683275</th>\n",
       "      <td>0.012338</td>\n",
       "      <td>0.010343</td>\n",
       "    </tr>\n",
       "    <tr>\n",
       "      <th>1400501466</th>\n",
       "      <td>0.012987</td>\n",
       "      <td>0.004871</td>\n",
       "    </tr>\n",
       "  </tbody>\n",
       "</table>\n",
       "</div>"
      ],
      "text/plain": [
       "            Avg_actual_ratings  Avg_predicted_ratings\n",
       "prod_id                                              \n",
       "0594451647            0.003247               0.001953\n",
       "0594481813            0.001948               0.002875\n",
       "0970407998            0.003247               0.003355\n",
       "0972683275            0.012338               0.010343\n",
       "1400501466            0.012987               0.004871"
      ]
     },
     "execution_count": 224,
     "metadata": {},
     "output_type": "execute_result"
    }
   ],
   "source": [
    "#Evaluation of Matrix Factorization based CF\n",
    "calculate_rmse(user_item, svd_prediction)"
   ]
  },
  {
   "cell_type": "raw",
   "metadata": {},
   "source": [
    "Observations:\n",
    "\n",
    "RMSE for Matrix Factorization model based recommender system is the lowest among all.\n",
    "This is indicative that the model accuracy increases with decrease in no of dimensions as well as the sparsity.\n",
    "So is the reason this approach is most popular in recommendation systems.\n"
   ]
  },
  {
   "cell_type": "raw",
   "metadata": {},
   "source": [
    "7. Get top - K (K = 5) recommendations. Since our goal is to recommend new products to each user based on his/her habits,we will recommend 5 new products."
   ]
  },
  {
   "cell_type": "code",
   "execution_count": 225,
   "metadata": {},
   "outputs": [
    {
     "name": "stdout",
     "output_type": "stream",
     "text": [
      "User Based Collaborative Filtering (UBCF)\n",
      "Top 5 recommendations for the userId: A100UD67AHFODS\n"
     ]
    },
    {
     "name": "stderr",
     "output_type": "stream",
     "text": [
      "C:\\Anaconda\\lib\\site-packages\\ipykernel_launcher.py:9: FutureWarning: Sorting because non-concatenation axis is not aligned. A future version\n",
      "of pandas will change to not sort by default.\n",
      "\n",
      "To accept the future behavior, pass 'sort=False'.\n",
      "\n",
      "To retain the current behavior and silence the warning, pass 'sort=True'.\n",
      "\n",
      "  if __name__ == '__main__':\n"
     ]
    },
    {
     "data": {
      "text/html": [
       "<div>\n",
       "<style scoped>\n",
       "    .dataframe tbody tr th:only-of-type {\n",
       "        vertical-align: middle;\n",
       "    }\n",
       "\n",
       "    .dataframe tbody tr th {\n",
       "        vertical-align: top;\n",
       "    }\n",
       "\n",
       "    .dataframe thead th {\n",
       "        text-align: right;\n",
       "    }\n",
       "</style>\n",
       "<table border=\"1\" class=\"dataframe\">\n",
       "  <thead>\n",
       "    <tr style=\"text-align: right;\">\n",
       "      <th></th>\n",
       "      <th>user_ratings</th>\n",
       "      <th>user_predictions</th>\n",
       "    </tr>\n",
       "    <tr>\n",
       "      <th>Recommended Items</th>\n",
       "      <th></th>\n",
       "      <th></th>\n",
       "    </tr>\n",
       "  </thead>\n",
       "  <tbody>\n",
       "    <tr>\n",
       "      <th>B003ES5ZUU</th>\n",
       "      <td>0.0</td>\n",
       "      <td>0.873249</td>\n",
       "    </tr>\n",
       "    <tr>\n",
       "      <th>B007WTAJTO</th>\n",
       "      <td>0.0</td>\n",
       "      <td>0.684484</td>\n",
       "    </tr>\n",
       "    <tr>\n",
       "      <th>B0088CJT4U</th>\n",
       "      <td>0.0</td>\n",
       "      <td>0.509175</td>\n",
       "    </tr>\n",
       "    <tr>\n",
       "      <th>B00G4UQ6U8</th>\n",
       "      <td>0.0</td>\n",
       "      <td>0.485093</td>\n",
       "    </tr>\n",
       "    <tr>\n",
       "      <th>B002V88HFE</th>\n",
       "      <td>0.0</td>\n",
       "      <td>0.463316</td>\n",
       "    </tr>\n",
       "  </tbody>\n",
       "</table>\n",
       "</div>"
      ],
      "text/plain": [
       "                   user_ratings  user_predictions\n",
       "Recommended Items                                \n",
       "B003ES5ZUU                  0.0          0.873249\n",
       "B007WTAJTO                  0.0          0.684484\n",
       "B0088CJT4U                  0.0          0.509175\n",
       "B00G4UQ6U8                  0.0          0.485093\n",
       "B002V88HFE                  0.0          0.463316"
      ]
     },
     "execution_count": 225,
     "metadata": {},
     "output_type": "execute_result"
    },
    {
     "name": "stdout",
     "output_type": "stream",
     "text": [
      "\n",
      "\n",
      "Top 5 recommendations for the userId: A100WO06OQR8BQ\n"
     ]
    },
    {
     "name": "stderr",
     "output_type": "stream",
     "text": [
      "C:\\Anaconda\\lib\\site-packages\\ipykernel_launcher.py:9: FutureWarning: Sorting because non-concatenation axis is not aligned. A future version\n",
      "of pandas will change to not sort by default.\n",
      "\n",
      "To accept the future behavior, pass 'sort=False'.\n",
      "\n",
      "To retain the current behavior and silence the warning, pass 'sort=True'.\n",
      "\n",
      "  if __name__ == '__main__':\n"
     ]
    },
    {
     "data": {
      "text/html": [
       "<div>\n",
       "<style scoped>\n",
       "    .dataframe tbody tr th:only-of-type {\n",
       "        vertical-align: middle;\n",
       "    }\n",
       "\n",
       "    .dataframe tbody tr th {\n",
       "        vertical-align: top;\n",
       "    }\n",
       "\n",
       "    .dataframe thead th {\n",
       "        text-align: right;\n",
       "    }\n",
       "</style>\n",
       "<table border=\"1\" class=\"dataframe\">\n",
       "  <thead>\n",
       "    <tr style=\"text-align: right;\">\n",
       "      <th></th>\n",
       "      <th>user_ratings</th>\n",
       "      <th>user_predictions</th>\n",
       "    </tr>\n",
       "    <tr>\n",
       "      <th>Recommended Items</th>\n",
       "      <th></th>\n",
       "      <th></th>\n",
       "    </tr>\n",
       "  </thead>\n",
       "  <tbody>\n",
       "    <tr>\n",
       "      <th>B000N99BBC</th>\n",
       "      <td>0.0</td>\n",
       "      <td>0.883033</td>\n",
       "    </tr>\n",
       "    <tr>\n",
       "      <th>B00829TIEK</th>\n",
       "      <td>0.0</td>\n",
       "      <td>0.749101</td>\n",
       "    </tr>\n",
       "    <tr>\n",
       "      <th>B004CLYEDC</th>\n",
       "      <td>0.0</td>\n",
       "      <td>0.729534</td>\n",
       "    </tr>\n",
       "    <tr>\n",
       "      <th>B00829THK0</th>\n",
       "      <td>0.0</td>\n",
       "      <td>0.652739</td>\n",
       "    </tr>\n",
       "    <tr>\n",
       "      <th>B004CLYEFK</th>\n",
       "      <td>0.0</td>\n",
       "      <td>0.573304</td>\n",
       "    </tr>\n",
       "  </tbody>\n",
       "</table>\n",
       "</div>"
      ],
      "text/plain": [
       "                   user_ratings  user_predictions\n",
       "Recommended Items                                \n",
       "B000N99BBC                  0.0          0.883033\n",
       "B00829TIEK                  0.0          0.749101\n",
       "B004CLYEDC                  0.0          0.729534\n",
       "B00829THK0                  0.0          0.652739\n",
       "B004CLYEFK                  0.0          0.573304"
      ]
     },
     "execution_count": 225,
     "metadata": {},
     "output_type": "execute_result"
    },
    {
     "name": "stdout",
     "output_type": "stream",
     "text": [
      "\n",
      "\n"
     ]
    }
   ],
   "source": [
    "# Create a list of users\n",
    "users = ['A100UD67AHFODS','A100WO06OQR8BQ']\n",
    "top_k = 5\n",
    "\n",
    "# UBCF Recommendation\n",
    "print('User Based Collaborative Filtering (UBCF)')\n",
    "for user in users:\n",
    "    print(\"Top %d recommendations for the userId: %s\" %(top_k,user))\n",
    "    recommend_items(user, user_item, user_prediction, top_k)\n",
    "    print(\"\\n\")"
   ]
  },
  {
   "cell_type": "code",
   "execution_count": 226,
   "metadata": {},
   "outputs": [
    {
     "name": "stdout",
     "output_type": "stream",
     "text": [
      "Item Based Collaborative Filtering (IBCF)\n",
      "Top 5 recommendations for the userId: A100UD67AHFODS\n"
     ]
    },
    {
     "ename": "NameError",
     "evalue": "name 'item_prediction' is not defined",
     "output_type": "error",
     "traceback": [
      "\u001b[1;31m---------------------------------------------------------------------------\u001b[0m",
      "\u001b[1;31mNameError\u001b[0m                                 Traceback (most recent call last)",
      "\u001b[1;32m<ipython-input-226-7279558635a9>\u001b[0m in \u001b[0;36m<module>\u001b[1;34m\u001b[0m\n\u001b[0;32m      3\u001b[0m \u001b[1;32mfor\u001b[0m \u001b[0muser\u001b[0m \u001b[1;32min\u001b[0m \u001b[0musers\u001b[0m\u001b[1;33m:\u001b[0m\u001b[1;33m\u001b[0m\u001b[1;33m\u001b[0m\u001b[0m\n\u001b[0;32m      4\u001b[0m     \u001b[0mprint\u001b[0m\u001b[1;33m(\u001b[0m\u001b[1;34m\"Top %d recommendations for the userId: %s\"\u001b[0m \u001b[1;33m%\u001b[0m\u001b[1;33m(\u001b[0m\u001b[0mtop_k\u001b[0m\u001b[1;33m,\u001b[0m\u001b[0muser\u001b[0m\u001b[1;33m)\u001b[0m\u001b[1;33m)\u001b[0m\u001b[1;33m\u001b[0m\u001b[1;33m\u001b[0m\u001b[0m\n\u001b[1;32m----> 5\u001b[1;33m     \u001b[0mrecommend_items\u001b[0m\u001b[1;33m(\u001b[0m\u001b[0muser\u001b[0m\u001b[1;33m,\u001b[0m \u001b[0muser_item\u001b[0m\u001b[1;33m,\u001b[0m \u001b[0mitem_prediction\u001b[0m\u001b[1;33m,\u001b[0m \u001b[0mtop_k\u001b[0m\u001b[1;33m)\u001b[0m\u001b[1;33m\u001b[0m\u001b[1;33m\u001b[0m\u001b[0m\n\u001b[0m\u001b[0;32m      6\u001b[0m     \u001b[0mprint\u001b[0m\u001b[1;33m(\u001b[0m\u001b[1;34m\"\\n\"\u001b[0m\u001b[1;33m)\u001b[0m\u001b[1;33m\u001b[0m\u001b[1;33m\u001b[0m\u001b[0m\n",
      "\u001b[1;31mNameError\u001b[0m: name 'item_prediction' is not defined"
     ]
    }
   ],
   "source": [
    "# IBCF Recommendation\n",
    "print('Item Based Collaborative Filtering (IBCF)')\n",
    "for user in users:\n",
    "    print(\"Top %d recommendations for the userId: %s\" %(top_k,user))\n",
    "    recommend_items(user, user_item, item_prediction, top_k)\n",
    "    print(\"\\n\")"
   ]
  },
  {
   "cell_type": "code",
   "execution_count": 227,
   "metadata": {},
   "outputs": [
    {
     "name": "stdout",
     "output_type": "stream",
     "text": [
      "Matrix Factorization based Collaborative Filtering (SVD)\n",
      "Top 5 recommendations for the userId: A100UD67AHFODS\n"
     ]
    },
    {
     "name": "stderr",
     "output_type": "stream",
     "text": [
      "C:\\Anaconda\\lib\\site-packages\\ipykernel_launcher.py:9: FutureWarning: Sorting because non-concatenation axis is not aligned. A future version\n",
      "of pandas will change to not sort by default.\n",
      "\n",
      "To accept the future behavior, pass 'sort=False'.\n",
      "\n",
      "To retain the current behavior and silence the warning, pass 'sort=True'.\n",
      "\n",
      "  if __name__ == '__main__':\n"
     ]
    },
    {
     "data": {
      "text/html": [
       "<div>\n",
       "<style scoped>\n",
       "    .dataframe tbody tr th:only-of-type {\n",
       "        vertical-align: middle;\n",
       "    }\n",
       "\n",
       "    .dataframe tbody tr th {\n",
       "        vertical-align: top;\n",
       "    }\n",
       "\n",
       "    .dataframe thead th {\n",
       "        text-align: right;\n",
       "    }\n",
       "</style>\n",
       "<table border=\"1\" class=\"dataframe\">\n",
       "  <thead>\n",
       "    <tr style=\"text-align: right;\">\n",
       "      <th></th>\n",
       "      <th>user_ratings</th>\n",
       "      <th>user_predictions</th>\n",
       "    </tr>\n",
       "    <tr>\n",
       "      <th>Recommended Items</th>\n",
       "      <th></th>\n",
       "      <th></th>\n",
       "    </tr>\n",
       "  </thead>\n",
       "  <tbody>\n",
       "    <tr>\n",
       "      <th>B0019EHU8G</th>\n",
       "      <td>0.0</td>\n",
       "      <td>1.407411</td>\n",
       "    </tr>\n",
       "    <tr>\n",
       "      <th>B003ES5ZUU</th>\n",
       "      <td>0.0</td>\n",
       "      <td>1.097482</td>\n",
       "    </tr>\n",
       "    <tr>\n",
       "      <th>B007OY5V68</th>\n",
       "      <td>0.0</td>\n",
       "      <td>0.987353</td>\n",
       "    </tr>\n",
       "    <tr>\n",
       "      <th>B000JMJWV2</th>\n",
       "      <td>0.0</td>\n",
       "      <td>0.946122</td>\n",
       "    </tr>\n",
       "    <tr>\n",
       "      <th>B009SYZ8OC</th>\n",
       "      <td>0.0</td>\n",
       "      <td>0.847875</td>\n",
       "    </tr>\n",
       "  </tbody>\n",
       "</table>\n",
       "</div>"
      ],
      "text/plain": [
       "                   user_ratings  user_predictions\n",
       "Recommended Items                                \n",
       "B0019EHU8G                  0.0          1.407411\n",
       "B003ES5ZUU                  0.0          1.097482\n",
       "B007OY5V68                  0.0          0.987353\n",
       "B000JMJWV2                  0.0          0.946122\n",
       "B009SYZ8OC                  0.0          0.847875"
      ]
     },
     "execution_count": 227,
     "metadata": {},
     "output_type": "execute_result"
    },
    {
     "name": "stdout",
     "output_type": "stream",
     "text": [
      "\n",
      "\n",
      "Top 5 recommendations for the userId: A100WO06OQR8BQ\n"
     ]
    },
    {
     "name": "stderr",
     "output_type": "stream",
     "text": [
      "C:\\Anaconda\\lib\\site-packages\\ipykernel_launcher.py:9: FutureWarning: Sorting because non-concatenation axis is not aligned. A future version\n",
      "of pandas will change to not sort by default.\n",
      "\n",
      "To accept the future behavior, pass 'sort=False'.\n",
      "\n",
      "To retain the current behavior and silence the warning, pass 'sort=True'.\n",
      "\n",
      "  if __name__ == '__main__':\n"
     ]
    },
    {
     "data": {
      "text/html": [
       "<div>\n",
       "<style scoped>\n",
       "    .dataframe tbody tr th:only-of-type {\n",
       "        vertical-align: middle;\n",
       "    }\n",
       "\n",
       "    .dataframe tbody tr th {\n",
       "        vertical-align: top;\n",
       "    }\n",
       "\n",
       "    .dataframe thead th {\n",
       "        text-align: right;\n",
       "    }\n",
       "</style>\n",
       "<table border=\"1\" class=\"dataframe\">\n",
       "  <thead>\n",
       "    <tr style=\"text-align: right;\">\n",
       "      <th></th>\n",
       "      <th>user_ratings</th>\n",
       "      <th>user_predictions</th>\n",
       "    </tr>\n",
       "    <tr>\n",
       "      <th>Recommended Items</th>\n",
       "      <th></th>\n",
       "      <th></th>\n",
       "    </tr>\n",
       "  </thead>\n",
       "  <tbody>\n",
       "    <tr>\n",
       "      <th>B000N99BBC</th>\n",
       "      <td>0.0</td>\n",
       "      <td>1.825135</td>\n",
       "    </tr>\n",
       "    <tr>\n",
       "      <th>B004CLYEDC</th>\n",
       "      <td>0.0</td>\n",
       "      <td>1.250059</td>\n",
       "    </tr>\n",
       "    <tr>\n",
       "      <th>B001TH7GSW</th>\n",
       "      <td>0.0</td>\n",
       "      <td>1.006211</td>\n",
       "    </tr>\n",
       "    <tr>\n",
       "      <th>B00834SJSK</th>\n",
       "      <td>0.0</td>\n",
       "      <td>0.947728</td>\n",
       "    </tr>\n",
       "    <tr>\n",
       "      <th>B00AQRUW4Q</th>\n",
       "      <td>0.0</td>\n",
       "      <td>0.757301</td>\n",
       "    </tr>\n",
       "  </tbody>\n",
       "</table>\n",
       "</div>"
      ],
      "text/plain": [
       "                   user_ratings  user_predictions\n",
       "Recommended Items                                \n",
       "B000N99BBC                  0.0          1.825135\n",
       "B004CLYEDC                  0.0          1.250059\n",
       "B001TH7GSW                  0.0          1.006211\n",
       "B00834SJSK                  0.0          0.947728\n",
       "B00AQRUW4Q                  0.0          0.757301"
      ]
     },
     "execution_count": 227,
     "metadata": {},
     "output_type": "execute_result"
    },
    {
     "name": "stdout",
     "output_type": "stream",
     "text": [
      "\n",
      "\n"
     ]
    }
   ],
   "source": [
    "# SVD Recommendation\n",
    "print('Matrix Factorization based Collaborative Filtering (SVD)')\n",
    "for user in users:\n",
    "    print(\"Top %d recommendations for the userId: %s\" %(top_k,user))\n",
    "    recommend_items(user, user_item, svd_prediction, top_k)\n",
    "    print(\"\\n\")"
   ]
  },
  {
   "cell_type": "raw",
   "metadata": {},
   "source": [
    "Observations:\n",
    "\n",
    "Each approach has its own way of finding similarity among items and users. So is the reason top 5 recommendations are different for same users in different approaches."
   ]
  },
  {
   "cell_type": "markdown",
   "metadata": {},
   "source": [
    "# using SURPRISE package"
   ]
  },
  {
   "cell_type": "code",
   "execution_count": 229,
   "metadata": {},
   "outputs": [
    {
     "data": {
      "text/plain": [
       "surprise.dataset.DatasetAutoFolds"
      ]
     },
     "execution_count": 229,
     "metadata": {},
     "output_type": "execute_result"
    }
   ],
   "source": [
    "# Set the rating scale\n",
    "reader = Reader(rating_scale=(1, 5))\n",
    "\n",
    "# Load data from the rattings data frame into surprise DataFolds\n",
    "ratings_surp = Dataset.load_from_df(r_df, reader)\n",
    "\n",
    "# Check the type of the loaded data\n",
    "type(ratings_surp)"
   ]
  },
  {
   "cell_type": "code",
   "execution_count": 230,
   "metadata": {},
   "outputs": [
    {
     "data": {
      "text/plain": [
       "surprise.trainset.Trainset"
      ]
     },
     "execution_count": 230,
     "metadata": {},
     "output_type": "execute_result"
    }
   ],
   "source": [
    "# Divide the dataset in 70:30 ratio\n",
    "trainset, testset = train_test_split(ratings_surp, test_size=0.3, random_state=123)\n",
    "\n",
    "# Check the datatype of train and test set\n",
    "type(trainset)"
   ]
  },
  {
   "cell_type": "code",
   "execution_count": 231,
   "metadata": {},
   "outputs": [
    {
     "name": "stdout",
     "output_type": "stream",
     "text": [
      "0.9813981074129948 {'bsl_options': {'method': 'als', 'n_epochs': 14, 'reg_u': 19, 'reg_i': 14}}\n",
      "Time taken 537.46s to tune the best hyper-parameter for Support Vector classifier\n"
     ]
    }
   ],
   "source": [
    "#Baseline estimates-Hyperparameter Tuning\n",
    "st = time()\n",
    "grid_param = {'bsl_options': {'method': ['als'],\n",
    "                             'n_epochs': random.sample(range(10, 20), 3),\n",
    "                             'reg_u': random.sample(range(10, 30), 3),\n",
    "                             'reg_i': random.sample(range(10, 30), 3)}\n",
    "             }\n",
    "\n",
    "gs = GridSearchCV(algo_class=BaselineOnly, param_grid=grid_param, measures=['RMSE', 'MAE'], cv=5, n_jobs = -1)\n",
    "gs.fit(ratings_surp)\n",
    "print(gs.best_score['rmse'], gs.best_params['rmse'])\n",
    "print('Time taken %.2fs to tune the best hyper-parameter for Support Vector classifier' % (time()-st))"
   ]
  },
  {
   "cell_type": "code",
   "execution_count": 232,
   "metadata": {},
   "outputs": [
    {
     "name": "stdout",
     "output_type": "stream",
     "text": [
      "Estimating biases using als...\n"
     ]
    },
    {
     "data": {
      "text/plain": [
       "<surprise.prediction_algorithms.baseline_only.BaselineOnly at 0x21f0c9db7b8>"
      ]
     },
     "execution_count": 232,
     "metadata": {},
     "output_type": "execute_result"
    },
    {
     "name": "stdout",
     "output_type": "stream",
     "text": [
      "RMSE of Baseline Estimate is: 0.991994612342033\n"
     ]
    }
   ],
   "source": [
    "# Evaluate the Baseline Estimate model\n",
    "algo = BaselineOnly(bsl_options=gs.best_params['rmse']['bsl_options'])\n",
    "algo.fit(trainset)\n",
    "predictions = algo.test(testset)\n",
    "print('RMSE of Baseline Estimate is:', accuracy.rmse(predictions, verbose=False))"
   ]
  },
  {
   "cell_type": "code",
   "execution_count": 233,
   "metadata": {},
   "outputs": [
    {
     "data": {
      "text/html": [
       "<div>\n",
       "<style scoped>\n",
       "    .dataframe tbody tr th:only-of-type {\n",
       "        vertical-align: middle;\n",
       "    }\n",
       "\n",
       "    .dataframe tbody tr th {\n",
       "        vertical-align: top;\n",
       "    }\n",
       "\n",
       "    .dataframe thead th {\n",
       "        text-align: right;\n",
       "    }\n",
       "</style>\n",
       "<table border=\"1\" class=\"dataframe\">\n",
       "  <thead>\n",
       "    <tr style=\"text-align: right;\">\n",
       "      <th></th>\n",
       "      <th>uid</th>\n",
       "      <th>iid</th>\n",
       "      <th>r_ui</th>\n",
       "      <th>est</th>\n",
       "      <th>details</th>\n",
       "    </tr>\n",
       "  </thead>\n",
       "  <tbody>\n",
       "    <tr>\n",
       "      <th>0</th>\n",
       "      <td>A34C9AFFZOI45T</td>\n",
       "      <td>B000KMU0NU</td>\n",
       "      <td>5.0</td>\n",
       "      <td>4.722587</td>\n",
       "      <td>{'was_impossible': False}</td>\n",
       "    </tr>\n",
       "    <tr>\n",
       "      <th>1</th>\n",
       "      <td>AXYM52DNK6NDF</td>\n",
       "      <td>B004C5HM6Y</td>\n",
       "      <td>5.0</td>\n",
       "      <td>4.300573</td>\n",
       "      <td>{'was_impossible': False}</td>\n",
       "    </tr>\n",
       "    <tr>\n",
       "      <th>2</th>\n",
       "      <td>A1TQBAHI3M4ZBQ</td>\n",
       "      <td>B000ENRQ3M</td>\n",
       "      <td>3.0</td>\n",
       "      <td>4.590563</td>\n",
       "      <td>{'was_impossible': False}</td>\n",
       "    </tr>\n",
       "    <tr>\n",
       "      <th>3</th>\n",
       "      <td>A1TDR7Y90SVCHL</td>\n",
       "      <td>B0055OKHQS</td>\n",
       "      <td>5.0</td>\n",
       "      <td>4.298385</td>\n",
       "      <td>{'was_impossible': False}</td>\n",
       "    </tr>\n",
       "    <tr>\n",
       "      <th>4</th>\n",
       "      <td>A2IFKH3TJ10387</td>\n",
       "      <td>B005YR1PV2</td>\n",
       "      <td>4.0</td>\n",
       "      <td>4.115182</td>\n",
       "      <td>{'was_impossible': False}</td>\n",
       "    </tr>\n",
       "  </tbody>\n",
       "</table>\n",
       "</div>"
      ],
      "text/plain": [
       "              uid         iid  r_ui       est                    details\n",
       "0  A34C9AFFZOI45T  B000KMU0NU   5.0  4.722587  {'was_impossible': False}\n",
       "1   AXYM52DNK6NDF  B004C5HM6Y   5.0  4.300573  {'was_impossible': False}\n",
       "2  A1TQBAHI3M4ZBQ  B000ENRQ3M   3.0  4.590563  {'was_impossible': False}\n",
       "3  A1TDR7Y90SVCHL  B0055OKHQS   5.0  4.298385  {'was_impossible': False}\n",
       "4  A2IFKH3TJ10387  B005YR1PV2   4.0  4.115182  {'was_impossible': False}"
      ]
     },
     "execution_count": 233,
     "metadata": {},
     "output_type": "execute_result"
    }
   ],
   "source": [
    "# Convert the predictions into pandas dataframe\n",
    "baseline_prediction = pd.DataFrame(predictions)\n",
    "baseline_prediction.head()"
   ]
  },
  {
   "cell_type": "code",
   "execution_count": 234,
   "metadata": {},
   "outputs": [
    {
     "data": {
      "text/plain": [
       "Prediction(uid='A100UD67AHFODS', iid='B0019EHU8G', r_ui=None, est=4.947802478453506, details={'was_impossible': False})"
      ]
     },
     "execution_count": 234,
     "metadata": {},
     "output_type": "execute_result"
    }
   ],
   "source": [
    "# Sort in descending order\n",
    "baseline_prediction.sort_values(by=['uid','est'], ascending=False, inplace=True)\n",
    "# Predict for a particular user\n",
    "algo.predict(uid='A100UD67AHFODS', iid='B0019EHU8G')"
   ]
  },
  {
   "cell_type": "code",
   "execution_count": 235,
   "metadata": {},
   "outputs": [
    {
     "data": {
      "text/plain": [
       "58722951"
      ]
     },
     "execution_count": 235,
     "metadata": {},
     "output_type": "execute_result"
    }
   ],
   "source": [
    "#Recommendation using Baseline Estimate\n",
    "# Extract all null ratings in the original trainset (was_impossible=True)\n",
    "testset_new = trainset.build_anti_testset()\n",
    "len(testset_new)"
   ]
  },
  {
   "cell_type": "code",
   "execution_count": 236,
   "metadata": {},
   "outputs": [
    {
     "name": "stdout",
     "output_type": "stream",
     "text": [
      "Baseline Estimate - SURPRISE\n",
      "Top 5 recommendations for the userId: A1TQBAHI3M4ZBQ\n"
     ]
    },
    {
     "data": {
      "text/html": [
       "<div>\n",
       "<style scoped>\n",
       "    .dataframe tbody tr th:only-of-type {\n",
       "        vertical-align: middle;\n",
       "    }\n",
       "\n",
       "    .dataframe tbody tr th {\n",
       "        vertical-align: top;\n",
       "    }\n",
       "\n",
       "    .dataframe thead th {\n",
       "        text-align: right;\n",
       "    }\n",
       "</style>\n",
       "<table border=\"1\" class=\"dataframe\">\n",
       "  <thead>\n",
       "    <tr style=\"text-align: right;\">\n",
       "      <th></th>\n",
       "      <th>uid</th>\n",
       "      <th>iid</th>\n",
       "      <th>r_ui</th>\n",
       "      <th>est</th>\n",
       "      <th>details</th>\n",
       "    </tr>\n",
       "  </thead>\n",
       "  <tbody>\n",
       "    <tr>\n",
       "      <th>6095</th>\n",
       "      <td>A1TQBAHI3M4ZBQ</td>\n",
       "      <td>B000CRFOMK</td>\n",
       "      <td>5.0</td>\n",
       "      <td>5.000000</td>\n",
       "      <td>{'was_impossible': False}</td>\n",
       "    </tr>\n",
       "    <tr>\n",
       "      <th>6096</th>\n",
       "      <td>A1TQBAHI3M4ZBQ</td>\n",
       "      <td>B005K7192G</td>\n",
       "      <td>5.0</td>\n",
       "      <td>4.963930</td>\n",
       "      <td>{'was_impossible': False}</td>\n",
       "    </tr>\n",
       "    <tr>\n",
       "      <th>6097</th>\n",
       "      <td>A1TQBAHI3M4ZBQ</td>\n",
       "      <td>B00006IW1X</td>\n",
       "      <td>5.0</td>\n",
       "      <td>4.833641</td>\n",
       "      <td>{'was_impossible': False}</td>\n",
       "    </tr>\n",
       "    <tr>\n",
       "      <th>6098</th>\n",
       "      <td>A1TQBAHI3M4ZBQ</td>\n",
       "      <td>B00BWF5U0M</td>\n",
       "      <td>4.0</td>\n",
       "      <td>4.790313</td>\n",
       "      <td>{'was_impossible': False}</td>\n",
       "    </tr>\n",
       "    <tr>\n",
       "      <th>6099</th>\n",
       "      <td>A1TQBAHI3M4ZBQ</td>\n",
       "      <td>B0011WCVPI</td>\n",
       "      <td>5.0</td>\n",
       "      <td>4.733592</td>\n",
       "      <td>{'was_impossible': False}</td>\n",
       "    </tr>\n",
       "  </tbody>\n",
       "</table>\n",
       "</div>"
      ],
      "text/plain": [
       "                 uid         iid  r_ui       est                    details\n",
       "6095  A1TQBAHI3M4ZBQ  B000CRFOMK   5.0  5.000000  {'was_impossible': False}\n",
       "6096  A1TQBAHI3M4ZBQ  B005K7192G   5.0  4.963930  {'was_impossible': False}\n",
       "6097  A1TQBAHI3M4ZBQ  B00006IW1X   5.0  4.833641  {'was_impossible': False}\n",
       "6098  A1TQBAHI3M4ZBQ  B00BWF5U0M   4.0  4.790313  {'was_impossible': False}\n",
       "6099  A1TQBAHI3M4ZBQ  B0011WCVPI   5.0  4.733592  {'was_impossible': False}"
      ]
     },
     "execution_count": 236,
     "metadata": {},
     "output_type": "execute_result"
    },
    {
     "name": "stdout",
     "output_type": "stream",
     "text": [
      "\n",
      "\n",
      "Top 5 recommendations for the userId: A1TDR7Y90SVCHL\n"
     ]
    },
    {
     "data": {
      "text/html": [
       "<div>\n",
       "<style scoped>\n",
       "    .dataframe tbody tr th:only-of-type {\n",
       "        vertical-align: middle;\n",
       "    }\n",
       "\n",
       "    .dataframe tbody tr th {\n",
       "        vertical-align: top;\n",
       "    }\n",
       "\n",
       "    .dataframe thead th {\n",
       "        text-align: right;\n",
       "    }\n",
       "</style>\n",
       "<table border=\"1\" class=\"dataframe\">\n",
       "  <thead>\n",
       "    <tr style=\"text-align: right;\">\n",
       "      <th></th>\n",
       "      <th>uid</th>\n",
       "      <th>iid</th>\n",
       "      <th>r_ui</th>\n",
       "      <th>est</th>\n",
       "      <th>details</th>\n",
       "    </tr>\n",
       "  </thead>\n",
       "  <tbody>\n",
       "    <tr>\n",
       "      <th>6105</th>\n",
       "      <td>A1TDR7Y90SVCHL</td>\n",
       "      <td>B001TH7T2U</td>\n",
       "      <td>5.0</td>\n",
       "      <td>4.691184</td>\n",
       "      <td>{'was_impossible': False}</td>\n",
       "    </tr>\n",
       "    <tr>\n",
       "      <th>6106</th>\n",
       "      <td>A1TDR7Y90SVCHL</td>\n",
       "      <td>B002JQNXZC</td>\n",
       "      <td>5.0</td>\n",
       "      <td>4.490434</td>\n",
       "      <td>{'was_impossible': False}</td>\n",
       "    </tr>\n",
       "    <tr>\n",
       "      <th>6107</th>\n",
       "      <td>A1TDR7Y90SVCHL</td>\n",
       "      <td>B000HDJT4S</td>\n",
       "      <td>5.0</td>\n",
       "      <td>4.415268</td>\n",
       "      <td>{'was_impossible': False}</td>\n",
       "    </tr>\n",
       "    <tr>\n",
       "      <th>6108</th>\n",
       "      <td>A1TDR7Y90SVCHL</td>\n",
       "      <td>B0064Z71T8</td>\n",
       "      <td>1.0</td>\n",
       "      <td>4.391652</td>\n",
       "      <td>{'was_impossible': False}</td>\n",
       "    </tr>\n",
       "    <tr>\n",
       "      <th>6109</th>\n",
       "      <td>A1TDR7Y90SVCHL</td>\n",
       "      <td>B000JJSQ30</td>\n",
       "      <td>5.0</td>\n",
       "      <td>4.384630</td>\n",
       "      <td>{'was_impossible': False}</td>\n",
       "    </tr>\n",
       "  </tbody>\n",
       "</table>\n",
       "</div>"
      ],
      "text/plain": [
       "                 uid         iid  r_ui       est                    details\n",
       "6105  A1TDR7Y90SVCHL  B001TH7T2U   5.0  4.691184  {'was_impossible': False}\n",
       "6106  A1TDR7Y90SVCHL  B002JQNXZC   5.0  4.490434  {'was_impossible': False}\n",
       "6107  A1TDR7Y90SVCHL  B000HDJT4S   5.0  4.415268  {'was_impossible': False}\n",
       "6108  A1TDR7Y90SVCHL  B0064Z71T8   1.0  4.391652  {'was_impossible': False}\n",
       "6109  A1TDR7Y90SVCHL  B000JJSQ30   5.0  4.384630  {'was_impossible': False}"
      ]
     },
     "execution_count": 236,
     "metadata": {},
     "output_type": "execute_result"
    },
    {
     "name": "stdout",
     "output_type": "stream",
     "text": [
      "\n",
      "\n"
     ]
    }
   ],
   "source": [
    "# Create a list of users\n",
    "users = ['A1TQBAHI3M4ZBQ','A1TDR7Y90SVCHL']\n",
    "top_k = 5\n",
    "\n",
    "# Baseline Recommendation\n",
    "print('Baseline Estimate - SURPRISE')\n",
    "top_k_recoms = baseline_prediction.groupby('uid').head(top_k).reset_index(drop=True)\n",
    "for user in users:\n",
    "    print(\"Top %d recommendations for the userId: %s\" %(top_k,user))\n",
    "    top_k_recoms[top_k_recoms.uid.isin([user])]\n",
    "    print(\"\\n\")"
   ]
  },
  {
   "cell_type": "code",
   "execution_count": null,
   "metadata": {},
   "outputs": [],
   "source": [
    "## User Based Collaborative Filtering (UBCF)\n",
    "## Use Pearson's correlation similarity with KNNWithMeans algorithm to achieve this recommendation.\n"
   ]
  },
  {
   "cell_type": "code",
   "execution_count": 237,
   "metadata": {},
   "outputs": [
    {
     "name": "stdout",
     "output_type": "stream",
     "text": [
      "Computing the pearson similarity matrix...\n",
      "Done computing similarity matrix.\n"
     ]
    },
    {
     "data": {
      "text/plain": [
       "<surprise.prediction_algorithms.knns.KNNWithMeans at 0x21f0717d668>"
      ]
     },
     "execution_count": 237,
     "metadata": {},
     "output_type": "execute_result"
    }
   ],
   "source": [
    "# Instantiate and train the User based KNN algorithm\n",
    "algo = KNNWithMeans(50, sim_options = { 'name':'pearson', 'user_based':True })\n",
    "algo.fit(trainset)\n",
    "\n"
   ]
  },
  {
   "cell_type": "code",
   "execution_count": 238,
   "metadata": {},
   "outputs": [
    {
     "name": "stdout",
     "output_type": "stream",
     "text": [
      "RMSE of User Based approach is: 1.0567664621980295\n"
     ]
    }
   ],
   "source": [
    "#Evaluate the model\n",
    "predictions = algo.test(testset)\n",
    "print('RMSE of User Based approach is:', accuracy.rmse(predictions, verbose=False))"
   ]
  },
  {
   "cell_type": "code",
   "execution_count": 239,
   "metadata": {},
   "outputs": [
    {
     "data": {
      "text/html": [
       "<div>\n",
       "<style scoped>\n",
       "    .dataframe tbody tr th:only-of-type {\n",
       "        vertical-align: middle;\n",
       "    }\n",
       "\n",
       "    .dataframe tbody tr th {\n",
       "        vertical-align: top;\n",
       "    }\n",
       "\n",
       "    .dataframe thead th {\n",
       "        text-align: right;\n",
       "    }\n",
       "</style>\n",
       "<table border=\"1\" class=\"dataframe\">\n",
       "  <thead>\n",
       "    <tr style=\"text-align: right;\">\n",
       "      <th></th>\n",
       "      <th>uid</th>\n",
       "      <th>iid</th>\n",
       "      <th>r_ui</th>\n",
       "      <th>est</th>\n",
       "      <th>details</th>\n",
       "    </tr>\n",
       "  </thead>\n",
       "  <tbody>\n",
       "    <tr>\n",
       "      <th>0</th>\n",
       "      <td>A34C9AFFZOI45T</td>\n",
       "      <td>B000KMU0NU</td>\n",
       "      <td>5.0</td>\n",
       "      <td>4.265092</td>\n",
       "      <td>{'was_impossible': True, 'reason': 'User and/o...</td>\n",
       "    </tr>\n",
       "    <tr>\n",
       "      <th>1</th>\n",
       "      <td>AXYM52DNK6NDF</td>\n",
       "      <td>B004C5HM6Y</td>\n",
       "      <td>5.0</td>\n",
       "      <td>4.265092</td>\n",
       "      <td>{'was_impossible': True, 'reason': 'User and/o...</td>\n",
       "    </tr>\n",
       "    <tr>\n",
       "      <th>2</th>\n",
       "      <td>A1TQBAHI3M4ZBQ</td>\n",
       "      <td>B000ENRQ3M</td>\n",
       "      <td>3.0</td>\n",
       "      <td>4.906977</td>\n",
       "      <td>{'actual_k': 0, 'was_impossible': False}</td>\n",
       "    </tr>\n",
       "    <tr>\n",
       "      <th>3</th>\n",
       "      <td>A1TDR7Y90SVCHL</td>\n",
       "      <td>B0055OKHQS</td>\n",
       "      <td>5.0</td>\n",
       "      <td>4.265092</td>\n",
       "      <td>{'was_impossible': True, 'reason': 'User and/o...</td>\n",
       "    </tr>\n",
       "    <tr>\n",
       "      <th>4</th>\n",
       "      <td>A2IFKH3TJ10387</td>\n",
       "      <td>B005YR1PV2</td>\n",
       "      <td>4.0</td>\n",
       "      <td>4.372881</td>\n",
       "      <td>{'actual_k': 0, 'was_impossible': False}</td>\n",
       "    </tr>\n",
       "  </tbody>\n",
       "</table>\n",
       "</div>"
      ],
      "text/plain": [
       "              uid         iid  r_ui       est  \\\n",
       "0  A34C9AFFZOI45T  B000KMU0NU   5.0  4.265092   \n",
       "1   AXYM52DNK6NDF  B004C5HM6Y   5.0  4.265092   \n",
       "2  A1TQBAHI3M4ZBQ  B000ENRQ3M   3.0  4.906977   \n",
       "3  A1TDR7Y90SVCHL  B0055OKHQS   5.0  4.265092   \n",
       "4  A2IFKH3TJ10387  B005YR1PV2   4.0  4.372881   \n",
       "\n",
       "                                             details  \n",
       "0  {'was_impossible': True, 'reason': 'User and/o...  \n",
       "1  {'was_impossible': True, 'reason': 'User and/o...  \n",
       "2           {'actual_k': 0, 'was_impossible': False}  \n",
       "3  {'was_impossible': True, 'reason': 'User and/o...  \n",
       "4           {'actual_k': 0, 'was_impossible': False}  "
      ]
     },
     "execution_count": 239,
     "metadata": {},
     "output_type": "execute_result"
    }
   ],
   "source": [
    "# Convert the predictions into pandas dataframe\n",
    "ubcf_prediction = pd.DataFrame(predictions)\n",
    "ubcf_prediction.head()"
   ]
  },
  {
   "cell_type": "code",
   "execution_count": 240,
   "metadata": {},
   "outputs": [
    {
     "data": {
      "text/plain": [
       "Prediction(uid='A100UD67AHFODS', iid='B0019EHU8G', r_ui=None, est=5, details={'actual_k': 2, 'was_impossible': False})"
      ]
     },
     "execution_count": 240,
     "metadata": {},
     "output_type": "execute_result"
    }
   ],
   "source": [
    "# Sort in descending order\n",
    "ubcf_prediction.sort_values(by=['uid','est'], ascending=False, inplace=True)\n",
    "# Predict for a particular user\n",
    "algo.predict(uid='A100UD67AHFODS', iid='B0019EHU8G')"
   ]
  },
  {
   "cell_type": "code",
   "execution_count": 241,
   "metadata": {},
   "outputs": [
    {
     "name": "stdout",
     "output_type": "stream",
     "text": [
      "User Based - SURPRISE\n",
      "Top 5 recommendations for the userId: A1TQBAHI3M4ZBQ\n"
     ]
    },
    {
     "data": {
      "text/html": [
       "<div>\n",
       "<style scoped>\n",
       "    .dataframe tbody tr th:only-of-type {\n",
       "        vertical-align: middle;\n",
       "    }\n",
       "\n",
       "    .dataframe tbody tr th {\n",
       "        vertical-align: top;\n",
       "    }\n",
       "\n",
       "    .dataframe thead th {\n",
       "        text-align: right;\n",
       "    }\n",
       "</style>\n",
       "<table border=\"1\" class=\"dataframe\">\n",
       "  <thead>\n",
       "    <tr style=\"text-align: right;\">\n",
       "      <th></th>\n",
       "      <th>uid</th>\n",
       "      <th>iid</th>\n",
       "      <th>r_ui</th>\n",
       "      <th>est</th>\n",
       "      <th>details</th>\n",
       "    </tr>\n",
       "  </thead>\n",
       "  <tbody>\n",
       "    <tr>\n",
       "      <th>6095</th>\n",
       "      <td>A1TQBAHI3M4ZBQ</td>\n",
       "      <td>B000ENRQ3M</td>\n",
       "      <td>3.0</td>\n",
       "      <td>4.906977</td>\n",
       "      <td>{'actual_k': 0, 'was_impossible': False}</td>\n",
       "    </tr>\n",
       "    <tr>\n",
       "      <th>6096</th>\n",
       "      <td>A1TQBAHI3M4ZBQ</td>\n",
       "      <td>B005K7192G</td>\n",
       "      <td>5.0</td>\n",
       "      <td>4.906977</td>\n",
       "      <td>{'actual_k': 0, 'was_impossible': False}</td>\n",
       "    </tr>\n",
       "    <tr>\n",
       "      <th>6097</th>\n",
       "      <td>A1TQBAHI3M4ZBQ</td>\n",
       "      <td>B00006IW1X</td>\n",
       "      <td>5.0</td>\n",
       "      <td>4.906977</td>\n",
       "      <td>{'actual_k': 0, 'was_impossible': False}</td>\n",
       "    </tr>\n",
       "    <tr>\n",
       "      <th>6098</th>\n",
       "      <td>A1TQBAHI3M4ZBQ</td>\n",
       "      <td>B000ETXOC8</td>\n",
       "      <td>5.0</td>\n",
       "      <td>4.906977</td>\n",
       "      <td>{'actual_k': 0, 'was_impossible': False}</td>\n",
       "    </tr>\n",
       "    <tr>\n",
       "      <th>6099</th>\n",
       "      <td>A1TQBAHI3M4ZBQ</td>\n",
       "      <td>B0015ZIS8K</td>\n",
       "      <td>5.0</td>\n",
       "      <td>4.906977</td>\n",
       "      <td>{'actual_k': 0, 'was_impossible': False}</td>\n",
       "    </tr>\n",
       "  </tbody>\n",
       "</table>\n",
       "</div>"
      ],
      "text/plain": [
       "                 uid         iid  r_ui       est  \\\n",
       "6095  A1TQBAHI3M4ZBQ  B000ENRQ3M   3.0  4.906977   \n",
       "6096  A1TQBAHI3M4ZBQ  B005K7192G   5.0  4.906977   \n",
       "6097  A1TQBAHI3M4ZBQ  B00006IW1X   5.0  4.906977   \n",
       "6098  A1TQBAHI3M4ZBQ  B000ETXOC8   5.0  4.906977   \n",
       "6099  A1TQBAHI3M4ZBQ  B0015ZIS8K   5.0  4.906977   \n",
       "\n",
       "                                       details  \n",
       "6095  {'actual_k': 0, 'was_impossible': False}  \n",
       "6096  {'actual_k': 0, 'was_impossible': False}  \n",
       "6097  {'actual_k': 0, 'was_impossible': False}  \n",
       "6098  {'actual_k': 0, 'was_impossible': False}  \n",
       "6099  {'actual_k': 0, 'was_impossible': False}  "
      ]
     },
     "execution_count": 241,
     "metadata": {},
     "output_type": "execute_result"
    },
    {
     "name": "stdout",
     "output_type": "stream",
     "text": [
      "\n",
      "\n",
      "Top 5 recommendations for the userId: A1TDR7Y90SVCHL\n"
     ]
    },
    {
     "data": {
      "text/html": [
       "<div>\n",
       "<style scoped>\n",
       "    .dataframe tbody tr th:only-of-type {\n",
       "        vertical-align: middle;\n",
       "    }\n",
       "\n",
       "    .dataframe tbody tr th {\n",
       "        vertical-align: top;\n",
       "    }\n",
       "\n",
       "    .dataframe thead th {\n",
       "        text-align: right;\n",
       "    }\n",
       "</style>\n",
       "<table border=\"1\" class=\"dataframe\">\n",
       "  <thead>\n",
       "    <tr style=\"text-align: right;\">\n",
       "      <th></th>\n",
       "      <th>uid</th>\n",
       "      <th>iid</th>\n",
       "      <th>r_ui</th>\n",
       "      <th>est</th>\n",
       "      <th>details</th>\n",
       "    </tr>\n",
       "  </thead>\n",
       "  <tbody>\n",
       "    <tr>\n",
       "      <th>6105</th>\n",
       "      <td>A1TDR7Y90SVCHL</td>\n",
       "      <td>B002ZCXJZE</td>\n",
       "      <td>5.0</td>\n",
       "      <td>5.000000</td>\n",
       "      <td>{'actual_k': 1, 'was_impossible': False}</td>\n",
       "    </tr>\n",
       "    <tr>\n",
       "      <th>6106</th>\n",
       "      <td>A1TDR7Y90SVCHL</td>\n",
       "      <td>B000HDJT4S</td>\n",
       "      <td>5.0</td>\n",
       "      <td>4.366197</td>\n",
       "      <td>{'actual_k': 0, 'was_impossible': False}</td>\n",
       "    </tr>\n",
       "    <tr>\n",
       "      <th>6107</th>\n",
       "      <td>A1TDR7Y90SVCHL</td>\n",
       "      <td>B003EO1H7E</td>\n",
       "      <td>4.0</td>\n",
       "      <td>4.366197</td>\n",
       "      <td>{'actual_k': 0, 'was_impossible': False}</td>\n",
       "    </tr>\n",
       "    <tr>\n",
       "      <th>6108</th>\n",
       "      <td>A1TDR7Y90SVCHL</td>\n",
       "      <td>B0064Z71T8</td>\n",
       "      <td>1.0</td>\n",
       "      <td>4.366197</td>\n",
       "      <td>{'actual_k': 0, 'was_impossible': False}</td>\n",
       "    </tr>\n",
       "    <tr>\n",
       "      <th>6109</th>\n",
       "      <td>A1TDR7Y90SVCHL</td>\n",
       "      <td>B000JJSQ30</td>\n",
       "      <td>5.0</td>\n",
       "      <td>4.366197</td>\n",
       "      <td>{'actual_k': 0, 'was_impossible': False}</td>\n",
       "    </tr>\n",
       "  </tbody>\n",
       "</table>\n",
       "</div>"
      ],
      "text/plain": [
       "                 uid         iid  r_ui       est  \\\n",
       "6105  A1TDR7Y90SVCHL  B002ZCXJZE   5.0  5.000000   \n",
       "6106  A1TDR7Y90SVCHL  B000HDJT4S   5.0  4.366197   \n",
       "6107  A1TDR7Y90SVCHL  B003EO1H7E   4.0  4.366197   \n",
       "6108  A1TDR7Y90SVCHL  B0064Z71T8   1.0  4.366197   \n",
       "6109  A1TDR7Y90SVCHL  B000JJSQ30   5.0  4.366197   \n",
       "\n",
       "                                       details  \n",
       "6105  {'actual_k': 1, 'was_impossible': False}  \n",
       "6106  {'actual_k': 0, 'was_impossible': False}  \n",
       "6107  {'actual_k': 0, 'was_impossible': False}  \n",
       "6108  {'actual_k': 0, 'was_impossible': False}  \n",
       "6109  {'actual_k': 0, 'was_impossible': False}  "
      ]
     },
     "execution_count": 241,
     "metadata": {},
     "output_type": "execute_result"
    },
    {
     "name": "stdout",
     "output_type": "stream",
     "text": [
      "\n",
      "\n"
     ]
    }
   ],
   "source": [
    "# Create a list of users\n",
    "users = ['A1TQBAHI3M4ZBQ','A1TDR7Y90SVCHL']\n",
    "top_k = 5\n",
    "\n",
    "# Baseline Recommendation\n",
    "print('User Based - SURPRISE')\n",
    "top_k_recoms = ubcf_prediction.groupby('uid').head(top_k).reset_index(drop=True)\n",
    "for user in users:\n",
    "    print(\"Top %d recommendations for the userId: %s\" %(top_k,user))\n",
    "    top_k_recoms[top_k_recoms.uid.isin([user])]\n",
    "    print(\"\\n\")"
   ]
  },
  {
   "cell_type": "code",
   "execution_count": 242,
   "metadata": {},
   "outputs": [],
   "source": [
    "## Recommendation using User Based approach\n",
    "## using Pearson's correlation similarity with KNNWithMeans algorithm to achieve this recommendation."
   ]
  },
  {
   "cell_type": "code",
   "execution_count": 255,
   "metadata": {},
   "outputs": [],
   "source": [
    "from surprise import AlgoBase\n",
    "from surprise import Dataset\n",
    "from surprise.model_selection import cross_validate\n",
    "from surprise import PredictionImpossible"
   ]
  },
  {
   "cell_type": "code",
   "execution_count": 264,
   "metadata": {},
   "outputs": [],
   "source": [
    "# Use smaller ratings dataset to avoid MemoryError (Dropped 80% data)\n",
    "ratings_surp_sm = Dataset.load_from_df(r_df.sample(frac=0.8, random_state=25), Reader(rating_scale=(1, 5)))\n",
    "trainset_sm, testset_sm = train_test_split(ratings_surp_sm, test_size=0.3, random_state=123)"
   ]
  },
  {
   "cell_type": "code",
   "execution_count": 272,
   "metadata": {},
   "outputs": [
    {
     "name": "stdout",
     "output_type": "stream",
     "text": [
      "Computing the pearson similarity matrix...\n"
     ]
    },
    {
     "ename": "MemoryError",
     "evalue": "",
     "output_type": "error",
     "traceback": [
      "\u001b[1;31m---------------------------------------------------------------------------\u001b[0m",
      "\u001b[1;31mMemoryError\u001b[0m                               Traceback (most recent call last)",
      "\u001b[1;32m<ipython-input-272-fb225e971bff>\u001b[0m in \u001b[0;36m<module>\u001b[1;34m\u001b[0m\n\u001b[0;32m      1\u001b[0m \u001b[1;31m# Instantiate and train the Item Based KNN algorithm\u001b[0m\u001b[1;33m\u001b[0m\u001b[1;33m\u001b[0m\u001b[1;33m\u001b[0m\u001b[0m\n\u001b[0;32m      2\u001b[0m \u001b[0malgo\u001b[0m \u001b[1;33m=\u001b[0m \u001b[0mKNNWithMeans\u001b[0m\u001b[1;33m(\u001b[0m\u001b[1;36m50\u001b[0m\u001b[1;33m,\u001b[0m \u001b[0msim_options\u001b[0m \u001b[1;33m=\u001b[0m \u001b[1;33m{\u001b[0m \u001b[1;34m'name'\u001b[0m\u001b[1;33m:\u001b[0m\u001b[1;34m'pearson'\u001b[0m\u001b[1;33m,\u001b[0m \u001b[1;34m'user_based'\u001b[0m\u001b[1;33m:\u001b[0m\u001b[1;32mFalse\u001b[0m \u001b[1;33m}\u001b[0m\u001b[1;33m)\u001b[0m\u001b[1;33m\u001b[0m\u001b[1;33m\u001b[0m\u001b[0m\n\u001b[1;32m----> 3\u001b[1;33m \u001b[0malgo\u001b[0m\u001b[1;33m.\u001b[0m\u001b[0mfit\u001b[0m\u001b[1;33m(\u001b[0m\u001b[0mtrainset_sm\u001b[0m\u001b[1;33m)\u001b[0m\u001b[1;33m\u001b[0m\u001b[1;33m\u001b[0m\u001b[0m\n\u001b[0m",
      "\u001b[1;32mC:\\Anaconda\\lib\\site-packages\\surprise\\prediction_algorithms\\knns.py\u001b[0m in \u001b[0;36mfit\u001b[1;34m(self, trainset)\u001b[0m\n\u001b[0;32m    176\u001b[0m \u001b[1;33m\u001b[0m\u001b[0m\n\u001b[0;32m    177\u001b[0m         \u001b[0mSymmetricAlgo\u001b[0m\u001b[1;33m.\u001b[0m\u001b[0mfit\u001b[0m\u001b[1;33m(\u001b[0m\u001b[0mself\u001b[0m\u001b[1;33m,\u001b[0m \u001b[0mtrainset\u001b[0m\u001b[1;33m)\u001b[0m\u001b[1;33m\u001b[0m\u001b[1;33m\u001b[0m\u001b[0m\n\u001b[1;32m--> 178\u001b[1;33m         \u001b[0mself\u001b[0m\u001b[1;33m.\u001b[0m\u001b[0msim\u001b[0m \u001b[1;33m=\u001b[0m \u001b[0mself\u001b[0m\u001b[1;33m.\u001b[0m\u001b[0mcompute_similarities\u001b[0m\u001b[1;33m(\u001b[0m\u001b[1;33m)\u001b[0m\u001b[1;33m\u001b[0m\u001b[1;33m\u001b[0m\u001b[0m\n\u001b[0m\u001b[0;32m    179\u001b[0m \u001b[1;33m\u001b[0m\u001b[0m\n\u001b[0;32m    180\u001b[0m         \u001b[0mself\u001b[0m\u001b[1;33m.\u001b[0m\u001b[0mmeans\u001b[0m \u001b[1;33m=\u001b[0m \u001b[0mnp\u001b[0m\u001b[1;33m.\u001b[0m\u001b[0mzeros\u001b[0m\u001b[1;33m(\u001b[0m\u001b[0mself\u001b[0m\u001b[1;33m.\u001b[0m\u001b[0mn_x\u001b[0m\u001b[1;33m)\u001b[0m\u001b[1;33m\u001b[0m\u001b[1;33m\u001b[0m\u001b[0m\n",
      "\u001b[1;32mC:\\Anaconda\\lib\\site-packages\\surprise\\prediction_algorithms\\algo_base.py\u001b[0m in \u001b[0;36mcompute_similarities\u001b[1;34m(self)\u001b[0m\n\u001b[0;32m    291\u001b[0m             \u001b[1;32mif\u001b[0m \u001b[0mself\u001b[0m\u001b[1;33m.\u001b[0m\u001b[0mverbose\u001b[0m\u001b[1;33m:\u001b[0m\u001b[1;33m\u001b[0m\u001b[1;33m\u001b[0m\u001b[0m\n\u001b[0;32m    292\u001b[0m                 \u001b[0mprint\u001b[0m\u001b[1;33m(\u001b[0m\u001b[1;34m'Computing the {0} similarity matrix...'\u001b[0m\u001b[1;33m.\u001b[0m\u001b[0mformat\u001b[0m\u001b[1;33m(\u001b[0m\u001b[0mname\u001b[0m\u001b[1;33m)\u001b[0m\u001b[1;33m)\u001b[0m\u001b[1;33m\u001b[0m\u001b[1;33m\u001b[0m\u001b[0m\n\u001b[1;32m--> 293\u001b[1;33m             \u001b[0msim\u001b[0m \u001b[1;33m=\u001b[0m \u001b[0mconstruction_func\u001b[0m\u001b[1;33m[\u001b[0m\u001b[0mname\u001b[0m\u001b[1;33m]\u001b[0m\u001b[1;33m(\u001b[0m\u001b[1;33m*\u001b[0m\u001b[0margs\u001b[0m\u001b[1;33m)\u001b[0m\u001b[1;33m\u001b[0m\u001b[1;33m\u001b[0m\u001b[0m\n\u001b[0m\u001b[0;32m    294\u001b[0m             \u001b[1;32mif\u001b[0m \u001b[0mself\u001b[0m\u001b[1;33m.\u001b[0m\u001b[0mverbose\u001b[0m\u001b[1;33m:\u001b[0m\u001b[1;33m\u001b[0m\u001b[1;33m\u001b[0m\u001b[0m\n\u001b[0;32m    295\u001b[0m                 \u001b[0mprint\u001b[0m\u001b[1;33m(\u001b[0m\u001b[1;34m'Done computing similarity matrix.'\u001b[0m\u001b[1;33m)\u001b[0m\u001b[1;33m\u001b[0m\u001b[1;33m\u001b[0m\u001b[0m\n",
      "\u001b[1;32mC:\\Anaconda\\lib\\site-packages\\surprise\\similarities.pyx\u001b[0m in \u001b[0;36msurprise.similarities.pearson\u001b[1;34m()\u001b[0m\n",
      "\u001b[1;31mMemoryError\u001b[0m: "
     ]
    }
   ],
   "source": [
    "# Instantiate and train the Item Based KNN algorithm\n",
    "algo = KNNWithMeans(50, sim_options = { 'name':'pearson', 'user_based':False })\n",
    "algo.fit(trainset_sm)"
   ]
  },
  {
   "cell_type": "raw",
   "metadata": {},
   "source": [
    "encountering memory issue, seek advice from evaluators"
   ]
  },
  {
   "cell_type": "raw",
   "metadata": {},
   "source": [
    "Evaluate the Model"
   ]
  },
  {
   "cell_type": "code",
   "execution_count": 274,
   "metadata": {},
   "outputs": [
    {
     "ename": "AttributeError",
     "evalue": "'KNNWithMeans' object has no attribute 'sim'",
     "output_type": "error",
     "traceback": [
      "\u001b[1;31m---------------------------------------------------------------------------\u001b[0m",
      "\u001b[1;31mAttributeError\u001b[0m                            Traceback (most recent call last)",
      "\u001b[1;32m<ipython-input-274-25c0cfdd7d08>\u001b[0m in \u001b[0;36m<module>\u001b[1;34m\u001b[0m\n\u001b[1;32m----> 1\u001b[1;33m \u001b[0mpredictions\u001b[0m \u001b[1;33m=\u001b[0m \u001b[0malgo\u001b[0m\u001b[1;33m.\u001b[0m\u001b[0mtest\u001b[0m\u001b[1;33m(\u001b[0m\u001b[0mtestset_sm\u001b[0m\u001b[1;33m)\u001b[0m\u001b[1;33m\u001b[0m\u001b[1;33m\u001b[0m\u001b[0m\n\u001b[0m\u001b[0;32m      2\u001b[0m \u001b[0mprint\u001b[0m\u001b[1;33m(\u001b[0m\u001b[1;34m'RMSE of Item Based approach is:'\u001b[0m\u001b[1;33m,\u001b[0m \u001b[0maccuracy\u001b[0m\u001b[1;33m.\u001b[0m\u001b[0mrmse\u001b[0m\u001b[1;33m(\u001b[0m\u001b[0mpredictions\u001b[0m\u001b[1;33m,\u001b[0m \u001b[0mverbose\u001b[0m\u001b[1;33m=\u001b[0m\u001b[1;32mFalse\u001b[0m\u001b[1;33m)\u001b[0m\u001b[1;33m)\u001b[0m\u001b[1;33m\u001b[0m\u001b[1;33m\u001b[0m\u001b[0m\n",
      "\u001b[1;32mC:\\Anaconda\\lib\\site-packages\\surprise\\prediction_algorithms\\algo_base.py\u001b[0m in \u001b[0;36mtest\u001b[1;34m(self, testset, verbose)\u001b[0m\n\u001b[0;32m    210\u001b[0m                                     \u001b[0mr_ui_trans\u001b[0m \u001b[1;33m-\u001b[0m \u001b[0mself\u001b[0m\u001b[1;33m.\u001b[0m\u001b[0mtrainset\u001b[0m\u001b[1;33m.\u001b[0m\u001b[0moffset\u001b[0m\u001b[1;33m,\u001b[0m\u001b[1;33m\u001b[0m\u001b[1;33m\u001b[0m\u001b[0m\n\u001b[0;32m    211\u001b[0m                                     verbose=verbose)\n\u001b[1;32m--> 212\u001b[1;33m                        for (uid, iid, r_ui_trans) in testset]\n\u001b[0m\u001b[0;32m    213\u001b[0m         \u001b[1;32mreturn\u001b[0m \u001b[0mpredictions\u001b[0m\u001b[1;33m\u001b[0m\u001b[1;33m\u001b[0m\u001b[0m\n\u001b[0;32m    214\u001b[0m \u001b[1;33m\u001b[0m\u001b[0m\n",
      "\u001b[1;32mC:\\Anaconda\\lib\\site-packages\\surprise\\prediction_algorithms\\algo_base.py\u001b[0m in \u001b[0;36m<listcomp>\u001b[1;34m(.0)\u001b[0m\n\u001b[0;32m    210\u001b[0m                                     \u001b[0mr_ui_trans\u001b[0m \u001b[1;33m-\u001b[0m \u001b[0mself\u001b[0m\u001b[1;33m.\u001b[0m\u001b[0mtrainset\u001b[0m\u001b[1;33m.\u001b[0m\u001b[0moffset\u001b[0m\u001b[1;33m,\u001b[0m\u001b[1;33m\u001b[0m\u001b[1;33m\u001b[0m\u001b[0m\n\u001b[0;32m    211\u001b[0m                                     verbose=verbose)\n\u001b[1;32m--> 212\u001b[1;33m                        for (uid, iid, r_ui_trans) in testset]\n\u001b[0m\u001b[0;32m    213\u001b[0m         \u001b[1;32mreturn\u001b[0m \u001b[0mpredictions\u001b[0m\u001b[1;33m\u001b[0m\u001b[1;33m\u001b[0m\u001b[0m\n\u001b[0;32m    214\u001b[0m \u001b[1;33m\u001b[0m\u001b[0m\n",
      "\u001b[1;32mC:\\Anaconda\\lib\\site-packages\\surprise\\prediction_algorithms\\algo_base.py\u001b[0m in \u001b[0;36mpredict\u001b[1;34m(self, uid, iid, r_ui, clip, verbose)\u001b[0m\n\u001b[0;32m    144\u001b[0m         \u001b[0mdetails\u001b[0m \u001b[1;33m=\u001b[0m \u001b[1;33m{\u001b[0m\u001b[1;33m}\u001b[0m\u001b[1;33m\u001b[0m\u001b[1;33m\u001b[0m\u001b[0m\n\u001b[0;32m    145\u001b[0m         \u001b[1;32mtry\u001b[0m\u001b[1;33m:\u001b[0m\u001b[1;33m\u001b[0m\u001b[1;33m\u001b[0m\u001b[0m\n\u001b[1;32m--> 146\u001b[1;33m             \u001b[0mest\u001b[0m \u001b[1;33m=\u001b[0m \u001b[0mself\u001b[0m\u001b[1;33m.\u001b[0m\u001b[0mestimate\u001b[0m\u001b[1;33m(\u001b[0m\u001b[0miuid\u001b[0m\u001b[1;33m,\u001b[0m \u001b[0miiid\u001b[0m\u001b[1;33m)\u001b[0m\u001b[1;33m\u001b[0m\u001b[1;33m\u001b[0m\u001b[0m\n\u001b[0m\u001b[0;32m    147\u001b[0m \u001b[1;33m\u001b[0m\u001b[0m\n\u001b[0;32m    148\u001b[0m             \u001b[1;31m# If the details dict was also returned\u001b[0m\u001b[1;33m\u001b[0m\u001b[1;33m\u001b[0m\u001b[1;33m\u001b[0m\u001b[0m\n",
      "\u001b[1;32mC:\\Anaconda\\lib\\site-packages\\surprise\\prediction_algorithms\\knns.py\u001b[0m in \u001b[0;36mestimate\u001b[1;34m(self, u, i)\u001b[0m\n\u001b[0;32m    191\u001b[0m         \u001b[0mx\u001b[0m\u001b[1;33m,\u001b[0m \u001b[0my\u001b[0m \u001b[1;33m=\u001b[0m \u001b[0mself\u001b[0m\u001b[1;33m.\u001b[0m\u001b[0mswitch\u001b[0m\u001b[1;33m(\u001b[0m\u001b[0mu\u001b[0m\u001b[1;33m,\u001b[0m \u001b[0mi\u001b[0m\u001b[1;33m)\u001b[0m\u001b[1;33m\u001b[0m\u001b[1;33m\u001b[0m\u001b[0m\n\u001b[0;32m    192\u001b[0m \u001b[1;33m\u001b[0m\u001b[0m\n\u001b[1;32m--> 193\u001b[1;33m         \u001b[0mneighbors\u001b[0m \u001b[1;33m=\u001b[0m \u001b[1;33m[\u001b[0m\u001b[1;33m(\u001b[0m\u001b[0mx2\u001b[0m\u001b[1;33m,\u001b[0m \u001b[0mself\u001b[0m\u001b[1;33m.\u001b[0m\u001b[0msim\u001b[0m\u001b[1;33m[\u001b[0m\u001b[0mx\u001b[0m\u001b[1;33m,\u001b[0m \u001b[0mx2\u001b[0m\u001b[1;33m]\u001b[0m\u001b[1;33m,\u001b[0m \u001b[0mr\u001b[0m\u001b[1;33m)\u001b[0m \u001b[1;32mfor\u001b[0m \u001b[1;33m(\u001b[0m\u001b[0mx2\u001b[0m\u001b[1;33m,\u001b[0m \u001b[0mr\u001b[0m\u001b[1;33m)\u001b[0m \u001b[1;32min\u001b[0m \u001b[0mself\u001b[0m\u001b[1;33m.\u001b[0m\u001b[0myr\u001b[0m\u001b[1;33m[\u001b[0m\u001b[0my\u001b[0m\u001b[1;33m]\u001b[0m\u001b[1;33m]\u001b[0m\u001b[1;33m\u001b[0m\u001b[1;33m\u001b[0m\u001b[0m\n\u001b[0m\u001b[0;32m    194\u001b[0m         \u001b[0mk_neighbors\u001b[0m \u001b[1;33m=\u001b[0m \u001b[0mheapq\u001b[0m\u001b[1;33m.\u001b[0m\u001b[0mnlargest\u001b[0m\u001b[1;33m(\u001b[0m\u001b[0mself\u001b[0m\u001b[1;33m.\u001b[0m\u001b[0mk\u001b[0m\u001b[1;33m,\u001b[0m \u001b[0mneighbors\u001b[0m\u001b[1;33m,\u001b[0m \u001b[0mkey\u001b[0m\u001b[1;33m=\u001b[0m\u001b[1;32mlambda\u001b[0m \u001b[0mt\u001b[0m\u001b[1;33m:\u001b[0m \u001b[0mt\u001b[0m\u001b[1;33m[\u001b[0m\u001b[1;36m1\u001b[0m\u001b[1;33m]\u001b[0m\u001b[1;33m)\u001b[0m\u001b[1;33m\u001b[0m\u001b[1;33m\u001b[0m\u001b[0m\n\u001b[0;32m    195\u001b[0m \u001b[1;33m\u001b[0m\u001b[0m\n",
      "\u001b[1;32mC:\\Anaconda\\lib\\site-packages\\surprise\\prediction_algorithms\\knns.py\u001b[0m in \u001b[0;36m<listcomp>\u001b[1;34m(.0)\u001b[0m\n\u001b[0;32m    191\u001b[0m         \u001b[0mx\u001b[0m\u001b[1;33m,\u001b[0m \u001b[0my\u001b[0m \u001b[1;33m=\u001b[0m \u001b[0mself\u001b[0m\u001b[1;33m.\u001b[0m\u001b[0mswitch\u001b[0m\u001b[1;33m(\u001b[0m\u001b[0mu\u001b[0m\u001b[1;33m,\u001b[0m \u001b[0mi\u001b[0m\u001b[1;33m)\u001b[0m\u001b[1;33m\u001b[0m\u001b[1;33m\u001b[0m\u001b[0m\n\u001b[0;32m    192\u001b[0m \u001b[1;33m\u001b[0m\u001b[0m\n\u001b[1;32m--> 193\u001b[1;33m         \u001b[0mneighbors\u001b[0m \u001b[1;33m=\u001b[0m \u001b[1;33m[\u001b[0m\u001b[1;33m(\u001b[0m\u001b[0mx2\u001b[0m\u001b[1;33m,\u001b[0m \u001b[0mself\u001b[0m\u001b[1;33m.\u001b[0m\u001b[0msim\u001b[0m\u001b[1;33m[\u001b[0m\u001b[0mx\u001b[0m\u001b[1;33m,\u001b[0m \u001b[0mx2\u001b[0m\u001b[1;33m]\u001b[0m\u001b[1;33m,\u001b[0m \u001b[0mr\u001b[0m\u001b[1;33m)\u001b[0m \u001b[1;32mfor\u001b[0m \u001b[1;33m(\u001b[0m\u001b[0mx2\u001b[0m\u001b[1;33m,\u001b[0m \u001b[0mr\u001b[0m\u001b[1;33m)\u001b[0m \u001b[1;32min\u001b[0m \u001b[0mself\u001b[0m\u001b[1;33m.\u001b[0m\u001b[0myr\u001b[0m\u001b[1;33m[\u001b[0m\u001b[0my\u001b[0m\u001b[1;33m]\u001b[0m\u001b[1;33m]\u001b[0m\u001b[1;33m\u001b[0m\u001b[1;33m\u001b[0m\u001b[0m\n\u001b[0m\u001b[0;32m    194\u001b[0m         \u001b[0mk_neighbors\u001b[0m \u001b[1;33m=\u001b[0m \u001b[0mheapq\u001b[0m\u001b[1;33m.\u001b[0m\u001b[0mnlargest\u001b[0m\u001b[1;33m(\u001b[0m\u001b[0mself\u001b[0m\u001b[1;33m.\u001b[0m\u001b[0mk\u001b[0m\u001b[1;33m,\u001b[0m \u001b[0mneighbors\u001b[0m\u001b[1;33m,\u001b[0m \u001b[0mkey\u001b[0m\u001b[1;33m=\u001b[0m\u001b[1;32mlambda\u001b[0m \u001b[0mt\u001b[0m\u001b[1;33m:\u001b[0m \u001b[0mt\u001b[0m\u001b[1;33m[\u001b[0m\u001b[1;36m1\u001b[0m\u001b[1;33m]\u001b[0m\u001b[1;33m)\u001b[0m\u001b[1;33m\u001b[0m\u001b[1;33m\u001b[0m\u001b[0m\n\u001b[0;32m    195\u001b[0m \u001b[1;33m\u001b[0m\u001b[0m\n",
      "\u001b[1;31mAttributeError\u001b[0m: 'KNNWithMeans' object has no attribute 'sim'"
     ]
    }
   ],
   "source": [
    "predictions = algo.test(testset_sm)\n",
    "print('RMSE of Item Based approach is:', accuracy.rmse(predictions, verbose=False))\n"
   ]
  },
  {
   "cell_type": "code",
   "execution_count": 275,
   "metadata": {},
   "outputs": [
    {
     "data": {
      "text/html": [
       "<div>\n",
       "<style scoped>\n",
       "    .dataframe tbody tr th:only-of-type {\n",
       "        vertical-align: middle;\n",
       "    }\n",
       "\n",
       "    .dataframe tbody tr th {\n",
       "        vertical-align: top;\n",
       "    }\n",
       "\n",
       "    .dataframe thead th {\n",
       "        text-align: right;\n",
       "    }\n",
       "</style>\n",
       "<table border=\"1\" class=\"dataframe\">\n",
       "  <thead>\n",
       "    <tr style=\"text-align: right;\">\n",
       "      <th></th>\n",
       "      <th>uid</th>\n",
       "      <th>iid</th>\n",
       "      <th>r_ui</th>\n",
       "      <th>est</th>\n",
       "      <th>details</th>\n",
       "    </tr>\n",
       "  </thead>\n",
       "  <tbody>\n",
       "    <tr>\n",
       "      <th>0</th>\n",
       "      <td>A34C9AFFZOI45T</td>\n",
       "      <td>B000KMU0NU</td>\n",
       "      <td>5.0</td>\n",
       "      <td>4.265092</td>\n",
       "      <td>{'was_impossible': True, 'reason': 'User and/o...</td>\n",
       "    </tr>\n",
       "    <tr>\n",
       "      <th>1</th>\n",
       "      <td>AXYM52DNK6NDF</td>\n",
       "      <td>B004C5HM6Y</td>\n",
       "      <td>5.0</td>\n",
       "      <td>4.265092</td>\n",
       "      <td>{'was_impossible': True, 'reason': 'User and/o...</td>\n",
       "    </tr>\n",
       "    <tr>\n",
       "      <th>2</th>\n",
       "      <td>A1TQBAHI3M4ZBQ</td>\n",
       "      <td>B000ENRQ3M</td>\n",
       "      <td>3.0</td>\n",
       "      <td>4.906977</td>\n",
       "      <td>{'actual_k': 0, 'was_impossible': False}</td>\n",
       "    </tr>\n",
       "    <tr>\n",
       "      <th>3</th>\n",
       "      <td>A1TDR7Y90SVCHL</td>\n",
       "      <td>B0055OKHQS</td>\n",
       "      <td>5.0</td>\n",
       "      <td>4.265092</td>\n",
       "      <td>{'was_impossible': True, 'reason': 'User and/o...</td>\n",
       "    </tr>\n",
       "    <tr>\n",
       "      <th>4</th>\n",
       "      <td>A2IFKH3TJ10387</td>\n",
       "      <td>B005YR1PV2</td>\n",
       "      <td>4.0</td>\n",
       "      <td>4.372881</td>\n",
       "      <td>{'actual_k': 0, 'was_impossible': False}</td>\n",
       "    </tr>\n",
       "  </tbody>\n",
       "</table>\n",
       "</div>"
      ],
      "text/plain": [
       "              uid         iid  r_ui       est  \\\n",
       "0  A34C9AFFZOI45T  B000KMU0NU   5.0  4.265092   \n",
       "1   AXYM52DNK6NDF  B004C5HM6Y   5.0  4.265092   \n",
       "2  A1TQBAHI3M4ZBQ  B000ENRQ3M   3.0  4.906977   \n",
       "3  A1TDR7Y90SVCHL  B0055OKHQS   5.0  4.265092   \n",
       "4  A2IFKH3TJ10387  B005YR1PV2   4.0  4.372881   \n",
       "\n",
       "                                             details  \n",
       "0  {'was_impossible': True, 'reason': 'User and/o...  \n",
       "1  {'was_impossible': True, 'reason': 'User and/o...  \n",
       "2           {'actual_k': 0, 'was_impossible': False}  \n",
       "3  {'was_impossible': True, 'reason': 'User and/o...  \n",
       "4           {'actual_k': 0, 'was_impossible': False}  "
      ]
     },
     "execution_count": 275,
     "metadata": {},
     "output_type": "execute_result"
    }
   ],
   "source": [
    "# Convert the predictions into pandas dataframe\n",
    "ibcf_prediction = pd.DataFrame(predictions)\n",
    "ibcf_prediction.head()"
   ]
  },
  {
   "cell_type": "code",
   "execution_count": 276,
   "metadata": {},
   "outputs": [
    {
     "ename": "AttributeError",
     "evalue": "'KNNWithMeans' object has no attribute 'sim'",
     "output_type": "error",
     "traceback": [
      "\u001b[1;31m---------------------------------------------------------------------------\u001b[0m",
      "\u001b[1;31mAttributeError\u001b[0m                            Traceback (most recent call last)",
      "\u001b[1;32m<ipython-input-276-5a03fc061af7>\u001b[0m in \u001b[0;36m<module>\u001b[1;34m\u001b[0m\n\u001b[0;32m      2\u001b[0m \u001b[0mibcf_prediction\u001b[0m\u001b[1;33m.\u001b[0m\u001b[0msort_values\u001b[0m\u001b[1;33m(\u001b[0m\u001b[0mby\u001b[0m\u001b[1;33m=\u001b[0m\u001b[1;33m[\u001b[0m\u001b[1;34m'uid'\u001b[0m\u001b[1;33m,\u001b[0m\u001b[1;34m'est'\u001b[0m\u001b[1;33m]\u001b[0m\u001b[1;33m,\u001b[0m \u001b[0mascending\u001b[0m\u001b[1;33m=\u001b[0m\u001b[1;32mFalse\u001b[0m\u001b[1;33m,\u001b[0m \u001b[0minplace\u001b[0m\u001b[1;33m=\u001b[0m\u001b[1;32mTrue\u001b[0m\u001b[1;33m)\u001b[0m\u001b[1;33m\u001b[0m\u001b[1;33m\u001b[0m\u001b[0m\n\u001b[0;32m      3\u001b[0m \u001b[1;31m# Predict for a particular user\u001b[0m\u001b[1;33m\u001b[0m\u001b[1;33m\u001b[0m\u001b[1;33m\u001b[0m\u001b[0m\n\u001b[1;32m----> 4\u001b[1;33m \u001b[0malgo\u001b[0m\u001b[1;33m.\u001b[0m\u001b[0mpredict\u001b[0m\u001b[1;33m(\u001b[0m\u001b[0muid\u001b[0m\u001b[1;33m=\u001b[0m\u001b[1;34m'A100UD67AHFODS'\u001b[0m\u001b[1;33m,\u001b[0m \u001b[0miid\u001b[0m\u001b[1;33m=\u001b[0m\u001b[1;34m'B0019EHU8G'\u001b[0m\u001b[1;33m)\u001b[0m\u001b[1;33m\u001b[0m\u001b[1;33m\u001b[0m\u001b[0m\n\u001b[0m",
      "\u001b[1;32mC:\\Anaconda\\lib\\site-packages\\surprise\\prediction_algorithms\\algo_base.py\u001b[0m in \u001b[0;36mpredict\u001b[1;34m(self, uid, iid, r_ui, clip, verbose)\u001b[0m\n\u001b[0;32m    144\u001b[0m         \u001b[0mdetails\u001b[0m \u001b[1;33m=\u001b[0m \u001b[1;33m{\u001b[0m\u001b[1;33m}\u001b[0m\u001b[1;33m\u001b[0m\u001b[1;33m\u001b[0m\u001b[0m\n\u001b[0;32m    145\u001b[0m         \u001b[1;32mtry\u001b[0m\u001b[1;33m:\u001b[0m\u001b[1;33m\u001b[0m\u001b[1;33m\u001b[0m\u001b[0m\n\u001b[1;32m--> 146\u001b[1;33m             \u001b[0mest\u001b[0m \u001b[1;33m=\u001b[0m \u001b[0mself\u001b[0m\u001b[1;33m.\u001b[0m\u001b[0mestimate\u001b[0m\u001b[1;33m(\u001b[0m\u001b[0miuid\u001b[0m\u001b[1;33m,\u001b[0m \u001b[0miiid\u001b[0m\u001b[1;33m)\u001b[0m\u001b[1;33m\u001b[0m\u001b[1;33m\u001b[0m\u001b[0m\n\u001b[0m\u001b[0;32m    147\u001b[0m \u001b[1;33m\u001b[0m\u001b[0m\n\u001b[0;32m    148\u001b[0m             \u001b[1;31m# If the details dict was also returned\u001b[0m\u001b[1;33m\u001b[0m\u001b[1;33m\u001b[0m\u001b[1;33m\u001b[0m\u001b[0m\n",
      "\u001b[1;32mC:\\Anaconda\\lib\\site-packages\\surprise\\prediction_algorithms\\knns.py\u001b[0m in \u001b[0;36mestimate\u001b[1;34m(self, u, i)\u001b[0m\n\u001b[0;32m    191\u001b[0m         \u001b[0mx\u001b[0m\u001b[1;33m,\u001b[0m \u001b[0my\u001b[0m \u001b[1;33m=\u001b[0m \u001b[0mself\u001b[0m\u001b[1;33m.\u001b[0m\u001b[0mswitch\u001b[0m\u001b[1;33m(\u001b[0m\u001b[0mu\u001b[0m\u001b[1;33m,\u001b[0m \u001b[0mi\u001b[0m\u001b[1;33m)\u001b[0m\u001b[1;33m\u001b[0m\u001b[1;33m\u001b[0m\u001b[0m\n\u001b[0;32m    192\u001b[0m \u001b[1;33m\u001b[0m\u001b[0m\n\u001b[1;32m--> 193\u001b[1;33m         \u001b[0mneighbors\u001b[0m \u001b[1;33m=\u001b[0m \u001b[1;33m[\u001b[0m\u001b[1;33m(\u001b[0m\u001b[0mx2\u001b[0m\u001b[1;33m,\u001b[0m \u001b[0mself\u001b[0m\u001b[1;33m.\u001b[0m\u001b[0msim\u001b[0m\u001b[1;33m[\u001b[0m\u001b[0mx\u001b[0m\u001b[1;33m,\u001b[0m \u001b[0mx2\u001b[0m\u001b[1;33m]\u001b[0m\u001b[1;33m,\u001b[0m \u001b[0mr\u001b[0m\u001b[1;33m)\u001b[0m \u001b[1;32mfor\u001b[0m \u001b[1;33m(\u001b[0m\u001b[0mx2\u001b[0m\u001b[1;33m,\u001b[0m \u001b[0mr\u001b[0m\u001b[1;33m)\u001b[0m \u001b[1;32min\u001b[0m \u001b[0mself\u001b[0m\u001b[1;33m.\u001b[0m\u001b[0myr\u001b[0m\u001b[1;33m[\u001b[0m\u001b[0my\u001b[0m\u001b[1;33m]\u001b[0m\u001b[1;33m]\u001b[0m\u001b[1;33m\u001b[0m\u001b[1;33m\u001b[0m\u001b[0m\n\u001b[0m\u001b[0;32m    194\u001b[0m         \u001b[0mk_neighbors\u001b[0m \u001b[1;33m=\u001b[0m \u001b[0mheapq\u001b[0m\u001b[1;33m.\u001b[0m\u001b[0mnlargest\u001b[0m\u001b[1;33m(\u001b[0m\u001b[0mself\u001b[0m\u001b[1;33m.\u001b[0m\u001b[0mk\u001b[0m\u001b[1;33m,\u001b[0m \u001b[0mneighbors\u001b[0m\u001b[1;33m,\u001b[0m \u001b[0mkey\u001b[0m\u001b[1;33m=\u001b[0m\u001b[1;32mlambda\u001b[0m \u001b[0mt\u001b[0m\u001b[1;33m:\u001b[0m \u001b[0mt\u001b[0m\u001b[1;33m[\u001b[0m\u001b[1;36m1\u001b[0m\u001b[1;33m]\u001b[0m\u001b[1;33m)\u001b[0m\u001b[1;33m\u001b[0m\u001b[1;33m\u001b[0m\u001b[0m\n\u001b[0;32m    195\u001b[0m \u001b[1;33m\u001b[0m\u001b[0m\n",
      "\u001b[1;32mC:\\Anaconda\\lib\\site-packages\\surprise\\prediction_algorithms\\knns.py\u001b[0m in \u001b[0;36m<listcomp>\u001b[1;34m(.0)\u001b[0m\n\u001b[0;32m    191\u001b[0m         \u001b[0mx\u001b[0m\u001b[1;33m,\u001b[0m \u001b[0my\u001b[0m \u001b[1;33m=\u001b[0m \u001b[0mself\u001b[0m\u001b[1;33m.\u001b[0m\u001b[0mswitch\u001b[0m\u001b[1;33m(\u001b[0m\u001b[0mu\u001b[0m\u001b[1;33m,\u001b[0m \u001b[0mi\u001b[0m\u001b[1;33m)\u001b[0m\u001b[1;33m\u001b[0m\u001b[1;33m\u001b[0m\u001b[0m\n\u001b[0;32m    192\u001b[0m \u001b[1;33m\u001b[0m\u001b[0m\n\u001b[1;32m--> 193\u001b[1;33m         \u001b[0mneighbors\u001b[0m \u001b[1;33m=\u001b[0m \u001b[1;33m[\u001b[0m\u001b[1;33m(\u001b[0m\u001b[0mx2\u001b[0m\u001b[1;33m,\u001b[0m \u001b[0mself\u001b[0m\u001b[1;33m.\u001b[0m\u001b[0msim\u001b[0m\u001b[1;33m[\u001b[0m\u001b[0mx\u001b[0m\u001b[1;33m,\u001b[0m \u001b[0mx2\u001b[0m\u001b[1;33m]\u001b[0m\u001b[1;33m,\u001b[0m \u001b[0mr\u001b[0m\u001b[1;33m)\u001b[0m \u001b[1;32mfor\u001b[0m \u001b[1;33m(\u001b[0m\u001b[0mx2\u001b[0m\u001b[1;33m,\u001b[0m \u001b[0mr\u001b[0m\u001b[1;33m)\u001b[0m \u001b[1;32min\u001b[0m \u001b[0mself\u001b[0m\u001b[1;33m.\u001b[0m\u001b[0myr\u001b[0m\u001b[1;33m[\u001b[0m\u001b[0my\u001b[0m\u001b[1;33m]\u001b[0m\u001b[1;33m]\u001b[0m\u001b[1;33m\u001b[0m\u001b[1;33m\u001b[0m\u001b[0m\n\u001b[0m\u001b[0;32m    194\u001b[0m         \u001b[0mk_neighbors\u001b[0m \u001b[1;33m=\u001b[0m \u001b[0mheapq\u001b[0m\u001b[1;33m.\u001b[0m\u001b[0mnlargest\u001b[0m\u001b[1;33m(\u001b[0m\u001b[0mself\u001b[0m\u001b[1;33m.\u001b[0m\u001b[0mk\u001b[0m\u001b[1;33m,\u001b[0m \u001b[0mneighbors\u001b[0m\u001b[1;33m,\u001b[0m \u001b[0mkey\u001b[0m\u001b[1;33m=\u001b[0m\u001b[1;32mlambda\u001b[0m \u001b[0mt\u001b[0m\u001b[1;33m:\u001b[0m \u001b[0mt\u001b[0m\u001b[1;33m[\u001b[0m\u001b[1;36m1\u001b[0m\u001b[1;33m]\u001b[0m\u001b[1;33m)\u001b[0m\u001b[1;33m\u001b[0m\u001b[1;33m\u001b[0m\u001b[0m\n\u001b[0;32m    195\u001b[0m \u001b[1;33m\u001b[0m\u001b[0m\n",
      "\u001b[1;31mAttributeError\u001b[0m: 'KNNWithMeans' object has no attribute 'sim'"
     ]
    }
   ],
   "source": [
    "# Sort in descending order\n",
    "ibcf_prediction.sort_values(by=['uid','est'], ascending=False, inplace=True)\n",
    "# Predict for a particular user\n",
    "algo.predict(uid='A100UD67AHFODS', iid='B0019EHU8G')"
   ]
  },
  {
   "cell_type": "raw",
   "metadata": {},
   "source": [
    "## Recommendation using Item Based approach"
   ]
  },
  {
   "cell_type": "code",
   "execution_count": 277,
   "metadata": {},
   "outputs": [
    {
     "name": "stdout",
     "output_type": "stream",
     "text": [
      "Item Based - SURPRISE\n",
      "Top 5 recommendations for the userId: A1TQBAHI3M4ZBQ\n"
     ]
    },
    {
     "data": {
      "text/html": [
       "<div>\n",
       "<style scoped>\n",
       "    .dataframe tbody tr th:only-of-type {\n",
       "        vertical-align: middle;\n",
       "    }\n",
       "\n",
       "    .dataframe tbody tr th {\n",
       "        vertical-align: top;\n",
       "    }\n",
       "\n",
       "    .dataframe thead th {\n",
       "        text-align: right;\n",
       "    }\n",
       "</style>\n",
       "<table border=\"1\" class=\"dataframe\">\n",
       "  <thead>\n",
       "    <tr style=\"text-align: right;\">\n",
       "      <th></th>\n",
       "      <th>uid</th>\n",
       "      <th>iid</th>\n",
       "      <th>r_ui</th>\n",
       "      <th>est</th>\n",
       "      <th>details</th>\n",
       "    </tr>\n",
       "  </thead>\n",
       "  <tbody>\n",
       "    <tr>\n",
       "      <th>6095</th>\n",
       "      <td>A1TQBAHI3M4ZBQ</td>\n",
       "      <td>B000ENRQ3M</td>\n",
       "      <td>3.0</td>\n",
       "      <td>4.906977</td>\n",
       "      <td>{'actual_k': 0, 'was_impossible': False}</td>\n",
       "    </tr>\n",
       "    <tr>\n",
       "      <th>6096</th>\n",
       "      <td>A1TQBAHI3M4ZBQ</td>\n",
       "      <td>B005K7192G</td>\n",
       "      <td>5.0</td>\n",
       "      <td>4.906977</td>\n",
       "      <td>{'actual_k': 0, 'was_impossible': False}</td>\n",
       "    </tr>\n",
       "    <tr>\n",
       "      <th>6097</th>\n",
       "      <td>A1TQBAHI3M4ZBQ</td>\n",
       "      <td>B00006IW1X</td>\n",
       "      <td>5.0</td>\n",
       "      <td>4.906977</td>\n",
       "      <td>{'actual_k': 0, 'was_impossible': False}</td>\n",
       "    </tr>\n",
       "    <tr>\n",
       "      <th>6098</th>\n",
       "      <td>A1TQBAHI3M4ZBQ</td>\n",
       "      <td>B000ETXOC8</td>\n",
       "      <td>5.0</td>\n",
       "      <td>4.906977</td>\n",
       "      <td>{'actual_k': 0, 'was_impossible': False}</td>\n",
       "    </tr>\n",
       "    <tr>\n",
       "      <th>6099</th>\n",
       "      <td>A1TQBAHI3M4ZBQ</td>\n",
       "      <td>B0015ZIS8K</td>\n",
       "      <td>5.0</td>\n",
       "      <td>4.906977</td>\n",
       "      <td>{'actual_k': 0, 'was_impossible': False}</td>\n",
       "    </tr>\n",
       "  </tbody>\n",
       "</table>\n",
       "</div>"
      ],
      "text/plain": [
       "                 uid         iid  r_ui       est  \\\n",
       "6095  A1TQBAHI3M4ZBQ  B000ENRQ3M   3.0  4.906977   \n",
       "6096  A1TQBAHI3M4ZBQ  B005K7192G   5.0  4.906977   \n",
       "6097  A1TQBAHI3M4ZBQ  B00006IW1X   5.0  4.906977   \n",
       "6098  A1TQBAHI3M4ZBQ  B000ETXOC8   5.0  4.906977   \n",
       "6099  A1TQBAHI3M4ZBQ  B0015ZIS8K   5.0  4.906977   \n",
       "\n",
       "                                       details  \n",
       "6095  {'actual_k': 0, 'was_impossible': False}  \n",
       "6096  {'actual_k': 0, 'was_impossible': False}  \n",
       "6097  {'actual_k': 0, 'was_impossible': False}  \n",
       "6098  {'actual_k': 0, 'was_impossible': False}  \n",
       "6099  {'actual_k': 0, 'was_impossible': False}  "
      ]
     },
     "execution_count": 277,
     "metadata": {},
     "output_type": "execute_result"
    },
    {
     "name": "stdout",
     "output_type": "stream",
     "text": [
      "\n",
      "\n",
      "Top 5 recommendations for the userId: A1TDR7Y90SVCHL\n"
     ]
    },
    {
     "data": {
      "text/html": [
       "<div>\n",
       "<style scoped>\n",
       "    .dataframe tbody tr th:only-of-type {\n",
       "        vertical-align: middle;\n",
       "    }\n",
       "\n",
       "    .dataframe tbody tr th {\n",
       "        vertical-align: top;\n",
       "    }\n",
       "\n",
       "    .dataframe thead th {\n",
       "        text-align: right;\n",
       "    }\n",
       "</style>\n",
       "<table border=\"1\" class=\"dataframe\">\n",
       "  <thead>\n",
       "    <tr style=\"text-align: right;\">\n",
       "      <th></th>\n",
       "      <th>uid</th>\n",
       "      <th>iid</th>\n",
       "      <th>r_ui</th>\n",
       "      <th>est</th>\n",
       "      <th>details</th>\n",
       "    </tr>\n",
       "  </thead>\n",
       "  <tbody>\n",
       "    <tr>\n",
       "      <th>6105</th>\n",
       "      <td>A1TDR7Y90SVCHL</td>\n",
       "      <td>B002ZCXJZE</td>\n",
       "      <td>5.0</td>\n",
       "      <td>5.000000</td>\n",
       "      <td>{'actual_k': 1, 'was_impossible': False}</td>\n",
       "    </tr>\n",
       "    <tr>\n",
       "      <th>6106</th>\n",
       "      <td>A1TDR7Y90SVCHL</td>\n",
       "      <td>B000HDJT4S</td>\n",
       "      <td>5.0</td>\n",
       "      <td>4.366197</td>\n",
       "      <td>{'actual_k': 0, 'was_impossible': False}</td>\n",
       "    </tr>\n",
       "    <tr>\n",
       "      <th>6107</th>\n",
       "      <td>A1TDR7Y90SVCHL</td>\n",
       "      <td>B003EO1H7E</td>\n",
       "      <td>4.0</td>\n",
       "      <td>4.366197</td>\n",
       "      <td>{'actual_k': 0, 'was_impossible': False}</td>\n",
       "    </tr>\n",
       "    <tr>\n",
       "      <th>6108</th>\n",
       "      <td>A1TDR7Y90SVCHL</td>\n",
       "      <td>B0064Z71T8</td>\n",
       "      <td>1.0</td>\n",
       "      <td>4.366197</td>\n",
       "      <td>{'actual_k': 0, 'was_impossible': False}</td>\n",
       "    </tr>\n",
       "    <tr>\n",
       "      <th>6109</th>\n",
       "      <td>A1TDR7Y90SVCHL</td>\n",
       "      <td>B000JJSQ30</td>\n",
       "      <td>5.0</td>\n",
       "      <td>4.366197</td>\n",
       "      <td>{'actual_k': 0, 'was_impossible': False}</td>\n",
       "    </tr>\n",
       "  </tbody>\n",
       "</table>\n",
       "</div>"
      ],
      "text/plain": [
       "                 uid         iid  r_ui       est  \\\n",
       "6105  A1TDR7Y90SVCHL  B002ZCXJZE   5.0  5.000000   \n",
       "6106  A1TDR7Y90SVCHL  B000HDJT4S   5.0  4.366197   \n",
       "6107  A1TDR7Y90SVCHL  B003EO1H7E   4.0  4.366197   \n",
       "6108  A1TDR7Y90SVCHL  B0064Z71T8   1.0  4.366197   \n",
       "6109  A1TDR7Y90SVCHL  B000JJSQ30   5.0  4.366197   \n",
       "\n",
       "                                       details  \n",
       "6105  {'actual_k': 1, 'was_impossible': False}  \n",
       "6106  {'actual_k': 0, 'was_impossible': False}  \n",
       "6107  {'actual_k': 0, 'was_impossible': False}  \n",
       "6108  {'actual_k': 0, 'was_impossible': False}  \n",
       "6109  {'actual_k': 0, 'was_impossible': False}  "
      ]
     },
     "execution_count": 277,
     "metadata": {},
     "output_type": "execute_result"
    },
    {
     "name": "stdout",
     "output_type": "stream",
     "text": [
      "\n",
      "\n"
     ]
    }
   ],
   "source": [
    "# Create a list of users\n",
    "users = ['A1TQBAHI3M4ZBQ','A1TDR7Y90SVCHL']\n",
    "top_k = 5\n",
    "\n",
    "# Baseline Recommendation\n",
    "print('Item Based - SURPRISE')\n",
    "top_k_recoms = ibcf_prediction.groupby('uid').head(top_k).reset_index(drop=True)\n",
    "for user in users:\n",
    "    print(\"Top %d recommendations for the userId: %s\" %(top_k,user))\n",
    "    top_k_recoms[top_k_recoms.uid.isin([user])]\n",
    "    print(\"\\n\")"
   ]
  },
  {
   "cell_type": "raw",
   "metadata": {},
   "source": [
    "Matrix Factorization based Collaborative Filtering (SVD)"
   ]
  },
  {
   "cell_type": "code",
   "execution_count": 278,
   "metadata": {},
   "outputs": [
    {
     "data": {
      "text/plain": [
       "<surprise.prediction_algorithms.matrix_factorization.SVD at 0x225b225d748>"
      ]
     },
     "execution_count": 278,
     "metadata": {},
     "output_type": "execute_result"
    }
   ],
   "source": [
    "# Instantiate and train the SVD algorithm\n",
    "algo = SVD(n_factors=10, biased=False)\n",
    "algo.fit(trainset)"
   ]
  },
  {
   "cell_type": "code",
   "execution_count": 279,
   "metadata": {},
   "outputs": [
    {
     "name": "stdout",
     "output_type": "stream",
     "text": [
      "RMSE of SVD approach is: 1.7020799726091063\n"
     ]
    }
   ],
   "source": [
    "#Evaluate the model\n",
    "predictions = algo.test(testset)\n",
    "print('RMSE of SVD approach is:', accuracy.rmse(predictions, verbose=False))"
   ]
  },
  {
   "cell_type": "code",
   "execution_count": 280,
   "metadata": {},
   "outputs": [
    {
     "data": {
      "text/html": [
       "<div>\n",
       "<style scoped>\n",
       "    .dataframe tbody tr th:only-of-type {\n",
       "        vertical-align: middle;\n",
       "    }\n",
       "\n",
       "    .dataframe tbody tr th {\n",
       "        vertical-align: top;\n",
       "    }\n",
       "\n",
       "    .dataframe thead th {\n",
       "        text-align: right;\n",
       "    }\n",
       "</style>\n",
       "<table border=\"1\" class=\"dataframe\">\n",
       "  <thead>\n",
       "    <tr style=\"text-align: right;\">\n",
       "      <th></th>\n",
       "      <th>uid</th>\n",
       "      <th>iid</th>\n",
       "      <th>r_ui</th>\n",
       "      <th>est</th>\n",
       "      <th>details</th>\n",
       "    </tr>\n",
       "  </thead>\n",
       "  <tbody>\n",
       "    <tr>\n",
       "      <th>0</th>\n",
       "      <td>A34C9AFFZOI45T</td>\n",
       "      <td>B000KMU0NU</td>\n",
       "      <td>5.0</td>\n",
       "      <td>4.265092</td>\n",
       "      <td>{'was_impossible': True, 'reason': 'User and i...</td>\n",
       "    </tr>\n",
       "    <tr>\n",
       "      <th>1</th>\n",
       "      <td>AXYM52DNK6NDF</td>\n",
       "      <td>B004C5HM6Y</td>\n",
       "      <td>5.0</td>\n",
       "      <td>4.265092</td>\n",
       "      <td>{'was_impossible': True, 'reason': 'User and i...</td>\n",
       "    </tr>\n",
       "    <tr>\n",
       "      <th>2</th>\n",
       "      <td>A1TQBAHI3M4ZBQ</td>\n",
       "      <td>B000ENRQ3M</td>\n",
       "      <td>3.0</td>\n",
       "      <td>4.116360</td>\n",
       "      <td>{'was_impossible': False}</td>\n",
       "    </tr>\n",
       "    <tr>\n",
       "      <th>3</th>\n",
       "      <td>A1TDR7Y90SVCHL</td>\n",
       "      <td>B0055OKHQS</td>\n",
       "      <td>5.0</td>\n",
       "      <td>4.265092</td>\n",
       "      <td>{'was_impossible': True, 'reason': 'User and i...</td>\n",
       "    </tr>\n",
       "    <tr>\n",
       "      <th>4</th>\n",
       "      <td>A2IFKH3TJ10387</td>\n",
       "      <td>B005YR1PV2</td>\n",
       "      <td>4.0</td>\n",
       "      <td>4.006258</td>\n",
       "      <td>{'was_impossible': False}</td>\n",
       "    </tr>\n",
       "  </tbody>\n",
       "</table>\n",
       "</div>"
      ],
      "text/plain": [
       "              uid         iid  r_ui       est  \\\n",
       "0  A34C9AFFZOI45T  B000KMU0NU   5.0  4.265092   \n",
       "1   AXYM52DNK6NDF  B004C5HM6Y   5.0  4.265092   \n",
       "2  A1TQBAHI3M4ZBQ  B000ENRQ3M   3.0  4.116360   \n",
       "3  A1TDR7Y90SVCHL  B0055OKHQS   5.0  4.265092   \n",
       "4  A2IFKH3TJ10387  B005YR1PV2   4.0  4.006258   \n",
       "\n",
       "                                             details  \n",
       "0  {'was_impossible': True, 'reason': 'User and i...  \n",
       "1  {'was_impossible': True, 'reason': 'User and i...  \n",
       "2                          {'was_impossible': False}  \n",
       "3  {'was_impossible': True, 'reason': 'User and i...  \n",
       "4                          {'was_impossible': False}  "
      ]
     },
     "execution_count": 280,
     "metadata": {},
     "output_type": "execute_result"
    }
   ],
   "source": [
    "\n",
    "# Convert the predictions into pandas dataframe\n",
    "svd_surp_prediction = pd.DataFrame(predictions)\n",
    "svd_surp_prediction.head()"
   ]
  },
  {
   "cell_type": "code",
   "execution_count": 281,
   "metadata": {},
   "outputs": [
    {
     "data": {
      "text/plain": [
       "Prediction(uid='A100UD67AHFODS', iid='B0019EHU8G', r_ui=None, est=4.681977630368747, details={'was_impossible': False})"
      ]
     },
     "execution_count": 281,
     "metadata": {},
     "output_type": "execute_result"
    }
   ],
   "source": [
    "# Sort in descending order\n",
    "svd_surp_prediction.sort_values(by=['uid','est'], ascending=False, inplace=True)\n",
    "# Predict for a particular user\n",
    "algo.predict(uid='A100UD67AHFODS', iid='B0019EHU8G')"
   ]
  },
  {
   "cell_type": "raw",
   "metadata": {},
   "source": [
    "Recommendation using Matrix Factorization approach"
   ]
  },
  {
   "cell_type": "code",
   "execution_count": 282,
   "metadata": {},
   "outputs": [
    {
     "name": "stdout",
     "output_type": "stream",
     "text": [
      "SVD - SURPRISE\n",
      "Top 5 recommendations for the userId: A1TQBAHI3M4ZBQ\n"
     ]
    },
    {
     "data": {
      "text/html": [
       "<div>\n",
       "<style scoped>\n",
       "    .dataframe tbody tr th:only-of-type {\n",
       "        vertical-align: middle;\n",
       "    }\n",
       "\n",
       "    .dataframe tbody tr th {\n",
       "        vertical-align: top;\n",
       "    }\n",
       "\n",
       "    .dataframe thead th {\n",
       "        text-align: right;\n",
       "    }\n",
       "</style>\n",
       "<table border=\"1\" class=\"dataframe\">\n",
       "  <thead>\n",
       "    <tr style=\"text-align: right;\">\n",
       "      <th></th>\n",
       "      <th>uid</th>\n",
       "      <th>iid</th>\n",
       "      <th>r_ui</th>\n",
       "      <th>est</th>\n",
       "      <th>details</th>\n",
       "    </tr>\n",
       "  </thead>\n",
       "  <tbody>\n",
       "    <tr>\n",
       "      <th>6095</th>\n",
       "      <td>A1TQBAHI3M4ZBQ</td>\n",
       "      <td>B005K7192G</td>\n",
       "      <td>5.0</td>\n",
       "      <td>5.000000</td>\n",
       "      <td>{'was_impossible': False}</td>\n",
       "    </tr>\n",
       "    <tr>\n",
       "      <th>6096</th>\n",
       "      <td>A1TQBAHI3M4ZBQ</td>\n",
       "      <td>B00006IW1X</td>\n",
       "      <td>5.0</td>\n",
       "      <td>5.000000</td>\n",
       "      <td>{'was_impossible': False}</td>\n",
       "    </tr>\n",
       "    <tr>\n",
       "      <th>6097</th>\n",
       "      <td>A1TQBAHI3M4ZBQ</td>\n",
       "      <td>B000CRFOMK</td>\n",
       "      <td>5.0</td>\n",
       "      <td>5.000000</td>\n",
       "      <td>{'was_impossible': False}</td>\n",
       "    </tr>\n",
       "    <tr>\n",
       "      <th>6098</th>\n",
       "      <td>A1TQBAHI3M4ZBQ</td>\n",
       "      <td>B00BWF5U0M</td>\n",
       "      <td>4.0</td>\n",
       "      <td>5.000000</td>\n",
       "      <td>{'was_impossible': False}</td>\n",
       "    </tr>\n",
       "    <tr>\n",
       "      <th>6099</th>\n",
       "      <td>A1TQBAHI3M4ZBQ</td>\n",
       "      <td>B000Q8UAWY</td>\n",
       "      <td>5.0</td>\n",
       "      <td>4.914996</td>\n",
       "      <td>{'was_impossible': False}</td>\n",
       "    </tr>\n",
       "  </tbody>\n",
       "</table>\n",
       "</div>"
      ],
      "text/plain": [
       "                 uid         iid  r_ui       est                    details\n",
       "6095  A1TQBAHI3M4ZBQ  B005K7192G   5.0  5.000000  {'was_impossible': False}\n",
       "6096  A1TQBAHI3M4ZBQ  B00006IW1X   5.0  5.000000  {'was_impossible': False}\n",
       "6097  A1TQBAHI3M4ZBQ  B000CRFOMK   5.0  5.000000  {'was_impossible': False}\n",
       "6098  A1TQBAHI3M4ZBQ  B00BWF5U0M   4.0  5.000000  {'was_impossible': False}\n",
       "6099  A1TQBAHI3M4ZBQ  B000Q8UAWY   5.0  4.914996  {'was_impossible': False}"
      ]
     },
     "execution_count": 282,
     "metadata": {},
     "output_type": "execute_result"
    },
    {
     "name": "stdout",
     "output_type": "stream",
     "text": [
      "\n",
      "\n",
      "Top 5 recommendations for the userId: A1TDR7Y90SVCHL\n"
     ]
    },
    {
     "data": {
      "text/html": [
       "<div>\n",
       "<style scoped>\n",
       "    .dataframe tbody tr th:only-of-type {\n",
       "        vertical-align: middle;\n",
       "    }\n",
       "\n",
       "    .dataframe tbody tr th {\n",
       "        vertical-align: top;\n",
       "    }\n",
       "\n",
       "    .dataframe thead th {\n",
       "        text-align: right;\n",
       "    }\n",
       "</style>\n",
       "<table border=\"1\" class=\"dataframe\">\n",
       "  <thead>\n",
       "    <tr style=\"text-align: right;\">\n",
       "      <th></th>\n",
       "      <th>uid</th>\n",
       "      <th>iid</th>\n",
       "      <th>r_ui</th>\n",
       "      <th>est</th>\n",
       "      <th>details</th>\n",
       "    </tr>\n",
       "  </thead>\n",
       "  <tbody>\n",
       "    <tr>\n",
       "      <th>6105</th>\n",
       "      <td>A1TDR7Y90SVCHL</td>\n",
       "      <td>B001TH7T2U</td>\n",
       "      <td>5.0</td>\n",
       "      <td>4.899539</td>\n",
       "      <td>{'was_impossible': False}</td>\n",
       "    </tr>\n",
       "    <tr>\n",
       "      <th>6106</th>\n",
       "      <td>A1TDR7Y90SVCHL</td>\n",
       "      <td>B002ZCXJZE</td>\n",
       "      <td>5.0</td>\n",
       "      <td>4.803410</td>\n",
       "      <td>{'was_impossible': False}</td>\n",
       "    </tr>\n",
       "    <tr>\n",
       "      <th>6107</th>\n",
       "      <td>A1TDR7Y90SVCHL</td>\n",
       "      <td>B000HDJT4S</td>\n",
       "      <td>5.0</td>\n",
       "      <td>4.317793</td>\n",
       "      <td>{'was_impossible': False}</td>\n",
       "    </tr>\n",
       "    <tr>\n",
       "      <th>6108</th>\n",
       "      <td>A1TDR7Y90SVCHL</td>\n",
       "      <td>B0055OKHQS</td>\n",
       "      <td>5.0</td>\n",
       "      <td>4.265092</td>\n",
       "      <td>{'was_impossible': True, 'reason': 'User and i...</td>\n",
       "    </tr>\n",
       "    <tr>\n",
       "      <th>6109</th>\n",
       "      <td>A1TDR7Y90SVCHL</td>\n",
       "      <td>B0001RM3WU</td>\n",
       "      <td>5.0</td>\n",
       "      <td>4.265092</td>\n",
       "      <td>{'was_impossible': True, 'reason': 'User and i...</td>\n",
       "    </tr>\n",
       "  </tbody>\n",
       "</table>\n",
       "</div>"
      ],
      "text/plain": [
       "                 uid         iid  r_ui       est  \\\n",
       "6105  A1TDR7Y90SVCHL  B001TH7T2U   5.0  4.899539   \n",
       "6106  A1TDR7Y90SVCHL  B002ZCXJZE   5.0  4.803410   \n",
       "6107  A1TDR7Y90SVCHL  B000HDJT4S   5.0  4.317793   \n",
       "6108  A1TDR7Y90SVCHL  B0055OKHQS   5.0  4.265092   \n",
       "6109  A1TDR7Y90SVCHL  B0001RM3WU   5.0  4.265092   \n",
       "\n",
       "                                                details  \n",
       "6105                          {'was_impossible': False}  \n",
       "6106                          {'was_impossible': False}  \n",
       "6107                          {'was_impossible': False}  \n",
       "6108  {'was_impossible': True, 'reason': 'User and i...  \n",
       "6109  {'was_impossible': True, 'reason': 'User and i...  "
      ]
     },
     "execution_count": 282,
     "metadata": {},
     "output_type": "execute_result"
    },
    {
     "name": "stdout",
     "output_type": "stream",
     "text": [
      "\n",
      "\n"
     ]
    }
   ],
   "source": [
    "# Create a list of users\n",
    "users = ['A1TQBAHI3M4ZBQ','A1TDR7Y90SVCHL']\n",
    "top_k = 5\n",
    "\n",
    "# Baseline Recommendation\n",
    "print('SVD - SURPRISE')\n",
    "top_k_recoms = svd_surp_prediction.groupby('uid').head(top_k).reset_index(drop=True)\n",
    "for user in users:\n",
    "    print(\"Top %d recommendations for the userId: %s\" %(top_k,user))\n",
    "    top_k_recoms[top_k_recoms.uid.isin([user])]\n",
    "    print(\"\\n\")"
   ]
  },
  {
   "cell_type": "raw",
   "metadata": {},
   "source": [
    "8. Summarise your insights.\n"
   ]
  },
  {
   "cell_type": "raw",
   "metadata": {},
   "source": [
    "Observations:\n",
    "\n",
    "Each approach has its own way of finding similarity among items and users. So is the reason top 5 recommendations are different for same users in different approaches.\n",
    "KNN model for item/item didnt work"
   ]
  }
 ],
 "metadata": {
  "kernelspec": {
   "display_name": "Python 3",
   "language": "python",
   "name": "python3"
  },
  "language_info": {
   "codemirror_mode": {
    "name": "ipython",
    "version": 3
   },
   "file_extension": ".py",
   "mimetype": "text/x-python",
   "name": "python",
   "nbconvert_exporter": "python",
   "pygments_lexer": "ipython3",
   "version": "3.7.3"
  }
 },
 "nbformat": 4,
 "nbformat_minor": 2
}
