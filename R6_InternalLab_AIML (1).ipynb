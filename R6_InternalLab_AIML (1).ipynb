{
 "cells": [
  {
   "cell_type": "markdown",
   "metadata": {
    "colab_type": "text",
    "id": "sb7Epo0VOB58"
   },
   "source": [
    "### Load tensorflow"
   ]
  },
  {
   "cell_type": "code",
   "execution_count": 69,
   "metadata": {
    "colab": {},
    "colab_type": "code",
    "id": "fHpCNRv1OB5-"
   },
   "outputs": [],
   "source": [
    "import tensorflow as tf"
   ]
  },
  {
   "cell_type": "markdown",
   "metadata": {},
   "source": [
    "### Enable Eager Execution if you are using tensorflow 1.x"
   ]
  },
  {
   "cell_type": "code",
   "execution_count": 70,
   "metadata": {
    "colab": {},
    "colab_type": "code",
    "id": "tnSsH8sNOB6F",
    "slideshow": {
     "slide_type": "fragment"
    }
   },
   "outputs": [],
   "source": [
    "tf.enable_eager_execution()"
   ]
  },
  {
   "cell_type": "markdown",
   "metadata": {
    "colab_type": "text",
    "id": "DxJDmJqqOB6K",
    "slideshow": {
     "slide_type": "slide"
    }
   },
   "source": [
    "### Collect Data"
   ]
  },
  {
   "cell_type": "code",
   "execution_count": 31,
   "metadata": {
    "colab": {},
    "colab_type": "code",
    "id": "FhllFLyKOB6N"
   },
   "outputs": [],
   "source": [
    "import numpy as np\n",
    "import pandas as pd"
   ]
  },
  {
   "cell_type": "code",
   "execution_count": 32,
   "metadata": {
    "colab": {},
    "colab_type": "code",
    "id": "B4yQKMiJOB6R"
   },
   "outputs": [],
   "source": [
    "data = pd.read_csv('./prices.csv')"
   ]
  },
  {
   "cell_type": "markdown",
   "metadata": {
    "colab_type": "text",
    "id": "fgkX6SEqOB6W"
   },
   "source": [
    "### Check all columns in the dataset"
   ]
  },
  {
   "cell_type": "code",
   "execution_count": 33,
   "metadata": {
    "colab": {},
    "colab_type": "code",
    "id": "7K8pWsNQOB6X"
   },
   "outputs": [
    {
     "data": {
      "text/plain": [
       "(851264, 7)"
      ]
     },
     "execution_count": 33,
     "metadata": {},
     "output_type": "execute_result"
    }
   ],
   "source": [
    "data.shape"
   ]
  },
  {
   "cell_type": "code",
   "execution_count": 34,
   "metadata": {},
   "outputs": [
    {
     "data": {
      "text/plain": [
       "Index(['date', 'symbol', 'open', 'close', 'low', 'high', 'volume'], dtype='object')"
      ]
     },
     "execution_count": 34,
     "metadata": {},
     "output_type": "execute_result"
    }
   ],
   "source": [
    "data.columns"
   ]
  },
  {
   "cell_type": "markdown",
   "metadata": {
    "colab_type": "text",
    "id": "7dU6X7MpOB6c"
   },
   "source": [
    "### Drop columns `date` and  `symbol`"
   ]
  },
  {
   "cell_type": "code",
   "execution_count": 36,
   "metadata": {
    "colab": {},
    "colab_type": "code",
    "id": "lh_6spSKOB6e"
   },
   "outputs": [
    {
     "name": "stdout",
     "output_type": "stream",
     "text": [
      "<class 'pandas.core.frame.DataFrame'>\n",
      "RangeIndex: 851264 entries, 0 to 851263\n",
      "Data columns (total 5 columns):\n",
      "open      851264 non-null float64\n",
      "close     851264 non-null float64\n",
      "low       851264 non-null float64\n",
      "high      851264 non-null float64\n",
      "volume    851264 non-null float64\n",
      "dtypes: float64(5)\n",
      "memory usage: 32.5 MB\n"
     ]
    }
   ],
   "source": [
    "data.drop(['date','symbol'],axis=1, inplace=True)\n",
    "\n",
    "data.info()"
   ]
  },
  {
   "cell_type": "code",
   "execution_count": 37,
   "metadata": {
    "colab": {},
    "colab_type": "code",
    "id": "xlwbUgTwOB6i",
    "outputId": "56bad82a-f271-415a-e0d6-cbe1c4290743"
   },
   "outputs": [
    {
     "data": {
      "text/html": [
       "<div>\n",
       "<style scoped>\n",
       "    .dataframe tbody tr th:only-of-type {\n",
       "        vertical-align: middle;\n",
       "    }\n",
       "\n",
       "    .dataframe tbody tr th {\n",
       "        vertical-align: top;\n",
       "    }\n",
       "\n",
       "    .dataframe thead th {\n",
       "        text-align: right;\n",
       "    }\n",
       "</style>\n",
       "<table border=\"1\" class=\"dataframe\">\n",
       "  <thead>\n",
       "    <tr style=\"text-align: right;\">\n",
       "      <th></th>\n",
       "      <th>open</th>\n",
       "      <th>close</th>\n",
       "      <th>low</th>\n",
       "      <th>high</th>\n",
       "      <th>volume</th>\n",
       "    </tr>\n",
       "  </thead>\n",
       "  <tbody>\n",
       "    <tr>\n",
       "      <th>0</th>\n",
       "      <td>123.430000</td>\n",
       "      <td>125.839996</td>\n",
       "      <td>122.309998</td>\n",
       "      <td>126.250000</td>\n",
       "      <td>2163600.0</td>\n",
       "    </tr>\n",
       "    <tr>\n",
       "      <th>1</th>\n",
       "      <td>125.239998</td>\n",
       "      <td>119.980003</td>\n",
       "      <td>119.940002</td>\n",
       "      <td>125.540001</td>\n",
       "      <td>2386400.0</td>\n",
       "    </tr>\n",
       "    <tr>\n",
       "      <th>2</th>\n",
       "      <td>116.379997</td>\n",
       "      <td>114.949997</td>\n",
       "      <td>114.930000</td>\n",
       "      <td>119.739998</td>\n",
       "      <td>2489500.0</td>\n",
       "    </tr>\n",
       "    <tr>\n",
       "      <th>3</th>\n",
       "      <td>115.480003</td>\n",
       "      <td>116.620003</td>\n",
       "      <td>113.500000</td>\n",
       "      <td>117.440002</td>\n",
       "      <td>2006300.0</td>\n",
       "    </tr>\n",
       "    <tr>\n",
       "      <th>4</th>\n",
       "      <td>117.010002</td>\n",
       "      <td>114.970001</td>\n",
       "      <td>114.089996</td>\n",
       "      <td>117.330002</td>\n",
       "      <td>1408600.0</td>\n",
       "    </tr>\n",
       "  </tbody>\n",
       "</table>\n",
       "</div>"
      ],
      "text/plain": [
       "         open       close         low        high     volume\n",
       "0  123.430000  125.839996  122.309998  126.250000  2163600.0\n",
       "1  125.239998  119.980003  119.940002  125.540001  2386400.0\n",
       "2  116.379997  114.949997  114.930000  119.739998  2489500.0\n",
       "3  115.480003  116.620003  113.500000  117.440002  2006300.0\n",
       "4  117.010002  114.970001  114.089996  117.330002  1408600.0"
      ]
     },
     "execution_count": 37,
     "metadata": {},
     "output_type": "execute_result"
    }
   ],
   "source": [
    "data.head()"
   ]
  },
  {
   "cell_type": "markdown",
   "metadata": {
    "colab_type": "text",
    "id": "3DBv3WWYOB6q"
   },
   "source": [
    "### Consider only first 1000 rows in the dataset for building feature set and target set"
   ]
  },
  {
   "cell_type": "code",
   "execution_count": 40,
   "metadata": {
    "colab": {},
    "colab_type": "code",
    "id": "Z_hG9rGBOB6s"
   },
   "outputs": [],
   "source": [
    "data1=data[:1000]"
   ]
  },
  {
   "cell_type": "code",
   "execution_count": 41,
   "metadata": {},
   "outputs": [
    {
     "data": {
      "text/plain": [
       "(1000, 5)"
      ]
     },
     "execution_count": 41,
     "metadata": {},
     "output_type": "execute_result"
    }
   ],
   "source": [
    "data1.shape"
   ]
  },
  {
   "cell_type": "markdown",
   "metadata": {},
   "source": [
    "### Convert Float64 to Float32"
   ]
  },
  {
   "cell_type": "code",
   "execution_count": 44,
   "metadata": {},
   "outputs": [],
   "source": [
    "data2=data1.astype('float32')"
   ]
  },
  {
   "cell_type": "code",
   "execution_count": 80,
   "metadata": {},
   "outputs": [
    {
     "name": "stdout",
     "output_type": "stream",
     "text": [
      "<class 'pandas.core.frame.DataFrame'>\n",
      "RangeIndex: 1000 entries, 0 to 999\n",
      "Data columns (total 5 columns):\n",
      "open      1000 non-null float32\n",
      "close     1000 non-null float32\n",
      "low       1000 non-null float32\n",
      "high      1000 non-null float32\n",
      "volume    1000 non-null float32\n",
      "dtypes: float32(5)\n",
      "memory usage: 19.6 KB\n"
     ]
    }
   ],
   "source": [
    "data2.info()"
   ]
  },
  {
   "cell_type": "markdown",
   "metadata": {
    "colab_type": "text",
    "id": "M3UaApqYOB6x"
   },
   "source": [
    "### Divide the data into train and test sets"
   ]
  },
  {
   "cell_type": "code",
   "execution_count": 49,
   "metadata": {},
   "outputs": [],
   "source": [
    "X = data2.drop('close', axis=1)\n",
    "y = data2.close"
   ]
  },
  {
   "cell_type": "code",
   "execution_count": 50,
   "metadata": {
    "colab": {},
    "colab_type": "code",
    "id": "2EkKAy7fOB6y"
   },
   "outputs": [
    {
     "data": {
      "text/plain": [
       "((700, 4), (300, 4), (700,), (300,))"
      ]
     },
     "execution_count": 50,
     "metadata": {},
     "output_type": "execute_result"
    }
   ],
   "source": [
    "from sklearn.model_selection import train_test_split, GridSearchCV\n",
    "X_train, X_test, y_train, y_test = train_test_split(X, y, test_size=0.3, random_state=1)\n",
    "X_train.shape, X_test.shape, y_train.shape, y_test.shape"
   ]
  },
  {
   "cell_type": "markdown",
   "metadata": {},
   "source": [
    "### Normalize Train and Test Data "
   ]
  },
  {
   "cell_type": "code",
   "execution_count": 100,
   "metadata": {},
   "outputs": [],
   "source": [
    "from sklearn.preprocessing import Normalizer\n",
    "transformer = Normalizer()\n",
    "X_train = transformer.fit_transform(X_train)"
   ]
  },
  {
   "cell_type": "code",
   "execution_count": 115,
   "metadata": {},
   "outputs": [
    {
     "data": {
      "text/plain": [
       "array([[1.95260873e-05, 1.92729567e-05, 1.95753055e-05, 1.00000000e+00],\n",
       "       [3.25567339e-06, 3.24057760e-06, 3.36386051e-06, 1.00000000e+00],\n",
       "       [1.67042970e-06, 1.65513768e-06, 1.70641090e-06, 1.00000000e+00],\n",
       "       ...,\n",
       "       [1.04472536e-04, 1.03533064e-04, 1.04582476e-04, 1.00000000e+00],\n",
       "       [1.26646439e-04, 1.23368751e-04, 1.27374820e-04, 1.00000000e+00],\n",
       "       [1.16344178e-04, 1.14913550e-04, 1.18731987e-04, 1.00000000e+00]],\n",
       "      dtype=float32)"
      ]
     },
     "execution_count": 115,
     "metadata": {},
     "output_type": "execute_result"
    }
   ],
   "source": [
    "X_train"
   ]
  },
  {
   "cell_type": "code",
   "execution_count": 116,
   "metadata": {},
   "outputs": [
    {
     "data": {
      "text/plain": [
       "(700, 4)"
      ]
     },
     "execution_count": 116,
     "metadata": {},
     "output_type": "execute_result"
    }
   ],
   "source": [
    "X_train.shape"
   ]
  },
  {
   "cell_type": "code",
   "execution_count": 104,
   "metadata": {},
   "outputs": [
    {
     "data": {
      "text/plain": [
       "(700,)"
      ]
     },
     "execution_count": 104,
     "metadata": {},
     "output_type": "execute_result"
    }
   ],
   "source": [
    "y_train=np.array(y_train)\n",
    "y_train.shape"
   ]
  },
  {
   "cell_type": "markdown",
   "metadata": {
    "colab_type": "text",
    "id": "v6vE4eYCOB62",
    "slideshow": {
     "slide_type": "slide"
    }
   },
   "source": [
    "## Building the graph in tensorflow"
   ]
  },
  {
   "cell_type": "markdown",
   "metadata": {
    "colab_type": "text",
    "id": "297_qja4OB7A",
    "slideshow": {
     "slide_type": "slide"
    }
   },
   "source": [
    "2.Define Weights and Bias"
   ]
  },
  {
   "cell_type": "code",
   "execution_count": 54,
   "metadata": {
    "colab": {},
    "colab_type": "code",
    "id": "L205qPeQOB7B"
   },
   "outputs": [],
   "source": [
    "#initializing weights and Bias with Zero\n",
    "w = tf.zeros(shape=(4,1))\n",
    "b = tf.zeros(shape=(1))"
   ]
  },
  {
   "cell_type": "markdown",
   "metadata": {
    "colab_type": "text",
    "id": "HgtWA-UIOB7F",
    "slideshow": {
     "slide_type": "slide"
    }
   },
   "source": [
    "3.Prediction"
   ]
  },
  {
   "cell_type": "code",
   "execution_count": 55,
   "metadata": {
    "colab": {},
    "colab_type": "code",
    "id": "JveGlx25OB7H"
   },
   "outputs": [],
   "source": [
    "def prediction(x, w, b):\n",
    "    \n",
    "    xw_matmul = tf.matmul(x, w)\n",
    "    y = tf.add(xw_matmul, b)\n",
    "    \n",
    "    return y"
   ]
  },
  {
   "cell_type": "markdown",
   "metadata": {
    "colab_type": "text",
    "id": "TL1hIwf_OB7M",
    "slideshow": {
     "slide_type": "slide"
    }
   },
   "source": [
    "4.Loss (Cost) Function [Mean square error]"
   ]
  },
  {
   "cell_type": "code",
   "execution_count": 56,
   "metadata": {
    "colab": {},
    "colab_type": "code",
    "id": "8VSWPiGXOB7P"
   },
   "outputs": [],
   "source": [
    "def loss(y_actual, y_predicted):\n",
    "    \n",
    "    diff = y_actual - y_predicted\n",
    "    sqr = tf.square(diff)\n",
    "    avg = tf.reduce_mean(sqr)\n",
    "    \n",
    "    return avg"
   ]
  },
  {
   "cell_type": "markdown",
   "metadata": {
    "colab_type": "text",
    "id": "jzG85FUlOB7U",
    "slideshow": {
     "slide_type": "slide"
    }
   },
   "source": [
    "5.GradientDescent Optimizer to minimize Loss [GradientDescentOptimizer]"
   ]
  },
  {
   "cell_type": "code",
   "execution_count": 66,
   "metadata": {
    "colab": {},
    "colab_type": "code",
    "id": "cj802w-3OB7X"
   },
   "outputs": [],
   "source": [
    "def train(x, y_actual, w, b, learning_rate=0.01):\n",
    "    \n",
    "    #Record mathematical operations on 'tape' to calculate loss\n",
    "    with tf.GradientTape() as t:\n",
    "        \n",
    "        t.watch([w,b])\n",
    "        \n",
    "        current_prediction = prediction(x, w, b)\n",
    "        current_loss = loss(y_actual, current_prediction)\n",
    "    \n",
    "    #Calculate Gradients for Loss with respect to Weights and Bias\n",
    "    dw, db = t.gradient(current_loss,[w, b])\n",
    "    \n",
    "    #Update Weights and Bias\n",
    "    w = w - learning_rate*dw\n",
    "    b = b - learning_rate*db\n",
    "    \n",
    "    return w, b"
   ]
  },
  {
   "cell_type": "markdown",
   "metadata": {
    "colab_type": "text",
    "id": "xSypb_u8OB7e",
    "slideshow": {
     "slide_type": "slide"
    }
   },
   "source": [
    "## Execute the Graph for 100 epochs and observe the loss"
   ]
  },
  {
   "cell_type": "code",
   "execution_count": 105,
   "metadata": {
    "colab": {},
    "colab_type": "code",
    "id": "DVvgj7eQOB7f"
   },
   "outputs": [
    {
     "name": "stdout",
     "output_type": "stream",
     "text": [
      "Current Loss on iteration 0 7653.4473\n",
      "Current Loss on iteration 1 7333.088\n",
      "Current Loss on iteration 2 7037.844\n",
      "Current Loss on iteration 3 6765.747\n",
      "Current Loss on iteration 4 6514.979\n",
      "Current Loss on iteration 5 6283.8774\n",
      "Current Loss on iteration 6 6070.8887\n",
      "Current Loss on iteration 7 5874.6045\n",
      "Current Loss on iteration 8 5693.702\n",
      "Current Loss on iteration 9 5526.988\n",
      "Current Loss on iteration 10 5373.337\n",
      "Current Loss on iteration 11 5231.7393\n",
      "Current Loss on iteration 12 5101.2397\n",
      "Current Loss on iteration 13 4980.971\n",
      "Current Loss on iteration 14 4870.135\n",
      "Current Loss on iteration 15 4767.983\n",
      "Current Loss on iteration 16 4673.8433\n",
      "Current Loss on iteration 17 4587.083\n",
      "Current Loss on iteration 18 4507.124\n",
      "Current Loss on iteration 19 4433.438\n",
      "Current Loss on iteration 20 4365.524\n",
      "Current Loss on iteration 21 4302.937\n",
      "Current Loss on iteration 22 4245.255\n",
      "Current Loss on iteration 23 4192.0986\n",
      "Current Loss on iteration 24 4143.106\n",
      "Current Loss on iteration 25 4097.957\n",
      "Current Loss on iteration 26 4056.3435\n",
      "Current Loss on iteration 27 4017.9973\n",
      "Current Loss on iteration 28 3982.6582\n",
      "Current Loss on iteration 29 3950.084\n",
      "Current Loss on iteration 30 3920.067\n",
      "Current Loss on iteration 31 3892.4058\n",
      "Current Loss on iteration 32 3866.9102\n",
      "Current Loss on iteration 33 3843.412\n",
      "Current Loss on iteration 34 3821.7598\n",
      "Current Loss on iteration 35 3801.8025\n",
      "Current Loss on iteration 36 3783.4104\n",
      "Current Loss on iteration 37 3766.4631\n",
      "Current Loss on iteration 38 3750.8394\n",
      "Current Loss on iteration 39 3736.443\n",
      "Current Loss on iteration 40 3723.1753\n",
      "Current Loss on iteration 41 3710.9478\n",
      "Current Loss on iteration 42 3699.6792\n",
      "Current Loss on iteration 43 3689.2937\n",
      "Current Loss on iteration 44 3679.7239\n",
      "Current Loss on iteration 45 3670.901\n",
      "Current Loss on iteration 46 3662.7722\n",
      "Current Loss on iteration 47 3655.2803\n",
      "Current Loss on iteration 48 3648.3782\n",
      "Current Loss on iteration 49 3642.013\n",
      "Current Loss on iteration 50 3636.1487\n",
      "Current Loss on iteration 51 3630.745\n",
      "Current Loss on iteration 52 3625.7646\n",
      "Current Loss on iteration 53 3621.1726\n",
      "Current Loss on iteration 54 3616.9436\n",
      "Current Loss on iteration 55 3613.044\n",
      "Current Loss on iteration 56 3609.4504\n",
      "Current Loss on iteration 57 3606.1384\n",
      "Current Loss on iteration 58 3603.0867\n",
      "Current Loss on iteration 59 3600.2732\n",
      "Current Loss on iteration 60 3597.6812\n",
      "Current Loss on iteration 61 3595.2927\n",
      "Current Loss on iteration 62 3593.0913\n",
      "Current Loss on iteration 63 3591.0625\n",
      "Current Loss on iteration 64 3589.1948\n",
      "Current Loss on iteration 65 3587.4697\n",
      "Current Loss on iteration 66 3585.8809\n",
      "Current Loss on iteration 67 3584.4194\n",
      "Current Loss on iteration 68 3583.0703\n",
      "Current Loss on iteration 69 3581.826\n",
      "Current Loss on iteration 70 3580.6804\n",
      "Current Loss on iteration 71 3579.6252\n",
      "Current Loss on iteration 72 3578.6511\n",
      "Current Loss on iteration 73 3577.7542\n",
      "Current Loss on iteration 74 3576.9282\n",
      "Current Loss on iteration 75 3576.168\n",
      "Current Loss on iteration 76 3575.4666\n",
      "Current Loss on iteration 77 3574.8179\n",
      "Current Loss on iteration 78 3574.2207\n",
      "Current Loss on iteration 79 3573.6707\n",
      "Current Loss on iteration 80 3573.1655\n",
      "Current Loss on iteration 81 3572.6995\n",
      "Current Loss on iteration 82 3572.2705\n",
      "Current Loss on iteration 83 3571.872\n",
      "Current Loss on iteration 84 3571.5083\n",
      "Current Loss on iteration 85 3571.1702\n",
      "Current Loss on iteration 86 3570.86\n",
      "Current Loss on iteration 87 3570.573\n",
      "Current Loss on iteration 88 3570.3098\n",
      "Current Loss on iteration 89 3570.0676\n",
      "Current Loss on iteration 90 3569.8445\n",
      "Current Loss on iteration 91 3569.6365\n",
      "Current Loss on iteration 92 3569.4487\n",
      "Current Loss on iteration 93 3569.2717\n",
      "Current Loss on iteration 94 3569.1086\n",
      "Current Loss on iteration 95 3568.9634\n",
      "Current Loss on iteration 96 3568.8245\n",
      "Current Loss on iteration 97 3568.6997\n",
      "Current Loss on iteration 98 3568.5825\n",
      "Current Loss on iteration 99 3568.4749\n"
     ]
    }
   ],
   "source": [
    "for i in range(100):\n",
    "    \n",
    "    w, b = train(X_train, y_train, w, b)\n",
    "    print('Current Loss on iteration', i, loss(y_train, prediction(X_train, w, b)).numpy())"
   ]
  },
  {
   "cell_type": "markdown",
   "metadata": {
    "colab_type": "text",
    "id": "DOL2ncA1OB7q"
   },
   "source": [
    "### Get the shapes and values of W and b"
   ]
  },
  {
   "cell_type": "code",
   "execution_count": 106,
   "metadata": {
    "colab": {},
    "colab_type": "code",
    "id": "ZGvtyTeuOB7r"
   },
   "outputs": [
    {
     "name": "stdout",
     "output_type": "stream",
     "text": [
      "Weights:\n",
      " [[2.6111759e-03]\n",
      " [2.5876034e-03]\n",
      " [2.6312110e-03]\n",
      " [3.2731911e+01]]\n"
     ]
    }
   ],
   "source": [
    "#Check Weights and Bias\n",
    "print('Weights:\\n', w.numpy())\n"
   ]
  },
  {
   "cell_type": "code",
   "execution_count": 107,
   "metadata": {
    "colab": {},
    "colab_type": "code",
    "id": "vhDtOv5UOB7x"
   },
   "outputs": [
    {
     "name": "stdout",
     "output_type": "stream",
     "text": [
      "Bias:\n",
      " [32.731922]\n"
     ]
    }
   ],
   "source": [
    "print('Bias:\\n',b.numpy())"
   ]
  },
  {
   "cell_type": "markdown",
   "metadata": {
    "colab_type": "text",
    "id": "YJRBuqXhOB7_"
   },
   "source": [
    "### Linear Classification using Keras"
   ]
  },
  {
   "cell_type": "markdown",
   "metadata": {
    "colab_type": "text",
    "id": "8GoNTWXAOB8C",
    "slideshow": {
     "slide_type": "slide"
    }
   },
   "source": [
    "### Building the simple Neural Network in Keras with one neuron in the dense hidden layer.\n",
    "#### Use Mean square error as loss function and sgd as optimizer"
   ]
  },
  {
   "cell_type": "code",
   "execution_count": 178,
   "metadata": {},
   "outputs": [],
   "source": [
    "#Initialize Sequential model\n",
    "model = tf.keras.models.Sequential()\n",
    "\n",
    "#Add Dense Layer which provides 10 Outputs after applying softmax\n",
    "model.add(tf.keras.layers.Dense(1,input_shape=(4,)))\n",
    "#model.add(tf.keras.layers.Dense(1))\n",
    "\n",
    "\n",
    "#Comile the model\n",
    "sgd_optimizer = tf.keras.optimizers.SGD(lr=0.03)\n",
    "model.compile(optimizer=sgd_optimizer, loss='mse')"
   ]
  },
  {
   "cell_type": "code",
   "execution_count": 179,
   "metadata": {},
   "outputs": [
    {
     "data": {
      "text/plain": [
       "array([[1.95260873e-05, 1.92729567e-05, 1.95753055e-05, 1.00000000e+00],\n",
       "       [3.25567339e-06, 3.24057760e-06, 3.36386051e-06, 1.00000000e+00],\n",
       "       [1.67042970e-06, 1.65513768e-06, 1.70641090e-06, 1.00000000e+00],\n",
       "       ...,\n",
       "       [1.04472536e-04, 1.03533064e-04, 1.04582476e-04, 1.00000000e+00],\n",
       "       [1.26646439e-04, 1.23368751e-04, 1.27374820e-04, 1.00000000e+00],\n",
       "       [1.16344178e-04, 1.14913550e-04, 1.18731987e-04, 1.00000000e+00]],\n",
       "      dtype=float32)"
      ]
     },
     "execution_count": 179,
     "metadata": {},
     "output_type": "execute_result"
    }
   ],
   "source": [
    "X_train.reshape((700,4))"
   ]
  },
  {
   "cell_type": "code",
   "execution_count": 180,
   "metadata": {},
   "outputs": [
    {
     "data": {
      "text/plain": [
       "(700, 4)"
      ]
     },
     "execution_count": 180,
     "metadata": {},
     "output_type": "execute_result"
    }
   ],
   "source": [
    "X_train.shape"
   ]
  },
  {
   "cell_type": "code",
   "execution_count": 181,
   "metadata": {},
   "outputs": [
    {
     "name": "stdout",
     "output_type": "stream",
     "text": [
      "Model: \"sequential_19\"\n",
      "_________________________________________________________________\n",
      "Layer (type)                 Output Shape              Param #   \n",
      "=================================================================\n",
      "dense_27 (Dense)             (None, 1)                 5         \n",
      "=================================================================\n",
      "Total params: 5\n",
      "Trainable params: 5\n",
      "Non-trainable params: 0\n",
      "_________________________________________________________________\n"
     ]
    }
   ],
   "source": [
    "model.summary()"
   ]
  },
  {
   "cell_type": "markdown",
   "metadata": {
    "colab_type": "text",
    "id": "Wt-HYFMEOB8G",
    "slideshow": {
     "slide_type": "slide"
    }
   },
   "source": [
    "### Execute the model"
   ]
  },
  {
   "cell_type": "code",
   "execution_count": 182,
   "metadata": {
    "colab": {},
    "colab_type": "code",
    "id": "66JGJt7GOB8H"
   },
   "outputs": [
    {
     "name": "stdout",
     "output_type": "stream",
     "text": [
      "Train on 700 samples, validate on 300 samples\n",
      "Epoch 1/10\n",
      "700/700 [==============================] - 0s 104us/sample - loss: 4426.1712 - val_loss: 286764700494456000.0000\n",
      "Epoch 2/10\n",
      "700/700 [==============================] - 0s 27us/sample - loss: 3575.7347 - val_loss: 270299778581661408.0000\n",
      "Epoch 3/10\n",
      "700/700 [==============================] - 0s 36us/sample - loss: 3571.0956 - val_loss: 294916828310966080.0000\n",
      "Epoch 4/10\n",
      "700/700 [==============================] - 0s 28us/sample - loss: 3582.0766 - val_loss: 287846065226844736.0000\n",
      "Epoch 5/10\n",
      "700/700 [==============================] - 0s 31us/sample - loss: 3587.6879 - val_loss: 292819508506593856.0000\n",
      "Epoch 6/10\n",
      "700/700 [==============================] - 0s 33us/sample - loss: 3575.7824 - val_loss: 306720874076604544.0000\n",
      "Epoch 7/10\n",
      "700/700 [==============================] - 0s 34us/sample - loss: 3582.6741 - val_loss: 299036763205615808.0000\n",
      "Epoch 8/10\n",
      "700/700 [==============================] - 0s 30us/sample - loss: 3575.7857 - val_loss: 280049914350050560.0000\n",
      "Epoch 9/10\n",
      "700/700 [==============================] - 0s 29us/sample - loss: 3580.7181 - val_loss: 282747353896569184.0000\n",
      "Epoch 10/10\n",
      "700/700 [==============================] - 0s 30us/sample - loss: 3584.2504 - val_loss: 292216924136835200.0000\n"
     ]
    },
    {
     "data": {
      "text/plain": [
       "<tensorflow.python.keras.callbacks.History at 0x2a291873748>"
      ]
     },
     "execution_count": 182,
     "metadata": {},
     "output_type": "execute_result"
    }
   ],
   "source": [
    "    model.fit(X_train, y_train, \n",
    "              validation_data=(X_test, y_test), \n",
    "              epochs=10,\n",
    "              batch_size=32)"
   ]
  },
  {
   "cell_type": "markdown",
   "metadata": {},
   "source": [
    "### Classification using Keras "
   ]
  },
  {
   "cell_type": "markdown",
   "metadata": {},
   "source": [
    "### Load the given Iris data using pandas (Iris.csv)"
   ]
  },
  {
   "cell_type": "code",
   "execution_count": 292,
   "metadata": {},
   "outputs": [],
   "source": [
    "i_df=pd.read_csv('Iris.csv')"
   ]
  },
  {
   "cell_type": "code",
   "execution_count": 293,
   "metadata": {},
   "outputs": [
    {
     "data": {
      "text/plain": [
       "(150, 6)"
      ]
     },
     "execution_count": 293,
     "metadata": {},
     "output_type": "execute_result"
    }
   ],
   "source": [
    "i_df.shape"
   ]
  },
  {
   "cell_type": "code",
   "execution_count": 294,
   "metadata": {},
   "outputs": [
    {
     "name": "stdout",
     "output_type": "stream",
     "text": [
      "<class 'pandas.core.frame.DataFrame'>\n",
      "RangeIndex: 150 entries, 0 to 149\n",
      "Data columns (total 6 columns):\n",
      "Id               150 non-null int64\n",
      "SepalLengthCm    150 non-null float64\n",
      "SepalWidthCm     150 non-null float64\n",
      "PetalLengthCm    150 non-null float64\n",
      "PetalWidthCm     150 non-null float64\n",
      "Species          150 non-null object\n",
      "dtypes: float64(4), int64(1), object(1)\n",
      "memory usage: 7.1+ KB\n"
     ]
    }
   ],
   "source": [
    "i_df.info()"
   ]
  },
  {
   "cell_type": "markdown",
   "metadata": {},
   "source": [
    "### Splitting the data into feature set and target set"
   ]
  },
  {
   "cell_type": "code",
   "execution_count": 295,
   "metadata": {},
   "outputs": [],
   "source": [
    "X1 = i_df.drop(columns=['Species','Id'] ,axis=1)\n",
    "y1 = i_df.Species"
   ]
  },
  {
   "cell_type": "code",
   "execution_count": 296,
   "metadata": {},
   "outputs": [
    {
     "data": {
      "text/plain": [
       "(150, 4)"
      ]
     },
     "execution_count": 296,
     "metadata": {},
     "output_type": "execute_result"
    }
   ],
   "source": [
    "X1.shape"
   ]
  },
  {
   "cell_type": "markdown",
   "metadata": {},
   "source": [
    "### Target set has different categories. So, Label encode them. And convert into one-hot vectors using get_dummies in pandas."
   ]
  },
  {
   "cell_type": "code",
   "execution_count": 229,
   "metadata": {},
   "outputs": [],
   "source": [
    "from sklearn import preprocessing"
   ]
  },
  {
   "cell_type": "code",
   "execution_count": 230,
   "metadata": {},
   "outputs": [],
   "source": [
    "#method1"
   ]
  },
  {
   "cell_type": "code",
   "execution_count": 297,
   "metadata": {},
   "outputs": [],
   "source": [
    "le = preprocessing.LabelEncoder()"
   ]
  },
  {
   "cell_type": "code",
   "execution_count": 298,
   "metadata": {},
   "outputs": [],
   "source": [
    "y1=le.fit_transform(i_df['Species'])"
   ]
  },
  {
   "cell_type": "code",
   "execution_count": 299,
   "metadata": {},
   "outputs": [
    {
     "data": {
      "text/plain": [
       "array([0, 0, 0, 0, 0, 0, 0, 0, 0, 0, 0, 0, 0, 0, 0, 0, 0, 0, 0, 0, 0, 0,\n",
       "       0, 0, 0, 0, 0, 0, 0, 0, 0, 0, 0, 0, 0, 0, 0, 0, 0, 0, 0, 0, 0, 0,\n",
       "       0, 0, 0, 0, 0, 0, 1, 1, 1, 1, 1, 1, 1, 1, 1, 1, 1, 1, 1, 1, 1, 1,\n",
       "       1, 1, 1, 1, 1, 1, 1, 1, 1, 1, 1, 1, 1, 1, 1, 1, 1, 1, 1, 1, 1, 1,\n",
       "       1, 1, 1, 1, 1, 1, 1, 1, 1, 1, 1, 1, 2, 2, 2, 2, 2, 2, 2, 2, 2, 2,\n",
       "       2, 2, 2, 2, 2, 2, 2, 2, 2, 2, 2, 2, 2, 2, 2, 2, 2, 2, 2, 2, 2, 2,\n",
       "       2, 2, 2, 2, 2, 2, 2, 2, 2, 2, 2, 2, 2, 2, 2, 2, 2, 2])"
      ]
     },
     "execution_count": 299,
     "metadata": {},
     "output_type": "execute_result"
    }
   ],
   "source": [
    "y1"
   ]
  },
  {
   "cell_type": "code",
   "execution_count": 300,
   "metadata": {},
   "outputs": [],
   "source": [
    "y2=pd.get_dummies(y1).values"
   ]
  },
  {
   "cell_type": "code",
   "execution_count": 301,
   "metadata": {},
   "outputs": [
    {
     "data": {
      "text/plain": [
       "array([[1, 0, 0],\n",
       "       [1, 0, 0],\n",
       "       [1, 0, 0],\n",
       "       [1, 0, 0],\n",
       "       [1, 0, 0],\n",
       "       [1, 0, 0],\n",
       "       [1, 0, 0],\n",
       "       [1, 0, 0],\n",
       "       [1, 0, 0],\n",
       "       [1, 0, 0],\n",
       "       [1, 0, 0],\n",
       "       [1, 0, 0],\n",
       "       [1, 0, 0],\n",
       "       [1, 0, 0],\n",
       "       [1, 0, 0],\n",
       "       [1, 0, 0],\n",
       "       [1, 0, 0],\n",
       "       [1, 0, 0],\n",
       "       [1, 0, 0],\n",
       "       [1, 0, 0],\n",
       "       [1, 0, 0],\n",
       "       [1, 0, 0],\n",
       "       [1, 0, 0],\n",
       "       [1, 0, 0],\n",
       "       [1, 0, 0],\n",
       "       [1, 0, 0],\n",
       "       [1, 0, 0],\n",
       "       [1, 0, 0],\n",
       "       [1, 0, 0],\n",
       "       [1, 0, 0],\n",
       "       [1, 0, 0],\n",
       "       [1, 0, 0],\n",
       "       [1, 0, 0],\n",
       "       [1, 0, 0],\n",
       "       [1, 0, 0],\n",
       "       [1, 0, 0],\n",
       "       [1, 0, 0],\n",
       "       [1, 0, 0],\n",
       "       [1, 0, 0],\n",
       "       [1, 0, 0],\n",
       "       [1, 0, 0],\n",
       "       [1, 0, 0],\n",
       "       [1, 0, 0],\n",
       "       [1, 0, 0],\n",
       "       [1, 0, 0],\n",
       "       [1, 0, 0],\n",
       "       [1, 0, 0],\n",
       "       [1, 0, 0],\n",
       "       [1, 0, 0],\n",
       "       [1, 0, 0],\n",
       "       [0, 1, 0],\n",
       "       [0, 1, 0],\n",
       "       [0, 1, 0],\n",
       "       [0, 1, 0],\n",
       "       [0, 1, 0],\n",
       "       [0, 1, 0],\n",
       "       [0, 1, 0],\n",
       "       [0, 1, 0],\n",
       "       [0, 1, 0],\n",
       "       [0, 1, 0],\n",
       "       [0, 1, 0],\n",
       "       [0, 1, 0],\n",
       "       [0, 1, 0],\n",
       "       [0, 1, 0],\n",
       "       [0, 1, 0],\n",
       "       [0, 1, 0],\n",
       "       [0, 1, 0],\n",
       "       [0, 1, 0],\n",
       "       [0, 1, 0],\n",
       "       [0, 1, 0],\n",
       "       [0, 1, 0],\n",
       "       [0, 1, 0],\n",
       "       [0, 1, 0],\n",
       "       [0, 1, 0],\n",
       "       [0, 1, 0],\n",
       "       [0, 1, 0],\n",
       "       [0, 1, 0],\n",
       "       [0, 1, 0],\n",
       "       [0, 1, 0],\n",
       "       [0, 1, 0],\n",
       "       [0, 1, 0],\n",
       "       [0, 1, 0],\n",
       "       [0, 1, 0],\n",
       "       [0, 1, 0],\n",
       "       [0, 1, 0],\n",
       "       [0, 1, 0],\n",
       "       [0, 1, 0],\n",
       "       [0, 1, 0],\n",
       "       [0, 1, 0],\n",
       "       [0, 1, 0],\n",
       "       [0, 1, 0],\n",
       "       [0, 1, 0],\n",
       "       [0, 1, 0],\n",
       "       [0, 1, 0],\n",
       "       [0, 1, 0],\n",
       "       [0, 1, 0],\n",
       "       [0, 1, 0],\n",
       "       [0, 1, 0],\n",
       "       [0, 1, 0],\n",
       "       [0, 1, 0],\n",
       "       [0, 0, 1],\n",
       "       [0, 0, 1],\n",
       "       [0, 0, 1],\n",
       "       [0, 0, 1],\n",
       "       [0, 0, 1],\n",
       "       [0, 0, 1],\n",
       "       [0, 0, 1],\n",
       "       [0, 0, 1],\n",
       "       [0, 0, 1],\n",
       "       [0, 0, 1],\n",
       "       [0, 0, 1],\n",
       "       [0, 0, 1],\n",
       "       [0, 0, 1],\n",
       "       [0, 0, 1],\n",
       "       [0, 0, 1],\n",
       "       [0, 0, 1],\n",
       "       [0, 0, 1],\n",
       "       [0, 0, 1],\n",
       "       [0, 0, 1],\n",
       "       [0, 0, 1],\n",
       "       [0, 0, 1],\n",
       "       [0, 0, 1],\n",
       "       [0, 0, 1],\n",
       "       [0, 0, 1],\n",
       "       [0, 0, 1],\n",
       "       [0, 0, 1],\n",
       "       [0, 0, 1],\n",
       "       [0, 0, 1],\n",
       "       [0, 0, 1],\n",
       "       [0, 0, 1],\n",
       "       [0, 0, 1],\n",
       "       [0, 0, 1],\n",
       "       [0, 0, 1],\n",
       "       [0, 0, 1],\n",
       "       [0, 0, 1],\n",
       "       [0, 0, 1],\n",
       "       [0, 0, 1],\n",
       "       [0, 0, 1],\n",
       "       [0, 0, 1],\n",
       "       [0, 0, 1],\n",
       "       [0, 0, 1],\n",
       "       [0, 0, 1],\n",
       "       [0, 0, 1],\n",
       "       [0, 0, 1],\n",
       "       [0, 0, 1],\n",
       "       [0, 0, 1],\n",
       "       [0, 0, 1],\n",
       "       [0, 0, 1],\n",
       "       [0, 0, 1],\n",
       "       [0, 0, 1]], dtype=uint8)"
      ]
     },
     "execution_count": 301,
     "metadata": {},
     "output_type": "execute_result"
    }
   ],
   "source": [
    "y2"
   ]
  },
  {
   "cell_type": "markdown",
   "metadata": {},
   "source": [
    "#Method2\n",
    "splitting data is pre req"
   ]
  },
  {
   "cell_type": "markdown",
   "metadata": {},
   "source": [
    "### Divide the dataset into Training and test (70:30)"
   ]
  },
  {
   "cell_type": "code",
   "execution_count": 303,
   "metadata": {},
   "outputs": [
    {
     "data": {
      "text/plain": [
       "((105, 4), (45, 4), (105,), (45,))"
      ]
     },
     "execution_count": 303,
     "metadata": {},
     "output_type": "execute_result"
    }
   ],
   "source": [
    "X1_train, X1_test, y1_train, y1_test = train_test_split(X1, y1, test_size=0.3, random_state=1)\n",
    "X1_train.shape, X1_test.shape, y1_train.shape, y1_test.shape"
   ]
  },
  {
   "cell_type": "code",
   "execution_count": 304,
   "metadata": {},
   "outputs": [],
   "source": [
    "trainY1 = tf.keras.utils.to_categorical(y1_train, num_classes=3)\n",
    "testY1 = tf.keras.utils.to_categorical(y1_test, num_classes=3)"
   ]
  },
  {
   "cell_type": "code",
   "execution_count": 305,
   "metadata": {},
   "outputs": [
    {
     "data": {
      "text/plain": [
       "array([[0., 0., 1.],\n",
       "       [1., 0., 0.],\n",
       "       [1., 0., 0.],\n",
       "       [1., 0., 0.],\n",
       "       [0., 1., 0.],\n",
       "       [1., 0., 0.],\n",
       "       [1., 0., 0.],\n",
       "       [0., 0., 1.],\n",
       "       [0., 0., 1.],\n",
       "       [0., 0., 1.],\n",
       "       [0., 0., 1.],\n",
       "       [0., 0., 1.],\n",
       "       [0., 1., 0.],\n",
       "       [0., 0., 1.],\n",
       "       [0., 1., 0.],\n",
       "       [1., 0., 0.],\n",
       "       [0., 0., 1.],\n",
       "       [0., 0., 1.],\n",
       "       [1., 0., 0.],\n",
       "       [1., 0., 0.],\n",
       "       [0., 0., 1.],\n",
       "       [1., 0., 0.],\n",
       "       [0., 0., 1.],\n",
       "       [0., 0., 1.],\n",
       "       [0., 1., 0.],\n",
       "       [0., 1., 0.],\n",
       "       [0., 0., 1.],\n",
       "       [0., 0., 1.],\n",
       "       [1., 0., 0.],\n",
       "       [0., 1., 0.],\n",
       "       [0., 1., 0.],\n",
       "       [0., 0., 1.],\n",
       "       [0., 1., 0.],\n",
       "       [0., 0., 1.],\n",
       "       [0., 1., 0.],\n",
       "       [1., 0., 0.],\n",
       "       [1., 0., 0.],\n",
       "       [1., 0., 0.],\n",
       "       [0., 0., 1.],\n",
       "       [1., 0., 0.],\n",
       "       [0., 1., 0.],\n",
       "       [0., 0., 1.],\n",
       "       [0., 0., 1.],\n",
       "       [1., 0., 0.],\n",
       "       [1., 0., 0.],\n",
       "       [0., 1., 0.],\n",
       "       [1., 0., 0.],\n",
       "       [0., 0., 1.],\n",
       "       [0., 1., 0.],\n",
       "       [0., 0., 1.],\n",
       "       [0., 0., 1.],\n",
       "       [0., 1., 0.],\n",
       "       [0., 0., 1.],\n",
       "       [0., 0., 1.],\n",
       "       [0., 1., 0.],\n",
       "       [1., 0., 0.],\n",
       "       [0., 1., 0.],\n",
       "       [1., 0., 0.],\n",
       "       [0., 1., 0.],\n",
       "       [0., 1., 0.],\n",
       "       [1., 0., 0.],\n",
       "       [0., 1., 0.],\n",
       "       [1., 0., 0.],\n",
       "       [1., 0., 0.],\n",
       "       [0., 0., 1.],\n",
       "       [0., 0., 1.],\n",
       "       [0., 0., 1.],\n",
       "       [1., 0., 0.],\n",
       "       [1., 0., 0.],\n",
       "       [0., 1., 0.],\n",
       "       [1., 0., 0.],\n",
       "       [0., 0., 1.],\n",
       "       [1., 0., 0.],\n",
       "       [0., 0., 1.],\n",
       "       [0., 0., 1.],\n",
       "       [1., 0., 0.],\n",
       "       [0., 0., 1.],\n",
       "       [1., 0., 0.],\n",
       "       [0., 1., 0.],\n",
       "       [1., 0., 0.],\n",
       "       [0., 1., 0.],\n",
       "       [0., 1., 0.],\n",
       "       [1., 0., 0.],\n",
       "       [1., 0., 0.],\n",
       "       [0., 1., 0.],\n",
       "       [1., 0., 0.],\n",
       "       [0., 1., 0.],\n",
       "       [0., 1., 0.],\n",
       "       [1., 0., 0.],\n",
       "       [0., 1., 0.],\n",
       "       [0., 1., 0.],\n",
       "       [0., 1., 0.],\n",
       "       [0., 1., 0.],\n",
       "       [0., 0., 1.],\n",
       "       [1., 0., 0.],\n",
       "       [1., 0., 0.],\n",
       "       [0., 0., 1.],\n",
       "       [0., 1., 0.],\n",
       "       [0., 0., 1.],\n",
       "       [0., 1., 0.],\n",
       "       [0., 0., 1.],\n",
       "       [0., 0., 1.],\n",
       "       [0., 1., 0.],\n",
       "       [0., 0., 1.],\n",
       "       [1., 0., 0.]], dtype=float32)"
      ]
     },
     "execution_count": 305,
     "metadata": {},
     "output_type": "execute_result"
    }
   ],
   "source": [
    "trainY1"
   ]
  },
  {
   "cell_type": "code",
   "execution_count": 306,
   "metadata": {},
   "outputs": [
    {
     "data": {
      "text/plain": [
       "array([[1., 0., 0.],\n",
       "       [0., 1., 0.],\n",
       "       [0., 1., 0.],\n",
       "       [1., 0., 0.],\n",
       "       [0., 0., 1.],\n",
       "       [0., 1., 0.],\n",
       "       [0., 0., 1.],\n",
       "       [1., 0., 0.],\n",
       "       [1., 0., 0.],\n",
       "       [0., 0., 1.],\n",
       "       [0., 1., 0.],\n",
       "       [1., 0., 0.],\n",
       "       [0., 0., 1.],\n",
       "       [0., 1., 0.],\n",
       "       [0., 1., 0.],\n",
       "       [1., 0., 0.],\n",
       "       [0., 1., 0.],\n",
       "       [0., 1., 0.],\n",
       "       [1., 0., 0.],\n",
       "       [1., 0., 0.],\n",
       "       [0., 1., 0.],\n",
       "       [0., 1., 0.],\n",
       "       [0., 1., 0.],\n",
       "       [1., 0., 0.],\n",
       "       [0., 0., 1.],\n",
       "       [0., 1., 0.],\n",
       "       [1., 0., 0.],\n",
       "       [1., 0., 0.],\n",
       "       [0., 1., 0.],\n",
       "       [0., 0., 1.],\n",
       "       [0., 1., 0.],\n",
       "       [0., 0., 1.],\n",
       "       [0., 1., 0.],\n",
       "       [0., 0., 1.],\n",
       "       [0., 0., 1.],\n",
       "       [1., 0., 0.],\n",
       "       [0., 1., 0.],\n",
       "       [1., 0., 0.],\n",
       "       [0., 1., 0.],\n",
       "       [0., 0., 1.],\n",
       "       [0., 0., 1.],\n",
       "       [1., 0., 0.],\n",
       "       [0., 0., 1.],\n",
       "       [0., 0., 1.],\n",
       "       [0., 1., 0.]], dtype=float32)"
      ]
     },
     "execution_count": 306,
     "metadata": {},
     "output_type": "execute_result"
    }
   ],
   "source": [
    "testY1"
   ]
  },
  {
   "cell_type": "markdown",
   "metadata": {},
   "source": [
    "### Model\n",
    "Build the model with following layers: <br>\n",
    "1. First dense layer with 10 neurons with input shape 4 (according to the feature set) <br>\n",
    "2. Second Dense layer with 8 neurons <br>\n",
    "3. Output layer with 3 neurons with softmax activation (output layer, 3 neurons as we have 3 classes) <br>\n",
    "4. Use SGD and categorical_crossentropy loss "
   ]
  },
  {
   "cell_type": "code",
   "execution_count": 307,
   "metadata": {},
   "outputs": [],
   "source": [
    "#Initialize Sequential model\n",
    "model = tf.keras.models.Sequential()\n",
    "\n",
    "#Normalize the data\n",
    "model.add(tf.keras.layers.BatchNormalization(input_shape=(4,)))\n",
    "\n",
    "#Add Dense Layer which provides 10 inputs/neron\n",
    "model.add(tf.keras.layers.Dense(10, activation='relu'))\n",
    "\n",
    "\n",
    "#Add Dense Layer which provides 8 inputs/neron\n",
    "model.add(tf.keras.layers.Dense(8, activation='relu'))\n",
    "\n",
    "\n",
    "#Add Dense Layer which provides 3 Outputs after applying softmax\n",
    "model.add(tf.keras.layers.Dense(3, activation='softmax'))\n",
    "\n",
    "#Compile the model\n",
    "model.compile(optimizer='sgd', loss='categorical_crossentropy', metrics=['accuracy'])\n"
   ]
  },
  {
   "cell_type": "code",
   "execution_count": 308,
   "metadata": {},
   "outputs": [],
   "source": [
    "X1_train=X1_train.values"
   ]
  },
  {
   "cell_type": "code",
   "execution_count": 309,
   "metadata": {},
   "outputs": [],
   "source": [
    "X1_test=X1_test.values"
   ]
  },
  {
   "cell_type": "code",
   "execution_count": 310,
   "metadata": {},
   "outputs": [
    {
     "data": {
      "text/plain": [
       "array([[7.7, 2.6, 6.9, 2.3],\n",
       "       [5.7, 3.8, 1.7, 0.3],\n",
       "       [5. , 3.6, 1.4, 0.2],\n",
       "       [4.8, 3. , 1.4, 0.3],\n",
       "       [5.2, 2.7, 3.9, 1.4],\n",
       "       [5.1, 3.4, 1.5, 0.2],\n",
       "       [5.5, 3.5, 1.3, 0.2],\n",
       "       [7.7, 3.8, 6.7, 2.2],\n",
       "       [6.9, 3.1, 5.4, 2.1],\n",
       "       [7.3, 2.9, 6.3, 1.8],\n",
       "       [6.4, 2.8, 5.6, 2.2],\n",
       "       [6.2, 2.8, 4.8, 1.8],\n",
       "       [6. , 3.4, 4.5, 1.6],\n",
       "       [7.7, 2.8, 6.7, 2. ],\n",
       "       [5.7, 3. , 4.2, 1.2],\n",
       "       [4.8, 3.4, 1.6, 0.2],\n",
       "       [5.7, 2.5, 5. , 2. ],\n",
       "       [6.3, 2.7, 4.9, 1.8],\n",
       "       [4.8, 3. , 1.4, 0.1],\n",
       "       [4.7, 3.2, 1.3, 0.2],\n",
       "       [6.5, 3. , 5.8, 2.2],\n",
       "       [4.6, 3.4, 1.4, 0.3],\n",
       "       [6.1, 3. , 4.9, 1.8],\n",
       "       [6.5, 3.2, 5.1, 2. ],\n",
       "       [6.7, 3.1, 4.4, 1.4],\n",
       "       [5.7, 2.8, 4.5, 1.3],\n",
       "       [6.7, 3.3, 5.7, 2.5],\n",
       "       [6. , 3. , 4.8, 1.8],\n",
       "       [5.1, 3.8, 1.6, 0.2],\n",
       "       [6. , 2.2, 4. , 1. ],\n",
       "       [6.4, 2.9, 4.3, 1.3],\n",
       "       [6.5, 3. , 5.5, 1.8],\n",
       "       [5. , 2.3, 3.3, 1. ],\n",
       "       [6.3, 3.3, 6. , 2.5],\n",
       "       [5.5, 2.5, 4. , 1.3],\n",
       "       [5.4, 3.7, 1.5, 0.2],\n",
       "       [4.9, 3.1, 1.5, 0.1],\n",
       "       [5.2, 4.1, 1.5, 0.1],\n",
       "       [6.7, 3.3, 5.7, 2.1],\n",
       "       [4.4, 3. , 1.3, 0.2],\n",
       "       [6. , 2.7, 5.1, 1.6],\n",
       "       [6.4, 2.7, 5.3, 1.9],\n",
       "       [5.9, 3. , 5.1, 1.8],\n",
       "       [5.2, 3.5, 1.5, 0.2],\n",
       "       [5.1, 3.3, 1.7, 0.5],\n",
       "       [5.8, 2.7, 4.1, 1. ],\n",
       "       [4.9, 3.1, 1.5, 0.1],\n",
       "       [7.4, 2.8, 6.1, 1.9],\n",
       "       [6.2, 2.9, 4.3, 1.3],\n",
       "       [7.6, 3. , 6.6, 2.1],\n",
       "       [6.7, 3. , 5.2, 2.3],\n",
       "       [6.3, 2.3, 4.4, 1.3],\n",
       "       [6.2, 3.4, 5.4, 2.3],\n",
       "       [7.2, 3.6, 6.1, 2.5],\n",
       "       [5.6, 2.9, 3.6, 1.3],\n",
       "       [5.7, 4.4, 1.5, 0.4],\n",
       "       [5.8, 2.7, 3.9, 1.2],\n",
       "       [4.5, 2.3, 1.3, 0.3],\n",
       "       [5.5, 2.4, 3.8, 1.1],\n",
       "       [6.9, 3.1, 4.9, 1.5],\n",
       "       [5. , 3.4, 1.6, 0.4],\n",
       "       [6.8, 2.8, 4.8, 1.4],\n",
       "       [5. , 3.5, 1.6, 0.6],\n",
       "       [4.8, 3.4, 1.9, 0.2],\n",
       "       [6.3, 3.4, 5.6, 2.4],\n",
       "       [5.6, 2.8, 4.9, 2. ],\n",
       "       [6.8, 3.2, 5.9, 2.3],\n",
       "       [5. , 3.3, 1.4, 0.2],\n",
       "       [5.1, 3.7, 1.5, 0.4],\n",
       "       [5.9, 3.2, 4.8, 1.8],\n",
       "       [4.6, 3.1, 1.5, 0.2],\n",
       "       [5.8, 2.7, 5.1, 1.9],\n",
       "       [4.8, 3.1, 1.6, 0.2],\n",
       "       [6.5, 3. , 5.2, 2. ],\n",
       "       [4.9, 2.5, 4.5, 1.7],\n",
       "       [4.6, 3.2, 1.4, 0.2],\n",
       "       [6.4, 3.2, 5.3, 2.3],\n",
       "       [4.3, 3. , 1.1, 0.1],\n",
       "       [5.6, 3. , 4.1, 1.3],\n",
       "       [4.4, 2.9, 1.4, 0.2],\n",
       "       [5.5, 2.4, 3.7, 1. ],\n",
       "       [5. , 2. , 3.5, 1. ],\n",
       "       [5.1, 3.5, 1.4, 0.2],\n",
       "       [4.9, 3. , 1.4, 0.2],\n",
       "       [4.9, 2.4, 3.3, 1. ],\n",
       "       [4.6, 3.6, 1. , 0.2],\n",
       "       [5.9, 3. , 4.2, 1.5],\n",
       "       [6.1, 2.9, 4.7, 1.4],\n",
       "       [5. , 3.4, 1.5, 0.2],\n",
       "       [6.7, 3.1, 4.7, 1.5],\n",
       "       [5.7, 2.9, 4.2, 1.3],\n",
       "       [6.2, 2.2, 4.5, 1.5],\n",
       "       [7. , 3.2, 4.7, 1.4],\n",
       "       [5.8, 2.7, 5.1, 1.9],\n",
       "       [5.4, 3.4, 1.7, 0.2],\n",
       "       [5. , 3. , 1.6, 0.2],\n",
       "       [6.1, 2.6, 5.6, 1.4],\n",
       "       [6.1, 2.8, 4. , 1.3],\n",
       "       [7.2, 3. , 5.8, 1.6],\n",
       "       [5.7, 2.6, 3.5, 1. ],\n",
       "       [6.3, 2.8, 5.1, 1.5],\n",
       "       [6.4, 3.1, 5.5, 1.8],\n",
       "       [6.3, 2.5, 4.9, 1.5],\n",
       "       [6.7, 3.1, 5.6, 2.4],\n",
       "       [4.9, 3.1, 1.5, 0.1]])"
      ]
     },
     "execution_count": 310,
     "metadata": {},
     "output_type": "execute_result"
    }
   ],
   "source": [
    "X1_train"
   ]
  },
  {
   "cell_type": "code",
   "execution_count": 311,
   "metadata": {},
   "outputs": [
    {
     "data": {
      "text/plain": [
       "array([[5.8, 4. , 1.2, 0.2],\n",
       "       [5.1, 2.5, 3. , 1.1],\n",
       "       [6.6, 3. , 4.4, 1.4],\n",
       "       [5.4, 3.9, 1.3, 0.4],\n",
       "       [7.9, 3.8, 6.4, 2. ],\n",
       "       [6.3, 3.3, 4.7, 1.6],\n",
       "       [6.9, 3.1, 5.1, 2.3],\n",
       "       [5.1, 3.8, 1.9, 0.4],\n",
       "       [4.7, 3.2, 1.6, 0.2],\n",
       "       [6.9, 3.2, 5.7, 2.3],\n",
       "       [5.6, 2.7, 4.2, 1.3],\n",
       "       [5.4, 3.9, 1.7, 0.4],\n",
       "       [7.1, 3. , 5.9, 2.1],\n",
       "       [6.4, 3.2, 4.5, 1.5],\n",
       "       [6. , 2.9, 4.5, 1.5],\n",
       "       [4.4, 3.2, 1.3, 0.2],\n",
       "       [5.8, 2.6, 4. , 1.2],\n",
       "       [5.6, 3. , 4.5, 1.5],\n",
       "       [5.4, 3.4, 1.5, 0.4],\n",
       "       [5. , 3.2, 1.2, 0.2],\n",
       "       [5.5, 2.6, 4.4, 1.2],\n",
       "       [5.4, 3. , 4.5, 1.5],\n",
       "       [6.7, 3. , 5. , 1.7],\n",
       "       [5. , 3.5, 1.3, 0.3],\n",
       "       [7.2, 3.2, 6. , 1.8],\n",
       "       [5.7, 2.8, 4.1, 1.3],\n",
       "       [5.5, 4.2, 1.4, 0.2],\n",
       "       [5.1, 3.8, 1.5, 0.3],\n",
       "       [6.1, 2.8, 4.7, 1.2],\n",
       "       [6.3, 2.5, 5. , 1.9],\n",
       "       [6.1, 3. , 4.6, 1.4],\n",
       "       [7.7, 3. , 6.1, 2.3],\n",
       "       [5.6, 2.5, 3.9, 1.1],\n",
       "       [6.4, 2.8, 5.6, 2.1],\n",
       "       [5.8, 2.8, 5.1, 2.4],\n",
       "       [5.3, 3.7, 1.5, 0.2],\n",
       "       [5.5, 2.3, 4. , 1.3],\n",
       "       [5.2, 3.4, 1.4, 0.2],\n",
       "       [6.5, 2.8, 4.6, 1.5],\n",
       "       [6.7, 2.5, 5.8, 1.8],\n",
       "       [6.8, 3. , 5.5, 2.1],\n",
       "       [5.1, 3.5, 1.4, 0.3],\n",
       "       [6. , 2.2, 5. , 1.5],\n",
       "       [6.3, 2.9, 5.6, 1.8],\n",
       "       [6.6, 2.9, 4.6, 1.3]])"
      ]
     },
     "execution_count": 311,
     "metadata": {},
     "output_type": "execute_result"
    }
   ],
   "source": [
    "X1_test"
   ]
  },
  {
   "cell_type": "markdown",
   "metadata": {},
   "source": [
    "### Fitting the model and predicting "
   ]
  },
  {
   "cell_type": "markdown",
   "metadata": {},
   "source": [
    "# METHOD1 - #using - tf.keras.utils.to_categorical values"
   ]
  },
  {
   "cell_type": "code",
   "execution_count": 332,
   "metadata": {},
   "outputs": [
    {
     "name": "stdout",
     "output_type": "stream",
     "text": [
      "Train on 105 samples, validate on 45 samples\n",
      "Epoch 1/100\n",
      "105/105 [==============================] - 0s 76us/sample - loss: 0.1997 - acc: 0.9333 - val_loss: 0.2511 - val_acc: 0.8667\n",
      "Epoch 2/100\n",
      "105/105 [==============================] - 0s 85us/sample - loss: 0.2644 - acc: 0.8952 - val_loss: 0.2496 - val_acc: 0.8667\n",
      "Epoch 3/100\n",
      "105/105 [==============================] - 0s 85us/sample - loss: 0.3214 - acc: 0.8381 - val_loss: 0.2471 - val_acc: 0.8667\n",
      "Epoch 4/100\n",
      "105/105 [==============================] - 0s 85us/sample - loss: 0.2165 - acc: 0.9143 - val_loss: 0.2455 - val_acc: 0.8889\n",
      "Epoch 5/100\n",
      "105/105 [==============================] - 0s 76us/sample - loss: 0.1779 - acc: 0.9619 - val_loss: 0.2446 - val_acc: 0.8889\n",
      "Epoch 6/100\n",
      "105/105 [==============================] - 0s 76us/sample - loss: 0.1908 - acc: 0.9524 - val_loss: 0.2440 - val_acc: 0.8889\n",
      "Epoch 7/100\n",
      "105/105 [==============================] - 0s 85us/sample - loss: 0.2168 - acc: 0.9238 - val_loss: 0.2428 - val_acc: 0.8889\n",
      "Epoch 8/100\n",
      "105/105 [==============================] - 0s 85us/sample - loss: 0.2777 - acc: 0.8857 - val_loss: 0.2460 - val_acc: 0.8667\n",
      "Epoch 9/100\n",
      "105/105 [==============================] - 0s 76us/sample - loss: 0.2317 - acc: 0.8857 - val_loss: 0.2467 - val_acc: 0.8667\n",
      "Epoch 10/100\n",
      "105/105 [==============================] - 0s 76us/sample - loss: 0.2064 - acc: 0.9143 - val_loss: 0.2479 - val_acc: 0.8667\n",
      "Epoch 11/100\n",
      "105/105 [==============================] - 0s 76us/sample - loss: 0.2010 - acc: 0.9238 - val_loss: 0.2471 - val_acc: 0.8667\n",
      "Epoch 12/100\n",
      "105/105 [==============================] - 0s 76us/sample - loss: 0.2706 - acc: 0.8667 - val_loss: 0.2466 - val_acc: 0.8667\n",
      "Epoch 13/100\n",
      "105/105 [==============================] - 0s 85us/sample - loss: 0.2312 - acc: 0.9429 - val_loss: 0.2469 - val_acc: 0.8667\n",
      "Epoch 14/100\n",
      "105/105 [==============================] - 0s 95us/sample - loss: 0.2327 - acc: 0.8952 - val_loss: 0.2468 - val_acc: 0.8667\n",
      "Epoch 15/100\n",
      "105/105 [==============================] - 0s 76us/sample - loss: 0.2489 - acc: 0.8857 - val_loss: 0.2498 - val_acc: 0.8667\n",
      "Epoch 16/100\n",
      "105/105 [==============================] - 0s 95us/sample - loss: 0.2256 - acc: 0.8952 - val_loss: 0.2474 - val_acc: 0.8667\n",
      "Epoch 17/100\n",
      "105/105 [==============================] - 0s 76us/sample - loss: 0.2378 - acc: 0.8857 - val_loss: 0.2511 - val_acc: 0.8667\n",
      "Epoch 18/100\n",
      "105/105 [==============================] - 0s 76us/sample - loss: 0.2105 - acc: 0.8857 - val_loss: 0.2468 - val_acc: 0.8667\n",
      "Epoch 19/100\n",
      "105/105 [==============================] - 0s 85us/sample - loss: 0.1995 - acc: 0.9238 - val_loss: 0.2497 - val_acc: 0.8667\n",
      "Epoch 20/100\n",
      "105/105 [==============================] - 0s 76us/sample - loss: 0.2156 - acc: 0.9143 - val_loss: 0.2499 - val_acc: 0.8667\n",
      "Epoch 21/100\n",
      "105/105 [==============================] - 0s 95us/sample - loss: 0.2502 - acc: 0.8667 - val_loss: 0.2417 - val_acc: 0.8667\n",
      "Epoch 22/100\n",
      "105/105 [==============================] - 0s 95us/sample - loss: 0.2357 - acc: 0.8952 - val_loss: 0.2411 - val_acc: 0.8667\n",
      "Epoch 23/100\n",
      "105/105 [==============================] - 0s 66us/sample - loss: 0.3199 - acc: 0.8476 - val_loss: 0.2428 - val_acc: 0.8667\n",
      "Epoch 24/100\n",
      "105/105 [==============================] - 0s 104us/sample - loss: 0.1918 - acc: 0.9143 - val_loss: 0.2424 - val_acc: 0.8667\n",
      "Epoch 25/100\n",
      "105/105 [==============================] - 0s 95us/sample - loss: 0.2625 - acc: 0.9238 - val_loss: 0.2349 - val_acc: 0.8667\n",
      "Epoch 26/100\n",
      "105/105 [==============================] - 0s 85us/sample - loss: 0.1876 - acc: 0.9238 - val_loss: 0.2363 - val_acc: 0.8667\n",
      "Epoch 27/100\n",
      "105/105 [==============================] - 0s 104us/sample - loss: 0.1979 - acc: 0.9333 - val_loss: 0.2346 - val_acc: 0.8667\n",
      "Epoch 28/100\n",
      "105/105 [==============================] - 0s 85us/sample - loss: 0.2057 - acc: 0.9143 - val_loss: 0.2336 - val_acc: 0.8667\n",
      "Epoch 29/100\n",
      "105/105 [==============================] - 0s 85us/sample - loss: 0.2359 - acc: 0.9238 - val_loss: 0.2334 - val_acc: 0.8889\n",
      "Epoch 30/100\n",
      "105/105 [==============================] - 0s 104us/sample - loss: 0.2567 - acc: 0.8952 - val_loss: 0.2338 - val_acc: 0.8889\n",
      "Epoch 31/100\n",
      "105/105 [==============================] - 0s 95us/sample - loss: 0.2601 - acc: 0.8952 - val_loss: 0.2330 - val_acc: 0.8889\n",
      "Epoch 32/100\n",
      "105/105 [==============================] - 0s 85us/sample - loss: 0.2164 - acc: 0.9238 - val_loss: 0.2332 - val_acc: 0.8889\n",
      "Epoch 33/100\n",
      "105/105 [==============================] - 0s 95us/sample - loss: 0.3210 - acc: 0.8667 - val_loss: 0.2322 - val_acc: 0.8889\n",
      "Epoch 34/100\n",
      "105/105 [==============================] - 0s 95us/sample - loss: 0.2730 - acc: 0.9143 - val_loss: 0.2331 - val_acc: 0.8889\n",
      "Epoch 35/100\n",
      "105/105 [==============================] - 0s 76us/sample - loss: 0.2088 - acc: 0.9048 - val_loss: 0.2349 - val_acc: 0.8667\n",
      "Epoch 36/100\n",
      "105/105 [==============================] - 0s 104us/sample - loss: 0.1781 - acc: 0.9524 - val_loss: 0.2356 - val_acc: 0.8667\n",
      "Epoch 37/100\n",
      "105/105 [==============================] - 0s 76us/sample - loss: 0.1989 - acc: 0.9333 - val_loss: 0.2329 - val_acc: 0.8667\n",
      "Epoch 38/100\n",
      "105/105 [==============================] - 0s 76us/sample - loss: 0.2340 - acc: 0.8952 - val_loss: 0.2327 - val_acc: 0.8889\n",
      "Epoch 39/100\n",
      "105/105 [==============================] - 0s 76us/sample - loss: 0.2267 - acc: 0.8952 - val_loss: 0.2337 - val_acc: 0.8667\n",
      "Epoch 40/100\n",
      "105/105 [==============================] - 0s 85us/sample - loss: 0.2627 - acc: 0.8952 - val_loss: 0.2333 - val_acc: 0.8667\n",
      "Epoch 41/100\n",
      "105/105 [==============================] - ETA: 0s - loss: 0.2253 - acc: 0.950 - 0s 95us/sample - loss: 0.2143 - acc: 0.9238 - val_loss: 0.2329 - val_acc: 0.8667\n",
      "Epoch 42/100\n",
      "105/105 [==============================] - 0s 85us/sample - loss: 0.2777 - acc: 0.8762 - val_loss: 0.2339 - val_acc: 0.8667\n",
      "Epoch 43/100\n",
      "105/105 [==============================] - 0s 104us/sample - loss: 0.2277 - acc: 0.9143 - val_loss: 0.2340 - val_acc: 0.8667\n",
      "Epoch 44/100\n",
      "105/105 [==============================] - 0s 104us/sample - loss: 0.1834 - acc: 0.9333 - val_loss: 0.2353 - val_acc: 0.8667\n",
      "Epoch 45/100\n",
      "105/105 [==============================] - 0s 85us/sample - loss: 0.3675 - acc: 0.8381 - val_loss: 0.2302 - val_acc: 0.8667\n",
      "Epoch 46/100\n",
      "105/105 [==============================] - 0s 76us/sample - loss: 0.2016 - acc: 0.9333 - val_loss: 0.2324 - val_acc: 0.8667\n",
      "Epoch 47/100\n",
      "105/105 [==============================] - 0s 104us/sample - loss: 0.1615 - acc: 0.9619 - val_loss: 0.2318 - val_acc: 0.8667\n",
      "Epoch 48/100\n",
      "105/105 [==============================] - 0s 86us/sample - loss: 0.2000 - acc: 0.9429 - val_loss: 0.2302 - val_acc: 0.8667\n",
      "Epoch 49/100\n",
      "105/105 [==============================] - 0s 86us/sample - loss: 0.1644 - acc: 0.9429 - val_loss: 0.2278 - val_acc: 0.8667\n",
      "Epoch 50/100\n",
      "105/105 [==============================] - 0s 95us/sample - loss: 0.2195 - acc: 0.9048 - val_loss: 0.2266 - val_acc: 0.8667\n",
      "Epoch 51/100\n",
      "105/105 [==============================] - 0s 104us/sample - loss: 0.1690 - acc: 0.9619 - val_loss: 0.2283 - val_acc: 0.8667\n",
      "Epoch 52/100\n",
      "105/105 [==============================] - 0s 76us/sample - loss: 0.2104 - acc: 0.9238 - val_loss: 0.2253 - val_acc: 0.8667\n",
      "Epoch 53/100\n",
      "105/105 [==============================] - 0s 95us/sample - loss: 0.1759 - acc: 0.9524 - val_loss: 0.2214 - val_acc: 0.8889\n",
      "Epoch 54/100\n",
      "105/105 [==============================] - 0s 85us/sample - loss: 0.3098 - acc: 0.8762 - val_loss: 0.2189 - val_acc: 0.8889\n",
      "Epoch 55/100\n",
      "105/105 [==============================] - 0s 76us/sample - loss: 0.1907 - acc: 0.9238 - val_loss: 0.2195 - val_acc: 0.8889\n",
      "Epoch 56/100\n",
      "105/105 [==============================] - 0s 86us/sample - loss: 0.2424 - acc: 0.9238 - val_loss: 0.2177 - val_acc: 0.8889\n",
      "Epoch 57/100\n",
      "105/105 [==============================] - 0s 76us/sample - loss: 0.1698 - acc: 0.9333 - val_loss: 0.2180 - val_acc: 0.8889\n",
      "Epoch 58/100\n",
      "105/105 [==============================] - 0s 86us/sample - loss: 0.2268 - acc: 0.9238 - val_loss: 0.2177 - val_acc: 0.8889\n",
      "Epoch 59/100\n",
      "105/105 [==============================] - 0s 95us/sample - loss: 0.2171 - acc: 0.9333 - val_loss: 0.2189 - val_acc: 0.8889\n",
      "Epoch 60/100\n"
     ]
    },
    {
     "name": "stdout",
     "output_type": "stream",
     "text": [
      "105/105 [==============================] - 0s 86us/sample - loss: 0.1553 - acc: 0.9619 - val_loss: 0.2204 - val_acc: 0.8889\n",
      "Epoch 61/100\n",
      "105/105 [==============================] - 0s 95us/sample - loss: 0.1919 - acc: 0.9333 - val_loss: 0.2243 - val_acc: 0.8889\n",
      "Epoch 62/100\n",
      "105/105 [==============================] - 0s 95us/sample - loss: 0.2046 - acc: 0.9048 - val_loss: 0.2306 - val_acc: 0.8667\n",
      "Epoch 63/100\n",
      "105/105 [==============================] - 0s 76us/sample - loss: 0.2411 - acc: 0.8762 - val_loss: 0.2270 - val_acc: 0.8667\n",
      "Epoch 64/100\n",
      "105/105 [==============================] - 0s 104us/sample - loss: 0.1758 - acc: 0.9429 - val_loss: 0.2303 - val_acc: 0.8667\n",
      "Epoch 65/100\n",
      "105/105 [==============================] - 0s 85us/sample - loss: 0.1647 - acc: 0.9619 - val_loss: 0.2213 - val_acc: 0.8889\n",
      "Epoch 66/100\n",
      "105/105 [==============================] - 0s 86us/sample - loss: 0.1977 - acc: 0.9048 - val_loss: 0.2186 - val_acc: 0.8889\n",
      "Epoch 67/100\n",
      "105/105 [==============================] - 0s 114us/sample - loss: 0.1984 - acc: 0.9524 - val_loss: 0.2152 - val_acc: 0.8889\n",
      "Epoch 68/100\n",
      "105/105 [==============================] - 0s 86us/sample - loss: 0.2083 - acc: 0.9429 - val_loss: 0.2186 - val_acc: 0.8889\n",
      "Epoch 69/100\n",
      "105/105 [==============================] - 0s 66us/sample - loss: 0.1696 - acc: 0.9619 - val_loss: 0.2186 - val_acc: 0.8889\n",
      "Epoch 70/100\n",
      "105/105 [==============================] - 0s 95us/sample - loss: 0.1974 - acc: 0.9143 - val_loss: 0.2196 - val_acc: 0.8889\n",
      "Epoch 71/100\n",
      "105/105 [==============================] - 0s 86us/sample - loss: 0.1621 - acc: 0.9429 - val_loss: 0.2186 - val_acc: 0.8889\n",
      "Epoch 72/100\n",
      "105/105 [==============================] - 0s 95us/sample - loss: 0.2297 - acc: 0.9238 - val_loss: 0.2122 - val_acc: 0.8889\n",
      "Epoch 73/100\n",
      "105/105 [==============================] - 0s 95us/sample - loss: 0.1634 - acc: 0.9524 - val_loss: 0.2124 - val_acc: 0.8889\n",
      "Epoch 74/100\n",
      "105/105 [==============================] - 0s 95us/sample - loss: 0.1597 - acc: 0.9429 - val_loss: 0.2135 - val_acc: 0.8889\n",
      "Epoch 75/100\n",
      "105/105 [==============================] - 0s 85us/sample - loss: 0.1432 - acc: 0.9714 - val_loss: 0.2160 - val_acc: 0.8889\n",
      "Epoch 76/100\n",
      "105/105 [==============================] - 0s 114us/sample - loss: 0.1901 - acc: 0.9143 - val_loss: 0.2150 - val_acc: 0.8889\n",
      "Epoch 77/100\n",
      "105/105 [==============================] - 0s 95us/sample - loss: 0.2956 - acc: 0.9143 - val_loss: 0.2231 - val_acc: 0.8667\n",
      "Epoch 78/100\n",
      "105/105 [==============================] - 0s 95us/sample - loss: 0.1541 - acc: 0.9429 - val_loss: 0.2188 - val_acc: 0.8889\n",
      "Epoch 79/100\n",
      "105/105 [==============================] - 0s 95us/sample - loss: 0.2556 - acc: 0.8952 - val_loss: 0.2164 - val_acc: 0.8889\n",
      "Epoch 80/100\n",
      "105/105 [==============================] - 0s 104us/sample - loss: 0.2357 - acc: 0.9143 - val_loss: 0.2138 - val_acc: 0.8889\n",
      "Epoch 81/100\n",
      "105/105 [==============================] - 0s 95us/sample - loss: 0.1675 - acc: 0.9238 - val_loss: 0.2114 - val_acc: 0.8889\n",
      "Epoch 82/100\n",
      "105/105 [==============================] - 0s 104us/sample - loss: 0.2107 - acc: 0.9333 - val_loss: 0.2175 - val_acc: 0.8889\n",
      "Epoch 83/100\n",
      "105/105 [==============================] - 0s 95us/sample - loss: 0.1396 - acc: 0.9619 - val_loss: 0.2098 - val_acc: 0.8889\n",
      "Epoch 84/100\n",
      "105/105 [==============================] - 0s 76us/sample - loss: 0.2654 - acc: 0.8857 - val_loss: 0.2095 - val_acc: 0.8889\n",
      "Epoch 85/100\n",
      "105/105 [==============================] - 0s 104us/sample - loss: 0.2817 - acc: 0.8952 - val_loss: 0.2059 - val_acc: 0.8889\n",
      "Epoch 86/100\n",
      "105/105 [==============================] - 0s 76us/sample - loss: 0.2268 - acc: 0.9238 - val_loss: 0.2064 - val_acc: 0.8889\n",
      "Epoch 87/100\n",
      "105/105 [==============================] - 0s 76us/sample - loss: 0.1840 - acc: 0.9524 - val_loss: 0.2032 - val_acc: 0.8889\n",
      "Epoch 88/100\n",
      "105/105 [==============================] - 0s 76us/sample - loss: 0.2860 - acc: 0.9048 - val_loss: 0.1987 - val_acc: 0.9333\n",
      "Epoch 89/100\n",
      "105/105 [==============================] - 0s 85us/sample - loss: 0.2531 - acc: 0.8952 - val_loss: 0.2020 - val_acc: 0.8889\n",
      "Epoch 90/100\n",
      "105/105 [==============================] - 0s 95us/sample - loss: 0.1594 - acc: 0.9619 - val_loss: 0.2022 - val_acc: 0.8889\n",
      "Epoch 91/100\n",
      "105/105 [==============================] - 0s 76us/sample - loss: 0.2716 - acc: 0.8762 - val_loss: 0.1989 - val_acc: 0.8889\n",
      "Epoch 92/100\n",
      "105/105 [==============================] - 0s 95us/sample - loss: 0.2152 - acc: 0.9333 - val_loss: 0.2006 - val_acc: 0.8889\n",
      "Epoch 93/100\n",
      "105/105 [==============================] - 0s 85us/sample - loss: 0.1797 - acc: 0.9333 - val_loss: 0.2042 - val_acc: 0.8889\n",
      "Epoch 94/100\n",
      "105/105 [==============================] - 0s 85us/sample - loss: 0.1670 - acc: 0.9429 - val_loss: 0.2000 - val_acc: 0.8889\n",
      "Epoch 95/100\n",
      "105/105 [==============================] - 0s 95us/sample - loss: 0.2551 - acc: 0.8952 - val_loss: 0.1987 - val_acc: 0.8889\n",
      "Epoch 96/100\n",
      "105/105 [==============================] - 0s 95us/sample - loss: 0.1770 - acc: 0.9143 - val_loss: 0.2000 - val_acc: 0.8889\n",
      "Epoch 97/100\n",
      "105/105 [==============================] - 0s 66us/sample - loss: 0.1580 - acc: 0.9429 - val_loss: 0.1995 - val_acc: 0.8889\n",
      "Epoch 98/100\n",
      "105/105 [==============================] - 0s 85us/sample - loss: 0.1926 - acc: 0.9238 - val_loss: 0.1990 - val_acc: 0.8889\n",
      "Epoch 99/100\n",
      "105/105 [==============================] - 0s 76us/sample - loss: 0.2192 - acc: 0.9333 - val_loss: 0.1961 - val_acc: 0.9111\n",
      "Epoch 100/100\n",
      "105/105 [==============================] - 0s 66us/sample - loss: 0.2441 - acc: 0.9048 - val_loss: 0.2020 - val_acc: 0.9556\n"
     ]
    },
    {
     "data": {
      "text/plain": [
       "<tensorflow.python.keras.callbacks.History at 0x2a298abd7f0>"
      ]
     },
     "execution_count": 332,
     "metadata": {},
     "output_type": "execute_result"
    }
   ],
   "source": [
    "#using - tf.keras.utils.to_categorical values\n",
    "model.fit(X1_train, trainY1, \n",
    " validation_data=(X1_test, testY1), \n",
    " epochs=100,\n",
    " batch_size=20)"
   ]
  },
  {
   "cell_type": "markdown",
   "metadata": {},
   "source": [
    "### Report Accuracy of the predicted values"
   ]
  },
  {
   "cell_type": "code",
   "execution_count": 333,
   "metadata": {},
   "outputs": [
    {
     "name": "stdout",
     "output_type": "stream",
     "text": [
      "45/45 [==============================] - 0s 66us/sample - loss: 0.2020 - acc: 0.9556\n"
     ]
    },
    {
     "data": {
      "text/plain": [
       "[0.2019571410285102, 0.95555556]"
      ]
     },
     "execution_count": 333,
     "metadata": {},
     "output_type": "execute_result"
    }
   ],
   "source": [
    "#using - tf.keras.utils.to_categorical values\n",
    "model.evaluate(X1_test, testY1)"
   ]
  },
  {
   "cell_type": "markdown",
   "metadata": {},
   "source": [
    "# METHOD2 - #using - tf.keras.utils.to_categorical values"
   ]
  },
  {
   "cell_type": "code",
   "execution_count": 319,
   "metadata": {},
   "outputs": [
    {
     "data": {
      "text/plain": [
       "((105, 4), (45, 4), (105, 3), (45, 3))"
      ]
     },
     "execution_count": 319,
     "metadata": {},
     "output_type": "execute_result"
    }
   ],
   "source": [
    "X1_train, X1_test, y1_train, y1_test = train_test_split(X1, y2, test_size=0.3, random_state=1)\n",
    "X1_train.shape, X1_test.shape, y1_train.shape, y1_test.shape"
   ]
  },
  {
   "cell_type": "code",
   "execution_count": 320,
   "metadata": {},
   "outputs": [],
   "source": [
    "X1_train=X1_train.values"
   ]
  },
  {
   "cell_type": "code",
   "execution_count": 321,
   "metadata": {},
   "outputs": [],
   "source": [
    "X1_test=X1_test.values"
   ]
  },
  {
   "cell_type": "markdown",
   "metadata": {},
   "source": [
    "## Fitting the model and predicting"
   ]
  },
  {
   "cell_type": "code",
   "execution_count": 330,
   "metadata": {},
   "outputs": [
    {
     "name": "stdout",
     "output_type": "stream",
     "text": [
      "Train on 105 samples, validate on 45 samples\n",
      "Epoch 1/100\n",
      "105/105 [==============================] - 0s 85us/sample - loss: 0.3199 - acc: 0.8762 - val_loss: 0.3498 - val_acc: 0.8444\n",
      "Epoch 2/100\n",
      "105/105 [==============================] - 0s 85us/sample - loss: 0.2850 - acc: 0.9238 - val_loss: 0.3503 - val_acc: 0.8222\n",
      "Epoch 3/100\n",
      "105/105 [==============================] - 0s 85us/sample - loss: 0.2918 - acc: 0.9048 - val_loss: 0.3490 - val_acc: 0.8222\n",
      "Epoch 4/100\n",
      "105/105 [==============================] - 0s 95us/sample - loss: 0.3594 - acc: 0.8476 - val_loss: 0.3485 - val_acc: 0.8222\n",
      "Epoch 5/100\n",
      "105/105 [==============================] - 0s 76us/sample - loss: 0.2794 - acc: 0.8857 - val_loss: 0.3464 - val_acc: 0.8222\n",
      "Epoch 6/100\n",
      "105/105 [==============================] - 0s 76us/sample - loss: 0.3127 - acc: 0.8667 - val_loss: 0.3455 - val_acc: 0.8222\n",
      "Epoch 7/100\n",
      "105/105 [==============================] - 0s 66us/sample - loss: 0.3006 - acc: 0.8952 - val_loss: 0.3459 - val_acc: 0.8222\n",
      "Epoch 8/100\n",
      "105/105 [==============================] - 0s 85us/sample - loss: 0.2773 - acc: 0.9143 - val_loss: 0.3469 - val_acc: 0.8000\n",
      "Epoch 9/100\n",
      "105/105 [==============================] - 0s 76us/sample - loss: 0.2662 - acc: 0.9048 - val_loss: 0.3445 - val_acc: 0.8222\n",
      "Epoch 10/100\n",
      "105/105 [==============================] - 0s 76us/sample - loss: 0.3272 - acc: 0.8667 - val_loss: 0.3450 - val_acc: 0.8000\n",
      "Epoch 11/100\n",
      "105/105 [==============================] - 0s 85us/sample - loss: 0.3000 - acc: 0.8857 - val_loss: 0.3428 - val_acc: 0.8000\n",
      "Epoch 12/100\n",
      "105/105 [==============================] - 0s 76us/sample - loss: 0.3619 - acc: 0.8286 - val_loss: 0.3429 - val_acc: 0.8000\n",
      "Epoch 13/100\n",
      "105/105 [==============================] - 0s 95us/sample - loss: 0.2639 - acc: 0.9238 - val_loss: 0.3403 - val_acc: 0.8222\n",
      "Epoch 14/100\n",
      "105/105 [==============================] - 0s 95us/sample - loss: 0.3273 - acc: 0.8571 - val_loss: 0.3412 - val_acc: 0.8000\n",
      "Epoch 15/100\n",
      "105/105 [==============================] - 0s 95us/sample - loss: 0.3290 - acc: 0.8762 - val_loss: 0.3349 - val_acc: 0.8444\n",
      "Epoch 16/100\n",
      "105/105 [==============================] - 0s 95us/sample - loss: 0.3149 - acc: 0.8381 - val_loss: 0.3364 - val_acc: 0.8222\n",
      "Epoch 17/100\n",
      "105/105 [==============================] - 0s 95us/sample - loss: 0.3284 - acc: 0.8476 - val_loss: 0.3342 - val_acc: 0.8222\n",
      "Epoch 18/100\n",
      "105/105 [==============================] - 0s 85us/sample - loss: 0.3007 - acc: 0.8762 - val_loss: 0.3337 - val_acc: 0.8222\n",
      "Epoch 19/100\n",
      "105/105 [==============================] - 0s 76us/sample - loss: 0.2664 - acc: 0.9429 - val_loss: 0.3315 - val_acc: 0.8444\n",
      "Epoch 20/100\n",
      "105/105 [==============================] - 0s 104us/sample - loss: 0.2793 - acc: 0.8952 - val_loss: 0.3328 - val_acc: 0.8222\n",
      "Epoch 21/100\n",
      "105/105 [==============================] - 0s 85us/sample - loss: 0.3416 - acc: 0.8571 - val_loss: 0.3319 - val_acc: 0.8222\n",
      "Epoch 22/100\n",
      "105/105 [==============================] - 0s 95us/sample - loss: 0.2750 - acc: 0.8952 - val_loss: 0.3311 - val_acc: 0.8222\n",
      "Epoch 23/100\n",
      "105/105 [==============================] - 0s 76us/sample - loss: 0.3098 - acc: 0.8381 - val_loss: 0.3292 - val_acc: 0.8222\n",
      "Epoch 24/100\n",
      "105/105 [==============================] - 0s 104us/sample - loss: 0.3482 - acc: 0.8381 - val_loss: 0.3262 - val_acc: 0.8444\n",
      "Epoch 25/100\n",
      "105/105 [==============================] - 0s 95us/sample - loss: 0.2977 - acc: 0.8476 - val_loss: 0.3233 - val_acc: 0.8444\n",
      "Epoch 26/100\n",
      "105/105 [==============================] - 0s 86us/sample - loss: 0.2506 - acc: 0.9048 - val_loss: 0.3225 - val_acc: 0.8444\n",
      "Epoch 27/100\n",
      "105/105 [==============================] - 0s 85us/sample - loss: 0.2934 - acc: 0.8857 - val_loss: 0.3214 - val_acc: 0.8444\n",
      "Epoch 28/100\n",
      "105/105 [==============================] - 0s 95us/sample - loss: 0.3050 - acc: 0.8857 - val_loss: 0.3185 - val_acc: 0.8444\n",
      "Epoch 29/100\n",
      "105/105 [==============================] - 0s 104us/sample - loss: 0.2512 - acc: 0.9048 - val_loss: 0.3191 - val_acc: 0.8444\n",
      "Epoch 30/100\n",
      "105/105 [==============================] - 0s 95us/sample - loss: 0.2872 - acc: 0.9048 - val_loss: 0.3177 - val_acc: 0.8444\n",
      "Epoch 31/100\n",
      "105/105 [==============================] - 0s 76us/sample - loss: 0.2519 - acc: 0.9143 - val_loss: 0.3143 - val_acc: 0.8444\n",
      "Epoch 32/100\n",
      "105/105 [==============================] - 0s 104us/sample - loss: 0.2600 - acc: 0.9143 - val_loss: 0.3142 - val_acc: 0.8444\n",
      "Epoch 33/100\n",
      "105/105 [==============================] - 0s 95us/sample - loss: 0.2765 - acc: 0.9048 - val_loss: 0.3132 - val_acc: 0.8444\n",
      "Epoch 34/100\n",
      "105/105 [==============================] - 0s 95us/sample - loss: 0.3200 - acc: 0.8381 - val_loss: 0.3140 - val_acc: 0.8444\n",
      "Epoch 35/100\n",
      "105/105 [==============================] - 0s 104us/sample - loss: 0.2649 - acc: 0.8857 - val_loss: 0.3147 - val_acc: 0.8444\n",
      "Epoch 36/100\n",
      "105/105 [==============================] - 0s 95us/sample - loss: 0.2583 - acc: 0.9048 - val_loss: 0.3121 - val_acc: 0.8444\n",
      "Epoch 37/100\n",
      "105/105 [==============================] - 0s 85us/sample - loss: 0.2606 - acc: 0.9143 - val_loss: 0.3130 - val_acc: 0.8444\n",
      "Epoch 38/100\n",
      "105/105 [==============================] - 0s 76us/sample - loss: 0.2925 - acc: 0.8762 - val_loss: 0.3117 - val_acc: 0.8444\n",
      "Epoch 39/100\n",
      "105/105 [==============================] - 0s 104us/sample - loss: 0.2734 - acc: 0.8762 - val_loss: 0.3078 - val_acc: 0.8444\n",
      "Epoch 40/100\n",
      "105/105 [==============================] - 0s 76us/sample - loss: 0.2628 - acc: 0.9143 - val_loss: 0.3076 - val_acc: 0.8444\n",
      "Epoch 41/100\n",
      "105/105 [==============================] - 0s 104us/sample - loss: 0.3392 - acc: 0.8476 - val_loss: 0.3021 - val_acc: 0.9111\n",
      "Epoch 42/100\n",
      "105/105 [==============================] - 0s 86us/sample - loss: 0.2436 - acc: 0.9238 - val_loss: 0.3016 - val_acc: 0.8889\n",
      "Epoch 43/100\n",
      "105/105 [==============================] - 0s 85us/sample - loss: 0.2663 - acc: 0.9143 - val_loss: 0.3018 - val_acc: 0.8889\n",
      "Epoch 44/100\n",
      "105/105 [==============================] - 0s 95us/sample - loss: 0.2776 - acc: 0.8857 - val_loss: 0.3015 - val_acc: 0.8889\n",
      "Epoch 45/100\n",
      "105/105 [==============================] - 0s 85us/sample - loss: 0.2611 - acc: 0.9143 - val_loss: 0.2989 - val_acc: 0.8889\n",
      "Epoch 46/100\n",
      "105/105 [==============================] - 0s 95us/sample - loss: 0.2344 - acc: 0.9143 - val_loss: 0.2995 - val_acc: 0.8889\n",
      "Epoch 47/100\n",
      "105/105 [==============================] - 0s 85us/sample - loss: 0.2505 - acc: 0.8952 - val_loss: 0.2975 - val_acc: 0.8889\n",
      "Epoch 48/100\n",
      "105/105 [==============================] - 0s 95us/sample - loss: 0.3041 - acc: 0.8952 - val_loss: 0.2966 - val_acc: 0.8889\n",
      "Epoch 49/100\n",
      "105/105 [==============================] - 0s 76us/sample - loss: 0.2597 - acc: 0.8952 - val_loss: 0.2981 - val_acc: 0.8889\n",
      "Epoch 50/100\n",
      "105/105 [==============================] - 0s 95us/sample - loss: 0.2590 - acc: 0.8952 - val_loss: 0.2973 - val_acc: 0.8889\n",
      "Epoch 51/100\n",
      "105/105 [==============================] - 0s 85us/sample - loss: 0.2224 - acc: 0.9333 - val_loss: 0.2980 - val_acc: 0.8444\n",
      "Epoch 52/100\n",
      "105/105 [==============================] - 0s 95us/sample - loss: 0.2441 - acc: 0.9238 - val_loss: 0.2985 - val_acc: 0.8222\n",
      "Epoch 53/100\n",
      "105/105 [==============================] - 0s 85us/sample - loss: 0.2346 - acc: 0.9143 - val_loss: 0.2975 - val_acc: 0.8222\n",
      "Epoch 54/100\n",
      "105/105 [==============================] - 0s 85us/sample - loss: 0.2367 - acc: 0.9143 - val_loss: 0.2931 - val_acc: 0.8889\n",
      "Epoch 55/100\n",
      "105/105 [==============================] - 0s 95us/sample - loss: 0.2533 - acc: 0.9048 - val_loss: 0.2903 - val_acc: 0.8889\n",
      "Epoch 56/100\n",
      "105/105 [==============================] - 0s 95us/sample - loss: 0.2393 - acc: 0.9143 - val_loss: 0.2872 - val_acc: 0.8889\n",
      "Epoch 57/100\n",
      "105/105 [==============================] - 0s 85us/sample - loss: 0.2237 - acc: 0.9143 - val_loss: 0.2892 - val_acc: 0.8889\n",
      "Epoch 58/100\n",
      "105/105 [==============================] - 0s 95us/sample - loss: 0.3183 - acc: 0.8381 - val_loss: 0.2832 - val_acc: 0.8889\n",
      "Epoch 59/100\n",
      "105/105 [==============================] - 0s 85us/sample - loss: 0.2553 - acc: 0.8952 - val_loss: 0.2839 - val_acc: 0.8889\n",
      "Epoch 60/100\n"
     ]
    },
    {
     "name": "stdout",
     "output_type": "stream",
     "text": [
      "105/105 [==============================] - 0s 85us/sample - loss: 0.2671 - acc: 0.8857 - val_loss: 0.2849 - val_acc: 0.8889\n",
      "Epoch 61/100\n",
      "105/105 [==============================] - 0s 95us/sample - loss: 0.3078 - acc: 0.8857 - val_loss: 0.2839 - val_acc: 0.8889\n",
      "Epoch 62/100\n",
      "105/105 [==============================] - 0s 104us/sample - loss: 0.2196 - acc: 0.9429 - val_loss: 0.2838 - val_acc: 0.8889\n",
      "Epoch 63/100\n",
      "105/105 [==============================] - 0s 85us/sample - loss: 0.2103 - acc: 0.9333 - val_loss: 0.2841 - val_acc: 0.8889\n",
      "Epoch 64/100\n",
      "105/105 [==============================] - 0s 95us/sample - loss: 0.2111 - acc: 0.9429 - val_loss: 0.2842 - val_acc: 0.8667\n",
      "Epoch 65/100\n",
      "105/105 [==============================] - 0s 95us/sample - loss: 0.2587 - acc: 0.9048 - val_loss: 0.2804 - val_acc: 0.8889\n",
      "Epoch 66/100\n",
      "105/105 [==============================] - 0s 95us/sample - loss: 0.2269 - acc: 0.9238 - val_loss: 0.2780 - val_acc: 0.8889\n",
      "Epoch 67/100\n",
      "105/105 [==============================] - 0s 76us/sample - loss: 0.2204 - acc: 0.9143 - val_loss: 0.2802 - val_acc: 0.8889\n",
      "Epoch 68/100\n",
      "105/105 [==============================] - 0s 76us/sample - loss: 0.2575 - acc: 0.8952 - val_loss: 0.2795 - val_acc: 0.8667\n",
      "Epoch 69/100\n",
      "105/105 [==============================] - 0s 76us/sample - loss: 0.2278 - acc: 0.9333 - val_loss: 0.2759 - val_acc: 0.8889\n",
      "Epoch 70/100\n",
      "105/105 [==============================] - 0s 86us/sample - loss: 0.2378 - acc: 0.8857 - val_loss: 0.2708 - val_acc: 0.8889\n",
      "Epoch 71/100\n",
      "105/105 [==============================] - 0s 76us/sample - loss: 0.2872 - acc: 0.8952 - val_loss: 0.2714 - val_acc: 0.8889\n",
      "Epoch 72/100\n",
      "105/105 [==============================] - 0s 86us/sample - loss: 0.2866 - acc: 0.8762 - val_loss: 0.2723 - val_acc: 0.8889\n",
      "Epoch 73/100\n",
      "105/105 [==============================] - 0s 76us/sample - loss: 0.2086 - acc: 0.9333 - val_loss: 0.2745 - val_acc: 0.8667\n",
      "Epoch 74/100\n",
      "105/105 [==============================] - 0s 95us/sample - loss: 0.2214 - acc: 0.9333 - val_loss: 0.2728 - val_acc: 0.8667\n",
      "Epoch 75/100\n",
      "105/105 [==============================] - 0s 95us/sample - loss: 0.2324 - acc: 0.9333 - val_loss: 0.2735 - val_acc: 0.8667\n",
      "Epoch 76/100\n",
      "105/105 [==============================] - 0s 85us/sample - loss: 0.2243 - acc: 0.9048 - val_loss: 0.2709 - val_acc: 0.8667\n",
      "Epoch 77/100\n",
      "105/105 [==============================] - 0s 95us/sample - loss: 0.2139 - acc: 0.9238 - val_loss: 0.2738 - val_acc: 0.8667\n",
      "Epoch 78/100\n",
      "105/105 [==============================] - 0s 85us/sample - loss: 0.2032 - acc: 0.9333 - val_loss: 0.2720 - val_acc: 0.8667\n",
      "Epoch 79/100\n",
      "105/105 [==============================] - 0s 85us/sample - loss: 0.1938 - acc: 0.9429 - val_loss: 0.2734 - val_acc: 0.8667\n",
      "Epoch 80/100\n",
      "105/105 [==============================] - 0s 85us/sample - loss: 0.2530 - acc: 0.9143 - val_loss: 0.2729 - val_acc: 0.8667\n",
      "Epoch 81/100\n",
      "105/105 [==============================] - 0s 76us/sample - loss: 0.2672 - acc: 0.8762 - val_loss: 0.2674 - val_acc: 0.8667\n",
      "Epoch 82/100\n",
      "105/105 [==============================] - 0s 86us/sample - loss: 0.2666 - acc: 0.9048 - val_loss: 0.2681 - val_acc: 0.8667\n",
      "Epoch 83/100\n",
      "105/105 [==============================] - 0s 95us/sample - loss: 0.3066 - acc: 0.8762 - val_loss: 0.2681 - val_acc: 0.8667\n",
      "Epoch 84/100\n",
      "105/105 [==============================] - 0s 85us/sample - loss: 0.2891 - acc: 0.9048 - val_loss: 0.2582 - val_acc: 0.8889\n",
      "Epoch 85/100\n",
      "105/105 [==============================] - 0s 95us/sample - loss: 0.2305 - acc: 0.8952 - val_loss: 0.2616 - val_acc: 0.8667\n",
      "Epoch 86/100\n",
      "105/105 [==============================] - 0s 76us/sample - loss: 0.2442 - acc: 0.9333 - val_loss: 0.2600 - val_acc: 0.8667\n",
      "Epoch 87/100\n",
      "105/105 [==============================] - 0s 76us/sample - loss: 0.1829 - acc: 0.9810 - val_loss: 0.2616 - val_acc: 0.8667\n",
      "Epoch 88/100\n",
      "105/105 [==============================] - 0s 95us/sample - loss: 0.2195 - acc: 0.8857 - val_loss: 0.2609 - val_acc: 0.8667\n",
      "Epoch 89/100\n",
      "105/105 [==============================] - 0s 76us/sample - loss: 0.2283 - acc: 0.9238 - val_loss: 0.2602 - val_acc: 0.8667\n",
      "Epoch 90/100\n",
      "105/105 [==============================] - 0s 85us/sample - loss: 0.2197 - acc: 0.8952 - val_loss: 0.2622 - val_acc: 0.8667\n",
      "Epoch 91/100\n",
      "105/105 [==============================] - 0s 85us/sample - loss: 0.2157 - acc: 0.9048 - val_loss: 0.2598 - val_acc: 0.8667\n",
      "Epoch 92/100\n",
      "105/105 [==============================] - 0s 95us/sample - loss: 0.2238 - acc: 0.9048 - val_loss: 0.2591 - val_acc: 0.8667\n",
      "Epoch 93/100\n",
      "105/105 [==============================] - ETA: 0s - loss: 0.1830 - acc: 0.900 - 0s 76us/sample - loss: 0.2259 - acc: 0.9048 - val_loss: 0.2563 - val_acc: 0.8667\n",
      "Epoch 94/100\n",
      "105/105 [==============================] - 0s 76us/sample - loss: 0.3091 - acc: 0.8571 - val_loss: 0.2582 - val_acc: 0.8667\n",
      "Epoch 95/100\n",
      "105/105 [==============================] - 0s 95us/sample - loss: 0.2604 - acc: 0.9143 - val_loss: 0.2559 - val_acc: 0.8667\n",
      "Epoch 96/100\n",
      "105/105 [==============================] - 0s 86us/sample - loss: 0.2524 - acc: 0.8762 - val_loss: 0.2561 - val_acc: 0.8667\n",
      "Epoch 97/100\n",
      "105/105 [==============================] - 0s 76us/sample - loss: 0.2949 - acc: 0.8667 - val_loss: 0.2550 - val_acc: 0.8667\n",
      "Epoch 98/100\n",
      "105/105 [==============================] - 0s 95us/sample - loss: 0.2188 - acc: 0.9238 - val_loss: 0.2553 - val_acc: 0.8667\n",
      "Epoch 99/100\n",
      "105/105 [==============================] - 0s 76us/sample - loss: 0.2172 - acc: 0.8952 - val_loss: 0.2539 - val_acc: 0.8667\n",
      "Epoch 100/100\n",
      "105/105 [==============================] - 0s 85us/sample - loss: 0.3068 - acc: 0.8762 - val_loss: 0.2518 - val_acc: 0.8667\n"
     ]
    },
    {
     "data": {
      "text/plain": [
       "<tensorflow.python.keras.callbacks.History at 0x2a298ae2ba8>"
      ]
     },
     "execution_count": 330,
     "metadata": {},
     "output_type": "execute_result"
    }
   ],
   "source": [
    "#using - tf.keras.utils.to_categorical values\n",
    "model.fit(X1_train, y1_train, \n",
    " validation_data=(X1_test, y1_test), \n",
    " epochs=100,\n",
    " batch_size=20)"
   ]
  },
  {
   "cell_type": "markdown",
   "metadata": {},
   "source": [
    "## Report Accuracy of the predicted values\n"
   ]
  },
  {
   "cell_type": "code",
   "execution_count": 331,
   "metadata": {},
   "outputs": [
    {
     "name": "stdout",
     "output_type": "stream",
     "text": [
      "45/45 [==============================] - 0s 44us/sample - loss: 0.2518 - acc: 0.8667\n"
     ]
    },
    {
     "data": {
      "text/plain": [
       "[0.25184061262342666, 0.8666667]"
      ]
     },
     "execution_count": 331,
     "metadata": {},
     "output_type": "execute_result"
    }
   ],
   "source": [
    "# Using Label Encoder categorical values\n",
    "model.evaluate(X1_test, y1_test)"
   ]
  }
 ],
 "metadata": {
  "colab": {
   "name": "Linear+classification+using+Tensorflow+and+Keras.ipynb",
   "provenance": [],
   "version": "0.3.2"
  },
  "kernelspec": {
   "display_name": "Python 3",
   "language": "python",
   "name": "python3"
  },
  "language_info": {
   "codemirror_mode": {
    "name": "ipython",
    "version": 3
   },
   "file_extension": ".py",
   "mimetype": "text/x-python",
   "name": "python",
   "nbconvert_exporter": "python",
   "pygments_lexer": "ipython3",
   "version": "3.7.3"
  }
 },
 "nbformat": 4,
 "nbformat_minor": 1
}
