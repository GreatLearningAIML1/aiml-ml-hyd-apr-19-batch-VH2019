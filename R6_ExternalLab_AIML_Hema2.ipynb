{
  "nbformat": 4,
  "nbformat_minor": 0,
  "metadata": {
    "colab": {
      "name": "R6_ExternalLab_AIML_Hema2.ipynb",
      "provenance": [],
      "collapsed_sections": []
    },
    "kernelspec": {
      "name": "python3",
      "display_name": "Python 3"
    }
  },
  "cells": [
    {
      "cell_type": "code",
      "metadata": {
        "id": "5sXN4Pu_v5VN",
        "colab_type": "code",
        "colab": {}
      },
      "source": [
        "A MNIST-like fashion product database\n",
        "In this, we classify the images into respective classes given in the dataset. We use a Neural Net and a Deep Neural Net in Keras to solve this and check the accuracy scores."
      ],
      "execution_count": 0,
      "outputs": []
    },
    {
      "cell_type": "markdown",
      "metadata": {
        "id": "8GQpKvL_wHYe",
        "colab_type": "text"
      },
      "source": [
        "Load tensorflow"
      ]
    },
    {
      "cell_type": "code",
      "metadata": {
        "id": "Vx1W4bBUv0K2",
        "colab_type": "code",
        "colab": {}
      },
      "source": [
        "import tensorflow as tf\n",
        "tf.set_random_seed(42)\n",
        "import numpy as np\n",
        "import pandas as pd\n",
        "tf.reset_default_graph()"
      ],
      "execution_count": 0,
      "outputs": []
    },
    {
      "cell_type": "code",
      "metadata": {
        "id": "BWrIz-eCwN_2",
        "colab_type": "code",
        "outputId": "59cf1b2a-2b93-4332-cb56-d1826f8bbf54",
        "colab": {
          "base_uri": "https://localhost:8080/",
          "height": 34
        }
      },
      "source": [
        "tf.__version__"
      ],
      "execution_count": 453,
      "outputs": [
        {
          "output_type": "execute_result",
          "data": {
            "text/plain": [
              "'1.14.0'"
            ]
          },
          "metadata": {
            "tags": []
          },
          "execution_count": 453
        }
      ]
    },
    {
      "cell_type": "markdown",
      "metadata": {
        "id": "00lJ-9qdwRT2",
        "colab_type": "text"
      },
      "source": [
        "Collect Data"
      ]
    },
    {
      "cell_type": "code",
      "metadata": {
        "id": "qeqxzaGNwPlr",
        "colab_type": "code",
        "colab": {}
      },
      "source": [
        "import keras"
      ],
      "execution_count": 0,
      "outputs": []
    },
    {
      "cell_type": "code",
      "metadata": {
        "id": "4PqGvekLwVcE",
        "colab_type": "code",
        "colab": {}
      },
      "source": [
        "(trainX, trainY), (testX, testY) = keras.datasets.fashion_mnist.load_data()"
      ],
      "execution_count": 0,
      "outputs": []
    },
    {
      "cell_type": "code",
      "metadata": {
        "id": "bAdbBGYLwXhN",
        "colab_type": "code",
        "outputId": "0ff504e6-f5eb-4c34-f846-4a11458150de",
        "colab": {
          "base_uri": "https://localhost:8080/",
          "height": 34
        }
      },
      "source": [
        "print(testY[0:5])"
      ],
      "execution_count": 456,
      "outputs": [
        {
          "output_type": "stream",
          "text": [
            "[9 2 1 1 6]\n"
          ],
          "name": "stdout"
        }
      ]
    },
    {
      "cell_type": "code",
      "metadata": {
        "id": "spFYx6x02vHZ",
        "colab_type": "code",
        "outputId": "12a3077b-a71b-4fa5-df49-92c7a77f02c7",
        "colab": {
          "base_uri": "https://localhost:8080/",
          "height": 34
        }
      },
      "source": [
        "trainX.shape"
      ],
      "execution_count": 457,
      "outputs": [
        {
          "output_type": "execute_result",
          "data": {
            "text/plain": [
              "(60000, 28, 28)"
            ]
          },
          "metadata": {
            "tags": []
          },
          "execution_count": 457
        }
      ]
    },
    {
      "cell_type": "code",
      "metadata": {
        "id": "R49Wb14c2vKo",
        "colab_type": "code",
        "outputId": "f184e1a4-6a8d-42f4-bf80-d5a2c15fc07b",
        "colab": {
          "base_uri": "https://localhost:8080/",
          "height": 34
        }
      },
      "source": [
        "trainY.shape"
      ],
      "execution_count": 458,
      "outputs": [
        {
          "output_type": "execute_result",
          "data": {
            "text/plain": [
              "(60000,)"
            ]
          },
          "metadata": {
            "tags": []
          },
          "execution_count": 458
        }
      ]
    },
    {
      "cell_type": "code",
      "metadata": {
        "id": "CH8gCOSFxNMA",
        "colab_type": "code",
        "colab": {
          "base_uri": "https://localhost:8080/",
          "height": 1000
        },
        "outputId": "b658e423-98f8-474e-a51d-a09a9d3b2b2b"
      },
      "source": [
        "print(trainX[0:1])\n",
        "print(trainX.shape)"
      ],
      "execution_count": 459,
      "outputs": [
        {
          "output_type": "stream",
          "text": [
            "[[[  0   0   0   0   0   0   0   0   0   0   0   0   0   0   0   0   0\n",
            "     0   0   0   0   0   0   0   0   0   0   0]\n",
            "  [  0   0   0   0   0   0   0   0   0   0   0   0   0   0   0   0   0\n",
            "     0   0   0   0   0   0   0   0   0   0   0]\n",
            "  [  0   0   0   0   0   0   0   0   0   0   0   0   0   0   0   0   0\n",
            "     0   0   0   0   0   0   0   0   0   0   0]\n",
            "  [  0   0   0   0   0   0   0   0   0   0   0   0   1   0   0  13  73\n",
            "     0   0   1   4   0   0   0   0   1   1   0]\n",
            "  [  0   0   0   0   0   0   0   0   0   0   0   0   3   0  36 136 127\n",
            "    62  54   0   0   0   1   3   4   0   0   3]\n",
            "  [  0   0   0   0   0   0   0   0   0   0   0   0   6   0 102 204 176\n",
            "   134 144 123  23   0   0   0   0  12  10   0]\n",
            "  [  0   0   0   0   0   0   0   0   0   0   0   0   0   0 155 236 207\n",
            "   178 107 156 161 109  64  23  77 130  72  15]\n",
            "  [  0   0   0   0   0   0   0   0   0   0   0   1   0  69 207 223 218\n",
            "   216 216 163 127 121 122 146 141  88 172  66]\n",
            "  [  0   0   0   0   0   0   0   0   0   1   1   1   0 200 232 232 233\n",
            "   229 223 223 215 213 164 127 123 196 229   0]\n",
            "  [  0   0   0   0   0   0   0   0   0   0   0   0   0 183 225 216 223\n",
            "   228 235 227 224 222 224 221 223 245 173   0]\n",
            "  [  0   0   0   0   0   0   0   0   0   0   0   0   0 193 228 218 213\n",
            "   198 180 212 210 211 213 223 220 243 202   0]\n",
            "  [  0   0   0   0   0   0   0   0   0   1   3   0  12 219 220 212 218\n",
            "   192 169 227 208 218 224 212 226 197 209  52]\n",
            "  [  0   0   0   0   0   0   0   0   0   0   6   0  99 244 222 220 218\n",
            "   203 198 221 215 213 222 220 245 119 167  56]\n",
            "  [  0   0   0   0   0   0   0   0   0   4   0   0  55 236 228 230 228\n",
            "   240 232 213 218 223 234 217 217 209  92   0]\n",
            "  [  0   0   1   4   6   7   2   0   0   0   0   0 237 226 217 223 222\n",
            "   219 222 221 216 223 229 215 218 255  77   0]\n",
            "  [  0   3   0   0   0   0   0   0   0  62 145 204 228 207 213 221 218\n",
            "   208 211 218 224 223 219 215 224 244 159   0]\n",
            "  [  0   0   0   0  18  44  82 107 189 228 220 222 217 226 200 205 211\n",
            "   230 224 234 176 188 250 248 233 238 215   0]\n",
            "  [  0  57 187 208 224 221 224 208 204 214 208 209 200 159 245 193 206\n",
            "   223 255 255 221 234 221 211 220 232 246   0]\n",
            "  [  3 202 228 224 221 211 211 214 205 205 205 220 240  80 150 255 229\n",
            "   221 188 154 191 210 204 209 222 228 225   0]\n",
            "  [ 98 233 198 210 222 229 229 234 249 220 194 215 217 241  65  73 106\n",
            "   117 168 219 221 215 217 223 223 224 229  29]\n",
            "  [ 75 204 212 204 193 205 211 225 216 185 197 206 198 213 240 195 227\n",
            "   245 239 223 218 212 209 222 220 221 230  67]\n",
            "  [ 48 203 183 194 213 197 185 190 194 192 202 214 219 221 220 236 225\n",
            "   216 199 206 186 181 177 172 181 205 206 115]\n",
            "  [  0 122 219 193 179 171 183 196 204 210 213 207 211 210 200 196 194\n",
            "   191 195 191 198 192 176 156 167 177 210  92]\n",
            "  [  0   0  74 189 212 191 175 172 175 181 185 188 189 188 193 198 204\n",
            "   209 210 210 211 188 188 194 192 216 170   0]\n",
            "  [  2   0   0   0  66 200 222 237 239 242 246 243 244 221 220 193 191\n",
            "   179 182 182 181 176 166 168  99  58   0   0]\n",
            "  [  0   0   0   0   0   0   0  40  61  44  72  41  35   0   0   0   0\n",
            "     0   0   0   0   0   0   0   0   0   0   0]\n",
            "  [  0   0   0   0   0   0   0   0   0   0   0   0   0   0   0   0   0\n",
            "     0   0   0   0   0   0   0   0   0   0   0]\n",
            "  [  0   0   0   0   0   0   0   0   0   0   0   0   0   0   0   0   0\n",
            "     0   0   0   0   0   0   0   0   0   0   0]]]\n",
            "(60000, 28, 28)\n"
          ],
          "name": "stdout"
        }
      ]
    },
    {
      "cell_type": "markdown",
      "metadata": {
        "id": "kWTVIg6Kwhtd",
        "colab_type": "text"
      },
      "source": [
        "Convert both training and testing labels into one-hot vectors.\n",
        "\n",
        "Hint: check tf.keras.utils.to_categorical()"
      ]
    },
    {
      "cell_type": "code",
      "metadata": {
        "id": "kfABNfG9xXY3",
        "colab_type": "code",
        "colab": {}
      },
      "source": [
        "trainY = tf.keras.utils.to_categorical(trainY, num_classes=10)\n",
        "testY = tf.keras.utils.to_categorical(testY, num_classes=10)"
      ],
      "execution_count": 0,
      "outputs": []
    },
    {
      "cell_type": "code",
      "metadata": {
        "id": "921txGl7xlp2",
        "colab_type": "code",
        "colab": {
          "base_uri": "https://localhost:8080/",
          "height": 34
        },
        "outputId": "596733ae-f952-41dc-8b81-ce6e584190cc"
      },
      "source": [
        "trainY.shape"
      ],
      "execution_count": 461,
      "outputs": [
        {
          "output_type": "execute_result",
          "data": {
            "text/plain": [
              "(60000, 10)"
            ]
          },
          "metadata": {
            "tags": []
          },
          "execution_count": 461
        }
      ]
    },
    {
      "cell_type": "code",
      "metadata": {
        "id": "0RREFLTNxpY6",
        "colab_type": "code",
        "colab": {
          "base_uri": "https://localhost:8080/",
          "height": 34
        },
        "outputId": "a5aa75b8-6d21-4217-e2b0-c4281b2f7059"
      },
      "source": [
        "trainX.shape"
      ],
      "execution_count": 462,
      "outputs": [
        {
          "output_type": "execute_result",
          "data": {
            "text/plain": [
              "(60000, 28, 28)"
            ]
          },
          "metadata": {
            "tags": []
          },
          "execution_count": 462
        }
      ]
    },
    {
      "cell_type": "code",
      "metadata": {
        "id": "ghciLX85Cd4q",
        "colab_type": "code",
        "outputId": "d33117c2-4b66-4647-9447-2c52469e0239",
        "colab": {
          "base_uri": "https://localhost:8080/",
          "height": 121
        }
      },
      "source": [
        "print(trainY.shape)\n",
        "print('First 5 examples now are: ', trainY[0:5])"
      ],
      "execution_count": 463,
      "outputs": [
        {
          "output_type": "stream",
          "text": [
            "(60000, 10)\n",
            "First 5 examples now are:  [[0. 0. 0. 0. 0. 0. 0. 0. 0. 1.]\n",
            " [1. 0. 0. 0. 0. 0. 0. 0. 0. 0.]\n",
            " [1. 0. 0. 0. 0. 0. 0. 0. 0. 0.]\n",
            " [0. 0. 0. 1. 0. 0. 0. 0. 0. 0.]\n",
            " [1. 0. 0. 0. 0. 0. 0. 0. 0. 0.]]\n"
          ],
          "name": "stdout"
        }
      ]
    },
    {
      "cell_type": "markdown",
      "metadata": {
        "id": "x5lr8D6EFuEL",
        "colab_type": "text"
      },
      "source": [
        "Visualize the data\n",
        "Plot first 10 images in the training set and their labels."
      ]
    },
    {
      "cell_type": "code",
      "metadata": {
        "id": "G742olvpzJG-",
        "colab_type": "code",
        "colab": {}
      },
      "source": [
        "import matplotlib.pyplot as plt"
      ],
      "execution_count": 0,
      "outputs": []
    },
    {
      "cell_type": "code",
      "metadata": {
        "id": "sHLtFUNGCcyL",
        "colab_type": "code",
        "colab": {
          "base_uri": "https://localhost:8080/",
          "height": 244
        },
        "outputId": "ce119bc1-d60d-48d1-b3b0-320fa6784a74"
      },
      "source": [
        "fig = plt.figure(figsize=(10,10))\n",
        "for i in range(10):\n",
        "  plt.subplot(5,5,i+1)\n",
        "  plt.xticks([])\n",
        "  plt.yticks([])\n",
        "  plt.grid(False)\n",
        "  plt.imshow(trainX[i])"
      ],
      "execution_count": 465,
      "outputs": [
        {
          "output_type": "display_data",
          "data": {
            "image/png": "[encoded data removed]",
            "text/plain": [
              "<Figure size 720x720 with 10 Axes>"
            ]
          },
          "metadata": {
            "tags": []
          }
        }
      ]
    },
    {
      "cell_type": "code",
      "metadata": {
        "id": "rSQY3GoK1eLz",
        "colab_type": "code",
        "colab": {
          "base_uri": "https://localhost:8080/",
          "height": 244
        },
        "outputId": "35923958-f637-4fc9-c11c-9a0fa3b2c1d0"
      },
      "source": [
        "fig = plt.figure(figsize=(10,10))\n",
        "for i in range(10):\n",
        "  plt.subplot(5,5,i+1)\n",
        "  plt.xticks([])\n",
        "  plt.yticks([])\n",
        "  plt.grid(False)\n",
        "  plt.imshow(trainX[i], cmap = \"gray\")"
      ],
      "execution_count": 466,
      "outputs": [
        {
          "output_type": "display_data",
          "data": {
            "image/png": "[encoded data removed]",
            "text/plain": [
              "<Figure size 720x720 with 10 Axes>"
            ]
          },
          "metadata": {
            "tags": []
          }
        }
      ]
    },
    {
      "cell_type": "markdown",
      "metadata": {
        "id": "5NMomF0bwg89",
        "colab_type": "text"
      },
      "source": [
        " Build a neural Network with a cross entropy loss function and sgd optimizer in Keras. The output layer with 10 neurons as we have 10 classes."
      ]
    },
    {
      "cell_type": "code",
      "metadata": {
        "id": "OD3Ek2X12Cts",
        "colab_type": "code",
        "colab": {}
      },
      "source": [
        "#Initialize Sequential model\n",
        "model = tf.keras.models.Sequential()\n",
        "\n",
        "#Reshape data from 2D to 1D -> 28x28 to 784\n",
        "model.add(tf.keras.layers.Reshape((784,),input_shape=(28,28,)))\n",
        "\n",
        "\n",
        "#Add Dense Layer which provides 10 Outputs after applying softmax\n",
        "model.add(tf.keras.layers.Dense(10, activation='softmax'))\n",
        "\n",
        "#Compile the model\n",
        "model.compile(optimizer='sgd', loss='categorical_crossentropy', \n",
        "              metrics=['accuracy'])"
      ],
      "execution_count": 0,
      "outputs": []
    },
    {
      "cell_type": "markdown",
      "metadata": {
        "id": "ZiAmO2tPwhKi",
        "colab_type": "text"
      },
      "source": [
        "Execute the model using model.fit()"
      ]
    },
    {
      "cell_type": "code",
      "metadata": {
        "id": "-kJwdqRaGcvw",
        "colab_type": "code",
        "colab": {
          "base_uri": "https://localhost:8080/",
          "height": 1000
        },
        "outputId": "797674bc-7817-4f95-acf9-878f806bbb06"
      },
      "source": [
        "model.fit(trainX, trainY, \n",
        "          validation_data=(testX, testY),epochs=30,\n",
        "          batch_size=32)"
      ],
      "execution_count": 468,
      "outputs": [
        {
          "output_type": "stream",
          "text": [
            "Train on 60000 samples, validate on 10000 samples\n",
            "Epoch 1/30\n",
            "60000/60000 [==============================] - 2s 40us/sample - loss: 2010.6400 - acc: 0.7400 - val_loss: 1980.2994 - val_acc: 0.7642\n",
            "Epoch 2/30\n",
            "60000/60000 [==============================] - 2s 40us/sample - loss: 1654.3032 - acc: 0.7767 - val_loss: 1292.8508 - val_acc: 0.8125\n",
            "Epoch 3/30\n",
            "60000/60000 [==============================] - 2s 40us/sample - loss: 1580.6545 - acc: 0.7856 - val_loss: 1287.3200 - val_acc: 0.8105\n",
            "Epoch 4/30\n",
            "60000/60000 [==============================] - 2s 40us/sample - loss: 1484.8114 - acc: 0.7905 - val_loss: 1561.9660 - val_acc: 0.7548\n",
            "Epoch 5/30\n",
            "60000/60000 [==============================] - 2s 39us/sample - loss: 1489.3201 - acc: 0.7916 - val_loss: 1129.6308 - val_acc: 0.8113\n",
            "Epoch 6/30\n",
            "60000/60000 [==============================] - 2s 39us/sample - loss: 1467.2638 - acc: 0.7946 - val_loss: 1056.1233 - val_acc: 0.8250\n",
            "Epoch 7/30\n",
            "60000/60000 [==============================] - 2s 40us/sample - loss: 1465.6679 - acc: 0.7955 - val_loss: 1136.6172 - val_acc: 0.8051\n",
            "Epoch 8/30\n",
            "60000/60000 [==============================] - 2s 39us/sample - loss: 1475.6845 - acc: 0.7963 - val_loss: 1121.5698 - val_acc: 0.7881\n",
            "Epoch 9/30\n",
            "60000/60000 [==============================] - 2s 39us/sample - loss: 1394.1254 - acc: 0.7995 - val_loss: 2827.7939 - val_acc: 0.7423\n",
            "Epoch 10/30\n",
            "60000/60000 [==============================] - 2s 40us/sample - loss: 1477.8531 - acc: 0.7987 - val_loss: 1529.2386 - val_acc: 0.7625\n",
            "Epoch 11/30\n",
            "60000/60000 [==============================] - 2s 40us/sample - loss: 1424.1599 - acc: 0.8010 - val_loss: 1706.3761 - val_acc: 0.7573\n",
            "Epoch 12/30\n",
            "60000/60000 [==============================] - 2s 40us/sample - loss: 1418.6213 - acc: 0.8018 - val_loss: 2148.2624 - val_acc: 0.7818\n",
            "Epoch 13/30\n",
            "60000/60000 [==============================] - 2s 40us/sample - loss: 1472.1798 - acc: 0.8007 - val_loss: 1185.6595 - val_acc: 0.8121\n",
            "Epoch 14/30\n",
            "60000/60000 [==============================] - 2s 40us/sample - loss: 1409.0442 - acc: 0.8029 - val_loss: 2026.4207 - val_acc: 0.7719\n",
            "Epoch 15/30\n",
            "60000/60000 [==============================] - 2s 40us/sample - loss: 1437.7179 - acc: 0.8020 - val_loss: 2343.0169 - val_acc: 0.7363\n",
            "Epoch 16/30\n",
            "60000/60000 [==============================] - 2s 40us/sample - loss: 1405.8008 - acc: 0.8041 - val_loss: 1203.6667 - val_acc: 0.8125\n",
            "Epoch 17/30\n",
            "60000/60000 [==============================] - 2s 39us/sample - loss: 1438.2906 - acc: 0.8020 - val_loss: 1455.4350 - val_acc: 0.8105\n",
            "Epoch 18/30\n",
            "60000/60000 [==============================] - 2s 40us/sample - loss: 1427.9061 - acc: 0.8034 - val_loss: 1514.5210 - val_acc: 0.7940\n",
            "Epoch 19/30\n",
            "60000/60000 [==============================] - 2s 40us/sample - loss: 1375.9964 - acc: 0.8045 - val_loss: 2051.5197 - val_acc: 0.7186\n",
            "Epoch 20/30\n",
            "60000/60000 [==============================] - 2s 40us/sample - loss: 1413.5943 - acc: 0.8038 - val_loss: 1269.4057 - val_acc: 0.8051\n",
            "Epoch 21/30\n",
            "60000/60000 [==============================] - 2s 39us/sample - loss: 1366.2383 - acc: 0.8066 - val_loss: 2227.7371 - val_acc: 0.7505\n",
            "Epoch 22/30\n",
            "60000/60000 [==============================] - 2s 39us/sample - loss: 1413.8208 - acc: 0.8041 - val_loss: 1473.4178 - val_acc: 0.7874\n",
            "Epoch 23/30\n",
            "60000/60000 [==============================] - 2s 40us/sample - loss: 1444.9919 - acc: 0.8055 - val_loss: 1266.8146 - val_acc: 0.7991\n",
            "Epoch 24/30\n",
            "60000/60000 [==============================] - 2s 39us/sample - loss: 1366.3918 - acc: 0.8082 - val_loss: 1340.4619 - val_acc: 0.7777\n",
            "Epoch 25/30\n",
            "60000/60000 [==============================] - 2s 40us/sample - loss: 1390.4727 - acc: 0.8059 - val_loss: 1468.2201 - val_acc: 0.8076\n",
            "Epoch 26/30\n",
            "60000/60000 [==============================] - 2s 39us/sample - loss: 1393.9889 - acc: 0.8073 - val_loss: 2190.2387 - val_acc: 0.7861\n",
            "Epoch 27/30\n",
            "60000/60000 [==============================] - 2s 40us/sample - loss: 1377.1089 - acc: 0.8070 - val_loss: 2139.4052 - val_acc: 0.7910\n",
            "Epoch 28/30\n",
            "60000/60000 [==============================] - 2s 40us/sample - loss: 1358.2697 - acc: 0.8088 - val_loss: 1170.9696 - val_acc: 0.8030\n",
            "Epoch 29/30\n",
            "60000/60000 [==============================] - 2s 39us/sample - loss: 1382.8387 - acc: 0.8069 - val_loss: 1152.5777 - val_acc: 0.8259\n",
            "Epoch 30/30\n",
            "60000/60000 [==============================] - 2s 40us/sample - loss: 1409.0096 - acc: 0.8066 - val_loss: 2464.7931 - val_acc: 0.7551\n"
          ],
          "name": "stdout"
        },
        {
          "output_type": "execute_result",
          "data": {
            "text/plain": [
              "<tensorflow.python.keras.callbacks.History at 0x7f30a8615a90>"
            ]
          },
          "metadata": {
            "tags": []
          },
          "execution_count": 468
        }
      ]
    },
    {
      "cell_type": "markdown",
      "metadata": {
        "id": "VHW_ERRNwhOT",
        "colab_type": "text"
      },
      "source": [
        "In the above Neural Network model add Batch Normalization layer after the input layer and repeat the steps.\n"
      ]
    },
    {
      "cell_type": "code",
      "metadata": {
        "id": "g73V9LooJNC1",
        "colab_type": "code",
        "colab": {}
      },
      "source": [
        "#Initialize Sequential model\n",
        "model = tf.keras.models.Sequential()\n",
        "\n",
        "#Reshape data from 2D to 1D -> 28x28 to 784\n",
        "model.add(tf.keras.layers.Reshape((784,),input_shape=(28,28,)))\n",
        "\n",
        "\n",
        "#Add Dense Layer which provides 10 Outputs after applying softmax\n",
        "model.add(tf.keras.layers.Dense(10, activation='softmax'))\n",
        "\n",
        "#Compile the model\n",
        "model.compile(optimizer='sgd', loss='categorical_crossentropy', \n",
        "              metrics=['accuracy'])#Normalize the data\n",
        "\n",
        "model.add(tf.keras.layers.BatchNormalization())"
      ],
      "execution_count": 0,
      "outputs": []
    },
    {
      "cell_type": "markdown",
      "metadata": {
        "id": "XkirNR0KwhRV",
        "colab_type": "text"
      },
      "source": [
        "Execute the model"
      ]
    },
    {
      "cell_type": "code",
      "metadata": {
        "id": "V6zD-Qa2JNkI",
        "colab_type": "code",
        "colab": {
          "base_uri": "https://localhost:8080/",
          "height": 1000
        },
        "outputId": "660a922c-cf2e-4269-b995-f4d2d68e1079"
      },
      "source": [
        "model.fit(trainX, trainY, \n",
        "          validation_data=(testX, testY), \n",
        "              epochs=30,\n",
        "              batch_size=32)"
      ],
      "execution_count": 470,
      "outputs": [
        {
          "output_type": "stream",
          "text": [
            "Train on 60000 samples, validate on 10000 samples\n",
            "Epoch 1/30\n",
            "60000/60000 [==============================] - 3s 51us/sample - loss: 9.6395 - acc: 0.1001 - val_loss: 9.6709 - val_acc: 0.1000\n",
            "Epoch 2/30\n",
            "60000/60000 [==============================] - 3s 50us/sample - loss: 9.6709 - acc: 0.1000 - val_loss: 9.6709 - val_acc: 0.1000\n",
            "Epoch 3/30\n",
            "60000/60000 [==============================] - 3s 49us/sample - loss: 9.6709 - acc: 0.1000 - val_loss: 9.6709 - val_acc: 0.1000\n",
            "Epoch 4/30\n",
            "60000/60000 [==============================] - 3s 49us/sample - loss: 9.6709 - acc: 0.1000 - val_loss: 9.6709 - val_acc: 0.1000\n",
            "Epoch 5/30\n",
            "60000/60000 [==============================] - 3s 50us/sample - loss: 9.6709 - acc: 0.1000 - val_loss: 9.6709 - val_acc: 0.1000\n",
            "Epoch 6/30\n",
            "60000/60000 [==============================] - 3s 49us/sample - loss: 9.6709 - acc: 0.1000 - val_loss: 9.6709 - val_acc: 0.1000\n",
            "Epoch 7/30\n",
            "60000/60000 [==============================] - 3s 49us/sample - loss: 9.6709 - acc: 0.1000 - val_loss: 9.6709 - val_acc: 0.1000\n",
            "Epoch 8/30\n",
            "60000/60000 [==============================] - 3s 50us/sample - loss: 9.6709 - acc: 0.1000 - val_loss: 9.6709 - val_acc: 0.1000\n",
            "Epoch 9/30\n",
            "60000/60000 [==============================] - 3s 49us/sample - loss: 9.6709 - acc: 0.1000 - val_loss: 9.6709 - val_acc: 0.1000\n",
            "Epoch 10/30\n",
            "60000/60000 [==============================] - 3s 48us/sample - loss: 9.6709 - acc: 0.1000 - val_loss: 9.6709 - val_acc: 0.1000\n",
            "Epoch 11/30\n",
            "60000/60000 [==============================] - 3s 49us/sample - loss: 9.6709 - acc: 0.1000 - val_loss: 9.6709 - val_acc: 0.1000\n",
            "Epoch 12/30\n",
            "60000/60000 [==============================] - 3s 48us/sample - loss: 9.6709 - acc: 0.1000 - val_loss: 9.6709 - val_acc: 0.1000\n",
            "Epoch 13/30\n",
            "60000/60000 [==============================] - 3s 49us/sample - loss: 9.6709 - acc: 0.1000 - val_loss: 9.6709 - val_acc: 0.1000\n",
            "Epoch 14/30\n",
            "60000/60000 [==============================] - 3s 48us/sample - loss: 9.6709 - acc: 0.1000 - val_loss: 9.6709 - val_acc: 0.1000\n",
            "Epoch 15/30\n",
            "60000/60000 [==============================] - 3s 49us/sample - loss: 9.6709 - acc: 0.1000 - val_loss: 9.6709 - val_acc: 0.1000\n",
            "Epoch 16/30\n",
            "60000/60000 [==============================] - 3s 47us/sample - loss: 9.6709 - acc: 0.1000 - val_loss: 9.6709 - val_acc: 0.1000\n",
            "Epoch 17/30\n",
            "60000/60000 [==============================] - 3s 47us/sample - loss: 9.6709 - acc: 0.1000 - val_loss: 9.6709 - val_acc: 0.1000\n",
            "Epoch 18/30\n",
            "60000/60000 [==============================] - 3s 48us/sample - loss: 9.6709 - acc: 0.1000 - val_loss: 9.6709 - val_acc: 0.1000\n",
            "Epoch 19/30\n",
            "60000/60000 [==============================] - 3s 48us/sample - loss: 9.6709 - acc: 0.1000 - val_loss: 9.6709 - val_acc: 0.1000\n",
            "Epoch 20/30\n",
            "60000/60000 [==============================] - 3s 49us/sample - loss: 9.6709 - acc: 0.1000 - val_loss: 9.6709 - val_acc: 0.1000\n",
            "Epoch 21/30\n",
            "60000/60000 [==============================] - 3s 49us/sample - loss: 9.6709 - acc: 0.1000 - val_loss: 9.6709 - val_acc: 0.1000\n",
            "Epoch 22/30\n",
            "60000/60000 [==============================] - 3s 48us/sample - loss: 9.6709 - acc: 0.1000 - val_loss: 9.6709 - val_acc: 0.1000\n",
            "Epoch 23/30\n",
            "60000/60000 [==============================] - 3s 49us/sample - loss: 9.6709 - acc: 0.1000 - val_loss: 9.6709 - val_acc: 0.1000\n",
            "Epoch 24/30\n",
            "60000/60000 [==============================] - 3s 48us/sample - loss: 9.6709 - acc: 0.1000 - val_loss: 9.6709 - val_acc: 0.1000\n",
            "Epoch 25/30\n",
            "60000/60000 [==============================] - 3s 48us/sample - loss: 9.6709 - acc: 0.1000 - val_loss: 9.6709 - val_acc: 0.1000\n",
            "Epoch 26/30\n",
            "60000/60000 [==============================] - 3s 48us/sample - loss: 9.6709 - acc: 0.1000 - val_loss: 9.6709 - val_acc: 0.1000\n",
            "Epoch 27/30\n",
            "60000/60000 [==============================] - 3s 48us/sample - loss: 9.6709 - acc: 0.1000 - val_loss: 9.6709 - val_acc: 0.1000\n",
            "Epoch 28/30\n",
            "60000/60000 [==============================] - 3s 48us/sample - loss: 9.6709 - acc: 0.1000 - val_loss: 9.6709 - val_acc: 0.1000\n",
            "Epoch 29/30\n",
            "60000/60000 [==============================] - 3s 48us/sample - loss: 9.6709 - acc: 0.1000 - val_loss: 9.6709 - val_acc: 0.1000\n",
            "Epoch 30/30\n",
            "60000/60000 [==============================] - 3s 48us/sample - loss: 9.6709 - acc: 0.1000 - val_loss: 9.6709 - val_acc: 0.1000\n"
          ],
          "name": "stdout"
        },
        {
          "output_type": "execute_result",
          "data": {
            "text/plain": [
              "<tensorflow.python.keras.callbacks.History at 0x7f30a71eaef0>"
            ]
          },
          "metadata": {
            "tags": []
          },
          "execution_count": 470
        }
      ]
    },
    {
      "cell_type": "markdown",
      "metadata": {
        "id": "RDt4bO9mw256",
        "colab_type": "text"
      },
      "source": [
        "Customize the learning rate to 0.001 in sgd optimizer and run the model"
      ]
    },
    {
      "cell_type": "code",
      "metadata": {
        "id": "knmmOUsfJOI6",
        "colab_type": "code",
        "colab": {}
      },
      "source": [
        "#Initialize Sequential model\n",
        "model = tf.keras.models.Sequential()\n",
        "\n",
        "#Reshape data from 2D to 1D -> 28x28 to 784\n",
        "model.add(tf.keras.layers.Reshape((784,),input_shape=(28,28,)))\n",
        "\n",
        "\n",
        "#Add Dense Layer which provides 10 Outputs after applying softmax\n",
        "model.add(tf.keras.layers.Dense(10, activation='softmax'))\n",
        "\n",
        "#Compile the model\n",
        "model.compile(optimizer='sgd', loss='categorical_crossentropy', \n",
        "              metrics=['accuracy'])#Normalize the data\n",
        "model.add(tf.keras.layers.BatchNormalization())\n",
        "\n",
        "sgd_optimizer = tf.keras.optimizers.SGD(lr=0.001)\n",
        "\n",
        "model.compile(optimizer=sgd_optimizer, loss='categorical_crossentropy', metrics=['accuracy'])"
      ],
      "execution_count": 0,
      "outputs": []
    },
    {
      "cell_type": "code",
      "metadata": {
        "id": "tF_jX2y0XMBv",
        "colab_type": "code",
        "colab": {
          "base_uri": "https://localhost:8080/",
          "height": 1000
        },
        "outputId": "05d3afa0-2023-4cf8-98e9-a840199e5365"
      },
      "source": [
        "model.fit(trainX, trainY, \n",
        "          validation_data=(testX, testY), \n",
        "          epochs=30,\n",
        "          batch_size=32)"
      ],
      "execution_count": 472,
      "outputs": [
        {
          "output_type": "stream",
          "text": [
            "Train on 60000 samples, validate on 10000 samples\n",
            "Epoch 1/30\n",
            "60000/60000 [==============================] - 3s 52us/sample - loss: 8.0673 - acc: 0.0999 - val_loss: 8.0590 - val_acc: 0.1000\n",
            "Epoch 2/30\n",
            "60000/60000 [==============================] - 3s 49us/sample - loss: 8.0545 - acc: 0.1000 - val_loss: 8.0623 - val_acc: 0.1000\n",
            "Epoch 3/30\n",
            "60000/60000 [==============================] - 3s 48us/sample - loss: 8.0626 - acc: 0.1001 - val_loss: 8.0607 - val_acc: 0.1000\n",
            "Epoch 4/30\n",
            "60000/60000 [==============================] - 3s 49us/sample - loss: 8.0618 - acc: 0.1001 - val_loss: 8.0607 - val_acc: 0.1000\n",
            "Epoch 5/30\n",
            "60000/60000 [==============================] - 3s 49us/sample - loss: 8.0607 - acc: 0.0999 - val_loss: 8.0607 - val_acc: 0.1000\n",
            "Epoch 6/30\n",
            "60000/60000 [==============================] - 3s 49us/sample - loss: 8.0604 - acc: 0.1000 - val_loss: 8.0607 - val_acc: 0.1000\n",
            "Epoch 7/30\n",
            "60000/60000 [==============================] - 3s 53us/sample - loss: 8.0617 - acc: 0.1001 - val_loss: 8.0607 - val_acc: 0.1000\n",
            "Epoch 8/30\n",
            "60000/60000 [==============================] - 3s 52us/sample - loss: 8.0607 - acc: 0.1000 - val_loss: 8.0607 - val_acc: 0.1000\n",
            "Epoch 9/30\n",
            "60000/60000 [==============================] - 3s 49us/sample - loss: 8.0612 - acc: 0.1001 - val_loss: 8.0607 - val_acc: 0.1000\n",
            "Epoch 10/30\n",
            "60000/60000 [==============================] - 3s 49us/sample - loss: 8.0590 - acc: 0.0999 - val_loss: 8.0607 - val_acc: 0.1000\n",
            "Epoch 11/30\n",
            "60000/60000 [==============================] - 3s 49us/sample - loss: 8.0609 - acc: 0.1000 - val_loss: 8.0607 - val_acc: 0.1000\n",
            "Epoch 12/30\n",
            "60000/60000 [==============================] - 3s 49us/sample - loss: 8.0607 - acc: 0.1001 - val_loss: 8.0607 - val_acc: 0.1000\n",
            "Epoch 13/30\n",
            "60000/60000 [==============================] - 3s 49us/sample - loss: 8.0620 - acc: 0.1001 - val_loss: 8.0607 - val_acc: 0.1000\n",
            "Epoch 14/30\n",
            "60000/60000 [==============================] - 3s 50us/sample - loss: 8.0625 - acc: 0.1001 - val_loss: 8.0607 - val_acc: 0.1000\n",
            "Epoch 15/30\n",
            "60000/60000 [==============================] - 3s 49us/sample - loss: 8.0633 - acc: 0.1002 - val_loss: 8.0607 - val_acc: 0.1000\n",
            "Epoch 16/30\n",
            "60000/60000 [==============================] - 3s 49us/sample - loss: 8.0604 - acc: 0.1000 - val_loss: 8.0607 - val_acc: 0.1000\n",
            "Epoch 17/30\n",
            "60000/60000 [==============================] - 3s 49us/sample - loss: 8.0615 - acc: 0.1000 - val_loss: 8.0607 - val_acc: 0.1000\n",
            "Epoch 18/30\n",
            "60000/60000 [==============================] - 3s 49us/sample - loss: 8.0617 - acc: 0.1000 - val_loss: 8.0607 - val_acc: 0.1000\n",
            "Epoch 19/30\n",
            "60000/60000 [==============================] - 3s 49us/sample - loss: 8.0615 - acc: 0.1001 - val_loss: 8.0607 - val_acc: 0.1000\n",
            "Epoch 20/30\n",
            "60000/60000 [==============================] - 3s 50us/sample - loss: 8.0633 - acc: 0.1001 - val_loss: 8.0607 - val_acc: 0.1000\n",
            "Epoch 21/30\n",
            "60000/60000 [==============================] - 3s 50us/sample - loss: 8.0625 - acc: 0.1000 - val_loss: 8.0607 - val_acc: 0.1000\n",
            "Epoch 22/30\n",
            "60000/60000 [==============================] - 3s 49us/sample - loss: 8.0590 - acc: 0.0999 - val_loss: 8.0607 - val_acc: 0.1000\n",
            "Epoch 23/30\n",
            "60000/60000 [==============================] - 3s 50us/sample - loss: 8.0620 - acc: 0.1001 - val_loss: 8.0607 - val_acc: 0.1000\n",
            "Epoch 24/30\n",
            "60000/60000 [==============================] - 3s 49us/sample - loss: 8.0607 - acc: 0.1000 - val_loss: 8.0607 - val_acc: 0.1000\n",
            "Epoch 25/30\n",
            "60000/60000 [==============================] - 3s 48us/sample - loss: 8.0623 - acc: 0.1001 - val_loss: 8.0607 - val_acc: 0.1000\n",
            "Epoch 26/30\n",
            "60000/60000 [==============================] - 3s 49us/sample - loss: 8.0617 - acc: 0.1001 - val_loss: 8.0607 - val_acc: 0.1000\n",
            "Epoch 27/30\n",
            "60000/60000 [==============================] - 3s 54us/sample - loss: 8.0599 - acc: 0.0999 - val_loss: 8.0607 - val_acc: 0.1000\n",
            "Epoch 28/30\n",
            "60000/60000 [==============================] - 3s 52us/sample - loss: 8.0615 - acc: 0.1001 - val_loss: 8.0607 - val_acc: 0.1000\n",
            "Epoch 29/30\n",
            "60000/60000 [==============================] - 3s 51us/sample - loss: 8.0612 - acc: 0.0999 - val_loss: 8.0607 - val_acc: 0.1000\n",
            "Epoch 30/30\n",
            "60000/60000 [==============================] - 3s 51us/sample - loss: 8.0604 - acc: 0.1000 - val_loss: 8.0607 - val_acc: 0.1000\n"
          ],
          "name": "stdout"
        },
        {
          "output_type": "execute_result",
          "data": {
            "text/plain": [
              "<tensorflow.python.keras.callbacks.History at 0x7f30a6c2f8d0>"
            ]
          },
          "metadata": {
            "tags": []
          },
          "execution_count": 472
        }
      ]
    },
    {
      "cell_type": "markdown",
      "metadata": {
        "id": "tFhcB3aNw29s",
        "colab_type": "text"
      },
      "source": [
        "Build the Neural Network model with 3 Dense layers with 100,100,10 neurons respectively in each layer. Use cross entropy loss function and singmoid as activation in the hidden layers and softmax as activation function in the output layer. Use sgd optimizer with learning rate 0.03.\n"
      ]
    },
    {
      "cell_type": "code",
      "metadata": {
        "id": "LsVfGXn4VKt9",
        "colab_type": "code",
        "colab": {}
      },
      "source": [
        "#Initialize Sequential model\n",
        "model3 = tf.keras.models.Sequential()\n",
        "\n",
        "#Reshape data from 2D to 1D -> 28x28 to 784\n",
        "model3.add(tf.keras.layers.Reshape((784,),input_shape=(28,28,)))\n",
        "\n",
        "\n",
        "#Add Dense Layer which provides 10 Outputs after applying softmax\n",
        "model3.add(tf.keras.layers.Dense(10, activation='softmax'))\n",
        "\n",
        "#Compile the model\n",
        "model3.compile(optimizer='sgd', loss='categorical_crossentropy', \n",
        "              metrics=['accuracy'])#Normalize the data\n",
        "model3.add(tf.keras.layers.BatchNormalization())\n",
        "\n",
        "#Add 1st hidden layer\n",
        "model.add(tf.keras.layers.Dense(100, activation='sigmoid'))\n",
        "\n",
        "#Add 2nd hidden layer\n",
        "model.add(tf.keras.layers.Dense(100, activation='sigmoid'))\n",
        "\n",
        "#Add OUTPUT layer\n",
        "model.add(tf.keras.layers.Dense(10, activation='softmax'))\n",
        "\n",
        "sgd_optimizer = tf.keras.optimizers.SGD(lr=0.03)\n",
        "\n",
        "model3.compile(optimizer=sgd_optimizer, loss='mse')"
      ],
      "execution_count": 0,
      "outputs": []
    },
    {
      "cell_type": "code",
      "metadata": {
        "id": "ZPfxjj5nYXB2",
        "colab_type": "code",
        "colab": {
          "base_uri": "https://localhost:8080/",
          "height": 1000
        },
        "outputId": "98023001-ce70-4180-edfd-efaf07d9161d"
      },
      "source": [
        "model3.fit(trainX,trainY,          \n",
        "          epochs=30,\n",
        "          batch_size=32)"
      ],
      "execution_count": 474,
      "outputs": [
        {
          "output_type": "stream",
          "text": [
            "Epoch 1/30\n",
            "60000/60000 [==============================] - 3s 47us/sample - loss: 0.0929\n",
            "Epoch 2/30\n",
            "60000/60000 [==============================] - 2s 41us/sample - loss: 0.0900\n",
            "Epoch 3/30\n",
            "60000/60000 [==============================] - 3s 42us/sample - loss: 0.0900\n",
            "Epoch 4/30\n",
            "60000/60000 [==============================] - 2s 42us/sample - loss: 0.0900\n",
            "Epoch 5/30\n",
            "60000/60000 [==============================] - 2s 41us/sample - loss: 0.0900\n",
            "Epoch 6/30\n",
            "60000/60000 [==============================] - 2s 41us/sample - loss: 0.0900\n",
            "Epoch 7/30\n",
            "60000/60000 [==============================] - 3s 42us/sample - loss: 0.0900\n",
            "Epoch 8/30\n",
            "60000/60000 [==============================] - 3s 42us/sample - loss: 0.0900\n",
            "Epoch 9/30\n",
            "60000/60000 [==============================] - 2s 42us/sample - loss: 0.0900\n",
            "Epoch 10/30\n",
            "60000/60000 [==============================] - 3s 42us/sample - loss: 0.0900\n",
            "Epoch 11/30\n",
            "60000/60000 [==============================] - 3s 42us/sample - loss: 0.0900\n",
            "Epoch 12/30\n",
            "60000/60000 [==============================] - 3s 42us/sample - loss: 0.0900\n",
            "Epoch 13/30\n",
            "60000/60000 [==============================] - 2s 41us/sample - loss: 0.0900\n",
            "Epoch 14/30\n",
            "60000/60000 [==============================] - 3s 42us/sample - loss: 0.0900\n",
            "Epoch 15/30\n",
            "60000/60000 [==============================] - 3s 42us/sample - loss: 0.0900\n",
            "Epoch 16/30\n",
            "60000/60000 [==============================] - 3s 42us/sample - loss: 0.0900\n",
            "Epoch 17/30\n",
            "60000/60000 [==============================] - 2s 42us/sample - loss: 0.0900\n",
            "Epoch 18/30\n",
            "60000/60000 [==============================] - 3s 42us/sample - loss: 0.0900\n",
            "Epoch 19/30\n",
            "60000/60000 [==============================] - 3s 43us/sample - loss: 0.0900\n",
            "Epoch 20/30\n",
            "60000/60000 [==============================] - 3s 42us/sample - loss: 0.0900\n",
            "Epoch 21/30\n",
            "60000/60000 [==============================] - 3s 42us/sample - loss: 0.0900\n",
            "Epoch 22/30\n",
            "60000/60000 [==============================] - 2s 41us/sample - loss: 0.0900\n",
            "Epoch 23/30\n",
            "60000/60000 [==============================] - 3s 42us/sample - loss: 0.0900\n",
            "Epoch 24/30\n",
            "60000/60000 [==============================] - 2s 42us/sample - loss: 0.0900\n",
            "Epoch 25/30\n",
            "60000/60000 [==============================] - 2s 41us/sample - loss: 0.0900\n",
            "Epoch 26/30\n",
            "60000/60000 [==============================] - 3s 42us/sample - loss: 0.0900\n",
            "Epoch 27/30\n",
            "60000/60000 [==============================] - 2s 40us/sample - loss: 0.0900\n",
            "Epoch 28/30\n",
            "60000/60000 [==============================] - 2s 41us/sample - loss: 0.0900\n",
            "Epoch 29/30\n",
            "60000/60000 [==============================] - 2s 41us/sample - loss: 0.0900\n",
            "Epoch 30/30\n",
            "60000/60000 [==============================] - 2s 42us/sample - loss: 0.0900\n"
          ],
          "name": "stdout"
        },
        {
          "output_type": "execute_result",
          "data": {
            "text/plain": [
              "<tensorflow.python.keras.callbacks.History at 0x7f30a6ad87f0>"
            ]
          },
          "metadata": {
            "tags": []
          },
          "execution_count": 474
        }
      ]
    },
    {
      "cell_type": "markdown",
      "metadata": {
        "id": "41-gKVkNAKeA",
        "colab_type": "text"
      },
      "source": [
        "Customize the learning rate to 0.001 in sgd optimizer and run the model"
      ]
    },
    {
      "cell_type": "markdown",
      "metadata": {
        "id": "X5f2F9hpxANH",
        "colab_type": "text"
      },
      "source": [
        "Review model"
      ]
    },
    {
      "cell_type": "code",
      "metadata": {
        "id": "1yPsDeTiJP4U",
        "colab_type": "code",
        "colab": {
          "base_uri": "https://localhost:8080/",
          "height": 260
        },
        "outputId": "b67d34ba-8b55-4704-f50b-8e5fbda17a62"
      },
      "source": [
        "model3.summary()"
      ],
      "execution_count": 475,
      "outputs": [
        {
          "output_type": "stream",
          "text": [
            "Model: \"sequential_3\"\n",
            "_________________________________________________________________\n",
            "Layer (type)                 Output Shape              Param #   \n",
            "=================================================================\n",
            "reshape_3 (Reshape)          (None, 784)               0         \n",
            "_________________________________________________________________\n",
            "dense_3 (Dense)              (None, 10)                7850      \n",
            "_________________________________________________________________\n",
            "batch_normalization_2 (Batch (None, 10)                40        \n",
            "=================================================================\n",
            "Total params: 7,890\n",
            "Trainable params: 7,870\n",
            "Non-trainable params: 20\n",
            "_________________________________________________________________\n"
          ],
          "name": "stdout"
        }
      ]
    },
    {
      "cell_type": "markdown",
      "metadata": {
        "id": "BhuPVWpAxARa",
        "colab_type": "text"
      },
      "source": [
        "Run the Model"
      ]
    },
    {
      "cell_type": "code",
      "metadata": {
        "id": "fL79_SsiJP7i",
        "colab_type": "code",
        "colab": {
          "base_uri": "https://localhost:8080/",
          "height": 51
        },
        "outputId": "e82d22fd-ae6c-40c0-d263-bf30c906dd3d"
      },
      "source": [
        "model3.evaluate(testX,testY)"
      ],
      "execution_count": 476,
      "outputs": [
        {
          "output_type": "stream",
          "text": [
            "10000/10000 [==============================] - 0s 30us/sample - loss: 0.0900\n"
          ],
          "name": "stdout"
        },
        {
          "output_type": "execute_result",
          "data": {
            "text/plain": [
              "0.09000800728797913"
            ]
          },
          "metadata": {
            "tags": []
          },
          "execution_count": 476
        }
      ]
    },
    {
      "cell_type": "code",
      "metadata": {
        "id": "ueGXWjfEbqTZ",
        "colab_type": "code",
        "colab": {
          "base_uri": "https://localhost:8080/",
          "height": 34
        },
        "outputId": "8f54beed-8139-43eb-b680-e3522dfc4a63"
      },
      "source": [
        "testX[0:1].shape"
      ],
      "execution_count": 480,
      "outputs": [
        {
          "output_type": "execute_result",
          "data": {
            "text/plain": [
              "(1, 28, 28)"
            ]
          },
          "metadata": {
            "tags": []
          },
          "execution_count": 480
        }
      ]
    },
    {
      "cell_type": "code",
      "metadata": {
        "id": "4TnxS6FqfHJB",
        "colab_type": "code",
        "colab": {
          "base_uri": "https://localhost:8080/",
          "height": 34
        },
        "outputId": "93ef7854-23b7-44d5-8af2-f96504016de8"
      },
      "source": [
        "model.input"
      ],
      "execution_count": 481,
      "outputs": [
        {
          "output_type": "execute_result",
          "data": {
            "text/plain": [
              "<tf.Tensor 'reshape_2_input:0' shape=(?, 28, 28) dtype=float32>"
            ]
          },
          "metadata": {
            "tags": []
          },
          "execution_count": 481
        }
      ]
    },
    {
      "cell_type": "code",
      "metadata": {
        "id": "UAd3fM2HfJ7Q",
        "colab_type": "code",
        "colab": {
          "base_uri": "https://localhost:8080/",
          "height": 34
        },
        "outputId": "c6725a1d-5003-4156-e65e-106f611300e4"
      },
      "source": [
        "np.expand_dims(testX[0], axis=0).shape"
      ],
      "execution_count": 482,
      "outputs": [
        {
          "output_type": "execute_result",
          "data": {
            "text/plain": [
              "(1, 28, 28)"
            ]
          },
          "metadata": {
            "tags": []
          },
          "execution_count": 482
        }
      ]
    },
    {
      "cell_type": "code",
      "metadata": {
        "id": "xPnWv5uYfM45",
        "colab_type": "code",
        "colab": {
          "base_uri": "https://localhost:8080/",
          "height": 34
        },
        "outputId": "9d9231ce-02a2-4b19-aace-69dec3525909"
      },
      "source": [
        "#Actual Label in test dataset\n",
        "print(testY[0])"
      ],
      "execution_count": 485,
      "outputs": [
        {
          "output_type": "stream",
          "text": [
            "[0. 0. 0. 0. 0. 0. 0. 0. 0. 1.]\n"
          ],
          "name": "stdout"
        }
      ]
    },
    {
      "cell_type": "code",
      "metadata": {
        "id": "XeCPG0zGfPFd",
        "colab_type": "code",
        "colab": {
          "base_uri": "https://localhost:8080/",
          "height": 51
        },
        "outputId": "e2da1e33-1724-49ab-e25a-7ab736febcc9"
      },
      "source": [
        "#Model prediction\n",
        "prediction = model.predict(testX[0:1])\n",
        "\n",
        "#Print prediction\n",
        "print(prediction)"
      ],
      "execution_count": 487,
      "outputs": [
        {
          "output_type": "stream",
          "text": [
            "[[0.23633377 0.0200574  0.05456273 0.04214601 0.03781205 0.03804402\n",
            "  0.04600449 0.04834292 0.05966553 0.41703105]]\n"
          ],
          "name": "stdout"
        }
      ]
    },
    {
      "cell_type": "code",
      "metadata": {
        "id": "VO8z1LbifWe5",
        "colab_type": "code",
        "colab": {
          "base_uri": "https://localhost:8080/",
          "height": 34
        },
        "outputId": "d26710d3-0233-45a6-c552-69f0412be88c"
      },
      "source": [
        "#Get predicted number with highest probability\n",
        "predicted_num = np.argmax(prediction[0])\n",
        "\n",
        "#Print the number\n",
        "print(predicted_num)"
      ],
      "execution_count": 488,
      "outputs": [
        {
          "output_type": "stream",
          "text": [
            "9\n"
          ],
          "name": "stdout"
        }
      ]
    },
    {
      "cell_type": "code",
      "metadata": {
        "id": "CL_cL_c6fnPl",
        "colab_type": "code",
        "colab": {
          "base_uri": "https://localhost:8080/",
          "height": 34
        },
        "outputId": "4525e082-c258-4678-92d0-6821be4177a8"
      },
      "source": [
        "testY[0]"
      ],
      "execution_count": 489,
      "outputs": [
        {
          "output_type": "execute_result",
          "data": {
            "text/plain": [
              "array([0., 0., 0., 0., 0., 0., 0., 0., 0., 1.], dtype=float32)"
            ]
          },
          "metadata": {
            "tags": []
          },
          "execution_count": 489
        }
      ]
    },
    {
      "cell_type": "code",
      "metadata": {
        "id": "h03daIOFfpVF",
        "colab_type": "code",
        "colab": {
          "base_uri": "https://localhost:8080/",
          "height": 286
        },
        "outputId": "096c029e-e49c-44d6-c423-6a07131edb1a"
      },
      "source": [
        "#Lets print the image as well\n",
        "import matplotlib.pyplot as plt\n",
        "\n",
        "plt.imshow(testX[0],cmap='gray')"
      ],
      "execution_count": 490,
      "outputs": [
        {
          "output_type": "execute_result",
          "data": {
            "text/plain": [
              "<matplotlib.image.AxesImage at 0x7f30a6590588>"
            ]
          },
          "metadata": {
            "tags": []
          },
          "execution_count": 490
        },
        {
          "output_type": "display_data",
          "data": {
            "image/png": "[encoded data removed]",
            "text/plain": [
              "<Figure size 432x288 with 1 Axes>"
            ]
          },
          "metadata": {
            "tags": []
          }
        }
      ]
    },
    {
      "cell_type": "code",
      "metadata": {
        "id": "YsWO8leKfvm5",
        "colab_type": "code",
        "colab": {}
      },
      "source": [
        ""
      ],
      "execution_count": 0,
      "outputs": []
    }
  ]
}