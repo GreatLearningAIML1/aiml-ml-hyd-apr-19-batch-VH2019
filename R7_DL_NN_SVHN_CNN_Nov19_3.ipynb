{
 "cells": [
  {
   "cell_type": "markdown",
   "metadata": {
    "colab_type": "text",
    "id": "zzGejr8aocYP"
   },
   "source": [
    "The Street View House Numbers (SVHN) Dataset  \n",
    "  \n",
    "SVHN is a real-world image dataset for developing machine learning and object recognition algorithms with minimal requirement on data formatting but comes from a significantly harder, unsolved, real world problem (recognizing digits and numbers in natural scene images). SVHN is obtained from house numbers in Google Street View images.     \n",
    "\n",
    "  Overview    The images come in two formats as shown below.    Format 1 : Original images with character level bounding boxes.  \n",
    "  \n",
    "  <XXXXXXXXX>\n",
    "Format 2 : MNIST-like 32-by-32 images centered around a single character (many of the images do contain some distractors at the sides).  \n",
    "<XXXXXXXXXXXX>\n",
    "  \n",
    "  The goal of this project is to take an image from the SVHN dataset and determine what that digit is. This is a multi-class classification problem with 10 classes, one for each digit 0-9. Digit '1' has label 1, '9' has label 9 and '0' has label 10.     Although, there are close to 6,00,000 images in this dataset, we have extracted 60,000 images  (42000 training and 18000 test images) to do this project. The data comes in a MNIST-like format of 32-by-32 RGB images centred around a single digit (many of the images do contain some distractors at the sides).    \n"
   ]
  },
  {
   "cell_type": "code",
   "execution_count": 0,
   "metadata": {
    "colab": {},
    "colab_type": "code",
    "id": "28MDxFsBImL5"
   },
   "outputs": [],
   "source": [
    "a = []\n",
    "while(1):\n",
    "    a.append('1')"
   ]
  },
  {
   "cell_type": "code",
   "execution_count": 1,
   "metadata": {
    "colab": {
     "base_uri": "https://localhost:8080/",
     "height": 124
    },
    "colab_type": "code",
    "id": "wIJHUvv7oaaT",
    "outputId": "106d2bb4-86da-4002-c2ba-c35570757411"
   },
   "outputs": [
    {
     "name": "stdout",
     "output_type": "stream",
     "text": [
      "Go to this URL in a browser: https://accounts.google.com/o/oauth2/auth?client_id=947318989803-6bn6qk8qdgf4n4g3pfee6491hc0brc4i.apps.googleusercontent.com&redirect_uri=urn%3aietf%3awg%3aoauth%3a2.0%3aoob&response_type=code&scope=email%20https%3a%2f%2fwww.googleapis.com%2fauth%2fdocs.test%20https%3a%2f%2fwww.googleapis.com%2fauth%2fdrive%20https%3a%2f%2fwww.googleapis.com%2fauth%2fdrive.photos.readonly%20https%3a%2f%2fwww.googleapis.com%2fauth%2fpeopleapi.readonly\n",
      "\n",
      "Enter your authorization code:\n",
      "··········\n",
      "Mounted at /content/gdrive\n"
     ]
    }
   ],
   "source": [
    "from google.colab import drive\n",
    "drive.mount('/content/gdrive')"
   ]
  },
  {
   "cell_type": "code",
   "execution_count": 0,
   "metadata": {
    "colab": {},
    "colab_type": "code",
    "id": "kvB6P2C4ogMv"
   },
   "outputs": [],
   "source": [
    "#from google.colab import drive\n",
    "#drive.mount('/content/gdrive')\n",
    "\n",
    "root_path = '/content/gdrive/My Drive/AIML/SVHN/'  #change dir to your project folder"
   ]
  },
  {
   "cell_type": "code",
   "execution_count": 3,
   "metadata": {
    "colab": {
     "base_uri": "https://localhost:8080/",
     "height": 34
    },
    "colab_type": "code",
    "id": "1mspf3t2ozuf",
    "outputId": "df29737b-7317-4d11-e881-29d3b51e5478"
   },
   "outputs": [
    {
     "name": "stdout",
     "output_type": "stream",
     "text": [
      "\u001b[0m\u001b[01;34mgdrive\u001b[0m/  \u001b[01;34msample_data\u001b[0m/\n"
     ]
    }
   ],
   "source": [
    "ls"
   ]
  },
  {
   "cell_type": "code",
   "execution_count": 4,
   "metadata": {
    "colab": {
     "base_uri": "https://localhost:8080/",
     "height": 34
    },
    "colab_type": "code",
    "id": "PwiP_Fb5o22x",
    "outputId": "3994f6bf-d847-41c6-923a-2cd9676f4065"
   },
   "outputs": [
    {
     "name": "stderr",
     "output_type": "stream",
     "text": [
      "Using TensorFlow backend.\n"
     ]
    }
   ],
   "source": [
    "import os\n",
    "import time\n",
    "from __future__ import absolute_import\n",
    "from __future__ import print_function\n",
    "from datetime import timedelta\n",
    "import h5py\n",
    "import numpy as np\n",
    "import tensorflow as tf\n",
    "import matplotlib.pyplot as plt\n",
    "import seaborn as sns\n",
    "import keras\n",
    "\n",
    "%matplotlib inline\n",
    "plt.rcParams['figure.figsize'] = (16.0, 4.0) # Set default figure size"
   ]
  },
  {
   "cell_type": "code",
   "execution_count": 0,
   "metadata": {
    "colab": {},
    "colab_type": "code",
    "id": "9DzO2XRDo4Ps"
   },
   "outputs": [],
   "source": [
    "TENSORBOARD_SUMMARIES_DIR = '/tmp/svhn_classifier_logs'"
   ]
  },
  {
   "cell_type": "markdown",
   "metadata": {
    "colab_type": "text",
    "id": "SsEExcgEqE0V"
   },
   "source": [
    "<h3>Load SVHN dataset from a h5 file</h3>"
   ]
  },
  {
   "cell_type": "code",
   "execution_count": 0,
   "metadata": {
    "colab": {},
    "colab_type": "code",
    "id": "twh6LUaGo4SU"
   },
   "outputs": [],
   "source": [
    "# Open the file as read only\n",
    "hdf = h5py.File('/content/gdrive/My Drive/AIML/SVHN/SVHN_single_grey1.h5', 'r')\n",
    "\n",
    "# Load the training and test set\n",
    "\n",
    "X_train=hdf['X_train'][:]\n",
    "y_train=hdf['y_train'][:]\n",
    "X_test=hdf['X_test'][:]\n",
    "y_test=hdf['y_test'][:]\n",
    "\n",
    "# Close this file\n",
    "hdf.close()\n"
   ]
  },
  {
   "cell_type": "code",
   "execution_count": 7,
   "metadata": {
    "colab": {
     "base_uri": "https://localhost:8080/",
     "height": 86
    },
    "colab_type": "code",
    "id": "3mQ_mBSko4Uz",
    "outputId": "c4338c51-3bf7-4c7c-a21a-3b9ec7b14f94"
   },
   "outputs": [
    {
     "name": "stdout",
     "output_type": "stream",
     "text": [
      "(42000, 32, 32)\n",
      "(42000,)\n",
      "(18000, 32, 32)\n",
      "(18000,)\n"
     ]
    }
   ],
   "source": [
    "print(X_train.shape)\n",
    "print(y_train.shape)\n",
    "print(X_test.shape)\n",
    "print(y_test.shape)"
   ]
  },
  {
   "cell_type": "code",
   "execution_count": 8,
   "metadata": {
    "colab": {
     "base_uri": "https://localhost:8080/",
     "height": 34
    },
    "colab_type": "code",
    "id": "MRCPil9Ao4Xj",
    "outputId": "332824e0-4523-4649-b018-a143c1758d82"
   },
   "outputs": [
    {
     "name": "stdout",
     "output_type": "stream",
     "text": [
      "float32\n"
     ]
    }
   ],
   "source": [
    "print(X_train.dtype)"
   ]
  },
  {
   "cell_type": "code",
   "execution_count": 9,
   "metadata": {
    "colab": {
     "base_uri": "https://localhost:8080/",
     "height": 136
    },
    "colab_type": "code",
    "id": "vzn71mgRpJMp",
    "outputId": "f6053b86-429d-4e37-9efe-8d7a1d11806c"
   },
   "outputs": [
    {
     "data": {
      "image/png": "[encoded data removed]",
      "text/plain": [
       "<Figure size 720x720 with 20 Axes>"
      ]
     },
     "metadata": {
      "tags": []
     },
     "output_type": "display_data"
    }
   ],
   "source": [
    "#Visualize Dataset - Sample House Numbers from training dataset\n",
    "fig = plt.figure(figsize=(10,10))\n",
    "for i in range(20):\n",
    "  plt.subplot(10,10,i+1)\n",
    "  plt.xticks([])\n",
    "  plt.yticks([])\n",
    "  plt.grid(False)\n",
    "  plt.imshow(X_train[i])"
   ]
  },
  {
   "cell_type": "markdown",
   "metadata": {
    "colab_type": "text",
    "id": "4oT2W6kbqZeZ"
   },
   "source": [
    "Resize train and test dataset ( from 32X32 to 1024)"
   ]
  },
  {
   "cell_type": "code",
   "execution_count": 0,
   "metadata": {
    "colab": {},
    "colab_type": "code",
    "id": "emAMZ8pKUSMi"
   },
   "outputs": [],
   "source": [
    "# Convert the (32*32) vector into one  dimensional vector of 1 * 1024\n",
    "X_train = X_train.reshape(X_train.shape[0], X_train.shape[1]*X_train.shape[2]) \n",
    "X_test = X_test.reshape(X_test.shape[0], X_test.shape[1]*X_test.shape[2])"
   ]
  },
  {
   "cell_type": "code",
   "execution_count": 0,
   "metadata": {
    "colab": {},
    "colab_type": "code",
    "id": "VgE5mhVSUSP2"
   },
   "outputs": [],
   "source": [
    "from sklearn.preprocessing import StandardScaler\n",
    "std=StandardScaler()\n",
    "X_train=std.fit_transform(X_train)\n",
    "X_test=std.transform(X_test)"
   ]
  },
  {
   "cell_type": "code",
   "execution_count": 12,
   "metadata": {
    "colab": {
     "base_uri": "https://localhost:8080/",
     "height": 86
    },
    "colab_type": "code",
    "id": "yPn03oVOU0kK",
    "outputId": "9977cbb7-eda6-4654-bed3-b01033c717cc"
   },
   "outputs": [
    {
     "name": "stdout",
     "output_type": "stream",
     "text": [
      "(42000, 1024)\n",
      "(42000,)\n",
      "(18000, 1024)\n",
      "(18000,)\n"
     ]
    }
   ],
   "source": [
    "print(X_train.shape)\n",
    "print(y_train.shape)\n",
    "print(X_test.shape)\n",
    "print(y_test.shape)"
   ]
  },
  {
   "cell_type": "markdown",
   "metadata": {
    "colab_type": "text",
    "id": "CJXc2Qa9Pcx2"
   },
   "source": [
    "##KNN CLASSIFIER"
   ]
  },
  {
   "cell_type": "code",
   "execution_count": 0,
   "metadata": {
    "colab": {},
    "colab_type": "code",
    "id": "cLTKlKsCQGe6"
   },
   "outputs": [],
   "source": [
    "from sklearn.neighbors import KNeighborsClassifier\n",
    "from sklearn.model_selection import GridSearchCV\n",
    "from sklearn.metrics import accuracy_score, f1_score,confusion_matrix\n",
    "from sklearn.metrics import classification_report\n"
   ]
  },
  {
   "cell_type": "code",
   "execution_count": 0,
   "metadata": {
    "colab": {},
    "colab_type": "code",
    "id": "Quioi73iQGex"
   },
   "outputs": [],
   "source": [
    "#Optimum K =  sqrt(N)/2 where N is the number of samples.\n",
    "#Here we have 42000 samples and hence K = sqrt(42000)/2 = 103\n",
    "k = [103]\n",
    "knn = KNeighborsClassifier(weights = 'uniform', metric='euclidean', n_jobs = -1)\n",
    "parameters = {'n_neighbors' : k}\n",
    "GS = GridSearchCV(knn, parameters, scoring = 'accuracy', cv=3)"
   ]
  },
  {
   "cell_type": "code",
   "execution_count": 15,
   "metadata": {
    "colab": {
     "base_uri": "https://localhost:8080/",
     "height": 173
    },
    "colab_type": "code",
    "id": "33wMuDKRQGet",
    "outputId": "a385ecfe-f262-447d-8cc8-38a16df83674"
   },
   "outputs": [
    {
     "data": {
      "text/plain": [
       "GridSearchCV(cv=3, error_score='raise-deprecating',\n",
       "             estimator=KNeighborsClassifier(algorithm='auto', leaf_size=30,\n",
       "                                            metric='euclidean',\n",
       "                                            metric_params=None, n_jobs=-1,\n",
       "                                            n_neighbors=5, p=2,\n",
       "                                            weights='uniform'),\n",
       "             iid='warn', n_jobs=None, param_grid={'n_neighbors': [103]},\n",
       "             pre_dispatch='2*n_jobs', refit=True, return_train_score=False,\n",
       "             scoring='accuracy', verbose=0)"
      ]
     },
     "execution_count": 15,
     "metadata": {
      "tags": []
     },
     "output_type": "execute_result"
    }
   ],
   "source": [
    "GS.fit(X_train, y_train)"
   ]
  },
  {
   "cell_type": "code",
   "execution_count": 16,
   "metadata": {
    "colab": {
     "base_uri": "https://localhost:8080/",
     "height": 276
    },
    "colab_type": "code",
    "id": "_XxXpHr4Vgm7",
    "outputId": "e2462202-b2aa-4f47-bdfc-1f1986490057"
   },
   "outputs": [
    {
     "data": {
      "text/plain": [
       "{'mean_fit_time': array([3.25187389]),\n",
       " 'mean_score_time': array([54.05851992]),\n",
       " 'mean_test_score': array([0.50166667]),\n",
       " 'param_n_neighbors': masked_array(data=[103],\n",
       "              mask=[False],\n",
       "        fill_value='?',\n",
       "             dtype=object),\n",
       " 'params': [{'n_neighbors': 103}],\n",
       " 'rank_test_score': array([1], dtype=int32),\n",
       " 'split0_test_score': array([0.51081911]),\n",
       " 'split1_test_score': array([0.49485714]),\n",
       " 'split2_test_score': array([0.49932128]),\n",
       " 'std_fit_time': array([0.01702992]),\n",
       " 'std_score_time': array([0.51118117]),\n",
       " 'std_test_score': array([0.00672444])}"
      ]
     },
     "execution_count": 16,
     "metadata": {
      "tags": []
     },
     "output_type": "execute_result"
    }
   ],
   "source": [
    "GS.cv_results_"
   ]
  },
  {
   "cell_type": "code",
   "execution_count": 17,
   "metadata": {
    "colab": {
     "base_uri": "https://localhost:8080/",
     "height": 69
    },
    "colab_type": "code",
    "id": "upzlIxcSQP_g",
    "outputId": "df128c1f-b479-4b68-8ad2-285bd5203955"
   },
   "outputs": [
    {
     "data": {
      "text/plain": [
       "KNeighborsClassifier(algorithm='auto', leaf_size=30, metric='euclidean',\n",
       "                     metric_params=None, n_jobs=-1, n_neighbors=103, p=2,\n",
       "                     weights='uniform')"
      ]
     },
     "execution_count": 17,
     "metadata": {
      "tags": []
     },
     "output_type": "execute_result"
    }
   ],
   "source": [
    "GS.best_estimator_"
   ]
  },
  {
   "cell_type": "code",
   "execution_count": 18,
   "metadata": {
    "colab": {
     "base_uri": "https://localhost:8080/",
     "height": 69
    },
    "colab_type": "code",
    "id": "C-CCSFjVQQCg",
    "outputId": "9f8c847a-a06f-4fc2-8023-53ce0d046164"
   },
   "outputs": [
    {
     "data": {
      "text/plain": [
       "KNeighborsClassifier(algorithm='auto', leaf_size=30, metric='euclidean',\n",
       "                     metric_params=None, n_jobs=-1, n_neighbors=103, p=2,\n",
       "                     weights='uniform')"
      ]
     },
     "execution_count": 18,
     "metadata": {
      "tags": []
     },
     "output_type": "execute_result"
    }
   ],
   "source": [
    "model=GS.best_estimator_\n",
    "model.fit(X_train,y_train)"
   ]
  },
  {
   "cell_type": "code",
   "execution_count": 0,
   "metadata": {
    "colab": {},
    "colab_type": "code",
    "id": "Jr1fmpD7VokP"
   },
   "outputs": [],
   "source": [
    "y_pred=model.predict(X_test)"
   ]
  },
  {
   "cell_type": "code",
   "execution_count": 24,
   "metadata": {
    "colab": {
     "base_uri": "https://localhost:8080/",
     "height": 34
    },
    "colab_type": "code",
    "id": "S-78n7f4VonN",
    "outputId": "1f3f0adb-b4aa-4357-c24a-f007456d280c"
   },
   "outputs": [
    {
     "data": {
      "text/plain": [
       "0.5407222222222222"
      ]
     },
     "execution_count": 24,
     "metadata": {
      "tags": []
     },
     "output_type": "execute_result"
    }
   ],
   "source": [
    "accuracy_score(y_test,y_pred)"
   ]
  },
  {
   "cell_type": "code",
   "execution_count": 29,
   "metadata": {
    "colab": {
     "base_uri": "https://localhost:8080/",
     "height": 553
    },
    "colab_type": "code",
    "id": "oMVNbfU4C-ey",
    "outputId": "c34f1ff8-3314-4819-d20c-b1dc9181b611"
   },
   "outputs": [
    {
     "name": "stdout",
     "output_type": "stream",
     "text": [
      "Accuracy score  0.54 \n",
      "F1 score is  0.54\n",
      "Classification report\n",
      "              precision    recall  f1-score   support\n",
      "\n",
      "           0       0.43      0.72      0.54      1814\n",
      "           1       0.45      0.74      0.56      1828\n",
      "           2       0.67      0.52      0.59      1803\n",
      "           3       0.51      0.43      0.47      1719\n",
      "           4       0.65      0.65      0.65      1812\n",
      "           5       0.56      0.42      0.48      1768\n",
      "           6       0.54      0.41      0.47      1832\n",
      "           7       0.69      0.62      0.65      1808\n",
      "           8       0.52      0.40      0.45      1812\n",
      "           9       0.54      0.47      0.50      1804\n",
      "\n",
      "    accuracy                           0.54     18000\n",
      "   macro avg       0.56      0.54      0.54     18000\n",
      "weighted avg       0.56      0.54      0.54     18000\n",
      "\n",
      "Confusion matrix \n",
      "[[1313   82   22   38   48   29   85   36   56  105]\n",
      " [ 117 1351   52   64   66   28   41   56   28   25]\n",
      " [ 102  232  938   65   64   45   30  160   60  107]\n",
      " [ 128  290   85  746   45  146   38   77   95   69]\n",
      " [ 126  245   40   53 1184   19   54   15   27   49]\n",
      " [ 185  164   42  208   57  743  126   41  108   94]\n",
      " [ 365  149   28   56  152   83  758   23  157   61]\n",
      " [ 121  189   96   68   34   31   47 1130   32   60]\n",
      " [ 273  136   49   89  102   95  180   22  721  145]\n",
      " [ 300  164   38   64   66   98   48   85   92  849]]\n"
     ]
    }
   ],
   "source": [
    "print(\"Accuracy score %5.2f \" %(accuracy_score(y_true=y_test, y_pred=y_pred)))\n",
    "print(\"F1 score is %5.2f\" %(f1_score(y_true=y_test, y_pred=y_pred, average='weighted')))\n",
    "print(\"Classification report\")\n",
    "print(classification_report(y_test, y_pred))\n",
    "print(\"Confusion matrix \")\n",
    "print(confusion_matrix(y_test, y_pred))"
   ]
  },
  {
   "cell_type": "code",
   "execution_count": 30,
   "metadata": {
    "colab": {
     "base_uri": "https://localhost:8080/",
     "height": 190
    },
    "colab_type": "code",
    "id": "DobBR85IVoqB",
    "outputId": "779cf5f9-789f-4987-a0f3-2de826011ad0"
   },
   "outputs": [
    {
     "data": {
      "text/plain": [
       "array([[1313,   82,   22,   38,   48,   29,   85,   36,   56,  105],\n",
       "       [ 117, 1351,   52,   64,   66,   28,   41,   56,   28,   25],\n",
       "       [ 102,  232,  938,   65,   64,   45,   30,  160,   60,  107],\n",
       "       [ 128,  290,   85,  746,   45,  146,   38,   77,   95,   69],\n",
       "       [ 126,  245,   40,   53, 1184,   19,   54,   15,   27,   49],\n",
       "       [ 185,  164,   42,  208,   57,  743,  126,   41,  108,   94],\n",
       "       [ 365,  149,   28,   56,  152,   83,  758,   23,  157,   61],\n",
       "       [ 121,  189,   96,   68,   34,   31,   47, 1130,   32,   60],\n",
       "       [ 273,  136,   49,   89,  102,   95,  180,   22,  721,  145],\n",
       "       [ 300,  164,   38,   64,   66,   98,   48,   85,   92,  849]])"
      ]
     },
     "execution_count": 30,
     "metadata": {
      "tags": []
     },
     "output_type": "execute_result"
    }
   ],
   "source": [
    "from sklearn.metrics import confusion_matrix\n",
    "confusion_matrix(y_test,y_pred)"
   ]
  },
  {
   "cell_type": "markdown",
   "metadata": {
    "colab_type": "text",
    "id": "-3n1CEG_V97V"
   },
   "source": [
    "## Model Build-Neural Network \n",
    "### RELU Activation with 2 hidden layers and Batch Normalization"
   ]
  },
  {
   "cell_type": "code",
   "execution_count": 0,
   "metadata": {
    "colab": {},
    "colab_type": "code",
    "id": "_0w8JmmUV9C2"
   },
   "outputs": [],
   "source": [
    "from keras.models import Sequential \n",
    "from keras.layers import Dense, Activation,Dropout, Flatten\n",
    "from keras.initializers import he_normal\n",
    "from keras.layers.normalization import BatchNormalization\n",
    "from sklearn.metrics import accuracy_score, classification_report, f1_score, confusion_matrix\n",
    "from keras.layers import Conv2D, MaxPooling2D"
   ]
  },
  {
   "cell_type": "code",
   "execution_count": 0,
   "metadata": {
    "colab": {},
    "colab_type": "code",
    "id": "-ERHRqnYV9Fp"
   },
   "outputs": [],
   "source": [
    "import keras\n",
    "y_train = keras.utils.to_categorical(y_train, 10)\n",
    "y_test = keras.utils.to_categorical(y_test, 10)"
   ]
  },
  {
   "cell_type": "code",
   "execution_count": 33,
   "metadata": {
    "colab": {
     "base_uri": "https://localhost:8080/",
     "height": 521
    },
    "colab_type": "code",
    "id": "z7sdZP7iV9Ib",
    "outputId": "0fe3e8ec-5e99-4b0b-b9c0-88f02097b4bc"
   },
   "outputs": [
    {
     "name": "stdout",
     "output_type": "stream",
     "text": [
      "WARNING:tensorflow:From /usr/local/lib/python3.6/dist-packages/keras/backend/tensorflow_backend.py:66: The name tf.get_default_graph is deprecated. Please use tf.compat.v1.get_default_graph instead.\n",
      "\n",
      "WARNING:tensorflow:From /usr/local/lib/python3.6/dist-packages/keras/backend/tensorflow_backend.py:541: The name tf.placeholder is deprecated. Please use tf.compat.v1.placeholder instead.\n",
      "\n",
      "WARNING:tensorflow:From /usr/local/lib/python3.6/dist-packages/keras/backend/tensorflow_backend.py:4479: The name tf.truncated_normal is deprecated. Please use tf.random.truncated_normal instead.\n",
      "\n",
      "WARNING:tensorflow:From /usr/local/lib/python3.6/dist-packages/keras/backend/tensorflow_backend.py:148: The name tf.placeholder_with_default is deprecated. Please use tf.compat.v1.placeholder_with_default instead.\n",
      "\n",
      "WARNING:tensorflow:From /usr/local/lib/python3.6/dist-packages/keras/backend/tensorflow_backend.py:4432: The name tf.random_uniform is deprecated. Please use tf.random.uniform instead.\n",
      "\n",
      "Model: \"sequential_1\"\n",
      "_________________________________________________________________\n",
      "Layer (type)                 Output Shape              Param #   \n",
      "=================================================================\n",
      "dense_1 (Dense)              (None, 128)               131200    \n",
      "_________________________________________________________________\n",
      "batch_normalization_1 (Batch (None, 128)               512       \n",
      "_________________________________________________________________\n",
      "dense_2 (Dense)              (None, 64)                8256      \n",
      "_________________________________________________________________\n",
      "batch_normalization_2 (Batch (None, 64)                256       \n",
      "_________________________________________________________________\n",
      "dense_3 (Dense)              (None, 10)                650       \n",
      "=================================================================\n",
      "Total params: 140,874\n",
      "Trainable params: 140,490\n",
      "Non-trainable params: 384\n",
      "_________________________________________________________________\n"
     ]
    }
   ],
   "source": [
    "\n",
    "model_batch = Sequential()\n",
    "model_batch.add(Dense(128, activation='relu',input_shape=(1024,),kernel_initializer=he_normal(seed=None)))\n",
    "model_batch.add(BatchNormalization())\n",
    "model_batch.add(Dense(64, activation='relu',kernel_initializer=he_normal(seed=None)) )\n",
    "model_batch.add(BatchNormalization())\n",
    "model_batch.add(Dense(10, activation='softmax'))\n",
    "model_batch.summary()"
   ]
  },
  {
   "cell_type": "code",
   "execution_count": 34,
   "metadata": {
    "colab": {
     "base_uri": "https://localhost:8080/",
     "height": 1000
    },
    "colab_type": "code",
    "id": "dgnsrhk0WlWA",
    "outputId": "f0fb6baa-a9da-4618-8846-40210b30d31c"
   },
   "outputs": [
    {
     "name": "stdout",
     "output_type": "stream",
     "text": [
      "WARNING:tensorflow:From /usr/local/lib/python3.6/dist-packages/keras/optimizers.py:793: The name tf.train.Optimizer is deprecated. Please use tf.compat.v1.train.Optimizer instead.\n",
      "\n",
      "WARNING:tensorflow:From /usr/local/lib/python3.6/dist-packages/keras/backend/tensorflow_backend.py:3576: The name tf.log is deprecated. Please use tf.math.log instead.\n",
      "\n",
      "WARNING:tensorflow:From /usr/local/lib/python3.6/dist-packages/tensorflow_core/python/ops/math_grad.py:1424: where (from tensorflow.python.ops.array_ops) is deprecated and will be removed in a future version.\n",
      "Instructions for updating:\n",
      "Use tf.where in 2.0, which has the same broadcast rule as np.where\n",
      "WARNING:tensorflow:From /usr/local/lib/python3.6/dist-packages/keras/backend/tensorflow_backend.py:1033: The name tf.assign_add is deprecated. Please use tf.compat.v1.assign_add instead.\n",
      "\n",
      "WARNING:tensorflow:From /usr/local/lib/python3.6/dist-packages/keras/backend/tensorflow_backend.py:1020: The name tf.assign is deprecated. Please use tf.compat.v1.assign instead.\n",
      "\n",
      "WARNING:tensorflow:From /usr/local/lib/python3.6/dist-packages/keras/backend/tensorflow_backend.py:3005: The name tf.Session is deprecated. Please use tf.compat.v1.Session instead.\n",
      "\n",
      "Train on 42000 samples, validate on 18000 samples\n",
      "Epoch 1/50\n",
      "WARNING:tensorflow:From /usr/local/lib/python3.6/dist-packages/keras/backend/tensorflow_backend.py:190: The name tf.get_default_session is deprecated. Please use tf.compat.v1.get_default_session instead.\n",
      "\n",
      "WARNING:tensorflow:From /usr/local/lib/python3.6/dist-packages/keras/backend/tensorflow_backend.py:197: The name tf.ConfigProto is deprecated. Please use tf.compat.v1.ConfigProto instead.\n",
      "\n",
      "WARNING:tensorflow:From /usr/local/lib/python3.6/dist-packages/keras/backend/tensorflow_backend.py:207: The name tf.global_variables is deprecated. Please use tf.compat.v1.global_variables instead.\n",
      "\n",
      "WARNING:tensorflow:From /usr/local/lib/python3.6/dist-packages/keras/backend/tensorflow_backend.py:216: The name tf.is_variable_initialized is deprecated. Please use tf.compat.v1.is_variable_initialized instead.\n",
      "\n",
      "WARNING:tensorflow:From /usr/local/lib/python3.6/dist-packages/keras/backend/tensorflow_backend.py:223: The name tf.variables_initializer is deprecated. Please use tf.compat.v1.variables_initializer instead.\n",
      "\n",
      "42000/42000 [==============================] - 4s 95us/step - loss: 2.0319 - acc: 0.3075 - val_loss: 1.6864 - val_acc: 0.4404\n",
      "Epoch 2/50\n",
      "42000/42000 [==============================] - 2s 58us/step - loss: 1.4808 - acc: 0.5327 - val_loss: 1.3666 - val_acc: 0.5733\n",
      "Epoch 3/50\n",
      "42000/42000 [==============================] - 2s 58us/step - loss: 1.2421 - acc: 0.6225 - val_loss: 1.1938 - val_acc: 0.6335\n",
      "Epoch 4/50\n",
      "42000/42000 [==============================] - 2s 55us/step - loss: 1.0973 - acc: 0.6685 - val_loss: 1.0875 - val_acc: 0.6692\n",
      "Epoch 5/50\n",
      "42000/42000 [==============================] - 2s 54us/step - loss: 1.0023 - acc: 0.6967 - val_loss: 1.3234 - val_acc: 0.6011\n",
      "Epoch 6/50\n",
      "42000/42000 [==============================] - 2s 55us/step - loss: 0.9320 - acc: 0.7182 - val_loss: 0.9921 - val_acc: 0.6933\n",
      "Epoch 7/50\n",
      "42000/42000 [==============================] - 2s 57us/step - loss: 0.8769 - acc: 0.7326 - val_loss: 0.9689 - val_acc: 0.7009\n",
      "Epoch 8/50\n",
      "42000/42000 [==============================] - 2s 56us/step - loss: 0.8313 - acc: 0.7492 - val_loss: 0.9004 - val_acc: 0.7258\n",
      "Epoch 9/50\n",
      "42000/42000 [==============================] - 2s 55us/step - loss: 0.7932 - acc: 0.7584 - val_loss: 0.8992 - val_acc: 0.7268\n",
      "Epoch 10/50\n",
      "42000/42000 [==============================] - 2s 56us/step - loss: 0.7635 - acc: 0.7669 - val_loss: 1.2872 - val_acc: 0.6463\n",
      "Epoch 11/50\n",
      "42000/42000 [==============================] - 2s 55us/step - loss: 0.7355 - acc: 0.7742 - val_loss: 1.0143 - val_acc: 0.6921\n",
      "Epoch 12/50\n",
      "42000/42000 [==============================] - 2s 56us/step - loss: 0.7022 - acc: 0.7854 - val_loss: 0.8352 - val_acc: 0.7464\n",
      "Epoch 13/50\n",
      "42000/42000 [==============================] - 2s 55us/step - loss: 0.6808 - acc: 0.7917 - val_loss: 1.2367 - val_acc: 0.6566\n",
      "Epoch 14/50\n",
      "42000/42000 [==============================] - 2s 55us/step - loss: 0.6670 - acc: 0.7947 - val_loss: 0.7921 - val_acc: 0.7594\n",
      "Epoch 15/50\n",
      "42000/42000 [==============================] - 2s 57us/step - loss: 0.6489 - acc: 0.8024 - val_loss: 0.8693 - val_acc: 0.7362\n",
      "Epoch 16/50\n",
      "42000/42000 [==============================] - 2s 59us/step - loss: 0.6219 - acc: 0.8086 - val_loss: 0.7896 - val_acc: 0.7612\n",
      "Epoch 17/50\n",
      "42000/42000 [==============================] - 2s 58us/step - loss: 0.6145 - acc: 0.8119 - val_loss: 0.8848 - val_acc: 0.7303\n",
      "Epoch 18/50\n",
      "42000/42000 [==============================] - 2s 57us/step - loss: 0.5979 - acc: 0.8152 - val_loss: 1.3847 - val_acc: 0.6394\n",
      "Epoch 19/50\n",
      "42000/42000 [==============================] - 2s 55us/step - loss: 0.5939 - acc: 0.8165 - val_loss: 1.3888 - val_acc: 0.6433\n",
      "Epoch 20/50\n",
      "42000/42000 [==============================] - 2s 51us/step - loss: 0.5811 - acc: 0.8208 - val_loss: 0.9015 - val_acc: 0.7367\n",
      "Epoch 21/50\n",
      "42000/42000 [==============================] - 2s 57us/step - loss: 0.5592 - acc: 0.8261 - val_loss: 1.0880 - val_acc: 0.6950\n",
      "Epoch 22/50\n",
      "42000/42000 [==============================] - 2s 55us/step - loss: 0.5503 - acc: 0.8309 - val_loss: 2.0779 - val_acc: 0.5634\n",
      "Epoch 23/50\n",
      "42000/42000 [==============================] - 2s 55us/step - loss: 0.5534 - acc: 0.8292 - val_loss: 0.7935 - val_acc: 0.7653\n",
      "Epoch 24/50\n",
      "42000/42000 [==============================] - 2s 57us/step - loss: 0.5308 - acc: 0.8364 - val_loss: 0.7907 - val_acc: 0.7636\n",
      "Epoch 25/50\n",
      "42000/42000 [==============================] - 2s 52us/step - loss: 0.5228 - acc: 0.8390 - val_loss: 0.9398 - val_acc: 0.7303\n",
      "Epoch 26/50\n",
      "42000/42000 [==============================] - 2s 53us/step - loss: 0.5193 - acc: 0.8383 - val_loss: 0.6701 - val_acc: 0.8008\n",
      "Epoch 27/50\n",
      "42000/42000 [==============================] - 2s 56us/step - loss: 0.5086 - acc: 0.8442 - val_loss: 0.8613 - val_acc: 0.7458\n",
      "Epoch 28/50\n",
      "42000/42000 [==============================] - 2s 55us/step - loss: 0.5017 - acc: 0.8452 - val_loss: 0.7826 - val_acc: 0.7642\n",
      "Epoch 29/50\n",
      "42000/42000 [==============================] - 2s 55us/step - loss: 0.4914 - acc: 0.8473 - val_loss: 0.8620 - val_acc: 0.7496\n",
      "Epoch 30/50\n",
      "42000/42000 [==============================] - 2s 57us/step - loss: 0.4874 - acc: 0.8489 - val_loss: 1.0832 - val_acc: 0.7148\n",
      "Epoch 31/50\n",
      "42000/42000 [==============================] - 2s 55us/step - loss: 0.4806 - acc: 0.8520 - val_loss: 1.1643 - val_acc: 0.7071\n",
      "Epoch 32/50\n",
      "42000/42000 [==============================] - 2s 53us/step - loss: 0.4731 - acc: 0.8519 - val_loss: 1.6387 - val_acc: 0.6352\n",
      "Epoch 33/50\n",
      "42000/42000 [==============================] - 2s 54us/step - loss: 0.4721 - acc: 0.8530 - val_loss: 1.2359 - val_acc: 0.6913\n",
      "Epoch 34/50\n",
      "42000/42000 [==============================] - 2s 56us/step - loss: 0.4658 - acc: 0.8565 - val_loss: 0.8253 - val_acc: 0.7678\n",
      "Epoch 35/50\n",
      "42000/42000 [==============================] - 2s 57us/step - loss: 0.4528 - acc: 0.8593 - val_loss: 0.7072 - val_acc: 0.7922\n",
      "Epoch 36/50\n",
      "42000/42000 [==============================] - 2s 56us/step - loss: 0.4489 - acc: 0.8596 - val_loss: 1.4595 - val_acc: 0.6561\n",
      "Epoch 37/50\n",
      "42000/42000 [==============================] - 2s 54us/step - loss: 0.4480 - acc: 0.8603 - val_loss: 0.9120 - val_acc: 0.7512\n",
      "Epoch 38/50\n",
      "42000/42000 [==============================] - 2s 55us/step - loss: 0.4416 - acc: 0.8621 - val_loss: 0.8267 - val_acc: 0.7692\n",
      "Epoch 39/50\n",
      "42000/42000 [==============================] - 2s 57us/step - loss: 0.4376 - acc: 0.8660 - val_loss: 0.7614 - val_acc: 0.7832\n",
      "Epoch 40/50\n",
      "42000/42000 [==============================] - 2s 57us/step - loss: 0.4279 - acc: 0.8681 - val_loss: 0.7360 - val_acc: 0.7916\n",
      "Epoch 41/50\n",
      "42000/42000 [==============================] - 2s 56us/step - loss: 0.4205 - acc: 0.8702 - val_loss: 0.6978 - val_acc: 0.7979\n",
      "Epoch 42/50\n",
      "42000/42000 [==============================] - 2s 56us/step - loss: 0.4184 - acc: 0.8707 - val_loss: 0.6456 - val_acc: 0.8137\n",
      "Epoch 43/50\n",
      "42000/42000 [==============================] - 2s 56us/step - loss: 0.4143 - acc: 0.8711 - val_loss: 0.8119 - val_acc: 0.7705\n",
      "Epoch 44/50\n",
      "42000/42000 [==============================] - 2s 58us/step - loss: 0.4167 - acc: 0.8705 - val_loss: 1.0511 - val_acc: 0.7274\n",
      "Epoch 45/50\n",
      "42000/42000 [==============================] - 2s 55us/step - loss: 0.4094 - acc: 0.8722 - val_loss: 0.7730 - val_acc: 0.7768\n",
      "Epoch 46/50\n",
      "42000/42000 [==============================] - 2s 55us/step - loss: 0.4054 - acc: 0.8733 - val_loss: 1.1488 - val_acc: 0.7127\n",
      "Epoch 47/50\n",
      "42000/42000 [==============================] - 2s 53us/step - loss: 0.4039 - acc: 0.8739 - val_loss: 1.0448 - val_acc: 0.7410\n",
      "Epoch 48/50\n",
      "42000/42000 [==============================] - 2s 54us/step - loss: 0.4038 - acc: 0.8740 - val_loss: 0.6549 - val_acc: 0.8072\n",
      "Epoch 49/50\n",
      "42000/42000 [==============================] - 2s 56us/step - loss: 0.3912 - acc: 0.8781 - val_loss: 0.6132 - val_acc: 0.8231\n",
      "Epoch 50/50\n",
      "42000/42000 [==============================] - 2s 58us/step - loss: 0.3841 - acc: 0.8803 - val_loss: 0.6441 - val_acc: 0.8137\n"
     ]
    }
   ],
   "source": [
    "\n",
    "model_batch.compile(optimizer='SGD', loss='categorical_crossentropy', metrics=['accuracy'])\n",
    "\n",
    "history12 = model_batch.fit(X_train, y_train, \n",
    "                           batch_size=128,\n",
    "                           epochs=50, verbose=1, \n",
    "                           validation_data=(X_test, y_test))"
   ]
  },
  {
   "cell_type": "code",
   "execution_count": 35,
   "metadata": {
    "colab": {
     "base_uri": "https://localhost:8080/",
     "height": 34
    },
    "colab_type": "code",
    "id": "NZFsPqOdWlZK",
    "outputId": "1649560f-e100-464e-ce93-d79f052d0cfa"
   },
   "outputs": [
    {
     "data": {
      "text/plain": [
       "0.8230555554495917"
      ]
     },
     "execution_count": 35,
     "metadata": {
      "tags": []
     },
     "output_type": "execute_result"
    }
   ],
   "source": [
    "\n",
    "max(history12.history[\"val_acc\"])"
   ]
  },
  {
   "cell_type": "code",
   "execution_count": 36,
   "metadata": {
    "colab": {
     "base_uri": "https://localhost:8080/",
     "height": 121
    },
    "colab_type": "code",
    "id": "caFrI_9ZWlb6",
    "outputId": "9cbb8867-3a10-4a47-ca71-f24efe4ab720"
   },
   "outputs": [
    {
     "name": "stdout",
     "output_type": "stream",
     "text": [
      "+--------+------------------+------------------+\n",
      "| INDEX. |    MODEL_NAME    | TESTING ACCURACY |\n",
      "+--------+------------------+------------------+\n",
      "|   1    |       KNN        |       54.7       |\n",
      "|   2    | Neural Net Model |       82.3       |\n",
      "+--------+------------------+------------------+\n"
     ]
    }
   ],
   "source": [
    "\n",
    "# Initializing prettytable\n",
    "from prettytable import PrettyTable\n",
    "Model_Performance = PrettyTable()\n",
    "# Adding columns\n",
    "Model_Performance.add_column(\"INDEX.\",[1,2])\n",
    "Model_Performance.add_column(\"MODEL_NAME\",[\"KNN\",\"Neural Net Model\"])\n",
    "Model_Performance.add_column(\"TESTING ACCURACY\",[54.7,82.3])\n",
    "\n",
    "# Printing the Model_Performance\n",
    "print(Model_Performance)"
   ]
  },
  {
   "cell_type": "code",
   "execution_count": 0,
   "metadata": {
    "colab": {},
    "colab_type": "code",
    "id": "-geb11oweLxF"
   },
   "outputs": [],
   "source": []
  }
 ],
 "metadata": {
  "accelerator": "TPU",
  "colab": {
   "collapsed_sections": [],
   "machine_shape": "hm",
   "name": "R7_DL_NN_SVHN_CNN_Nov19_1.ipynb",
   "provenance": [],
   "toc_visible": true
  },
  "kernelspec": {
   "display_name": "Python 3",
   "language": "python",
   "name": "python3"
  },
  "language_info": {
   "codemirror_mode": {
    "name": "ipython",
    "version": 3
   },
   "file_extension": ".py",
   "mimetype": "text/x-python",
   "name": "python",
   "nbconvert_exporter": "python",
   "pygments_lexer": "ipython3",
   "version": "3.7.3"
  }
 },
 "nbformat": 4,
 "nbformat_minor": 1
}
