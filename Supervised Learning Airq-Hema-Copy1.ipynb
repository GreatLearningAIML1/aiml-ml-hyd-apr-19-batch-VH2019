{
 "cells": [
  {
   "cell_type": "markdown",
   "metadata": {},
   "source": [
    "ASSIGNMENT\n",
    "==============\n",
    "Data Set - http://www.stat.ufl.edu/~winner/data/airq402.dat\n",
    "\n",
    "Data Description - http://www.stat.ufl.edu/~winner/data/airq402.txt\n",
    "\n",
    "Assignment Expectations/Steps -\n",
    "\n",
    "Import and store the data in a data frame. (2.5 points)\n",
    "Remove the outliers from the data (5 points)\n",
    "Treat “Average Fare” – 3rdColumn as your Dependent Variable and Rest of the columns as Independent Variable. (2.5 points)\n",
    "Drop the independent variables which has less than 0.1 correlation with the dependent variable (5 points)\n",
    "Create scatter Plot of Independent Variable vs Dependent Variable. (2.5 points)\n",
    "Divide the data set into training and test data set and build a Multiple Linear Regression model. (5 points)\n",
    "Print the coefficients & intercepts of the linear regression model (5 points)\n",
    "Print the accuracy of the overall model (2.5 points)\n",
    "Github link: \n",
    "\n",
    "Please Note:\n",
    "\n",
    "Total marks allotted for this assignment is 30.\n",
    "Assignment final submission should be a URL to your Github repository."
   ]
  },
  {
   "cell_type": "code",
   "execution_count": 1,
   "metadata": {},
   "outputs": [],
   "source": [
    "import numpy as np\n",
    "import pandas as pd\n",
    "import math\n",
    "import scipy.stats as stats \n",
    "from scipy.stats import ttest_1samp, ttest_ind, mannwhitneyu, levene, shapiro\n",
    "from sklearn.linear_model import LinearRegression\n",
    "import matplotlib.pyplot as plt   \n",
    "import seaborn as sns\n",
    "from statsmodels.stats.power import ttest_power\n",
    "import statsmodels.api as sm \n",
    "\n",
    "import os\n",
    "%matplotlib inline"
   ]
  },
  {
   "cell_type": "markdown",
   "metadata": {},
   "source": [
    "Import and store the data in a data frame. (2.5 points) "
   ]
  },
  {
   "cell_type": "code",
   "execution_count": 2,
   "metadata": {},
   "outputs": [
    {
     "data": {
      "text/html": [
       "<div>\n",
       "<style scoped>\n",
       "    .dataframe tbody tr th:only-of-type {\n",
       "        vertical-align: middle;\n",
       "    }\n",
       "\n",
       "    .dataframe tbody tr th {\n",
       "        vertical-align: top;\n",
       "    }\n",
       "\n",
       "    .dataframe thead th {\n",
       "        text-align: right;\n",
       "    }\n",
       "</style>\n",
       "<table border=\"1\" class=\"dataframe\">\n",
       "  <thead>\n",
       "    <tr style=\"text-align: right;\">\n",
       "      <th></th>\n",
       "      <th>0</th>\n",
       "      <th>1</th>\n",
       "      <th>2</th>\n",
       "      <th>3</th>\n",
       "      <th>4</th>\n",
       "      <th>5</th>\n",
       "      <th>6</th>\n",
       "      <th>7</th>\n",
       "      <th>8</th>\n",
       "      <th>9</th>\n",
       "      <th>10</th>\n",
       "    </tr>\n",
       "  </thead>\n",
       "  <tbody>\n",
       "    <tr>\n",
       "      <th>0</th>\n",
       "      <td>CAK</td>\n",
       "      <td>ATL</td>\n",
       "      <td>114.47</td>\n",
       "      <td>528</td>\n",
       "      <td>424.56</td>\n",
       "      <td>FL</td>\n",
       "      <td>70.19</td>\n",
       "      <td>111.03</td>\n",
       "      <td>FL</td>\n",
       "      <td>70.19</td>\n",
       "      <td>111.03</td>\n",
       "    </tr>\n",
       "    <tr>\n",
       "      <th>1</th>\n",
       "      <td>CAK</td>\n",
       "      <td>MCO</td>\n",
       "      <td>122.47</td>\n",
       "      <td>860</td>\n",
       "      <td>276.84</td>\n",
       "      <td>FL</td>\n",
       "      <td>75.10</td>\n",
       "      <td>123.09</td>\n",
       "      <td>DL</td>\n",
       "      <td>17.23</td>\n",
       "      <td>118.94</td>\n",
       "    </tr>\n",
       "    <tr>\n",
       "      <th>2</th>\n",
       "      <td>ALB</td>\n",
       "      <td>ATL</td>\n",
       "      <td>214.42</td>\n",
       "      <td>852</td>\n",
       "      <td>215.76</td>\n",
       "      <td>DL</td>\n",
       "      <td>78.89</td>\n",
       "      <td>223.98</td>\n",
       "      <td>CO</td>\n",
       "      <td>2.77</td>\n",
       "      <td>167.12</td>\n",
       "    </tr>\n",
       "    <tr>\n",
       "      <th>3</th>\n",
       "      <td>ALB</td>\n",
       "      <td>BWI</td>\n",
       "      <td>69.40</td>\n",
       "      <td>288</td>\n",
       "      <td>606.84</td>\n",
       "      <td>WN</td>\n",
       "      <td>96.97</td>\n",
       "      <td>68.86</td>\n",
       "      <td>WN</td>\n",
       "      <td>96.97</td>\n",
       "      <td>68.86</td>\n",
       "    </tr>\n",
       "    <tr>\n",
       "      <th>4</th>\n",
       "      <td>ALB</td>\n",
       "      <td>ORD</td>\n",
       "      <td>158.13</td>\n",
       "      <td>723</td>\n",
       "      <td>313.04</td>\n",
       "      <td>UA</td>\n",
       "      <td>39.79</td>\n",
       "      <td>161.36</td>\n",
       "      <td>WN</td>\n",
       "      <td>15.34</td>\n",
       "      <td>145.42</td>\n",
       "    </tr>\n",
       "    <tr>\n",
       "      <th>5</th>\n",
       "      <td>ALB</td>\n",
       "      <td>FLL</td>\n",
       "      <td>135.17</td>\n",
       "      <td>1204</td>\n",
       "      <td>199.02</td>\n",
       "      <td>WN</td>\n",
       "      <td>40.68</td>\n",
       "      <td>137.97</td>\n",
       "      <td>DL</td>\n",
       "      <td>17.09</td>\n",
       "      <td>127.69</td>\n",
       "    </tr>\n",
       "    <tr>\n",
       "      <th>6</th>\n",
       "      <td>ALB</td>\n",
       "      <td>LAS</td>\n",
       "      <td>152.85</td>\n",
       "      <td>2237</td>\n",
       "      <td>237.17</td>\n",
       "      <td>WN</td>\n",
       "      <td>59.94</td>\n",
       "      <td>148.59</td>\n",
       "      <td>WN</td>\n",
       "      <td>59.94</td>\n",
       "      <td>148.59</td>\n",
       "    </tr>\n",
       "    <tr>\n",
       "      <th>7</th>\n",
       "      <td>ALB</td>\n",
       "      <td>LAX</td>\n",
       "      <td>190.73</td>\n",
       "      <td>2467</td>\n",
       "      <td>191.95</td>\n",
       "      <td>DL</td>\n",
       "      <td>17.89</td>\n",
       "      <td>205.06</td>\n",
       "      <td>US</td>\n",
       "      <td>16.59</td>\n",
       "      <td>174.00</td>\n",
       "    </tr>\n",
       "    <tr>\n",
       "      <th>8</th>\n",
       "      <td>ALB</td>\n",
       "      <td>MCO</td>\n",
       "      <td>129.35</td>\n",
       "      <td>1073</td>\n",
       "      <td>550.54</td>\n",
       "      <td>WN</td>\n",
       "      <td>76.84</td>\n",
       "      <td>127.69</td>\n",
       "      <td>WN</td>\n",
       "      <td>76.84</td>\n",
       "      <td>127.69</td>\n",
       "    </tr>\n",
       "    <tr>\n",
       "      <th>9</th>\n",
       "      <td>ALB</td>\n",
       "      <td>TPA</td>\n",
       "      <td>134.17</td>\n",
       "      <td>1130</td>\n",
       "      <td>202.93</td>\n",
       "      <td>US</td>\n",
       "      <td>35.40</td>\n",
       "      <td>132.91</td>\n",
       "      <td>DL</td>\n",
       "      <td>26.40</td>\n",
       "      <td>124.78</td>\n",
       "    </tr>\n",
       "  </tbody>\n",
       "</table>\n",
       "</div>"
      ],
      "text/plain": [
       "    0    1       2     3       4   5      6       7   8      9       10\n",
       "0  CAK  ATL  114.47   528  424.56  FL  70.19  111.03  FL  70.19  111.03\n",
       "1  CAK  MCO  122.47   860  276.84  FL  75.10  123.09  DL  17.23  118.94\n",
       "2  ALB  ATL  214.42   852  215.76  DL  78.89  223.98  CO   2.77  167.12\n",
       "3  ALB  BWI   69.40   288  606.84  WN  96.97   68.86  WN  96.97   68.86\n",
       "4  ALB  ORD  158.13   723  313.04  UA  39.79  161.36  WN  15.34  145.42\n",
       "5  ALB  FLL  135.17  1204  199.02  WN  40.68  137.97  DL  17.09  127.69\n",
       "6  ALB  LAS  152.85  2237  237.17  WN  59.94  148.59  WN  59.94  148.59\n",
       "7  ALB  LAX  190.73  2467  191.95  DL  17.89  205.06  US  16.59  174.00\n",
       "8  ALB  MCO  129.35  1073  550.54  WN  76.84  127.69  WN  76.84  127.69\n",
       "9  ALB  TPA  134.17  1130  202.93  US  35.40  132.91  DL  26.40  124.78"
      ]
     },
     "execution_count": 2,
     "metadata": {},
     "output_type": "execute_result"
    }
   ],
   "source": [
    "# making data frame \n",
    "    \n",
    "airdata=pd.read_csv('http://www.stat.ufl.edu/~winner/data/airq402.dat',header=None, sep='\\s+', engine='python')\n",
    "airdata.head(10)"
   ]
  },
  {
   "cell_type": "code",
   "execution_count": 3,
   "metadata": {},
   "outputs": [
    {
     "data": {
      "text/html": [
       "<div>\n",
       "<style scoped>\n",
       "    .dataframe tbody tr th:only-of-type {\n",
       "        vertical-align: middle;\n",
       "    }\n",
       "\n",
       "    .dataframe tbody tr th {\n",
       "        vertical-align: top;\n",
       "    }\n",
       "\n",
       "    .dataframe thead th {\n",
       "        text-align: right;\n",
       "    }\n",
       "</style>\n",
       "<table border=\"1\" class=\"dataframe\">\n",
       "  <thead>\n",
       "    <tr style=\"text-align: right;\">\n",
       "      <th></th>\n",
       "      <th>City1</th>\n",
       "      <th>City2</th>\n",
       "      <th>Average_Fare</th>\n",
       "      <th>Distance</th>\n",
       "      <th>Average_weekly_passengers</th>\n",
       "      <th>market_leading_airline</th>\n",
       "      <th>market_share</th>\n",
       "      <th>Average_Fare1</th>\n",
       "      <th>Low_price_airline</th>\n",
       "      <th>market_share1</th>\n",
       "      <th>price</th>\n",
       "    </tr>\n",
       "  </thead>\n",
       "  <tbody>\n",
       "    <tr>\n",
       "      <th>0</th>\n",
       "      <td>CAK</td>\n",
       "      <td>ATL</td>\n",
       "      <td>114.47</td>\n",
       "      <td>528</td>\n",
       "      <td>424.56</td>\n",
       "      <td>FL</td>\n",
       "      <td>70.19</td>\n",
       "      <td>111.03</td>\n",
       "      <td>FL</td>\n",
       "      <td>70.19</td>\n",
       "      <td>111.03</td>\n",
       "    </tr>\n",
       "    <tr>\n",
       "      <th>1</th>\n",
       "      <td>CAK</td>\n",
       "      <td>MCO</td>\n",
       "      <td>122.47</td>\n",
       "      <td>860</td>\n",
       "      <td>276.84</td>\n",
       "      <td>FL</td>\n",
       "      <td>75.10</td>\n",
       "      <td>123.09</td>\n",
       "      <td>DL</td>\n",
       "      <td>17.23</td>\n",
       "      <td>118.94</td>\n",
       "    </tr>\n",
       "    <tr>\n",
       "      <th>2</th>\n",
       "      <td>ALB</td>\n",
       "      <td>ATL</td>\n",
       "      <td>214.42</td>\n",
       "      <td>852</td>\n",
       "      <td>215.76</td>\n",
       "      <td>DL</td>\n",
       "      <td>78.89</td>\n",
       "      <td>223.98</td>\n",
       "      <td>CO</td>\n",
       "      <td>2.77</td>\n",
       "      <td>167.12</td>\n",
       "    </tr>\n",
       "    <tr>\n",
       "      <th>3</th>\n",
       "      <td>ALB</td>\n",
       "      <td>BWI</td>\n",
       "      <td>69.40</td>\n",
       "      <td>288</td>\n",
       "      <td>606.84</td>\n",
       "      <td>WN</td>\n",
       "      <td>96.97</td>\n",
       "      <td>68.86</td>\n",
       "      <td>WN</td>\n",
       "      <td>96.97</td>\n",
       "      <td>68.86</td>\n",
       "    </tr>\n",
       "    <tr>\n",
       "      <th>4</th>\n",
       "      <td>ALB</td>\n",
       "      <td>ORD</td>\n",
       "      <td>158.13</td>\n",
       "      <td>723</td>\n",
       "      <td>313.04</td>\n",
       "      <td>UA</td>\n",
       "      <td>39.79</td>\n",
       "      <td>161.36</td>\n",
       "      <td>WN</td>\n",
       "      <td>15.34</td>\n",
       "      <td>145.42</td>\n",
       "    </tr>\n",
       "  </tbody>\n",
       "</table>\n",
       "</div>"
      ],
      "text/plain": [
       "  City1 City2  Average_Fare  Distance  Average_weekly_passengers  \\\n",
       "0   CAK   ATL        114.47       528                     424.56   \n",
       "1   CAK   MCO        122.47       860                     276.84   \n",
       "2   ALB   ATL        214.42       852                     215.76   \n",
       "3   ALB   BWI         69.40       288                     606.84   \n",
       "4   ALB   ORD        158.13       723                     313.04   \n",
       "\n",
       "  market_leading_airline  market_share  Average_Fare1 Low_price_airline  \\\n",
       "0                     FL         70.19         111.03                FL   \n",
       "1                     FL         75.10         123.09                DL   \n",
       "2                     DL         78.89         223.98                CO   \n",
       "3                     WN         96.97          68.86                WN   \n",
       "4                     UA         39.79         161.36                WN   \n",
       "\n",
       "   market_share1   price  \n",
       "0          70.19  111.03  \n",
       "1          17.23  118.94  \n",
       "2           2.77  167.12  \n",
       "3          96.97   68.86  \n",
       "4          15.34  145.42  "
      ]
     },
     "execution_count": 3,
     "metadata": {},
     "output_type": "execute_result"
    }
   ],
   "source": [
    "# add headers to columns\n",
    "airdata.columns=['City1','City2','Average_Fare','Distance','Average_weekly_passengers','market_leading_airline','market_share','Average_Fare1','Low_price_airline','market_share1','price']\n",
    "airdata.head()"
   ]
  },
  {
   "cell_type": "code",
   "execution_count": 4,
   "metadata": {},
   "outputs": [
    {
     "data": {
      "text/html": [
       "<div>\n",
       "<style scoped>\n",
       "    .dataframe tbody tr th:only-of-type {\n",
       "        vertical-align: middle;\n",
       "    }\n",
       "\n",
       "    .dataframe tbody tr th {\n",
       "        vertical-align: top;\n",
       "    }\n",
       "\n",
       "    .dataframe thead th {\n",
       "        text-align: right;\n",
       "    }\n",
       "</style>\n",
       "<table border=\"1\" class=\"dataframe\">\n",
       "  <thead>\n",
       "    <tr style=\"text-align: right;\">\n",
       "      <th></th>\n",
       "      <th>Average_Fare</th>\n",
       "      <th>Distance</th>\n",
       "      <th>Average_weekly_passengers</th>\n",
       "      <th>market_share</th>\n",
       "      <th>Average_Fare1</th>\n",
       "      <th>market_share1</th>\n",
       "      <th>price</th>\n",
       "    </tr>\n",
       "  </thead>\n",
       "  <tbody>\n",
       "    <tr>\n",
       "      <th>count</th>\n",
       "      <td>1000.00000</td>\n",
       "      <td>1000.000000</td>\n",
       "      <td>1000.000000</td>\n",
       "      <td>1000.000000</td>\n",
       "      <td>1000.00000</td>\n",
       "      <td>1000.000000</td>\n",
       "      <td>1000.000000</td>\n",
       "    </tr>\n",
       "    <tr>\n",
       "      <th>mean</th>\n",
       "      <td>163.37542</td>\n",
       "      <td>1056.973000</td>\n",
       "      <td>672.279140</td>\n",
       "      <td>60.128590</td>\n",
       "      <td>166.64756</td>\n",
       "      <td>34.551480</td>\n",
       "      <td>143.193090</td>\n",
       "    </tr>\n",
       "    <tr>\n",
       "      <th>std</th>\n",
       "      <td>55.36547</td>\n",
       "      <td>643.203251</td>\n",
       "      <td>766.519254</td>\n",
       "      <td>19.367779</td>\n",
       "      <td>62.66014</td>\n",
       "      <td>27.096999</td>\n",
       "      <td>47.229184</td>\n",
       "    </tr>\n",
       "    <tr>\n",
       "      <th>min</th>\n",
       "      <td>50.52000</td>\n",
       "      <td>108.000000</td>\n",
       "      <td>181.410000</td>\n",
       "      <td>17.680000</td>\n",
       "      <td>50.52000</td>\n",
       "      <td>1.060000</td>\n",
       "      <td>49.610000</td>\n",
       "    </tr>\n",
       "    <tr>\n",
       "      <th>25%</th>\n",
       "      <td>125.97500</td>\n",
       "      <td>553.500000</td>\n",
       "      <td>257.197500</td>\n",
       "      <td>46.510000</td>\n",
       "      <td>124.08500</td>\n",
       "      <td>13.195000</td>\n",
       "      <td>113.767500</td>\n",
       "    </tr>\n",
       "    <tr>\n",
       "      <th>50%</th>\n",
       "      <td>161.34500</td>\n",
       "      <td>919.000000</td>\n",
       "      <td>404.780000</td>\n",
       "      <td>59.240000</td>\n",
       "      <td>161.40000</td>\n",
       "      <td>26.140000</td>\n",
       "      <td>137.825000</td>\n",
       "    </tr>\n",
       "    <tr>\n",
       "      <th>75%</th>\n",
       "      <td>197.39250</td>\n",
       "      <td>1452.500000</td>\n",
       "      <td>769.912500</td>\n",
       "      <td>73.510000</td>\n",
       "      <td>202.97750</td>\n",
       "      <td>52.972500</td>\n",
       "      <td>168.530000</td>\n",
       "    </tr>\n",
       "    <tr>\n",
       "      <th>max</th>\n",
       "      <td>401.23000</td>\n",
       "      <td>2724.000000</td>\n",
       "      <td>8950.760000</td>\n",
       "      <td>100.000000</td>\n",
       "      <td>490.03000</td>\n",
       "      <td>100.000000</td>\n",
       "      <td>387.940000</td>\n",
       "    </tr>\n",
       "  </tbody>\n",
       "</table>\n",
       "</div>"
      ],
      "text/plain": [
       "       Average_Fare     Distance  Average_weekly_passengers  market_share  \\\n",
       "count    1000.00000  1000.000000                1000.000000   1000.000000   \n",
       "mean      163.37542  1056.973000                 672.279140     60.128590   \n",
       "std        55.36547   643.203251                 766.519254     19.367779   \n",
       "min        50.52000   108.000000                 181.410000     17.680000   \n",
       "25%       125.97500   553.500000                 257.197500     46.510000   \n",
       "50%       161.34500   919.000000                 404.780000     59.240000   \n",
       "75%       197.39250  1452.500000                 769.912500     73.510000   \n",
       "max       401.23000  2724.000000                8950.760000    100.000000   \n",
       "\n",
       "       Average_Fare1  market_share1        price  \n",
       "count     1000.00000    1000.000000  1000.000000  \n",
       "mean       166.64756      34.551480   143.193090  \n",
       "std         62.66014      27.096999    47.229184  \n",
       "min         50.52000       1.060000    49.610000  \n",
       "25%        124.08500      13.195000   113.767500  \n",
       "50%        161.40000      26.140000   137.825000  \n",
       "75%        202.97750      52.972500   168.530000  \n",
       "max        490.03000     100.000000   387.940000  "
      ]
     },
     "execution_count": 4,
     "metadata": {},
     "output_type": "execute_result"
    }
   ],
   "source": [
    "airdata.describe()"
   ]
  },
  {
   "cell_type": "code",
   "execution_count": 5,
   "metadata": {},
   "outputs": [
    {
     "data": {
      "text/plain": [
       "City1                         object\n",
       "City2                         object\n",
       "Average_Fare                 float64\n",
       "Distance                       int64\n",
       "Average_weekly_passengers    float64\n",
       "market_leading_airline        object\n",
       "market_share                 float64\n",
       "Average_Fare1                float64\n",
       "Low_price_airline             object\n",
       "market_share1                float64\n",
       "price                        float64\n",
       "dtype: object"
      ]
     },
     "execution_count": 5,
     "metadata": {},
     "output_type": "execute_result"
    }
   ],
   "source": [
    "airdata.dtypes"
   ]
  },
  {
   "cell_type": "markdown",
   "metadata": {},
   "source": [
    "Remove the outliers from the data (5 points) "
   ]
  },
  {
   "cell_type": "code",
   "execution_count": 6,
   "metadata": {},
   "outputs": [
    {
     "data": {
      "text/plain": [
       "<matplotlib.axes._subplots.AxesSubplot at 0x1e158130198>"
      ]
     },
     "execution_count": 6,
     "metadata": {},
     "output_type": "execute_result"
    },
    {
     "data": {
      "image/png": "[encoded data removed]",
      "text/plain": [
       "<Figure size 432x288 with 1 Axes>"
      ]
     },
     "metadata": {
      "needs_background": "light"
     },
     "output_type": "display_data"
    }
   ],
   "source": [
    "#Visualize data\n",
    "sns.boxplot(data=airdata,orient='portrait',width=.5)"
   ]
  },
  {
   "cell_type": "code",
   "execution_count": 7,
   "metadata": {},
   "outputs": [
    {
     "data": {
      "text/plain": [
       "(1000, 11)"
      ]
     },
     "execution_count": 7,
     "metadata": {},
     "output_type": "execute_result"
    }
   ],
   "source": [
    "airdata.shape"
   ]
  },
  {
   "cell_type": "markdown",
   "metadata": {},
   "source": [
    "Approach - as the outliers need to be found across multiple variables, I am using IQR method  "
   ]
  },
  {
   "cell_type": "code",
   "execution_count": 8,
   "metadata": {},
   "outputs": [
    {
     "name": "stdout",
     "output_type": "stream",
     "text": [
      "Average_Fare                  71.4175\n",
      "Distance                     899.0000\n",
      "Average_weekly_passengers    512.7150\n",
      "market_share                  27.0000\n",
      "Average_Fare1                 78.8925\n",
      "market_share1                 39.7775\n",
      "price                         54.7625\n",
      "dtype: float64\n"
     ]
    }
   ],
   "source": [
    "Q1 = airdata.quantile(0.25)\n",
    "Q3 = airdata.quantile(0.75)\n",
    "IQR = Q3 - Q1\n",
    "airdata_q1 = (Q1 - 1.5 * IQR)\n",
    "airdata_q2 = (Q1 + 1.5 * IQR)\n",
    "print(IQR)"
   ]
  },
  {
   "cell_type": "code",
   "execution_count": 9,
   "metadata": {},
   "outputs": [
    {
     "name": "stdout",
     "output_type": "stream",
     "text": [
      "     Average_Fare  Average_Fare1  Average_weekly_passengers  City1  City2  \\\n",
      "0           False          False                      False  False  False   \n",
      "1           False          False                      False  False  False   \n",
      "2           False          False                      False  False  False   \n",
      "3           False          False                      False  False  False   \n",
      "4           False          False                      False  False  False   \n",
      "5           False          False                      False  False  False   \n",
      "6           False          False                      False  False  False   \n",
      "7           False          False                      False  False  False   \n",
      "8           False          False                      False  False  False   \n",
      "9           False          False                      False  False  False   \n",
      "10          False          False                      False  False  False   \n",
      "11          False          False                      False  False  False   \n",
      "12          False          False                      False  False  False   \n",
      "13          False          False                      False  False  False   \n",
      "14          False          False                      False  False  False   \n",
      "15          False          False                      False  False  False   \n",
      "16          False          False                      False  False  False   \n",
      "17          False          False                      False  False  False   \n",
      "18          False          False                      False  False  False   \n",
      "19          False          False                      False  False  False   \n",
      "20          False          False                      False  False  False   \n",
      "21          False          False                      False  False  False   \n",
      "22          False          False                       True  False  False   \n",
      "23          False          False                      False  False  False   \n",
      "24          False          False                      False  False  False   \n",
      "25          False          False                      False  False  False   \n",
      "26          False          False                      False  False  False   \n",
      "27          False          False                      False  False  False   \n",
      "28          False          False                      False  False  False   \n",
      "29          False          False                      False  False  False   \n",
      "..            ...            ...                        ...    ...    ...   \n",
      "970         False          False                      False  False  False   \n",
      "971         False          False                      False  False  False   \n",
      "972          True           True                      False  False  False   \n",
      "973         False          False                      False  False  False   \n",
      "974         False          False                      False  False  False   \n",
      "975         False          False                      False  False  False   \n",
      "976         False          False                      False  False  False   \n",
      "977         False          False                       True  False  False   \n",
      "978         False          False                       True  False  False   \n",
      "979         False          False                      False  False  False   \n",
      "980         False          False                      False  False  False   \n",
      "981          True           True                      False  False  False   \n",
      "982         False          False                      False  False  False   \n",
      "983         False          False                       True  False  False   \n",
      "984          True           True                      False  False  False   \n",
      "985          True           True                      False  False  False   \n",
      "986         False          False                       True  False  False   \n",
      "987         False          False                       True  False  False   \n",
      "988         False          False                      False  False  False   \n",
      "989          True           True                      False  False  False   \n",
      "990         False          False                       True  False  False   \n",
      "991         False          False                       True  False  False   \n",
      "992         False          False                      False  False  False   \n",
      "993         False          False                      False  False  False   \n",
      "994          True           True                      False  False  False   \n",
      "995         False          False                      False  False  False   \n",
      "996         False          False                      False  False  False   \n",
      "997         False          False                      False  False  False   \n",
      "998         False          False                      False  False  False   \n",
      "999         False          False                      False  False  False   \n",
      "\n",
      "     Distance  Low_price_airline  market_leading_airline  market_share  \\\n",
      "0       False              False                   False         False   \n",
      "1       False              False                   False         False   \n",
      "2       False              False                   False         False   \n",
      "3       False              False                   False          True   \n",
      "4       False              False                   False         False   \n",
      "5       False              False                   False         False   \n",
      "6        True              False                   False         False   \n",
      "7        True              False                   False         False   \n",
      "8       False              False                   False         False   \n",
      "9       False              False                   False         False   \n",
      "10      False              False                   False         False   \n",
      "11      False              False                   False         False   \n",
      "12      False              False                   False         False   \n",
      "13      False              False                   False         False   \n",
      "14      False              False                   False         False   \n",
      "15      False              False                   False         False   \n",
      "16      False              False                   False          True   \n",
      "17      False              False                   False          True   \n",
      "18      False              False                   False         False   \n",
      "19      False              False                   False         False   \n",
      "20      False              False                   False          True   \n",
      "21      False              False                   False         False   \n",
      "22      False              False                   False         False   \n",
      "23      False              False                   False         False   \n",
      "24      False              False                   False         False   \n",
      "25      False              False                   False         False   \n",
      "26      False              False                   False         False   \n",
      "27      False              False                   False         False   \n",
      "28      False              False                   False         False   \n",
      "29      False              False                   False         False   \n",
      "..        ...                ...                     ...           ...   \n",
      "970     False              False                   False         False   \n",
      "971     False              False                   False         False   \n",
      "972     False              False                   False         False   \n",
      "973     False              False                   False         False   \n",
      "974     False              False                   False         False   \n",
      "975     False              False                   False         False   \n",
      "976     False              False                   False          True   \n",
      "977     False              False                   False         False   \n",
      "978     False              False                   False         False   \n",
      "979      True              False                   False         False   \n",
      "980     False              False                   False          True   \n",
      "981      True              False                   False         False   \n",
      "982     False              False                   False         False   \n",
      "983     False              False                   False         False   \n",
      "984      True              False                   False         False   \n",
      "985      True              False                   False         False   \n",
      "986     False              False                   False         False   \n",
      "987     False              False                   False         False   \n",
      "988     False              False                   False         False   \n",
      "989      True              False                   False         False   \n",
      "990     False              False                   False         False   \n",
      "991     False              False                   False         False   \n",
      "992      True              False                   False         False   \n",
      "993     False              False                   False         False   \n",
      "994      True              False                   False         False   \n",
      "995     False              False                   False         False   \n",
      "996     False              False                   False          True   \n",
      "997     False              False                   False         False   \n",
      "998     False              False                   False          True   \n",
      "999     False              False                   False         False   \n",
      "\n",
      "     market_share1  price  \n",
      "0            False  False  \n",
      "1            False  False  \n",
      "2            False  False  \n",
      "3             True  False  \n",
      "4            False  False  \n",
      "5            False  False  \n",
      "6            False  False  \n",
      "7            False  False  \n",
      "8             True  False  \n",
      "9            False  False  \n",
      "10           False   True  \n",
      "11           False  False  \n",
      "12           False  False  \n",
      "13           False  False  \n",
      "14           False  False  \n",
      "15           False  False  \n",
      "16            True  False  \n",
      "17            True  False  \n",
      "18           False  False  \n",
      "19           False   True  \n",
      "20           False  False  \n",
      "21           False  False  \n",
      "22            True  False  \n",
      "23           False  False  \n",
      "24           False  False  \n",
      "25           False  False  \n",
      "26            True  False  \n",
      "27           False   True  \n",
      "28            True  False  \n",
      "29           False  False  \n",
      "..             ...    ...  \n",
      "970          False  False  \n",
      "971          False  False  \n",
      "972          False   True  \n",
      "973          False  False  \n",
      "974          False  False  \n",
      "975          False  False  \n",
      "976          False  False  \n",
      "977          False  False  \n",
      "978           True  False  \n",
      "979          False  False  \n",
      "980           True  False  \n",
      "981          False   True  \n",
      "982          False  False  \n",
      "983          False  False  \n",
      "984          False   True  \n",
      "985          False  False  \n",
      "986          False  False  \n",
      "987          False  False  \n",
      "988          False  False  \n",
      "989          False  False  \n",
      "990          False  False  \n",
      "991          False  False  \n",
      "992          False  False  \n",
      "993           True  False  \n",
      "994          False   True  \n",
      "995          False  False  \n",
      "996           True  False  \n",
      "997          False  False  \n",
      "998           True  False  \n",
      "999          False  False  \n",
      "\n",
      "[1000 rows x 11 columns]\n"
     ]
    },
    {
     "ename": "AttributeError",
     "evalue": "'NoneType' object has no attribute 'head'",
     "output_type": "error",
     "traceback": [
      "\u001b[1;31m---------------------------------------------------------------------------\u001b[0m",
      "\u001b[1;31mAttributeError\u001b[0m                            Traceback (most recent call last)",
      "\u001b[1;32m<ipython-input-9-be9cd5473271>\u001b[0m in \u001b[0;36m<module>\u001b[1;34m\u001b[0m\n\u001b[0;32m      1\u001b[0m \u001b[0mairdata_remove\u001b[0m\u001b[1;33m=\u001b[0m\u001b[1;33m(\u001b[0m\u001b[0mairdata\u001b[0m \u001b[1;33m<\u001b[0m \u001b[1;33m(\u001b[0m\u001b[0mairdata_q1\u001b[0m\u001b[1;33m)\u001b[0m\u001b[1;33m)\u001b[0m \u001b[1;33m|\u001b[0m\u001b[1;33m(\u001b[0m\u001b[0mairdata\u001b[0m \u001b[1;33m>\u001b[0m \u001b[1;33m(\u001b[0m\u001b[0mairdata_q2\u001b[0m\u001b[1;33m)\u001b[0m\u001b[1;33m)\u001b[0m\u001b[1;33m\u001b[0m\u001b[1;33m\u001b[0m\u001b[0m\n\u001b[1;32m----> 2\u001b[1;33m \u001b[0mprint\u001b[0m\u001b[1;33m(\u001b[0m\u001b[0mairdata_remove\u001b[0m\u001b[1;33m)\u001b[0m\u001b[1;33m.\u001b[0m\u001b[0mhead\u001b[0m\u001b[1;33m(\u001b[0m\u001b[1;36m10\u001b[0m\u001b[1;33m)\u001b[0m\u001b[1;33m\u001b[0m\u001b[1;33m\u001b[0m\u001b[0m\n\u001b[0m",
      "\u001b[1;31mAttributeError\u001b[0m: 'NoneType' object has no attribute 'head'"
     ]
    }
   ],
   "source": [
    "airdata_remove=(airdata < (airdata_q1)) |(airdata > (airdata_q2))\n",
    "print(airdata_remove).head(10)"
   ]
  },
  {
   "cell_type": "code",
   "execution_count": 10,
   "metadata": {},
   "outputs": [],
   "source": [
    "airdata_remove = airdata[~((airdata< (Q1 - 1.5 * IQR))|(airdata>(Q3 + 1.5 * IQR))).any(axis=1)]"
   ]
  },
  {
   "cell_type": "code",
   "execution_count": 11,
   "metadata": {},
   "outputs": [
    {
     "data": {
      "text/plain": [
       "((1000, 11), (885, 11))"
      ]
     },
     "execution_count": 11,
     "metadata": {},
     "output_type": "execute_result"
    }
   ],
   "source": [
    "airdata.shape,airdata_remove.shape"
   ]
  },
  {
   "cell_type": "code",
   "execution_count": 25,
   "metadata": {},
   "outputs": [
    {
     "data": {
      "text/html": [
       "<div>\n",
       "<style scoped>\n",
       "    .dataframe tbody tr th:only-of-type {\n",
       "        vertical-align: middle;\n",
       "    }\n",
       "\n",
       "    .dataframe tbody tr th {\n",
       "        vertical-align: top;\n",
       "    }\n",
       "\n",
       "    .dataframe thead th {\n",
       "        text-align: right;\n",
       "    }\n",
       "</style>\n",
       "<table border=\"1\" class=\"dataframe\">\n",
       "  <thead>\n",
       "    <tr style=\"text-align: right;\">\n",
       "      <th></th>\n",
       "      <th>City1</th>\n",
       "      <th>City2</th>\n",
       "      <th>Average_Fare</th>\n",
       "      <th>Distance</th>\n",
       "      <th>Average_weekly_passengers</th>\n",
       "      <th>market_leading_airline</th>\n",
       "      <th>market_share</th>\n",
       "      <th>Average_Fare1</th>\n",
       "      <th>Low_price_airline</th>\n",
       "      <th>market_share1</th>\n",
       "      <th>price</th>\n",
       "    </tr>\n",
       "  </thead>\n",
       "  <tbody>\n",
       "    <tr>\n",
       "      <th>0</th>\n",
       "      <td>CAK</td>\n",
       "      <td>ATL</td>\n",
       "      <td>114.47</td>\n",
       "      <td>528</td>\n",
       "      <td>424.56</td>\n",
       "      <td>FL</td>\n",
       "      <td>70.19</td>\n",
       "      <td>111.03</td>\n",
       "      <td>FL</td>\n",
       "      <td>70.19</td>\n",
       "      <td>111.03</td>\n",
       "    </tr>\n",
       "    <tr>\n",
       "      <th>1</th>\n",
       "      <td>CAK</td>\n",
       "      <td>MCO</td>\n",
       "      <td>122.47</td>\n",
       "      <td>860</td>\n",
       "      <td>276.84</td>\n",
       "      <td>FL</td>\n",
       "      <td>75.10</td>\n",
       "      <td>123.09</td>\n",
       "      <td>DL</td>\n",
       "      <td>17.23</td>\n",
       "      <td>118.94</td>\n",
       "    </tr>\n",
       "    <tr>\n",
       "      <th>2</th>\n",
       "      <td>ALB</td>\n",
       "      <td>ATL</td>\n",
       "      <td>214.42</td>\n",
       "      <td>852</td>\n",
       "      <td>215.76</td>\n",
       "      <td>DL</td>\n",
       "      <td>78.89</td>\n",
       "      <td>223.98</td>\n",
       "      <td>CO</td>\n",
       "      <td>2.77</td>\n",
       "      <td>167.12</td>\n",
       "    </tr>\n",
       "    <tr>\n",
       "      <th>3</th>\n",
       "      <td>ALB</td>\n",
       "      <td>BWI</td>\n",
       "      <td>69.40</td>\n",
       "      <td>288</td>\n",
       "      <td>606.84</td>\n",
       "      <td>WN</td>\n",
       "      <td>96.97</td>\n",
       "      <td>68.86</td>\n",
       "      <td>WN</td>\n",
       "      <td>96.97</td>\n",
       "      <td>68.86</td>\n",
       "    </tr>\n",
       "    <tr>\n",
       "      <th>4</th>\n",
       "      <td>ALB</td>\n",
       "      <td>ORD</td>\n",
       "      <td>158.13</td>\n",
       "      <td>723</td>\n",
       "      <td>313.04</td>\n",
       "      <td>UA</td>\n",
       "      <td>39.79</td>\n",
       "      <td>161.36</td>\n",
       "      <td>WN</td>\n",
       "      <td>15.34</td>\n",
       "      <td>145.42</td>\n",
       "    </tr>\n",
       "  </tbody>\n",
       "</table>\n",
       "</div>"
      ],
      "text/plain": [
       "  City1 City2  Average_Fare  Distance  Average_weekly_passengers  \\\n",
       "0   CAK   ATL        114.47       528                     424.56   \n",
       "1   CAK   MCO        122.47       860                     276.84   \n",
       "2   ALB   ATL        214.42       852                     215.76   \n",
       "3   ALB   BWI         69.40       288                     606.84   \n",
       "4   ALB   ORD        158.13       723                     313.04   \n",
       "\n",
       "  market_leading_airline  market_share  Average_Fare1 Low_price_airline  \\\n",
       "0                     FL         70.19         111.03                FL   \n",
       "1                     FL         75.10         123.09                DL   \n",
       "2                     DL         78.89         223.98                CO   \n",
       "3                     WN         96.97          68.86                WN   \n",
       "4                     UA         39.79         161.36                WN   \n",
       "\n",
       "   market_share1   price  \n",
       "0          70.19  111.03  \n",
       "1          17.23  118.94  \n",
       "2           2.77  167.12  \n",
       "3          96.97   68.86  \n",
       "4          15.34  145.42  "
      ]
     },
     "execution_count": 25,
     "metadata": {},
     "output_type": "execute_result"
    }
   ],
   "source": [
    "airdata_remove.head()"
   ]
  },
  {
   "cell_type": "markdown",
   "metadata": {},
   "source": [
    "Treat “Average Fare” – 3rd Column as your Dependent Variable and Rest of the columns as Independent Variable. (2.5 points)"
   ]
  },
  {
   "cell_type": "code",
   "execution_count": 12,
   "metadata": {},
   "outputs": [
    {
     "name": "stdout",
     "output_type": "stream",
     "text": [
      "['City1', 'City2', 'Distance', 'Average_weekly_passengers', 'market_leading_airline', 'market_share', 'Average_Fare1', 'Low_price_airline', 'market_share1', 'price']\n",
      "['Average_Fare']\n"
     ]
    },
    {
     "data": {
      "text/plain": [
       "(None, None)"
      ]
     },
     "execution_count": 12,
     "metadata": {},
     "output_type": "execute_result"
    }
   ],
   "source": [
    "#Dependent Variable\n",
    "y=['Average_Fare']\n",
    "#InDependent Variable\n",
    "x=['City1','City2','Distance','Average_weekly_passengers','market_leading_airline','market_share','Average_Fare1','Low_price_airline','market_share1','price']\n",
    "print(x),print(y)"
   ]
  },
  {
   "cell_type": "markdown",
   "metadata": {},
   "source": [
    "Drop the independent variables which has less than 0.1 correlation with the dependent variable (5 points)"
   ]
  },
  {
   "cell_type": "code",
   "execution_count": 13,
   "metadata": {},
   "outputs": [
    {
     "data": {
      "text/html": [
       "<div>\n",
       "<style scoped>\n",
       "    .dataframe tbody tr th:only-of-type {\n",
       "        vertical-align: middle;\n",
       "    }\n",
       "\n",
       "    .dataframe tbody tr th {\n",
       "        vertical-align: top;\n",
       "    }\n",
       "\n",
       "    .dataframe thead th {\n",
       "        text-align: right;\n",
       "    }\n",
       "</style>\n",
       "<table border=\"1\" class=\"dataframe\">\n",
       "  <thead>\n",
       "    <tr style=\"text-align: right;\">\n",
       "      <th></th>\n",
       "      <th>Average_Fare</th>\n",
       "      <th>Distance</th>\n",
       "      <th>Average_weekly_passengers</th>\n",
       "      <th>market_share</th>\n",
       "      <th>Average_Fare1</th>\n",
       "      <th>market_share1</th>\n",
       "      <th>price</th>\n",
       "    </tr>\n",
       "  </thead>\n",
       "  <tbody>\n",
       "    <tr>\n",
       "      <th>Average_Fare</th>\n",
       "      <td>1.000000</td>\n",
       "      <td>0.522650</td>\n",
       "      <td>-0.197005</td>\n",
       "      <td>-0.207955</td>\n",
       "      <td>0.979713</td>\n",
       "      <td>-0.493555</td>\n",
       "      <td>0.840993</td>\n",
       "    </tr>\n",
       "    <tr>\n",
       "      <th>Distance</th>\n",
       "      <td>0.522650</td>\n",
       "      <td>1.000000</td>\n",
       "      <td>-0.129632</td>\n",
       "      <td>-0.547952</td>\n",
       "      <td>0.489721</td>\n",
       "      <td>-0.361519</td>\n",
       "      <td>0.539894</td>\n",
       "    </tr>\n",
       "    <tr>\n",
       "      <th>Average_weekly_passengers</th>\n",
       "      <td>-0.197005</td>\n",
       "      <td>-0.129632</td>\n",
       "      <td>1.000000</td>\n",
       "      <td>0.021769</td>\n",
       "      <td>-0.163736</td>\n",
       "      <td>0.076176</td>\n",
       "      <td>-0.209018</td>\n",
       "    </tr>\n",
       "    <tr>\n",
       "      <th>market_share</th>\n",
       "      <td>-0.207955</td>\n",
       "      <td>-0.547952</td>\n",
       "      <td>0.021769</td>\n",
       "      <td>1.000000</td>\n",
       "      <td>-0.193382</td>\n",
       "      <td>0.281182</td>\n",
       "      <td>-0.314555</td>\n",
       "    </tr>\n",
       "    <tr>\n",
       "      <th>Average_Fare1</th>\n",
       "      <td>0.979713</td>\n",
       "      <td>0.489721</td>\n",
       "      <td>-0.163736</td>\n",
       "      <td>-0.193382</td>\n",
       "      <td>1.000000</td>\n",
       "      <td>-0.519442</td>\n",
       "      <td>0.794157</td>\n",
       "    </tr>\n",
       "    <tr>\n",
       "      <th>market_share1</th>\n",
       "      <td>-0.493555</td>\n",
       "      <td>-0.361519</td>\n",
       "      <td>0.076176</td>\n",
       "      <td>0.281182</td>\n",
       "      <td>-0.519442</td>\n",
       "      <td>1.000000</td>\n",
       "      <td>-0.260912</td>\n",
       "    </tr>\n",
       "    <tr>\n",
       "      <th>price</th>\n",
       "      <td>0.840993</td>\n",
       "      <td>0.539894</td>\n",
       "      <td>-0.209018</td>\n",
       "      <td>-0.314555</td>\n",
       "      <td>0.794157</td>\n",
       "      <td>-0.260912</td>\n",
       "      <td>1.000000</td>\n",
       "    </tr>\n",
       "  </tbody>\n",
       "</table>\n",
       "</div>"
      ],
      "text/plain": [
       "                           Average_Fare  Distance  Average_weekly_passengers  \\\n",
       "Average_Fare                   1.000000  0.522650                  -0.197005   \n",
       "Distance                       0.522650  1.000000                  -0.129632   \n",
       "Average_weekly_passengers     -0.197005 -0.129632                   1.000000   \n",
       "market_share                  -0.207955 -0.547952                   0.021769   \n",
       "Average_Fare1                  0.979713  0.489721                  -0.163736   \n",
       "market_share1                 -0.493555 -0.361519                   0.076176   \n",
       "price                          0.840993  0.539894                  -0.209018   \n",
       "\n",
       "                           market_share  Average_Fare1  market_share1  \\\n",
       "Average_Fare                  -0.207955       0.979713      -0.493555   \n",
       "Distance                      -0.547952       0.489721      -0.361519   \n",
       "Average_weekly_passengers      0.021769      -0.163736       0.076176   \n",
       "market_share                   1.000000      -0.193382       0.281182   \n",
       "Average_Fare1                 -0.193382       1.000000      -0.519442   \n",
       "market_share1                  0.281182      -0.519442       1.000000   \n",
       "price                         -0.314555       0.794157      -0.260912   \n",
       "\n",
       "                              price  \n",
       "Average_Fare               0.840993  \n",
       "Distance                   0.539894  \n",
       "Average_weekly_passengers -0.209018  \n",
       "market_share              -0.314555  \n",
       "Average_Fare1              0.794157  \n",
       "market_share1             -0.260912  \n",
       "price                      1.000000  "
      ]
     },
     "execution_count": 13,
     "metadata": {},
     "output_type": "execute_result"
    }
   ],
   "source": [
    "airdata_corr=airdata_remove.corr()\n",
    "airdata_corr"
   ]
  },
  {
   "cell_type": "code",
   "execution_count": 14,
   "metadata": {},
   "outputs": [
    {
     "data": {
      "text/plain": [
       "<matplotlib.axes._subplots.AxesSubplot at 0x1e15815ae10>"
      ]
     },
     "execution_count": 14,
     "metadata": {},
     "output_type": "execute_result"
    },
    {
     "data": {
      "image/png": "[encoded data removed]",
      "text/plain": [
       "<Figure size 432x288 with 2 Axes>"
      ]
     },
     "metadata": {
      "needs_background": "light"
     },
     "output_type": "display_data"
    }
   ],
   "source": [
    "sns.heatmap(airdata_corr, annot=True)"
   ]
  },
  {
   "cell_type": "code",
   "execution_count": 15,
   "metadata": {},
   "outputs": [],
   "source": [
    "m = ~(airdata_corr.mask(np.eye(len(airdata_corr), dtype=bool)).abs()<0.1).any()\n",
    "mm = airdata_corr.loc[m, m]"
   ]
  },
  {
   "cell_type": "code",
   "execution_count": 16,
   "metadata": {},
   "outputs": [
    {
     "data": {
      "text/html": [
       "<div>\n",
       "<style scoped>\n",
       "    .dataframe tbody tr th:only-of-type {\n",
       "        vertical-align: middle;\n",
       "    }\n",
       "\n",
       "    .dataframe tbody tr th {\n",
       "        vertical-align: top;\n",
       "    }\n",
       "\n",
       "    .dataframe thead th {\n",
       "        text-align: right;\n",
       "    }\n",
       "</style>\n",
       "<table border=\"1\" class=\"dataframe\">\n",
       "  <thead>\n",
       "    <tr style=\"text-align: right;\">\n",
       "      <th></th>\n",
       "      <th>Average_Fare</th>\n",
       "      <th>Distance</th>\n",
       "      <th>Average_Fare1</th>\n",
       "      <th>price</th>\n",
       "    </tr>\n",
       "  </thead>\n",
       "  <tbody>\n",
       "    <tr>\n",
       "      <th>Average_Fare</th>\n",
       "      <td>1.000000</td>\n",
       "      <td>0.522650</td>\n",
       "      <td>0.979713</td>\n",
       "      <td>0.840993</td>\n",
       "    </tr>\n",
       "    <tr>\n",
       "      <th>Distance</th>\n",
       "      <td>0.522650</td>\n",
       "      <td>1.000000</td>\n",
       "      <td>0.489721</td>\n",
       "      <td>0.539894</td>\n",
       "    </tr>\n",
       "    <tr>\n",
       "      <th>Average_Fare1</th>\n",
       "      <td>0.979713</td>\n",
       "      <td>0.489721</td>\n",
       "      <td>1.000000</td>\n",
       "      <td>0.794157</td>\n",
       "    </tr>\n",
       "    <tr>\n",
       "      <th>price</th>\n",
       "      <td>0.840993</td>\n",
       "      <td>0.539894</td>\n",
       "      <td>0.794157</td>\n",
       "      <td>1.000000</td>\n",
       "    </tr>\n",
       "  </tbody>\n",
       "</table>\n",
       "</div>"
      ],
      "text/plain": [
       "               Average_Fare  Distance  Average_Fare1     price\n",
       "Average_Fare       1.000000  0.522650       0.979713  0.840993\n",
       "Distance           0.522650  1.000000       0.489721  0.539894\n",
       "Average_Fare1      0.979713  0.489721       1.000000  0.794157\n",
       "price              0.840993  0.539894       0.794157  1.000000"
      ]
     },
     "execution_count": 16,
     "metadata": {},
     "output_type": "execute_result"
    }
   ],
   "source": [
    "mm"
   ]
  },
  {
   "cell_type": "code",
   "execution_count": 17,
   "metadata": {},
   "outputs": [
    {
     "data": {
      "text/plain": [
       "<matplotlib.axes._subplots.AxesSubplot at 0x1e1581a8e80>"
      ]
     },
     "execution_count": 17,
     "metadata": {},
     "output_type": "execute_result"
    },
    {
     "data": {
      "image/png": "[encoded data removed]",
      "text/plain": [
       "<Figure size 432x288 with 2 Axes>"
      ]
     },
     "metadata": {
      "needs_background": "light"
     },
     "output_type": "display_data"
    }
   ],
   "source": [
    "sns.heatmap(mm, annot=True)"
   ]
  },
  {
   "cell_type": "markdown",
   "metadata": {},
   "source": [
    "Create scatter Plot of Independent Variable vs Dependent Variable. (2.5 points)"
   ]
  },
  {
   "cell_type": "code",
   "execution_count": 18,
   "metadata": {},
   "outputs": [
    {
     "name": "stderr",
     "output_type": "stream",
     "text": [
      "C:\\Users\\370504\\AppData\\Local\\Continuum\\anaconda3\\lib\\site-packages\\seaborn\\axisgrid.py:2065: UserWarning: The `size` parameter has been renamed to `height`; pleaes update your code.\n",
      "  warnings.warn(msg, UserWarning)\n"
     ]
    },
    {
     "data": {
      "text/plain": [
       "<seaborn.axisgrid.PairGrid at 0x1e1581ce518>"
      ]
     },
     "execution_count": 18,
     "metadata": {},
     "output_type": "execute_result"
    },
    {
     "data": {
      "image/png": "[encoded data removed]",
      "text/plain": [
       "<Figure size 1382.4x576 with 3 Axes>"
      ]
     },
     "metadata": {
      "needs_background": "light"
     },
     "output_type": "display_data"
    }
   ],
   "source": [
    "sns.pairplot(mm,x_vars=[ 'Distance', 'Average_Fare1', 'price'],y_vars=['Average_Fare'],kind='reg',size=8,aspect=0.8)\n"
   ]
  },
  {
   "cell_type": "markdown",
   "metadata": {},
   "source": [
    "Divide the data set into training and test data set and build a Multiple Linear Regression model. (5 points) "
   ]
  },
  {
   "cell_type": "code",
   "execution_count": 19,
   "metadata": {},
   "outputs": [
    {
     "data": {
      "image/png": "[encoded data removed]",
      "text/plain": [
       "<Figure size 720x432 with 1 Axes>"
      ]
     },
     "metadata": {
      "needs_background": "light"
     },
     "output_type": "display_data"
    }
   ],
   "source": [
    "fig, ax = plt.subplots(figsize=(10,6))\n",
    "ax.scatter(mm['Average_Fare'], mm['Distance'])\n",
    "ax.set_xlabel('Distance')\n",
    "ax.set_ylabel('Average_Fare')\n",
    "plt.show()"
   ]
  },
  {
   "cell_type": "code",
   "execution_count": 20,
   "metadata": {},
   "outputs": [
    {
     "data": {
      "image/png": "[encoded data removed]",
      "text/plain": [
       "<Figure size 720x432 with 1 Axes>"
      ]
     },
     "metadata": {
      "needs_background": "light"
     },
     "output_type": "display_data"
    }
   ],
   "source": [
    "fig, ax = plt.subplots(figsize=(10,6))\n",
    "ax.scatter(mm['Average_Fare'], mm['Average_Fare1'])\n",
    "ax.set_xlabel('Average_Fare1')\n",
    "ax.set_ylabel('Average_Fare')\n",
    "plt.show()"
   ]
  },
  {
   "cell_type": "code",
   "execution_count": 21,
   "metadata": {},
   "outputs": [
    {
     "data": {
      "image/png": "[encoded data removed]",
      "text/plain": [
       "<Figure size 720x432 with 1 Axes>"
      ]
     },
     "metadata": {
      "needs_background": "light"
     },
     "output_type": "display_data"
    }
   ],
   "source": [
    "fig, ax = plt.subplots(figsize=(10,6))\n",
    "ax.scatter(mm['Average_Fare'], mm['price'])\n",
    "ax.set_xlabel('price')\n",
    "ax.set_ylabel('Average_Fare')\n",
    "plt.show()"
   ]
  },
  {
   "cell_type": "markdown",
   "metadata": {},
   "source": [
    "Divide the data set into training and test data set and build a Multiple Linear Regression model. (5 points) "
   ]
  },
  {
   "cell_type": "code",
   "execution_count": 32,
   "metadata": {},
   "outputs": [
    {
     "data": {
      "text/html": [
       "<div>\n",
       "<style scoped>\n",
       "    .dataframe tbody tr th:only-of-type {\n",
       "        vertical-align: middle;\n",
       "    }\n",
       "\n",
       "    .dataframe tbody tr th {\n",
       "        vertical-align: top;\n",
       "    }\n",
       "\n",
       "    .dataframe thead th {\n",
       "        text-align: right;\n",
       "    }\n",
       "</style>\n",
       "<table border=\"1\" class=\"dataframe\">\n",
       "  <thead>\n",
       "    <tr style=\"text-align: right;\">\n",
       "      <th></th>\n",
       "      <th>Average_Fare</th>\n",
       "      <th>Distance</th>\n",
       "      <th>Average_Fare1</th>\n",
       "      <th>price</th>\n",
       "    </tr>\n",
       "  </thead>\n",
       "  <tbody>\n",
       "    <tr>\n",
       "      <th>Average_Fare</th>\n",
       "      <td>1.000000</td>\n",
       "      <td>0.522650</td>\n",
       "      <td>0.979713</td>\n",
       "      <td>0.840993</td>\n",
       "    </tr>\n",
       "    <tr>\n",
       "      <th>Distance</th>\n",
       "      <td>0.522650</td>\n",
       "      <td>1.000000</td>\n",
       "      <td>0.489721</td>\n",
       "      <td>0.539894</td>\n",
       "    </tr>\n",
       "    <tr>\n",
       "      <th>Average_Fare1</th>\n",
       "      <td>0.979713</td>\n",
       "      <td>0.489721</td>\n",
       "      <td>1.000000</td>\n",
       "      <td>0.794157</td>\n",
       "    </tr>\n",
       "    <tr>\n",
       "      <th>price</th>\n",
       "      <td>0.840993</td>\n",
       "      <td>0.539894</td>\n",
       "      <td>0.794157</td>\n",
       "      <td>1.000000</td>\n",
       "    </tr>\n",
       "  </tbody>\n",
       "</table>\n",
       "</div>"
      ],
      "text/plain": [
       "               Average_Fare  Distance  Average_Fare1     price\n",
       "Average_Fare       1.000000  0.522650       0.979713  0.840993\n",
       "Distance           0.522650  1.000000       0.489721  0.539894\n",
       "Average_Fare1      0.979713  0.489721       1.000000  0.794157\n",
       "price              0.840993  0.539894       0.794157  1.000000"
      ]
     },
     "execution_count": 32,
     "metadata": {},
     "output_type": "execute_result"
    }
   ],
   "source": [
    "mm.head()"
   ]
  },
  {
   "cell_type": "code",
   "execution_count": 33,
   "metadata": {},
   "outputs": [
    {
     "data": {
      "text/html": [
       "<div>\n",
       "<style scoped>\n",
       "    .dataframe tbody tr th:only-of-type {\n",
       "        vertical-align: middle;\n",
       "    }\n",
       "\n",
       "    .dataframe tbody tr th {\n",
       "        vertical-align: top;\n",
       "    }\n",
       "\n",
       "    .dataframe thead th {\n",
       "        text-align: right;\n",
       "    }\n",
       "</style>\n",
       "<table border=\"1\" class=\"dataframe\">\n",
       "  <thead>\n",
       "    <tr style=\"text-align: right;\">\n",
       "      <th></th>\n",
       "      <th>Average_Fare</th>\n",
       "      <th>Distance</th>\n",
       "      <th>Average_weekly_passengers</th>\n",
       "      <th>market_share</th>\n",
       "      <th>Average_Fare1</th>\n",
       "      <th>market_share1</th>\n",
       "      <th>price</th>\n",
       "    </tr>\n",
       "  </thead>\n",
       "  <tbody>\n",
       "    <tr>\n",
       "      <th>0</th>\n",
       "      <td>114.47</td>\n",
       "      <td>528</td>\n",
       "      <td>424.56</td>\n",
       "      <td>70.19</td>\n",
       "      <td>111.03</td>\n",
       "      <td>70.19</td>\n",
       "      <td>111.03</td>\n",
       "    </tr>\n",
       "    <tr>\n",
       "      <th>1</th>\n",
       "      <td>122.47</td>\n",
       "      <td>860</td>\n",
       "      <td>276.84</td>\n",
       "      <td>75.10</td>\n",
       "      <td>123.09</td>\n",
       "      <td>17.23</td>\n",
       "      <td>118.94</td>\n",
       "    </tr>\n",
       "    <tr>\n",
       "      <th>2</th>\n",
       "      <td>214.42</td>\n",
       "      <td>852</td>\n",
       "      <td>215.76</td>\n",
       "      <td>78.89</td>\n",
       "      <td>223.98</td>\n",
       "      <td>2.77</td>\n",
       "      <td>167.12</td>\n",
       "    </tr>\n",
       "    <tr>\n",
       "      <th>3</th>\n",
       "      <td>69.40</td>\n",
       "      <td>288</td>\n",
       "      <td>606.84</td>\n",
       "      <td>96.97</td>\n",
       "      <td>68.86</td>\n",
       "      <td>96.97</td>\n",
       "      <td>68.86</td>\n",
       "    </tr>\n",
       "    <tr>\n",
       "      <th>4</th>\n",
       "      <td>158.13</td>\n",
       "      <td>723</td>\n",
       "      <td>313.04</td>\n",
       "      <td>39.79</td>\n",
       "      <td>161.36</td>\n",
       "      <td>15.34</td>\n",
       "      <td>145.42</td>\n",
       "    </tr>\n",
       "  </tbody>\n",
       "</table>\n",
       "</div>"
      ],
      "text/plain": [
       "   Average_Fare  Distance  Average_weekly_passengers  market_share  \\\n",
       "0        114.47       528                     424.56         70.19   \n",
       "1        122.47       860                     276.84         75.10   \n",
       "2        214.42       852                     215.76         78.89   \n",
       "3         69.40       288                     606.84         96.97   \n",
       "4        158.13       723                     313.04         39.79   \n",
       "\n",
       "   Average_Fare1  market_share1   price  \n",
       "0         111.03          70.19  111.03  \n",
       "1         123.09          17.23  118.94  \n",
       "2         223.98           2.77  167.12  \n",
       "3          68.86          96.97   68.86  \n",
       "4         161.36          15.34  145.42  "
      ]
     },
     "execution_count": 33,
     "metadata": {},
     "output_type": "execute_result"
    }
   ],
   "source": [
    "airdata_remove1.head()"
   ]
  },
  {
   "cell_type": "code",
   "execution_count": 34,
   "metadata": {},
   "outputs": [
    {
     "name": "stdout",
     "output_type": "stream",
     "text": [
      "<class 'numpy.ndarray'>\n",
      "[[1.         0.52265001 0.97971308 0.84099333]\n",
      " [0.52265001 1.         0.48972079 0.53989424]\n",
      " [0.97971308 0.48972079 1.         0.79415744]\n",
      " [0.84099333 0.53989424 0.79415744 1.        ]]\n"
     ]
    }
   ],
   "source": [
    "data3=mm.values # convert the data frame to a numpy array\n",
    "print(type(data3))\n",
    "print(data3)"
   ]
  },
  {
   "cell_type": "code",
   "execution_count": 35,
   "metadata": {},
   "outputs": [
    {
     "name": "stdout",
     "output_type": "stream",
     "text": [
      "(4, 4)\n",
      "(4, 3)\n"
     ]
    }
   ],
   "source": [
    "print(data3.shape)\n",
    "data3=data3[:,1:]\n",
    "print(data3.shape)"
   ]
  },
  {
   "cell_type": "code",
   "execution_count": 37,
   "metadata": {},
   "outputs": [
    {
     "ename": "ValueError",
     "evalue": "Found input variables with inconsistent numbers of samples: [10, 1]",
     "output_type": "error",
     "traceback": [
      "\u001b[1;31m---------------------------------------------------------------------------\u001b[0m",
      "\u001b[1;31mValueError\u001b[0m                                Traceback (most recent call last)",
      "\u001b[1;32m<ipython-input-37-62180e4340c3>\u001b[0m in \u001b[0;36m<module>\u001b[1;34m\u001b[0m\n\u001b[0;32m      1\u001b[0m \u001b[1;32mfrom\u001b[0m \u001b[0msklearn\u001b[0m\u001b[1;33m.\u001b[0m\u001b[0mmodel_selection\u001b[0m \u001b[1;32mimport\u001b[0m \u001b[0mtrain_test_split\u001b[0m\u001b[1;33m\u001b[0m\u001b[1;33m\u001b[0m\u001b[0m\n\u001b[1;32m----> 2\u001b[1;33m \u001b[0mX_train\u001b[0m\u001b[1;33m,\u001b[0m \u001b[0mX_test\u001b[0m\u001b[1;33m,\u001b[0m \u001b[0my_train\u001b[0m\u001b[1;33m,\u001b[0m \u001b[0my_test\u001b[0m \u001b[1;33m=\u001b[0m \u001b[0mtrain_test_split\u001b[0m\u001b[1;33m(\u001b[0m\u001b[0mx\u001b[0m\u001b[1;33m,\u001b[0m \u001b[0my\u001b[0m\u001b[1;33m,\u001b[0m \u001b[0mtest_size\u001b[0m\u001b[1;33m=\u001b[0m\u001b[1;36m0.20\u001b[0m\u001b[1;33m)\u001b[0m\u001b[1;33m\u001b[0m\u001b[1;33m\u001b[0m\u001b[0m\n\u001b[0m",
      "\u001b[1;32m~\\AppData\\Local\\Continuum\\anaconda3\\lib\\site-packages\\sklearn\\model_selection\\_split.py\u001b[0m in \u001b[0;36mtrain_test_split\u001b[1;34m(*arrays, **options)\u001b[0m\n\u001b[0;32m   2182\u001b[0m         \u001b[0mtest_size\u001b[0m \u001b[1;33m=\u001b[0m \u001b[1;36m0.25\u001b[0m\u001b[1;33m\u001b[0m\u001b[1;33m\u001b[0m\u001b[0m\n\u001b[0;32m   2183\u001b[0m \u001b[1;33m\u001b[0m\u001b[0m\n\u001b[1;32m-> 2184\u001b[1;33m     \u001b[0marrays\u001b[0m \u001b[1;33m=\u001b[0m \u001b[0mindexable\u001b[0m\u001b[1;33m(\u001b[0m\u001b[1;33m*\u001b[0m\u001b[0marrays\u001b[0m\u001b[1;33m)\u001b[0m\u001b[1;33m\u001b[0m\u001b[1;33m\u001b[0m\u001b[0m\n\u001b[0m\u001b[0;32m   2185\u001b[0m \u001b[1;33m\u001b[0m\u001b[0m\n\u001b[0;32m   2186\u001b[0m     \u001b[1;32mif\u001b[0m \u001b[0mshuffle\u001b[0m \u001b[1;32mis\u001b[0m \u001b[1;32mFalse\u001b[0m\u001b[1;33m:\u001b[0m\u001b[1;33m\u001b[0m\u001b[1;33m\u001b[0m\u001b[0m\n",
      "\u001b[1;32m~\\AppData\\Local\\Continuum\\anaconda3\\lib\\site-packages\\sklearn\\utils\\validation.py\u001b[0m in \u001b[0;36mindexable\u001b[1;34m(*iterables)\u001b[0m\n\u001b[0;32m    258\u001b[0m         \u001b[1;32melse\u001b[0m\u001b[1;33m:\u001b[0m\u001b[1;33m\u001b[0m\u001b[1;33m\u001b[0m\u001b[0m\n\u001b[0;32m    259\u001b[0m             \u001b[0mresult\u001b[0m\u001b[1;33m.\u001b[0m\u001b[0mappend\u001b[0m\u001b[1;33m(\u001b[0m\u001b[0mnp\u001b[0m\u001b[1;33m.\u001b[0m\u001b[0marray\u001b[0m\u001b[1;33m(\u001b[0m\u001b[0mX\u001b[0m\u001b[1;33m)\u001b[0m\u001b[1;33m)\u001b[0m\u001b[1;33m\u001b[0m\u001b[1;33m\u001b[0m\u001b[0m\n\u001b[1;32m--> 260\u001b[1;33m     \u001b[0mcheck_consistent_length\u001b[0m\u001b[1;33m(\u001b[0m\u001b[1;33m*\u001b[0m\u001b[0mresult\u001b[0m\u001b[1;33m)\u001b[0m\u001b[1;33m\u001b[0m\u001b[1;33m\u001b[0m\u001b[0m\n\u001b[0m\u001b[0;32m    261\u001b[0m     \u001b[1;32mreturn\u001b[0m \u001b[0mresult\u001b[0m\u001b[1;33m\u001b[0m\u001b[1;33m\u001b[0m\u001b[0m\n\u001b[0;32m    262\u001b[0m \u001b[1;33m\u001b[0m\u001b[0m\n",
      "\u001b[1;32m~\\AppData\\Local\\Continuum\\anaconda3\\lib\\site-packages\\sklearn\\utils\\validation.py\u001b[0m in \u001b[0;36mcheck_consistent_length\u001b[1;34m(*arrays)\u001b[0m\n\u001b[0;32m    233\u001b[0m     \u001b[1;32mif\u001b[0m \u001b[0mlen\u001b[0m\u001b[1;33m(\u001b[0m\u001b[0muniques\u001b[0m\u001b[1;33m)\u001b[0m \u001b[1;33m>\u001b[0m \u001b[1;36m1\u001b[0m\u001b[1;33m:\u001b[0m\u001b[1;33m\u001b[0m\u001b[1;33m\u001b[0m\u001b[0m\n\u001b[0;32m    234\u001b[0m         raise ValueError(\"Found input variables with inconsistent numbers of\"\n\u001b[1;32m--> 235\u001b[1;33m                          \" samples: %r\" % [int(l) for l in lengths])\n\u001b[0m\u001b[0;32m    236\u001b[0m \u001b[1;33m\u001b[0m\u001b[0m\n\u001b[0;32m    237\u001b[0m \u001b[1;33m\u001b[0m\u001b[0m\n",
      "\u001b[1;31mValueError\u001b[0m: Found input variables with inconsistent numbers of samples: [10, 1]"
     ]
    }
   ],
   "source": [
    "from sklearn.model_selection import train_test_split\n",
    "X_train, X_test, y_train, y_test = train_test_split(x, y, test_size=0.20)\n"
   ]
  },
  {
   "cell_type": "code",
   "execution_count": null,
   "metadata": {},
   "outputs": [],
   "source": []
  },
  {
   "cell_type": "code",
   "execution_count": null,
   "metadata": {},
   "outputs": [],
   "source": []
  },
  {
   "cell_type": "markdown",
   "metadata": {},
   "source": [
    "Print the coefficients & intercepts of the linear regression model (5 points) "
   ]
  },
  {
   "cell_type": "code",
   "execution_count": null,
   "metadata": {},
   "outputs": [],
   "source": []
  },
  {
   "cell_type": "markdown",
   "metadata": {},
   "source": [
    "Print the accuracy of the overall model (2.5 points)"
   ]
  },
  {
   "cell_type": "code",
   "execution_count": null,
   "metadata": {},
   "outputs": [],
   "source": []
  },
  {
   "cell_type": "code",
   "execution_count": null,
   "metadata": {},
   "outputs": [],
   "source": []
  },
  {
   "cell_type": "code",
   "execution_count": null,
   "metadata": {},
   "outputs": [],
   "source": []
  },
  {
   "cell_type": "code",
   "execution_count": null,
   "metadata": {},
   "outputs": [],
   "source": []
  },
  {
   "cell_type": "code",
   "execution_count": null,
   "metadata": {},
   "outputs": [],
   "source": []
  },
  {
   "cell_type": "markdown",
   "metadata": {},
   "source": [
    "Treat “Average Fare” – 3rdColumn as your Dependent Variable and Rest of the columns as Independent Variable. (2.5 points)"
   ]
  },
  {
   "cell_type": "code",
   "execution_count": null,
   "metadata": {},
   "outputs": [],
   "source": []
  },
  {
   "cell_type": "code",
   "execution_count": null,
   "metadata": {},
   "outputs": [],
   "source": []
  },
  {
   "cell_type": "code",
   "execution_count": null,
   "metadata": {},
   "outputs": [],
   "source": []
  }
 ],
 "metadata": {
  "kernelspec": {
   "display_name": "Python 3",
   "language": "python",
   "name": "python3"
  },
  "language_info": {
   "codemirror_mode": {
    "name": "ipython",
    "version": 3
   },
   "file_extension": ".py",
   "mimetype": "text/x-python",
   "name": "python",
   "nbconvert_exporter": "python",
   "pygments_lexer": "ipython3",
   "version": "3.7.3"
  }
 },
 "nbformat": 4,
 "nbformat_minor": 2
}
