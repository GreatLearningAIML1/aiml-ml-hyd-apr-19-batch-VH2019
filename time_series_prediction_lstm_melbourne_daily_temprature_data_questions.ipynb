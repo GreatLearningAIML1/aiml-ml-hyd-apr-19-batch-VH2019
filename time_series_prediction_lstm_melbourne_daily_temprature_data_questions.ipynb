{
  "nbformat": 4,
  "nbformat_minor": 0,
  "metadata": {
    "colab": {
      "name": "time_series_prediction_lstm_melbourne_daily_temprature_data_questions.ipynb",
      "provenance": [],
      "collapsed_sections": [],
      "toc_visible": true
    },
    "kernelspec": {
      "display_name": "Python 3",
      "language": "python",
      "name": "python3"
    },
    "language_info": {
      "codemirror_mode": {
        "name": "ipython",
        "version": 3
      },
      "file_extension": ".py",
      "mimetype": "text/x-python",
      "name": "python",
      "nbconvert_exporter": "python",
      "pygments_lexer": "ipython3",
      "version": "3.7.3"
    }
  },
  "cells": [
    {
      "cell_type": "markdown",
      "metadata": {
        "id": "QBQEr4NTFFoO",
        "colab_type": "text"
      },
      "source": [
        "## Time Series Prediction using LSTM"
      ]
    },
    {
      "cell_type": "markdown",
      "metadata": {
        "id": "N5wooZIAFFoR",
        "colab_type": "text"
      },
      "source": [
        "### Download Data\n",
        "Link: https://datamarket.com/data/set/2324/daily-minimum-temperatures-in-melbourne-australia-1981-1990#!ds=2324&display=line\n",
        "\n",
        "#### Description\n",
        "Daily minimum temperatures in Melbourne, Australia, 1981-1990\n",
        "\n",
        "Units: Degrees Celcius\n",
        "\n",
        "#### Steps before loading\n",
        "- Rename the column name with temprature values to \"Temprature\"\n",
        "- In the last, there is one extra row in the data, remove it by opening the file and save it again.\n",
        "- There are some values in Temprature column which have a \"?\" before them, they will give error, remove \"?\" before them and save the file\n",
        "- If you don't want to do these steps, just load the data file given by Great Learning."
      ]
    },
    {
      "cell_type": "markdown",
      "metadata": {
        "id": "HagKlooFFFoT",
        "colab_type": "text"
      },
      "source": [
        "#### Mount google drive"
      ]
    },
    {
      "cell_type": "code",
      "metadata": {
        "colab_type": "code",
        "id": "VjoLRSg57qlt",
        "outputId": "fa9820fb-e4e0-45ed-eae9-f94437298c9b",
        "colab": {
          "base_uri": "https://localhost:8080/",
          "height": 54
        }
      },
      "source": [
        "from google.colab import drive\n",
        "drive.mount('/content/drive')"
      ],
      "execution_count": 201,
      "outputs": [
        {
          "output_type": "stream",
          "text": [
            "Drive already mounted at /content/drive; to attempt to forcibly remount, call drive.mount(\"/content/drive\", force_remount=True).\n"
          ],
          "name": "stdout"
        }
      ]
    },
    {
      "cell_type": "markdown",
      "metadata": {
        "id": "0UlUfrPmFFoa",
        "colab_type": "text"
      },
      "source": [
        "#### Change your present working directory"
      ]
    },
    {
      "cell_type": "code",
      "metadata": {
        "id": "WBy1fbAtFgiM",
        "colab_type": "code",
        "colab": {}
      },
      "source": [
        "root_path = '/content/drive/My Drive/AIML/Lab9 Melbourne Temperature'  #change dir to your project folder"
      ],
      "execution_count": 0,
      "outputs": []
    },
    {
      "cell_type": "code",
      "metadata": {
        "id": "558p-kFWjjLM",
        "colab_type": "code",
        "colab": {
          "base_uri": "https://localhost:8080/",
          "height": 34
        },
        "outputId": "c49ab545-f05f-4314-db2a-a3c91eaf8fe6"
      },
      "source": [
        "ls"
      ],
      "execution_count": 203,
      "outputs": [
        {
          "output_type": "stream",
          "text": [
            "\u001b[0m\u001b[01;34mdrive\u001b[0m/  \u001b[01;34msample_data\u001b[0m/\n"
          ],
          "name": "stdout"
        }
      ]
    },
    {
      "cell_type": "markdown",
      "metadata": {
        "id": "ZnI3Vau4FFoe",
        "colab_type": "text"
      },
      "source": [
        "### Load your data file"
      ]
    },
    {
      "cell_type": "code",
      "metadata": {
        "colab_type": "code",
        "id": "AanHqGBu7Jw2",
        "colab": {}
      },
      "source": [
        "import os\n",
        "import time\n",
        "from __future__ import absolute_import\n",
        "from __future__ import print_function\n",
        "from datetime import timedelta\n",
        "import numpy as np\n",
        "import pandas as pd\n",
        "import tensorflow as tf\n",
        "import matplotlib.pyplot as plt\n",
        "import seaborn as sns\n",
        "import keras\n",
        "import cv2"
      ],
      "execution_count": 0,
      "outputs": []
    },
    {
      "cell_type": "code",
      "metadata": {
        "id": "eKgCrBoZjo3-",
        "colab_type": "code",
        "colab": {}
      },
      "source": [
        "mtemp=pd.read_csv('/content/drive/My Drive/AIML/Lab9 Melbourne Temperature/daily-minimum-temperatures-in-me.csv')"
      ],
      "execution_count": 0,
      "outputs": []
    },
    {
      "cell_type": "code",
      "metadata": {
        "id": "t3tY_qnuyzVm",
        "colab_type": "code",
        "colab": {
          "base_uri": "https://localhost:8080/",
          "height": 138
        },
        "outputId": "a7289576-93de-4b80-f265-6946b8dca5ff"
      },
      "source": [
        "mtemp.info()"
      ],
      "execution_count": 206,
      "outputs": [
        {
          "output_type": "stream",
          "text": [
            "<class 'pandas.core.frame.DataFrame'>\n",
            "RangeIndex: 3650 entries, 0 to 3649\n",
            "Data columns (total 2 columns):\n",
            "Date           3650 non-null object\n",
            "Temperature    3650 non-null float64\n",
            "dtypes: float64(1), object(1)\n",
            "memory usage: 57.2+ KB\n"
          ],
          "name": "stdout"
        }
      ]
    },
    {
      "cell_type": "code",
      "metadata": {
        "id": "iER3mvoojo6_",
        "colab_type": "code",
        "colab": {
          "base_uri": "https://localhost:8080/",
          "height": 198
        },
        "outputId": "feff3180-c119-49f4-9935-5fe9328c628d"
      },
      "source": [
        "mtemp.head()"
      ],
      "execution_count": 207,
      "outputs": [
        {
          "output_type": "execute_result",
          "data": {
            "text/html": [
              "<div>\n",
              "<style scoped>\n",
              "    .dataframe tbody tr th:only-of-type {\n",
              "        vertical-align: middle;\n",
              "    }\n",
              "\n",
              "    .dataframe tbody tr th {\n",
              "        vertical-align: top;\n",
              "    }\n",
              "\n",
              "    .dataframe thead th {\n",
              "        text-align: right;\n",
              "    }\n",
              "</style>\n",
              "<table border=\"1\" class=\"dataframe\">\n",
              "  <thead>\n",
              "    <tr style=\"text-align: right;\">\n",
              "      <th></th>\n",
              "      <th>Date</th>\n",
              "      <th>Temperature</th>\n",
              "    </tr>\n",
              "  </thead>\n",
              "  <tbody>\n",
              "    <tr>\n",
              "      <th>0</th>\n",
              "      <td>1981-01-01</td>\n",
              "      <td>20.7</td>\n",
              "    </tr>\n",
              "    <tr>\n",
              "      <th>1</th>\n",
              "      <td>1981-01-02</td>\n",
              "      <td>17.9</td>\n",
              "    </tr>\n",
              "    <tr>\n",
              "      <th>2</th>\n",
              "      <td>1981-01-03</td>\n",
              "      <td>18.8</td>\n",
              "    </tr>\n",
              "    <tr>\n",
              "      <th>3</th>\n",
              "      <td>1981-01-04</td>\n",
              "      <td>14.6</td>\n",
              "    </tr>\n",
              "    <tr>\n",
              "      <th>4</th>\n",
              "      <td>1981-01-05</td>\n",
              "      <td>15.8</td>\n",
              "    </tr>\n",
              "  </tbody>\n",
              "</table>\n",
              "</div>"
            ],
            "text/plain": [
              "         Date  Temperature\n",
              "0  1981-01-01         20.7\n",
              "1  1981-01-02         17.9\n",
              "2  1981-01-03         18.8\n",
              "3  1981-01-04         14.6\n",
              "4  1981-01-05         15.8"
            ]
          },
          "metadata": {
            "tags": []
          },
          "execution_count": 207
        }
      ]
    },
    {
      "cell_type": "code",
      "metadata": {
        "id": "rJwVR7mTptYw",
        "colab_type": "code",
        "colab": {
          "base_uri": "https://localhost:8080/",
          "height": 69
        },
        "outputId": "4a05b886-8ef8-4903-e53a-bf6183ac1f72"
      },
      "source": [
        "mtemp.count()"
      ],
      "execution_count": 208,
      "outputs": [
        {
          "output_type": "execute_result",
          "data": {
            "text/plain": [
              "Date           3650\n",
              "Temperature    3650\n",
              "dtype: int64"
            ]
          },
          "metadata": {
            "tags": []
          },
          "execution_count": 208
        }
      ]
    },
    {
      "cell_type": "code",
      "metadata": {
        "id": "qjNSelskvhj4",
        "colab_type": "code",
        "colab": {
          "base_uri": "https://localhost:8080/",
          "height": 52
        },
        "outputId": "5627b0e3-1657-4b08-f581-04faf8e8d12b"
      },
      "source": [
        "mtemp.Date.unique()"
      ],
      "execution_count": 209,
      "outputs": [
        {
          "output_type": "execute_result",
          "data": {
            "text/plain": [
              "array(['1981-01-01', '1981-01-02', '1981-01-03', ..., '1990-12-29',\n",
              "       '1990-12-30', '1990-12-31'], dtype=object)"
            ]
          },
          "metadata": {
            "tags": []
          },
          "execution_count": 209
        }
      ]
    },
    {
      "cell_type": "markdown",
      "metadata": {
        "id": "vrPiGMbUFFoh",
        "colab_type": "text"
      },
      "source": [
        "#### Plot data"
      ]
    },
    {
      "cell_type": "code",
      "metadata": {
        "id": "PFleTEvGIzJ7",
        "colab_type": "code",
        "colab": {
          "base_uri": "https://localhost:8080/",
          "height": 282
        },
        "outputId": "29672169-70e4-4934-c792-4f8478ef9caa"
      },
      "source": [
        "mtemp.plot()"
      ],
      "execution_count": 210,
      "outputs": [
        {
          "output_type": "execute_result",
          "data": {
            "text/plain": [
              "<matplotlib.axes._subplots.AxesSubplot at 0x7f71c5bf8470>"
            ]
          },
          "metadata": {
            "tags": []
          },
          "execution_count": 210
        },
        {
          "output_type": "display_data",
          "data": {
            "image/png": "[encoded data removed]",
            "text/plain": [
              "<Figure size 432x288 with 1 Axes>"
            ]
          },
          "metadata": {
            "tags": []
          }
        }
      ]
    },
    {
      "cell_type": "markdown",
      "metadata": {
        "id": "0dilJuRdFFok",
        "colab_type": "text"
      },
      "source": [
        "#### Describe your dataframe"
      ]
    },
    {
      "cell_type": "code",
      "metadata": {
        "colab_type": "code",
        "id": "oBWNA_kG7JxC",
        "colab": {
          "base_uri": "https://localhost:8080/",
          "height": 78
        },
        "outputId": "ee6066d4-7fd9-409d-993f-8973a7fbc959"
      },
      "source": [
        "mtemp.describe().T"
      ],
      "execution_count": 211,
      "outputs": [
        {
          "output_type": "execute_result",
          "data": {
            "text/html": [
              "<div>\n",
              "<style scoped>\n",
              "    .dataframe tbody tr th:only-of-type {\n",
              "        vertical-align: middle;\n",
              "    }\n",
              "\n",
              "    .dataframe tbody tr th {\n",
              "        vertical-align: top;\n",
              "    }\n",
              "\n",
              "    .dataframe thead th {\n",
              "        text-align: right;\n",
              "    }\n",
              "</style>\n",
              "<table border=\"1\" class=\"dataframe\">\n",
              "  <thead>\n",
              "    <tr style=\"text-align: right;\">\n",
              "      <th></th>\n",
              "      <th>count</th>\n",
              "      <th>mean</th>\n",
              "      <th>std</th>\n",
              "      <th>min</th>\n",
              "      <th>25%</th>\n",
              "      <th>50%</th>\n",
              "      <th>75%</th>\n",
              "      <th>max</th>\n",
              "    </tr>\n",
              "  </thead>\n",
              "  <tbody>\n",
              "    <tr>\n",
              "      <th>Temperature</th>\n",
              "      <td>3650.0</td>\n",
              "      <td>11.177753</td>\n",
              "      <td>4.071837</td>\n",
              "      <td>0.0</td>\n",
              "      <td>8.3</td>\n",
              "      <td>11.0</td>\n",
              "      <td>14.0</td>\n",
              "      <td>26.3</td>\n",
              "    </tr>\n",
              "  </tbody>\n",
              "</table>\n",
              "</div>"
            ],
            "text/plain": [
              "              count       mean       std  min  25%   50%   75%   max\n",
              "Temperature  3650.0  11.177753  4.071837  0.0  8.3  11.0  14.0  26.3"
            ]
          },
          "metadata": {
            "tags": []
          },
          "execution_count": 211
        }
      ]
    },
    {
      "cell_type": "markdown",
      "metadata": {
        "id": "C_bm8dxWFFon",
        "colab_type": "text"
      },
      "source": [
        "#### Check for null values"
      ]
    },
    {
      "cell_type": "code",
      "metadata": {
        "colab_type": "code",
        "id": "97MVIy_N7JxH",
        "colab": {
          "base_uri": "https://localhost:8080/",
          "height": 69
        },
        "outputId": "be8d7054-2268-48ab-fcff-fc63d5be2a03"
      },
      "source": [
        "mtemp.isnull().sum()"
      ],
      "execution_count": 212,
      "outputs": [
        {
          "output_type": "execute_result",
          "data": {
            "text/plain": [
              "Date           0\n",
              "Temperature    0\n",
              "dtype: int64"
            ]
          },
          "metadata": {
            "tags": []
          },
          "execution_count": 212
        }
      ]
    },
    {
      "cell_type": "markdown",
      "metadata": {
        "id": "QiFimDgGMjWf",
        "colab_type": "text"
      },
      "source": [
        "*Observation :There are no NULL values in dataset*"
      ]
    },
    {
      "cell_type": "markdown",
      "metadata": {
        "id": "QLipBuNCFFoq",
        "colab_type": "text"
      },
      "source": [
        "#### Drop null values"
      ]
    },
    {
      "cell_type": "code",
      "metadata": {
        "colab_type": "code",
        "id": "fgh7mdOI7JxS",
        "colab": {
          "base_uri": "https://localhost:8080/",
          "height": 408
        },
        "outputId": "4980a820-ce36-4b41-986c-fc0621844b06"
      },
      "source": [
        "#there are no null values, still running below code to drop NULL values\n",
        "mtemp.dropna()"
      ],
      "execution_count": 213,
      "outputs": [
        {
          "output_type": "execute_result",
          "data": {
            "text/html": [
              "<div>\n",
              "<style scoped>\n",
              "    .dataframe tbody tr th:only-of-type {\n",
              "        vertical-align: middle;\n",
              "    }\n",
              "\n",
              "    .dataframe tbody tr th {\n",
              "        vertical-align: top;\n",
              "    }\n",
              "\n",
              "    .dataframe thead th {\n",
              "        text-align: right;\n",
              "    }\n",
              "</style>\n",
              "<table border=\"1\" class=\"dataframe\">\n",
              "  <thead>\n",
              "    <tr style=\"text-align: right;\">\n",
              "      <th></th>\n",
              "      <th>Date</th>\n",
              "      <th>Temperature</th>\n",
              "    </tr>\n",
              "  </thead>\n",
              "  <tbody>\n",
              "    <tr>\n",
              "      <th>0</th>\n",
              "      <td>1981-01-01</td>\n",
              "      <td>20.7</td>\n",
              "    </tr>\n",
              "    <tr>\n",
              "      <th>1</th>\n",
              "      <td>1981-01-02</td>\n",
              "      <td>17.9</td>\n",
              "    </tr>\n",
              "    <tr>\n",
              "      <th>2</th>\n",
              "      <td>1981-01-03</td>\n",
              "      <td>18.8</td>\n",
              "    </tr>\n",
              "    <tr>\n",
              "      <th>3</th>\n",
              "      <td>1981-01-04</td>\n",
              "      <td>14.6</td>\n",
              "    </tr>\n",
              "    <tr>\n",
              "      <th>4</th>\n",
              "      <td>1981-01-05</td>\n",
              "      <td>15.8</td>\n",
              "    </tr>\n",
              "    <tr>\n",
              "      <th>...</th>\n",
              "      <td>...</td>\n",
              "      <td>...</td>\n",
              "    </tr>\n",
              "    <tr>\n",
              "      <th>3645</th>\n",
              "      <td>1990-12-27</td>\n",
              "      <td>14.0</td>\n",
              "    </tr>\n",
              "    <tr>\n",
              "      <th>3646</th>\n",
              "      <td>1990-12-28</td>\n",
              "      <td>13.6</td>\n",
              "    </tr>\n",
              "    <tr>\n",
              "      <th>3647</th>\n",
              "      <td>1990-12-29</td>\n",
              "      <td>13.5</td>\n",
              "    </tr>\n",
              "    <tr>\n",
              "      <th>3648</th>\n",
              "      <td>1990-12-30</td>\n",
              "      <td>15.7</td>\n",
              "    </tr>\n",
              "    <tr>\n",
              "      <th>3649</th>\n",
              "      <td>1990-12-31</td>\n",
              "      <td>13.0</td>\n",
              "    </tr>\n",
              "  </tbody>\n",
              "</table>\n",
              "<p>3650 rows × 2 columns</p>\n",
              "</div>"
            ],
            "text/plain": [
              "            Date  Temperature\n",
              "0     1981-01-01         20.7\n",
              "1     1981-01-02         17.9\n",
              "2     1981-01-03         18.8\n",
              "3     1981-01-04         14.6\n",
              "4     1981-01-05         15.8\n",
              "...          ...          ...\n",
              "3645  1990-12-27         14.0\n",
              "3646  1990-12-28         13.6\n",
              "3647  1990-12-29         13.5\n",
              "3648  1990-12-30         15.7\n",
              "3649  1990-12-31         13.0\n",
              "\n",
              "[3650 rows x 2 columns]"
            ]
          },
          "metadata": {
            "tags": []
          },
          "execution_count": 213
        }
      ]
    },
    {
      "cell_type": "markdown",
      "metadata": {
        "id": "u6oVvKiQFFos",
        "colab_type": "text"
      },
      "source": [
        "#### Get the representation of the distribution of data in the form of histogram"
      ]
    },
    {
      "cell_type": "code",
      "metadata": {
        "id": "wCfYc4A0FFoi",
        "colab_type": "code",
        "colab": {
          "base_uri": "https://localhost:8080/",
          "height": 301
        },
        "outputId": "91e0427d-97de-46a2-c84d-8bb02fd4e820"
      },
      "source": [
        "mtemp['Temperature'].hist(bins=10)\n",
        "plt.ylabel(\"Temperature\", fontsize=15)\n",
        "plt.xlabel(\"Date\",fontsize=15)"
      ],
      "execution_count": 214,
      "outputs": [
        {
          "output_type": "execute_result",
          "data": {
            "text/plain": [
              "Text(0.5, 0, 'Date')"
            ]
          },
          "metadata": {
            "tags": []
          },
          "execution_count": 214
        },
        {
          "output_type": "display_data",
          "data": {
            "image/png": "[encoded data removed]",
            "text/plain": [
              "<Figure size 432x288 with 1 Axes>"
            ]
          },
          "metadata": {
            "tags": []
          }
        }
      ]
    },
    {
      "cell_type": "code",
      "metadata": {
        "id": "KED3oFUIP9oi",
        "colab_type": "code",
        "colab": {
          "base_uri": "https://localhost:8080/",
          "height": 296
        },
        "outputId": "edde0b1c-c0b1-4b6a-8b49-09606216c1da"
      },
      "source": [
        "sns.distplot(mtemp['Temperature'], color='red')"
      ],
      "execution_count": 215,
      "outputs": [
        {
          "output_type": "execute_result",
          "data": {
            "text/plain": [
              "<matplotlib.axes._subplots.AxesSubplot at 0x7f71c5b18048>"
            ]
          },
          "metadata": {
            "tags": []
          },
          "execution_count": 215
        },
        {
          "output_type": "display_data",
          "data": {
            "image/png": "[encoded data removed]",
            "text/plain": [
              "<Figure size 432x288 with 1 Axes>"
            ]
          },
          "metadata": {
            "tags": []
          }
        }
      ]
    },
    {
      "cell_type": "markdown",
      "metadata": {
        "id": "QRgDeqagFFov",
        "colab_type": "text"
      },
      "source": [
        "#### Check the maximum and minimum values"
      ]
    },
    {
      "cell_type": "code",
      "metadata": {
        "colab_type": "code",
        "id": "WmkjCx8c7Jxn",
        "colab": {
          "base_uri": "https://localhost:8080/",
          "height": 78
        },
        "outputId": "fb3ad6b0-1152-4c77-eb35-ce7f8b281945"
      },
      "source": [
        "mtemp[mtemp['Temperature']==mtemp['Temperature'].max()]"
      ],
      "execution_count": 216,
      "outputs": [
        {
          "output_type": "execute_result",
          "data": {
            "text/html": [
              "<div>\n",
              "<style scoped>\n",
              "    .dataframe tbody tr th:only-of-type {\n",
              "        vertical-align: middle;\n",
              "    }\n",
              "\n",
              "    .dataframe tbody tr th {\n",
              "        vertical-align: top;\n",
              "    }\n",
              "\n",
              "    .dataframe thead th {\n",
              "        text-align: right;\n",
              "    }\n",
              "</style>\n",
              "<table border=\"1\" class=\"dataframe\">\n",
              "  <thead>\n",
              "    <tr style=\"text-align: right;\">\n",
              "      <th></th>\n",
              "      <th>Date</th>\n",
              "      <th>Temperature</th>\n",
              "    </tr>\n",
              "  </thead>\n",
              "  <tbody>\n",
              "    <tr>\n",
              "      <th>410</th>\n",
              "      <td>1982-02-15</td>\n",
              "      <td>26.3</td>\n",
              "    </tr>\n",
              "  </tbody>\n",
              "</table>\n",
              "</div>"
            ],
            "text/plain": [
              "           Date  Temperature\n",
              "410  1982-02-15         26.3"
            ]
          },
          "metadata": {
            "tags": []
          },
          "execution_count": 216
        }
      ]
    },
    {
      "cell_type": "code",
      "metadata": {
        "id": "LfzC8XguQ7KK",
        "colab_type": "code",
        "colab": {
          "base_uri": "https://localhost:8080/",
          "height": 108
        },
        "outputId": "e9a8b214-7fa2-4323-a71f-0a2ae032548a"
      },
      "source": [
        "mtemp[mtemp['Temperature']==mtemp['Temperature'].min()]"
      ],
      "execution_count": 217,
      "outputs": [
        {
          "output_type": "execute_result",
          "data": {
            "text/html": [
              "<div>\n",
              "<style scoped>\n",
              "    .dataframe tbody tr th:only-of-type {\n",
              "        vertical-align: middle;\n",
              "    }\n",
              "\n",
              "    .dataframe tbody tr th {\n",
              "        vertical-align: top;\n",
              "    }\n",
              "\n",
              "    .dataframe thead th {\n",
              "        text-align: right;\n",
              "    }\n",
              "</style>\n",
              "<table border=\"1\" class=\"dataframe\">\n",
              "  <thead>\n",
              "    <tr style=\"text-align: right;\">\n",
              "      <th></th>\n",
              "      <th>Date</th>\n",
              "      <th>Temperature</th>\n",
              "    </tr>\n",
              "  </thead>\n",
              "  <tbody>\n",
              "    <tr>\n",
              "      <th>520</th>\n",
              "      <td>1982-06-05</td>\n",
              "      <td>0.0</td>\n",
              "    </tr>\n",
              "    <tr>\n",
              "      <th>934</th>\n",
              "      <td>1983-07-24</td>\n",
              "      <td>0.0</td>\n",
              "    </tr>\n",
              "  </tbody>\n",
              "</table>\n",
              "</div>"
            ],
            "text/plain": [
              "           Date  Temperature\n",
              "520  1982-06-05          0.0\n",
              "934  1983-07-24          0.0"
            ]
          },
          "metadata": {
            "tags": []
          },
          "execution_count": 217
        }
      ]
    },
    {
      "cell_type": "markdown",
      "metadata": {
        "id": "gMkCyRO-FFoy",
        "colab_type": "text"
      },
      "source": [
        "### Normalize the data"
      ]
    },
    {
      "cell_type": "code",
      "metadata": {
        "id": "7HQtNDLfYej9",
        "colab_type": "code",
        "colab": {}
      },
      "source": [
        "np.random.seed(7)"
      ],
      "execution_count": 0,
      "outputs": []
    },
    {
      "cell_type": "code",
      "metadata": {
        "id": "-RLg5-DwWY_L",
        "colab_type": "code",
        "colab": {
          "base_uri": "https://localhost:8080/",
          "height": 138
        },
        "outputId": "49c22394-a7b1-4ad3-a596-d85496365416"
      },
      "source": [
        "# exclude the date column(each observation is separated by the same interval)\n",
        "# extract the NumPy array from the dataframe\n",
        "mtemp_t=mtemp[['Temperature']].values\n",
        "mtemp_t"
      ],
      "execution_count": 219,
      "outputs": [
        {
          "output_type": "execute_result",
          "data": {
            "text/plain": [
              "array([[20.7],\n",
              "       [17.9],\n",
              "       [18.8],\n",
              "       ...,\n",
              "       [13.5],\n",
              "       [15.7],\n",
              "       [13. ]])"
            ]
          },
          "metadata": {
            "tags": []
          },
          "execution_count": 219
        }
      ]
    },
    {
      "cell_type": "code",
      "metadata": {
        "id": "i1V--wagWiNS",
        "colab_type": "code",
        "colab": {
          "base_uri": "https://localhost:8080/",
          "height": 34
        },
        "outputId": "b3c84d71-f69b-4f14-88fd-268231316dd5"
      },
      "source": [
        "mtemp_t.shape"
      ],
      "execution_count": 220,
      "outputs": [
        {
          "output_type": "execute_result",
          "data": {
            "text/plain": [
              "(3650, 1)"
            ]
          },
          "metadata": {
            "tags": []
          },
          "execution_count": 220
        }
      ]
    },
    {
      "cell_type": "code",
      "metadata": {
        "id": "DJVJZKz_YSxZ",
        "colab_type": "code",
        "colab": {
          "base_uri": "https://localhost:8080/",
          "height": 104
        },
        "outputId": "c2a04824-ffc7-43c1-a03e-0664b6c39e5f"
      },
      "source": [
        "mtemp_t[:5]"
      ],
      "execution_count": 221,
      "outputs": [
        {
          "output_type": "execute_result",
          "data": {
            "text/plain": [
              "array([[20.7],\n",
              "       [17.9],\n",
              "       [18.8],\n",
              "       [14.6],\n",
              "       [15.8]])"
            ]
          },
          "metadata": {
            "tags": []
          },
          "execution_count": 221
        }
      ]
    },
    {
      "cell_type": "code",
      "metadata": {
        "colab_type": "code",
        "id": "fb4SNzD27Jxw",
        "colab": {}
      },
      "source": [
        "from sklearn.preprocessing import MinMaxScaler\n",
        "scaler=MinMaxScaler(feature_range=(0,1))"
      ],
      "execution_count": 0,
      "outputs": []
    },
    {
      "cell_type": "code",
      "metadata": {
        "id": "ayHkBS01RQ0s",
        "colab_type": "code",
        "colab": {}
      },
      "source": [
        "mtemp_t = scaler.fit_transform(mtemp_t)"
      ],
      "execution_count": 0,
      "outputs": []
    },
    {
      "cell_type": "markdown",
      "metadata": {
        "id": "sS0eYqMiFFo0",
        "colab_type": "text"
      },
      "source": [
        "#### Check the maximum and minimum values of scaled data"
      ]
    },
    {
      "cell_type": "code",
      "metadata": {
        "colab_type": "code",
        "id": "clv2rSfL7Jx4",
        "colab": {
          "base_uri": "https://localhost:8080/",
          "height": 34
        },
        "outputId": "bfcc651a-cbc3-4539-95b5-5f663ac31dd7"
      },
      "source": [
        "mtemp_t.max()"
      ],
      "execution_count": 224,
      "outputs": [
        {
          "output_type": "execute_result",
          "data": {
            "text/plain": [
              "1.0"
            ]
          },
          "metadata": {
            "tags": []
          },
          "execution_count": 224
        }
      ]
    },
    {
      "cell_type": "code",
      "metadata": {
        "id": "lLJItF23g9L1",
        "colab_type": "code",
        "colab": {
          "base_uri": "https://localhost:8080/",
          "height": 34
        },
        "outputId": "e4b685df-fd5e-4468-f2aa-a2f9068ceac5"
      },
      "source": [
        "mtemp_t.min()"
      ],
      "execution_count": 225,
      "outputs": [
        {
          "output_type": "execute_result",
          "data": {
            "text/plain": [
              "0.0"
            ]
          },
          "metadata": {
            "tags": []
          },
          "execution_count": 225
        }
      ]
    },
    {
      "cell_type": "markdown",
      "metadata": {
        "id": "8c5h0MURFFo3",
        "colab_type": "text"
      },
      "source": [
        "#### Look into some of the scaled values"
      ]
    },
    {
      "cell_type": "code",
      "metadata": {
        "colab_type": "code",
        "id": "Xq9CBinO7Jx9",
        "colab": {
          "base_uri": "https://localhost:8080/",
          "height": 138
        },
        "outputId": "1b154b3a-cf84-4016-a2fa-6a1e636b8676"
      },
      "source": [
        "mtemp_t"
      ],
      "execution_count": 226,
      "outputs": [
        {
          "output_type": "execute_result",
          "data": {
            "text/plain": [
              "array([[0.78707224],\n",
              "       [0.68060837],\n",
              "       [0.7148289 ],\n",
              "       ...,\n",
              "       [0.51330798],\n",
              "       [0.59695817],\n",
              "       [0.49429658]])"
            ]
          },
          "metadata": {
            "tags": []
          },
          "execution_count": 226
        }
      ]
    },
    {
      "cell_type": "code",
      "metadata": {
        "id": "uA15sEEchKnn",
        "colab_type": "code",
        "colab": {
          "base_uri": "https://localhost:8080/",
          "height": 69
        },
        "outputId": "a6c032af-b78c-4c79-bd27-d84b69387f02"
      },
      "source": [
        "print(mtemp_t[0])\n",
        "print(mtemp_t[1])\n",
        "print(mtemp_t[3649])"
      ],
      "execution_count": 227,
      "outputs": [
        {
          "output_type": "stream",
          "text": [
            "[0.78707224]\n",
            "[0.68060837]\n",
            "[0.49429658]\n"
          ],
          "name": "stdout"
        }
      ]
    },
    {
      "cell_type": "markdown",
      "metadata": {
        "id": "oZvRyf1bFFo5",
        "colab_type": "text"
      },
      "source": [
        "### Split data into Training and Testing"
      ]
    },
    {
      "cell_type": "code",
      "metadata": {
        "id": "ZHXqyjm6nj5s",
        "colab_type": "code",
        "colab": {}
      },
      "source": [
        "from sklearn.model_selection import train_test_split"
      ],
      "execution_count": 0,
      "outputs": []
    },
    {
      "cell_type": "code",
      "metadata": {
        "colab_type": "code",
        "id": "-0Uh7lCO7JyD",
        "colab": {}
      },
      "source": [
        "train_size = int(len(mtemp_t) * 0.67)\n",
        "test_size = len(mtemp_t) - train_size\n",
        "train, test = mtemp_t[0:train_size,:], mtemp_t[train_size:len(mtemp_t),:]\n"
      ],
      "execution_count": 0,
      "outputs": []
    },
    {
      "cell_type": "markdown",
      "metadata": {
        "id": "IFhV1YbxFFo8",
        "colab_type": "text"
      },
      "source": [
        "#### Print train and test size"
      ]
    },
    {
      "cell_type": "code",
      "metadata": {
        "id": "ul5v6ifzFFo9",
        "colab_type": "code",
        "colab": {
          "base_uri": "https://localhost:8080/",
          "height": 34
        },
        "outputId": "5714c63f-513e-4b34-c937-7d265848109f"
      },
      "source": [
        "print(len(train), len(test))"
      ],
      "execution_count": 230,
      "outputs": [
        {
          "output_type": "stream",
          "text": [
            "2445 1205\n"
          ],
          "name": "stdout"
        }
      ]
    },
    {
      "cell_type": "markdown",
      "metadata": {
        "id": "uMk8pgGqFFo_",
        "colab_type": "text"
      },
      "source": [
        "## Create the sequential data\n",
        "Map the temprature at a particular time t to the temprature at time t+n, where n is any number you define.\n",
        "\n",
        "For example: to map tempratures of consecutive days, use t+1, i.e. loop_back = 1"
      ]
    },
    {
      "cell_type": "markdown",
      "metadata": {
        "id": "X6u70DwzFFo_",
        "colab_type": "text"
      },
      "source": [
        "#### Define your function to create dataset"
      ]
    },
    {
      "cell_type": "code",
      "metadata": {
        "colab_type": "code",
        "id": "jWIvInPB7JyK",
        "colab": {}
      },
      "source": [
        "# convert an array of values into a dataset matrix\n",
        "# look_back = previous time steps to use as input variables to predict the next time period — in this case defaulted to 1\n",
        "def create_dataset(mtemp_t, look_back=1):\n",
        "    dataX, dataY = [], []\n",
        "    for i in range(len(mtemp_t)-look_back-1):\n",
        "        a = mtemp_t[i:(i+look_back), 0]\n",
        "        dataX.append(a)\n",
        "        dataY.append(mtemp_t[i + look_back, 0])\n",
        "    return np.array(dataX), np.array(dataY)"
      ],
      "execution_count": 0,
      "outputs": []
    },
    {
      "cell_type": "markdown",
      "metadata": {
        "id": "GS84uQNvFFpC",
        "colab_type": "text"
      },
      "source": [
        "#### Use function to get training and test set"
      ]
    },
    {
      "cell_type": "code",
      "metadata": {
        "id": "TTUFpSsttdTP",
        "colab_type": "code",
        "colab": {}
      },
      "source": [
        "# reshape into X=t-1, t and Y=t+1   \n",
        "look_back = 2\n",
        "trainX, trainY = create_dataset(train, look_back)\n",
        "testX, testY = create_dataset(test, look_back)"
      ],
      "execution_count": 0,
      "outputs": []
    },
    {
      "cell_type": "code",
      "metadata": {
        "id": "aTY0dzXLtmbe",
        "colab_type": "code",
        "colab": {
          "base_uri": "https://localhost:8080/",
          "height": 34
        },
        "outputId": "07d7639b-f23d-4098-9e13-784b124cb9d2"
      },
      "source": [
        "trainX.shape"
      ],
      "execution_count": 233,
      "outputs": [
        {
          "output_type": "execute_result",
          "data": {
            "text/plain": [
              "(2442, 2)"
            ]
          },
          "metadata": {
            "tags": []
          },
          "execution_count": 233
        }
      ]
    },
    {
      "cell_type": "code",
      "metadata": {
        "id": "M-mZ9kPrtmeW",
        "colab_type": "code",
        "colab": {
          "base_uri": "https://localhost:8080/",
          "height": 34
        },
        "outputId": "57cba403-f58f-45f7-ab15-f0b9cbc60a27"
      },
      "source": [
        "trainY.shape"
      ],
      "execution_count": 234,
      "outputs": [
        {
          "output_type": "execute_result",
          "data": {
            "text/plain": [
              "(2442,)"
            ]
          },
          "metadata": {
            "tags": []
          },
          "execution_count": 234
        }
      ]
    },
    {
      "cell_type": "code",
      "metadata": {
        "id": "4FU46HP39hdH",
        "colab_type": "code",
        "colab": {}
      },
      "source": [
        "# reshape input to be [samples, time steps, features]\n",
        "# (n times steps of one input feature)\n",
        "trainX = np.reshape(trainX, (trainX.shape[0], trainX.shape[1], 1))\n",
        "testX = np.reshape(testX, (testX.shape[0] , testX.shape[1], 1))"
      ],
      "execution_count": 0,
      "outputs": []
    },
    {
      "cell_type": "code",
      "metadata": {
        "id": "3QUg_6A79mZM",
        "colab_type": "code",
        "colab": {
          "base_uri": "https://localhost:8080/",
          "height": 34
        },
        "outputId": "6b689540-3fd4-4946-de46-1f73b9007316"
      },
      "source": [
        "trainX.shape"
      ],
      "execution_count": 236,
      "outputs": [
        {
          "output_type": "execute_result",
          "data": {
            "text/plain": [
              "(2442, 2, 1)"
            ]
          },
          "metadata": {
            "tags": []
          },
          "execution_count": 236
        }
      ]
    },
    {
      "cell_type": "markdown",
      "metadata": {
        "id": "rpuNobnKFFpG",
        "colab_type": "text"
      },
      "source": [
        "#### Transform the prepared train and test input data into the expected structure using numpy.reshape()"
      ]
    },
    {
      "cell_type": "code",
      "metadata": {
        "colab_type": "code",
        "id": "UJZ4VB4N7JyV",
        "colab": {}
      },
      "source": [
        "# reshape input to be [samples, time steps, features]\n",
        "# (n times steps of one input feature)\n",
        "trainX = np.reshape(trainX, (trainX.shape[0], trainX.shape[1], 1))\n",
        "testX = np.reshape(testX, (testX.shape[0] , testX.shape[1], 1))"
      ],
      "execution_count": 0,
      "outputs": []
    },
    {
      "cell_type": "code",
      "metadata": {
        "id": "JE7DENcKvTLv",
        "colab_type": "code",
        "colab": {
          "base_uri": "https://localhost:8080/",
          "height": 52
        },
        "outputId": "7b7dba4a-a073-4d11-84f8-a9881b27c2cd"
      },
      "source": [
        "trainX[0]"
      ],
      "execution_count": 238,
      "outputs": [
        {
          "output_type": "execute_result",
          "data": {
            "text/plain": [
              "array([[0.78707224],\n",
              "       [0.68060837]])"
            ]
          },
          "metadata": {
            "tags": []
          },
          "execution_count": 238
        }
      ]
    },
    {
      "cell_type": "markdown",
      "metadata": {
        "id": "0TXTP4eCFFpJ",
        "colab_type": "text"
      },
      "source": [
        "## Define Model"
      ]
    },
    {
      "cell_type": "markdown",
      "metadata": {
        "id": "eYlk666pFFpJ",
        "colab_type": "text"
      },
      "source": [
        "### Define sequential model, add LSTM layer and compile the model"
      ]
    },
    {
      "cell_type": "markdown",
      "metadata": {
        "id": "zldASkaBFFpP",
        "colab_type": "text"
      },
      "source": [
        "### Train the model"
      ]
    },
    {
      "cell_type": "code",
      "metadata": {
        "id": "2O3B_EtOwDYr",
        "colab_type": "code",
        "colab": {}
      },
      "source": [
        "from keras.models import Sequential\n",
        "from keras.layers import Dense\n",
        "from keras.layers import LSTM, SimpleRNN\n",
        "from sklearn.preprocessing import MinMaxScaler\n",
        "from sklearn.metrics import mean_squared_error\n",
        "import time"
      ],
      "execution_count": 0,
      "outputs": []
    },
    {
      "cell_type": "code",
      "metadata": {
        "colab_type": "code",
        "id": "yRW-Txvt7Jya",
        "colab": {
          "base_uri": "https://localhost:8080/",
          "height": 1000
        },
        "outputId": "7d56be44-38a0-442e-c5d8-1da2cba49609"
      },
      "source": [
        "# Define the LSTM network\n",
        "model = Sequential()\n",
        "model.add(LSTM(4, input_shape=(look_back, 1)))\n",
        "\n",
        "model.add(Dense(1))\n",
        "\n",
        "# Compile the model\n",
        "model.compile(loss='mean_squared_error', optimizer='adam', metrics=['mse'])\n",
        "\n",
        "\n",
        "# Train the model\n",
        "start = time.time()\n",
        "model.fit(trainX, trainY, \n",
        "          epochs=100, \n",
        "          batch_size=1, \n",
        "          verbose=1, shuffle=False, \n",
        "          validation_data=(testX, testY))\n",
        "          \n",
        "end = time.time()\n",
        "\n",
        "print (\"Model took %0.2f seconds to train\"%(end - start))"
      ],
      "execution_count": 240,
      "outputs": [
        {
          "output_type": "stream",
          "text": [
            "Train on 2442 samples, validate on 1202 samples\n",
            "Epoch 1/100\n",
            "2442/2442 [==============================] - 11s 4ms/step - loss: 0.0202 - mean_squared_error: 0.0202 - val_loss: 0.0216 - val_mean_squared_error: 0.0216\n",
            "Epoch 2/100\n",
            "2442/2442 [==============================] - 9s 4ms/step - loss: 0.0105 - mean_squared_error: 0.0105 - val_loss: 0.0184 - val_mean_squared_error: 0.0184\n",
            "Epoch 3/100\n",
            "2442/2442 [==============================] - 9s 4ms/step - loss: 0.0101 - mean_squared_error: 0.0101 - val_loss: 0.0172 - val_mean_squared_error: 0.0172\n",
            "Epoch 4/100\n",
            "2442/2442 [==============================] - 9s 4ms/step - loss: 0.0100 - mean_squared_error: 0.0100 - val_loss: 0.0166 - val_mean_squared_error: 0.0166\n",
            "Epoch 5/100\n",
            "2442/2442 [==============================] - 9s 4ms/step - loss: 0.0098 - mean_squared_error: 0.0098 - val_loss: 0.0165 - val_mean_squared_error: 0.0165\n",
            "Epoch 6/100\n",
            "2442/2442 [==============================] - 9s 4ms/step - loss: 0.0096 - mean_squared_error: 0.0096 - val_loss: 0.0166 - val_mean_squared_error: 0.0166\n",
            "Epoch 7/100\n",
            "2442/2442 [==============================] - 9s 4ms/step - loss: 0.0094 - mean_squared_error: 0.0094 - val_loss: 0.0166 - val_mean_squared_error: 0.0166\n",
            "Epoch 8/100\n",
            "2442/2442 [==============================] - 9s 4ms/step - loss: 0.0094 - mean_squared_error: 0.0094 - val_loss: 0.0166 - val_mean_squared_error: 0.0166\n",
            "Epoch 9/100\n",
            "2442/2442 [==============================] - 9s 4ms/step - loss: 0.0094 - mean_squared_error: 0.0094 - val_loss: 0.0165 - val_mean_squared_error: 0.0165\n",
            "Epoch 10/100\n",
            "2442/2442 [==============================] - 9s 4ms/step - loss: 0.0094 - mean_squared_error: 0.0094 - val_loss: 0.0163 - val_mean_squared_error: 0.0163\n",
            "Epoch 11/100\n",
            "2442/2442 [==============================] - 9s 4ms/step - loss: 0.0094 - mean_squared_error: 0.0094 - val_loss: 0.0161 - val_mean_squared_error: 0.0161\n",
            "Epoch 12/100\n",
            "2442/2442 [==============================] - 10s 4ms/step - loss: 0.0094 - mean_squared_error: 0.0094 - val_loss: 0.0160 - val_mean_squared_error: 0.0160\n",
            "Epoch 13/100\n",
            "2442/2442 [==============================] - 10s 4ms/step - loss: 0.0094 - mean_squared_error: 0.0094 - val_loss: 0.0158 - val_mean_squared_error: 0.0158\n",
            "Epoch 14/100\n",
            "2442/2442 [==============================] - 10s 4ms/step - loss: 0.0094 - mean_squared_error: 0.0094 - val_loss: 0.0156 - val_mean_squared_error: 0.0156\n",
            "Epoch 15/100\n",
            "2442/2442 [==============================] - 9s 4ms/step - loss: 0.0094 - mean_squared_error: 0.0094 - val_loss: 0.0155 - val_mean_squared_error: 0.0155\n",
            "Epoch 16/100\n",
            "2442/2442 [==============================] - 10s 4ms/step - loss: 0.0094 - mean_squared_error: 0.0094 - val_loss: 0.0153 - val_mean_squared_error: 0.0153\n",
            "Epoch 17/100\n",
            "2442/2442 [==============================] - 10s 4ms/step - loss: 0.0094 - mean_squared_error: 0.0094 - val_loss: 0.0152 - val_mean_squared_error: 0.0152\n",
            "Epoch 18/100\n",
            "2442/2442 [==============================] - 9s 4ms/step - loss: 0.0094 - mean_squared_error: 0.0094 - val_loss: 0.0151 - val_mean_squared_error: 0.0151\n",
            "Epoch 19/100\n",
            "2442/2442 [==============================] - 9s 4ms/step - loss: 0.0094 - mean_squared_error: 0.0094 - val_loss: 0.0149 - val_mean_squared_error: 0.0149\n",
            "Epoch 20/100\n",
            "2442/2442 [==============================] - 9s 4ms/step - loss: 0.0095 - mean_squared_error: 0.0095 - val_loss: 0.0148 - val_mean_squared_error: 0.0148\n",
            "Epoch 21/100\n",
            "2442/2442 [==============================] - 10s 4ms/step - loss: 0.0095 - mean_squared_error: 0.0095 - val_loss: 0.0147 - val_mean_squared_error: 0.0147\n",
            "Epoch 22/100\n",
            "2442/2442 [==============================] - 9s 4ms/step - loss: 0.0095 - mean_squared_error: 0.0095 - val_loss: 0.0146 - val_mean_squared_error: 0.0146\n",
            "Epoch 23/100\n",
            "2442/2442 [==============================] - 9s 4ms/step - loss: 0.0095 - mean_squared_error: 0.0095 - val_loss: 0.0145 - val_mean_squared_error: 0.0145\n",
            "Epoch 24/100\n",
            "2442/2442 [==============================] - 10s 4ms/step - loss: 0.0095 - mean_squared_error: 0.0095 - val_loss: 0.0144 - val_mean_squared_error: 0.0144\n",
            "Epoch 25/100\n",
            "2442/2442 [==============================] - 9s 4ms/step - loss: 0.0095 - mean_squared_error: 0.0095 - val_loss: 0.0143 - val_mean_squared_error: 0.0143\n",
            "Epoch 26/100\n",
            "2442/2442 [==============================] - 9s 4ms/step - loss: 0.0095 - mean_squared_error: 0.0095 - val_loss: 0.0142 - val_mean_squared_error: 0.0142\n",
            "Epoch 27/100\n",
            "2442/2442 [==============================] - 9s 4ms/step - loss: 0.0095 - mean_squared_error: 0.0095 - val_loss: 0.0142 - val_mean_squared_error: 0.0142\n",
            "Epoch 28/100\n",
            "2442/2442 [==============================] - 9s 4ms/step - loss: 0.0095 - mean_squared_error: 0.0095 - val_loss: 0.0141 - val_mean_squared_error: 0.0141\n",
            "Epoch 29/100\n",
            "2442/2442 [==============================] - 9s 4ms/step - loss: 0.0095 - mean_squared_error: 0.0095 - val_loss: 0.0140 - val_mean_squared_error: 0.0140\n",
            "Epoch 30/100\n",
            "2442/2442 [==============================] - 9s 4ms/step - loss: 0.0095 - mean_squared_error: 0.0095 - val_loss: 0.0140 - val_mean_squared_error: 0.0140\n",
            "Epoch 31/100\n",
            "2442/2442 [==============================] - 9s 4ms/step - loss: 0.0095 - mean_squared_error: 0.0095 - val_loss: 0.0140 - val_mean_squared_error: 0.0140\n",
            "Epoch 32/100\n",
            "2442/2442 [==============================] - 9s 4ms/step - loss: 0.0095 - mean_squared_error: 0.0095 - val_loss: 0.0139 - val_mean_squared_error: 0.0139\n",
            "Epoch 33/100\n",
            "2442/2442 [==============================] - 9s 4ms/step - loss: 0.0095 - mean_squared_error: 0.0095 - val_loss: 0.0139 - val_mean_squared_error: 0.0139\n",
            "Epoch 34/100\n",
            "2442/2442 [==============================] - 9s 4ms/step - loss: 0.0095 - mean_squared_error: 0.0095 - val_loss: 0.0138 - val_mean_squared_error: 0.0138\n",
            "Epoch 35/100\n",
            "2442/2442 [==============================] - 9s 4ms/step - loss: 0.0095 - mean_squared_error: 0.0095 - val_loss: 0.0138 - val_mean_squared_error: 0.0138\n",
            "Epoch 36/100\n",
            "2442/2442 [==============================] - 9s 4ms/step - loss: 0.0095 - mean_squared_error: 0.0095 - val_loss: 0.0137 - val_mean_squared_error: 0.0137\n",
            "Epoch 37/100\n",
            "2442/2442 [==============================] - 10s 4ms/step - loss: 0.0095 - mean_squared_error: 0.0095 - val_loss: 0.0137 - val_mean_squared_error: 0.0137\n",
            "Epoch 38/100\n",
            "2442/2442 [==============================] - 10s 4ms/step - loss: 0.0095 - mean_squared_error: 0.0095 - val_loss: 0.0137 - val_mean_squared_error: 0.0137\n",
            "Epoch 39/100\n",
            "2442/2442 [==============================] - 10s 4ms/step - loss: 0.0095 - mean_squared_error: 0.0095 - val_loss: 0.0136 - val_mean_squared_error: 0.0136\n",
            "Epoch 40/100\n",
            "2442/2442 [==============================] - 10s 4ms/step - loss: 0.0095 - mean_squared_error: 0.0095 - val_loss: 0.0136 - val_mean_squared_error: 0.0136\n",
            "Epoch 41/100\n",
            "2442/2442 [==============================] - 10s 4ms/step - loss: 0.0095 - mean_squared_error: 0.0095 - val_loss: 0.0135 - val_mean_squared_error: 0.0135\n",
            "Epoch 42/100\n",
            "2442/2442 [==============================] - 10s 4ms/step - loss: 0.0095 - mean_squared_error: 0.0095 - val_loss: 0.0135 - val_mean_squared_error: 0.0135\n",
            "Epoch 43/100\n",
            "2442/2442 [==============================] - 10s 4ms/step - loss: 0.0095 - mean_squared_error: 0.0095 - val_loss: 0.0135 - val_mean_squared_error: 0.0135\n",
            "Epoch 44/100\n",
            "2442/2442 [==============================] - 10s 4ms/step - loss: 0.0095 - mean_squared_error: 0.0095 - val_loss: 0.0134 - val_mean_squared_error: 0.0134\n",
            "Epoch 45/100\n",
            "2442/2442 [==============================] - 10s 4ms/step - loss: 0.0095 - mean_squared_error: 0.0095 - val_loss: 0.0134 - val_mean_squared_error: 0.0134\n",
            "Epoch 46/100\n",
            "2442/2442 [==============================] - 10s 4ms/step - loss: 0.0095 - mean_squared_error: 0.0095 - val_loss: 0.0134 - val_mean_squared_error: 0.0134\n",
            "Epoch 47/100\n",
            "2442/2442 [==============================] - 10s 4ms/step - loss: 0.0095 - mean_squared_error: 0.0095 - val_loss: 0.0134 - val_mean_squared_error: 0.0134\n",
            "Epoch 48/100\n",
            "2442/2442 [==============================] - 10s 4ms/step - loss: 0.0095 - mean_squared_error: 0.0095 - val_loss: 0.0133 - val_mean_squared_error: 0.0133\n",
            "Epoch 49/100\n",
            "2442/2442 [==============================] - 10s 4ms/step - loss: 0.0095 - mean_squared_error: 0.0095 - val_loss: 0.0133 - val_mean_squared_error: 0.0133\n",
            "Epoch 50/100\n",
            "2442/2442 [==============================] - 9s 4ms/step - loss: 0.0095 - mean_squared_error: 0.0095 - val_loss: 0.0133 - val_mean_squared_error: 0.0133\n",
            "Epoch 51/100\n",
            "2442/2442 [==============================] - 10s 4ms/step - loss: 0.0095 - mean_squared_error: 0.0095 - val_loss: 0.0132 - val_mean_squared_error: 0.0132\n",
            "Epoch 52/100\n",
            "2442/2442 [==============================] - 10s 4ms/step - loss: 0.0095 - mean_squared_error: 0.0095 - val_loss: 0.0132 - val_mean_squared_error: 0.0132\n",
            "Epoch 53/100\n",
            "2442/2442 [==============================] - 10s 4ms/step - loss: 0.0095 - mean_squared_error: 0.0095 - val_loss: 0.0132 - val_mean_squared_error: 0.0132\n",
            "Epoch 54/100\n",
            "2442/2442 [==============================] - 10s 4ms/step - loss: 0.0095 - mean_squared_error: 0.0095 - val_loss: 0.0132 - val_mean_squared_error: 0.0132\n",
            "Epoch 55/100\n",
            "2442/2442 [==============================] - 10s 4ms/step - loss: 0.0095 - mean_squared_error: 0.0095 - val_loss: 0.0131 - val_mean_squared_error: 0.0131\n",
            "Epoch 56/100\n",
            "2442/2442 [==============================] - 10s 4ms/step - loss: 0.0095 - mean_squared_error: 0.0095 - val_loss: 0.0131 - val_mean_squared_error: 0.0131\n",
            "Epoch 57/100\n",
            "2442/2442 [==============================] - 10s 4ms/step - loss: 0.0095 - mean_squared_error: 0.0095 - val_loss: 0.0131 - val_mean_squared_error: 0.0131\n",
            "Epoch 58/100\n",
            "2442/2442 [==============================] - 9s 4ms/step - loss: 0.0095 - mean_squared_error: 0.0095 - val_loss: 0.0131 - val_mean_squared_error: 0.0131\n",
            "Epoch 59/100\n",
            "2442/2442 [==============================] - 9s 4ms/step - loss: 0.0095 - mean_squared_error: 0.0095 - val_loss: 0.0131 - val_mean_squared_error: 0.0131\n",
            "Epoch 60/100\n",
            "2442/2442 [==============================] - 10s 4ms/step - loss: 0.0095 - mean_squared_error: 0.0095 - val_loss: 0.0130 - val_mean_squared_error: 0.0130\n",
            "Epoch 61/100\n",
            "2442/2442 [==============================] - 10s 4ms/step - loss: 0.0095 - mean_squared_error: 0.0095 - val_loss: 0.0130 - val_mean_squared_error: 0.0130\n",
            "Epoch 62/100\n",
            "2442/2442 [==============================] - 9s 4ms/step - loss: 0.0095 - mean_squared_error: 0.0095 - val_loss: 0.0130 - val_mean_squared_error: 0.0130\n",
            "Epoch 63/100\n",
            "2442/2442 [==============================] - 9s 4ms/step - loss: 0.0095 - mean_squared_error: 0.0095 - val_loss: 0.0130 - val_mean_squared_error: 0.0130\n",
            "Epoch 64/100\n",
            "2442/2442 [==============================] - 9s 4ms/step - loss: 0.0095 - mean_squared_error: 0.0095 - val_loss: 0.0130 - val_mean_squared_error: 0.0130\n",
            "Epoch 65/100\n",
            "2442/2442 [==============================] - 9s 4ms/step - loss: 0.0095 - mean_squared_error: 0.0095 - val_loss: 0.0129 - val_mean_squared_error: 0.0129\n",
            "Epoch 66/100\n",
            "2442/2442 [==============================] - 9s 4ms/step - loss: 0.0095 - mean_squared_error: 0.0095 - val_loss: 0.0129 - val_mean_squared_error: 0.0129\n",
            "Epoch 67/100\n",
            "2442/2442 [==============================] - 9s 4ms/step - loss: 0.0095 - mean_squared_error: 0.0095 - val_loss: 0.0129 - val_mean_squared_error: 0.0129\n",
            "Epoch 68/100\n",
            "2442/2442 [==============================] - 10s 4ms/step - loss: 0.0095 - mean_squared_error: 0.0095 - val_loss: 0.0129 - val_mean_squared_error: 0.0129\n",
            "Epoch 69/100\n",
            "2442/2442 [==============================] - 9s 4ms/step - loss: 0.0095 - mean_squared_error: 0.0095 - val_loss: 0.0129 - val_mean_squared_error: 0.0129\n",
            "Epoch 70/100\n",
            "2442/2442 [==============================] - 10s 4ms/step - loss: 0.0095 - mean_squared_error: 0.0095 - val_loss: 0.0128 - val_mean_squared_error: 0.0128\n",
            "Epoch 71/100\n",
            "2442/2442 [==============================] - 9s 4ms/step - loss: 0.0095 - mean_squared_error: 0.0095 - val_loss: 0.0128 - val_mean_squared_error: 0.0128\n",
            "Epoch 72/100\n",
            "2442/2442 [==============================] - 10s 4ms/step - loss: 0.0095 - mean_squared_error: 0.0095 - val_loss: 0.0128 - val_mean_squared_error: 0.0128\n",
            "Epoch 73/100\n",
            "2442/2442 [==============================] - 9s 4ms/step - loss: 0.0095 - mean_squared_error: 0.0095 - val_loss: 0.0128 - val_mean_squared_error: 0.0128\n",
            "Epoch 74/100\n",
            "2442/2442 [==============================] - 10s 4ms/step - loss: 0.0095 - mean_squared_error: 0.0095 - val_loss: 0.0128 - val_mean_squared_error: 0.0128\n",
            "Epoch 75/100\n",
            "2442/2442 [==============================] - 10s 4ms/step - loss: 0.0095 - mean_squared_error: 0.0095 - val_loss: 0.0128 - val_mean_squared_error: 0.0128\n",
            "Epoch 76/100\n",
            "2442/2442 [==============================] - 9s 4ms/step - loss: 0.0095 - mean_squared_error: 0.0095 - val_loss: 0.0127 - val_mean_squared_error: 0.0127\n",
            "Epoch 77/100\n",
            "2442/2442 [==============================] - 9s 4ms/step - loss: 0.0095 - mean_squared_error: 0.0095 - val_loss: 0.0127 - val_mean_squared_error: 0.0127\n",
            "Epoch 78/100\n",
            "2442/2442 [==============================] - 10s 4ms/step - loss: 0.0095 - mean_squared_error: 0.0095 - val_loss: 0.0127 - val_mean_squared_error: 0.0127\n",
            "Epoch 79/100\n",
            "2442/2442 [==============================] - 9s 4ms/step - loss: 0.0095 - mean_squared_error: 0.0095 - val_loss: 0.0127 - val_mean_squared_error: 0.0127\n",
            "Epoch 80/100\n",
            "2442/2442 [==============================] - 10s 4ms/step - loss: 0.0095 - mean_squared_error: 0.0095 - val_loss: 0.0127 - val_mean_squared_error: 0.0127\n",
            "Epoch 81/100\n",
            "2442/2442 [==============================] - 10s 4ms/step - loss: 0.0095 - mean_squared_error: 0.0095 - val_loss: 0.0127 - val_mean_squared_error: 0.0127\n",
            "Epoch 82/100\n",
            "2442/2442 [==============================] - 9s 4ms/step - loss: 0.0095 - mean_squared_error: 0.0095 - val_loss: 0.0127 - val_mean_squared_error: 0.0127\n",
            "Epoch 83/100\n",
            "2442/2442 [==============================] - 9s 4ms/step - loss: 0.0095 - mean_squared_error: 0.0095 - val_loss: 0.0126 - val_mean_squared_error: 0.0126\n",
            "Epoch 84/100\n",
            "2442/2442 [==============================] - 9s 4ms/step - loss: 0.0095 - mean_squared_error: 0.0095 - val_loss: 0.0126 - val_mean_squared_error: 0.0126\n",
            "Epoch 85/100\n",
            "2442/2442 [==============================] - 9s 4ms/step - loss: 0.0095 - mean_squared_error: 0.0095 - val_loss: 0.0126 - val_mean_squared_error: 0.0126\n",
            "Epoch 86/100\n",
            "2442/2442 [==============================] - 9s 4ms/step - loss: 0.0095 - mean_squared_error: 0.0095 - val_loss: 0.0126 - val_mean_squared_error: 0.0126\n",
            "Epoch 87/100\n",
            "2442/2442 [==============================] - 10s 4ms/step - loss: 0.0095 - mean_squared_error: 0.0095 - val_loss: 0.0126 - val_mean_squared_error: 0.0126\n",
            "Epoch 88/100\n",
            "2442/2442 [==============================] - 9s 4ms/step - loss: 0.0095 - mean_squared_error: 0.0095 - val_loss: 0.0126 - val_mean_squared_error: 0.0126\n",
            "Epoch 89/100\n",
            "2442/2442 [==============================] - 9s 4ms/step - loss: 0.0095 - mean_squared_error: 0.0095 - val_loss: 0.0126 - val_mean_squared_error: 0.0126\n",
            "Epoch 90/100\n",
            "2442/2442 [==============================] - 9s 4ms/step - loss: 0.0095 - mean_squared_error: 0.0095 - val_loss: 0.0125 - val_mean_squared_error: 0.0125\n",
            "Epoch 91/100\n",
            "2442/2442 [==============================] - 9s 4ms/step - loss: 0.0095 - mean_squared_error: 0.0095 - val_loss: 0.0125 - val_mean_squared_error: 0.0125\n",
            "Epoch 92/100\n",
            "2442/2442 [==============================] - 9s 4ms/step - loss: 0.0095 - mean_squared_error: 0.0095 - val_loss: 0.0125 - val_mean_squared_error: 0.0125\n",
            "Epoch 93/100\n",
            "2442/2442 [==============================] - 9s 4ms/step - loss: 0.0095 - mean_squared_error: 0.0095 - val_loss: 0.0125 - val_mean_squared_error: 0.0125\n",
            "Epoch 94/100\n",
            "2442/2442 [==============================] - 9s 4ms/step - loss: 0.0095 - mean_squared_error: 0.0095 - val_loss: 0.0125 - val_mean_squared_error: 0.0125\n",
            "Epoch 95/100\n",
            "2442/2442 [==============================] - 9s 4ms/step - loss: 0.0095 - mean_squared_error: 0.0095 - val_loss: 0.0125 - val_mean_squared_error: 0.0125\n",
            "Epoch 96/100\n",
            "2442/2442 [==============================] - 9s 4ms/step - loss: 0.0095 - mean_squared_error: 0.0095 - val_loss: 0.0125 - val_mean_squared_error: 0.0125\n",
            "Epoch 97/100\n",
            "2442/2442 [==============================] - 9s 4ms/step - loss: 0.0095 - mean_squared_error: 0.0095 - val_loss: 0.0125 - val_mean_squared_error: 0.0125\n",
            "Epoch 98/100\n",
            "2442/2442 [==============================] - 9s 4ms/step - loss: 0.0095 - mean_squared_error: 0.0095 - val_loss: 0.0124 - val_mean_squared_error: 0.0124\n",
            "Epoch 99/100\n",
            "2442/2442 [==============================] - 9s 4ms/step - loss: 0.0095 - mean_squared_error: 0.0095 - val_loss: 0.0124 - val_mean_squared_error: 0.0124\n",
            "Epoch 100/100\n",
            "2442/2442 [==============================] - 10s 4ms/step - loss: 0.0095 - mean_squared_error: 0.0095 - val_loss: 0.0124 - val_mean_squared_error: 0.0124\n",
            "Model took 953.79 seconds to train\n"
          ],
          "name": "stdout"
        }
      ]
    },
    {
      "cell_type": "markdown",
      "metadata": {
        "id": "_ljj8-THFFpM",
        "colab_type": "text"
      },
      "source": [
        "### Summarize your model"
      ]
    },
    {
      "cell_type": "code",
      "metadata": {
        "id": "prelbz0FFFpN",
        "colab_type": "code",
        "colab": {
          "base_uri": "https://localhost:8080/",
          "height": 224
        },
        "outputId": "bcb3c159-1ecd-4b70-bda7-2cd1e2cc4f56"
      },
      "source": [
        "model.summary()"
      ],
      "execution_count": 241,
      "outputs": [
        {
          "output_type": "stream",
          "text": [
            "Model: \"sequential_4\"\n",
            "_________________________________________________________________\n",
            "Layer (type)                 Output Shape              Param #   \n",
            "=================================================================\n",
            "lstm_4 (LSTM)                (None, 4)                 96        \n",
            "_________________________________________________________________\n",
            "dense_4 (Dense)              (None, 1)                 5         \n",
            "=================================================================\n",
            "Total params: 101\n",
            "Trainable params: 101\n",
            "Non-trainable params: 0\n",
            "_________________________________________________________________\n"
          ],
          "name": "stdout"
        }
      ]
    },
    {
      "cell_type": "markdown",
      "metadata": {
        "id": "RNud7jh0FFpR",
        "colab_type": "text"
      },
      "source": [
        "## Make Predictions and Evaluate your model"
      ]
    },
    {
      "cell_type": "code",
      "metadata": {
        "colab_type": "code",
        "id": "85Ip5wrq7Jyi",
        "colab": {
          "base_uri": "https://localhost:8080/",
          "height": 52
        },
        "outputId": "2be81ef6-fc68-43fb-b43a-0d4c26f8f289"
      },
      "source": [
        "import math\n",
        "# make predictions\n",
        "trainPredict = model.predict(trainX)\n",
        "testPredict = model.predict(testX)\n",
        "# invert predictions\n",
        "trainPredict = scaler.inverse_transform(trainPredict)\n",
        "trainY = scaler.inverse_transform([trainY])\n",
        "testPredict = scaler.inverse_transform(testPredict)\n",
        "testY = scaler.inverse_transform([testY])\n",
        "# calculate root mean squared error\n",
        "trainScore = math.sqrt(mean_squared_error(trainY[0,:], trainPredict[:,0]))\n",
        "print('Train Score: %.2f RMSE' % (trainScore))\n",
        "testScore = math.sqrt(mean_squared_error(testY[0], testPredict[:,0]))\n",
        "print('Test Score: %.2f RMSE' % (testScore))"
      ],
      "execution_count": 242,
      "outputs": [
        {
          "output_type": "stream",
          "text": [
            "Train Score: 2.92 RMSE\n",
            "Test Score: 2.93 RMSE\n"
          ],
          "name": "stdout"
        }
      ]
    },
    {
      "cell_type": "markdown",
      "metadata": {
        "id": "GnjsETXWFFpV",
        "colab_type": "text"
      },
      "source": [
        "## Plot the results"
      ]
    },
    {
      "cell_type": "code",
      "metadata": {
        "colab_type": "code",
        "id": "FHbIWp-D7Jyn",
        "colab": {
          "base_uri": "https://localhost:8080/",
          "height": 326
        },
        "outputId": "916b8d46-b7f6-4577-c036-62e27cfec85e"
      },
      "source": [
        "%matplotlib inline\n",
        "# shift train predictions for plotting\n",
        "trainPredictPlot = np.empty_like(mtemp_t)\n",
        "trainPredictPlot[:, :] = np.nan\n",
        "trainPredictPlot[look_back:len(trainPredict)+look_back, :] = trainPredict\n",
        "# shift test predictions for plotting\n",
        "testPredictPlot = np.empty_like(mtemp_t)\n",
        "testPredictPlot[:, :] = np.nan\n",
        "testPredictPlot[len(trainPredict)+(look_back*2)+1:len(mtemp_t)-1, :] = testPredict\n",
        "# plot baseline and predictions\n",
        "plt.figure(figsize= [15, 5])\n",
        "plt.plot(scaler.inverse_transform(mtemp_t))\n",
        "plt.plot(trainPredictPlot, color='green', linestyle='dashed')\n",
        "plt.plot(testPredictPlot, color='red')\n",
        "plt.ylabel('Min Temp ℃')\n",
        "plt.xticks([])\n",
        "plt.show()\n",
        "\n",
        "#original dataset in blue \n",
        "#predictions for the training dataset in green\n",
        "#predictions on the unseen test dataset in red"
      ],
      "execution_count": 244,
      "outputs": [
        {
          "output_type": "display_data",
          "data": {
            "image/png": "[encoded data removed]",
            "text/plain": [
              "<Figure size 1080x360 with 1 Axes>"
            ]
          },
          "metadata": {
            "tags": []
          }
        }
      ]
    }
  ]
}