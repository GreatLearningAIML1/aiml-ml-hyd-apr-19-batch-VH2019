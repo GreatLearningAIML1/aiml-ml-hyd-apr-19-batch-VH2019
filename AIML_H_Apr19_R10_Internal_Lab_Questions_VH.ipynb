{
  "nbformat": 4,
  "nbformat_minor": 0,
  "metadata": {
    "colab": {
      "name": "AIML.H.Apr19-R10_Internal_Lab_Questions_VH.ipynb",
      "provenance": [],
      "collapsed_sections": [],
      "toc_visible": true,
      "machine_shape": "hm"
    },
    "kernelspec": {
      "display_name": "Python 3",
      "language": "python",
      "name": "python3"
    },
    "language_info": {
      "codemirror_mode": {
        "name": "ipython",
        "version": 3
      },
      "file_extension": ".py",
      "mimetype": "text/x-python",
      "name": "python",
      "nbconvert_exporter": "python",
      "pygments_lexer": "ipython3",
      "version": "3.7.3"
    }
  },
  "cells": [
    {
      "cell_type": "markdown",
      "metadata": {
        "colab_type": "text",
        "id": "I-P5m4iA_xe7"
      },
      "source": [
        "# Bounding box detection - Racoon data\n",
        "\n",
        "\n",
        "## Data files\n",
        "- images_racoon.rar: contain images of racoons\n",
        "- train_labels.cv: contains coordinates for bounding box for every image"
      ]
    },
    {
      "cell_type": "code",
      "metadata": {
        "id": "lu6h5pvO629X",
        "colab_type": "code",
        "colab": {}
      },
      "source": [
        "a=[]\n",
        "while(1):\n",
        "  a.append('1')\n"
      ],
      "execution_count": 0,
      "outputs": []
    },
    {
      "cell_type": "markdown",
      "metadata": {
        "colab_type": "text",
        "id": "d8M5gzwKWGiU"
      },
      "source": [
        "### Import the necessary libraries"
      ]
    },
    {
      "cell_type": "code",
      "metadata": {
        "colab_type": "code",
        "id": "VOMKpZJcWGiV",
        "colab": {}
      },
      "source": [
        "import tensorflow as tf\n",
        "import os\n",
        "import urllib, tarfile\n",
        "\n",
        "from matplotlib import pyplot as plt\n",
        "import cv2\n",
        "from google.colab.patches import cv2_imshow\n",
        "import numpy as np\n",
        "import pandas as pd\n",
        "from keras.applications.mobilenet import preprocess_input, MobileNet\n",
        "from keras.layers import Conv2D,Reshape\n",
        "from keras.models import Model\n",
        "from keras import metrics\n",
        "from keras.backend import epsilon\n",
        "import matplotlib.pylab as plt"
      ],
      "execution_count": 0,
      "outputs": []
    },
    {
      "cell_type": "code",
      "metadata": {
        "id": "pPypyd-o7mKM",
        "colab_type": "code",
        "colab": {
          "base_uri": "https://localhost:8080/",
          "height": 54
        },
        "outputId": "234eccb2-f82b-4171-8418-c7552bc7cdcd"
      },
      "source": [
        "from google.colab import drive\n",
        "drive.mount('/content/drive')"
      ],
      "execution_count": 22,
      "outputs": [
        {
          "output_type": "stream",
          "text": [
            "Drive already mounted at /content/drive; to attempt to forcibly remount, call drive.mount(\"/content/drive\", force_remount=True).\n"
          ],
          "name": "stdout"
        }
      ]
    },
    {
      "cell_type": "markdown",
      "metadata": {
        "colab_type": "text",
        "id": "Z_INIZOi_tUW"
      },
      "source": [
        "### Change directory"
      ]
    },
    {
      "cell_type": "code",
      "metadata": {
        "colab_type": "code",
        "id": "Sxgw3GT1AR9Y",
        "colab": {}
      },
      "source": [
        "os.chdir= './My Drive/AIML/ACV1/Lab12Jan_Racoon/'  #change dir to  project folder"
      ],
      "execution_count": 0,
      "outputs": []
    },
    {
      "cell_type": "code",
      "metadata": {
        "id": "DqW6Zwc-9Kgs",
        "colab_type": "code",
        "colab": {
          "base_uri": "https://localhost:8080/",
          "height": 86
        },
        "outputId": "21b659c0-6756-482e-8465-b1562bf9f748"
      },
      "source": [
        "!ls -l"
      ],
      "execution_count": 25,
      "outputs": [
        {
          "output_type": "stream",
          "text": [
            "total 12\n",
            "drwx------ 4 root root 4096 Jan 12 04:06 drive\n",
            "drwxr-xr-x 7 root root 4096 Jan 12 04:08 models\n",
            "drwxr-xr-x 1 root root 4096 Dec 18 16:52 sample_data\n"
          ],
          "name": "stdout"
        }
      ]
    },
    {
      "cell_type": "code",
      "metadata": {
        "id": "5X-hIpH49-PP",
        "colab_type": "code",
        "colab": {}
      },
      "source": [
        "#!pip install patool\n",
        "import patoolib\n",
        "#patoolib.extract_archive(\"images_racoon-1.rar\", outdir=\"/content/drive/My Drive/AIML/ACV1/Lab12Jan_Racoon\")"
      ],
      "execution_count": 0,
      "outputs": []
    },
    {
      "cell_type": "code",
      "metadata": {
        "id": "OCDK2qmG-PtV",
        "colab_type": "code",
        "colab": {
          "base_uri": "https://localhost:8080/",
          "height": 86
        },
        "outputId": "3583802a-b9f2-439f-bb72-15748552c013"
      },
      "source": [
        "!ls -l"
      ],
      "execution_count": 27,
      "outputs": [
        {
          "output_type": "stream",
          "text": [
            "total 12\n",
            "drwx------ 4 root root 4096 Jan 12 04:06 drive\n",
            "drwxr-xr-x 7 root root 4096 Jan 12 04:08 models\n",
            "drwxr-xr-x 1 root root 4096 Dec 18 16:52 sample_data\n"
          ],
          "name": "stdout"
        }
      ]
    },
    {
      "cell_type": "markdown",
      "metadata": {
        "colab_type": "text",
        "id": "lwxBtvYRWGii"
      },
      "source": [
        "### Load the training data from train.csv file"
      ]
    },
    {
      "cell_type": "code",
      "metadata": {
        "id": "fdvcRtGEOV38",
        "colab_type": "code",
        "colab": {}
      },
      "source": [
        "#Read csv file as pandas dataframe, csv file has no header\n",
        "train_df = pd.read_csv('/content/drive/My Drive/AIML/ACV1/Lab12Jan_Racoon/train_labels.csv', header=None, \n",
        "                       names=['filename','width','height','class','xmin','ymin','xmax','ymax'])"
      ],
      "execution_count": 0,
      "outputs": []
    },
    {
      "cell_type": "code",
      "metadata": {
        "colab_type": "code",
        "id": "wiTjjKtpWGij",
        "colab": {}
      },
      "source": [
        "#Read csv file as pandas dataframe, csv file has no header\n",
        "#train_df = pd.read_csv('train_labels.csv', header=None, \n",
        " #                      names=['filename','width','height','class','xmin','ymin','xmax','ymax'])"
      ],
      "execution_count": 0,
      "outputs": []
    },
    {
      "cell_type": "markdown",
      "metadata": {
        "colab_type": "text",
        "id": "-F3CkYxUWGin"
      },
      "source": [
        "### Print the shape of the train dataset"
      ]
    },
    {
      "cell_type": "code",
      "metadata": {
        "colab_type": "code",
        "id": "uRz_MtnvWGip",
        "colab": {
          "base_uri": "https://localhost:8080/",
          "height": 216
        },
        "outputId": "d058eb9b-564a-4ca0-a5d9-ba5861b98cea"
      },
      "source": [
        "print(train_df.shape)\n",
        "train_df.head()"
      ],
      "execution_count": 29,
      "outputs": [
        {
          "output_type": "stream",
          "text": [
            "(174, 8)\n"
          ],
          "name": "stdout"
        },
        {
          "output_type": "execute_result",
          "data": {
            "text/html": [
              "<div>\n",
              "<style scoped>\n",
              "    .dataframe tbody tr th:only-of-type {\n",
              "        vertical-align: middle;\n",
              "    }\n",
              "\n",
              "    .dataframe tbody tr th {\n",
              "        vertical-align: top;\n",
              "    }\n",
              "\n",
              "    .dataframe thead th {\n",
              "        text-align: right;\n",
              "    }\n",
              "</style>\n",
              "<table border=\"1\" class=\"dataframe\">\n",
              "  <thead>\n",
              "    <tr style=\"text-align: right;\">\n",
              "      <th></th>\n",
              "      <th>filename</th>\n",
              "      <th>width</th>\n",
              "      <th>height</th>\n",
              "      <th>class</th>\n",
              "      <th>xmin</th>\n",
              "      <th>ymin</th>\n",
              "      <th>xmax</th>\n",
              "      <th>ymax</th>\n",
              "    </tr>\n",
              "  </thead>\n",
              "  <tbody>\n",
              "    <tr>\n",
              "      <th>0</th>\n",
              "      <td>filename</td>\n",
              "      <td>width</td>\n",
              "      <td>height</td>\n",
              "      <td>class</td>\n",
              "      <td>xmin</td>\n",
              "      <td>ymin</td>\n",
              "      <td>xmax</td>\n",
              "      <td>ymax</td>\n",
              "    </tr>\n",
              "    <tr>\n",
              "      <th>1</th>\n",
              "      <td>raccoon-17.jpg</td>\n",
              "      <td>259</td>\n",
              "      <td>194</td>\n",
              "      <td>raccoon</td>\n",
              "      <td>95</td>\n",
              "      <td>60</td>\n",
              "      <td>167</td>\n",
              "      <td>118</td>\n",
              "    </tr>\n",
              "    <tr>\n",
              "      <th>2</th>\n",
              "      <td>raccoon-11.jpg</td>\n",
              "      <td>660</td>\n",
              "      <td>432</td>\n",
              "      <td>raccoon</td>\n",
              "      <td>3</td>\n",
              "      <td>1</td>\n",
              "      <td>461</td>\n",
              "      <td>431</td>\n",
              "    </tr>\n",
              "    <tr>\n",
              "      <th>3</th>\n",
              "      <td>raccoon-63.jpg</td>\n",
              "      <td>600</td>\n",
              "      <td>400</td>\n",
              "      <td>raccoon</td>\n",
              "      <td>74</td>\n",
              "      <td>107</td>\n",
              "      <td>280</td>\n",
              "      <td>290</td>\n",
              "    </tr>\n",
              "    <tr>\n",
              "      <th>4</th>\n",
              "      <td>raccoon-63.jpg</td>\n",
              "      <td>600</td>\n",
              "      <td>400</td>\n",
              "      <td>raccoon</td>\n",
              "      <td>227</td>\n",
              "      <td>93</td>\n",
              "      <td>403</td>\n",
              "      <td>298</td>\n",
              "    </tr>\n",
              "  </tbody>\n",
              "</table>\n",
              "</div>"
            ],
            "text/plain": [
              "         filename  width  height    class  xmin  ymin  xmax  ymax\n",
              "0        filename  width  height    class  xmin  ymin  xmax  ymax\n",
              "1  raccoon-17.jpg    259     194  raccoon    95    60   167   118\n",
              "2  raccoon-11.jpg    660     432  raccoon     3     1   461   431\n",
              "3  raccoon-63.jpg    600     400  raccoon    74   107   280   290\n",
              "4  raccoon-63.jpg    600     400  raccoon   227    93   403   298"
            ]
          },
          "metadata": {
            "tags": []
          },
          "execution_count": 29
        }
      ]
    },
    {
      "cell_type": "markdown",
      "metadata": {
        "colab_type": "text",
        "id": "axf5m10eWGis"
      },
      "source": [
        "### Declare a variable IMAGE_SIZE = 128 as we will be using MobileNet which will be taking Input shape as 128 * 128 "
      ]
    },
    {
      "cell_type": "code",
      "metadata": {
        "colab_type": "code",
        "id": "7ayEk2c9WGit",
        "colab": {}
      },
      "source": [
        "IMAGE_SIZE = 128"
      ],
      "execution_count": 0,
      "outputs": []
    },
    {
      "cell_type": "markdown",
      "metadata": {
        "colab_type": "text",
        "id": "wbrrYb5IWGix"
      },
      "source": [
        "### With the help of csv.reader write a for loop which can load the train.csv file and store the path, width, height, x0,y0,x1,y1 in individual variables. <br>\n",
        "1. Create a list variable known as 'path' which has all the path for all the training images\n",
        "2. Create an array 'coords' which has the resized coordinates of the bounding box for the training images\n",
        "\n",
        "<u>Note:</u> All the training images should be downsampled to 128 * 128 as it is the input shape of MobileNet (which we will be using for Object detection). Hence the corresponding coordinates of the bounding boxes should be changed to match the image dimension of 128 * 128 "
      ]
    },
    {
      "cell_type": "code",
      "metadata": {
        "colab_type": "code",
        "id": "twSTiPpRWGiy",
        "colab": {}
      },
      "source": [
        "import csv\n",
        "with open('/content/drive/My Drive/AIML/ACV1/Lab12Jan_Racoon/train_labels.csv','r') as csvfile:\n",
        "    paths = []\n",
        "    coords = np.zeros((sum(1 for line in csvfile) - 1, 4))\n",
        "    spamreader = csv.reader(csvfile, delimiter=',')\n",
        "    csvfile.seek(0)\n",
        "    next(spamreader, None)\n",
        "    for i,row in enumerate(spamreader):\n",
        "        #print(row)\n",
        "        for j, r in enumerate(row): # Parse row with seven entities\n",
        "            #print(i)\n",
        "            if((j!= 0) & (j!=3)):\n",
        "                row[j] = int(r)\n",
        "            \n",
        "        #print(row)      \n",
        "        path, width, height, class_, xmin, ymin, xmax, ymax = row\n",
        "        paths.append(path)\n",
        "        #print(i)\n",
        "        coords[i,0] = xmin * IMAGE_SIZE / width\n",
        "        coords[i,1] = ymin * IMAGE_SIZE / height\n",
        "        coords[i,2] = xmax * IMAGE_SIZE / width # Normalize bounding box by image size\n",
        "        coords[i,3] = ymax * IMAGE_SIZE / height"
      ],
      "execution_count": 0,
      "outputs": []
    },
    {
      "cell_type": "code",
      "metadata": {
        "id": "B08qn5bjCBB3",
        "colab_type": "code",
        "colab": {
          "base_uri": "https://localhost:8080/",
          "height": 34
        },
        "outputId": "df5d105c-348d-4146-e3ff-af4a3f7893b8"
      },
      "source": [
        "len(paths)"
      ],
      "execution_count": 33,
      "outputs": [
        {
          "output_type": "execute_result",
          "data": {
            "text/plain": [
              "173"
            ]
          },
          "metadata": {
            "tags": []
          },
          "execution_count": 33
        }
      ]
    },
    {
      "cell_type": "markdown",
      "metadata": {
        "colab_type": "text",
        "id": "Z9iZWEpKWGi2"
      },
      "source": [
        "### Write a for loop which can load all the training images into a variable 'batch_images' using the paths from the 'paths' variable\n",
        "<u>Note:</u> Convert the image to RGB scale as the MobileNet accepts 3 channels as inputs   "
      ]
    },
    {
      "cell_type": "code",
      "metadata": {
        "id": "JTJESQcLDTqt",
        "colab_type": "code",
        "colab": {}
      },
      "source": [
        "from PIL import Image, ImageFile"
      ],
      "execution_count": 0,
      "outputs": []
    },
    {
      "cell_type": "code",
      "metadata": {
        "colab_type": "code",
        "id": "h6e99qquWGi3",
        "colab": {}
      },
      "source": [
        "batch_images=np.zeros((len(paths),IMAGE_SIZE,IMAGE_SIZE,3),dtype=np.float32)\n"
      ],
      "execution_count": 0,
      "outputs": []
    },
    {
      "cell_type": "code",
      "metadata": {
        "id": "pvoqXq0cCKwH",
        "colab_type": "code",
        "colab": {}
      },
      "source": [
        "for i, x in enumerate(paths):\n",
        " img=Image.open('/content/drive/My Drive/AIML/ACV1/Lab12Jan_Racoon/images/'+x)\n",
        " img=img.resize((IMAGE_SIZE,IMAGE_SIZE))\n",
        " img=img.convert('RGB')\n",
        " batch_images[i]=preprocess_input(np.array(img,dtype=np.float32))"
      ],
      "execution_count": 0,
      "outputs": []
    },
    {
      "cell_type": "code",
      "metadata": {
        "id": "TfGoWn86CKy-",
        "colab_type": "code",
        "colab": {
          "base_uri": "https://localhost:8080/",
          "height": 34
        },
        "outputId": "6998d3b7-ceb6-4314-8e85-0c2ee6cfb029"
      },
      "source": [
        "img.size"
      ],
      "execution_count": 37,
      "outputs": [
        {
          "output_type": "execute_result",
          "data": {
            "text/plain": [
              "(128, 128)"
            ]
          },
          "metadata": {
            "tags": []
          },
          "execution_count": 37
        }
      ]
    },
    {
      "cell_type": "code",
      "metadata": {
        "id": "Bum3LsrQEvhK",
        "colab_type": "code",
        "colab": {
          "base_uri": "https://localhost:8080/",
          "height": 864
        },
        "outputId": "198f23ec-2e5a-43b5-deae-908d3e12ea5a"
      },
      "source": [
        "batch_images[0]"
      ],
      "execution_count": 38,
      "outputs": [
        {
          "output_type": "execute_result",
          "data": {
            "text/plain": [
              "array([[[-0.18431371, -0.01176471, -0.10588235],\n",
              "        [-0.9764706 , -0.8509804 , -0.92941177],\n",
              "        [-0.92941177, -0.88235295, -0.9137255 ],\n",
              "        ...,\n",
              "        [ 0.17647064,  0.654902  ,  0.12941182],\n",
              "        [-0.1607843 ,  0.2941177 , -0.02745098],\n",
              "        [ 0.3411765 ,  0.7411765 ,  0.48235297]],\n",
              "\n",
              "       [[-0.54509807, -0.38823527, -0.47450978],\n",
              "        [-0.9843137 , -0.88235295, -0.9372549 ],\n",
              "        [-0.827451  , -0.79607844, -0.8039216 ],\n",
              "        ...,\n",
              "        [-0.27058822,  0.18431377, -0.27843136],\n",
              "        [-0.19215685,  0.26274514, -0.19215685],\n",
              "        [ 0.0196079 ,  0.37254906,  0.12941182]],\n",
              "\n",
              "       [[-0.7490196 , -0.62352943, -0.7019608 ],\n",
              "        [-0.84313726, -0.75686276, -0.8039216 ],\n",
              "        [-0.8352941 , -0.8039216 , -0.8117647 ],\n",
              "        ...,\n",
              "        [-0.32549018,  0.12156868, -0.4352941 ],\n",
              "        [-0.25490195,  0.22352946, -0.5058824 ],\n",
              "        [-0.17647058,  0.1686275 , -0.11372548]],\n",
              "\n",
              "       ...,\n",
              "\n",
              "       [[ 0.01176476,  0.33333337, -0.19999999],\n",
              "        [-0.18431371,  0.14509809, -0.4352941 ],\n",
              "        [-0.06666666,  0.28627455, -0.3490196 ],\n",
              "        ...,\n",
              "        [-1.        , -0.81960785, -1.        ],\n",
              "        [-0.42745095, -0.31764704, -0.5137255 ],\n",
              "        [-0.45098037,  0.04313731, -0.5764706 ]],\n",
              "\n",
              "       [[ 0.1686275 ,  0.47450984, -0.05098039],\n",
              "        [ 0.082353  ,  0.41176474, -0.15294117],\n",
              "        [-0.02745098,  0.3176471 , -0.30196077],\n",
              "        ...,\n",
              "        [-0.81960785, -0.6392157 , -0.85882354],\n",
              "        [-1.        , -0.92941177, -1.        ],\n",
              "        [-0.47450978,  0.09803927, -0.52156866]],\n",
              "\n",
              "       [[-0.09019607,  0.254902  , -0.3490196 ],\n",
              "        [-0.05882353,  0.30980396, -0.31764704],\n",
              "        [-0.14509803,  0.20784318, -0.42745095],\n",
              "        ...,\n",
              "        [-0.5921569 , -0.23921567, -0.56078434],\n",
              "        [-0.49019605, -0.17647058, -0.5686275 ],\n",
              "        [-0.01960784,  0.56078434, -0.12156862]]], dtype=float32)"
            ]
          },
          "metadata": {
            "tags": []
          },
          "execution_count": 38
        }
      ]
    },
    {
      "cell_type": "code",
      "metadata": {
        "id": "9MkJf6o7EvkJ",
        "colab_type": "code",
        "colab": {}
      },
      "source": [
        ""
      ],
      "execution_count": 0,
      "outputs": []
    },
    {
      "cell_type": "markdown",
      "metadata": {
        "colab_type": "text",
        "id": "C9KU6pUTWGi9"
      },
      "source": [
        "### Import MobileNet and load MobileNet into a variable named 'model' which takes input shape of 128 * 128 * 3. Freeze all the layers. Add convolution and reshape layers at the end to ensure the output is 4 coordinates"
      ]
    },
    {
      "cell_type": "code",
      "metadata": {
        "colab_type": "code",
        "id": "nosEtf1lWGi-",
        "colab": {
          "base_uri": "https://localhost:8080/",
          "height": 452
        },
        "outputId": "3e75def8-7417-48b4-bae0-dee79ce49932"
      },
      "source": [
        "#Import MobileNet and load MobileNet into a variable named 'model' which takes input shape of 128 * 128 * 3\n",
        "model=MobileNet(input_shape=(IMAGE_SIZE,IMAGE_SIZE,3),include_top=False,alpha=1.0)\n",
        "#Freeze all layers of Pre-trained model\n",
        "len(model.layers)\n",
        "for layer in model.layers:\n",
        "    layer.trainable = False\n",
        "#Add convolution and reshape layers at the end to ensure the output is 4 coordinates\n",
        "x=model.layers[-1].output\n",
        "x=Conv2D(4,kernel_size=4,name='coords')(x)\n",
        "x=Reshape((4,))(x)\n",
        "\n",
        "model=Model(inputs=model.input, output=x)\n"
      ],
      "execution_count": 39,
      "outputs": [
        {
          "output_type": "stream",
          "text": [
            "WARNING:tensorflow:From /usr/local/lib/python3.6/dist-packages/keras/backend/tensorflow_backend.py:66: The name tf.get_default_graph is deprecated. Please use tf.compat.v1.get_default_graph instead.\n",
            "\n",
            "WARNING:tensorflow:From /usr/local/lib/python3.6/dist-packages/keras/backend/tensorflow_backend.py:541: The name tf.placeholder is deprecated. Please use tf.compat.v1.placeholder instead.\n",
            "\n",
            "WARNING:tensorflow:From /usr/local/lib/python3.6/dist-packages/keras/backend/tensorflow_backend.py:4432: The name tf.random_uniform is deprecated. Please use tf.random.uniform instead.\n",
            "\n",
            "WARNING:tensorflow:From /usr/local/lib/python3.6/dist-packages/keras/backend/tensorflow_backend.py:190: The name tf.get_default_session is deprecated. Please use tf.compat.v1.get_default_session instead.\n",
            "\n",
            "WARNING:tensorflow:From /usr/local/lib/python3.6/dist-packages/keras/backend/tensorflow_backend.py:197: The name tf.ConfigProto is deprecated. Please use tf.compat.v1.ConfigProto instead.\n",
            "\n",
            "WARNING:tensorflow:From /usr/local/lib/python3.6/dist-packages/keras/backend/tensorflow_backend.py:203: The name tf.Session is deprecated. Please use tf.compat.v1.Session instead.\n",
            "\n",
            "WARNING:tensorflow:From /usr/local/lib/python3.6/dist-packages/keras/backend/tensorflow_backend.py:207: The name tf.global_variables is deprecated. Please use tf.compat.v1.global_variables instead.\n",
            "\n",
            "WARNING:tensorflow:From /usr/local/lib/python3.6/dist-packages/keras/backend/tensorflow_backend.py:216: The name tf.is_variable_initialized is deprecated. Please use tf.compat.v1.is_variable_initialized instead.\n",
            "\n",
            "WARNING:tensorflow:From /usr/local/lib/python3.6/dist-packages/keras/backend/tensorflow_backend.py:223: The name tf.variables_initializer is deprecated. Please use tf.compat.v1.variables_initializer instead.\n",
            "\n",
            "WARNING:tensorflow:From /usr/local/lib/python3.6/dist-packages/keras/backend/tensorflow_backend.py:2041: The name tf.nn.fused_batch_norm is deprecated. Please use tf.compat.v1.nn.fused_batch_norm instead.\n",
            "\n",
            "WARNING:tensorflow:From /usr/local/lib/python3.6/dist-packages/keras/backend/tensorflow_backend.py:148: The name tf.placeholder_with_default is deprecated. Please use tf.compat.v1.placeholder_with_default instead.\n",
            "\n"
          ],
          "name": "stdout"
        },
        {
          "output_type": "stream",
          "text": [
            "/usr/local/lib/python3.6/dist-packages/ipykernel_launcher.py:11: UserWarning: Update your `Model` call to the Keras 2 API: `Model(inputs=Tensor(\"in..., outputs=Tensor(\"re...)`\n",
            "  # This is added back by InteractiveShellApp.init_path()\n"
          ],
          "name": "stderr"
        }
      ]
    },
    {
      "cell_type": "code",
      "metadata": {
        "id": "fTo6SV3dGC9m",
        "colab_type": "code",
        "colab": {
          "base_uri": "https://localhost:8080/",
          "height": 1000
        },
        "outputId": "f027f1f2-03fe-479c-adc0-0a5ec609d3e7"
      },
      "source": [
        "model.summary()"
      ],
      "execution_count": 40,
      "outputs": [
        {
          "output_type": "stream",
          "text": [
            "Model: \"model_1\"\n",
            "_________________________________________________________________\n",
            "Layer (type)                 Output Shape              Param #   \n",
            "=================================================================\n",
            "input_1 (InputLayer)         (None, 128, 128, 3)       0         \n",
            "_________________________________________________________________\n",
            "conv1_pad (ZeroPadding2D)    (None, 129, 129, 3)       0         \n",
            "_________________________________________________________________\n",
            "conv1 (Conv2D)               (None, 64, 64, 32)        864       \n",
            "_________________________________________________________________\n",
            "conv1_bn (BatchNormalization (None, 64, 64, 32)        128       \n",
            "_________________________________________________________________\n",
            "conv1_relu (ReLU)            (None, 64, 64, 32)        0         \n",
            "_________________________________________________________________\n",
            "conv_dw_1 (DepthwiseConv2D)  (None, 64, 64, 32)        288       \n",
            "_________________________________________________________________\n",
            "conv_dw_1_bn (BatchNormaliza (None, 64, 64, 32)        128       \n",
            "_________________________________________________________________\n",
            "conv_dw_1_relu (ReLU)        (None, 64, 64, 32)        0         \n",
            "_________________________________________________________________\n",
            "conv_pw_1 (Conv2D)           (None, 64, 64, 64)        2048      \n",
            "_________________________________________________________________\n",
            "conv_pw_1_bn (BatchNormaliza (None, 64, 64, 64)        256       \n",
            "_________________________________________________________________\n",
            "conv_pw_1_relu (ReLU)        (None, 64, 64, 64)        0         \n",
            "_________________________________________________________________\n",
            "conv_pad_2 (ZeroPadding2D)   (None, 65, 65, 64)        0         \n",
            "_________________________________________________________________\n",
            "conv_dw_2 (DepthwiseConv2D)  (None, 32, 32, 64)        576       \n",
            "_________________________________________________________________\n",
            "conv_dw_2_bn (BatchNormaliza (None, 32, 32, 64)        256       \n",
            "_________________________________________________________________\n",
            "conv_dw_2_relu (ReLU)        (None, 32, 32, 64)        0         \n",
            "_________________________________________________________________\n",
            "conv_pw_2 (Conv2D)           (None, 32, 32, 128)       8192      \n",
            "_________________________________________________________________\n",
            "conv_pw_2_bn (BatchNormaliza (None, 32, 32, 128)       512       \n",
            "_________________________________________________________________\n",
            "conv_pw_2_relu (ReLU)        (None, 32, 32, 128)       0         \n",
            "_________________________________________________________________\n",
            "conv_dw_3 (DepthwiseConv2D)  (None, 32, 32, 128)       1152      \n",
            "_________________________________________________________________\n",
            "conv_dw_3_bn (BatchNormaliza (None, 32, 32, 128)       512       \n",
            "_________________________________________________________________\n",
            "conv_dw_3_relu (ReLU)        (None, 32, 32, 128)       0         \n",
            "_________________________________________________________________\n",
            "conv_pw_3 (Conv2D)           (None, 32, 32, 128)       16384     \n",
            "_________________________________________________________________\n",
            "conv_pw_3_bn (BatchNormaliza (None, 32, 32, 128)       512       \n",
            "_________________________________________________________________\n",
            "conv_pw_3_relu (ReLU)        (None, 32, 32, 128)       0         \n",
            "_________________________________________________________________\n",
            "conv_pad_4 (ZeroPadding2D)   (None, 33, 33, 128)       0         \n",
            "_________________________________________________________________\n",
            "conv_dw_4 (DepthwiseConv2D)  (None, 16, 16, 128)       1152      \n",
            "_________________________________________________________________\n",
            "conv_dw_4_bn (BatchNormaliza (None, 16, 16, 128)       512       \n",
            "_________________________________________________________________\n",
            "conv_dw_4_relu (ReLU)        (None, 16, 16, 128)       0         \n",
            "_________________________________________________________________\n",
            "conv_pw_4 (Conv2D)           (None, 16, 16, 256)       32768     \n",
            "_________________________________________________________________\n",
            "conv_pw_4_bn (BatchNormaliza (None, 16, 16, 256)       1024      \n",
            "_________________________________________________________________\n",
            "conv_pw_4_relu (ReLU)        (None, 16, 16, 256)       0         \n",
            "_________________________________________________________________\n",
            "conv_dw_5 (DepthwiseConv2D)  (None, 16, 16, 256)       2304      \n",
            "_________________________________________________________________\n",
            "conv_dw_5_bn (BatchNormaliza (None, 16, 16, 256)       1024      \n",
            "_________________________________________________________________\n",
            "conv_dw_5_relu (ReLU)        (None, 16, 16, 256)       0         \n",
            "_________________________________________________________________\n",
            "conv_pw_5 (Conv2D)           (None, 16, 16, 256)       65536     \n",
            "_________________________________________________________________\n",
            "conv_pw_5_bn (BatchNormaliza (None, 16, 16, 256)       1024      \n",
            "_________________________________________________________________\n",
            "conv_pw_5_relu (ReLU)        (None, 16, 16, 256)       0         \n",
            "_________________________________________________________________\n",
            "conv_pad_6 (ZeroPadding2D)   (None, 17, 17, 256)       0         \n",
            "_________________________________________________________________\n",
            "conv_dw_6 (DepthwiseConv2D)  (None, 8, 8, 256)         2304      \n",
            "_________________________________________________________________\n",
            "conv_dw_6_bn (BatchNormaliza (None, 8, 8, 256)         1024      \n",
            "_________________________________________________________________\n",
            "conv_dw_6_relu (ReLU)        (None, 8, 8, 256)         0         \n",
            "_________________________________________________________________\n",
            "conv_pw_6 (Conv2D)           (None, 8, 8, 512)         131072    \n",
            "_________________________________________________________________\n",
            "conv_pw_6_bn (BatchNormaliza (None, 8, 8, 512)         2048      \n",
            "_________________________________________________________________\n",
            "conv_pw_6_relu (ReLU)        (None, 8, 8, 512)         0         \n",
            "_________________________________________________________________\n",
            "conv_dw_7 (DepthwiseConv2D)  (None, 8, 8, 512)         4608      \n",
            "_________________________________________________________________\n",
            "conv_dw_7_bn (BatchNormaliza (None, 8, 8, 512)         2048      \n",
            "_________________________________________________________________\n",
            "conv_dw_7_relu (ReLU)        (None, 8, 8, 512)         0         \n",
            "_________________________________________________________________\n",
            "conv_pw_7 (Conv2D)           (None, 8, 8, 512)         262144    \n",
            "_________________________________________________________________\n",
            "conv_pw_7_bn (BatchNormaliza (None, 8, 8, 512)         2048      \n",
            "_________________________________________________________________\n",
            "conv_pw_7_relu (ReLU)        (None, 8, 8, 512)         0         \n",
            "_________________________________________________________________\n",
            "conv_dw_8 (DepthwiseConv2D)  (None, 8, 8, 512)         4608      \n",
            "_________________________________________________________________\n",
            "conv_dw_8_bn (BatchNormaliza (None, 8, 8, 512)         2048      \n",
            "_________________________________________________________________\n",
            "conv_dw_8_relu (ReLU)        (None, 8, 8, 512)         0         \n",
            "_________________________________________________________________\n",
            "conv_pw_8 (Conv2D)           (None, 8, 8, 512)         262144    \n",
            "_________________________________________________________________\n",
            "conv_pw_8_bn (BatchNormaliza (None, 8, 8, 512)         2048      \n",
            "_________________________________________________________________\n",
            "conv_pw_8_relu (ReLU)        (None, 8, 8, 512)         0         \n",
            "_________________________________________________________________\n",
            "conv_dw_9 (DepthwiseConv2D)  (None, 8, 8, 512)         4608      \n",
            "_________________________________________________________________\n",
            "conv_dw_9_bn (BatchNormaliza (None, 8, 8, 512)         2048      \n",
            "_________________________________________________________________\n",
            "conv_dw_9_relu (ReLU)        (None, 8, 8, 512)         0         \n",
            "_________________________________________________________________\n",
            "conv_pw_9 (Conv2D)           (None, 8, 8, 512)         262144    \n",
            "_________________________________________________________________\n",
            "conv_pw_9_bn (BatchNormaliza (None, 8, 8, 512)         2048      \n",
            "_________________________________________________________________\n",
            "conv_pw_9_relu (ReLU)        (None, 8, 8, 512)         0         \n",
            "_________________________________________________________________\n",
            "conv_dw_10 (DepthwiseConv2D) (None, 8, 8, 512)         4608      \n",
            "_________________________________________________________________\n",
            "conv_dw_10_bn (BatchNormaliz (None, 8, 8, 512)         2048      \n",
            "_________________________________________________________________\n",
            "conv_dw_10_relu (ReLU)       (None, 8, 8, 512)         0         \n",
            "_________________________________________________________________\n",
            "conv_pw_10 (Conv2D)          (None, 8, 8, 512)         262144    \n",
            "_________________________________________________________________\n",
            "conv_pw_10_bn (BatchNormaliz (None, 8, 8, 512)         2048      \n",
            "_________________________________________________________________\n",
            "conv_pw_10_relu (ReLU)       (None, 8, 8, 512)         0         \n",
            "_________________________________________________________________\n",
            "conv_dw_11 (DepthwiseConv2D) (None, 8, 8, 512)         4608      \n",
            "_________________________________________________________________\n",
            "conv_dw_11_bn (BatchNormaliz (None, 8, 8, 512)         2048      \n",
            "_________________________________________________________________\n",
            "conv_dw_11_relu (ReLU)       (None, 8, 8, 512)         0         \n",
            "_________________________________________________________________\n",
            "conv_pw_11 (Conv2D)          (None, 8, 8, 512)         262144    \n",
            "_________________________________________________________________\n",
            "conv_pw_11_bn (BatchNormaliz (None, 8, 8, 512)         2048      \n",
            "_________________________________________________________________\n",
            "conv_pw_11_relu (ReLU)       (None, 8, 8, 512)         0         \n",
            "_________________________________________________________________\n",
            "conv_pad_12 (ZeroPadding2D)  (None, 9, 9, 512)         0         \n",
            "_________________________________________________________________\n",
            "conv_dw_12 (DepthwiseConv2D) (None, 4, 4, 512)         4608      \n",
            "_________________________________________________________________\n",
            "conv_dw_12_bn (BatchNormaliz (None, 4, 4, 512)         2048      \n",
            "_________________________________________________________________\n",
            "conv_dw_12_relu (ReLU)       (None, 4, 4, 512)         0         \n",
            "_________________________________________________________________\n",
            "conv_pw_12 (Conv2D)          (None, 4, 4, 1024)        524288    \n",
            "_________________________________________________________________\n",
            "conv_pw_12_bn (BatchNormaliz (None, 4, 4, 1024)        4096      \n",
            "_________________________________________________________________\n",
            "conv_pw_12_relu (ReLU)       (None, 4, 4, 1024)        0         \n",
            "_________________________________________________________________\n",
            "conv_dw_13 (DepthwiseConv2D) (None, 4, 4, 1024)        9216      \n",
            "_________________________________________________________________\n",
            "conv_dw_13_bn (BatchNormaliz (None, 4, 4, 1024)        4096      \n",
            "_________________________________________________________________\n",
            "conv_dw_13_relu (ReLU)       (None, 4, 4, 1024)        0         \n",
            "_________________________________________________________________\n",
            "conv_pw_13 (Conv2D)          (None, 4, 4, 1024)        1048576   \n",
            "_________________________________________________________________\n",
            "conv_pw_13_bn (BatchNormaliz (None, 4, 4, 1024)        4096      \n",
            "_________________________________________________________________\n",
            "conv_pw_13_relu (ReLU)       (None, 4, 4, 1024)        0         \n",
            "_________________________________________________________________\n",
            "coords (Conv2D)              (None, 1, 1, 4)           65540     \n",
            "_________________________________________________________________\n",
            "reshape_1 (Reshape)          (None, 4)                 0         \n",
            "=================================================================\n",
            "Total params: 3,294,404\n",
            "Trainable params: 65,540\n",
            "Non-trainable params: 3,228,864\n",
            "_________________________________________________________________\n"
          ],
          "name": "stdout"
        }
      ]
    },
    {
      "cell_type": "code",
      "metadata": {
        "id": "7WdiV7BqGDAn",
        "colab_type": "code",
        "colab": {}
      },
      "source": [
        ""
      ],
      "execution_count": 0,
      "outputs": []
    },
    {
      "cell_type": "markdown",
      "metadata": {
        "colab_type": "text",
        "id": "nsQSHWgpWGjC"
      },
      "source": [
        "### Define a custom loss function IoU which calculates Intersection Over Union"
      ]
    },
    {
      "cell_type": "code",
      "metadata": {
        "colab_type": "code",
        "id": "7Ig_Gsn-WGjD",
        "colab": {}
      },
      "source": [
        "def loss(gt,pred):\n",
        "    intersections = 0\n",
        "    unions = 0\n",
        "    diff_width = np.minimum(gt[:,0] + gt[:,2], pred[:,0] + pred[:,2]) - np.maximum(gt[:,0], pred[:,0])\n",
        "    diff_height = np.minimum(gt[:,1] + gt[:,3], pred[:,1] + pred[:,3]) - np.maximum(gt[:,1], pred[:,1])\n",
        "    intersection = diff_width * diff_height\n",
        "    \n",
        "    # Compute union\n",
        "    area_gt = gt[:,2] * gt[:,3]\n",
        "    area_pred = pred[:,2] * pred[:,3]\n",
        "    union = area_gt + area_pred - intersection\n",
        "\n",
        "#     Compute intersection and union over multiple boxes\n",
        "    for j, _ in enumerate(union):\n",
        "        if union[j] > 0 and intersection[j] > 0 and union[j] >= intersection[j]:\n",
        "            intersections += intersection[j]\n",
        "            unions += union[j]\n",
        "\n",
        "    # Compute IOU. Use epsilon to prevent division by zero\n",
        "    iou = np.round(intersections / (unions + epsilon()), 4)\n",
        "    iou = iou.astype(np.float32)\n",
        "    return iou\n",
        "\n",
        "def IoU(y_true, y_pred):\n",
        "    iou = tf.py_func(loss, [y_true, y_pred], tf.float32)\n",
        "    return iou"
      ],
      "execution_count": 0,
      "outputs": []
    },
    {
      "cell_type": "code",
      "metadata": {
        "id": "SKKB0c13Rp46",
        "colab_type": "code",
        "colab": {
          "base_uri": "https://localhost:8080/",
          "height": 34
        },
        "outputId": "570a9cfb-39fa-4d00-af1a-fbdd550e82a8"
      },
      "source": [
        "IoU"
      ],
      "execution_count": 48,
      "outputs": [
        {
          "output_type": "execute_result",
          "data": {
            "text/plain": [
              "<function __main__.IoU>"
            ]
          },
          "metadata": {
            "tags": []
          },
          "execution_count": 48
        }
      ]
    },
    {
      "cell_type": "markdown",
      "metadata": {
        "colab_type": "text",
        "id": "2Zs7VcSVWGjF"
      },
      "source": [
        "### Write model.compile function & model.fit function with: <br>\n",
        "1. Optimizer = Adam, Loss = 'mse' and metrics = IoU\n",
        "2. Epochs = 30, batch_size = 32, verbose = 1"
      ]
    },
    {
      "cell_type": "code",
      "metadata": {
        "colab_type": "code",
        "id": "f35dLEJlWGjG",
        "colab": {
          "base_uri": "https://localhost:8080/",
          "height": 262
        },
        "outputId": "c3becc7b-8018-4fa2-a4cc-e9227008575c"
      },
      "source": [
        "# model.compile function\n",
        "model.compile(optimizer='adam', \n",
        "                    loss=('mse'),\n",
        "                    metrics=[IoU])"
      ],
      "execution_count": 50,
      "outputs": [
        {
          "output_type": "stream",
          "text": [
            "WARNING:tensorflow:From <ipython-input-41-a811784d62ce>:25: py_func (from tensorflow.python.ops.script_ops) is deprecated and will be removed in a future version.\n",
            "Instructions for updating:\n",
            "tf.py_func is deprecated in TF V2. Instead, there are two\n",
            "    options available in V2.\n",
            "    - tf.py_function takes a python function which manipulates tf eager\n",
            "    tensors instead of numpy arrays. It's easy to convert a tf eager tensor to\n",
            "    an ndarray (just call tensor.numpy()) but having access to eager tensors\n",
            "    means `tf.py_function`s can use accelerators such as GPUs as well as\n",
            "    being differentiable using a gradient tape.\n",
            "    - tf.numpy_function maintains the semantics of the deprecated tf.py_func\n",
            "    (it is not differentiable, and manipulates numpy arrays). It drops the\n",
            "    stateful argument making all functions stateful.\n",
            "    \n"
          ],
          "name": "stdout"
        }
      ]
    },
    {
      "cell_type": "code",
      "metadata": {
        "id": "iApEBhC-Pz-I",
        "colab_type": "code",
        "colab": {}
      },
      "source": [
        "#model.fit function"
      ],
      "execution_count": 0,
      "outputs": []
    },
    {
      "cell_type": "code",
      "metadata": {
        "id": "yZblxvjOP0Bj",
        "colab_type": "code",
        "colab": {
          "base_uri": "https://localhost:8080/",
          "height": 1000
        },
        "outputId": "3ff2f1b9-7a36-476d-da4c-41a61663b15f"
      },
      "source": [
        "model.fit(batch_images,coords, epochs=30,batch_size = 32, verbose = 1)"
      ],
      "execution_count": 54,
      "outputs": [
        {
          "output_type": "stream",
          "text": [
            "Epoch 1/30\n",
            "173/173 [==============================] - 3s 16ms/step - loss: 3462.5225 - IoU: 0.0830\n",
            "Epoch 2/30\n",
            "173/173 [==============================] - 3s 16ms/step - loss: 689.9602 - IoU: 0.4314\n",
            "Epoch 3/30\n",
            "173/173 [==============================] - 3s 16ms/step - loss: 463.6019 - IoU: 0.5765\n",
            "Epoch 4/30\n",
            "173/173 [==============================] - 3s 16ms/step - loss: 596.0833 - IoU: 0.5471\n",
            "Epoch 5/30\n",
            "173/173 [==============================] - 3s 15ms/step - loss: 364.7873 - IoU: 0.6082\n",
            "Epoch 6/30\n",
            "173/173 [==============================] - 3s 16ms/step - loss: 217.6249 - IoU: 0.6461\n",
            "Epoch 7/30\n",
            "173/173 [==============================] - 3s 16ms/step - loss: 212.4190 - IoU: 0.6438\n",
            "Epoch 8/30\n",
            "173/173 [==============================] - 3s 16ms/step - loss: 188.1065 - IoU: 0.6725\n",
            "Epoch 9/30\n",
            "173/173 [==============================] - 3s 16ms/step - loss: 149.0324 - IoU: 0.7184\n",
            "Epoch 10/30\n",
            "173/173 [==============================] - 3s 16ms/step - loss: 137.8110 - IoU: 0.7328\n",
            "Epoch 11/30\n",
            "173/173 [==============================] - 3s 16ms/step - loss: 136.3818 - IoU: 0.7359\n",
            "Epoch 12/30\n",
            "173/173 [==============================] - 3s 16ms/step - loss: 114.4803 - IoU: 0.7505\n",
            "Epoch 13/30\n",
            "173/173 [==============================] - 3s 17ms/step - loss: 106.7946 - IoU: 0.7597\n",
            "Epoch 14/30\n",
            "173/173 [==============================] - 3s 17ms/step - loss: 96.6352 - IoU: 0.7657\n",
            "Epoch 15/30\n",
            "173/173 [==============================] - 3s 16ms/step - loss: 97.7768 - IoU: 0.7625\n",
            "Epoch 16/30\n",
            "173/173 [==============================] - 3s 16ms/step - loss: 85.1572 - IoU: 0.7804\n",
            "Epoch 17/30\n",
            "173/173 [==============================] - 3s 16ms/step - loss: 86.4589 - IoU: 0.7800\n",
            "Epoch 18/30\n",
            "173/173 [==============================] - 3s 16ms/step - loss: 76.1562 - IoU: 0.7875\n",
            "Epoch 19/30\n",
            "173/173 [==============================] - 3s 16ms/step - loss: 76.2261 - IoU: 0.7874\n",
            "Epoch 20/30\n",
            "173/173 [==============================] - 3s 16ms/step - loss: 73.8093 - IoU: 0.7957\n",
            "Epoch 21/30\n",
            "173/173 [==============================] - 3s 16ms/step - loss: 70.9686 - IoU: 0.8045\n",
            "Epoch 22/30\n",
            "173/173 [==============================] - 3s 16ms/step - loss: 71.9737 - IoU: 0.7931\n",
            "Epoch 23/30\n",
            "173/173 [==============================] - 3s 16ms/step - loss: 69.4029 - IoU: 0.8067\n",
            "Epoch 24/30\n",
            "173/173 [==============================] - 3s 16ms/step - loss: 65.9537 - IoU: 0.8107\n",
            "Epoch 25/30\n",
            "173/173 [==============================] - 3s 16ms/step - loss: 68.7897 - IoU: 0.8073\n",
            "Epoch 26/30\n",
            "173/173 [==============================] - 3s 16ms/step - loss: 65.7860 - IoU: 0.8078\n",
            "Epoch 27/30\n",
            "173/173 [==============================] - 3s 16ms/step - loss: 64.4492 - IoU: 0.8040\n",
            "Epoch 28/30\n",
            "173/173 [==============================] - 3s 16ms/step - loss: 68.1531 - IoU: 0.8043\n",
            "Epoch 29/30\n",
            "173/173 [==============================] - 3s 16ms/step - loss: 62.3260 - IoU: 0.8192\n",
            "Epoch 30/30\n",
            "173/173 [==============================] - 3s 16ms/step - loss: 61.1235 - IoU: 0.8221\n"
          ],
          "name": "stdout"
        },
        {
          "output_type": "execute_result",
          "data": {
            "text/plain": [
              "<keras.callbacks.History at 0x7fce8ddd26a0>"
            ]
          },
          "metadata": {
            "tags": []
          },
          "execution_count": 54
        }
      ]
    },
    {
      "cell_type": "code",
      "metadata": {
        "id": "PYhqxnj2Tzbn",
        "colab_type": "code",
        "colab": {}
      },
      "source": [
        "model.save('racoon_detect.h5')"
      ],
      "execution_count": 0,
      "outputs": []
    },
    {
      "cell_type": "markdown",
      "metadata": {
        "colab_type": "text",
        "id": "II1itmqiWGjK"
      },
      "source": [
        "### Pick a test image from the given data"
      ]
    },
    {
      "cell_type": "code",
      "metadata": {
        "colab_type": "code",
        "id": "0ULErYeSWGjK",
        "colab": {}
      },
      "source": [
        "import cv2"
      ],
      "execution_count": 0,
      "outputs": []
    },
    {
      "cell_type": "code",
      "metadata": {
        "id": "RuY24K9YVWpL",
        "colab_type": "code",
        "colab": {
          "base_uri": "https://localhost:8080/",
          "height": 864
        },
        "outputId": "d3a66db8-0a9c-46a7-bad0-1266fd06b253"
      },
      "source": [
        "#read image\n",
        "r1=cv2.imread('/content/drive/My Drive/AIML/ACV1/Lab12Jan_Racoon/images/raccoon-96.jpg')\n",
        "r1"
      ],
      "execution_count": 167,
      "outputs": [
        {
          "output_type": "execute_result",
          "data": {
            "text/plain": [
              "array([[[109, 174, 195],\n",
              "        [109, 172, 193],\n",
              "        [133, 192, 212],\n",
              "        ...,\n",
              "        [ 72, 118, 152],\n",
              "        [ 20,  66, 100],\n",
              "        [ 97, 143, 177]],\n",
              "\n",
              "       [[137, 191, 214],\n",
              "        [115, 169, 192],\n",
              "        [101, 153, 176],\n",
              "        ...,\n",
              "        [ 73, 119, 153],\n",
              "        [ 52,  98, 132],\n",
              "        [ 99, 145, 179]],\n",
              "\n",
              "       [[131, 166, 192],\n",
              "        [ 75, 112, 138],\n",
              "        [ 65, 103, 127],\n",
              "        ...,\n",
              "        [ 89, 135, 169],\n",
              "        [ 80, 126, 160],\n",
              "        [ 95, 141, 175]],\n",
              "\n",
              "       ...,\n",
              "\n",
              "       [[ 90, 138, 166],\n",
              "        [101, 149, 177],\n",
              "        [105, 153, 181],\n",
              "        ...,\n",
              "        [ 34,  33,  37],\n",
              "        [ 36,  35,  39],\n",
              "        [ 38,  37,  41]],\n",
              "\n",
              "       [[ 97, 145, 173],\n",
              "        [108, 156, 184],\n",
              "        [111, 159, 187],\n",
              "        ...,\n",
              "        [ 33,  32,  36],\n",
              "        [ 36,  35,  39],\n",
              "        [ 37,  36,  40]],\n",
              "\n",
              "       [[102, 150, 178],\n",
              "        [113, 161, 189],\n",
              "        [117, 165, 193],\n",
              "        ...,\n",
              "        [ 33,  32,  36],\n",
              "        [ 35,  34,  38],\n",
              "        [ 37,  36,  40]]], dtype=uint8)"
            ]
          },
          "metadata": {
            "tags": []
          },
          "execution_count": 167
        }
      ]
    },
    {
      "cell_type": "code",
      "metadata": {
        "id": "ov7hIw3LhTAd",
        "colab_type": "code",
        "colab": {
          "base_uri": "https://localhost:8080/",
          "height": 34
        },
        "outputId": "414591c6-2a31-4843-b65f-4ce9e2a7c932"
      },
      "source": [
        "r1.shape"
      ],
      "execution_count": 168,
      "outputs": [
        {
          "output_type": "execute_result",
          "data": {
            "text/plain": [
              "(219, 230, 3)"
            ]
          },
          "metadata": {
            "tags": []
          },
          "execution_count": 168
        }
      ]
    },
    {
      "cell_type": "code",
      "metadata": {
        "id": "9dRvt7tbdv3I",
        "colab_type": "code",
        "colab": {}
      },
      "source": [
        "image_height,image_width,_=r1.shape"
      ],
      "execution_count": 0,
      "outputs": []
    },
    {
      "cell_type": "code",
      "metadata": {
        "id": "Re-hyEs2hEVv",
        "colab_type": "code",
        "colab": {
          "base_uri": "https://localhost:8080/",
          "height": 34
        },
        "outputId": "aa8762ed-71fd-4b94-b8e9-fc4ae80ec95e"
      },
      "source": [
        "image_height"
      ],
      "execution_count": 170,
      "outputs": [
        {
          "output_type": "execute_result",
          "data": {
            "text/plain": [
              "219"
            ]
          },
          "metadata": {
            "tags": []
          },
          "execution_count": 170
        }
      ]
    },
    {
      "cell_type": "code",
      "metadata": {
        "id": "28mHwY0ehQwW",
        "colab_type": "code",
        "colab": {
          "base_uri": "https://localhost:8080/",
          "height": 34
        },
        "outputId": "c436e90a-7c0f-486d-d5d5-d157ec872a01"
      },
      "source": [
        "image_width"
      ],
      "execution_count": 171,
      "outputs": [
        {
          "output_type": "execute_result",
          "data": {
            "text/plain": [
              "230"
            ]
          },
          "metadata": {
            "tags": []
          },
          "execution_count": 171
        }
      ]
    },
    {
      "cell_type": "markdown",
      "metadata": {
        "colab_type": "text",
        "id": "h99SC9MjWGjO"
      },
      "source": [
        "### Resize the image to 128 * 128 and preprocess the image for the MobileNet model"
      ]
    },
    {
      "cell_type": "code",
      "metadata": {
        "id": "118VtWnKd2St",
        "colab_type": "code",
        "colab": {}
      },
      "source": [
        "r2=cv2.resize(r1,(IMAGE_SIZE,IMAGE_SIZE))"
      ],
      "execution_count": 0,
      "outputs": []
    },
    {
      "cell_type": "code",
      "metadata": {
        "id": "Ykqt1j0YfL3g",
        "colab_type": "code",
        "colab": {
          "base_uri": "https://localhost:8080/",
          "height": 34
        },
        "outputId": "429c5a36-e5c7-4a88-f4a8-f06790712144"
      },
      "source": [
        "r2.shape"
      ],
      "execution_count": 173,
      "outputs": [
        {
          "output_type": "execute_result",
          "data": {
            "text/plain": [
              "(128, 128, 3)"
            ]
          },
          "metadata": {
            "tags": []
          },
          "execution_count": 173
        }
      ]
    },
    {
      "cell_type": "code",
      "metadata": {
        "id": "8wys5EbYgrSr",
        "colab_type": "code",
        "colab": {
          "base_uri": "https://localhost:8080/",
          "height": 864
        },
        "outputId": "6e1eda87-61cf-44bf-de0d-f47fad31756c"
      },
      "source": [
        "#unscaled image\n",
        "r2"
      ],
      "execution_count": 174,
      "outputs": [
        {
          "output_type": "execute_result",
          "data": {
            "text/plain": [
              "array([[[116, 176, 198],\n",
              "        [125, 181, 202],\n",
              "        [124, 173, 193],\n",
              "        ...,\n",
              "        [ 94, 140, 174],\n",
              "        [ 76, 123, 156],\n",
              "        [ 71, 117, 151]],\n",
              "\n",
              "       [[107, 142, 168],\n",
              "        [ 85, 123, 147],\n",
              "        [171, 214, 235],\n",
              "        ...,\n",
              "        [ 61, 107, 141],\n",
              "        [ 88, 134, 168],\n",
              "        [ 88, 134, 168]],\n",
              "\n",
              "       [[131, 138, 167],\n",
              "        [135, 156, 181],\n",
              "        [138, 180, 200],\n",
              "        ...,\n",
              "        [ 78, 121, 154],\n",
              "        [ 81, 124, 157],\n",
              "        [ 81, 124, 157]],\n",
              "\n",
              "       ...,\n",
              "\n",
              "       [[117, 167, 195],\n",
              "        [102, 153, 181],\n",
              "        [107, 159, 189],\n",
              "        ...,\n",
              "        [ 31,  30,  32],\n",
              "        [ 31,  30,  32],\n",
              "        [ 32,  31,  33]],\n",
              "\n",
              "       [[ 94, 142, 170],\n",
              "        [106, 154, 183],\n",
              "        [103, 153, 183],\n",
              "        ...,\n",
              "        [ 29,  28,  32],\n",
              "        [ 33,  32,  36],\n",
              "        [ 37,  36,  40]],\n",
              "\n",
              "       [[105, 153, 181],\n",
              "        [115, 163, 191],\n",
              "        [100, 150, 180],\n",
              "        ...,\n",
              "        [ 30,  29,  33],\n",
              "        [ 33,  31,  35],\n",
              "        [ 36,  35,  39]]], dtype=uint8)"
            ]
          },
          "metadata": {
            "tags": []
          },
          "execution_count": 174
        }
      ]
    },
    {
      "cell_type": "markdown",
      "metadata": {
        "colab_type": "text",
        "id": "aGK4IjdaWGjR"
      },
      "source": [
        "### Predict the coordinates of the bounding box for the given test image"
      ]
    },
    {
      "cell_type": "code",
      "metadata": {
        "colab_type": "code",
        "id": "abnXH5F7WGjS",
        "colab": {}
      },
      "source": [
        "#scaled image\n",
        "r2_pp=preprocess_input(np.array(r2,dtype=np.float32))"
      ],
      "execution_count": 0,
      "outputs": []
    },
    {
      "cell_type": "code",
      "metadata": {
        "id": "54x5Gbo5fOzp",
        "colab_type": "code",
        "colab": {
          "base_uri": "https://localhost:8080/",
          "height": 864
        },
        "outputId": "8403f819-0224-4612-cbc7-d16b822f6f0d"
      },
      "source": [
        "r2_pp"
      ],
      "execution_count": 176,
      "outputs": [
        {
          "output_type": "execute_result",
          "data": {
            "text/plain": [
              "array([[[-0.09019607,  0.3803922 ,  0.5529412 ],\n",
              "        [-0.01960784,  0.41960788,  0.58431375],\n",
              "        [-0.02745098,  0.35686278,  0.5137255 ],\n",
              "        ...,\n",
              "        [-0.26274508,  0.09803927,  0.36470592],\n",
              "        [-0.40392154, -0.03529412,  0.22352946],\n",
              "        [-0.44313723, -0.08235294,  0.18431377]],\n",
              "\n",
              "       [[-0.1607843 ,  0.11372554,  0.3176471 ],\n",
              "        [-0.3333333 , -0.03529412,  0.15294123],\n",
              "        [ 0.3411765 ,  0.6784314 ,  0.84313726],\n",
              "        ...,\n",
              "        [-0.52156866, -0.1607843 ,  0.10588241],\n",
              "        [-0.3098039 ,  0.05098045,  0.3176471 ],\n",
              "        [-0.3098039 ,  0.05098045,  0.3176471 ]],\n",
              "\n",
              "       [[ 0.02745104,  0.082353  ,  0.30980396],\n",
              "        [ 0.05882359,  0.22352946,  0.41960788],\n",
              "        [ 0.082353  ,  0.41176474,  0.5686275 ],\n",
              "        ...,\n",
              "        [-0.38823527, -0.05098039,  0.20784318],\n",
              "        [-0.36470586, -0.02745098,  0.2313726 ],\n",
              "        [-0.36470586, -0.02745098,  0.2313726 ]],\n",
              "\n",
              "       ...,\n",
              "\n",
              "       [[-0.08235294,  0.30980396,  0.5294118 ],\n",
              "        [-0.19999999,  0.20000005,  0.41960788],\n",
              "        [-0.1607843 ,  0.24705887,  0.48235297],\n",
              "        ...,\n",
              "        [-0.75686276, -0.7647059 , -0.7490196 ],\n",
              "        [-0.75686276, -0.7647059 , -0.7490196 ],\n",
              "        [-0.7490196 , -0.75686276, -0.7411765 ]],\n",
              "\n",
              "       [[-0.26274508,  0.11372554,  0.33333337],\n",
              "        [-0.16862744,  0.20784318,  0.43529415],\n",
              "        [-0.19215685,  0.20000005,  0.43529415],\n",
              "        ...,\n",
              "        [-0.77254903, -0.78039217, -0.7490196 ],\n",
              "        [-0.7411765 , -0.7490196 , -0.7176471 ],\n",
              "        [-0.70980394, -0.7176471 , -0.6862745 ]],\n",
              "\n",
              "       [[-0.17647058,  0.20000005,  0.41960788],\n",
              "        [-0.09803921,  0.27843142,  0.49803925],\n",
              "        [-0.21568626,  0.17647064,  0.41176474],\n",
              "        ...,\n",
              "        [-0.7647059 , -0.77254903, -0.7411765 ],\n",
              "        [-0.7411765 , -0.75686276, -0.7254902 ],\n",
              "        [-0.7176471 , -0.7254902 , -0.69411767]]], dtype=float32)"
            ]
          },
          "metadata": {
            "tags": []
          },
          "execution_count": 176
        }
      ]
    },
    {
      "cell_type": "code",
      "metadata": {
        "id": "Jne-_pnwf8Sa",
        "colab_type": "code",
        "colab": {}
      },
      "source": [
        "region = model.predict(np.array([r2_pp]))[0]"
      ],
      "execution_count": 0,
      "outputs": []
    },
    {
      "cell_type": "code",
      "metadata": {
        "id": "Rfh11yfYgH4L",
        "colab_type": "code",
        "colab": {
          "base_uri": "https://localhost:8080/",
          "height": 34
        },
        "outputId": "aa53db76-08dc-4aef-982b-fe72ee7b28e7"
      },
      "source": [
        "region"
      ],
      "execution_count": 178,
      "outputs": [
        {
          "output_type": "execute_result",
          "data": {
            "text/plain": [
              "array([ 19.299526,  13.338624, 117.08821 , 115.61782 ], dtype=float32)"
            ]
          },
          "metadata": {
            "tags": []
          },
          "execution_count": 178
        }
      ]
    },
    {
      "cell_type": "markdown",
      "metadata": {
        "colab_type": "text",
        "id": "CXbjVdLWWGjW"
      },
      "source": [
        "### Plot the test image using .imshow and draw a boundary box around the image with the coordinates obtained from the model"
      ]
    },
    {
      "cell_type": "code",
      "metadata": {
        "colab_type": "code",
        "id": "t4Ah05MlWGjY",
        "colab": {
          "base_uri": "https://localhost:8080/",
          "height": 269
        },
        "outputId": "6187aef8-2bdb-4671-fc1f-7793340438ef"
      },
      "source": [
        "x0 = int(region[0] * image_width / IMAGE_SIZE) # Scale the BBox\n",
        "y0 = int(region[1] * image_height / IMAGE_SIZE)\n",
        "\n",
        "x1 = int((region[2]) * image_width / IMAGE_SIZE)\n",
        "y1 = int((region[3]) * image_height / IMAGE_SIZE)\n",
        "\n",
        "\n",
        "import matplotlib.pyplot as plt\n",
        "import matplotlib.patches as patches\n",
        "from PIL import Image\n",
        "import numpy as np\n",
        "\n",
        "\n",
        "# Create figure and axes\n",
        "fig,ax = plt.subplots(1)\n",
        "\n",
        "# Display the image\n",
        "ax.imshow(r1)\n",
        "\n",
        "# Create a Rectangle patch\n",
        "rect = patches.Rectangle((x0, y0), (x1 - x0) , (y1 - y0) , linewidth=2, edgecolor='r', facecolor='none')\n",
        "\n",
        "# Add the patch to the Axes\n",
        "ax.add_patch(rect)\n",
        "\n",
        "plt.show()"
      ],
      "execution_count": 182,
      "outputs": [
        {
          "output_type": "display_data",
          "data": {
            "image/png": "[encoded data removed]",
            "text/plain": [
              "<Figure size 432x288 with 1 Axes>"
            ]
          },
          "metadata": {
            "tags": []
          }
        }
      ]
    },
    {
      "cell_type": "code",
      "metadata": {
        "colab_type": "code",
        "id": "FHbIWp-D7Jyn",
        "colab": {}
      },
      "source": [
        "#Second example\n",
        "#read image\n",
        "r3=cv2.imread('/content/drive/My Drive/AIML/ACV1/Lab12Jan_Racoon/images/raccoon-103.jpg')"
      ],
      "execution_count": 0,
      "outputs": []
    },
    {
      "cell_type": "code",
      "metadata": {
        "id": "0juX-NIhkkA2",
        "colab_type": "code",
        "colab": {
          "base_uri": "https://localhost:8080/",
          "height": 34
        },
        "outputId": "d4b4a3fc-a297-4dc9-b976-9fa2c13f5f74"
      },
      "source": [
        "r3.shape"
      ],
      "execution_count": 254,
      "outputs": [
        {
          "output_type": "execute_result",
          "data": {
            "text/plain": [
              "(640, 480, 3)"
            ]
          },
          "metadata": {
            "tags": []
          },
          "execution_count": 254
        }
      ]
    },
    {
      "cell_type": "code",
      "metadata": {
        "id": "wK5M0TPikmE_",
        "colab_type": "code",
        "colab": {}
      },
      "source": [
        "image_height,image_width,_=r3.shape"
      ],
      "execution_count": 0,
      "outputs": []
    },
    {
      "cell_type": "code",
      "metadata": {
        "id": "2owEzIvhkmOK",
        "colab_type": "code",
        "colab": {
          "base_uri": "https://localhost:8080/",
          "height": 34
        },
        "outputId": "300f9b72-8a29-4400-9482-ad2faa7a4b78"
      },
      "source": [
        "image_height"
      ],
      "execution_count": 256,
      "outputs": [
        {
          "output_type": "execute_result",
          "data": {
            "text/plain": [
              "640"
            ]
          },
          "metadata": {
            "tags": []
          },
          "execution_count": 256
        }
      ]
    },
    {
      "cell_type": "code",
      "metadata": {
        "id": "WaGVvcLMk6PC",
        "colab_type": "code",
        "colab": {
          "base_uri": "https://localhost:8080/",
          "height": 34
        },
        "outputId": "9d3d545e-352c-4ad8-8ba0-5267c190cce3"
      },
      "source": [
        "image_width"
      ],
      "execution_count": 257,
      "outputs": [
        {
          "output_type": "execute_result",
          "data": {
            "text/plain": [
              "480"
            ]
          },
          "metadata": {
            "tags": []
          },
          "execution_count": 257
        }
      ]
    },
    {
      "cell_type": "code",
      "metadata": {
        "id": "8eWocencmGks",
        "colab_type": "code",
        "colab": {
          "base_uri": "https://localhost:8080/",
          "height": 34
        },
        "outputId": "5850e3e0-f4da-4df9-d64a-740e12e3ef4e"
      },
      "source": [
        "r4=cv2.resize(r3,(IMAGE_SIZE,IMAGE_SIZE))\n",
        "r4.shape"
      ],
      "execution_count": 258,
      "outputs": [
        {
          "output_type": "execute_result",
          "data": {
            "text/plain": [
              "(128, 128, 3)"
            ]
          },
          "metadata": {
            "tags": []
          },
          "execution_count": 258
        }
      ]
    },
    {
      "cell_type": "code",
      "metadata": {
        "id": "_v1Tt_pYkUuS",
        "colab_type": "code",
        "colab": {}
      },
      "source": [
        "#scaled image\n",
        "r3_pp=preprocess_input(np.array(r4,dtype=np.float32))"
      ],
      "execution_count": 0,
      "outputs": []
    },
    {
      "cell_type": "code",
      "metadata": {
        "id": "quidrAmRlSZa",
        "colab_type": "code",
        "colab": {
          "base_uri": "https://localhost:8080/",
          "height": 864
        },
        "outputId": "51fbfc52-8880-43c4-8419-7a2c82d10a68"
      },
      "source": [
        "r3_pp"
      ],
      "execution_count": 260,
      "outputs": [
        {
          "output_type": "execute_result",
          "data": {
            "text/plain": [
              "array([[[ 0.75686276,  0.81960785,  0.92156863],\n",
              "        [ 0.5372549 ,  0.6392157 ,  0.7490196 ],\n",
              "        [ 0.33333337,  0.45882356,  0.5921569 ],\n",
              "        ...,\n",
              "        [-0.16862744,  0.12156868,  0.3411765 ],\n",
              "        [-0.36470586, -0.03529412,  0.19215691],\n",
              "        [-0.40392154, -0.06666666,  0.14509809]],\n",
              "\n",
              "       [[ 0.73333335,  0.7882353 ,  0.8901961 ],\n",
              "        [ 0.6627451 ,  0.73333335,  0.8352941 ],\n",
              "        [ 0.6784314 ,  0.7490196 ,  0.85882354],\n",
              "        ...,\n",
              "        [-0.32549018, -0.08235294,  0.14509809],\n",
              "        [-0.31764704, -0.05882353,  0.14509809],\n",
              "        [-0.38039213, -0.09803921,  0.09019613]],\n",
              "\n",
              "       [[ 0.23921573,  0.34901965,  0.49803925],\n",
              "        [ 0.52156866,  0.60784316,  0.7176471 ],\n",
              "        [ 0.6313726 ,  0.7254902 ,  0.81960785],\n",
              "        ...,\n",
              "        [-0.8980392 , -0.79607844, -0.73333335],\n",
              "        [-0.9372549 , -0.8352941 , -0.77254903],\n",
              "        [-0.92156863, -0.81960785, -0.75686276]],\n",
              "\n",
              "       ...,\n",
              "\n",
              "       [[ 0.35686278,  0.33333337,  0.35686278],\n",
              "        [ 0.07450986,  0.14509809,  0.21568632],\n",
              "        [-0.31764704, -0.24705881, -0.14509803],\n",
              "        ...,\n",
              "        [-0.827451  , -0.7019608 , -0.654902  ],\n",
              "        [-0.38823527, -0.24705881, -0.1607843 ],\n",
              "        [-0.5686275 , -0.30196077, -0.15294117]],\n",
              "\n",
              "       [[ 0.6627451 ,  0.69411767,  0.73333335],\n",
              "        [ 0.30196083,  0.30980396,  0.3411765 ],\n",
              "        [ 0.32549024,  0.33333337,  0.3411765 ],\n",
              "        ...,\n",
              "        [-0.99215686, -0.85882354, -0.8039216 ],\n",
              "        [-0.5764706 , -0.3490196 , -0.27843136],\n",
              "        [-0.75686276, -0.52156866, -0.40392154]],\n",
              "\n",
              "       [[ 0.082353  ,  0.07450986,  0.09803927],\n",
              "        [ 0.15294123,  0.16078436,  0.23921573],\n",
              "        [-0.01960784,  0.10588241,  0.20000005],\n",
              "        ...,\n",
              "        [-0.7647059 , -0.5921569 , -0.4980392 ],\n",
              "        [-0.58431375, -0.27058822, -0.15294117],\n",
              "        [-0.67058825, -0.29411763, -0.12941176]]], dtype=float32)"
            ]
          },
          "metadata": {
            "tags": []
          },
          "execution_count": 260
        }
      ]
    },
    {
      "cell_type": "code",
      "metadata": {
        "id": "BrVWRtKDkds6",
        "colab_type": "code",
        "colab": {
          "base_uri": "https://localhost:8080/",
          "height": 34
        },
        "outputId": "9b10486b-4d23-43c7-e512-623f66f6cf8d"
      },
      "source": [
        "region = model.predict(np.array([r3_pp]))[0]\n",
        "region"
      ],
      "execution_count": 261,
      "outputs": [
        {
          "output_type": "execute_result",
          "data": {
            "text/plain": [
              "array([ 26.251242,   9.204805, 122.44925 , 124.886444], dtype=float32)"
            ]
          },
          "metadata": {
            "tags": []
          },
          "execution_count": 261
        }
      ]
    },
    {
      "cell_type": "code",
      "metadata": {
        "id": "PKbOQ23BlI2b",
        "colab_type": "code",
        "colab": {
          "base_uri": "https://localhost:8080/",
          "height": 269
        },
        "outputId": "4921f7d3-c59a-4b67-c2ea-0e62e67dd215"
      },
      "source": [
        "x0 = int(region[0] * image_width / IMAGE_SIZE) # Scale the BBox\n",
        "y0 = int(region[1] * image_height / IMAGE_SIZE)\n",
        "\n",
        "x1 = int((region[2]) * image_width / IMAGE_SIZE)\n",
        "y1 = int((region[3]) * image_height / IMAGE_SIZE)\n",
        "\n",
        "\n",
        "import matplotlib.pyplot as plt\n",
        "import matplotlib.patches as patches\n",
        "from PIL import Image\n",
        "import numpy as np\n",
        "\n",
        "\n",
        "# Create figure and axes\n",
        "fig,ax = plt.subplots(1)\n",
        "\n",
        "# Display the image\n",
        "ax.imshow(r3)\n",
        "\n",
        "# Create a Rectangle patch\n",
        "rect = patches.Rectangle((x0, y0), (x1 - x0) , (y1 - y0) , linewidth=2, edgecolor='r', facecolor='none')\n",
        "\n",
        "# Add the patch to the Axes\n",
        "ax.add_patch(rect)\n",
        "\n",
        "plt.show()"
      ],
      "execution_count": 262,
      "outputs": [
        {
          "output_type": "display_data",
          "data": {
            "image/png": "[encoded data removed]",
            "text/plain": [
              "<Figure size 432x288 with 1 Axes>"
            ]
          },
          "metadata": {
            "tags": []
          }
        }
      ]
    },
    {
      "cell_type": "code",
      "metadata": {
        "id": "f95ClMUHmYp8",
        "colab_type": "code",
        "colab": {}
      },
      "source": [
        ""
      ],
      "execution_count": 0,
      "outputs": []
    }
  ]
}